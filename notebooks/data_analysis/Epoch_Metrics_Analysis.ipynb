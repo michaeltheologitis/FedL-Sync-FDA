{
 "cells": [
  {
   "cell_type": "code",
   "execution_count": 105,
   "id": "48030999",
   "metadata": {
    "tags": []
   },
   "outputs": [],
   "source": [
    "import pandas as pd\n",
    "import numpy as np\n",
    "import matplotlib.pyplot as plt\n",
    "from matplotlib.backends.backend_pdf import PdfPages\n",
    "import glob"
   ]
  },
  {
   "cell_type": "markdown",
   "id": "5ca18b62-8c35-4c8d-978e-57c104b9c2cd",
   "metadata": {},
   "source": [
    "## Combine metrics"
   ]
  },
  {
   "cell_type": "code",
   "execution_count": 182,
   "id": "f7899e1b-6e09-4259-9392-5fce13838240",
   "metadata": {},
   "outputs": [],
   "source": [
    "df_epoch_metrics_tmp = pd.read_parquet(\"../../metrics/epoch_metrics/tmp\")"
   ]
  },
  {
   "cell_type": "code",
   "execution_count": 183,
   "id": "51668f57-747d-4bb7-8dba-c3ae4c6e0c98",
   "metadata": {},
   "outputs": [],
   "source": [
    "df_epoch_metrics_tmp_grid = pd.read_parquet(\"../../metrics/epoch_metrics/tmp_grid\")"
   ]
  },
  {
   "cell_type": "code",
   "execution_count": 184,
   "id": "ca32b817-3016-4f51-b169-0dc886ce015f",
   "metadata": {},
   "outputs": [],
   "source": [
    "epoch_metrics_csv_files_tmp_aris = glob.glob('../../metrics/epoch_metrics/tmp_aris/*.csv')\n",
    "df_epoch_metrics_df_tmp_aris = pd.concat([pd.read_csv(file) for file in epoch_metrics_csv_files_tmp_aris], ignore_index=True)"
   ]
  },
  {
   "cell_type": "code",
   "execution_count": 185,
   "id": "5b33c5ae-3b71-42c8-9228-e18dbdf63570",
   "metadata": {},
   "outputs": [],
   "source": [
    "df = pd.concat([df_epoch_metrics_tmp, df_epoch_metrics_tmp_grid, df_epoch_metrics_df_tmp_aris])"
   ]
  },
  {
   "cell_type": "code",
   "execution_count": null,
   "id": "175e0b95-cc40-4d4e-bfe0-bed1e96e6e8e",
   "metadata": {},
   "outputs": [],
   "source": []
  },
  {
   "cell_type": "code",
   "execution_count": null,
   "id": "5286ae6b-ca22-4829-8517-7a9f344f571f",
   "metadata": {},
   "outputs": [],
   "source": []
  },
  {
   "cell_type": "code",
   "execution_count": null,
   "id": "515e20a8-6590-4713-b282-6123b07d5814",
   "metadata": {},
   "outputs": [],
   "source": []
  },
  {
   "cell_type": "code",
   "execution_count": null,
   "id": "13ec748b-e335-43cc-b488-96f65c811fde",
   "metadata": {},
   "outputs": [],
   "source": []
  },
  {
   "cell_type": "code",
   "execution_count": null,
   "id": "8f309ece-c38d-44b4-9e2c-8fcf3843cd39",
   "metadata": {},
   "outputs": [],
   "source": []
  },
  {
   "cell_type": "markdown",
   "id": "dd8fbdc6-1e34-4a24-bc2c-3889b431983b",
   "metadata": {},
   "source": [
    "## Read from `~/metrics/epoch_metrics/` directory"
   ]
  },
  {
   "cell_type": "code",
   "execution_count": 51,
   "id": "89ff3dd8",
   "metadata": {},
   "outputs": [],
   "source": [
    "df = pd.read_parquet(\"../../metrics/epoch_metrics/combined_epoch_metrics.parquet\")"
   ]
  },
  {
   "cell_type": "code",
   "execution_count": 16,
   "id": "d2b76f69-6e37-41fc-bc21-cbb5fcf6a066",
   "metadata": {},
   "outputs": [],
   "source": [
    "df.to_parquet(\"../../metrics/epoch_metrics/combined_epoch_metrics.parquet\")"
   ]
  },
  {
   "cell_type": "markdown",
   "id": "f066b553-a1c9-4c95-9454-0816456806bf",
   "metadata": {},
   "source": [
    "# Helpful new Dataframe metrics"
   ]
  },
  {
   "cell_type": "markdown",
   "id": "a51ec99b-92b1-43b4-a82a-25235c10ef7a",
   "metadata": {},
   "source": [
    "### Add Helpful Dataset Metrics "
   ]
  },
  {
   "cell_type": "code",
   "execution_count": 186,
   "id": "219bfb00-628a-4f2c-8655-76074a971175",
   "metadata": {},
   "outputs": [],
   "source": [
    "def dataset_n_train(row):\n",
    "    if row['dataset_name'] == \"EMNIST\":\n",
    "        return 60_000\n",
    "    else:\n",
    "        return -1\n",
    "\n",
    "\n",
    "def dataset_one_sample_bytes(row):\n",
    "    if row['dataset_name'] == \"EMNIST\":\n",
    "        # input image 784 tf.float32 pixels and a tf.int32 label\n",
    "        return 4 * (784 + 1)\n",
    "    else:\n",
    "        return -1"
   ]
  },
  {
   "cell_type": "code",
   "execution_count": 187,
   "id": "6f7c40a0-7809-461f-8a65-e7deb84dd3c8",
   "metadata": {},
   "outputs": [],
   "source": [
    "df['n_train'] = df.apply(dataset_n_train, axis=1)\n",
    "df['one_sample_bytes'] = df.apply(dataset_one_sample_bytes, axis=1)"
   ]
  },
  {
   "cell_type": "markdown",
   "id": "96b67d41-76a9-461e-830f-9dccfecaf678",
   "metadata": {},
   "source": [
    "### Add Helpful model metrics"
   ]
  },
  {
   "cell_type": "code",
   "execution_count": 188,
   "id": "49a43e33-b746-46ab-be9a-8a63f30a8986",
   "metadata": {},
   "outputs": [],
   "source": [
    "df['model_bytes'] = df['nn_num_weights'] * 4"
   ]
  },
  {
   "cell_type": "markdown",
   "id": "b6c4b4b2-5b95-4f6e-bae3-389bcc45c14d",
   "metadata": {},
   "source": [
    "### Add Helpful FDA method metrics"
   ]
  },
  {
   "cell_type": "code",
   "execution_count": 189,
   "id": "13d1a75a-1031-45f1-affa-a25aa833b836",
   "metadata": {},
   "outputs": [],
   "source": [
    "def fda_local_state_bytes(row):\n",
    "    if row['fda_name'] == \"naive\":\n",
    "        return 4\n",
    "    if row['fda_name'] == \"linear\":\n",
    "        return 8\n",
    "    if row['fda_name'] == \"sketch\":\n",
    "        return row['sketch_width'] * row['sketch_depth'] * 4 + 4"
   ]
  },
  {
   "cell_type": "code",
   "execution_count": 190,
   "id": "21261b2e-0f3c-4c3b-b4db-a38f5506ed70",
   "metadata": {},
   "outputs": [],
   "source": [
    "df['local_state_bytes'] = df.apply(fda_local_state_bytes, axis=1)"
   ]
  },
  {
   "cell_type": "markdown",
   "id": "704dcdb1-4edf-4d9f-8b27-6afd7131e41e",
   "metadata": {},
   "source": [
    "### Add Total Steps\n",
    "\n",
    "total steps (a single fda step might have many normal SGD steps, batch steps)"
   ]
  },
  {
   "cell_type": "code",
   "execution_count": 191,
   "id": "ce913d44-7043-40a1-811e-bf3f1460b0c6",
   "metadata": {},
   "outputs": [],
   "source": [
    "df['total_steps'] = df['total_fda_steps'] * df['num_steps_until_rtc_check']"
   ]
  },
  {
   "cell_type": "markdown",
   "id": "99ddccbe-4051-4499-bfdb-8d716a60ccde",
   "metadata": {},
   "source": [
    "### Add communication metrics"
   ]
  },
  {
   "cell_type": "markdown",
   "id": "80bf52a9-3fe1-40d8-bbbd-29e537777aee",
   "metadata": {},
   "source": [
    "The communication bytes exchanged for model synchronization. Remember that the Clients send their models to the Server and the Server sends the global model back. This happens at the end of every round."
   ]
  },
  {
   "cell_type": "code",
   "execution_count": 192,
   "id": "8617cd85-dcc6-4bd8-a9dc-1c8e542fe437",
   "metadata": {},
   "outputs": [],
   "source": [
    "df['model_bytes_exchanged'] = df['total_rounds'] * df['model_bytes'] * df['num_clients'] * 2"
   ]
  },
  {
   "cell_type": "markdown",
   "id": "dbf6e175-a634-4ff5-8960-d0783aa668a5",
   "metadata": {},
   "source": [
    "The communication bytes exchanged for monitoring the variance. This happens at the end of every FDA step which consists of `num_steps_until_rtc_check` number of steps. "
   ]
  },
  {
   "cell_type": "code",
   "execution_count": 193,
   "id": "81640366-96eb-4a39-a364-f969873840b1",
   "metadata": {},
   "outputs": [],
   "source": [
    "df['monitoring_bytes_exchanged'] = df['local_state_bytes'] * df['total_fda_steps'] * df['num_clients']"
   ]
  },
  {
   "cell_type": "markdown",
   "id": "8df1d5ae-1a42-4c01-9ba2-83b09f217fad",
   "metadata": {},
   "source": [
    "The total communication bytes exchanged in the whole Federated Learning lifecycle."
   ]
  },
  {
   "cell_type": "code",
   "execution_count": 194,
   "id": "70fccd40-dc8d-4116-8337-cb8743ee203c",
   "metadata": {},
   "outputs": [],
   "source": [
    "df['total_communication_bytes'] = df['model_bytes_exchanged'] + df['monitoring_bytes_exchanged']"
   ]
  },
  {
   "cell_type": "code",
   "execution_count": 195,
   "id": "144c13ff-95dc-4c80-a168-41191c34d082",
   "metadata": {},
   "outputs": [],
   "source": [
    "df['total_communication_gb'] = df['total_communication_bytes'] / 10**9"
   ]
  },
  {
   "cell_type": "code",
   "execution_count": 198,
   "id": "9424fe77-27e3-43bb-99d9-ec42d0032bfd",
   "metadata": {},
   "outputs": [],
   "source": [
    "df = df.sort_values(by=['dataset_name', 'fda_name', 'nn_num_weights', 'num_clients', 'batch_size', 'num_steps_until_rtc_check', 'theta', 'epoch'])\n",
    "\n",
    "df['epoch_rounds'] = df.groupby(['dataset_name', 'fda_name', 'nn_num_weights', 'num_clients', 'batch_size', 'num_steps_until_rtc_check', 'theta'])['total_rounds'].diff()\n",
    "\n",
    "# NaN first epoch\n",
    "df['epoch_rounds'] = df['epoch_rounds'].fillna(df['total_rounds'])\n",
    "\n",
    "df['epoch_rounds'] = df['epoch_rounds'].astype(int)"
   ]
  },
  {
   "cell_type": "code",
   "execution_count": null,
   "id": "62802b4c-8476-40a6-8490-67d03f38677f",
   "metadata": {},
   "outputs": [],
   "source": []
  },
  {
   "cell_type": "markdown",
   "id": "f76394c8-62d9-46b4-9834-cbf39e908ec8",
   "metadata": {},
   "source": [
    "# Plots"
   ]
  },
  {
   "cell_type": "code",
   "execution_count": 156,
   "id": "d15db8f2-e6ac-45d7-944e-b2d15b3bb6d3",
   "metadata": {},
   "outputs": [],
   "source": [
    "# Define styles for each fda_name\n",
    "fda_styles = {\n",
    "    'naive': 'o-r',\n",
    "    'linear': 's-g',\n",
    "    'sketch': '^-b'\n",
    "}"
   ]
  },
  {
   "cell_type": "code",
   "execution_count": null,
   "id": "077e1931-6c3a-4a66-aec4-0388f39308cf",
   "metadata": {},
   "outputs": [],
   "source": []
  },
  {
   "cell_type": "code",
   "execution_count": 157,
   "id": "b7df45a2-9769-4304-8f15-1f678ef45f9d",
   "metadata": {},
   "outputs": [],
   "source": [
    "theta_values = sorted(df['theta'].unique())\n",
    "batch_size_values = sorted(df['batch_size'].unique())\n",
    "epochs_values = sorted(df['epoch'].unique())\n",
    "num_steps_until_rtc_check_values = sorted(df['num_steps_until_rtc_check'].unique())\n",
    "fda_names = sorted(df['fda_name'].unique())\n",
    "num_clients_values = sorted(df['num_clients'].unique())"
   ]
  },
  {
   "cell_type": "code",
   "execution_count": null,
   "id": "2d2c28aa-0e97-42ec-a809-2915a54d16ca",
   "metadata": {},
   "outputs": [],
   "source": []
  },
  {
   "cell_type": "code",
   "execution_count": null,
   "id": "6b08eb3d-425f-44ae-9d69-01374ba3ae8e",
   "metadata": {},
   "outputs": [],
   "source": []
  },
  {
   "cell_type": "markdown",
   "id": "720dafbd-6d87-415c-afb1-899b85d7baf4",
   "metadata": {},
   "source": [
    "# Rounds in epoch x-axis Plots\n",
    "\n",
    "Good\n",
    "\n",
    "remove  `epoch_plots`"
   ]
  },
  {
   "cell_type": "code",
   "execution_count": 204,
   "id": "1f3d71d8-f8ff-4e57-a9c9-dbf3e6725d75",
   "metadata": {},
   "outputs": [],
   "source": [
    "def rounds_in_epoch_plots(df, save_plots=False, pdf_filename='plots/rounds_in_epoch_plots.pdf'):\n",
    "    \n",
    "    if save_plots:\n",
    "        pdf = PdfPages(pdf_filename)\n",
    "    \n",
    "    for num_clients in num_clients_values: \n",
    "        for theta in theta_values:\n",
    "            for batch_size in batch_size_values:\n",
    "                for num_steps_until_rtc_check in num_steps_until_rtc_check_values:\n",
    "                    # Filter the data for the current combination\n",
    "                    filtered_data = df[(df['theta'] == theta) &\n",
    "                                       (df['batch_size'] == batch_size) &\n",
    "                                       (df['num_clients'] == num_clients) &\n",
    "                                       (df['num_steps_until_rtc_check'] == num_steps_until_rtc_check)]\n",
    "\n",
    "                    if filtered_data.empty:\n",
    "                        continue\n",
    "                    # Create subplots\n",
    "                    fig, (ax1, ax2, ax3) = plt.subplots(1, 3, figsize=(18, 4))  # Adjust the figsize as needed\n",
    "\n",
    "                    # Plot the first graph (total_communication_gb)\n",
    "                    for fda_name in filtered_data['fda_name'].unique():\n",
    "                        fda_filtered_data = filtered_data[filtered_data['fda_name'] == fda_name]\n",
    "                        fda_filtered_data = fda_filtered_data.sort_values(by='epoch')  # Sort the data by 'num_clients'\n",
    "                        \n",
    "                        ax1.plot(fda_filtered_data['epoch'], fda_filtered_data['total_communication_gb'],\n",
    "                                 fda_styles[fda_name], label=fda_name)\n",
    "\n",
    "                    ax1.set_xlabel('Epochs')\n",
    "                    ax1.set_ylabel('Communication Cost (GB)')\n",
    "                    ax1.legend()\n",
    "                    ax1.grid(True, linestyle='--', linewidth=0.5, alpha=0.5)\n",
    "                    \n",
    "\n",
    "                    # Plot the second graph (accuracy)\n",
    "                    for fda_name in filtered_data['fda_name'].unique():\n",
    "                        fda_filtered_data = filtered_data[filtered_data['fda_name'] == fda_name]\n",
    "                        fda_filtered_data = fda_filtered_data.sort_values(by='epoch')  # Sort the data by 'num_clients'\n",
    "                        \n",
    "                        ax2.plot(fda_filtered_data['epoch'], fda_filtered_data['epoch_rounds'],\n",
    "                                 fda_styles[fda_name], label=fda_name)\n",
    "\n",
    "                    ax2.set_xlabel('Epochs')\n",
    "                    ax2.set_ylabel('Rounds In Epoch')\n",
    "                    ax2.legend()\n",
    "                    ax2.grid(True, linestyle='--', linewidth=0.5, alpha=0.5)\n",
    "\n",
    "                    # Plot the second graph (accuracy)\n",
    "                    for fda_name in filtered_data['fda_name'].unique():\n",
    "                        fda_filtered_data = filtered_data[filtered_data['fda_name'] == fda_name]\n",
    "                        fda_filtered_data = fda_filtered_data.sort_values(by='epoch')  # Sort the data by 'num_clients'\n",
    "                        \n",
    "                        ax3.plot(fda_filtered_data['epoch'], fda_filtered_data['accuracy'],\n",
    "                                 fda_styles[fda_name], label=fda_name)\n",
    "\n",
    "                    # Add a single title for the entire figure\n",
    "                    title = f'Clients: {num_clients}  ,   Theta: {theta}  ,   Batch Size: {batch_size}  ,  Steps per RTC check: {num_steps_until_rtc_check}'\n",
    "                    fig.suptitle(title)\n",
    "                    ax3.set_xlabel('Epochs')\n",
    "                    ax3.set_ylabel('Accuracy')\n",
    "                    ax3.legend()\n",
    "                    \n",
    "                    # Set x-axis limits for ax2\n",
    "                    #ax2.set_yticks(np.arange(0, 1.1, 0.1))\n",
    "                    ax3.grid(True, linestyle='--', linewidth=0.5, alpha=0.5)\n",
    "                    \n",
    "                    if save_plots:\n",
    "                        # Close the current figure to prevent it from being displayed in the notebook\n",
    "                        plt.close(fig)\n",
    "\n",
    "                        pdf.savefig(fig)\n",
    "                        \n",
    "                    else:\n",
    "                        # Show the plot\n",
    "                        plt.show()\n",
    "    \n",
    "    # Close the PDF file if save_plots is True\n",
    "    if save_plots:\n",
    "        pdf.close()"
   ]
  },
  {
   "cell_type": "code",
   "execution_count": null,
   "id": "fd7634de-bd12-4d07-b895-1b4d73363415",
   "metadata": {},
   "outputs": [],
   "source": []
  },
  {
   "cell_type": "code",
   "execution_count": null,
   "id": "1153fe69-559b-42e5-a5d0-2f85ee11fa77",
   "metadata": {},
   "outputs": [],
   "source": []
  },
  {
   "cell_type": "code",
   "execution_count": null,
   "id": "55c3be5b-a516-4728-9fb5-a42ff484f818",
   "metadata": {},
   "outputs": [],
   "source": []
  },
  {
   "cell_type": "markdown",
   "id": "90d248d7",
   "metadata": {},
   "source": [
    "# Client x-axis Plots\n",
    "\n",
    "Good"
   ]
  },
  {
   "cell_type": "code",
   "execution_count": 158,
   "id": "32f1e3ba",
   "metadata": {
    "scrolled": true,
    "tags": []
   },
   "outputs": [],
   "source": [
    "def client_plots(df, save_plots=False, pdf_filename='plots/client_plots.pdf'):\n",
    "    \n",
    "    if save_plots:\n",
    "        pdf = PdfPages(pdf_filename)\n",
    "    \n",
    "    # Loop through all unique combinations of num_clients, batch_size, epochs, and num_steps_until_rtc_check\n",
    "    for theta in theta_values:\n",
    "        for epochs in epochs_values:\n",
    "            for batch_size in batch_size_values:\n",
    "                for num_steps_until_rtc_check in num_steps_until_rtc_check_values:\n",
    "                    # Filter the data for the current combination\n",
    "                    filtered_data = df[(df['theta'] == theta) &\n",
    "                                       (df['batch_size'] == batch_size) &\n",
    "                                       (df['epoch'] == epochs) &\n",
    "                                       (df['num_steps_until_rtc_check'] == num_steps_until_rtc_check)]\n",
    "\n",
    "                    if filtered_data.empty:\n",
    "                        continue\n",
    "                        \n",
    "                    # Create subplots\n",
    "                    fig, (ax1, ax2) = plt.subplots(1, 2, figsize=(12, 4))\n",
    "\n",
    "                    # Plot the first graph (total_communication_gb)\n",
    "                    for fda_name in filtered_data['fda_name'].unique():\n",
    "                        fda_filtered_data = filtered_data[filtered_data['fda_name'] == fda_name]\n",
    "                        fda_filtered_data = fda_filtered_data.sort_values(by='num_clients')  # Sort the data by 'num_clients'\n",
    "                        ax1.plot(fda_filtered_data['num_clients'], fda_filtered_data['total_communication_gb'],\n",
    "                                 fda_styles[fda_name], label=fda_name)\n",
    "\n",
    "                    ax1.set_xlabel('Number of Clients')\n",
    "                    ax1.set_ylabel('Communication Cost (GB)')\n",
    "                    ax1.legend()\n",
    "                    ax1.set_xticks(num_clients_values)\n",
    "                    ax1.grid(True, linestyle='--', linewidth=0.5, alpha=0.5)\n",
    "\n",
    "                    # Plot the second graph (accuracy)\n",
    "                    for fda_name in filtered_data['fda_name'].unique():\n",
    "                        fda_filtered_data = filtered_data[filtered_data['fda_name'] == fda_name]\n",
    "                        fda_filtered_data = fda_filtered_data.sort_values(by='num_clients')  # Sort the data by 'num_clients'\n",
    "                        ax2.plot(fda_filtered_data['num_clients'], fda_filtered_data['accuracy'],\n",
    "                                 fda_styles[fda_name], label=fda_name)\n",
    "\n",
    "                    # Add a single title for the entire figure\n",
    "                    title = f'Theta: {theta}  ,  Epochs: {epochs}  ,  Batch Size: {batch_size}  ,  Steps per RTC check: {num_steps_until_rtc_check}'\n",
    "                    fig.suptitle(title)\n",
    "                    ax2.set_xlabel('Number of Clients')\n",
    "                    ax2.set_ylabel('Accuracy')\n",
    "                    ax2.legend()\n",
    "                    ax2.set_xticks(num_clients_values)\n",
    "                    ax2.grid(True, linestyle='--', linewidth=0.5, alpha=0.5)\n",
    "                    \n",
    "                    if save_plots:\n",
    "                        # Close the current figure to prevent it from being displayed in the notebook\n",
    "                        plt.close(fig)\n",
    "\n",
    "                        pdf.savefig(fig)\n",
    "                        \n",
    "                    else:\n",
    "                        # Show the plot\n",
    "                        plt.show()\n",
    "    \n",
    "    # Close the PDF file if save_plots is True\n",
    "    if save_plots:\n",
    "        pdf.close()"
   ]
  },
  {
   "cell_type": "markdown",
   "id": "ebb1d436-b7c9-4fb3-bb3b-bd47101f57f5",
   "metadata": {},
   "source": [
    "# Epoch x-axis Plots\n",
    "\n",
    "Good"
   ]
  },
  {
   "cell_type": "code",
   "execution_count": 159,
   "id": "8dac923b-63d6-4eba-aa15-dbc0e5bb29bf",
   "metadata": {},
   "outputs": [],
   "source": [
    "def epoch_plots(df, save_plots=False, pdf_filename='plots/epoch_plots.pdf'):\n",
    "    \n",
    "    if save_plots:\n",
    "        pdf = PdfPages(pdf_filename)\n",
    "    \n",
    "    for num_clients in num_clients_values: \n",
    "        for theta in theta_values:\n",
    "            for batch_size in batch_size_values:\n",
    "                for num_steps_until_rtc_check in num_steps_until_rtc_check_values:\n",
    "                    # Filter the data for the current combination\n",
    "                    filtered_data = df[(df['theta'] == theta) &\n",
    "                                       (df['batch_size'] == batch_size) &\n",
    "                                       (df['num_clients'] == num_clients) &\n",
    "                                       (df['num_steps_until_rtc_check'] == num_steps_until_rtc_check)]\n",
    "\n",
    "                    if filtered_data.empty:\n",
    "                        continue\n",
    "                    # Create subplots\n",
    "                    fig, (ax1, ax2) = plt.subplots(1, 2, figsize=(12, 4))\n",
    "\n",
    "                    # Plot the first graph (total_communication_gb)\n",
    "                    for fda_name in filtered_data['fda_name'].unique():\n",
    "                        fda_filtered_data = filtered_data[filtered_data['fda_name'] == fda_name]\n",
    "                        fda_filtered_data = fda_filtered_data.sort_values(by='epoch')  # Sort the data by 'num_clients'\n",
    "                        \n",
    "                        ax1.plot(fda_filtered_data['epoch'], fda_filtered_data['total_communication_gb'],\n",
    "                                 fda_styles[fda_name], label=fda_name)\n",
    "\n",
    "                    ax1.set_xlabel('Epochs')\n",
    "                    ax1.set_ylabel('Communication Cost (GB)')\n",
    "                    ax1.legend()\n",
    "                    ax1.grid(True, linestyle='--', linewidth=0.5, alpha=0.5)\n",
    "                    \n",
    "\n",
    "                    # Plot the second graph (accuracy)\n",
    "                    for fda_name in filtered_data['fda_name'].unique():\n",
    "                        fda_filtered_data = filtered_data[filtered_data['fda_name'] == fda_name]\n",
    "                        fda_filtered_data = fda_filtered_data.sort_values(by='epoch')  # Sort the data by 'num_clients'\n",
    "                        \n",
    "                        ax2.plot(fda_filtered_data['epoch'], fda_filtered_data['accuracy'],\n",
    "                                 fda_styles[fda_name], label=fda_name)\n",
    "\n",
    "                    # Add a single title for the entire figure\n",
    "                    title = f'Theta: {theta}  ,  Clients: {num_clients}  ,  Batch Size: {batch_size}  ,  Steps per RTC check: {num_steps_until_rtc_check}'\n",
    "                    fig.suptitle(title)\n",
    "                    ax2.set_xlabel('Epochs')\n",
    "                    ax2.set_ylabel('Accuracy')\n",
    "                    ax2.legend()\n",
    "                    \n",
    "                    # Set x-axis limits for ax2\n",
    "                    #ax2.set_yticks(np.arange(0, 1.1, 0.1))\n",
    "                    ax2.grid(True, linestyle='--', linewidth=0.5, alpha=0.5)\n",
    "                    \n",
    "                    if save_plots:\n",
    "                        # Close the current figure to prevent it from being displayed in the notebook\n",
    "                        plt.close(fig)\n",
    "\n",
    "                        pdf.savefig(fig)\n",
    "                        \n",
    "                    else:\n",
    "                        # Show the plot\n",
    "                        plt.show()\n",
    "    \n",
    "    # Close the PDF file if save_plots is True\n",
    "    if save_plots:\n",
    "        pdf.close()"
   ]
  },
  {
   "cell_type": "markdown",
   "id": "9df1879e",
   "metadata": {},
   "source": [
    "\n",
    "# Theta plots"
   ]
  },
  {
   "cell_type": "markdown",
   "id": "0a7b8766-def5-419b-b54c-63811f2c43c4",
   "metadata": {},
   "source": [
    "Good"
   ]
  },
  {
   "cell_type": "code",
   "execution_count": 161,
   "id": "2244c04c",
   "metadata": {
    "scrolled": true
   },
   "outputs": [],
   "source": [
    "def theta_plots(df, save_plots=False, pdf_filename='plots/theta_plots.pdf'):\n",
    "    \n",
    "    if save_plots:\n",
    "        pdf = PdfPages(pdf_filename)\n",
    "    \n",
    "    for num_clients in num_clients_values:\n",
    "        for epochs in epochs_values:\n",
    "            for batch_size in batch_size_values:\n",
    "                for num_steps_until_rtc_check in num_steps_until_rtc_check_values:\n",
    "                    # Filter the data for the current combination\n",
    "                    filtered_data = df[(df['num_clients'] == num_clients) &\n",
    "                                       (df['batch_size'] == batch_size) &\n",
    "                                       (df['epoch'] == epochs) &\n",
    "                                       (df['num_steps_until_rtc_check'] == num_steps_until_rtc_check)]\n",
    "\n",
    "                    if filtered_data.empty:\n",
    "                        continue\n",
    "                        \n",
    "                    # Create subplots\n",
    "                    fig, (ax1, ax2) = plt.subplots(1, 2, figsize=(12, 4))\n",
    "\n",
    "                    # Plot the first graph (total_communication_gb)\n",
    "                    for fda_name in filtered_data['fda_name'].unique():\n",
    "                        fda_filtered_data = filtered_data[filtered_data['fda_name'] == fda_name]\n",
    "                        fda_filtered_data = fda_filtered_data.sort_values(by='theta')  # Sort the data by 'num_clients'\n",
    "                        \n",
    "                        ax1.plot(fda_filtered_data['theta'], fda_filtered_data['total_communication_gb'],\n",
    "                                 fda_styles[fda_name], label=fda_name)\n",
    "                        \n",
    "\n",
    "                    ax1.set_xlabel('Theta')\n",
    "                    ax1.set_ylabel('Communication Cost (GB)')\n",
    "                    ax1.legend()\n",
    "                    ax1.grid(True, linestyle='--', linewidth=0.5, alpha=0.5)\n",
    "                    \n",
    "                    # Plot the second graph (accuracy)\n",
    "                    for fda_name in filtered_data['fda_name'].unique():\n",
    "                        fda_filtered_data = filtered_data[filtered_data['fda_name'] == fda_name]\n",
    "                        fda_filtered_data = fda_filtered_data.sort_values(by='theta') \n",
    "                        ax2.plot(fda_filtered_data['theta'], fda_filtered_data['accuracy'],\n",
    "                                 fda_styles[fda_name], label=fda_name)\n",
    "                        \n",
    "\n",
    "                    # Add a single title for the entire figure \n",
    "                    title = f' Clients: {num_clients}  ,  Epochs: {epochs}  ,  Batch Size: {batch_size}  ,  Steps per RTC check: {num_steps_until_rtc_check}'\n",
    "                    fig.suptitle(title)\n",
    "                    ax2.set_xlabel('Theta')\n",
    "                    ax2.set_ylabel('Accuracy')\n",
    "                    ax2.legend()\n",
    "                    \n",
    "                    if save_plots:\n",
    "                        # Close the current figure to prevent it from being displayed in the notebook\n",
    "                        plt.close(fig)\n",
    "\n",
    "                        pdf.savefig(fig)\n",
    "                        \n",
    "                    else:\n",
    "                        # Show the plot\n",
    "                        plt.show()\n",
    "    \n",
    "    # Close the PDF file if save_plots is True\n",
    "    if save_plots:\n",
    "        pdf.close()"
   ]
  },
  {
   "cell_type": "markdown",
   "id": "02dc3031",
   "metadata": {},
   "source": [
    "# Batch Size plots"
   ]
  },
  {
   "cell_type": "code",
   "execution_count": 55,
   "id": "21ec9f18",
   "metadata": {
    "scrolled": true
   },
   "outputs": [],
   "source": [
    "def batch_size_plots():\n",
    "    # Loop through all unique combinations of num_clients, batch_size, epochs, and num_steps_until_rtc_check\n",
    "    for num_clients in num_clients_values:\n",
    "        for epochs in epochs_values:\n",
    "            for theta in theta_values:\n",
    "                for num_steps_until_rtc_check in num_steps_until_rtc_check_values:\n",
    "                    # Filter the data for the current combination\n",
    "                    filtered_data = df[(df['num_clients'] == num_clients) &\n",
    "                                       (df['theta'] == theta) &\n",
    "                                       (df['epoch'] == epochs) &\n",
    "                                       (df['num_steps_until_rtc_check'] == num_steps_until_rtc_check)]\n",
    "\n",
    "                    # Create subplots\n",
    "                    fig, (ax1, ax2) = plt.subplots(1, 2, figsize=(12, 4))\n",
    "\n",
    "                    # Plot the first graph (total_communication_gb)\n",
    "                    for fda_name in filtered_data['fda_name'].unique():\n",
    "                        fda_filtered_data = filtered_data[filtered_data['fda_name'] == fda_name]\n",
    "                        ax1.plot(fda_filtered_data['batch_size'], fda_filtered_data['total_communication_gb'],\n",
    "                                 fda_styles[fda_name], label=fda_name)\n",
    "\n",
    "                    ax1.set_xlabel('Batch Size')\n",
    "                    ax1.set_ylabel('Communication Cost (GB)')\n",
    "                    ax1.legend()\n",
    "\n",
    "                    # Plot the second graph (accuracy)\n",
    "                    for fda_name in filtered_data['fda_name'].unique():\n",
    "                        fda_filtered_data = filtered_data[filtered_data['fda_name'] == fda_name]\n",
    "                        ax2.plot(fda_filtered_data['batch_size'], fda_filtered_data['accuracy'],\n",
    "                                 fda_styles[fda_name], label=fda_name)\n",
    "\n",
    "                    # Add a single title for the entire figure\n",
    "                    title = f'Clients: {num_clients}  ,  Epochs: {epochs}  ,  Theta: {theta}  ,  Steps per RTC check: {num_steps_until_rtc_check}'\n",
    "                    fig.suptitle(title)\n",
    "                    ax2.set_xlabel('Batch Size')\n",
    "                    ax2.set_ylabel('Accuracy')\n",
    "                    ax2.legend()\n",
    "\n",
    "                    # Show the plot\n",
    "                    plt.show()"
   ]
  },
  {
   "cell_type": "markdown",
   "id": "f1d1155f",
   "metadata": {},
   "source": [
    "# Accuracy / comm cost for everything"
   ]
  },
  {
   "cell_type": "code",
   "execution_count": 132,
   "id": "88c971da",
   "metadata": {},
   "outputs": [
    {
     "data": {
      "image/png": "[encoded data removed]",
      "text/plain": [
       "<Figure size 1000x600 with 1 Axes>"
      ]
     },
     "metadata": {},
     "output_type": "display_data"
    }
   ],
   "source": [
    "# Create the plot\n",
    "fig= plt.figure(figsize=(10, 6))\n",
    "\n",
    "# Plot the data points for each method (fda_name)\n",
    "for fda_name in fda_names:\n",
    "    ax = plt.gca()\n",
    "    fda_filtered_data = df[(df['fda_name'] == fda_name)] \n",
    "    fda_filtered_data = fda_filtered_data[fda_filtered_data.epoch == 25]\n",
    "    plt.scatter(fda_filtered_data['total_communication_gb'], 1 - fda_filtered_data['accuracy'],\n",
    "                label=fda_name)\n",
    "    ax.set_yscale('log')\n",
    "\n",
    "plt.xlabel('Total Communication (GB)')\n",
    "plt.ylabel('Accuracy')\n",
    "plt.legend()\n",
    "\n",
    "\n",
    "plt.show()"
   ]
  },
  {
   "cell_type": "code",
   "execution_count": null,
   "id": "bf888af7-461b-4fc4-8918-7a580d539515",
   "metadata": {},
   "outputs": [],
   "source": []
  }
 ],
 "metadata": {
  "kernelspec": {
   "display_name": "Python [conda env:data-analysis]",
   "language": "python",
   "name": "conda-env-data-analysis-py"
  },
  "language_info": {
   "codemirror_mode": {
    "name": "ipython",
    "version": 3
   },
   "file_extension": ".py",
   "mimetype": "text/x-python",
   "name": "python",
   "nbconvert_exporter": "python",
   "pygments_lexer": "ipython3",
   "version": "3.10.11"
  }
 },
 "nbformat": 4,
 "nbformat_minor": 5
}
