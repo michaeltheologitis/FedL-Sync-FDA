{
 "cells": [
  {
   "cell_type": "code",
   "execution_count": 1,
   "id": "48030999",
   "metadata": {
    "tags": []
   },
   "outputs": [],
   "source": [
    "import pandas as pd\n",
    "import numpy as np\n",
    "import matplotlib.pyplot as plt\n",
    "from matplotlib.backends.backend_pdf import PdfPages\n",
    "import glob"
   ]
  },
  {
   "cell_type": "markdown",
   "id": "5ca18b62-8c35-4c8d-978e-57c104b9c2cd",
   "metadata": {},
   "source": [
    "## Combine metrics"
   ]
  },
  {
   "cell_type": "code",
   "execution_count": 4,
   "id": "f7899e1b-6e09-4259-9392-5fce13838240",
   "metadata": {},
   "outputs": [],
   "source": [
    "df_grid = pd.concat([pd.read_parquet(\"../../metrics/epoch_metrics/tmp\"), pd.read_parquet(\"../../metrics/epoch_metrics/tmp_grid\")])"
   ]
  },
  {
   "cell_type": "code",
   "execution_count": 5,
   "id": "ca32b817-3016-4f51-b169-0dc886ce015f",
   "metadata": {},
   "outputs": [],
   "source": [
    "csv_files = []\n",
    "csv_files.extend(glob.glob('../../metrics/epoch_metrics/tmp_aris/*.csv'))\n",
    "csv_files.extend(glob.glob('../../metrics/epoch_metrics/tmp_aris2/*.csv'))\n",
    "csv_files.extend(glob.glob('../../metrics/epoch_metrics/tmp_aris3/*.csv'))\n",
    "csv_files.extend(glob.glob('../../metrics/epoch_metrics/tmp_aris4/*.csv'))\n",
    "csv_files.extend(glob.glob('../../metrics/epoch_metrics/tmp_aris5/*.csv'))\n",
    "csv_files.extend(glob.glob('../../metrics/epoch_metrics/tmp_aris6/*.csv'))\n",
    "csv_files.extend(glob.glob('../../metrics/epoch_metrics/tmp_aris7/*.csv'))\n",
    "csv_files.extend(glob.glob('../../metrics/epoch_metrics/tmp_aris8/*.csv'))"
   ]
  },
  {
   "cell_type": "code",
   "execution_count": 6,
   "id": "65716574-2214-4294-809b-685e9a83b5c8",
   "metadata": {},
   "outputs": [],
   "source": [
    "df_aris = pd.concat([pd.read_csv(file) for file in csv_files], ignore_index=True)"
   ]
  },
  {
   "cell_type": "code",
   "execution_count": 7,
   "id": "5b33c5ae-3b71-42c8-9228-e18dbdf63570",
   "metadata": {},
   "outputs": [],
   "source": [
    "df = pd.concat([df_grid, df_aris])"
   ]
  },
  {
   "cell_type": "markdown",
   "id": "dd8fbdc6-1e34-4a24-bc2c-3889b431983b",
   "metadata": {},
   "source": [
    "## Read from `~/metrics/epoch_metrics/` directory"
   ]
  },
  {
   "cell_type": "code",
   "execution_count": 2,
   "id": "89ff3dd8",
   "metadata": {},
   "outputs": [],
   "source": [
    "df = pd.read_parquet(\"../../metrics/epoch_metrics/combined_epoch_metrics.parquet\")"
   ]
  },
  {
   "cell_type": "code",
   "execution_count": 3,
   "id": "d2b76f69-6e37-41fc-bc21-cbb5fcf6a066",
   "metadata": {},
   "outputs": [],
   "source": [
    "#df.to_parquet(\"../../metrics/epoch_metrics/combined_epoch_metrics.parquet\")"
   ]
  },
  {
   "cell_type": "markdown",
   "id": "f066b553-a1c9-4c95-9454-0816456806bf",
   "metadata": {},
   "source": [
    "# Helpful new Dataframe metrics"
   ]
  },
  {
   "cell_type": "code",
   "execution_count": 3,
   "id": "a1319efd-3ed2-4d23-ae84-4a83383ad53d",
   "metadata": {
    "tags": []
   },
   "outputs": [],
   "source": [
    "df = df[(df.theta <= 2)]"
   ]
  },
  {
   "cell_type": "markdown",
   "id": "a51ec99b-92b1-43b4-a82a-25235c10ef7a",
   "metadata": {},
   "source": [
    "### Add Helpful Dataset Metrics "
   ]
  },
  {
   "cell_type": "code",
   "execution_count": 4,
   "id": "219bfb00-628a-4f2c-8655-76074a971175",
   "metadata": {},
   "outputs": [],
   "source": [
    "def dataset_n_train(row):\n",
    "    if row['dataset_name'] == \"EMNIST\":\n",
    "        return 60_000\n",
    "    else:\n",
    "        return -1\n",
    "\n",
    "\n",
    "def dataset_one_sample_bytes(row):\n",
    "    if row['dataset_name'] == \"EMNIST\":\n",
    "        # input image 784 tf.float32 pixels and a tf.int32 label\n",
    "        return 4 * (784 + 1)\n",
    "    else:\n",
    "        return -1"
   ]
  },
  {
   "cell_type": "code",
   "execution_count": 5,
   "id": "6f7c40a0-7809-461f-8a65-e7deb84dd3c8",
   "metadata": {},
   "outputs": [],
   "source": [
    "df['n_train'] = df.apply(dataset_n_train, axis=1)\n",
    "df['one_sample_bytes'] = df.apply(dataset_one_sample_bytes, axis=1)"
   ]
  },
  {
   "cell_type": "markdown",
   "id": "96b67d41-76a9-461e-830f-9dccfecaf678",
   "metadata": {},
   "source": [
    "### Add Helpful model metrics"
   ]
  },
  {
   "cell_type": "code",
   "execution_count": 6,
   "id": "49a43e33-b746-46ab-be9a-8a63f30a8986",
   "metadata": {},
   "outputs": [],
   "source": [
    "df['model_bytes'] = df['nn_num_weights'] * 4"
   ]
  },
  {
   "cell_type": "markdown",
   "id": "b6c4b4b2-5b95-4f6e-bae3-389bcc45c14d",
   "metadata": {},
   "source": [
    "### Add Helpful FDA method metrics"
   ]
  },
  {
   "cell_type": "code",
   "execution_count": 7,
   "id": "13d1a75a-1031-45f1-affa-a25aa833b836",
   "metadata": {},
   "outputs": [],
   "source": [
    "def fda_local_state_bytes(row):\n",
    "    if row['fda_name'] == \"naive\":\n",
    "        return 4\n",
    "    if row['fda_name'] == \"linear\":\n",
    "        return 8\n",
    "    if row['fda_name'] == \"sketch\":\n",
    "        return row['sketch_width'] * row['sketch_depth'] * 4 + 4\n",
    "    if row['fda_name'] == \"synchronous\":\n",
    "        return 0"
   ]
  },
  {
   "cell_type": "code",
   "execution_count": 8,
   "id": "21261b2e-0f3c-4c3b-b4db-a38f5506ed70",
   "metadata": {},
   "outputs": [],
   "source": [
    "df['local_state_bytes'] = df.apply(fda_local_state_bytes, axis=1)"
   ]
  },
  {
   "cell_type": "markdown",
   "id": "704dcdb1-4edf-4d9f-8b27-6afd7131e41e",
   "metadata": {},
   "source": [
    "### Add Total Steps\n",
    "\n",
    "total steps (a single fda step might have many normal SGD steps, batch steps)"
   ]
  },
  {
   "cell_type": "code",
   "execution_count": 9,
   "id": "ce913d44-7043-40a1-811e-bf3f1460b0c6",
   "metadata": {},
   "outputs": [],
   "source": [
    "df['total_steps'] = df['total_fda_steps'] * df['num_steps_until_rtc_check']"
   ]
  },
  {
   "cell_type": "markdown",
   "id": "99ddccbe-4051-4499-bfdb-8d716a60ccde",
   "metadata": {},
   "source": [
    "### Add communication metrics"
   ]
  },
  {
   "cell_type": "markdown",
   "id": "80bf52a9-3fe1-40d8-bbbd-29e537777aee",
   "metadata": {},
   "source": [
    "The communication bytes exchanged for model synchronization. Remember that the Clients send their models to the Server and the Server sends the global model back. This happens at the end of every round."
   ]
  },
  {
   "cell_type": "code",
   "execution_count": 10,
   "id": "8617cd85-dcc6-4bd8-a9dc-1c8e542fe437",
   "metadata": {},
   "outputs": [],
   "source": [
    "df['model_bytes_exchanged'] = df['total_rounds'] * df['model_bytes'] * df['num_clients'] * 2"
   ]
  },
  {
   "cell_type": "markdown",
   "id": "dbf6e175-a634-4ff5-8960-d0783aa668a5",
   "metadata": {},
   "source": [
    "The communication bytes exchanged for monitoring the variance. This happens at the end of every FDA step which consists of `num_steps_until_rtc_check` number of steps. "
   ]
  },
  {
   "cell_type": "code",
   "execution_count": 11,
   "id": "81640366-96eb-4a39-a364-f969873840b1",
   "metadata": {},
   "outputs": [],
   "source": [
    "df['monitoring_bytes_exchanged'] = df['local_state_bytes'] * df['total_fda_steps'] * df['num_clients']"
   ]
  },
  {
   "cell_type": "markdown",
   "id": "8df1d5ae-1a42-4c01-9ba2-83b09f217fad",
   "metadata": {},
   "source": [
    "The total communication bytes exchanged in the whole Federated Learning lifecycle."
   ]
  },
  {
   "cell_type": "code",
   "execution_count": 12,
   "id": "70fccd40-dc8d-4116-8337-cb8743ee203c",
   "metadata": {},
   "outputs": [],
   "source": [
    "df['total_communication_bytes'] = df['model_bytes_exchanged'] + df['monitoring_bytes_exchanged']"
   ]
  },
  {
   "cell_type": "code",
   "execution_count": 13,
   "id": "144c13ff-95dc-4c80-a168-41191c34d082",
   "metadata": {},
   "outputs": [],
   "source": [
    "df['total_communication_gb'] = df['total_communication_bytes'] / 10**9"
   ]
  },
  {
   "cell_type": "markdown",
   "id": "68b611ba-113e-4efd-a207-a2288a24006d",
   "metadata": {},
   "source": [
    "Add rounds in one epoch."
   ]
  },
  {
   "cell_type": "code",
   "execution_count": 14,
   "id": "9424fe77-27e3-43bb-99d9-ec42d0032bfd",
   "metadata": {},
   "outputs": [],
   "source": [
    "df = df.sort_values(by=['dataset_name', 'fda_name', 'nn_num_weights', 'num_clients', 'batch_size', 'num_steps_until_rtc_check', 'theta', 'epoch'])\n",
    "\n",
    "df['epoch_rounds'] = df.groupby(['dataset_name', 'fda_name', 'nn_num_weights', 'num_clients', 'batch_size', 'num_steps_until_rtc_check', 'theta'])['total_rounds'].diff()\n",
    "\n",
    "# NaN first epoch\n",
    "df['epoch_rounds'] = df['epoch_rounds'].fillna(df['total_rounds'])\n",
    "\n",
    "df['epoch_rounds'] = df['epoch_rounds'].astype(int)"
   ]
  },
  {
   "cell_type": "markdown",
   "id": "9773a738-5cbd-4d87-9a7a-004fe11d6fb3",
   "metadata": {},
   "source": [
    "# HyperParameter ranking"
   ]
  },
  {
   "cell_type": "markdown",
   "id": "44a3b8a1-8f70-4ce0-9fe4-d654b8c46ac4",
   "metadata": {},
   "source": [
    "On 8 CPUs, the step time:\n",
    "\n",
    "1. *Batch Size* = 32 -> `307ms`\n",
    "2. *Batch Size* = 64 -> `445ms`\n",
    "3. *Batch Size* = 128 -> `815ms`\n",
    "4. *Batch Size* = 256 -> `1401ms`\n",
    "\n",
    "Best fit line:\n",
    "\n",
    "$ step(ms) = 147.739 + 4.97092 batch\\_size $"
   ]
  },
  {
   "cell_type": "code",
   "execution_count": 15,
   "id": "a9df5cd6-a3ac-4641-9636-7aa790596ee2",
   "metadata": {
    "tags": []
   },
   "outputs": [],
   "source": [
    "def step_ms(batch_size):\n",
    "    return 147.739 + 4.97092 * batch_size"
   ]
  },
  {
   "cell_type": "markdown",
   "id": "d3caf95a-84c2-48f8-9078-62c876b94a5b",
   "metadata": {},
   "source": [
    "On 8 CPUs, the aggregation of the models time:\n",
    "\n",
    "1. *Clients* = 5 -> `20.4ms`\n",
    "1. *Clients* = 10 -> `39.2ms`\n",
    "1. *Clients* = 20 -> `78.4ms`\n",
    "1. *Clients* = 40 -> `175ms`\n",
    "1. *Clients* = 60 -> `257ms`\n",
    "\n",
    "Best fit line:\n",
    "\n",
    "$ step(ms) = 4.37115 num\\_clients - 4.02115 $"
   ]
  },
  {
   "cell_type": "code",
   "execution_count": 16,
   "id": "7297333d-2e44-471d-8bf9-c2098d1c1e7b",
   "metadata": {
    "tags": []
   },
   "outputs": [],
   "source": [
    "def reduce_ms(num_clients):\n",
    "    return 4.37115*num_clients - 4.02115"
   ]
  },
  {
   "cell_type": "markdown",
   "id": "1d1f571b-9405-4e26-ad1b-ad774ec68df2",
   "metadata": {},
   "source": [
    "Time cost for training-reducing"
   ]
  },
  {
   "cell_type": "code",
   "execution_count": 17,
   "id": "178b5809-8298-4666-8296-8bbec9ccda62",
   "metadata": {
    "tags": []
   },
   "outputs": [],
   "source": [
    "import numpy as np\n",
    "\n",
    "def cpu_time_cost(steps, batch_size):\n",
    "    \"\"\" A single `step` means each client performed a single `step` \"\"\"\n",
    "    return steps * step_ms(batch_size) / 1000 # sec\n",
    "\n",
    "def communication_time_cost(num_clients, total_communication_bytes, bus_type):\n",
    "    \"\"\" Assuming all buses are 1Gbit \"\"\"\n",
    "\n",
    "    total_communication_gbit = total_communication_bytes * 8e-9\n",
    "\n",
    "    if bus_type == 'single':\n",
    "\n",
    "        return (num_clients - 1) * total_communication_gbit / num_clients    # sec\n",
    "\n",
    "    if bus_type == 'multi':\n",
    "\n",
    "        return (np.ceil(np.log(num_clients)) * total_communication_gbit ) / num_clients  # sec"
   ]
  },
  {
   "cell_type": "code",
   "execution_count": 18,
   "id": "6892ee25-e1b9-4e98-b5a1-c3669d84cd93",
   "metadata": {
    "tags": []
   },
   "outputs": [],
   "source": [
    "df['cpu_time_cost'] = cpu_time_cost(df['total_steps'], df['batch_size'])"
   ]
  },
  {
   "cell_type": "code",
   "execution_count": 19,
   "id": "a3895090-76c2-46ff-a229-30ee6142e2e9",
   "metadata": {
    "tags": []
   },
   "outputs": [],
   "source": [
    "df['multi_bus_communication_time_cost'] = communication_time_cost(df['num_clients'], df['total_communication_bytes'], 'multi')"
   ]
  },
  {
   "cell_type": "code",
   "execution_count": 20,
   "id": "9666ef46-2574-43e9-b8e6-0c7fca3b75ec",
   "metadata": {
    "tags": []
   },
   "outputs": [],
   "source": [
    "df['single_bus_communication_time_cost'] = communication_time_cost(df['num_clients'], df['total_communication_bytes'], 'single')"
   ]
  },
  {
   "cell_type": "code",
   "execution_count": 21,
   "id": "8a7c286b-25a0-4eb0-a432-fded4f049071",
   "metadata": {
    "tags": []
   },
   "outputs": [],
   "source": [
    "df['multi_bus_time_cost'] = df['cpu_time_cost'] + df['multi_bus_communication_time_cost']"
   ]
  },
  {
   "cell_type": "code",
   "execution_count": 22,
   "id": "efe9fa8a-d8d7-4b2a-a3a0-131eec5ce2d2",
   "metadata": {
    "tags": []
   },
   "outputs": [],
   "source": [
    "df['single_bus_time_cost'] = df['cpu_time_cost'] + df['single_bus_communication_time_cost']"
   ]
  },
  {
   "cell_type": "code",
   "execution_count": 23,
   "id": "b9cf2956-4729-48a5-b06c-8cd6953f6ef7",
   "metadata": {
    "tags": []
   },
   "outputs": [],
   "source": [
    "df['multi_bus_comm_cpu_time_ratio'] = df['multi_bus_communication_time_cost'] / df['cpu_time_cost']"
   ]
  },
  {
   "cell_type": "code",
   "execution_count": 24,
   "id": "be90d43a-e051-4445-a183-b68f329f2843",
   "metadata": {
    "tags": []
   },
   "outputs": [],
   "source": [
    "df['single_bus_comm_cpu_time_ratio'] = df['single_bus_communication_time_cost'] / df['cpu_time_cost']"
   ]
  },
  {
   "cell_type": "markdown",
   "id": "270b7b80-e37e-45f6-badc-14e09ab83d8f",
   "metadata": {},
   "source": [
    "# Plots about cost"
   ]
  },
  {
   "cell_type": "code",
   "execution_count": 25,
   "id": "78880363-4c40-4799-9672-3218d2ec807a",
   "metadata": {
    "tags": []
   },
   "outputs": [],
   "source": [
    "# Define styles for each fda_name\n",
    "fda_styles = {\n",
    "    'naive': 'o-r',\n",
    "    'linear': 's-g',\n",
    "    'sketch': '^-b',\n",
    "    'synchronous': 'x-c'\n",
    "}\n",
    "fda_names = sorted(df['fda_name'].unique())"
   ]
  },
  {
   "cell_type": "markdown",
   "id": "f1ad541a-b538-4598-bc75-fb3e94362216",
   "metadata": {
    "tags": []
   },
   "source": [
    "## Total time cost with accuracy (scatter)"
   ]
  },
  {
   "cell_type": "code",
   "execution_count": 69,
   "id": "8e48d38d-0b03-4579-9be4-583d27ceea8d",
   "metadata": {
    "tags": []
   },
   "outputs": [],
   "source": [
    "def scatter_time_cost(df, filename):\n",
    "    pdf = PdfPages(filename)\n",
    "    \n",
    "    fig, axs = plt.subplots(1, 2, figsize=(20, 6))\n",
    "\n",
    "    # Plot the data points for each method (fda_name) for single-bus model\n",
    "    for fda_name in fda_names:\n",
    "        fda_filtered_data = df[(df['fda_name'] == fda_name)] \n",
    "        axs[0].scatter(fda_filtered_data['single_bus_time_cost'], fda_filtered_data['accuracy'], label=fda_name)\n",
    "\n",
    "    axs[0].set_xlabel('Time Cost')\n",
    "    axs[0].set_ylabel('Accuracy')\n",
    "    axs[0].legend()\n",
    "    axs[0].set_title(\"Single-Bus model\")\n",
    "\n",
    "    # Plot the data points for each method (fda_name) for multi-bus model\n",
    "    for fda_name in fda_names:\n",
    "        fda_filtered_data = df[(df['fda_name'] == fda_name)] \n",
    "        axs[1].scatter(fda_filtered_data['multi_bus_time_cost'], fda_filtered_data['accuracy'], label=fda_name)\n",
    "\n",
    "    axs[1].set_xlabel('Time Cost')\n",
    "    axs[1].set_ylabel('Accuracy')\n",
    "    axs[1].legend()\n",
    "    axs[1].set_title(\"Multi-Bus model\")\n",
    "    \n",
    "    axs[0].grid(True, linestyle='--', linewidth=0.5, alpha=0.5)\n",
    "    axs[1].grid(True, linestyle='--', linewidth=0.5, alpha=0.5)\n",
    "\n",
    "    plt.tight_layout()\n",
    "    \n",
    "    pdf.savefig(fig)\n",
    "        \n",
    "    # Close the current figure to prevent it from being displayed in the notebook\n",
    "    plt.close(fig)\n",
    "    pdf.close()"
   ]
  },
  {
   "cell_type": "markdown",
   "id": "b88e8d24-250d-4607-8d5c-d218534deada",
   "metadata": {},
   "source": [
    "## Communication/CPU time - Accuracy (scatter)"
   ]
  },
  {
   "cell_type": "code",
   "execution_count": 70,
   "id": "97931411-ed22-4342-a906-2b1b2e3a5be7",
   "metadata": {
    "tags": []
   },
   "outputs": [],
   "source": [
    "def scatter_time_cost_cpu_ratio(df, filename):\n",
    "    \n",
    "    pdf = PdfPages(filename)\n",
    "\n",
    "    fig, axs = plt.subplots(1, 2, figsize=(20, 6))\n",
    "\n",
    "    # Plot the data points for each method (fda_name) for single-bus model\n",
    "    for fda_name in fda_names:\n",
    "        fda_filtered_data = df[(df['fda_name'] == fda_name)] \n",
    "        axs[0].scatter(fda_filtered_data['single_bus_comm_cpu_time_ratio'], fda_filtered_data['accuracy'], label=fda_name)\n",
    "\n",
    "    axs[0].set_xlabel('Communication/CPU time')\n",
    "    axs[0].set_ylabel('Accuracy')\n",
    "    axs[0].legend()\n",
    "    axs[0].set_title(\"Single-Bus model\")\n",
    "\n",
    "    # Plot the data points for each method (fda_name) for multi-bus model\n",
    "    for fda_name in fda_names:\n",
    "        fda_filtered_data = df[(df['fda_name'] == fda_name)] \n",
    "        axs[1].scatter(fda_filtered_data['multi_bus_comm_cpu_time_ratio'], fda_filtered_data['accuracy'], label=fda_name)\n",
    "\n",
    "    axs[1].set_xlabel('Communication/CPU time')\n",
    "    axs[1].set_ylabel('Accuracy')\n",
    "    axs[1].legend()\n",
    "    axs[1].set_title(\"Multi-Bus model\")\n",
    "    \n",
    "    axs[0].grid(True, linestyle='--', linewidth=0.5, alpha=0.5)\n",
    "    axs[1].grid(True, linestyle='--', linewidth=0.5, alpha=0.5)\n",
    "\n",
    "    plt.tight_layout()\n",
    "    pdf.savefig(fig)\n",
    "        \n",
    "    # Close the current figure to prevent it from being displayed in the notebook\n",
    "    plt.close(fig)\n",
    "    pdf.close()"
   ]
  },
  {
   "cell_type": "markdown",
   "id": "f41927ab-99a7-40db-a5e1-f293bb132b18",
   "metadata": {},
   "source": [
    "## Different FDA-method runs visualization with lines (per clients)"
   ]
  },
  {
   "cell_type": "code",
   "execution_count": 72,
   "id": "977881d7-0252-4838-bdff-24dcc07a61b9",
   "metadata": {
    "tags": []
   },
   "outputs": [],
   "source": [
    "import matplotlib\n",
    "from matplotlib import cm\n",
    "\n",
    "def fda_method_run_line_plot(df, fda_name, filename, limit_x_axis=False):\n",
    "    \n",
    "    hybrid_df = df[df.fda_name == fda_name]\n",
    "    \n",
    "    batch_size_values = sorted(hybrid_df['batch_size'].unique())\n",
    "    theta_values = sorted(hybrid_df['theta'].unique())\n",
    "    \n",
    "    # Get unique num_clients values and assign each a color\n",
    "    num_clients_values = sorted(hybrid_df['num_clients'].unique())\n",
    "\n",
    "    cmap = matplotlib.colormaps['tab20b']\n",
    "    colors = cmap(np.linspace(0, 1, len(num_clients_values)))\n",
    "    \n",
    "    pdf = PdfPages(filename)\n",
    "\n",
    "    for batch_size in batch_size_values:\n",
    "        for theta in theta_values:\n",
    "            filtered_data = hybrid_df[(hybrid_df['theta'] == theta) &\n",
    "                                       (hybrid_df['batch_size'] == batch_size)] \n",
    "\n",
    "            if filtered_data.empty:\n",
    "                continue\n",
    "            \n",
    "            #print(f\"{batch_size} {theta} {filtered_data[['fda_name','accuracy']]}\")\n",
    "                \n",
    "            # Because num_clients = 2 reaches very good accuracy very early we need to limit the x-axis so we can \n",
    "            # visualize the rest of the data more easily. We get the next max time cost and limit x\n",
    "            # Get the maximum 'single_bus_time_cost' and 'multi_bus_time_cost' when num_clients is not 2\n",
    "            if limit_x_axis:\n",
    "                max_single_bus_time_cost = filtered_data[filtered_data['num_clients'] != 2]['single_bus_time_cost'].max()\n",
    "                max_multi_bus_time_cost = filtered_data[filtered_data['num_clients'] != 2]['multi_bus_time_cost'].max()\n",
    "\n",
    "\n",
    "            fig, axs = plt.subplots(1, 2, figsize=(20, 6))\n",
    "\n",
    "            # Plot each group with a unique color based on num_clients\n",
    "            for num_clients, color in zip(num_clients_values, colors):\n",
    "                data = filtered_data[filtered_data['num_clients'] == num_clients]\n",
    "\n",
    "                axs[0].plot(data['single_bus_time_cost'], data['accuracy'], color=color, label=num_clients, marker='o', markersize=5)\n",
    "                axs[1].plot(data['multi_bus_time_cost'], data['accuracy'], color=color, label=num_clients, marker='o', markersize=5)\n",
    "                \n",
    "            \n",
    "            axs[0].grid(True, linestyle='--', linewidth=0.5, alpha=0.5)\n",
    "            axs[1].grid(True, linestyle='--', linewidth=0.5, alpha=0.5)\n",
    "            \n",
    "            #axs[0].set_ylim(top=1)\n",
    "            #axs[1].set_ylim(top=1)\n",
    "\n",
    "            axs[0].set_xlabel('Time Cost')\n",
    "            axs[0].set_ylabel('Accuracy')\n",
    "            axs[0].set_title(\"Single-Bus model\")\n",
    "            axs[0].legend(title='Num Clients')\n",
    "            if limit_x_axis:\n",
    "                axs[0].set_xlim(0, max_single_bus_time_cost+100)  # set x-axis limit\n",
    "\n",
    "            axs[1].set_xlabel('Time Cost')\n",
    "            axs[1].set_ylabel('Accuracy')\n",
    "            axs[1].set_title(\"Multi-Bus model\")\n",
    "            axs[1].legend(title='Num Clients')\n",
    "            if limit_x_axis:\n",
    "                axs[1].set_xlim(0, max_multi_bus_time_cost+100)  # set x-axis limit\n",
    "\n",
    "            title = f'Batch Size : {batch_size}  Theta : {theta}'\n",
    "\n",
    "            fig.suptitle(title)\n",
    "\n",
    "            plt.tight_layout()\n",
    "\n",
    "            pdf.savefig(fig)\n",
    "\n",
    "            plt.close(fig)\n",
    "\n",
    "    pdf.close()"
   ]
  },
  {
   "cell_type": "markdown",
   "id": "c4916c39-2e66-494d-99fc-75150184ea09",
   "metadata": {},
   "source": [
    "## Save all those time-cost plots"
   ]
  },
  {
   "cell_type": "code",
   "execution_count": 73,
   "id": "da4331e9-631b-4f3c-a348-ec8e0ae31077",
   "metadata": {
    "tags": []
   },
   "outputs": [],
   "source": [
    "import os\n",
    "\n",
    "def time_cost_plots(df, acc_threshold, limit_x_axis=False):\n",
    "    # Filter out based on `acc_threshold`\n",
    "    acceptable_acc_df = df[df.accuracy > acc_threshold]\n",
    "    \n",
    "    str_thresh = str(acc_threshold).replace('.', '_')  # replace '.'\n",
    "    \n",
    "    if not os.path.exists(f\"../../metrics/plots/hybrid/{str_thresh}\"):\n",
    "        os.makedirs(f\"../../metrics/plots/hybrid/{str_thresh}\")\n",
    "    \n",
    "    # Same runs are included\n",
    "    scatter_time_cost(acceptable_acc_df, f\"../../metrics/plots/hybrid/{str_thresh}/nonfiltered_scatter_time_cost.pdf\")\n",
    "    scatter_time_cost_cpu_ratio(acceptable_acc_df, f\"../../metrics/plots/hybrid/{str_thresh}/nonfiltered_scatter_time_cost_cpu_ratio.pdf\")\n",
    "    \n",
    "    # Filter out same runs. We choose the instance which first hits the `acc_threshold`\n",
    "    idx = acceptable_acc_df.groupby(['fda_name', 'num_clients', 'batch_size', 'theta'])['epoch'].idxmin()\n",
    "    filtered_acceptable_acc_df = acceptable_acc_df.loc[idx]\n",
    "    \n",
    "    # Same runs are NOT included\n",
    "    scatter_time_cost(filtered_acceptable_acc_df, f\"../../metrics/plots/hybrid/{str_thresh}/filtered_scatter_time_cost.pdf\")\n",
    "    scatter_time_cost_cpu_ratio(filtered_acceptable_acc_df, f\"../../metrics/plots/hybrid/{str_thresh}/filtered_scatter_time_cost_cpu_ratio.pdf\")\n",
    "    \n",
    "    # Plot the runs of each method. x-axis : time cost, y-axis : accuracy, PER number of clients (lines)\n",
    "    fda_method_run_line_plot(acceptable_acc_df, 'sketch', f\"../../metrics/plots/hybrid/{str_thresh}/sketch_run.pdf\", limit_x_axis=limit_x_axis)\n",
    "    fda_method_run_line_plot(acceptable_acc_df, 'naive', f\"../../metrics/plots/hybrid/{str_thresh}/naive_run.pdf\", limit_x_axis=limit_x_axis)\n",
    "    fda_method_run_line_plot(acceptable_acc_df, 'linear', f\"../../metrics/plots/hybrid/{str_thresh}/linear_run.pdf\", limit_x_axis=limit_x_axis)\n",
    "    fda_method_run_line_plot(acceptable_acc_df, 'synchronous', f\"../../metrics/plots/hybrid/{str_thresh}/synchronous_run.pdf\", limit_x_axis=False)\n",
    "                             "
   ]
  },
  {
   "cell_type": "markdown",
   "id": "f76394c8-62d9-46b4-9834-cbf39e908ec8",
   "metadata": {},
   "source": [
    "# Normal Plots (useless at this point with the amount of data)."
   ]
  },
  {
   "cell_type": "code",
   "execution_count": 29,
   "id": "b7df45a2-9769-4304-8f15-1f678ef45f9d",
   "metadata": {},
   "outputs": [],
   "source": [
    "theta_values = sorted(df['theta'].unique())\n",
    "batch_size_values = sorted(df['batch_size'].unique())\n",
    "epochs_values = sorted(df['epoch'].unique())\n",
    "num_steps_until_rtc_check_values = sorted(df['num_steps_until_rtc_check'].unique())\n",
    "fda_names = sorted(df['fda_name'].unique())\n",
    "num_clients_values = sorted(df['num_clients'].unique())"
   ]
  },
  {
   "cell_type": "markdown",
   "id": "720dafbd-6d87-415c-afb1-899b85d7baf4",
   "metadata": {},
   "source": [
    "# Rounds in epoch x-axis Plots\n",
    "\n",
    "Good\n",
    "\n",
    "remove  `epoch_plots`"
   ]
  },
  {
   "cell_type": "code",
   "execution_count": 77,
   "id": "1f3d71d8-f8ff-4e57-a9c9-dbf3e6725d75",
   "metadata": {},
   "outputs": [],
   "source": [
    "def rounds_in_epoch_plots(df, save_plots=False, pdf_filename='plots/epoch_plots.pdf'):\n",
    "    \n",
    "    if save_plots:\n",
    "        pdf = PdfPages(pdf_filename)\n",
    "    \n",
    "    for num_clients in num_clients_values: \n",
    "        for batch_size in batch_size_values:\n",
    "            for theta in theta_values:\n",
    "                for num_steps_until_rtc_check in num_steps_until_rtc_check_values:\n",
    "                    # Filter the data for the current combination\n",
    "                    filtered_data = df[(df['theta'] == theta) &\n",
    "                                       (df['batch_size'] == batch_size) &\n",
    "                                       (df['num_clients'] == num_clients) &\n",
    "                                       (df['num_steps_until_rtc_check'] == num_steps_until_rtc_check)]\n",
    "\n",
    "                    if filtered_data.empty:\n",
    "                        continue\n",
    "                    # Create subplots\n",
    "                    fig, (ax1, ax2, ax3) = plt.subplots(1, 3, figsize=(18, 4))  # Adjust the figsize as needed\n",
    "\n",
    "                    # Plot the first graph (total_communication_gb)\n",
    "                    for fda_name in filtered_data['fda_name'].unique():\n",
    "                        fda_filtered_data = filtered_data[filtered_data['fda_name'] == fda_name]\n",
    "                        fda_filtered_data = fda_filtered_data.sort_values(by='epoch')  # Sort the data by 'num_clients'\n",
    "                        \n",
    "                        ax1.plot(fda_filtered_data['epoch'], fda_filtered_data['total_communication_gb'],\n",
    "                                 fda_styles[fda_name], label=fda_name)\n",
    "\n",
    "                    ax1.set_xlabel('Epochs')\n",
    "                    ax1.set_ylabel('Communication Cost (GB)')\n",
    "                    ax1.legend()\n",
    "                    ax1.grid(True, linestyle='--', linewidth=0.5, alpha=0.5)\n",
    "                    \n",
    "\n",
    "                    # Plot the second graph (accuracy)\n",
    "                    for fda_name in filtered_data['fda_name'].unique():\n",
    "                        fda_filtered_data = filtered_data[filtered_data['fda_name'] == fda_name]\n",
    "                        fda_filtered_data = fda_filtered_data.sort_values(by='epoch')  # Sort the data by 'num_clients'\n",
    "                        \n",
    "                        ax2.plot(fda_filtered_data['epoch'], fda_filtered_data['epoch_rounds'],\n",
    "                                 fda_styles[fda_name], label=fda_name)\n",
    "\n",
    "                    ax2.set_xlabel('Epochs')\n",
    "                    ax2.set_ylabel('Rounds In Epoch')\n",
    "                    ax2.legend()\n",
    "                    ax2.grid(True, linestyle='--', linewidth=0.5, alpha=0.5)\n",
    "\n",
    "                    # Plot the second graph (accuracy)\n",
    "                    for fda_name in filtered_data['fda_name'].unique():\n",
    "                        fda_filtered_data = filtered_data[filtered_data['fda_name'] == fda_name]\n",
    "                        fda_filtered_data = fda_filtered_data.sort_values(by='epoch')  # Sort the data by 'num_clients'\n",
    "                        \n",
    "                        ax3.plot(fda_filtered_data['epoch'], fda_filtered_data['accuracy'],\n",
    "                                 fda_styles[fda_name], label=fda_name)\n",
    "\n",
    "                    # Add a single title for the entire figure\n",
    "                    title = f'Clients: {num_clients}  ,   Theta: {theta}  ,   Batch Size: {batch_size}  ,  Steps per RTC check: {num_steps_until_rtc_check}'\n",
    "                    fig.suptitle(title)\n",
    "                    ax3.set_xlabel('Epochs')\n",
    "                    ax3.set_ylabel('Accuracy')\n",
    "                    ax3.legend()\n",
    "                    \n",
    "                    # Set x-axis limits for ax2\n",
    "                    #ax2.set_yticks(np.arange(0, 1.1, 0.1))\n",
    "                    ax3.grid(True, linestyle='--', linewidth=0.5, alpha=0.5)\n",
    "                    \n",
    "                    if save_plots:\n",
    "                        # Close the current figure to prevent it from being displayed in the notebook\n",
    "                        plt.close(fig)\n",
    "\n",
    "                        pdf.savefig(fig)\n",
    "                        \n",
    "                    else:\n",
    "                        # Show the plot\n",
    "                        plt.show()\n",
    "    \n",
    "    # Close the PDF file if save_plots is True\n",
    "    if save_plots:\n",
    "        pdf.close()"
   ]
  },
  {
   "cell_type": "code",
   "execution_count": null,
   "id": "fd7634de-bd12-4d07-b895-1b4d73363415",
   "metadata": {},
   "outputs": [],
   "source": []
  },
  {
   "cell_type": "code",
   "execution_count": null,
   "id": "1153fe69-559b-42e5-a5d0-2f85ee11fa77",
   "metadata": {},
   "outputs": [],
   "source": []
  },
  {
   "cell_type": "code",
   "execution_count": null,
   "id": "55c3be5b-a516-4728-9fb5-a42ff484f818",
   "metadata": {},
   "outputs": [],
   "source": []
  },
  {
   "cell_type": "markdown",
   "id": "90d248d7",
   "metadata": {},
   "source": [
    "# Client x-axis Plots\n",
    "\n",
    "Good"
   ]
  },
  {
   "cell_type": "code",
   "execution_count": 71,
   "id": "32f1e3ba",
   "metadata": {
    "scrolled": true,
    "tags": []
   },
   "outputs": [],
   "source": [
    "def client_plots(df, save_plots=False, pdf_filename='plots/client_plots.pdf'):\n",
    "    \n",
    "    if save_plots:\n",
    "        pdf = PdfPages(pdf_filename)\n",
    "    \n",
    "    # Loop through all unique combinations of num_clients, batch_size, epochs, and num_steps_until_rtc_check\n",
    "    for theta in theta_values:\n",
    "        for batch_size in batch_size_values:\n",
    "            for epochs in epochs_values:\n",
    "                for num_steps_until_rtc_check in num_steps_until_rtc_check_values:\n",
    "                    # Filter the data for the current combination\n",
    "                    filtered_data = df[(df['theta'] == theta) &\n",
    "                                       (df['batch_size'] == batch_size) &\n",
    "                                       (df['epoch'] == epochs) &\n",
    "                                       (df['num_steps_until_rtc_check'] == num_steps_until_rtc_check)]\n",
    "\n",
    "                    if filtered_data.empty:\n",
    "                        continue\n",
    "                        \n",
    "                    # Create subplots\n",
    "                    fig, (ax1, ax2) = plt.subplots(1, 2, figsize=(12, 4))\n",
    "\n",
    "                    # Plot the first graph (total_communication_gb)\n",
    "                    for fda_name in filtered_data['fda_name'].unique():\n",
    "                        fda_filtered_data = filtered_data[filtered_data['fda_name'] == fda_name]\n",
    "                        fda_filtered_data = fda_filtered_data.sort_values(by='num_clients')  # Sort the data by 'num_clients'\n",
    "                        ax1.plot(fda_filtered_data['num_clients'], fda_filtered_data['total_communication_gb'],\n",
    "                                 fda_styles[fda_name], label=fda_name)\n",
    "\n",
    "                    ax1.set_xlabel('Number of Clients')\n",
    "                    ax1.set_ylabel('Communication Cost (GB)')\n",
    "                    ax1.legend()\n",
    "                    ax1.set_xticks(num_clients_values)\n",
    "                    ax1.grid(True, linestyle='--', linewidth=0.5, alpha=0.5)\n",
    "\n",
    "                    # Plot the second graph (accuracy)\n",
    "                    for fda_name in filtered_data['fda_name'].unique():\n",
    "                        fda_filtered_data = filtered_data[filtered_data['fda_name'] == fda_name]\n",
    "                        fda_filtered_data = fda_filtered_data.sort_values(by='num_clients')  # Sort the data by 'num_clients'\n",
    "                        ax2.plot(fda_filtered_data['num_clients'], fda_filtered_data['accuracy'],\n",
    "                                 fda_styles[fda_name], label=fda_name)\n",
    "\n",
    "                    # Add a single title for the entire figure\n",
    "                    title = f'Theta: {theta}  ,  Epochs: {epochs}  ,  Batch Size: {batch_size}  ,  Steps per RTC check: {num_steps_until_rtc_check}'\n",
    "                    fig.suptitle(title)\n",
    "                    ax2.set_xlabel('Number of Clients')\n",
    "                    ax2.set_ylabel('Accuracy')\n",
    "                    ax2.legend()\n",
    "                    ax2.set_xticks(num_clients_values)\n",
    "                    ax2.grid(True, linestyle='--', linewidth=0.5, alpha=0.5)\n",
    "                    \n",
    "                    if save_plots:\n",
    "                        # Close the current figure to prevent it from being displayed in the notebook\n",
    "                        plt.close(fig)\n",
    "\n",
    "                        pdf.savefig(fig)\n",
    "                        \n",
    "                    else:\n",
    "                        # Show the plot\n",
    "                        plt.show()\n",
    "    \n",
    "    # Close the PDF file if save_plots is True\n",
    "    if save_plots:\n",
    "        pdf.close()"
   ]
  },
  {
   "cell_type": "markdown",
   "id": "9df1879e",
   "metadata": {},
   "source": [
    "\n",
    "# Theta plots"
   ]
  },
  {
   "cell_type": "markdown",
   "id": "0a7b8766-def5-419b-b54c-63811f2c43c4",
   "metadata": {},
   "source": [
    "Good"
   ]
  },
  {
   "cell_type": "code",
   "execution_count": 75,
   "id": "2244c04c",
   "metadata": {
    "scrolled": true
   },
   "outputs": [],
   "source": [
    "def theta_plots(df, save_plots=False, pdf_filename='plots/theta_plots.pdf'):\n",
    "    \n",
    "    if save_plots:\n",
    "        pdf = PdfPages(pdf_filename)\n",
    "    \n",
    "    for num_clients in num_clients_values:\n",
    "        for batch_size in batch_size_values:\n",
    "            for epochs in epochs_values:\n",
    "                for num_steps_until_rtc_check in num_steps_until_rtc_check_values:\n",
    "                    # Filter the data for the current combination\n",
    "                    filtered_data = df[(df['num_clients'] == num_clients) &\n",
    "                                       (df['batch_size'] == batch_size) &\n",
    "                                       (df['epoch'] == epochs) &\n",
    "                                       (df['num_steps_until_rtc_check'] == num_steps_until_rtc_check)]\n",
    "\n",
    "                    if filtered_data.empty:\n",
    "                        continue\n",
    "                        \n",
    "                    # Create subplots\n",
    "                    fig, (ax1, ax2) = plt.subplots(1, 2, figsize=(12, 4))\n",
    "\n",
    "                    # Plot the first graph (total_communication_gb)\n",
    "                    for fda_name in filtered_data['fda_name'].unique():\n",
    "                        fda_filtered_data = filtered_data[filtered_data['fda_name'] == fda_name]\n",
    "                        fda_filtered_data = fda_filtered_data.sort_values(by='theta')  # Sort the data by 'num_clients'\n",
    "                        \n",
    "                        ax1.plot(fda_filtered_data['theta'], fda_filtered_data['total_communication_gb'],\n",
    "                                 fda_styles[fda_name], label=fda_name)\n",
    "                        \n",
    "\n",
    "                    ax1.set_xlabel('Theta')\n",
    "                    ax1.set_ylabel('Communication Cost (GB)')\n",
    "                    ax1.legend()\n",
    "                    ax1.grid(True, linestyle='--', linewidth=0.5, alpha=0.5)\n",
    "                    \n",
    "                    # Plot the second graph (accuracy)\n",
    "                    for fda_name in filtered_data['fda_name'].unique():\n",
    "                        fda_filtered_data = filtered_data[filtered_data['fda_name'] == fda_name]\n",
    "                        fda_filtered_data = fda_filtered_data.sort_values(by='theta') \n",
    "                        ax2.plot(fda_filtered_data['theta'], fda_filtered_data['accuracy'],\n",
    "                                 fda_styles[fda_name], label=fda_name)\n",
    "                        \n",
    "\n",
    "                    # Add a single title for the entire figure \n",
    "                    title = f' Clients: {num_clients}  ,  Epochs: {epochs}  ,  Batch Size: {batch_size}  ,  Steps per RTC check: {num_steps_until_rtc_check}'\n",
    "                    fig.suptitle(title)\n",
    "                    ax2.set_xlabel('Theta')\n",
    "                    ax2.set_ylabel('Accuracy')\n",
    "                    ax2.legend()\n",
    "                    \n",
    "                    if save_plots:\n",
    "                        # Close the current figure to prevent it from being displayed in the notebook\n",
    "                        plt.close(fig)\n",
    "\n",
    "                        pdf.savefig(fig)\n",
    "                        \n",
    "                    else:\n",
    "                        # Show the plot\n",
    "                        plt.show()\n",
    "    \n",
    "    # Close the PDF file if save_plots is True\n",
    "    if save_plots:\n",
    "        pdf.close()"
   ]
  },
  {
   "cell_type": "markdown",
   "id": "02dc3031",
   "metadata": {},
   "source": [
    "# Batch Size plots"
   ]
  },
  {
   "cell_type": "code",
   "execution_count": 69,
   "id": "21ec9f18",
   "metadata": {
    "scrolled": true
   },
   "outputs": [],
   "source": [
    "def batch_size_plots(df, save_plots=False, pdf_filename='plots/batch_plots.pdf'):\n",
    "\n",
    "    if save_plots:\n",
    "        pdf = PdfPages(pdf_filename)\n",
    "    \n",
    "    # Loop through all unique combinations of num_clients, batch_size, epochs, and num_steps_until_rtc_check\n",
    "    for num_clients in num_clients_values:\n",
    "        for theta in theta_values:\n",
    "            for epochs in epochs_values:\n",
    "                for num_steps_until_rtc_check in num_steps_until_rtc_check_values:\n",
    "                    # Filter the data for the current combination\n",
    "                    filtered_data = df[(df['num_clients'] == num_clients) &\n",
    "                                       (df['theta'] == theta) &\n",
    "                                       (df['epoch'] == epochs) &\n",
    "                                       (df['num_steps_until_rtc_check'] == num_steps_until_rtc_check)]\n",
    "\n",
    "                    if filtered_data.empty:\n",
    "                        continue\n",
    "\n",
    "                    # Create subplots\n",
    "                    fig, (ax1, ax2) = plt.subplots(1, 2, figsize=(12, 4))\n",
    "\n",
    "                    # Plot the first graph (total_communication_gb)\n",
    "                    for fda_name in filtered_data['fda_name'].unique():\n",
    "                        fda_filtered_data = filtered_data[filtered_data['fda_name'] == fda_name]\n",
    "                        fda_filtered_data = fda_filtered_data.sort_values(by='batch_size') \n",
    "                        ax1.plot(fda_filtered_data['batch_size'], fda_filtered_data['total_communication_gb'],\n",
    "                                 fda_styles[fda_name], label=fda_name)\n",
    "\n",
    "                    ax1.set_xlabel('Batch Size')\n",
    "                    ax1.set_ylabel('Communication Cost (GB)')\n",
    "                    ax1.legend()\n",
    "                    ax1.grid(True, linestyle='--', linewidth=0.5, alpha=0.5)\n",
    "\n",
    "                    # Plot the second graph (accuracy)\n",
    "                    for fda_name in filtered_data['fda_name'].unique():\n",
    "                        fda_filtered_data = filtered_data[filtered_data['fda_name'] == fda_name]\n",
    "                        fda_filtered_data = fda_filtered_data.sort_values(by='batch_size') \n",
    "                        ax2.plot(fda_filtered_data['batch_size'], fda_filtered_data['accuracy'],\n",
    "                                 fda_styles[fda_name], label=fda_name)\n",
    "\n",
    "                    # Add a single title for the entire figure\n",
    "                    title = f'Clients: {num_clients}  ,  Epochs: {epochs}  ,  Theta: {theta}  ,  Steps per RTC check: {num_steps_until_rtc_check}'\n",
    "                    fig.suptitle(title)\n",
    "                    ax2.set_xlabel('Batch Size')\n",
    "                    ax2.set_ylabel('Accuracy')\n",
    "                    ax2.legend()\n",
    "                    ax2.grid(True, linestyle='--', linewidth=0.5, alpha=0.5)\n",
    "\n",
    "                    if save_plots:\n",
    "                        # Close the current figure to prevent it from being displayed in the notebook\n",
    "                        plt.close(fig)\n",
    "\n",
    "                        pdf.savefig(fig)\n",
    "                        \n",
    "                    else:\n",
    "                        # Show the plot\n",
    "                        plt.show()\n",
    "    # Close the PDF file if save_plots is True\n",
    "    if save_plots:\n",
    "        pdf.close()"
   ]
  },
  {
   "cell_type": "code",
   "execution_count": null,
   "id": "6f1690cb-5dc8-45b2-a4f5-8d4e85b99f73",
   "metadata": {},
   "outputs": [],
   "source": []
  },
  {
   "cell_type": "code",
   "execution_count": null,
   "id": "4ac175e5-7ff6-4761-ab7e-496310923371",
   "metadata": {},
   "outputs": [],
   "source": [
    "# df.sort_values(by='accuracy',ascending=False)[['accuracy', 'fda_name', 'num_clients', 'batch_size', 'theta', 'epoch', 'total_communication_gb']].query(\" accuracy >= 0.98 & total_communication_gb <= 100 \")"
   ]
  },
  {
   "cell_type": "markdown",
   "id": "f1d1155f",
   "metadata": {},
   "source": [
    "# Accuracy / comm cost for everything"
   ]
  },
  {
   "cell_type": "code",
   "execution_count": 95,
   "id": "88c971da",
   "metadata": {},
   "outputs": [
    {
     "data": {
      "image/png": "[encoded data removed]",
      "text/plain": [
       "<Figure size 1000x600 with 1 Axes>"
      ]
     },
     "metadata": {},
     "output_type": "display_data"
    }
   ],
   "source": [
    "# Create the plot\n",
    "fig= plt.figure(figsize=(10, 6))\n",
    "\n",
    "# Plot the data points for each method (fda_name)\n",
    "for fda_name in fda_names:\n",
    "    ax = plt.gca()\n",
    "    fda_filtered_data = df[(df['fda_name'] == fda_name)] \n",
    "    fda_filtered_data = fda_filtered_data[fda_filtered_data.epoch == 25]\n",
    "    plt.scatter(fda_filtered_data['total_communication_gb'], 1 - fda_filtered_data['accuracy'],\n",
    "                label=fda_name)\n",
    "    ax.set_yscale('log')\n",
    "\n",
    "plt.xlabel('Total Communication (GB)')\n",
    "plt.ylabel('Accuracy')\n",
    "plt.legend()\n",
    "\n",
    "\n",
    "plt.show()"
   ]
  },
  {
   "cell_type": "code",
   "execution_count": null,
   "id": "bf888af7-461b-4fc4-8918-7a580d539515",
   "metadata": {},
   "outputs": [],
   "source": []
  }
 ],
 "metadata": {
  "kernelspec": {
   "display_name": "Python [conda env:data-analysis]",
   "language": "python",
   "name": "conda-env-data-analysis-py"
  },
  "language_info": {
   "codemirror_mode": {
    "name": "ipython",
    "version": 3
   },
   "file_extension": ".py",
   "mimetype": "text/x-python",
   "name": "python",
   "nbconvert_exporter": "python",
   "pygments_lexer": "ipython3",
   "version": "3.11.3"
  }
 },
 "nbformat": 4,
 "nbformat_minor": 5
}
