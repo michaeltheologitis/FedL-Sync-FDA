{
 "cells": [
  {
   "cell_type": "code",
   "execution_count": 1,
   "id": "48030999",
   "metadata": {
    "tags": []
   },
   "outputs": [],
   "source": [
    "import pandas as pd\n",
    "import numpy as np\n",
    "import matplotlib.pyplot as plt\n",
    "from matplotlib.backends.backend_pdf import PdfPages\n",
    "import glob\n",
    "import seaborn as sns"
   ]
  },
  {
   "cell_type": "markdown",
   "id": "dd8fbdc6-1e34-4a24-bc2c-3889b431983b",
   "metadata": {},
   "source": [
    "## Read from `~/metrics/epoch_metrics/` directory"
   ]
  },
  {
   "cell_type": "code",
   "execution_count": 2,
   "id": "89ff3dd8",
   "metadata": {
    "tags": []
   },
   "outputs": [],
   "source": [
    "df = pd.read_parquet(\"../../metrics/epoch_metrics/\")"
   ]
  },
  {
   "cell_type": "markdown",
   "id": "2a2b25db-0742-4564-8e1b-bceba468b557",
   "metadata": {},
   "source": [
    "# Hyper-Parameters"
   ]
  },
  {
   "cell_type": "markdown",
   "id": "8af2b884-2006-40e1-83b9-f42756182e92",
   "metadata": {},
   "source": [
    "## All tests summary\n",
    "\n",
    "Note that this is a summary. \n",
    "\n",
    "Notes:\n",
    "1. `synchronous` method implies `theta` equal to `0.0` and the reverse.\n",
    "2. The stopping criterion (epochs at the moment) is not the same for all combination, in fact, it changes. For `LeNet-5` currently all tests end at 50 epochs. For the `AdvancedCNN` we go up to 350 epochs in some tests and some others up until 250.\n",
    "3. `Theta` greater than 2 are exploratory tests and will not be considered at all later on."
   ]
  },
  {
   "cell_type": "code",
   "execution_count": 3,
   "id": "04e48751-ffa9-4aab-bfd2-a3cdfd1c96d0",
   "metadata": {
    "tags": []
   },
   "outputs": [
    {
     "name": "stdout",
     "output_type": "stream",
     "text": [
      "dataset_name: ['MNIST']\n",
      "fda_name: ['linear', 'naive', 'sketch', 'synchronous']\n",
      "nn_num_weights: [61706, 2592202]\n",
      "num_clients: [5, 10, 15, 20, 25, 30, 35, 40, 45, 50, 55, 60]\n",
      "batch_size: [32, 64, 128, 256]\n",
      "num_steps_until_rtc_check: [1]\n",
      "theta: [0.0, 0.5, 1.0, 1.5, 2.0, 3.0, 5.0, 7.0, 10.0, 12.0, 15.0, 20.0, 25.0, 30.0, 50.0, 75.0, 100.0]\n"
     ]
    }
   ],
   "source": [
    "for col in ['dataset_name', 'fda_name', 'nn_num_weights', 'num_clients', 'batch_size', 'num_steps_until_rtc_check', 'theta']:\n",
    "    print(f\"{col}: {sorted(list(df[col].unique()))}\")"
   ]
  },
  {
   "cell_type": "markdown",
   "id": "1db71736-9799-4862-adb8-cfd7e663279e",
   "metadata": {},
   "source": [
    "## Query All tests"
   ]
  },
  {
   "cell_type": "code",
   "execution_count": 4,
   "id": "2d244ada-c501-4dc9-b1be-4da0d0ef6449",
   "metadata": {
    "tags": []
   },
   "outputs": [],
   "source": [
    "test_combinations = df.groupby(['dataset_name', 'nn_name', 'fda_name', 'num_steps_until_rtc_check', 'batch_size', 'theta', 'num_clients'])['epoch'].max().reset_index()"
   ]
  },
  {
   "cell_type": "code",
   "execution_count": 5,
   "id": "91d74b0d-ca6e-436c-b965-6afa79a08ed9",
   "metadata": {
    "tags": []
   },
   "outputs": [
    {
     "data": {
      "text/html": [
       "<div>\n",
       "<style scoped>\n",
       "    .dataframe tbody tr th:only-of-type {\n",
       "        vertical-align: middle;\n",
       "    }\n",
       "\n",
       "    .dataframe tbody tr th {\n",
       "        vertical-align: top;\n",
       "    }\n",
       "\n",
       "    .dataframe thead th {\n",
       "        text-align: right;\n",
       "    }\n",
       "</style>\n",
       "<table border=\"1\" class=\"dataframe\">\n",
       "  <thead>\n",
       "    <tr style=\"text-align: right;\">\n",
       "      <th></th>\n",
       "      <th>dataset_name</th>\n",
       "      <th>nn_name</th>\n",
       "      <th>fda_name</th>\n",
       "      <th>num_steps_until_rtc_check</th>\n",
       "      <th>batch_size</th>\n",
       "      <th>theta</th>\n",
       "      <th>num_clients</th>\n",
       "      <th>epoch</th>\n",
       "    </tr>\n",
       "  </thead>\n",
       "  <tbody>\n",
       "    <tr>\n",
       "      <th>260</th>\n",
       "      <td>MNIST</td>\n",
       "      <td>AdvancedCNN</td>\n",
       "      <td>naive</td>\n",
       "      <td>1</td>\n",
       "      <td>32</td>\n",
       "      <td>20.0</td>\n",
       "      <td>5</td>\n",
       "      <td>100</td>\n",
       "    </tr>\n",
       "  </tbody>\n",
       "</table>\n",
       "</div>"
      ],
      "text/plain": [
       "    dataset_name      nn_name fda_name  num_steps_until_rtc_check  batch_size   \n",
       "260        MNIST  AdvancedCNN    naive                          1          32  \\\n",
       "\n",
       "     theta  num_clients  epoch  \n",
       "260   20.0            5    100  "
      ]
     },
     "execution_count": 5,
     "metadata": {},
     "output_type": "execute_result"
    }
   ],
   "source": [
    "test_combinations[\n",
    "    (test_combinations['nn_name'] == 'AdvancedCNN') &\n",
    "    (test_combinations['fda_name'] == 'naive') &\n",
    "    (test_combinations['theta'] == 20.0) &\n",
    "    (test_combinations['num_clients'] == 5)\n",
    "]"
   ]
  },
  {
   "cell_type": "markdown",
   "id": "cc83ca7e-2d67-4138-825c-2193420208c5",
   "metadata": {},
   "source": [
    "# Helpful new Dataframe metrics"
   ]
  },
  {
   "cell_type": "markdown",
   "id": "a51ec99b-92b1-43b4-a82a-25235c10ef7a",
   "metadata": {},
   "source": [
    "### Add Helpful Dataset Metrics "
   ]
  },
  {
   "cell_type": "code",
   "execution_count": 6,
   "id": "219bfb00-628a-4f2c-8655-76074a971175",
   "metadata": {
    "tags": []
   },
   "outputs": [],
   "source": [
    "def dataset_n_train(row):\n",
    "    if row['dataset_name'] == \"MNIST\":\n",
    "        return 60_000\n",
    "    else:\n",
    "        return -1\n",
    "\n",
    "\n",
    "def dataset_one_sample_bytes(row):\n",
    "    if row['dataset_name'] == \"MNIST\":\n",
    "        # input image 784 tf.float32 pixels and a tf.int32 label\n",
    "        return 4 * (784 + 1)\n",
    "    else:\n",
    "        return -1"
   ]
  },
  {
   "cell_type": "code",
   "execution_count": 7,
   "id": "6f7c40a0-7809-461f-8a65-e7deb84dd3c8",
   "metadata": {
    "tags": []
   },
   "outputs": [],
   "source": [
    "df['n_train'] = df.apply(dataset_n_train, axis=1)\n",
    "df['one_sample_bytes'] = df.apply(dataset_one_sample_bytes, axis=1)"
   ]
  },
  {
   "cell_type": "markdown",
   "id": "96b67d41-76a9-461e-830f-9dccfecaf678",
   "metadata": {},
   "source": [
    "### Add Helpful model metrics"
   ]
  },
  {
   "cell_type": "code",
   "execution_count": 8,
   "id": "49a43e33-b746-46ab-be9a-8a63f30a8986",
   "metadata": {
    "tags": []
   },
   "outputs": [],
   "source": [
    "df['model_bytes'] = df['nn_num_weights'] * 4"
   ]
  },
  {
   "cell_type": "markdown",
   "id": "b6c4b4b2-5b95-4f6e-bae3-389bcc45c14d",
   "metadata": {},
   "source": [
    "### Add Helpful FDA method metrics"
   ]
  },
  {
   "cell_type": "code",
   "execution_count": 9,
   "id": "13d1a75a-1031-45f1-affa-a25aa833b836",
   "metadata": {
    "tags": []
   },
   "outputs": [],
   "source": [
    "def fda_local_state_bytes(row):\n",
    "    if row['fda_name'] == \"naive\":\n",
    "        return 4\n",
    "    if row['fda_name'] == \"linear\":\n",
    "        return 8\n",
    "    if row['fda_name'] == \"sketch\":\n",
    "        return row['sketch_width'] * row['sketch_depth'] * 4 + 4\n",
    "    if row['fda_name'] == \"synchronous\":\n",
    "        return 0"
   ]
  },
  {
   "cell_type": "code",
   "execution_count": 10,
   "id": "21261b2e-0f3c-4c3b-b4db-a38f5506ed70",
   "metadata": {
    "tags": []
   },
   "outputs": [],
   "source": [
    "df['local_state_bytes'] = df.apply(fda_local_state_bytes, axis=1)"
   ]
  },
  {
   "cell_type": "markdown",
   "id": "704dcdb1-4edf-4d9f-8b27-6afd7131e41e",
   "metadata": {},
   "source": [
    "### Add Total Steps\n",
    "\n",
    "total steps (a single fda step might have many normal SGD steps, batch steps)"
   ]
  },
  {
   "cell_type": "code",
   "execution_count": 11,
   "id": "ce913d44-7043-40a1-811e-bf3f1460b0c6",
   "metadata": {
    "tags": []
   },
   "outputs": [],
   "source": [
    "df['total_steps'] = df['total_fda_steps'] * df['num_steps_until_rtc_check']"
   ]
  },
  {
   "cell_type": "markdown",
   "id": "99ddccbe-4051-4499-bfdb-8d716a60ccde",
   "metadata": {},
   "source": [
    "### Add communication metrics"
   ]
  },
  {
   "cell_type": "markdown",
   "id": "80bf52a9-3fe1-40d8-bbbd-29e537777aee",
   "metadata": {},
   "source": [
    "The communication bytes exchanged for model synchronization. Remember that the Clients send their models to the Server and the Server sends the global model back. This happens at the end of every round."
   ]
  },
  {
   "cell_type": "code",
   "execution_count": 12,
   "id": "8617cd85-dcc6-4bd8-a9dc-1c8e542fe437",
   "metadata": {
    "tags": []
   },
   "outputs": [],
   "source": [
    "df['model_bytes_exchanged'] = df['total_rounds'] * df['model_bytes'] * df['num_clients'] * 2"
   ]
  },
  {
   "cell_type": "markdown",
   "id": "dbf6e175-a634-4ff5-8960-d0783aa668a5",
   "metadata": {},
   "source": [
    "The communication bytes exchanged for monitoring the variance. This happens at the end of every FDA step which consists of `num_steps_until_rtc_check` number of steps. "
   ]
  },
  {
   "cell_type": "code",
   "execution_count": 13,
   "id": "81640366-96eb-4a39-a364-f969873840b1",
   "metadata": {
    "tags": []
   },
   "outputs": [],
   "source": [
    "df['monitoring_bytes_exchanged'] = df['local_state_bytes'] * df['total_fda_steps'] * df['num_clients']"
   ]
  },
  {
   "cell_type": "markdown",
   "id": "8df1d5ae-1a42-4c01-9ba2-83b09f217fad",
   "metadata": {},
   "source": [
    "The total communication bytes exchanged in the whole Federated Learning lifecycle."
   ]
  },
  {
   "cell_type": "code",
   "execution_count": 14,
   "id": "70fccd40-dc8d-4116-8337-cb8743ee203c",
   "metadata": {
    "tags": []
   },
   "outputs": [],
   "source": [
    "df['total_communication_bytes'] = df['model_bytes_exchanged'] + df['monitoring_bytes_exchanged']"
   ]
  },
  {
   "cell_type": "code",
   "execution_count": 15,
   "id": "144c13ff-95dc-4c80-a168-41191c34d082",
   "metadata": {
    "tags": []
   },
   "outputs": [],
   "source": [
    "df['total_communication_gb'] = df['total_communication_bytes'] / 10**9"
   ]
  },
  {
   "cell_type": "markdown",
   "id": "68b611ba-113e-4efd-a207-a2288a24006d",
   "metadata": {},
   "source": [
    "Add rounds in one epoch."
   ]
  },
  {
   "cell_type": "code",
   "execution_count": 16,
   "id": "9424fe77-27e3-43bb-99d9-ec42d0032bfd",
   "metadata": {
    "tags": []
   },
   "outputs": [],
   "source": [
    "df = df.sort_values(by=['dataset_name', 'fda_name', 'nn_num_weights', 'num_clients', 'batch_size', 'num_steps_until_rtc_check', 'theta', 'epoch'])\n",
    "\n",
    "df['epoch_rounds'] = df.groupby(['dataset_name', 'fda_name', 'nn_num_weights', 'num_clients', 'batch_size', 'num_steps_until_rtc_check', 'theta'])['total_rounds'].diff()\n",
    "\n",
    "# NaN first epoch\n",
    "df['epoch_rounds'] = df['epoch_rounds'].fillna(df['total_rounds'])\n",
    "\n",
    "df['epoch_rounds'] = df['epoch_rounds'].astype(int)"
   ]
  },
  {
   "cell_type": "markdown",
   "id": "9773a738-5cbd-4d87-9a7a-004fe11d6fb3",
   "metadata": {},
   "source": [
    "# HyperParameter ranking"
   ]
  },
  {
   "cell_type": "markdown",
   "id": "42646af0-06ce-4d80-a803-9a04bbd42bb4",
   "metadata": {},
   "source": [
    "### LeNet-5\n",
    "On 2 `Nvidia A10`:\n",
    "1. Batch Size = 32 -> 6.613 s ± 0.128 ms per loop (mean ± std. dev. of 7 runs, 1 loop each)\n",
    "2. *Batch Size* = 64 -> 7.509 s ± 0.065 ms per loop (mean ± std. dev. of 7 runs, 1 loop each)\n",
    "3. *Batch Size* = 128 -> 8.02 s ± 0.099 ms per loop (mean ± std. dev. of 7 runs, 1 loop each)\n",
    "4. *Batch Size* = 256 -> 9.258 s ± 0.336 ms per loop (mean ± std. dev. of 7 runs, 1 loop each)"
   ]
  },
  {
   "cell_type": "markdown",
   "id": "ac905fcd-cbe7-4ce6-9826-ef0f4696c14c",
   "metadata": {
    "tags": []
   },
   "source": [
    "## AdvancedCNN\n",
    "\n",
    "On 2 `Nvidia A10`:\n",
    "1. *Batch Size* = 32 -> 8.853 s ± 0.0917 ms per loop (mean ± std. dev. of 7 runs, 1 loop each)\n",
    "2. *Batch Size* = 64 -> 10.325 ms ± 0.215 ms per loop (mean ± std. dev. of 7 runs, 1 loop each)\n",
    "3. *Batch Size* = 128 -> 11.989 ms ± 0.134 ms per loop (mean ± std. dev. of 7 runs, 1 loop each)\n",
    "4. *Batch Size* = 256 -> 16.47 ms ± 0.294 ms per loop (mean ± std. dev. of 7 runs, 1 loop each)"
   ]
  },
  {
   "cell_type": "code",
   "execution_count": 17,
   "id": "83fdf5fb-18ff-4b12-ada8-5129cc7531d4",
   "metadata": {
    "tags": []
   },
   "outputs": [],
   "source": [
    "step_ms = {\n",
    "    (\"AdvancedCNN\", 32): 8.853,\n",
    "    (\"AdvancedCNN\", 64): 10.325,\n",
    "    (\"AdvancedCNN\", 128): 11.989,\n",
    "    (\"AdvancedCNN\", 256): 16.47,\n",
    "    (\"LeNet-5\", 32): 6.613,\n",
    "    (\"LeNet-5\", 64): 7.509,\n",
    "    (\"LeNet-5\", 128): 8.02,\n",
    "    (\"LeNet-5\", 256): 9.258\n",
    "}"
   ]
  },
  {
   "cell_type": "code",
   "execution_count": 18,
   "id": "178b5809-8298-4666-8296-8bbec9ccda62",
   "metadata": {
    "tags": []
   },
   "outputs": [],
   "source": [
    "import numpy as np\n",
    "\n",
    "def cpu_time_cost(row):\n",
    "    \"\"\" Total cpu time cost in (sec).\n",
    "    A single `step` means each client performed a single `step` \n",
    "    \"\"\"\n",
    "    return row['total_steps'] * step_ms[(row['nn_name'], row['batch_size'])] / 1000\n",
    "\n",
    "def communication_time_cost(num_clients, total_communication_bytes, comm_model):\n",
    "    \"\"\" Assuming channel is 1Gbps \"\"\"\n",
    "\n",
    "    total_communication_gbit = total_communication_bytes * 8e-9\n",
    "\n",
    "    if comm_model == 'common_channel':\n",
    "        \n",
    "        return ((num_clients - 1) / num_clients) * total_communication_gbit    # sec\n",
    "\n",
    "    if comm_model == 'hypercube':\n",
    "\n",
    "        return (np.ceil(np.log(num_clients)) / num_clients) * total_communication_gbit   # sec"
   ]
  },
  {
   "cell_type": "code",
   "execution_count": 19,
   "id": "6892ee25-e1b9-4e98-b5a1-c3669d84cd93",
   "metadata": {
    "tags": []
   },
   "outputs": [],
   "source": [
    "df['cpu_time_cost'] = df.apply(cpu_time_cost, axis=1)"
   ]
  },
  {
   "cell_type": "code",
   "execution_count": 20,
   "id": "a3895090-76c2-46ff-a229-30ee6142e2e9",
   "metadata": {
    "tags": []
   },
   "outputs": [],
   "source": [
    "df['hypercube_communication_time_cost'] = communication_time_cost(df['num_clients'], df['total_communication_bytes'], 'hypercube')"
   ]
  },
  {
   "cell_type": "code",
   "execution_count": 21,
   "id": "9666ef46-2574-43e9-b8e6-0c7fca3b75ec",
   "metadata": {
    "tags": []
   },
   "outputs": [],
   "source": [
    "df['common_channel_communication_time_cost'] = communication_time_cost(df['num_clients'], df['total_communication_bytes'], 'common_channel')"
   ]
  },
  {
   "cell_type": "code",
   "execution_count": 22,
   "id": "8a7c286b-25a0-4eb0-a432-fded4f049071",
   "metadata": {
    "tags": []
   },
   "outputs": [],
   "source": [
    "df['hypercube_time_cost'] = df['cpu_time_cost'] + df['hypercube_communication_time_cost']"
   ]
  },
  {
   "cell_type": "code",
   "execution_count": 23,
   "id": "efe9fa8a-d8d7-4b2a-a3a0-131eec5ce2d2",
   "metadata": {
    "tags": []
   },
   "outputs": [],
   "source": [
    "df['common_channel_time_cost'] = df['cpu_time_cost'] + df['common_channel_communication_time_cost']"
   ]
  },
  {
   "cell_type": "code",
   "execution_count": 24,
   "id": "b9cf2956-4729-48a5-b06c-8cd6953f6ef7",
   "metadata": {
    "tags": []
   },
   "outputs": [],
   "source": [
    "df['hypercube_comm_cpu_time_ratio'] = df['hypercube_communication_time_cost'] / df['cpu_time_cost']"
   ]
  },
  {
   "cell_type": "code",
   "execution_count": 25,
   "id": "be90d43a-e051-4445-a183-b68f329f2843",
   "metadata": {
    "tags": []
   },
   "outputs": [],
   "source": [
    "df['common_channel_comm_cpu_time_ratio'] = df['common_channel_communication_time_cost'] / df['cpu_time_cost']"
   ]
  },
  {
   "cell_type": "markdown",
   "id": "270b7b80-e37e-45f6-badc-14e09ab83d8f",
   "metadata": {},
   "source": [
    "# Plots about cost"
   ]
  },
  {
   "cell_type": "code",
   "execution_count": 26,
   "id": "78880363-4c40-4799-9672-3218d2ec807a",
   "metadata": {
    "tags": []
   },
   "outputs": [],
   "source": [
    "# Define styles for each fda_name\n",
    "fda_styles = {\n",
    "    'naive': 'o-r',\n",
    "    'linear': 's-g',\n",
    "    'sketch': '^-b',\n",
    "    'synchronous': 'x-c'\n",
    "}\n",
    "fda_names = sorted(df['fda_name'].unique())"
   ]
  },
  {
   "cell_type": "code",
   "execution_count": 27,
   "id": "d4fbe02f-48f4-47f4-937b-79b16e40fa5b",
   "metadata": {
    "tags": []
   },
   "outputs": [],
   "source": [
    "import matplotlib\n",
    "\n",
    "num_clients_values = sorted(df['num_clients'].unique())\n",
    "cmap = matplotlib.colormaps['tab20b']\n",
    "colors_dict = {\n",
    "    num_clients: color \n",
    "    for num_clients, color in zip(num_clients_values, cmap(np.linspace(0, 1, len(num_clients_values))))\n",
    "}"
   ]
  },
  {
   "cell_type": "markdown",
   "id": "5d6b795b-a73d-4e94-b9e4-07df61d1f0fd",
   "metadata": {},
   "source": [
    "## KDE Helper"
   ]
  },
  {
   "cell_type": "code",
   "execution_count": 143,
   "id": "f277d83f-7869-46ef-a4d6-0129553318da",
   "metadata": {
    "tags": []
   },
   "outputs": [],
   "source": [
    "sns_params = {\n",
    "    'bw_method': 'scott',\n",
    "    'bw_adjust': 0.7,\n",
    "    'fill': True,\n",
    "    'alpha': 0.375\n",
    "}"
   ]
  },
  {
   "cell_type": "code",
   "execution_count": 144,
   "id": "5a8b81fe-0fc4-4501-88a2-77cca9f24229",
   "metadata": {
    "tags": []
   },
   "outputs": [],
   "source": [
    "import matplotlib.pyplot as plt\n",
    "\n",
    "plt.rcParams['font.size'] = 14"
   ]
  },
  {
   "cell_type": "markdown",
   "id": "f1ad541a-b538-4598-bc75-fb3e94362216",
   "metadata": {
    "tags": []
   },
   "source": [
    "## Total time cost with accuracy (scatter)"
   ]
  },
  {
   "cell_type": "markdown",
   "id": "78fd1665-4e4b-4a86-a092-f11f7c695f8c",
   "metadata": {},
   "source": [
    "### KDE"
   ]
  },
  {
   "cell_type": "code",
   "execution_count": 336,
   "id": "cfb48896-af2d-4b62-bd6a-24a46f2eb240",
   "metadata": {
    "tags": []
   },
   "outputs": [],
   "source": [
    "def kde_time_cost(df, filename, x_log=True):\n",
    "    \n",
    "    if x_log:\n",
    "        log_scale = (True, False)\n",
    "    else:\n",
    "        log_scale = False\n",
    "        \n",
    "    plt.rcParams['font.size'] = 20\n",
    "    \n",
    "    pdf = PdfPages(filename)\n",
    "    \n",
    "    fig, axs = plt.subplots(1, 2, figsize=(20, 8))\n",
    "    \n",
    "    hist_data_common_channel = []\n",
    "    hist_data_hypercube = []\n",
    "\n",
    "    # Prepare a list to store the average communication for each method\n",
    "    avg_time_cost_common_channel_dict = {}\n",
    "    avg_time_cost_hypercube_dict = {}\n",
    "    \n",
    "    # Prepare lists to store the average information (string) for each subplot\n",
    "    avg_info_common_channel = []\n",
    "    avg_info_hypercube = []\n",
    "\n",
    "    for fda_name in fda_names:\n",
    "        common_channel_df = df[df['fda_name'] == fda_name]['common_channel_time_cost']\n",
    "        avg_time_cost_common_channel_dict[fda_name] = common_channel_df.mean()\n",
    "        avg_info_common_channel.append(f'{fda_name}: {avg_time_cost_common_channel_dict[fda_name]:.2f} sec')\n",
    "        sns.kdeplot(common_channel_df, label=fda_name, ax=axs[0], log_scale=log_scale, **sns_params)\n",
    "        \n",
    "        hypercube_df = df[df['fda_name'] == fda_name]['hypercube_time_cost']\n",
    "        avg_time_cost_hypercube_dict[fda_name] = hypercube_df.mean()\n",
    "        avg_info_hypercube.append(f'{fda_name}: {avg_time_cost_hypercube_dict[fda_name]:.2f} sec')\n",
    "        sns.kdeplot(hypercube_df, label=fda_name, ax=axs[1], log_scale=log_scale, **sns_params)\n",
    "        \n",
    "    \n",
    "    text = \"Average Time Cost:\\n\" + '\\n'.join(avg_info_common_channel)\n",
    "    # Add the text annotation inside the plot\n",
    "    axs[0].text(0.78, 0.68, text, transform=axs[0].transAxes, fontsize=9, verticalalignment='top',\n",
    "             bbox=dict(boxstyle='round', facecolor='wheat', alpha=0.4))\n",
    "    \n",
    "    if not x_log:\n",
    "        axs[0].set_xlim(left=0)\n",
    "    axs[0].set_xlabel('Time Cost (sec)')\n",
    "    axs[0].set_ylabel('Density')\n",
    "    axs[0].legend()\n",
    "    axs[0].set_title(\"Common Channel Communication Model\")\n",
    "    axs[0].grid(True, linestyle='--', linewidth=0.5, alpha=0.5)\n",
    "    axs[0].legend()\n",
    "\n",
    "    text = \"Average Time Cost:\\n\" + '\\n'.join(avg_info_hypercube)\n",
    "    # Add the text annotation inside the plot\n",
    "    axs[1].text(0.79, 0.68, text, transform=axs[1].transAxes, fontsize=9, verticalalignment='top',\n",
    "             bbox=dict(boxstyle='round', facecolor='wheat', alpha=0.4))\n",
    "    \n",
    "    if not x_log:\n",
    "        axs[1].set_xlim(left=0)\n",
    "        \n",
    "    axs[1].set_xlabel('Time Cost (sec)')\n",
    "    axs[1].set_ylabel('Density')\n",
    "    axs[1].legend()\n",
    "    axs[1].set_title(\"Hypercube Communication Model\")\n",
    "    axs[1].grid(True, linestyle='--', linewidth=0.5, alpha=0.5)\n",
    "    axs[1].legend()\n",
    "    \n",
    "    plt.tight_layout()\n",
    "    \n",
    "    pdf.savefig(fig)\n",
    "        \n",
    "    # Close the current figure to prevent it from being displayed in the notebook\n",
    "    plt.close(fig)\n",
    "    pdf.close()\n",
    "    \n",
    "    plt.rcParams['font.size'] = 14"
   ]
  },
  {
   "cell_type": "markdown",
   "id": "b2320ef3-66a1-4397-9b3f-6fd0c13ea5d6",
   "metadata": {
    "tags": []
   },
   "source": [
    "## Total Communication cost (in gb) with accuracy (scatter)"
   ]
  },
  {
   "cell_type": "markdown",
   "id": "3df3f1eb-20a7-4d2a-ba60-cc36708ca42a",
   "metadata": {},
   "source": [
    "### KDE"
   ]
  },
  {
   "cell_type": "code",
   "execution_count": 337,
   "id": "83fca381-1fc0-4f35-9115-cd6effb3129f",
   "metadata": {
    "tags": []
   },
   "outputs": [],
   "source": [
    "def kde_communication_cost(df, filename, x_log=True):\n",
    "    \n",
    "    if x_log:\n",
    "        log_scale = (True, False)\n",
    "    else:\n",
    "        log_scale = False\n",
    "        \n",
    "    pdf = PdfPages(filename)\n",
    "    \n",
    "    plt.figure(figsize=(10, 6))\n",
    "\n",
    "    avg_communications_dict = {}\n",
    "    avg_info = []\n",
    "\n",
    "    for fda_name in fda_names:\n",
    "        fda_data_df = df[df['fda_name'] == fda_name]['total_communication_gb']\n",
    "        avg_communications_dict[fda_name] = fda_data_df.mean()\n",
    "        avg_info.append(f'{fda_name}: {avg_communications_dict[fda_name]:.2f} GB')\n",
    "        \n",
    "        # Plotting only the KDE using kdeplot\n",
    "        sns.kdeplot(fda_data_df, label=fda_name, log_scale=log_scale, **sns_params)\n",
    "\n",
    "    text = \"Average Communication:\\n\" + '\\n'.join(avg_info)\n",
    "    # Add the text annotation inside the plot\n",
    "    plt.text(0.8, 0.7, text, transform=plt.gca().transAxes, fontsize=9, verticalalignment='top',\n",
    "             bbox=dict(boxstyle='round', facecolor='wheat', alpha=0.4))\n",
    "\n",
    "    if not x_log:\n",
    "        plt.xlim(left=0)\n",
    "        \n",
    "    plt.grid(True, linestyle='--', linewidth=0.5, alpha=0.5)\n",
    "    plt.xlabel('Communication (GB)')\n",
    "    plt.ylabel('Density')\n",
    "    plt.legend()\n",
    "    plt.tight_layout()\n",
    "    \n",
    "    pdf.savefig(plt.gcf()) # Save the current figure\n",
    "        \n",
    "    # Close the current figure to prevent it from being displayed in the notebook\n",
    "    plt.close()\n",
    "    pdf.close()"
   ]
  },
  {
   "cell_type": "markdown",
   "id": "c3d35fd9-5826-4e5d-83fa-d9522eb7d2b1",
   "metadata": {},
   "source": [
    "## Total CPU time (in Seconds) with accuracy"
   ]
  },
  {
   "cell_type": "markdown",
   "id": "52af3838-5f3d-4ae6-8070-9ab446bed403",
   "metadata": {},
   "source": [
    "### KDE"
   ]
  },
  {
   "cell_type": "code",
   "execution_count": 338,
   "id": "ee28d792-6495-4ab1-a694-9cf2fb1799eb",
   "metadata": {
    "tags": []
   },
   "outputs": [],
   "source": [
    "def kde_cpu_time_cost(df, filename, x_log=False):\n",
    "    \n",
    "    if x_log:\n",
    "        log_scale = (True, False)\n",
    "    else:\n",
    "        log_scale = False\n",
    "        \n",
    "    pdf = PdfPages(filename)\n",
    "    \n",
    "    plt.figure(figsize=(10, 6))\n",
    "\n",
    "    avg_cpu_dict = {}\n",
    "    avg_info = []\n",
    "\n",
    "    for fda_name in fda_names:\n",
    "        fda_data_df = df[df['fda_name'] == fda_name]['cpu_time_cost']\n",
    "        avg_cpu_dict[fda_name] = fda_data_df.mean()\n",
    "        avg_info.append(f'{fda_name}: {avg_cpu_dict[fda_name]:.2f} sec')\n",
    "        \n",
    "        # Plotting only the KDE using kdeplot\n",
    "        sns.kdeplot(fda_data_df, label=fda_name, log_scale=log_scale, **sns_params)\n",
    "\n",
    "    text = \"Average CPU cost:\\n\" + '\\n'.join(avg_info)\n",
    "    # Add the text annotation inside the plot\n",
    "    plt.text(0.81, 0.7, text, transform=plt.gca().transAxes, fontsize=9, verticalalignment='top',\n",
    "             bbox=dict(boxstyle='round', facecolor='wheat', alpha=0.4))\n",
    "\n",
    "    if not x_log:\n",
    "        plt.xlim(left=0)\n",
    "    plt.grid(True, linestyle='--', linewidth=0.5, alpha=0.5)\n",
    "    plt.xlabel('CPU time cost (sec)')\n",
    "    plt.ylabel('Density')\n",
    "    plt.legend()\n",
    "    plt.tight_layout()\n",
    "    \n",
    "    pdf.savefig(plt.gcf()) # Save the current figure\n",
    "        \n",
    "    # Close the current figure to prevent it from being displayed in the notebook\n",
    "    plt.close()\n",
    "    pdf.close()"
   ]
  },
  {
   "cell_type": "markdown",
   "id": "b88e8d24-250d-4607-8d5c-d218534deada",
   "metadata": {},
   "source": [
    "## Communication/CPU time - Accuracy"
   ]
  },
  {
   "cell_type": "markdown",
   "id": "8f0325aa-dc5a-4d1c-8d85-ac441334a822",
   "metadata": {
    "tags": []
   },
   "source": [
    "### Scatter"
   ]
  },
  {
   "cell_type": "code",
   "execution_count": 339,
   "id": "97931411-ed22-4342-a906-2b1b2e3a5be7",
   "metadata": {
    "tags": []
   },
   "outputs": [],
   "source": [
    "def scatter_time_cost_cpu_ratio(df, filename):\n",
    "    \n",
    "    pdf = PdfPages(filename)\n",
    "\n",
    "    fig, axs = plt.subplots(1, 2, figsize=(20, 6))\n",
    "\n",
    "    # Plot the data points for each method (fda_name) for single-bus model\n",
    "    for fda_name in fda_names:\n",
    "        fda_filtered_data = df[(df['fda_name'] == fda_name)] \n",
    "        axs[0].scatter(fda_filtered_data['common_channel_comm_cpu_time_ratio'], fda_filtered_data['accuracy'], label=fda_name)\n",
    "\n",
    "    axs[0].set_xlabel('(Communication time) / (CPU time)')\n",
    "    axs[0].set_ylabel('Accuracy')\n",
    "    axs[0].legend()\n",
    "    axs[0].set_title(\"Common Channel Communication Model\")\n",
    "\n",
    "    # Plot the data points for each method (fda_name) for multi-bus model\n",
    "    for fda_name in fda_names:\n",
    "        fda_filtered_data = df[(df['fda_name'] == fda_name)] \n",
    "        axs[1].scatter(fda_filtered_data['hypercube_comm_cpu_time_ratio'], fda_filtered_data['accuracy'], label=fda_name)\n",
    "\n",
    "    axs[0].grid(True, linestyle='--', linewidth=0.5, alpha=0.5)\n",
    "    axs[1].grid(True, linestyle='--', linewidth=0.5, alpha=0.5)   \n",
    "        \n",
    "    axs[1].set_xlabel('(Communication time) / (CPU time)')\n",
    "    axs[1].set_ylabel('Accuracy')\n",
    "    axs[1].legend()\n",
    "    axs[1].set_title(\"Hypercube Communication Model\")\n",
    "    \n",
    "    axs[0].grid(True, linestyle='--', linewidth=0.5, alpha=0.5)\n",
    "    axs[1].grid(True, linestyle='--', linewidth=0.5, alpha=0.5)\n",
    "\n",
    "    plt.tight_layout()\n",
    "    pdf.savefig(fig)\n",
    "        \n",
    "    # Close the current figure to prevent it from being displayed in the notebook\n",
    "    plt.close(fig)\n",
    "    pdf.close()"
   ]
  },
  {
   "cell_type": "markdown",
   "id": "f41927ab-99a7-40db-a5e1-f293bb132b18",
   "metadata": {},
   "source": [
    "## Different FDA-method runs visualization with lines (per clients)"
   ]
  },
  {
   "cell_type": "code",
   "execution_count": 340,
   "id": "977881d7-0252-4838-bdff-24dcc07a61b9",
   "metadata": {
    "tags": []
   },
   "outputs": [],
   "source": [
    "import matplotlib\n",
    "from matplotlib import cm\n",
    "\n",
    "def fda_method_run_line_plot(df, fda_name, filename, limit_x_axis=False):\n",
    "    \n",
    "    hybrid_df = df[df.fda_name == fda_name]\n",
    "    \n",
    "    batch_size_values = sorted(hybrid_df['batch_size'].unique())\n",
    "    theta_values = sorted(hybrid_df['theta'].unique())\n",
    "    \n",
    "    pdf = PdfPages(filename)\n",
    "\n",
    "    for batch_size in batch_size_values:\n",
    "        for theta in theta_values:\n",
    "            filtered_data = hybrid_df[(hybrid_df['theta'] == theta) &\n",
    "                                       (hybrid_df['batch_size'] == batch_size)] \n",
    "\n",
    "            if filtered_data.empty:\n",
    "                continue\n",
    "            \n",
    "            num_clients_values = sorted(filtered_data['num_clients'].unique())\n",
    "            \n",
    "            #print(f\"{batch_size} {theta} {filtered_data[['fda_name','accuracy']]}\")\n",
    "                \n",
    "            # Because num_clients = 2 reaches very good accuracy very early we need to limit the x-axis so we can \n",
    "            # visualize the rest of the data more easily. We get the next max time cost and limit x\n",
    "            # Get the maximum 'common_channel_time_cost' and 'hypercube_time_cost' when num_clients is not 2\n",
    "            if limit_x_axis:\n",
    "                # The num clients = 2 cause problems. We put limit 10 after the next in line\n",
    "                max_common_channel_time_cost = filtered_data[filtered_data['num_clients'] != 2]['common_channel_time_cost'].max()\n",
    "                max_hypercube_time_cost = filtered_data[filtered_data['num_clients'] != 2]['hypercube_time_cost'].max()\n",
    "\n",
    "\n",
    "            fig, axs = plt.subplots(1, 2, figsize=(20, 6))\n",
    "\n",
    "            # Plot each group with a unique color based on num_clients\n",
    "            for num_clients in num_clients_values:\n",
    "                data = filtered_data[filtered_data['num_clients'] == num_clients]\n",
    "\n",
    "                axs[0].plot(data['common_channel_time_cost'], data['accuracy'], color=colors_dict[num_clients], label=num_clients, marker='o', markersize=3)\n",
    "                axs[1].plot(data['hypercube_time_cost'], data['accuracy'], color=colors_dict[num_clients], label=num_clients, marker='o', markersize=3)\n",
    "                \n",
    "            \n",
    "            axs[0].grid(True, linestyle='--', linewidth=0.5, alpha=0.5)\n",
    "            axs[1].grid(True, linestyle='--', linewidth=0.5, alpha=0.5)\n",
    "            \n",
    "            #axs[0].set_ylim(top=1)\n",
    "            #axs[1].set_ylim(top=1)\n",
    "\n",
    "            axs[0].set_xlabel('Time Cost')\n",
    "            axs[0].set_ylabel('Accuracy')\n",
    "            axs[0].set_title(\"Common Channel Communication Model\")\n",
    "            axs[0].legend(title='Num Clients')\n",
    "            if limit_x_axis:\n",
    "                axs[0].set_xlim(0, max_common_channel_time_cost+700)  # set x-axis limit\n",
    "\n",
    "            axs[1].set_xlabel('Time Cost')\n",
    "            axs[1].set_ylabel('Accuracy')\n",
    "            axs[1].set_title(\"Hypercube Communication Model\")\n",
    "            axs[1].legend(title='Num Clients')\n",
    "            if limit_x_axis:\n",
    "                axs[1].set_xlim(0, max_hypercube_time_cost+500)  # set x-axis limit\n",
    "\n",
    "            title = f'Batch Size : {batch_size} , $\\Theta$ : {theta}'\n",
    "\n",
    "            fig.suptitle(title)\n",
    "\n",
    "            plt.tight_layout()\n",
    "\n",
    "            pdf.savefig(fig)\n",
    "\n",
    "            plt.close(fig)\n",
    "\n",
    "    pdf.close()"
   ]
  },
  {
   "cell_type": "markdown",
   "id": "365e9052-69dd-4303-bfeb-01e116c05b35",
   "metadata": {},
   "source": [
    "## Keep Hyper-parameters fixed and plot for filtered"
   ]
  },
  {
   "cell_type": "code",
   "execution_count": 341,
   "id": "88bce791-9f09-476b-a85e-c7c30559d2de",
   "metadata": {
    "tags": []
   },
   "outputs": [],
   "source": [
    "def fda_methods_batch_size(df, filename):\n",
    "    pdf = PdfPages(filename)\n",
    "    \n",
    "    num_clients_values = sorted(df['num_clients'].unique())\n",
    "    theta_values = sorted(df['theta'].unique())[1:]\n",
    "\n",
    "    for num_clients in num_clients_values:\n",
    "        for theta in theta_values:\n",
    "            filtered_df = df[(df['theta'] == theta) & (df['num_clients'] == num_clients)] \n",
    "            synchronous_data = df[(df['num_clients'] == num_clients) & (df['fda_name'] == 'synchronous')] \n",
    "            \n",
    "            fig, axs = plt.subplots(1, 2, figsize=(20, 6))\n",
    "            \n",
    "            for fda_name in fda_names:\n",
    "                \n",
    "                fda_data = filtered_df[filtered_df['fda_name'] == fda_name]\n",
    "                \n",
    "                if fda_data.empty:\n",
    "                    continue\n",
    "\n",
    "                axs[0].plot(fda_data['batch_size'], fda_data['common_channel_time_cost'], marker='o', label=fda_name, markersize=3)\n",
    "                axs[1].plot(fda_data['batch_size'], fda_data['hypercube_time_cost'], marker='o', label=fda_name, markersize=3)\n",
    "            \n",
    "            if not synchronous_data.empty:\n",
    "                axs[0].plot(synchronous_data['batch_size'], synchronous_data['common_channel_time_cost'], marker='o', label='synchronous', markersize=3)\n",
    "                axs[1].plot(synchronous_data['batch_size'], synchronous_data['hypercube_time_cost'], marker='o', label='synchronous', markersize=3)\n",
    "\n",
    "            \n",
    "            if not axs[0].has_data():\n",
    "                plt.close(fig)\n",
    "                continue\n",
    "            \n",
    "            x_ticks = [32, 64, 128, 256]\n",
    "            \n",
    "            axs[0].set_xticks(x_ticks)\n",
    "            axs[0].set_xlabel('Batch size')\n",
    "            axs[0].legend()\n",
    "            axs[0].set_title(\"Common Channel Communication Model\")\n",
    "            axs[0].set_ylabel('Time Cost')\n",
    "            axs[0].grid(True, linestyle='--', linewidth=0.5, alpha=0.5)\n",
    "            \n",
    "            axs[1].set_xticks(x_ticks)\n",
    "            axs[1].set_xlabel('Batch size')\n",
    "            axs[1].legend()\n",
    "            axs[1].set_title(\"Hypercube Communication Model\")\n",
    "            axs[1].set_ylabel('Time Cost')\n",
    "            axs[1].grid(True, linestyle='--', linewidth=0.5, alpha=0.5)\n",
    "            \n",
    "            title = f'Num Clients : {num_clients} , $\\Theta$ : {theta}'\n",
    "            fig.suptitle(title)\n",
    "\n",
    "            plt.tight_layout()\n",
    "            pdf.savefig(fig)\n",
    "\n",
    "            plt.close(fig)\n",
    "    pdf.close()"
   ]
  },
  {
   "cell_type": "code",
   "execution_count": 342,
   "id": "d893dadb-18b0-400d-a36f-60bd92c2970c",
   "metadata": {
    "tags": []
   },
   "outputs": [],
   "source": [
    "def fda_methods_clients(df, filename):\n",
    "    pdf = PdfPages(filename)\n",
    "    \n",
    "    batch_size_values = sorted(df['batch_size'].unique())\n",
    "    theta_values = sorted(df['theta'].unique())[1:]\n",
    "\n",
    "    for batch_size in batch_size_values:\n",
    "        for theta in theta_values:\n",
    "            \n",
    "            filtered_df = df[(df['theta'] == theta) & (df['batch_size'] == batch_size)] \n",
    "            \n",
    "            if filtered_df.empty:\n",
    "                continue\n",
    "                \n",
    "            synchronous_data = df[(df['batch_size'] == batch_size) & (df['fda_name'] == 'synchronous')] \n",
    "            \n",
    "            fig, axs = plt.subplots(1, 2, figsize=(20, 6))\n",
    "            \n",
    "            for fda_name in fda_names:\n",
    "                \n",
    "                fda_data = filtered_df[filtered_df['fda_name'] == fda_name]\n",
    "                \n",
    "                if fda_data.empty:\n",
    "                    continue\n",
    "\n",
    "                empty = False\n",
    "                axs[0].plot(fda_data['num_clients'], fda_data['common_channel_time_cost'], marker='o', label=fda_name, markersize=3)\n",
    "                axs[1].plot(fda_data['num_clients'], fda_data['hypercube_time_cost'], marker='o', label=fda_name, markersize=3)\n",
    "            \n",
    "            if not synchronous_data.empty:\n",
    "                axs[0].plot(synchronous_data['num_clients'], synchronous_data['common_channel_time_cost'], marker='o', label='synchronous', markersize=3)\n",
    "                axs[1].plot(synchronous_data['num_clients'], synchronous_data['hypercube_time_cost'], marker='o', label='synchronous', markersize=3)\n",
    "\n",
    "            if not axs[0].has_data():\n",
    "                plt.close(fig)\n",
    "                continue\n",
    "                \n",
    "            # Set xticks every 5 units based on available values\n",
    "            min_clients = 5\n",
    "            max_clients = 60\n",
    "            \n",
    "            x_ticks = list(range(min_clients, max_clients + 1, 5))\n",
    "            \n",
    "            axs[0].set_xticks(x_ticks)\n",
    "            axs[0].set_xlabel('Number of clients')\n",
    "            axs[0].legend()\n",
    "            axs[0].set_title(\"Common Channel Communication Model\")\n",
    "            axs[0].set_ylabel('Time Cost')\n",
    "            axs[0].grid(True, linestyle='--', linewidth=0.5, alpha=0.5)\n",
    "            \n",
    "            axs[1].set_xticks(x_ticks)\n",
    "            axs[1].set_xlabel('Number of clients')\n",
    "            axs[1].legend()\n",
    "            axs[1].set_title(\"Hypercube Communication Model\")\n",
    "            axs[1].set_ylabel('Time Cost')\n",
    "            axs[1].grid(True, linestyle='--', linewidth=0.5, alpha=0.5)\n",
    "            \n",
    "            title = f'Batch Size : {batch_size} , $\\Theta$ : {theta}'\n",
    "            fig.suptitle(title)\n",
    "\n",
    "            plt.tight_layout()\n",
    "\n",
    "            pdf.savefig(fig)\n",
    "\n",
    "            plt.close(fig)\n",
    "    pdf.close()"
   ]
  },
  {
   "cell_type": "markdown",
   "id": "96921ad2-3cc7-4529-843c-07ae9b3047d4",
   "metadata": {},
   "source": [
    "# Help-Stat"
   ]
  },
  {
   "cell_type": "code",
   "execution_count": 343,
   "id": "a5cb23f7-b644-49ec-87e7-14645c70c237",
   "metadata": {
    "tags": []
   },
   "outputs": [],
   "source": [
    "def explore_top(df, acc_thresh, nn_name, fda_name):\n",
    "    acceptable_acc_df = df[(df.accuracy > acc_thresh) & (df.nn_name == nn_name)]\n",
    "    acceptable_acc_df = acceptable_acc_df[acceptable_acc_df['fda_name'] == fda_name]\n",
    "    idx = acceptable_acc_df.groupby(['fda_name', 'num_clients', 'batch_size', 'theta'])['epoch'].idxmin()\n",
    "    filtered_acceptable_acc_df = acceptable_acc_df.loc[idx]\n",
    "    return filtered_acceptable_acc_df[['num_clients', 'batch_size', 'theta', 'total_rounds', 'total_fda_steps', 'epoch', 'total_communication_gb', 'cpu_time_cost', 'hypercube_time_cost', 'common_channel_time_cost']].sort_values(by='common_channel_time_cost')"
   ]
  },
  {
   "cell_type": "code",
   "execution_count": 344,
   "id": "c656b2ec-d572-4c61-bd61-025a2904b2f4",
   "metadata": {
    "tags": []
   },
   "outputs": [],
   "source": [
    "def mean_epoch_per_method(df, acc_thresh, nn_name, fda_name):\n",
    "    top_df = explore_top(df, acc_thresh, nn_name, fda_name)\n",
    "    print(f\"Mean epochs : {top_df['epoch'].mean()}\")\n",
    "    print(f\"Std epochs : {top_df['epoch'].std()}\")\n",
    "    print(f\"Mean rounds : {top_df['total_rounds'].mean()}\")\n",
    "    print(f\"Std rounds : {top_df['total_rounds'].std()}\")"
   ]
  },
  {
   "cell_type": "markdown",
   "id": "c4916c39-2e66-494d-99fc-75150184ea09",
   "metadata": {},
   "source": [
    "## Save all those time-cost plots"
   ]
  },
  {
   "cell_type": "code",
   "execution_count": 345,
   "id": "da4331e9-631b-4f3c-a348-ec8e0ae31077",
   "metadata": {
    "tags": []
   },
   "outputs": [],
   "source": [
    "import os\n",
    "\n",
    "def time_cost_plots(df, acc_threshold, nn_name, limit_x_axis=False, show_runs=False, params=False, addi_name='', kde_log_x=True):\n",
    "    # Filter out based on `acc_threshold`\n",
    "    acceptable_acc_df = df[(df.accuracy > acc_threshold) & (df.nn_name == nn_name)]\n",
    "    \n",
    "    str_thresh = str(acc_threshold).replace('.', '_')  # replace '.'\n",
    "    \n",
    "    if not os.path.exists(f\"../../metrics/plots/{nn_name}/{str_thresh}\"):\n",
    "        os.makedirs(f\"../../metrics/plots/{nn_name}/{str_thresh}\")\n",
    "    \n",
    "    # 1. Same runs are included\n",
    "    #scatter_time_cost(acceptable_acc_df, f\"../../metrics/plots/{nn_name}/{str_thresh}/nonfiltered_scatter_time_cost.pdf\")\n",
    "    #scatter_time_cost_cpu_ratio(acceptable_acc_df, f\"../../metrics/plots/{nn_name}/{str_thresh}/nonfiltered_scatter_time_cost_cpu_ratio.pdf\")\n",
    "    \n",
    "    if show_runs:\n",
    "        # Plot the runs of each method. x-axis : time cost, y-axis : accuracy, PER number of clients (lines)\n",
    "        fda_method_run_line_plot(acceptable_acc_df, 'sketch', f\"../../metrics/plots/{nn_name}/{str_thresh}/sketch_run.pdf\", limit_x_axis=limit_x_axis)\n",
    "        fda_method_run_line_plot(acceptable_acc_df, 'naive', f\"../../metrics/plots/{nn_name}/{str_thresh}/naive_run.pdf\", limit_x_axis=limit_x_axis)\n",
    "        fda_method_run_line_plot(acceptable_acc_df, 'linear', f\"../../metrics/plots/{nn_name}/{str_thresh}/linear_run.pdf\", limit_x_axis=limit_x_axis)\n",
    "        fda_method_run_line_plot(acceptable_acc_df, 'synchronous', f\"../../metrics/plots/{nn_name}/{str_thresh}/synchronous_run.pdf\", limit_x_axis=limit_x_axis)\n",
    "    \n",
    "    # 2. Filter out same runs. We choose the instance which first hits the `acc_threshold`\n",
    "    idx = acceptable_acc_df.groupby(['fda_name', 'num_clients', 'batch_size', 'theta'])['epoch'].idxmin()\n",
    "    filtered_acceptable_acc_df = acceptable_acc_df.loc[idx]\n",
    "    \n",
    "    # 2. Same runs are NOT included\n",
    "    kde_time_cost(filtered_acceptable_acc_df, f\"../../metrics/plots/{nn_name}/{str_thresh}/kde_time_cost{addi_name}.pdf\", x_log=kde_log_x)\n",
    "    \n",
    "    #scatter_time_cost_cpu_ratio(filtered_acceptable_acc_df, f\"../../metrics/plots/{nn_name}/{str_thresh}/scatter_time_cost_cpu_ratio.pdf\")\n",
    "    \n",
    "    kde_communication_cost(filtered_acceptable_acc_df, f\"../../metrics/plots/{nn_name}/{str_thresh}/kde_communication_cost.pdf\", x_log=kde_log_x)\n",
    "    \n",
    "    kde_cpu_time_cost(filtered_acceptable_acc_df, f\"../../metrics/plots/{nn_name}/{str_thresh}/kde_cpu_time_cost.pdf\")\n",
    "    \n",
    "    # Parameters fixed, and plot\n",
    "    if params:\n",
    "        fda_methods_batch_size(filtered_acceptable_acc_df, f\"../../metrics/plots/{nn_name}/{str_thresh}/fda_methods_batch_size.pdf\")\n",
    "        fda_methods_clients(filtered_acceptable_acc_df, f\"../../metrics/plots/{nn_name}/{str_thresh}/fda_methods_clients.pdf\")"
   ]
  },
  {
   "cell_type": "code",
   "execution_count": null,
   "id": "3aa6bd68-d35f-451e-88b6-732dd094ff17",
   "metadata": {},
   "outputs": [],
   "source": []
  },
  {
   "cell_type": "code",
   "execution_count": 346,
   "id": "fd7634de-bd12-4d07-b895-1b4d73363415",
   "metadata": {
    "tags": []
   },
   "outputs": [],
   "source": [
    "#time_cost_plots(df, 0.95, 'LeNet-5')\n",
    "#time_cost_plots(df, 0.955, 'LeNet-5')\n",
    "#time_cost_plots(df, 0.96, 'LeNet-5')\n",
    "#time_cost_plots(df, 0.965, 'LeNet-5')\n",
    "#time_cost_plots(df, 0.97, 'LeNet-5')\n",
    "#time_cost_plots(df, 0.975, 'LeNet-5')\n",
    "#time_cost_plots(df, 0.98, 'LeNet-5')\n",
    "#time_cost_plots(df, 0.985, 'LeNet-5')"
   ]
  },
  {
   "cell_type": "code",
   "execution_count": 347,
   "id": "3fabef7e-ead8-41fd-bb71-aa3606b806c7",
   "metadata": {},
   "outputs": [],
   "source": [
    "#time_cost_plots(df, 0.98, 'AdvancedCNN')\n",
    "#time_cost_plots(df, 0.985, 'AdvancedCNN')\n",
    "#time_cost_plots(df, 0.988, 'AdvancedCNN')\n",
    "#time_cost_plots(df, 0.99, 'AdvancedCNN')\n",
    "#time_cost_plots(df, 0.993, 'AdvancedCNN')\n",
    "#time_cost_plots(df, 0.995, 'AdvancedCNN')"
   ]
  },
  {
   "cell_type": "code",
   "execution_count": 348,
   "id": "5be112a8-1b2b-4a8c-8b62-924b2ebb074c",
   "metadata": {},
   "outputs": [],
   "source": [
    "pd.set_option('display.max_rows', None)"
   ]
  },
  {
   "cell_type": "markdown",
   "id": "38c98aeb-9bde-4718-ad33-a1858e42b749",
   "metadata": {},
   "source": [
    "## AdvancedCNN"
   ]
  },
  {
   "cell_type": "code",
   "execution_count": 349,
   "id": "999c2d65-5df0-4f1a-8d73-9a059b0ece58",
   "metadata": {
    "tags": []
   },
   "outputs": [],
   "source": [
    "df_32 = df[\n",
    "    (df['batch_size'] == 32) | (df['fda_name'] == 'synchronous')\n",
    "]\n",
    "\n",
    "df_fin = df_32[\n",
    "    (df_32['theta'] >= 15.0) | (df_32['fda_name'] == 'synchronous')\n",
    "]"
   ]
  },
  {
   "cell_type": "code",
   "execution_count": 350,
   "id": "d7f86ec4-2725-491f-bbca-99f53b613b35",
   "metadata": {
    "tags": []
   },
   "outputs": [],
   "source": [
    "time_cost_plots(df_fin, 0.99, 'AdvancedCNN')\n",
    "time_cost_plots(df_fin, 0.995, 'AdvancedCNN')"
   ]
  },
  {
   "cell_type": "code",
   "execution_count": 351,
   "id": "244f9670-226a-414f-a5da-6c6eaa48c0ee",
   "metadata": {
    "tags": []
   },
   "outputs": [],
   "source": [
    "#explore_top(df_fin, 0.995, 'AdvancedCNN', 'synchronous')"
   ]
  },
  {
   "cell_type": "code",
   "execution_count": 352,
   "id": "17d9a47c-4773-420f-9752-24000734312f",
   "metadata": {
    "tags": []
   },
   "outputs": [],
   "source": [
    "#explore_top(df_fin, 0.995, 'AdvancedCNN', 'naive')"
   ]
  },
  {
   "cell_type": "code",
   "execution_count": 353,
   "id": "33bb293e-39b6-4085-a2bb-41b0557ef507",
   "metadata": {
    "tags": []
   },
   "outputs": [],
   "source": [
    "#explore_top(df_fin, 0.995, 'AdvancedCNN', 'linear')"
   ]
  },
  {
   "cell_type": "markdown",
   "id": "7ede378c-18ee-4521-9101-361614426bf3",
   "metadata": {},
   "source": [
    "## LeNet-5"
   ]
  },
  {
   "cell_type": "code",
   "execution_count": 354,
   "id": "450d1d35-a95f-4372-b948-4d723b01bb73",
   "metadata": {},
   "outputs": [],
   "source": [
    "df_32 = df[\n",
    "    (df['batch_size'] == 32) | (df['fda_name'] == 'synchronous')\n",
    "]\n",
    "\n",
    "df_fin = df_32[\n",
    "    (df_32['theta'] >= 2.0) | (df_32['fda_name'] == 'synchronous')\n",
    "]"
   ]
  },
  {
   "cell_type": "code",
   "execution_count": 355,
   "id": "5d5a79db-08d4-4bda-b033-c4a4ff848b07",
   "metadata": {
    "tags": []
   },
   "outputs": [],
   "source": [
    "#explore_top(df, 0.985, 'LeNet-5', 'synchronous')"
   ]
  },
  {
   "cell_type": "code",
   "execution_count": 356,
   "id": "f5ff56e3-559d-4f12-b3bf-352b26c8bb1b",
   "metadata": {
    "tags": []
   },
   "outputs": [],
   "source": [
    "#explore_top(df, 0.98, 'LeNet-5', 'naive')"
   ]
  },
  {
   "cell_type": "code",
   "execution_count": 357,
   "id": "cc770b7e-002f-46f4-9e00-505e0e2abb0b",
   "metadata": {
    "tags": []
   },
   "outputs": [],
   "source": [
    "#explore_top(df, 0.98, 'LeNet-5', 'linear')"
   ]
  },
  {
   "cell_type": "code",
   "execution_count": 358,
   "id": "fc6c2002-4be2-4353-aed9-522ddef84eca",
   "metadata": {},
   "outputs": [],
   "source": [
    "time_cost_plots(df, 0.98, 'LeNet-5', kde_log_x=False)\n",
    "time_cost_plots(df, 0.985, 'LeNet-5', kde_log_x=False)"
   ]
  },
  {
   "cell_type": "code",
   "execution_count": null,
   "id": "2fa32e07-4703-42a2-9728-ddf092c4e71f",
   "metadata": {},
   "outputs": [],
   "source": []
  },
  {
   "cell_type": "code",
   "execution_count": null,
   "id": "d66275ee-0bcd-4c00-9b35-1fe99c545a2e",
   "metadata": {},
   "outputs": [],
   "source": []
  },
  {
   "cell_type": "code",
   "execution_count": null,
   "id": "995a7d3e-79a6-4c8d-9e2e-3751296de97d",
   "metadata": {},
   "outputs": [],
   "source": []
  },
  {
   "cell_type": "code",
   "execution_count": null,
   "id": "9014f171-c20b-4286-ba68-9618c39fb6d6",
   "metadata": {},
   "outputs": [],
   "source": []
  },
  {
   "cell_type": "code",
   "execution_count": null,
   "id": "d3705b74-bd60-49f2-a26a-00b805c727c6",
   "metadata": {},
   "outputs": [],
   "source": []
  },
  {
   "cell_type": "code",
   "execution_count": null,
   "id": "31b646b9-5be0-4c63-b4a2-dbdd03a95876",
   "metadata": {},
   "outputs": [],
   "source": []
  },
  {
   "cell_type": "code",
   "execution_count": null,
   "id": "472bd0a9-74af-41e5-858f-1f48b892822a",
   "metadata": {},
   "outputs": [],
   "source": []
  },
  {
   "cell_type": "code",
   "execution_count": null,
   "id": "eb61a5b5-882f-4f54-ba0f-820071eb3e23",
   "metadata": {},
   "outputs": [],
   "source": []
  },
  {
   "cell_type": "code",
   "execution_count": 168,
   "id": "ea9062f9-896e-4c39-8bca-4bb885df27db",
   "metadata": {
    "tags": []
   },
   "outputs": [
    {
     "name": "stdout",
     "output_type": "stream",
     "text": [
      "Mean epochs : 63.666666666666664\n",
      "Std epochs : 45.50489023677557\n",
      "Mean rounds : 1274.9375\n",
      "Std rounds : 447.0183206417402\n"
     ]
    }
   ],
   "source": [
    "mean_epoch_per_method(df, 0.98, 'LeNet-5', 'synchronous')"
   ]
  },
  {
   "cell_type": "code",
   "execution_count": 169,
   "id": "6ef6afdd-7358-4f1d-a361-d13d32e8bf65",
   "metadata": {
    "tags": []
   },
   "outputs": [
    {
     "name": "stdout",
     "output_type": "stream",
     "text": [
      "Mean epochs : 40.266666666666666\n",
      "Std epochs : 24.717186851312523\n",
      "Mean rounds : 89.15555555555555\n",
      "Std rounds : 76.19547763145556\n"
     ]
    }
   ],
   "source": [
    "mean_epoch_per_method(df_fin, 0.995, 'AdvancedCNN', 'naive')"
   ]
  },
  {
   "cell_type": "code",
   "execution_count": 170,
   "id": "4531713a-8608-4647-ab4e-842709b117cf",
   "metadata": {
    "tags": []
   },
   "outputs": [
    {
     "name": "stdout",
     "output_type": "stream",
     "text": [
      "Mean epochs : 192.22222222222223\n",
      "Std epochs : 310.4632088354497\n",
      "Mean rounds : 3307.0666666666666\n",
      "Std rounds : 1897.6396750604779\n"
     ]
    }
   ],
   "source": [
    "mean_epoch_per_method(df, 0.995, 'AdvancedCNN', 'synchronous')"
   ]
  },
  {
   "cell_type": "code",
   "execution_count": null,
   "id": "9c69505f-2b2d-4705-b8f4-7860664ddca2",
   "metadata": {},
   "outputs": [],
   "source": []
  }
 ],
 "metadata": {
  "kernelspec": {
   "display_name": "Python [conda env:data-analysis]",
   "language": "python",
   "name": "conda-env-data-analysis-py"
  },
  "language_info": {
   "codemirror_mode": {
    "name": "ipython",
    "version": 3
   },
   "file_extension": ".py",
   "mimetype": "text/x-python",
   "name": "python",
   "nbconvert_exporter": "python",
   "pygments_lexer": "ipython3",
   "version": "3.11.4"
  }
 },
 "nbformat": 4,
 "nbformat_minor": 5
}
