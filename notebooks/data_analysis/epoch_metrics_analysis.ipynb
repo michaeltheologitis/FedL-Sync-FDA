{
 "cells": [
  {
   "cell_type": "code",
   "execution_count": 1,
   "id": "48030999",
   "metadata": {
    "tags": []
   },
   "outputs": [],
   "source": [
    "import pandas as pd\n",
    "import numpy as np\n",
    "import matplotlib.pyplot as plt\n",
    "from matplotlib.backends.backend_pdf import PdfPages\n",
    "import glob\n",
    "import seaborn as sns"
   ]
  },
  {
   "cell_type": "markdown",
   "id": "dd8fbdc6-1e34-4a24-bc2c-3889b431983b",
   "metadata": {},
   "source": [
    "## Read from `~/metrics/epoch_metrics/` directory"
   ]
  },
  {
   "cell_type": "code",
   "execution_count": 2,
   "id": "89ff3dd8",
   "metadata": {
    "tags": []
   },
   "outputs": [],
   "source": [
    "df = pd.read_parquet(\"../../metrics/epoch_metrics/\")"
   ]
  },
  {
   "cell_type": "markdown",
   "id": "2a2b25db-0742-4564-8e1b-bceba468b557",
   "metadata": {},
   "source": [
    "# Hyper-Parameters"
   ]
  },
  {
   "cell_type": "markdown",
   "id": "f7e3d30a-0336-48e7-9574-36b974c72254",
   "metadata": {},
   "source": [
    "`bias` `NaN` -> no bias\n",
    "\n",
    "`bias` $ \\in (0, 1)$ -> `bias`% of each client's dataset is biased (from sorted sequence of MNIST) - rest is good\n",
    "\n",
    "`bias` $= -1$ -> MNIST label 0 is sorted, placed at the start, and clients get assigned sequentially from this dataset. Only one label is biased to however many clients can get it assigned to them.\n",
    "\n",
    "`bias` $= -2$ -> MNIST label 8 is sorted, placed at the start, and clients get assigned sequentially from this dataset. Only one label is biased to however many clients can get it assigned to them."
   ]
  },
  {
   "cell_type": "code",
   "execution_count": 3,
   "id": "da2bae88-a838-477f-ade3-2595e66717a8",
   "metadata": {
    "tags": []
   },
   "outputs": [],
   "source": [
    "one_label_bias = {\n",
    "    -1: 0,\n",
    "    -2: 8\n",
    "}"
   ]
  },
  {
   "cell_type": "markdown",
   "id": "8af2b884-2006-40e1-83b9-f42756182e92",
   "metadata": {},
   "source": [
    "## All tests summary\n",
    "\n",
    "Note that this is a summary. \n",
    "\n",
    "Notes:\n",
    "1. `synchronous` method implies `theta` equal to `0.0` and the reverse.\n",
    "2. The stopping criterion (epochs at the moment) is not the same for all combination, in fact, it changes. For `LeNet-5` currently all tests end at 50 epochs. For the `AdvancedCNN` we go up to 350 epochs in some tests and some others up until 250.\n",
    "3. `Theta` greater than 2 are exploratory tests and will not be considered at all later on."
   ]
  },
  {
   "cell_type": "code",
   "execution_count": 4,
   "id": "51e3945f-9c4d-4999-946e-5269e796dbcc",
   "metadata": {
    "tags": []
   },
   "outputs": [],
   "source": [
    "df_lenet = df[df['nn_name'] == 'LeNet-5']"
   ]
  },
  {
   "cell_type": "code",
   "execution_count": 5,
   "id": "04e48751-ffa9-4aab-bfd2-a3cdfd1c96d0",
   "metadata": {
    "tags": []
   },
   "outputs": [
    {
     "name": "stdout",
     "output_type": "stream",
     "text": [
      "dataset_name: ['MNIST']\n",
      "fda_name: ['gm', 'linear', 'naive', 'sketch', 'synchronous']\n",
      "nn_name: ['LeNet-5']\n",
      "num_clients: [5, 10, 15, 20, 25, 30, 35, 40, 45, 50, 55, 60]\n",
      "batch_size: [32, 64, 128, 256]\n",
      "num_steps_until_rtc_check: [1]\n",
      "theta: [0.0, 0.5, 1.0, 1.5, 2.0, 3.0, 5.0, 7.0, 10.0, 12.0, 15.0]\n",
      "bias: [-2.0, 0.6, nan, -1.0, 0.3, 0.9]\n"
     ]
    }
   ],
   "source": [
    "for col in ['dataset_name', 'fda_name', 'nn_name', 'num_clients', 'batch_size', 'num_steps_until_rtc_check', 'theta', 'bias']:\n",
    "    print(f\"{col}: {sorted(list(df_lenet[col].unique()))}\")"
   ]
  },
  {
   "cell_type": "markdown",
   "id": "1db71736-9799-4862-adb8-cfd7e663279e",
   "metadata": {},
   "source": [
    "## Query All tests"
   ]
  },
  {
   "cell_type": "code",
   "execution_count": 6,
   "id": "2d244ada-c501-4dc9-b1be-4da0d0ef6449",
   "metadata": {
    "tags": []
   },
   "outputs": [],
   "source": [
    "test_combinations = df.groupby(['dataset_name', 'nn_name', 'fda_name', 'num_steps_until_rtc_check', 'batch_size', 'theta', 'num_clients'])['epoch'].max().reset_index()"
   ]
  },
  {
   "cell_type": "code",
   "execution_count": 7,
   "id": "91d74b0d-ca6e-436c-b965-6afa79a08ed9",
   "metadata": {
    "tags": []
   },
   "outputs": [
    {
     "data": {
      "text/html": [
       "<div>\n",
       "<style scoped>\n",
       "    .dataframe tbody tr th:only-of-type {\n",
       "        vertical-align: middle;\n",
       "    }\n",
       "\n",
       "    .dataframe tbody tr th {\n",
       "        vertical-align: top;\n",
       "    }\n",
       "\n",
       "    .dataframe thead th {\n",
       "        text-align: right;\n",
       "    }\n",
       "</style>\n",
       "<table border=\"1\" class=\"dataframe\">\n",
       "  <thead>\n",
       "    <tr style=\"text-align: right;\">\n",
       "      <th></th>\n",
       "      <th>dataset_name</th>\n",
       "      <th>nn_name</th>\n",
       "      <th>fda_name</th>\n",
       "      <th>num_steps_until_rtc_check</th>\n",
       "      <th>batch_size</th>\n",
       "      <th>theta</th>\n",
       "      <th>num_clients</th>\n",
       "      <th>epoch</th>\n",
       "    </tr>\n",
       "  </thead>\n",
       "  <tbody>\n",
       "    <tr>\n",
       "      <th>350</th>\n",
       "      <td>MNIST</td>\n",
       "      <td>AdvancedCNN</td>\n",
       "      <td>naive</td>\n",
       "      <td>1</td>\n",
       "      <td>32</td>\n",
       "      <td>20.0</td>\n",
       "      <td>5</td>\n",
       "      <td>100</td>\n",
       "    </tr>\n",
       "  </tbody>\n",
       "</table>\n",
       "</div>"
      ],
      "text/plain": [
       "    dataset_name      nn_name fda_name  num_steps_until_rtc_check  batch_size   \n",
       "350        MNIST  AdvancedCNN    naive                          1          32  \\\n",
       "\n",
       "     theta  num_clients  epoch  \n",
       "350   20.0            5    100  "
      ]
     },
     "execution_count": 7,
     "metadata": {},
     "output_type": "execute_result"
    }
   ],
   "source": [
    "test_combinations[\n",
    "    (test_combinations['nn_name'] == 'AdvancedCNN') &\n",
    "    (test_combinations['fda_name'] == 'naive') &\n",
    "    (test_combinations['theta'] == 20.0) &\n",
    "    (test_combinations['num_clients'] == 5)\n",
    "]"
   ]
  },
  {
   "cell_type": "markdown",
   "id": "cc83ca7e-2d67-4138-825c-2193420208c5",
   "metadata": {},
   "source": [
    "# Helpful new Dataframe metrics"
   ]
  },
  {
   "cell_type": "markdown",
   "id": "a51ec99b-92b1-43b4-a82a-25235c10ef7a",
   "metadata": {},
   "source": [
    "### Add Helpful Dataset Metrics "
   ]
  },
  {
   "cell_type": "code",
   "execution_count": 8,
   "id": "219bfb00-628a-4f2c-8655-76074a971175",
   "metadata": {
    "tags": []
   },
   "outputs": [],
   "source": [
    "def dataset_n_train(row):\n",
    "    if row['dataset_name'] == \"MNIST\":\n",
    "        return 60_000\n",
    "    else:\n",
    "        return -1\n",
    "\n",
    "\n",
    "def dataset_one_sample_bytes(row):\n",
    "    if row['dataset_name'] == \"MNIST\":\n",
    "        # input image 784 tf.float32 pixels and a tf.int32 label\n",
    "        return 4 * (784 + 1)\n",
    "    else:\n",
    "        return -1"
   ]
  },
  {
   "cell_type": "code",
   "execution_count": 9,
   "id": "6f7c40a0-7809-461f-8a65-e7deb84dd3c8",
   "metadata": {
    "tags": []
   },
   "outputs": [],
   "source": [
    "df['n_train'] = df.apply(dataset_n_train, axis=1)\n",
    "df['one_sample_bytes'] = df.apply(dataset_one_sample_bytes, axis=1)"
   ]
  },
  {
   "cell_type": "markdown",
   "id": "96b67d41-76a9-461e-830f-9dccfecaf678",
   "metadata": {},
   "source": [
    "### Add Helpful model metrics"
   ]
  },
  {
   "cell_type": "code",
   "execution_count": 10,
   "id": "49a43e33-b746-46ab-be9a-8a63f30a8986",
   "metadata": {
    "tags": []
   },
   "outputs": [],
   "source": [
    "df['model_bytes'] = df['nn_num_weights'] * 4"
   ]
  },
  {
   "cell_type": "markdown",
   "id": "b6c4b4b2-5b95-4f6e-bae3-389bcc45c14d",
   "metadata": {},
   "source": [
    "### Add Helpful FDA method metrics"
   ]
  },
  {
   "cell_type": "code",
   "execution_count": 11,
   "id": "13d1a75a-1031-45f1-affa-a25aa833b836",
   "metadata": {
    "tags": []
   },
   "outputs": [],
   "source": [
    "def fda_local_state_bytes(row):\n",
    "    if row['fda_name'] == \"naive\":\n",
    "        return 4\n",
    "    if row['fda_name'] == \"linear\":\n",
    "        return 8\n",
    "    if row['fda_name'] == \"sketch\":\n",
    "        return row['sketch_width'] * row['sketch_depth'] * 4 + 4\n",
    "    if row['fda_name'] == \"synchronous\":\n",
    "        return 0\n",
    "    if row['fda_name'] == 'gm':\n",
    "        return 0.125  # one bit"
   ]
  },
  {
   "cell_type": "code",
   "execution_count": 12,
   "id": "21261b2e-0f3c-4c3b-b4db-a38f5506ed70",
   "metadata": {
    "tags": []
   },
   "outputs": [],
   "source": [
    "df['local_state_bytes'] = df.apply(fda_local_state_bytes, axis=1)"
   ]
  },
  {
   "cell_type": "markdown",
   "id": "704dcdb1-4edf-4d9f-8b27-6afd7131e41e",
   "metadata": {},
   "source": [
    "### Add Total Steps\n",
    "\n",
    "total steps (a single fda step might have many normal SGD steps, batch steps)"
   ]
  },
  {
   "cell_type": "code",
   "execution_count": 13,
   "id": "ce913d44-7043-40a1-811e-bf3f1460b0c6",
   "metadata": {
    "tags": []
   },
   "outputs": [],
   "source": [
    "df['total_steps'] = df['total_fda_steps'] * df['num_steps_until_rtc_check']"
   ]
  },
  {
   "cell_type": "markdown",
   "id": "99ddccbe-4051-4499-bfdb-8d716a60ccde",
   "metadata": {},
   "source": [
    "### Add communication metrics"
   ]
  },
  {
   "cell_type": "markdown",
   "id": "80bf52a9-3fe1-40d8-bbbd-29e537777aee",
   "metadata": {},
   "source": [
    "The communication bytes exchanged for model synchronization. Remember that the Clients send their models to the Server and the Server sends the global model back. This happens at the end of every round."
   ]
  },
  {
   "cell_type": "code",
   "execution_count": 14,
   "id": "8617cd85-dcc6-4bd8-a9dc-1c8e542fe437",
   "metadata": {
    "tags": []
   },
   "outputs": [],
   "source": [
    "df['model_bytes_exchanged'] = df['total_rounds'] * df['model_bytes'] * df['num_clients'] * 2"
   ]
  },
  {
   "cell_type": "markdown",
   "id": "dbf6e175-a634-4ff5-8960-d0783aa668a5",
   "metadata": {},
   "source": [
    "The communication bytes exchanged for monitoring the variance. This happens at the end of every FDA step which consists of `num_steps_until_rtc_check` number of steps. "
   ]
  },
  {
   "cell_type": "code",
   "execution_count": 15,
   "id": "81640366-96eb-4a39-a364-f969873840b1",
   "metadata": {
    "tags": []
   },
   "outputs": [],
   "source": [
    "df['monitoring_bytes_exchanged'] = df['local_state_bytes'] * df['total_fda_steps'] * df['num_clients']"
   ]
  },
  {
   "cell_type": "markdown",
   "id": "8df1d5ae-1a42-4c01-9ba2-83b09f217fad",
   "metadata": {},
   "source": [
    "The total communication bytes exchanged in the whole Federated Learning lifecycle."
   ]
  },
  {
   "cell_type": "code",
   "execution_count": 16,
   "id": "70fccd40-dc8d-4116-8337-cb8743ee203c",
   "metadata": {
    "tags": []
   },
   "outputs": [],
   "source": [
    "df['total_communication_bytes'] = df['model_bytes_exchanged'] + df['monitoring_bytes_exchanged']"
   ]
  },
  {
   "cell_type": "code",
   "execution_count": 17,
   "id": "144c13ff-95dc-4c80-a168-41191c34d082",
   "metadata": {
    "tags": []
   },
   "outputs": [],
   "source": [
    "df['total_communication_gb'] = df['total_communication_bytes'] / 10**9"
   ]
  },
  {
   "cell_type": "markdown",
   "id": "68b611ba-113e-4efd-a207-a2288a24006d",
   "metadata": {},
   "source": [
    "Add rounds in one epoch."
   ]
  },
  {
   "cell_type": "code",
   "execution_count": 18,
   "id": "9424fe77-27e3-43bb-99d9-ec42d0032bfd",
   "metadata": {
    "tags": []
   },
   "outputs": [],
   "source": [
    "df = df.sort_values(by=['dataset_name', 'fda_name', 'nn_num_weights', 'num_clients', 'batch_size', 'num_steps_until_rtc_check', 'theta', 'epoch'])\n",
    "\n",
    "df['epoch_rounds'] = df.groupby(['dataset_name', 'fda_name', 'nn_num_weights', 'num_clients', 'batch_size', 'num_steps_until_rtc_check', 'theta'])['total_rounds'].diff()\n",
    "\n",
    "# NaN first epoch\n",
    "df['epoch_rounds'] = df['epoch_rounds'].fillna(df['total_rounds'])\n",
    "\n",
    "df['epoch_rounds'] = df['epoch_rounds'].astype(int)"
   ]
  },
  {
   "cell_type": "markdown",
   "id": "9773a738-5cbd-4d87-9a7a-004fe11d6fb3",
   "metadata": {},
   "source": [
    "# HyperParameter ranking"
   ]
  },
  {
   "cell_type": "markdown",
   "id": "42646af0-06ce-4d80-a803-9a04bbd42bb4",
   "metadata": {},
   "source": [
    "### LeNet-5\n",
    "On 2 `Nvidia A10`:\n",
    "1. Batch Size = 32 -> 6.613 ms ± 0.128 ms per loop (mean ± std. dev. of 7 runs, 1 loop each)\n",
    "2. *Batch Size* = 64 -> 7.509 ms ± 0.065 ms per loop (mean ± std. dev. of 7 runs, 1 loop each)\n",
    "3. *Batch Size* = 128 -> 8.02 ms ± 0.099 ms per loop (mean ± std. dev. of 7 runs, 1 loop each)\n",
    "4. *Batch Size* = 256 -> 9.258 ms ± 0.336 ms per loop (mean ± std. dev. of 7 runs, 1 loop each)"
   ]
  },
  {
   "cell_type": "markdown",
   "id": "ac905fcd-cbe7-4ce6-9826-ef0f4696c14c",
   "metadata": {
    "tags": []
   },
   "source": [
    "## AdvancedCNN\n",
    "\n",
    "On 2 `Nvidia A10`:\n",
    "1. *Batch Size* = 32 -> 8.853 ms ± 0.0917 ms per loop (mean ± std. dev. of 7 runs, 1 loop each)\n",
    "2. *Batch Size* = 64 -> 10.325 ms ± 0.215 ms per loop (mean ± std. dev. of 7 runs, 1 loop each)\n",
    "3. *Batch Size* = 128 -> 11.989 ms ± 0.134 ms per loop (mean ± std. dev. of 7 runs, 1 loop each)\n",
    "4. *Batch Size* = 256 -> 16.47 ms ± 0.294 ms per loop (mean ± std. dev. of 7 runs, 1 loop each)"
   ]
  },
  {
   "cell_type": "code",
   "execution_count": 19,
   "id": "83fdf5fb-18ff-4b12-ada8-5129cc7531d4",
   "metadata": {
    "tags": []
   },
   "outputs": [],
   "source": [
    "step_ms = {\n",
    "    (\"AdvancedCNN\", 32): 8.853,\n",
    "    (\"AdvancedCNN\", 64): 10.325,\n",
    "    (\"AdvancedCNN\", 128): 11.989,\n",
    "    (\"AdvancedCNN\", 256): 16.47,\n",
    "    (\"LeNet-5\", 32): 6.613,\n",
    "    (\"LeNet-5\", 64): 7.509,\n",
    "    (\"LeNet-5\", 128): 8.02,\n",
    "    (\"LeNet-5\", 256): 9.258\n",
    "}"
   ]
  },
  {
   "cell_type": "code",
   "execution_count": 20,
   "id": "178b5809-8298-4666-8296-8bbec9ccda62",
   "metadata": {
    "tags": []
   },
   "outputs": [],
   "source": [
    "import numpy as np\n",
    "\n",
    "def cpu_time_cost(row):\n",
    "    \"\"\" Total cpu time cost in (sec).\n",
    "    A single `step` means each client performed a single `step` \n",
    "    \"\"\"\n",
    "    return row['total_steps'] * step_ms[(row['nn_name'], row['batch_size'])] / 1000\n",
    "\n",
    "def communication_time_cost(num_clients, total_communication_bytes, comm_model):\n",
    "    \"\"\" Assuming channel is 1Gbps \"\"\"\n",
    "\n",
    "    total_communication_gbit = total_communication_bytes * 8e-9\n",
    "\n",
    "    if comm_model == 'common_channel':\n",
    "        \n",
    "        return ((num_clients - 1) / num_clients) * total_communication_gbit    # sec\n",
    "\n",
    "    if comm_model == 'hypercube':\n",
    "\n",
    "        return (np.ceil(np.log(num_clients)) / num_clients) * total_communication_gbit   # sec"
   ]
  },
  {
   "cell_type": "code",
   "execution_count": 21,
   "id": "6892ee25-e1b9-4e98-b5a1-c3669d84cd93",
   "metadata": {
    "tags": []
   },
   "outputs": [],
   "source": [
    "df['cpu_time_cost'] = df.apply(cpu_time_cost, axis=1)"
   ]
  },
  {
   "cell_type": "code",
   "execution_count": 22,
   "id": "a3895090-76c2-46ff-a229-30ee6142e2e9",
   "metadata": {
    "tags": []
   },
   "outputs": [],
   "source": [
    "df['hypercube_communication_time_cost'] = communication_time_cost(df['num_clients'], df['total_communication_bytes'], 'hypercube')"
   ]
  },
  {
   "cell_type": "code",
   "execution_count": 23,
   "id": "9666ef46-2574-43e9-b8e6-0c7fca3b75ec",
   "metadata": {
    "tags": []
   },
   "outputs": [],
   "source": [
    "df['common_channel_communication_time_cost'] = communication_time_cost(df['num_clients'], df['total_communication_bytes'], 'common_channel')"
   ]
  },
  {
   "cell_type": "code",
   "execution_count": 24,
   "id": "8a7c286b-25a0-4eb0-a432-fded4f049071",
   "metadata": {
    "tags": []
   },
   "outputs": [],
   "source": [
    "df['hypercube_time_cost'] = df['cpu_time_cost'] + df['hypercube_communication_time_cost']"
   ]
  },
  {
   "cell_type": "code",
   "execution_count": 25,
   "id": "efe9fa8a-d8d7-4b2a-a3a0-131eec5ce2d2",
   "metadata": {
    "tags": []
   },
   "outputs": [],
   "source": [
    "df['common_channel_time_cost'] = df['cpu_time_cost'] + df['common_channel_communication_time_cost']"
   ]
  },
  {
   "cell_type": "code",
   "execution_count": 26,
   "id": "b9cf2956-4729-48a5-b06c-8cd6953f6ef7",
   "metadata": {
    "tags": []
   },
   "outputs": [],
   "source": [
    "df['hypercube_comm_cpu_time_ratio'] = df['hypercube_communication_time_cost'] / df['cpu_time_cost']"
   ]
  },
  {
   "cell_type": "code",
   "execution_count": 27,
   "id": "be90d43a-e051-4445-a183-b68f329f2843",
   "metadata": {
    "tags": []
   },
   "outputs": [],
   "source": [
    "df['common_channel_comm_cpu_time_ratio'] = df['common_channel_communication_time_cost'] / df['cpu_time_cost']"
   ]
  },
  {
   "cell_type": "markdown",
   "id": "270b7b80-e37e-45f6-badc-14e09ab83d8f",
   "metadata": {},
   "source": [
    "# Plots about cost"
   ]
  },
  {
   "cell_type": "code",
   "execution_count": 28,
   "id": "78880363-4c40-4799-9672-3218d2ec807a",
   "metadata": {
    "tags": []
   },
   "outputs": [],
   "source": [
    "# Define styles for each fda_name\n",
    "fda_styles = {\n",
    "    'naive': 'o-r',\n",
    "    'linear': 's-g',\n",
    "    'sketch': '^-b',\n",
    "    'synchronous': 'x-c'\n",
    "}\n",
    "fda_names = ['gm', 'naive', 'linear', 'sketch', 'synchronous']"
   ]
  },
  {
   "cell_type": "code",
   "execution_count": 29,
   "id": "d4fbe02f-48f4-47f4-937b-79b16e40fa5b",
   "metadata": {
    "tags": []
   },
   "outputs": [],
   "source": [
    "import matplotlib\n",
    "\n",
    "num_clients_values = sorted(df['num_clients'].unique())\n",
    "cmap = matplotlib.colormaps['tab20b']\n",
    "colors_dict = {\n",
    "    num_clients: color \n",
    "    for num_clients, color in zip(num_clients_values, cmap(np.linspace(0, 1, len(num_clients_values))))\n",
    "}"
   ]
  },
  {
   "cell_type": "markdown",
   "id": "5d6b795b-a73d-4e94-b9e4-07df61d1f0fd",
   "metadata": {},
   "source": [
    "## KDE Helper"
   ]
  },
  {
   "cell_type": "code",
   "execution_count": 30,
   "id": "f277d83f-7869-46ef-a4d6-0129553318da",
   "metadata": {
    "tags": []
   },
   "outputs": [],
   "source": [
    "\"\"\"\n",
    "sns_params = {\n",
    "    'bw_method': 'scott',\n",
    "    'bw_adjust': 0.7,\n",
    "    'fill': True,\n",
    "    'alpha': 0.2\n",
    "}\n",
    "\"\"\"\n",
    "sns_params = {\n",
    "    'bw_method': 'scott',\n",
    "    'bw_adjust': 0.7,\n",
    "    'fill': False,\n",
    "    'alpha': 1\n",
    "}\n",
    "\n",
    "sns_params_biases = {\n",
    "    'bw_method': 'scott',\n",
    "    'bw_adjust': 0.7,\n",
    "    'fill': False,\n",
    "    'alpha': 0.8\n",
    "}\n",
    "\n",
    "base_colors = {\n",
    "    'gm': 'blue',\n",
    "    'naive': 'orange',\n",
    "    'linear': 'green',\n",
    "    'sketch': 'red',\n",
    "    'synchronous': 'purple'\n",
    "}"
   ]
  },
  {
   "cell_type": "code",
   "execution_count": 31,
   "id": "5a8b81fe-0fc4-4501-88a2-77cca9f24229",
   "metadata": {
    "tags": []
   },
   "outputs": [],
   "source": [
    "import matplotlib.pyplot as plt\n",
    "\n",
    "plt.rcParams['font.size'] = 14"
   ]
  },
  {
   "cell_type": "markdown",
   "id": "f1ad541a-b538-4598-bc75-fb3e94362216",
   "metadata": {
    "tags": []
   },
   "source": [
    "## Total time cost with accuracy"
   ]
  },
  {
   "cell_type": "markdown",
   "id": "78fd1665-4e4b-4a86-a092-f11f7c695f8c",
   "metadata": {},
   "source": [
    "### KDE"
   ]
  },
  {
   "cell_type": "code",
   "execution_count": 32,
   "id": "cfb48896-af2d-4b62-bd6a-24a46f2eb240",
   "metadata": {
    "tags": []
   },
   "outputs": [],
   "source": [
    "def kde_time_cost(df, filename, x_log=True):\n",
    "    \n",
    "    if x_log:\n",
    "        log_scale = (True, False)\n",
    "    else:\n",
    "        log_scale = False\n",
    "        \n",
    "    plt.rcParams['font.size'] = 20\n",
    "    plt.rcParams['legend.fontsize'] = 12\n",
    "    \n",
    "    pdf = PdfPages(filename)\n",
    "    \n",
    "    biases = sorted(df['bias'].unique(), reverse=True)[::-1]\n",
    "\n",
    "    for bias in biases:\n",
    "        \n",
    "        if pd.isna(bias):\n",
    "            mask = df['bias'].isna()\n",
    "            bias_title = f'Bias: {bias}'\n",
    "        elif bias > 0:\n",
    "            mask = df['bias'] == bias\n",
    "            bias_title = f'Bias: {bias}'\n",
    "        else:\n",
    "            mask = df['bias'] == bias\n",
    "            bias_title = f'Bias: only label {one_label_bias[bias]}'\n",
    "            \n",
    "        df_bias = df[mask]\n",
    "        \n",
    "        if len(df_bias['fda_name'].unique()) < 2:\n",
    "            continue\n",
    "    \n",
    "        fig, axs = plt.subplots(1, 2, figsize=(20, 8))\n",
    "\n",
    "        for fda_name in fda_names:\n",
    "            common_channel_df = df_bias[df_bias['fda_name'] == fda_name]['common_channel_time_cost']\n",
    "            sns.kdeplot(common_channel_df, label=fda_name, ax=axs[0], color=base_colors[fda_name], log_scale=log_scale, **sns_params)\n",
    "\n",
    "            hypercube_df = df_bias[df_bias['fda_name'] == fda_name]['hypercube_time_cost']\n",
    "            sns.kdeplot(hypercube_df, label=fda_name, ax=axs[1], color=base_colors[fda_name], log_scale=log_scale, **sns_params)\n",
    "\n",
    "\n",
    "        if not x_log:\n",
    "            axs[0].set_xlim(left=0)\n",
    "        axs[0].set_xlabel('Time Cost (sec)')\n",
    "        axs[0].set_ylabel('Density')\n",
    "        axs[0].legend()\n",
    "        axs[0].set_title(\"Common Channel Communication Model\")\n",
    "        axs[0].grid(True, linestyle='--', linewidth=0.5, alpha=0.5)\n",
    "        axs[0].legend()\n",
    "\n",
    "        if not x_log:\n",
    "            axs[1].set_xlim(left=0)\n",
    "\n",
    "        axs[1].set_xlabel('Time Cost (sec)')\n",
    "        axs[1].set_ylabel('Density')\n",
    "        axs[1].legend()\n",
    "        axs[1].set_title(\"Hypercube Communication Model\")\n",
    "        axs[1].grid(True, linestyle='--', linewidth=0.5, alpha=0.5)\n",
    "        axs[1].legend()\n",
    "        \n",
    "        fda_df = df_bias[df_bias['fda_name'] != 'synchronous']\n",
    "        sync_df = df_bias[df_bias['fda_name'] == 'synchronous']\n",
    "        info = f\"gm, naive, linear, sketch - bs : {fda_df['batch_size'].unique()}  ,  synchronous - bs: {sync_df['batch_size'].unique()}\\n\"\n",
    "        fig.suptitle(info+bias_title)\n",
    "        \n",
    "        plt.tight_layout()\n",
    "\n",
    "        pdf.savefig(fig)\n",
    "\n",
    "        plt.close(fig)\n",
    "    \n",
    "        \n",
    "    pdf.close()\n",
    "    \n",
    "    plt.rcParams['font.size'] = 14\n",
    "    plt.rcParams['legend.fontsize'] = 12"
   ]
  },
  {
   "cell_type": "markdown",
   "id": "b2320ef3-66a1-4397-9b3f-6fd0c13ea5d6",
   "metadata": {
    "tags": []
   },
   "source": [
    "## Total Communication cost (in gb) with accuracy (scatter)"
   ]
  },
  {
   "cell_type": "markdown",
   "id": "3df3f1eb-20a7-4d2a-ba60-cc36708ca42a",
   "metadata": {},
   "source": [
    "### KDE"
   ]
  },
  {
   "cell_type": "code",
   "execution_count": 33,
   "id": "83fca381-1fc0-4f35-9115-cd6effb3129f",
   "metadata": {
    "tags": []
   },
   "outputs": [],
   "source": [
    "def kde_communication_cost(df, filename, x_log=True):\n",
    "\n",
    "    if x_log:\n",
    "        log_scale = (True, False)\n",
    "    else:\n",
    "        log_scale = False\n",
    "        \n",
    "    pdf = PdfPages(filename)\n",
    "    \n",
    "    biases = sorted(df['bias'].unique(), reverse=True)[::-1]\n",
    "\n",
    "    for bias in biases:\n",
    "        \n",
    "        if pd.isna(bias):\n",
    "            mask = df['bias'].isna()\n",
    "            bias_title = f'Bias: {bias}'\n",
    "        elif bias > 0:\n",
    "            mask = df['bias'] == bias\n",
    "            bias_title = f'Bias: {bias}'\n",
    "        else:\n",
    "            mask = df['bias'] == bias\n",
    "            bias_title = f'Bias: only label {one_label_bias[bias]}'\n",
    "            \n",
    "        df_bias = df[mask]\n",
    "        \n",
    "        if len(df_bias['fda_name'].unique()) < 2:\n",
    "            continue\n",
    "    \n",
    "        plt.figure(figsize=(10, 6))\n",
    "\n",
    "        avg_communications_dict = {}\n",
    "        avg_info = []\n",
    "\n",
    "        for fda_name in fda_names:\n",
    "            fda_data_df = df_bias[df_bias['fda_name'] == fda_name]['total_communication_gb']\n",
    "            \n",
    "            if fda_data_df.empty:\n",
    "                continue\n",
    "            \n",
    "            avg_communications_dict[fda_name] = fda_data_df.mean()\n",
    "            avg_info.append(f'{fda_name}: {avg_communications_dict[fda_name]:.2f} GB')\n",
    "\n",
    "            # Plotting only the KDE using kdeplot\n",
    "            sns.kdeplot(fda_data_df, label=fda_name, log_scale=log_scale, color=base_colors[fda_name], **sns_params)\n",
    "\n",
    "\n",
    "        text = \"Average Communication:\\n\" + '\\n'.join(avg_info)\n",
    "        # Add the text annotation inside the plot\n",
    "        plt.text(0.02, 0.97, text, transform=plt.gca().transAxes, fontsize=9, verticalalignment='top',\n",
    "                 bbox=dict(boxstyle='round', facecolor='wheat', alpha=0.4))\n",
    "\n",
    "\n",
    "        if not x_log:\n",
    "            plt.xlim(left=0)\n",
    "\n",
    "        plt.grid(True, linestyle='--', linewidth=0.5, alpha=0.5)\n",
    "        plt.xlabel('Communication (GB)')\n",
    "        plt.ylabel('Density')\n",
    "        #plt.legend()  # We'll be moving this\n",
    "        plt.gca().legend(loc='best', bbox_to_anchor=(0, 0.1, 1, 0.67))\n",
    "        \n",
    "        fda_df = df_bias[df_bias['fda_name'] != 'synchronous']\n",
    "        sync_df = df_bias[df_bias['fda_name'] == 'synchronous']\n",
    "        info = f\"gm, naive, linear, sketch - bs : {fda_df['batch_size'].unique()}  ,  synchronous - bs: {sync_df['batch_size'].unique()}\\n\"\n",
    "        plt.suptitle(info+bias_title)\n",
    "\n",
    "        plt.tight_layout()\n",
    "\n",
    "        pdf.savefig(plt.gcf()) # Save the current figure\n",
    "\n",
    "        # Close the current figure to prevent it from being displayed in the notebook\n",
    "        plt.close()\n",
    "    pdf.close()"
   ]
  },
  {
   "cell_type": "markdown",
   "id": "c3d35fd9-5826-4e5d-83fa-d9522eb7d2b1",
   "metadata": {},
   "source": [
    "## Total CPU time (in Seconds) with accuracy"
   ]
  },
  {
   "cell_type": "markdown",
   "id": "52af3838-5f3d-4ae6-8070-9ab446bed403",
   "metadata": {},
   "source": [
    "### KDE"
   ]
  },
  {
   "cell_type": "code",
   "execution_count": 34,
   "id": "ee28d792-6495-4ab1-a694-9cf2fb1799eb",
   "metadata": {
    "tags": []
   },
   "outputs": [],
   "source": [
    "def kde_cpu_time_cost(df, filename, x_log=False):\n",
    "    \n",
    "    if x_log:\n",
    "        log_scale = (True, False)\n",
    "    else:\n",
    "        log_scale = False\n",
    "        \n",
    "    pdf = PdfPages(filename)\n",
    "    \n",
    "    biases = sorted(df['bias'].unique(), reverse=True)[::-1]\n",
    "\n",
    "    for bias in biases:\n",
    "        \n",
    "        if pd.isna(bias):\n",
    "            mask = df['bias'].isna()\n",
    "            bias_title = f'Bias: {bias}'\n",
    "        elif bias > 0:\n",
    "            mask = df['bias'] == bias\n",
    "            bias_title = f'Bias: {bias}'\n",
    "        else:\n",
    "            mask = df['bias'] == bias\n",
    "            bias_title = f'Bias: only label {one_label_bias[bias]}'\n",
    "            \n",
    "        df_bias = df[mask]\n",
    "        \n",
    "        if len(df_bias['fda_name'].unique()) < 2:\n",
    "            continue\n",
    "    \n",
    "        plt.figure(figsize=(10, 6))\n",
    "\n",
    "        for fda_name in fda_names:\n",
    "            fda_data_df = df_bias[df_bias['fda_name'] == fda_name]['cpu_time_cost']\n",
    "            \n",
    "            if fda_data_df.empty:\n",
    "                continue\n",
    "\n",
    "            # Plotting only the KDE using kdeplot\n",
    "            sns.kdeplot(fda_data_df, label=fda_name, log_scale=log_scale, color=base_colors[fda_name], **sns_params)\n",
    "\n",
    "        if not x_log:\n",
    "            plt.xlim(left=0)\n",
    "        plt.grid(True, linestyle='--', linewidth=0.5, alpha=0.5)\n",
    "        plt.xlabel('CPU time cost (sec)')\n",
    "        plt.ylabel('Density')\n",
    "        plt.legend()\n",
    "        \n",
    "        fda_df = df_bias[df_bias['fda_name'] != 'synchronous']\n",
    "        sync_df = df_bias[df_bias['fda_name'] == 'synchronous']\n",
    "        info = f\"gm, naive, linear, sketch - bs : {fda_df['batch_size'].unique()}  ,  synchronous - bs: {sync_df['batch_size'].unique()}\\n\"\n",
    "        plt.suptitle(info+bias_title)\n",
    "        \n",
    "        plt.tight_layout()\n",
    "\n",
    "        pdf.savefig(plt.gcf()) # Save the current figure\n",
    "        \n",
    "        # Close the current figure to prevent it from being displayed in the notebook\n",
    "        plt.close()\n",
    "    pdf.close()"
   ]
  },
  {
   "cell_type": "markdown",
   "id": "a9ff1f1c-c631-4d65-acc9-7d3e48ccbb2d",
   "metadata": {},
   "source": [
    "## Total CPU cost / Comm Cost (time) - ratio "
   ]
  },
  {
   "cell_type": "code",
   "execution_count": 35,
   "id": "0b5fafd2-8b6e-41c2-b560-4d3b8d22289e",
   "metadata": {
    "tags": []
   },
   "outputs": [],
   "source": [
    "def kde_comm_cpu_time_cost_ratio(df, filename, x_log=True):\n",
    "    \n",
    "    if x_log:\n",
    "        log_scale = (True, False)\n",
    "    else:\n",
    "        log_scale = False\n",
    "        \n",
    "    plt.rcParams['font.size'] = 20\n",
    "    plt.rcParams['legend.fontsize'] = 12\n",
    "    \n",
    "    pdf = PdfPages(filename)\n",
    "    \n",
    "    biases = sorted(df['bias'].unique(), reverse=True)[::-1]\n",
    "\n",
    "    for bias in biases:\n",
    "        \n",
    "        if pd.isna(bias):\n",
    "            mask = df['bias'].isna()\n",
    "            bias_title = f'Bias: {bias}'\n",
    "        elif bias > 0:\n",
    "            mask = df['bias'] == bias\n",
    "            bias_title = f'Bias: {bias}'\n",
    "        else:\n",
    "            mask = df['bias'] == bias\n",
    "            bias_title = f'Bias: only label {one_label_bias[bias]}'\n",
    "            \n",
    "        df_bias = df[mask]\n",
    "        \n",
    "        if len(df_bias['fda_name'].unique()) < 2:\n",
    "            continue\n",
    "    \n",
    "        fig, axs = plt.subplots(1, 2, figsize=(20, 8))\n",
    "\n",
    "        for fda_name in fda_names:\n",
    "            df_fda = df_bias[df_bias['fda_name'] == fda_name]\n",
    "            \n",
    "            if df_fda.empty:\n",
    "                continue\n",
    "            \n",
    "            common_channel_ratio_df = df_fda['cpu_time_cost'] / df_fda['common_channel_communication_time_cost']\n",
    "            sns.kdeplot(common_channel_ratio_df, label=fda_name, ax=axs[0], color=base_colors[fda_name], log_scale=log_scale, **sns_params)\n",
    "\n",
    "            hypercube_ratio_df = df_fda['cpu_time_cost'] / df_fda['hypercube_communication_time_cost']\n",
    "            sns.kdeplot(hypercube_ratio_df, label=fda_name, ax=axs[1], color=base_colors[fda_name], log_scale=log_scale, **sns_params)\n",
    "\n",
    "\n",
    "        if not x_log:\n",
    "            axs[0].set_xlim(left=0)\n",
    "        axs[0].set_xlabel('CPU Time Cost / Comm. Time Cost')\n",
    "        axs[0].set_ylabel('Density')\n",
    "        axs[0].legend()\n",
    "        axs[0].set_title(\"Common Channel Communication Model\")\n",
    "        axs[0].grid(True, linestyle='--', linewidth=0.5, alpha=0.5)\n",
    "        axs[0].legend()\n",
    "\n",
    "        if not x_log:\n",
    "            axs[1].set_xlim(left=0)\n",
    "\n",
    "        axs[1].set_xlabel('CPU Time Cost / Comm. Time Cost')\n",
    "        axs[1].set_ylabel('Density')\n",
    "        axs[1].legend()\n",
    "        axs[1].set_title(\"Hypercube Communication Model\")\n",
    "        axs[1].grid(True, linestyle='--', linewidth=0.5, alpha=0.5)\n",
    "        axs[1].legend()\n",
    "        \n",
    "        fda_df = df_bias[df_bias['fda_name'] != 'synchronous']\n",
    "        sync_df = df_bias[df_bias['fda_name'] == 'synchronous']\n",
    "        info = f\"gm, naive, linear, sketch - bs : {fda_df['batch_size'].unique()}  ,  synchronous - bs: {sync_df['batch_size'].unique()}\\n\"\n",
    "        fig.suptitle(info+bias_title)\n",
    "        \n",
    "        plt.tight_layout()\n",
    "\n",
    "        pdf.savefig(fig)\n",
    "\n",
    "        plt.close(fig)\n",
    "    \n",
    "        \n",
    "    pdf.close()\n",
    "    \n",
    "    plt.rcParams['font.size'] = 14\n",
    "    plt.rcParams['legend.fontsize'] = 12"
   ]
  },
  {
   "cell_type": "code",
   "execution_count": null,
   "id": "cb870a3a-ddbb-4e04-9f51-7745bb4c66b4",
   "metadata": {},
   "outputs": [],
   "source": []
  },
  {
   "cell_type": "markdown",
   "id": "365e9052-69dd-4303-bfeb-01e116c05b35",
   "metadata": {},
   "source": [
    "## Keep Hyper-parameters fixed and plot for filtered"
   ]
  },
  {
   "cell_type": "code",
   "execution_count": 36,
   "id": "d893dadb-18b0-400d-a36f-60bd92c2970c",
   "metadata": {
    "tags": []
   },
   "outputs": [],
   "source": [
    "def fda_methods_clients_time_cost(df, filename):\n",
    "    pdf = PdfPages(filename)\n",
    "    \n",
    "    batch_size_values = sorted(df['batch_size'].unique())\n",
    "    theta_values = sorted(df['theta'].unique())[1:]\n",
    "    \n",
    "    biases = sorted(df['bias'].unique(), reverse=True)[::-1]\n",
    "\n",
    "    for bias in biases:\n",
    "        \n",
    "        if pd.isna(bias):\n",
    "            mask = df['bias'].isna()\n",
    "            bias_title = f'Bias: {bias}'\n",
    "        elif bias > 0:\n",
    "            mask = df['bias'] == bias\n",
    "            bias_title = f'Bias: {bias}'\n",
    "        else:\n",
    "            mask = df['bias'] == bias\n",
    "            bias_title = f'Bias: only label {one_label_bias[bias]}'\n",
    "            \n",
    "        df_bias = df[mask]\n",
    "        \n",
    "        for batch_size in batch_size_values:\n",
    "            for theta in theta_values:\n",
    "\n",
    "                filtered_df = df_bias[(df_bias['theta'] == theta) & (df_bias['batch_size'] == batch_size)] \n",
    "\n",
    "                if filtered_df.empty:\n",
    "                    continue\n",
    "\n",
    "                fig, axs = plt.subplots(1, 2, figsize=(20, 6))\n",
    "\n",
    "                for fda_name in fda_names:\n",
    "\n",
    "                    if fda_name == 'synchronous':\n",
    "                        continue\n",
    "\n",
    "                    fda_data = filtered_df[filtered_df['fda_name'] == fda_name]\n",
    "\n",
    "                    if fda_data.empty:\n",
    "                        continue\n",
    "\n",
    "                    axs[0].plot(fda_data['num_clients'], fda_data['common_channel_time_cost'], marker='o', color=base_colors[fda_name], label=fda_name, markersize=3)\n",
    "                    axs[1].plot(fda_data['num_clients'], fda_data['hypercube_time_cost'], marker='o', color=base_colors[fda_name], label=fda_name, markersize=3)\n",
    "\n",
    "                synchronous_data = df_bias[(df_bias['batch_size'] == batch_size) & (df_bias['fda_name'] == 'synchronous')] \n",
    "\n",
    "                if not synchronous_data.empty:\n",
    "                    axs[0].plot(synchronous_data['num_clients'], synchronous_data['common_channel_time_cost'], marker='o', label='synchronous', color=base_colors['synchronous'], markersize=3)\n",
    "                    axs[1].plot(synchronous_data['num_clients'], synchronous_data['hypercube_time_cost'], marker='o', label='synchronous', color=base_colors['synchronous'], markersize=3)\n",
    "\n",
    "                if not axs[0].has_data():\n",
    "                    plt.close(fig)\n",
    "                    continue\n",
    "\n",
    "                # Set xticks every 5 units based on available values\n",
    "                min_clients = 5\n",
    "                max_clients = 60\n",
    "\n",
    "                x_ticks = list(range(min_clients, max_clients + 1, 5))\n",
    "\n",
    "                axs[0].set_yscale('log')\n",
    "                axs[0].set_xticks(x_ticks)\n",
    "                axs[0].set_xlabel('Number of clients')\n",
    "                axs[0].legend()\n",
    "                axs[0].set_title(\"Common Channel Communication Model\")\n",
    "                axs[0].set_ylabel('Time Cost')\n",
    "                axs[0].grid(True, linestyle='--', linewidth=0.5, alpha=0.5)\n",
    "\n",
    "                axs[1].set_yscale('log')\n",
    "                axs[1].set_xticks(x_ticks)\n",
    "                axs[1].set_xlabel('Number of clients')\n",
    "                axs[1].legend()\n",
    "                axs[1].set_title(\"Hypercube Communication Model\")\n",
    "                axs[1].set_ylabel('Time Cost')\n",
    "                axs[1].grid(True, linestyle='--', linewidth=0.5, alpha=0.5)\n",
    "\n",
    "                title = f'Batch Size : {batch_size} , $\\Theta$ : {theta} , {bias_title}'\n",
    "                fig.suptitle(title)\n",
    "\n",
    "                plt.tight_layout()\n",
    "\n",
    "                pdf.savefig(fig)\n",
    "\n",
    "                plt.close(fig)\n",
    "    pdf.close()"
   ]
  },
  {
   "cell_type": "code",
   "execution_count": 37,
   "id": "7dfd80c9-0fcc-4e19-828e-89fe2f9f6152",
   "metadata": {
    "tags": []
   },
   "outputs": [],
   "source": [
    "def fda_methods_clients_comm_cost(df, filename):\n",
    "    pdf = PdfPages(filename)\n",
    "    \n",
    "    batch_size_values = sorted(df['batch_size'].unique())\n",
    "    theta_values = sorted(df['theta'].unique())[1:]\n",
    "    \n",
    "    biases = sorted(df['bias'].unique(), reverse=True)[::-1]\n",
    "\n",
    "    for bias in biases:\n",
    "        \n",
    "        if pd.isna(bias):\n",
    "            mask = df['bias'].isna()\n",
    "            bias_title = f'Bias: {bias}'\n",
    "        elif bias > 0:\n",
    "            mask = df['bias'] == bias\n",
    "            bias_title = f'Bias: {bias}'\n",
    "        else:\n",
    "            mask = df['bias'] == bias\n",
    "            bias_title = f'Bias: only label {one_label_bias[bias]}'\n",
    "            \n",
    "        df_bias = df[mask]\n",
    "        \n",
    "        for batch_size in batch_size_values:\n",
    "            for theta in theta_values:\n",
    "\n",
    "                filtered_df = df_bias[(df_bias['theta'] == theta) & (df_bias['batch_size'] == batch_size)] \n",
    "\n",
    "                if filtered_df.empty:\n",
    "                    continue\n",
    "\n",
    "                plt.figure(figsize=(10, 6))\n",
    "\n",
    "                for fda_name in fda_names:\n",
    "\n",
    "                    if fda_name == 'synchronous':\n",
    "                        continue\n",
    "\n",
    "                    fda_data = filtered_df[filtered_df['fda_name'] == fda_name]\n",
    "\n",
    "                    if fda_data.empty:\n",
    "                        continue\n",
    "\n",
    "                    plt.plot(fda_data['num_clients'], fda_data['total_communication_gb'], marker='o', color=base_colors[fda_name], label=fda_name, markersize=3)\n",
    "\n",
    "                synchronous_data = df_bias[(df_bias['batch_size'] == batch_size) & (df_bias['fda_name'] == 'synchronous')] \n",
    "\n",
    "                if not synchronous_data.empty:\n",
    "                    plt.plot(synchronous_data['num_clients'], synchronous_data['total_communication_gb'], marker='o', label='synchronous', color=base_colors['synchronous'], markersize=3)\n",
    "\n",
    "                # Set xticks every 5 units based on available values\n",
    "                min_clients = 5\n",
    "                max_clients = 60\n",
    "\n",
    "                x_ticks = list(range(min_clients, max_clients + 1, 5))\n",
    "\n",
    "                plt.yscale('log')\n",
    "                plt.xticks(x_ticks)\n",
    "                plt.xlabel('Number of clients')\n",
    "                plt.legend()\n",
    "                plt.ylabel('Communication (GB)')\n",
    "                plt.grid(True, linestyle='--', linewidth=0.5, alpha=0.5)\n",
    "\n",
    "                title = f'Batch Size : {batch_size} , $\\Theta$ : {theta} , {bias_title}'\n",
    "                plt.suptitle(title)\n",
    "\n",
    "                plt.tight_layout()\n",
    "\n",
    "                pdf.savefig(plt.gcf()) # Save the current figure\n",
    "        \n",
    "                # Close the current figure to prevent it from being displayed in the notebook\n",
    "                plt.close()\n",
    "    pdf.close()"
   ]
  },
  {
   "cell_type": "code",
   "execution_count": 38,
   "id": "0e72a849-b20e-497b-8ec8-80b3040ff0c5",
   "metadata": {
    "tags": []
   },
   "outputs": [],
   "source": [
    "def fda_methods_clients_cpu_cost(df, filename):\n",
    "    pdf = PdfPages(filename)\n",
    "    \n",
    "    batch_size_values = sorted(df['batch_size'].unique())\n",
    "    theta_values = sorted(df['theta'].unique())[1:]\n",
    "    \n",
    "    biases = sorted(df['bias'].unique(), reverse=True)[::-1]\n",
    "\n",
    "    for bias in biases:\n",
    "        \n",
    "        if pd.isna(bias):\n",
    "            mask = df['bias'].isna()\n",
    "            bias_title = f'Bias: {bias}'\n",
    "        elif bias > 0:\n",
    "            mask = df['bias'] == bias\n",
    "            bias_title = f'Bias: {bias}'\n",
    "        else:\n",
    "            mask = df['bias'] == bias\n",
    "            bias_title = f'Bias: only label {one_label_bias[bias]}'\n",
    "            \n",
    "        df_bias = df[mask]\n",
    "        \n",
    "        for batch_size in batch_size_values:\n",
    "            for theta in theta_values:\n",
    "\n",
    "                filtered_df = df_bias[(df_bias['theta'] == theta) & (df_bias['batch_size'] == batch_size)] \n",
    "                    \n",
    "                if filtered_df.empty:\n",
    "                    continue\n",
    "\n",
    "                plt.figure(figsize=(10, 6))\n",
    "\n",
    "                for fda_name in fda_names:\n",
    "\n",
    "                    if fda_name == 'synchronous':\n",
    "                        continue\n",
    "\n",
    "                    fda_data = filtered_df[filtered_df['fda_name'] == fda_name]\n",
    "\n",
    "                    if fda_data.empty:\n",
    "                        continue\n",
    "\n",
    "                    plt.plot(fda_data['num_clients'], fda_data['cpu_time_cost'], marker='o', color=base_colors[fda_name], label=fda_name, markersize=3)\n",
    "\n",
    "                synchronous_data = df_bias[(df_bias['batch_size'] == batch_size) & (df_bias['fda_name'] == 'synchronous')] \n",
    "\n",
    "                if not synchronous_data.empty:\n",
    "                    plt.plot(synchronous_data['num_clients'], synchronous_data['cpu_time_cost'], marker='o', label='synchronous', color=base_colors['synchronous'], markersize=3)\n",
    "\n",
    "                # Set xticks every 5 units based on available values\n",
    "                min_clients = 5\n",
    "                max_clients = 60\n",
    "\n",
    "                x_ticks = list(range(min_clients, max_clients + 1, 5))\n",
    "\n",
    "                #plt.yscale('log')\n",
    "                plt.xticks(x_ticks)\n",
    "                plt.xlabel('Number of clients')\n",
    "                plt.legend()\n",
    "                plt.ylabel('CPU Time Cost (sec)')\n",
    "                plt.grid(True, linestyle='--', linewidth=0.5, alpha=0.5)\n",
    "\n",
    "                title = f'Batch Size : {batch_size} , $\\Theta$ : {theta} , {bias_title}'\n",
    "                plt.suptitle(title)\n",
    "\n",
    "                plt.tight_layout()\n",
    "\n",
    "                pdf.savefig(plt.gcf()) # Save the current figure\n",
    "        \n",
    "                # Close the current figure to prevent it from being displayed in the notebook\n",
    "                plt.close()\n",
    "    pdf.close()"
   ]
  },
  {
   "cell_type": "code",
   "execution_count": null,
   "id": "ee2fe9ae-df50-490e-9211-a4304dc77c9a",
   "metadata": {},
   "outputs": [],
   "source": []
  },
  {
   "cell_type": "code",
   "execution_count": null,
   "id": "a9a76c3a-20ee-41a7-9172-fb8f41d8898c",
   "metadata": {},
   "outputs": [],
   "source": []
  },
  {
   "cell_type": "code",
   "execution_count": 39,
   "id": "00863691-f2de-4026-9390-ff9b10831aaf",
   "metadata": {
    "tags": []
   },
   "outputs": [],
   "source": [
    "def fda_methods_theta_time_cost(df, filename):\n",
    "    pdf = PdfPages(filename)\n",
    "    \n",
    "    batch_size_values = sorted(df['batch_size'].unique())\n",
    "    num_clients_values = sorted(df['num_clients'].unique())\n",
    "    \n",
    "    biases = sorted(df['bias'].unique(), reverse=True)[::-1]\n",
    "\n",
    "    for bias in biases:\n",
    "        \n",
    "        if pd.isna(bias):\n",
    "            mask = df['bias'].isna()\n",
    "            bias_title = f'Bias: {bias}'\n",
    "        elif bias > 0:\n",
    "            mask = df['bias'] == bias\n",
    "            bias_title = f'Bias: {bias}'\n",
    "        else:\n",
    "            mask = df['bias'] == bias\n",
    "            bias_title = f'Bias: only label {one_label_bias[bias]}'\n",
    "            \n",
    "        df_bias = df[mask]\n",
    "\n",
    "        for batch_size in batch_size_values:\n",
    "            for num_clients in num_clients_values:\n",
    "\n",
    "                filtered_df = df_bias[(df_bias['batch_size'] == batch_size) & (df_bias['num_clients'] == num_clients)] \n",
    "\n",
    "                if filtered_df[filtered_df['fda_name'] != 'synchronous'].empty:\n",
    "                    continue\n",
    "\n",
    "                fig, axs = plt.subplots(1, 2, figsize=(20, 6))\n",
    "\n",
    "                for fda_name in fda_names:\n",
    "\n",
    "                    if fda_name == 'synchronous':\n",
    "                        continue\n",
    "\n",
    "                    fda_data = filtered_df[filtered_df['fda_name'] == fda_name]\n",
    "\n",
    "                    if fda_data.empty:\n",
    "                        continue\n",
    "\n",
    "                    axs[0].plot(fda_data['theta'], fda_data['common_channel_time_cost'], marker='o', label=fda_name, color=base_colors[fda_name], markersize=3)\n",
    "                    axs[1].plot(fda_data['theta'], fda_data['hypercube_time_cost'], marker='o', label=fda_name, color=base_colors[fda_name], markersize=3)\n",
    "\n",
    "                synchronous_data = df_bias[(df_bias['batch_size'] == batch_size) & (df_bias['fda_name'] == 'synchronous') & (df_bias['num_clients'] == num_clients)] \n",
    "\n",
    "                if not synchronous_data.empty:\n",
    "                    axs[0].axhline(y=synchronous_data['common_channel_time_cost'].iloc[0], label='synchronous', marker='o', color=base_colors['synchronous'], markersize=3)\n",
    "                    axs[1].axhline(y=synchronous_data['hypercube_time_cost'].iloc[0], label='synchronous', marker='o', color=base_colors['synchronous'], markersize=3)\n",
    "\n",
    "                if not axs[0].has_data():\n",
    "                    plt.close(fig)\n",
    "                    continue\n",
    "\n",
    "                axs[0].set_yscale('log')\n",
    "                axs[0].set_xlabel('Theta')\n",
    "                axs[0].legend()\n",
    "                axs[0].set_title(\"Common Channel Communication Model\")\n",
    "                axs[0].set_ylabel('Time Cost')\n",
    "                axs[0].grid(True, linestyle='--', linewidth=0.5, alpha=0.5)\n",
    "\n",
    "                axs[1].set_yscale('log')\n",
    "                axs[1].set_xlabel('Theta')\n",
    "                axs[1].legend()\n",
    "                axs[1].set_title(\"Hypercube Communication Model\")\n",
    "                axs[1].set_ylabel('Time Cost')\n",
    "                axs[1].grid(True, linestyle='--', linewidth=0.5, alpha=0.5)\n",
    "\n",
    "                title = f'Batch Size : {batch_size} , Num Clients : {num_clients} , {bias_title}'\n",
    "                fig.suptitle(title)\n",
    "\n",
    "                plt.tight_layout()\n",
    "\n",
    "                pdf.savefig(fig)\n",
    "\n",
    "                plt.close(fig)\n",
    "    pdf.close()"
   ]
  },
  {
   "cell_type": "code",
   "execution_count": 40,
   "id": "186b75fa-2fa1-42be-9c46-5dfd0072fb8a",
   "metadata": {
    "tags": []
   },
   "outputs": [],
   "source": [
    "def fda_methods_theta_comm_cost(df, filename):\n",
    "    pdf = PdfPages(filename)\n",
    "    \n",
    "    batch_size_values = sorted(df['batch_size'].unique())\n",
    "    num_clients_values = sorted(df['num_clients'].unique())\n",
    "    \n",
    "    biases = sorted(df['bias'].unique(), reverse=True)[::-1]\n",
    "\n",
    "    for bias in biases:\n",
    "        \n",
    "        if pd.isna(bias):\n",
    "            mask = df['bias'].isna()\n",
    "            bias_title = f'Bias: {bias}'\n",
    "        elif bias > 0:\n",
    "            mask = df['bias'] == bias\n",
    "            bias_title = f'Bias: {bias}'\n",
    "        else:\n",
    "            mask = df['bias'] == bias\n",
    "            bias_title = f'Bias: only label {one_label_bias[bias]}'\n",
    "            \n",
    "        df_bias = df[mask]\n",
    "\n",
    "        for batch_size in batch_size_values:\n",
    "            for num_clients in num_clients_values:\n",
    "\n",
    "                filtered_df = df_bias[(df_bias['batch_size'] == batch_size) & (df_bias['num_clients'] == num_clients)] \n",
    "\n",
    "                if filtered_df[filtered_df['fda_name'] != 'synchronous'].empty:\n",
    "                    continue\n",
    "\n",
    "                plt.figure(figsize=(10, 6))\n",
    "\n",
    "                for fda_name in fda_names:\n",
    "\n",
    "                    if fda_name == 'synchronous':\n",
    "                        continue\n",
    "\n",
    "                    fda_data = filtered_df[filtered_df['fda_name'] == fda_name]\n",
    "\n",
    "                    if fda_data.empty:\n",
    "                        continue\n",
    "\n",
    "                    plt.plot(fda_data['theta'], fda_data['total_communication_gb'], marker='o', label=fda_name, color=base_colors[fda_name], markersize=3)\n",
    "\n",
    "                synchronous_data = df_bias[(df_bias['batch_size'] == batch_size) & (df_bias['fda_name'] == 'synchronous') & (df_bias['num_clients'] == num_clients)] \n",
    "\n",
    "                if not synchronous_data.empty:\n",
    "                    plt.axhline(y=synchronous_data['total_communication_gb'].iloc[0], label='synchronous', marker='o', color=base_colors['synchronous'], markersize=3)\n",
    "\n",
    "                plt.yscale('log')\n",
    "                plt.xlabel('Theta')\n",
    "                plt.legend()\n",
    "                plt.ylabel('Communication Cost (GB)')\n",
    "                plt.grid(True, linestyle='--', linewidth=0.5, alpha=0.5)\n",
    "\n",
    "                title = f'Batch Size : {batch_size} , Num Clients : {num_clients} , {bias_title}'\n",
    "                plt.suptitle(title)\n",
    "\n",
    "                plt.tight_layout()\n",
    "\n",
    "                pdf.savefig(plt.gcf())\n",
    "\n",
    "                plt.close()\n",
    "    pdf.close()"
   ]
  },
  {
   "cell_type": "code",
   "execution_count": 41,
   "id": "86127ef8-3dad-4526-b837-755405050aca",
   "metadata": {
    "tags": []
   },
   "outputs": [],
   "source": [
    "def fda_methods_theta_cpu_cost(df, filename):\n",
    "    pdf = PdfPages(filename)\n",
    "    \n",
    "    batch_size_values = sorted(df['batch_size'].unique())\n",
    "    num_clients_values = sorted(df['num_clients'].unique())\n",
    "    \n",
    "    biases = sorted(df['bias'].unique(), reverse=True)[::-1]\n",
    "\n",
    "    for bias in biases:\n",
    "        \n",
    "        if pd.isna(bias):\n",
    "            mask = df['bias'].isna()\n",
    "            bias_title = f'Bias: {bias}'\n",
    "        elif bias > 0:\n",
    "            mask = df['bias'] == bias\n",
    "            bias_title = f'Bias: {bias}'\n",
    "        else:\n",
    "            mask = df['bias'] == bias\n",
    "            bias_title = f'Bias: only label {one_label_bias[bias]}'\n",
    "            \n",
    "        df_bias = df[mask]\n",
    "\n",
    "        for batch_size in batch_size_values:\n",
    "            for num_clients in num_clients_values:\n",
    "\n",
    "                filtered_df = df_bias[(df_bias['batch_size'] == batch_size) & (df_bias['num_clients'] == num_clients)] \n",
    "\n",
    "                if filtered_df[filtered_df['fda_name'] != 'synchronous'].empty:\n",
    "                    continue\n",
    "\n",
    "                plt.figure(figsize=(10, 6))\n",
    "\n",
    "                for fda_name in fda_names:\n",
    "\n",
    "                    if fda_name == 'synchronous':\n",
    "                        continue\n",
    "\n",
    "                    fda_data = filtered_df[filtered_df['fda_name'] == fda_name]\n",
    "\n",
    "                    if fda_data.empty:\n",
    "                        continue\n",
    "\n",
    "                    plt.plot(fda_data['theta'], fda_data['cpu_time_cost'], marker='o', label=fda_name, color=base_colors[fda_name], markersize=3)\n",
    "\n",
    "                synchronous_data = df_bias[(df_bias['batch_size'] == batch_size) & (df_bias['fda_name'] == 'synchronous') & (df_bias['num_clients'] == num_clients)] \n",
    "\n",
    "                if not synchronous_data.empty:\n",
    "                    plt.axhline(y=synchronous_data['cpu_time_cost'].iloc[0], label='synchronous', marker='o', color=base_colors['synchronous'], markersize=3)\n",
    "\n",
    "                #plt.yscale('log')\n",
    "                plt.xlabel('Theta')\n",
    "                plt.legend()\n",
    "                plt.ylabel('CPU Time Cost (sec)')\n",
    "                plt.grid(True, linestyle='--', linewidth=0.5, alpha=0.5)\n",
    "\n",
    "                title = f'Batch Size : {batch_size} , Num Clients : {num_clients} , {bias_title}'\n",
    "                plt.suptitle(title)\n",
    "\n",
    "                plt.tight_layout()\n",
    "\n",
    "                pdf.savefig(plt.gcf())\n",
    "\n",
    "                plt.close()\n",
    "    pdf.close()"
   ]
  },
  {
   "cell_type": "markdown",
   "id": "35569ad5-0ead-4036-af4e-3164eb070745",
   "metadata": {},
   "source": [
    "# Per accuracy"
   ]
  },
  {
   "cell_type": "code",
   "execution_count": 61,
   "id": "1204ab7f-c590-4fc2-8502-7f05c59389cc",
   "metadata": {
    "tags": []
   },
   "outputs": [],
   "source": [
    "def accuracies_plots(df, filename, accuracies):\n",
    "    pdf = PdfPages(filename)\n",
    "    \n",
    "    theta_values = sorted(df['theta'].unique())[1:]\n",
    "\n",
    "    biases = sorted(df['bias'].unique(), reverse=True)[::-1]\n",
    "\n",
    "    clients = list(range(5, 60 + 1, 5))\n",
    "    \n",
    "    batch_sizes = df['batch_size'].unique()\n",
    "\n",
    "    cmap = matplotlib.colormaps['tab20b']\n",
    "    colors_dict = {\n",
    "        num_clients: color \n",
    "        for num_clients, color in zip(clients, cmap(np.linspace(0, 1, len(num_clients_values))))\n",
    "    }\n",
    "\n",
    "    for bias in biases:\n",
    "\n",
    "        if pd.isna(bias):\n",
    "            mask = df['bias'].isna()\n",
    "            bias_title = f'Bias: {bias}'\n",
    "        elif bias > 0:\n",
    "            mask = df['bias'] == bias\n",
    "            bias_title = f'Bias: {bias}'\n",
    "        else:\n",
    "            mask = df['bias'] == bias\n",
    "            bias_title = f'Bias: only label {one_label_bias[bias]}'\n",
    "\n",
    "        df_bias = df[mask]\n",
    "        \n",
    "        # 1. Synchronous ALL\n",
    "        \n",
    "        df_sync = df_bias[df_bias['fda_name'] == 'synchronous']\n",
    "        \n",
    "        for bs in sorted(df_sync['batch_size'].unique()):\n",
    "            \n",
    "            bs_df = df_sync[df_sync['batch_size'] == bs]\n",
    "\n",
    "            dataframes_for_acc = []\n",
    "\n",
    "            plt.figure(figsize=(10, 6))\n",
    "\n",
    "            for acc in accuracies:\n",
    "\n",
    "                filtered_df = bs_df[(bs_df.accuracy > acc)]\n",
    "                idx = filtered_df.groupby(['fda_name', 'num_clients', 'batch_size', 'theta', 'bias'], dropna=False)['epoch'].idxmin()\n",
    "                filtered_df = filtered_df.loc[idx]\n",
    "\n",
    "                dataframes_for_acc.append(filtered_df)\n",
    "\n",
    "            df_concat = pd.concat(dataframes_for_acc)\n",
    "\n",
    "            for num_clients in clients:\n",
    "                client_df = df_concat[df_concat['num_clients'] == num_clients]\n",
    "\n",
    "                plt.plot(client_df['accuracy'], client_df['total_communication_gb'], marker='o', color=colors_dict[num_clients], label=num_clients, markersize=3)\n",
    "\n",
    "            if df_concat.empty:\n",
    "                plt.close()\n",
    "                continue\n",
    "\n",
    "            plt.yscale('log')\n",
    "            plt.xlabel('Accuracy')\n",
    "            plt.legend()\n",
    "            plt.ylabel('Communication Cost (GB)')\n",
    "            plt.grid(True, linestyle='--', linewidth=0.5, alpha=0.5)\n",
    "\n",
    "            title = f'Batch Size : {bs} , {bias_title}'\n",
    "            plt.title(title)\n",
    "            plt.suptitle('synchronous')\n",
    "\n",
    "            pdf.savefig(plt.gcf())\n",
    "\n",
    "            plt.close()\n",
    "\n",
    "        #plt.figure(figsize=(10, 6))\n",
    "        \n",
    "        not_sync_df = df_bias[df_bias['fda_name'] != 'synchronous']\n",
    "\n",
    "        for theta in theta_values:\n",
    "            theta_df = not_sync_df[not_sync_df['theta'] == theta]\n",
    "            \n",
    "            for bs in sorted(theta_df['batch_size'].unique()):\n",
    "                bs_df = theta_df[theta_df['batch_size'] == bs]\n",
    "\n",
    "                for fda_name in fda_names:\n",
    "\n",
    "                    fda_df = bs_df[bs_df['fda_name'] == fda_name]\n",
    "\n",
    "                    dataframes_for_acc = []\n",
    "\n",
    "                    plt.figure(figsize=(10, 6))\n",
    "\n",
    "                    for acc in accuracies:\n",
    "\n",
    "                        filtered_df = fda_df[(fda_df.accuracy > acc)]\n",
    "                        idx = filtered_df.groupby(['fda_name', 'num_clients', 'batch_size', 'theta', 'bias'], dropna=False)['epoch'].idxmin()\n",
    "                        filtered_df = filtered_df.loc[idx]\n",
    "\n",
    "                        dataframes_for_acc.append(filtered_df)\n",
    "\n",
    "                    df_concat = pd.concat(dataframes_for_acc)\n",
    "\n",
    "                    for num_clients in clients:\n",
    "                        client_df = df_concat[df_concat['num_clients'] == num_clients]\n",
    "\n",
    "                        plt.plot(client_df['accuracy'], client_df['total_communication_gb'], marker='o', color=colors_dict[num_clients], label=num_clients, markersize=3)\n",
    "\n",
    "                    if df_concat.empty:\n",
    "                        plt.close()\n",
    "                        continue\n",
    "\n",
    "                    plt.yscale('log')\n",
    "                    plt.xlabel('Accuracy')\n",
    "                    plt.legend()\n",
    "                    plt.ylabel('Communication Cost (GB)')\n",
    "                    plt.grid(True, linestyle='--', linewidth=0.5, alpha=0.5)\n",
    "\n",
    "                    title = f'$Theta$ : {theta} , Batch Size: {bs} , {bias_title}'\n",
    "                    plt.title(title)\n",
    "                    plt.suptitle(fda_name)\n",
    "\n",
    "                    pdf.savefig(plt.gcf())\n",
    "\n",
    "                    plt.close()\n",
    "    pdf.close()"
   ]
  },
  {
   "cell_type": "code",
   "execution_count": null,
   "id": "22009766-512d-4de7-833f-2203845a7b9d",
   "metadata": {},
   "outputs": [],
   "source": []
  },
  {
   "cell_type": "code",
   "execution_count": null,
   "id": "d6b0d859-73b0-4a7e-aa36-62a8e00ef916",
   "metadata": {},
   "outputs": [],
   "source": []
  },
  {
   "cell_type": "code",
   "execution_count": 72,
   "id": "42951861-5cd8-4760-9853-ee926b657724",
   "metadata": {
    "tags": []
   },
   "outputs": [],
   "source": [
    "def accuracies_plots_syncs(df, filename, accuracies):\n",
    "    pdf = PdfPages(filename)\n",
    "    \n",
    "    theta_values = sorted(df['theta'].unique())[1:]\n",
    "\n",
    "    biases = sorted(df['bias'].unique(), reverse=True)[::-1]\n",
    "\n",
    "    clients = list(range(5, 60 + 1, 5))\n",
    "    \n",
    "    batch_sizes = df['batch_size'].unique()\n",
    "\n",
    "    cmap = matplotlib.colormaps['tab20b']\n",
    "    colors_dict = {\n",
    "        num_clients: color \n",
    "        for num_clients, color in zip(clients, cmap(np.linspace(0, 1, len(num_clients_values))))\n",
    "    }\n",
    "\n",
    "    for bias in biases:\n",
    "\n",
    "        if pd.isna(bias):\n",
    "            mask = df['bias'].isna()\n",
    "            bias_title = f'Bias: {bias}'\n",
    "        elif bias > 0:\n",
    "            mask = df['bias'] == bias\n",
    "            bias_title = f'Bias: {bias}'\n",
    "        else:\n",
    "            mask = df['bias'] == bias\n",
    "            bias_title = f'Bias: only label {one_label_bias[bias]}'\n",
    "\n",
    "        df_bias = df[mask]\n",
    "        \n",
    "        # 1. Synchronous ALL\n",
    "        \n",
    "        df_sync = df_bias[df_bias['fda_name'] == 'synchronous']\n",
    "        \n",
    "        for bs in sorted(df_sync['batch_size'].unique()):\n",
    "            \n",
    "            bs_df = df_sync[df_sync['batch_size'] == bs]\n",
    "\n",
    "            dataframes_for_acc = []\n",
    "\n",
    "            plt.figure(figsize=(10, 6))\n",
    "\n",
    "            for acc in accuracies:\n",
    "\n",
    "                filtered_df = bs_df[(bs_df.accuracy > acc)]\n",
    "                idx = filtered_df.groupby(['fda_name', 'num_clients', 'batch_size', 'theta', 'bias'], dropna=False)['epoch'].idxmin()\n",
    "                filtered_df = filtered_df.loc[idx]\n",
    "\n",
    "                dataframes_for_acc.append(filtered_df)\n",
    "\n",
    "            df_concat = pd.concat(dataframes_for_acc)\n",
    "\n",
    "            for num_clients in clients:\n",
    "                client_df = df_concat[df_concat['num_clients'] == num_clients]\n",
    "\n",
    "                plt.plot(client_df['accuracy'], client_df['total_rounds'], marker='o', color=colors_dict[num_clients], label=num_clients, markersize=3)\n",
    "\n",
    "            if df_concat.empty:\n",
    "                plt.close()\n",
    "                continue\n",
    "\n",
    "            plt.yscale('log')\n",
    "            plt.xlabel('Accuracy')\n",
    "            plt.legend()\n",
    "            plt.ylabel('Rounds')\n",
    "            plt.grid(True, linestyle='--', linewidth=0.5, alpha=0.5)\n",
    "\n",
    "            title = f'Batch Size : {bs} , {bias_title}'\n",
    "            plt.title(title)\n",
    "            plt.suptitle('synchronous')\n",
    "\n",
    "            pdf.savefig(plt.gcf())\n",
    "\n",
    "            plt.close()\n",
    "\n",
    "        #plt.figure(figsize=(10, 6))\n",
    "        \n",
    "        not_sync_df = df_bias[df_bias['fda_name'] != 'synchronous']\n",
    "\n",
    "        for theta in theta_values:\n",
    "            theta_df = not_sync_df[not_sync_df['theta'] == theta]\n",
    "            \n",
    "            for bs in sorted(theta_df['batch_size'].unique()):\n",
    "                bs_df = theta_df[theta_df['batch_size'] == bs]\n",
    "\n",
    "                for fda_name in fda_names:\n",
    "\n",
    "                    fda_df = bs_df[bs_df['fda_name'] == fda_name]\n",
    "\n",
    "                    dataframes_for_acc = []\n",
    "\n",
    "                    plt.figure(figsize=(10, 6))\n",
    "\n",
    "                    for acc in accuracies:\n",
    "\n",
    "                        filtered_df = fda_df[(fda_df.accuracy > acc)]\n",
    "                        idx = filtered_df.groupby(['fda_name', 'num_clients', 'batch_size', 'theta', 'bias'], dropna=False)['epoch'].idxmin()\n",
    "                        filtered_df = filtered_df.loc[idx]\n",
    "\n",
    "                        dataframes_for_acc.append(filtered_df)\n",
    "\n",
    "                    df_concat = pd.concat(dataframes_for_acc)\n",
    "\n",
    "                    for num_clients in clients:\n",
    "                        client_df = df_concat[df_concat['num_clients'] == num_clients]\n",
    "\n",
    "                        plt.plot(client_df['accuracy'], client_df['total_rounds'], marker='o', color=colors_dict[num_clients], label=num_clients, markersize=3)\n",
    "\n",
    "                    if df_concat.empty:\n",
    "                        plt.close()\n",
    "                        continue\n",
    "\n",
    "                    plt.yscale('log')\n",
    "                    plt.xlabel('Accuracy')\n",
    "                    plt.legend()\n",
    "                    plt.ylabel('Synchronizations')\n",
    "                    plt.grid(True, linestyle='--', linewidth=0.5, alpha=0.5)\n",
    "\n",
    "                    title = f'$Theta$ : {theta} , Batch Size: {bs} , {bias_title}'\n",
    "                    plt.title(title)\n",
    "                    plt.suptitle(fda_name)\n",
    "\n",
    "                    pdf.savefig(plt.gcf())\n",
    "\n",
    "                    plt.close()\n",
    "    pdf.close()"
   ]
  },
  {
   "cell_type": "code",
   "execution_count": null,
   "id": "677958f4-c46d-4c5d-909b-4b95bf85c57e",
   "metadata": {},
   "outputs": [],
   "source": []
  },
  {
   "cell_type": "markdown",
   "id": "96921ad2-3cc7-4529-843c-07ae9b3047d4",
   "metadata": {},
   "source": [
    "# Help-Stat"
   ]
  },
  {
   "cell_type": "code",
   "execution_count": 43,
   "id": "a5cb23f7-b644-49ec-87e7-14645c70c237",
   "metadata": {
    "tags": []
   },
   "outputs": [],
   "source": [
    "def explore_top(df, acc_thresh, nn_name, fda_name):\n",
    "    acceptable_acc_df = df[(df.accuracy > acc_thresh) & (df.nn_name == nn_name)]\n",
    "    acceptable_acc_df = acceptable_acc_df[acceptable_acc_df['fda_name'] == fda_name]\n",
    "    idx = acceptable_acc_df.groupby(['fda_name', 'num_clients', 'bias', 'batch_size', 'theta'], dropna=False)['epoch'].idxmin()\n",
    "    filtered_acceptable_acc_df = acceptable_acc_df.loc[idx]\n",
    "    return filtered_acceptable_acc_df[['num_clients', 'batch_size', 'theta', 'bias', 'total_rounds', 'total_fda_steps', 'epoch', 'total_communication_gb', 'cpu_time_cost', 'hypercube_time_cost', 'common_channel_time_cost']].sort_values(by='common_channel_time_cost')"
   ]
  },
  {
   "cell_type": "markdown",
   "id": "c4916c39-2e66-494d-99fc-75150184ea09",
   "metadata": {},
   "source": [
    "## Save all those time-cost plots"
   ]
  },
  {
   "cell_type": "code",
   "execution_count": 44,
   "id": "da4331e9-631b-4f3c-a348-ec8e0ae31077",
   "metadata": {
    "tags": []
   },
   "outputs": [],
   "source": [
    "import os\n",
    "\n",
    "def time_cost_plots(df, acc_threshold, nn_name, limit_x_axis=False, show_runs=False, params=False, kde_time_log=True, kde_comm_log=True, kde_cpu_log=False):\n",
    "    # Filter out based on `acc_threshold`\n",
    "    df_nn = df[(df.nn_name == nn_name)]\n",
    "    \n",
    "    acceptable_acc_df = df_nn[(df_nn.accuracy > acc_threshold)]\n",
    "    \n",
    "    str_thresh = str(acc_threshold).replace('.', '_')  # replace '.'\n",
    "    \n",
    "    if not os.path.exists(f\"../../metrics/plots/{nn_name}/{str_thresh}\"):\n",
    "        os.makedirs(f\"../../metrics/plots/{nn_name}/{str_thresh}\")\n",
    "        \n",
    "    # 1. Same runs not included\n",
    "    \n",
    "    # 2. Filter out same runs. We choose the instance which first hits the `acc_threshold`\n",
    "    idx = acceptable_acc_df.groupby(['fda_name', 'num_clients', 'batch_size', 'theta', 'bias'], dropna=False)['epoch'].idxmin()\n",
    "    filtered_acceptable_acc_df = acceptable_acc_df.loc[idx]\n",
    "    \n",
    "    kde_time_cost(filtered_acceptable_acc_df, f\"../../metrics/plots/{nn_name}/{str_thresh}/time_cost.pdf\", x_log=kde_time_log)\n",
    "    \n",
    "    kde_communication_cost(filtered_acceptable_acc_df, f\"../../metrics/plots/{nn_name}/{str_thresh}/comm_cost.pdf\", x_log=kde_comm_log)\n",
    "    \n",
    "    kde_cpu_time_cost(filtered_acceptable_acc_df, f\"../../metrics/plots/{nn_name}/{str_thresh}/cpu_cost.pdf\", x_log=kde_cpu_log)\n",
    "    \n",
    "    kde_comm_cpu_time_cost_ratio(filtered_acceptable_acc_df, f\"../../metrics/plots/{nn_name}/{str_thresh}/ratio.pdf\", x_log=kde_comm_log)\n",
    "    \n",
    "    # Parameters fixed, and plot\n",
    "    if params:\n",
    "        fda_methods_clients_time_cost(filtered_acceptable_acc_df, f\"../../metrics/plots/{nn_name}/{str_thresh}/clients_time_cost.pdf\")\n",
    "        fda_methods_clients_comm_cost(filtered_acceptable_acc_df, f\"../../metrics/plots/{nn_name}/{str_thresh}/clients_comm_cost.pdf\")\n",
    "        fda_methods_clients_cpu_cost(filtered_acceptable_acc_df, f\"../../metrics/plots/{nn_name}/{str_thresh}/clients_cpu_cost.pdf\")\n",
    "        \n",
    "        fda_methods_theta_time_cost(filtered_acceptable_acc_df, f\"../../metrics/plots/{nn_name}/{str_thresh}/theta_time_cost.pdf\")\n",
    "        fda_methods_theta_comm_cost(filtered_acceptable_acc_df, f\"../../metrics/plots/{nn_name}/{str_thresh}/theta_comm_cost.pdf\")\n",
    "        fda_methods_theta_cpu_cost(filtered_acceptable_acc_df, f\"../../metrics/plots/{nn_name}/{str_thresh}/theta_cpu_cost.pdf\")\n",
    "        \n",
    "    accuracies_plots(df_nn, f\"../../metrics/plots/{nn_name}/{str_thresh}/accuracies.pdf\")"
   ]
  },
  {
   "cell_type": "code",
   "execution_count": 48,
   "id": "da05aa7a-faa6-4a26-9a01-fee0a7d5c524",
   "metadata": {},
   "outputs": [],
   "source": [
    "df_32 = df[\n",
    "    (df['batch_size'] == 32) | (df['fda_name'] == 'synchronous')\n",
    "]"
   ]
  },
  {
   "cell_type": "code",
   "execution_count": 49,
   "id": "10d74f00-2aef-4f19-a77f-d9af918a0f57",
   "metadata": {
    "tags": []
   },
   "outputs": [],
   "source": [
    "df_theta = df[\n",
    "    (df['theta'] >= 15.) | (df['fda_name'] == 'synchronous')\n",
    "]"
   ]
  },
  {
   "cell_type": "markdown",
   "id": "38c98aeb-9bde-4718-ad33-a1858e42b749",
   "metadata": {},
   "source": [
    "## AdvancedCNN"
   ]
  },
  {
   "cell_type": "code",
   "execution_count": 50,
   "id": "d7f86ec4-2725-491f-bbca-99f53b613b35",
   "metadata": {
    "tags": []
   },
   "outputs": [],
   "source": [
    "time_cost_plots(df_theta, 0.99, 'AdvancedCNN', params=True)\n",
    "time_cost_plots(df_theta, 0.993, 'AdvancedCNN', params=True)\n",
    "time_cost_plots(df_theta, 0.995, 'AdvancedCNN', params=True)"
   ]
  },
  {
   "cell_type": "code",
   "execution_count": 70,
   "id": "34384fb6-61dc-4261-b326-3b1a7b33c176",
   "metadata": {
    "collapsed": true,
    "jupyter": {
     "outputs_hidden": true
    },
    "tags": []
   },
   "outputs": [
    {
     "ename": "KeyboardInterrupt",
     "evalue": "",
     "output_type": "error",
     "traceback": [
      "\u001b[0;31m---------------------------------------------------------------------------\u001b[0m",
      "\u001b[0;31mKeyboardInterrupt\u001b[0m                         Traceback (most recent call last)",
      "Cell \u001b[0;32mIn[70], line 1\u001b[0m\n\u001b[0;32m----> 1\u001b[0m \u001b[43maccuracies_plots\u001b[49m\u001b[43m(\u001b[49m\u001b[43mdf_theta\u001b[49m\u001b[43m[\u001b[49m\u001b[43mdf_theta\u001b[49m\u001b[43m[\u001b[49m\u001b[38;5;124;43m'\u001b[39;49m\u001b[38;5;124;43mnn_name\u001b[39;49m\u001b[38;5;124;43m'\u001b[39;49m\u001b[43m]\u001b[49m\u001b[43m \u001b[49m\u001b[38;5;241;43m==\u001b[39;49m\u001b[43m \u001b[49m\u001b[38;5;124;43m'\u001b[39;49m\u001b[38;5;124;43mAdvancedCNN\u001b[39;49m\u001b[38;5;124;43m'\u001b[39;49m\u001b[43m]\u001b[49m\u001b[43m,\u001b[49m\u001b[43m \u001b[49m\u001b[38;5;124;43mf\u001b[39;49m\u001b[38;5;124;43m\"\u001b[39;49m\u001b[38;5;124;43m../../metrics/plots/AdvancedCNN/accuracies.pdf\u001b[39;49m\u001b[38;5;124;43m\"\u001b[39;49m\u001b[43m,\u001b[49m\u001b[43m \u001b[49m\u001b[43maccuracies\u001b[49m\u001b[38;5;241;43m=\u001b[39;49m\u001b[43m[\u001b[49m\u001b[38;5;241;43m0.98\u001b[39;49m\u001b[43m,\u001b[49m\u001b[43m \u001b[49m\u001b[38;5;241;43m0.985\u001b[39;49m\u001b[43m,\u001b[49m\u001b[43m \u001b[49m\u001b[38;5;241;43m0.99\u001b[39;49m\u001b[43m,\u001b[49m\u001b[43m \u001b[49m\u001b[38;5;241;43m0.991\u001b[39;49m\u001b[43m,\u001b[49m\u001b[43m \u001b[49m\u001b[38;5;241;43m0.992\u001b[39;49m\u001b[43m,\u001b[49m\u001b[43m \u001b[49m\u001b[38;5;241;43m0.993\u001b[39;49m\u001b[43m,\u001b[49m\u001b[43m \u001b[49m\u001b[38;5;241;43m0.994\u001b[39;49m\u001b[43m,\u001b[49m\u001b[43m \u001b[49m\u001b[38;5;241;43m0.995\u001b[39;49m\u001b[43m]\u001b[49m\u001b[43m)\u001b[49m\n",
      "Cell \u001b[0;32mIn[61], line 124\u001b[0m, in \u001b[0;36maccuracies_plots\u001b[0;34m(df, filename, accuracies)\u001b[0m\n\u001b[1;32m    121\u001b[0m                 plt\u001b[38;5;241m.\u001b[39mtitle(title)\n\u001b[1;32m    122\u001b[0m                 plt\u001b[38;5;241m.\u001b[39msuptitle(fda_name)\n\u001b[0;32m--> 124\u001b[0m                 \u001b[43mpdf\u001b[49m\u001b[38;5;241;43m.\u001b[39;49m\u001b[43msavefig\u001b[49m\u001b[43m(\u001b[49m\u001b[43mplt\u001b[49m\u001b[38;5;241;43m.\u001b[39;49m\u001b[43mgcf\u001b[49m\u001b[43m(\u001b[49m\u001b[43m)\u001b[49m\u001b[43m)\u001b[49m\n\u001b[1;32m    126\u001b[0m                 plt\u001b[38;5;241m.\u001b[39mclose()\n\u001b[1;32m    127\u001b[0m pdf\u001b[38;5;241m.\u001b[39mclose()\n",
      "File \u001b[0;32m~/anaconda3/envs/data-analysis/lib/python3.11/site-packages/matplotlib/backends/backend_pdf.py:2772\u001b[0m, in \u001b[0;36mPdfPages.savefig\u001b[0;34m(self, figure, **kwargs)\u001b[0m\n\u001b[1;32m   2770\u001b[0m     orig_canvas \u001b[38;5;241m=\u001b[39m figure\u001b[38;5;241m.\u001b[39mcanvas\n\u001b[1;32m   2771\u001b[0m     figure\u001b[38;5;241m.\u001b[39mcanvas \u001b[38;5;241m=\u001b[39m FigureCanvasPdf(figure)\n\u001b[0;32m-> 2772\u001b[0m     \u001b[43mfigure\u001b[49m\u001b[38;5;241;43m.\u001b[39;49m\u001b[43msavefig\u001b[49m\u001b[43m(\u001b[49m\u001b[38;5;28;43mself\u001b[39;49m\u001b[43m,\u001b[49m\u001b[43m \u001b[49m\u001b[38;5;28;43mformat\u001b[39;49m\u001b[38;5;241;43m=\u001b[39;49m\u001b[38;5;124;43m\"\u001b[39;49m\u001b[38;5;124;43mpdf\u001b[39;49m\u001b[38;5;124;43m\"\u001b[39;49m\u001b[43m,\u001b[49m\u001b[43m \u001b[49m\u001b[38;5;241;43m*\u001b[39;49m\u001b[38;5;241;43m*\u001b[39;49m\u001b[43mkwargs\u001b[49m\u001b[43m)\u001b[49m\n\u001b[1;32m   2773\u001b[0m \u001b[38;5;28;01mfinally\u001b[39;00m:\n\u001b[1;32m   2774\u001b[0m     figure\u001b[38;5;241m.\u001b[39mcanvas \u001b[38;5;241m=\u001b[39m orig_canvas\n",
      "File \u001b[0;32m~/anaconda3/envs/data-analysis/lib/python3.11/site-packages/matplotlib/figure.py:3343\u001b[0m, in \u001b[0;36mFigure.savefig\u001b[0;34m(self, fname, transparent, **kwargs)\u001b[0m\n\u001b[1;32m   3339\u001b[0m     \u001b[38;5;28;01mfor\u001b[39;00m ax \u001b[38;5;129;01min\u001b[39;00m \u001b[38;5;28mself\u001b[39m\u001b[38;5;241m.\u001b[39maxes:\n\u001b[1;32m   3340\u001b[0m         stack\u001b[38;5;241m.\u001b[39menter_context(\n\u001b[1;32m   3341\u001b[0m             ax\u001b[38;5;241m.\u001b[39mpatch\u001b[38;5;241m.\u001b[39m_cm_set(facecolor\u001b[38;5;241m=\u001b[39m\u001b[38;5;124m'\u001b[39m\u001b[38;5;124mnone\u001b[39m\u001b[38;5;124m'\u001b[39m, edgecolor\u001b[38;5;241m=\u001b[39m\u001b[38;5;124m'\u001b[39m\u001b[38;5;124mnone\u001b[39m\u001b[38;5;124m'\u001b[39m))\n\u001b[0;32m-> 3343\u001b[0m \u001b[38;5;28;43mself\u001b[39;49m\u001b[38;5;241;43m.\u001b[39;49m\u001b[43mcanvas\u001b[49m\u001b[38;5;241;43m.\u001b[39;49m\u001b[43mprint_figure\u001b[49m\u001b[43m(\u001b[49m\u001b[43mfname\u001b[49m\u001b[43m,\u001b[49m\u001b[43m \u001b[49m\u001b[38;5;241;43m*\u001b[39;49m\u001b[38;5;241;43m*\u001b[39;49m\u001b[43mkwargs\u001b[49m\u001b[43m)\u001b[49m\n",
      "File \u001b[0;32m~/anaconda3/envs/data-analysis/lib/python3.11/site-packages/matplotlib/backend_bases.py:2366\u001b[0m, in \u001b[0;36mFigureCanvasBase.print_figure\u001b[0;34m(self, filename, dpi, facecolor, edgecolor, orientation, format, bbox_inches, pad_inches, bbox_extra_artists, backend, **kwargs)\u001b[0m\n\u001b[1;32m   2362\u001b[0m \u001b[38;5;28;01mtry\u001b[39;00m:\n\u001b[1;32m   2363\u001b[0m     \u001b[38;5;66;03m# _get_renderer may change the figure dpi (as vector formats\u001b[39;00m\n\u001b[1;32m   2364\u001b[0m     \u001b[38;5;66;03m# force the figure dpi to 72), so we need to set it again here.\u001b[39;00m\n\u001b[1;32m   2365\u001b[0m     \u001b[38;5;28;01mwith\u001b[39;00m cbook\u001b[38;5;241m.\u001b[39m_setattr_cm(\u001b[38;5;28mself\u001b[39m\u001b[38;5;241m.\u001b[39mfigure, dpi\u001b[38;5;241m=\u001b[39mdpi):\n\u001b[0;32m-> 2366\u001b[0m         result \u001b[38;5;241m=\u001b[39m \u001b[43mprint_method\u001b[49m\u001b[43m(\u001b[49m\n\u001b[1;32m   2367\u001b[0m \u001b[43m            \u001b[49m\u001b[43mfilename\u001b[49m\u001b[43m,\u001b[49m\n\u001b[1;32m   2368\u001b[0m \u001b[43m            \u001b[49m\u001b[43mfacecolor\u001b[49m\u001b[38;5;241;43m=\u001b[39;49m\u001b[43mfacecolor\u001b[49m\u001b[43m,\u001b[49m\n\u001b[1;32m   2369\u001b[0m \u001b[43m            \u001b[49m\u001b[43medgecolor\u001b[49m\u001b[38;5;241;43m=\u001b[39;49m\u001b[43medgecolor\u001b[49m\u001b[43m,\u001b[49m\n\u001b[1;32m   2370\u001b[0m \u001b[43m            \u001b[49m\u001b[43morientation\u001b[49m\u001b[38;5;241;43m=\u001b[39;49m\u001b[43morientation\u001b[49m\u001b[43m,\u001b[49m\n\u001b[1;32m   2371\u001b[0m \u001b[43m            \u001b[49m\u001b[43mbbox_inches_restore\u001b[49m\u001b[38;5;241;43m=\u001b[39;49m\u001b[43m_bbox_inches_restore\u001b[49m\u001b[43m,\u001b[49m\n\u001b[1;32m   2372\u001b[0m \u001b[43m            \u001b[49m\u001b[38;5;241;43m*\u001b[39;49m\u001b[38;5;241;43m*\u001b[39;49m\u001b[43mkwargs\u001b[49m\u001b[43m)\u001b[49m\n\u001b[1;32m   2373\u001b[0m \u001b[38;5;28;01mfinally\u001b[39;00m:\n\u001b[1;32m   2374\u001b[0m     \u001b[38;5;28;01mif\u001b[39;00m bbox_inches \u001b[38;5;129;01mand\u001b[39;00m restore_bbox:\n",
      "File \u001b[0;32m~/anaconda3/envs/data-analysis/lib/python3.11/site-packages/matplotlib/backend_bases.py:2232\u001b[0m, in \u001b[0;36mFigureCanvasBase._switch_canvas_and_return_print_method.<locals>.<lambda>\u001b[0;34m(*args, **kwargs)\u001b[0m\n\u001b[1;32m   2228\u001b[0m     optional_kws \u001b[38;5;241m=\u001b[39m {  \u001b[38;5;66;03m# Passed by print_figure for other renderers.\u001b[39;00m\n\u001b[1;32m   2229\u001b[0m         \u001b[38;5;124m\"\u001b[39m\u001b[38;5;124mdpi\u001b[39m\u001b[38;5;124m\"\u001b[39m, \u001b[38;5;124m\"\u001b[39m\u001b[38;5;124mfacecolor\u001b[39m\u001b[38;5;124m\"\u001b[39m, \u001b[38;5;124m\"\u001b[39m\u001b[38;5;124medgecolor\u001b[39m\u001b[38;5;124m\"\u001b[39m, \u001b[38;5;124m\"\u001b[39m\u001b[38;5;124morientation\u001b[39m\u001b[38;5;124m\"\u001b[39m,\n\u001b[1;32m   2230\u001b[0m         \u001b[38;5;124m\"\u001b[39m\u001b[38;5;124mbbox_inches_restore\u001b[39m\u001b[38;5;124m\"\u001b[39m}\n\u001b[1;32m   2231\u001b[0m     skip \u001b[38;5;241m=\u001b[39m optional_kws \u001b[38;5;241m-\u001b[39m {\u001b[38;5;241m*\u001b[39minspect\u001b[38;5;241m.\u001b[39msignature(meth)\u001b[38;5;241m.\u001b[39mparameters}\n\u001b[0;32m-> 2232\u001b[0m     print_method \u001b[38;5;241m=\u001b[39m functools\u001b[38;5;241m.\u001b[39mwraps(meth)(\u001b[38;5;28;01mlambda\u001b[39;00m \u001b[38;5;241m*\u001b[39margs, \u001b[38;5;241m*\u001b[39m\u001b[38;5;241m*\u001b[39mkwargs: \u001b[43mmeth\u001b[49m\u001b[43m(\u001b[49m\n\u001b[1;32m   2233\u001b[0m \u001b[43m        \u001b[49m\u001b[38;5;241;43m*\u001b[39;49m\u001b[43margs\u001b[49m\u001b[43m,\u001b[49m\u001b[43m \u001b[49m\u001b[38;5;241;43m*\u001b[39;49m\u001b[38;5;241;43m*\u001b[39;49m\u001b[43m{\u001b[49m\u001b[43mk\u001b[49m\u001b[43m:\u001b[49m\u001b[43m \u001b[49m\u001b[43mv\u001b[49m\u001b[43m \u001b[49m\u001b[38;5;28;43;01mfor\u001b[39;49;00m\u001b[43m \u001b[49m\u001b[43mk\u001b[49m\u001b[43m,\u001b[49m\u001b[43m \u001b[49m\u001b[43mv\u001b[49m\u001b[43m \u001b[49m\u001b[38;5;129;43;01min\u001b[39;49;00m\u001b[43m \u001b[49m\u001b[43mkwargs\u001b[49m\u001b[38;5;241;43m.\u001b[39;49m\u001b[43mitems\u001b[49m\u001b[43m(\u001b[49m\u001b[43m)\u001b[49m\u001b[43m \u001b[49m\u001b[38;5;28;43;01mif\u001b[39;49;00m\u001b[43m \u001b[49m\u001b[43mk\u001b[49m\u001b[43m \u001b[49m\u001b[38;5;129;43;01mnot\u001b[39;49;00m\u001b[43m \u001b[49m\u001b[38;5;129;43;01min\u001b[39;49;00m\u001b[43m \u001b[49m\u001b[43mskip\u001b[49m\u001b[43m}\u001b[49m\u001b[43m)\u001b[49m)\n\u001b[1;32m   2234\u001b[0m \u001b[38;5;28;01melse\u001b[39;00m:  \u001b[38;5;66;03m# Let third-parties do as they see fit.\u001b[39;00m\n\u001b[1;32m   2235\u001b[0m     print_method \u001b[38;5;241m=\u001b[39m meth\n",
      "File \u001b[0;32m~/anaconda3/envs/data-analysis/lib/python3.11/site-packages/matplotlib/backends/backend_pdf.py:2815\u001b[0m, in \u001b[0;36mFigureCanvasPdf.print_pdf\u001b[0;34m(self, filename, bbox_inches_restore, metadata)\u001b[0m\n\u001b[1;32m   2810\u001b[0m file\u001b[38;5;241m.\u001b[39mnewPage(width, height)\n\u001b[1;32m   2811\u001b[0m renderer \u001b[38;5;241m=\u001b[39m MixedModeRenderer(\n\u001b[1;32m   2812\u001b[0m     \u001b[38;5;28mself\u001b[39m\u001b[38;5;241m.\u001b[39mfigure, width, height, dpi,\n\u001b[1;32m   2813\u001b[0m     RendererPdf(file, dpi, height, width),\n\u001b[1;32m   2814\u001b[0m     bbox_inches_restore\u001b[38;5;241m=\u001b[39mbbox_inches_restore)\n\u001b[0;32m-> 2815\u001b[0m \u001b[38;5;28;43mself\u001b[39;49m\u001b[38;5;241;43m.\u001b[39;49m\u001b[43mfigure\u001b[49m\u001b[38;5;241;43m.\u001b[39;49m\u001b[43mdraw\u001b[49m\u001b[43m(\u001b[49m\u001b[43mrenderer\u001b[49m\u001b[43m)\u001b[49m\n\u001b[1;32m   2816\u001b[0m renderer\u001b[38;5;241m.\u001b[39mfinalize()\n\u001b[1;32m   2817\u001b[0m \u001b[38;5;28;01mif\u001b[39;00m \u001b[38;5;129;01mnot\u001b[39;00m \u001b[38;5;28misinstance\u001b[39m(filename, PdfPages):\n",
      "File \u001b[0;32m~/anaconda3/envs/data-analysis/lib/python3.11/site-packages/matplotlib/artist.py:95\u001b[0m, in \u001b[0;36m_finalize_rasterization.<locals>.draw_wrapper\u001b[0;34m(artist, renderer, *args, **kwargs)\u001b[0m\n\u001b[1;32m     93\u001b[0m \u001b[38;5;129m@wraps\u001b[39m(draw)\n\u001b[1;32m     94\u001b[0m \u001b[38;5;28;01mdef\u001b[39;00m \u001b[38;5;21mdraw_wrapper\u001b[39m(artist, renderer, \u001b[38;5;241m*\u001b[39margs, \u001b[38;5;241m*\u001b[39m\u001b[38;5;241m*\u001b[39mkwargs):\n\u001b[0;32m---> 95\u001b[0m     result \u001b[38;5;241m=\u001b[39m \u001b[43mdraw\u001b[49m\u001b[43m(\u001b[49m\u001b[43martist\u001b[49m\u001b[43m,\u001b[49m\u001b[43m \u001b[49m\u001b[43mrenderer\u001b[49m\u001b[43m,\u001b[49m\u001b[43m \u001b[49m\u001b[38;5;241;43m*\u001b[39;49m\u001b[43margs\u001b[49m\u001b[43m,\u001b[49m\u001b[43m \u001b[49m\u001b[38;5;241;43m*\u001b[39;49m\u001b[38;5;241;43m*\u001b[39;49m\u001b[43mkwargs\u001b[49m\u001b[43m)\u001b[49m\n\u001b[1;32m     96\u001b[0m     \u001b[38;5;28;01mif\u001b[39;00m renderer\u001b[38;5;241m.\u001b[39m_rasterizing:\n\u001b[1;32m     97\u001b[0m         renderer\u001b[38;5;241m.\u001b[39mstop_rasterizing()\n",
      "File \u001b[0;32m~/anaconda3/envs/data-analysis/lib/python3.11/site-packages/matplotlib/artist.py:72\u001b[0m, in \u001b[0;36mallow_rasterization.<locals>.draw_wrapper\u001b[0;34m(artist, renderer)\u001b[0m\n\u001b[1;32m     69\u001b[0m     \u001b[38;5;28;01mif\u001b[39;00m artist\u001b[38;5;241m.\u001b[39mget_agg_filter() \u001b[38;5;129;01mis\u001b[39;00m \u001b[38;5;129;01mnot\u001b[39;00m \u001b[38;5;28;01mNone\u001b[39;00m:\n\u001b[1;32m     70\u001b[0m         renderer\u001b[38;5;241m.\u001b[39mstart_filter()\n\u001b[0;32m---> 72\u001b[0m     \u001b[38;5;28;01mreturn\u001b[39;00m \u001b[43mdraw\u001b[49m\u001b[43m(\u001b[49m\u001b[43martist\u001b[49m\u001b[43m,\u001b[49m\u001b[43m \u001b[49m\u001b[43mrenderer\u001b[49m\u001b[43m)\u001b[49m\n\u001b[1;32m     73\u001b[0m \u001b[38;5;28;01mfinally\u001b[39;00m:\n\u001b[1;32m     74\u001b[0m     \u001b[38;5;28;01mif\u001b[39;00m artist\u001b[38;5;241m.\u001b[39mget_agg_filter() \u001b[38;5;129;01mis\u001b[39;00m \u001b[38;5;129;01mnot\u001b[39;00m \u001b[38;5;28;01mNone\u001b[39;00m:\n",
      "File \u001b[0;32m~/anaconda3/envs/data-analysis/lib/python3.11/site-packages/matplotlib/figure.py:3140\u001b[0m, in \u001b[0;36mFigure.draw\u001b[0;34m(self, renderer)\u001b[0m\n\u001b[1;32m   3137\u001b[0m         \u001b[38;5;66;03m# ValueError can occur when resizing a window.\u001b[39;00m\n\u001b[1;32m   3139\u001b[0m \u001b[38;5;28mself\u001b[39m\u001b[38;5;241m.\u001b[39mpatch\u001b[38;5;241m.\u001b[39mdraw(renderer)\n\u001b[0;32m-> 3140\u001b[0m \u001b[43mmimage\u001b[49m\u001b[38;5;241;43m.\u001b[39;49m\u001b[43m_draw_list_compositing_images\u001b[49m\u001b[43m(\u001b[49m\n\u001b[1;32m   3141\u001b[0m \u001b[43m    \u001b[49m\u001b[43mrenderer\u001b[49m\u001b[43m,\u001b[49m\u001b[43m \u001b[49m\u001b[38;5;28;43mself\u001b[39;49m\u001b[43m,\u001b[49m\u001b[43m \u001b[49m\u001b[43martists\u001b[49m\u001b[43m,\u001b[49m\u001b[43m \u001b[49m\u001b[38;5;28;43mself\u001b[39;49m\u001b[38;5;241;43m.\u001b[39;49m\u001b[43msuppressComposite\u001b[49m\u001b[43m)\u001b[49m\n\u001b[1;32m   3143\u001b[0m \u001b[38;5;28;01mfor\u001b[39;00m sfig \u001b[38;5;129;01min\u001b[39;00m \u001b[38;5;28mself\u001b[39m\u001b[38;5;241m.\u001b[39msubfigs:\n\u001b[1;32m   3144\u001b[0m     sfig\u001b[38;5;241m.\u001b[39mdraw(renderer)\n",
      "File \u001b[0;32m~/anaconda3/envs/data-analysis/lib/python3.11/site-packages/matplotlib/image.py:131\u001b[0m, in \u001b[0;36m_draw_list_compositing_images\u001b[0;34m(renderer, parent, artists, suppress_composite)\u001b[0m\n\u001b[1;32m    129\u001b[0m \u001b[38;5;28;01mif\u001b[39;00m not_composite \u001b[38;5;129;01mor\u001b[39;00m \u001b[38;5;129;01mnot\u001b[39;00m has_images:\n\u001b[1;32m    130\u001b[0m     \u001b[38;5;28;01mfor\u001b[39;00m a \u001b[38;5;129;01min\u001b[39;00m artists:\n\u001b[0;32m--> 131\u001b[0m         \u001b[43ma\u001b[49m\u001b[38;5;241;43m.\u001b[39;49m\u001b[43mdraw\u001b[49m\u001b[43m(\u001b[49m\u001b[43mrenderer\u001b[49m\u001b[43m)\u001b[49m\n\u001b[1;32m    132\u001b[0m \u001b[38;5;28;01melse\u001b[39;00m:\n\u001b[1;32m    133\u001b[0m     \u001b[38;5;66;03m# Composite any adjacent images together\u001b[39;00m\n\u001b[1;32m    134\u001b[0m     image_group \u001b[38;5;241m=\u001b[39m []\n",
      "File \u001b[0;32m~/anaconda3/envs/data-analysis/lib/python3.11/site-packages/matplotlib/artist.py:72\u001b[0m, in \u001b[0;36mallow_rasterization.<locals>.draw_wrapper\u001b[0;34m(artist, renderer)\u001b[0m\n\u001b[1;32m     69\u001b[0m     \u001b[38;5;28;01mif\u001b[39;00m artist\u001b[38;5;241m.\u001b[39mget_agg_filter() \u001b[38;5;129;01mis\u001b[39;00m \u001b[38;5;129;01mnot\u001b[39;00m \u001b[38;5;28;01mNone\u001b[39;00m:\n\u001b[1;32m     70\u001b[0m         renderer\u001b[38;5;241m.\u001b[39mstart_filter()\n\u001b[0;32m---> 72\u001b[0m     \u001b[38;5;28;01mreturn\u001b[39;00m \u001b[43mdraw\u001b[49m\u001b[43m(\u001b[49m\u001b[43martist\u001b[49m\u001b[43m,\u001b[49m\u001b[43m \u001b[49m\u001b[43mrenderer\u001b[49m\u001b[43m)\u001b[49m\n\u001b[1;32m     73\u001b[0m \u001b[38;5;28;01mfinally\u001b[39;00m:\n\u001b[1;32m     74\u001b[0m     \u001b[38;5;28;01mif\u001b[39;00m artist\u001b[38;5;241m.\u001b[39mget_agg_filter() \u001b[38;5;129;01mis\u001b[39;00m \u001b[38;5;129;01mnot\u001b[39;00m \u001b[38;5;28;01mNone\u001b[39;00m:\n",
      "File \u001b[0;32m~/anaconda3/envs/data-analysis/lib/python3.11/site-packages/matplotlib/axes/_base.py:3028\u001b[0m, in \u001b[0;36m_AxesBase.draw\u001b[0;34m(self, renderer)\u001b[0m\n\u001b[1;32m   3025\u001b[0m     \u001b[38;5;28;01mfor\u001b[39;00m spine \u001b[38;5;129;01min\u001b[39;00m \u001b[38;5;28mself\u001b[39m\u001b[38;5;241m.\u001b[39mspines\u001b[38;5;241m.\u001b[39mvalues():\n\u001b[1;32m   3026\u001b[0m         artists\u001b[38;5;241m.\u001b[39mremove(spine)\n\u001b[0;32m-> 3028\u001b[0m \u001b[38;5;28;43mself\u001b[39;49m\u001b[38;5;241;43m.\u001b[39;49m\u001b[43m_update_title_position\u001b[49m\u001b[43m(\u001b[49m\u001b[43mrenderer\u001b[49m\u001b[43m)\u001b[49m\n\u001b[1;32m   3030\u001b[0m \u001b[38;5;28;01mif\u001b[39;00m \u001b[38;5;129;01mnot\u001b[39;00m \u001b[38;5;28mself\u001b[39m\u001b[38;5;241m.\u001b[39maxison:\n\u001b[1;32m   3031\u001b[0m     \u001b[38;5;28;01mfor\u001b[39;00m _axis \u001b[38;5;129;01min\u001b[39;00m \u001b[38;5;28mself\u001b[39m\u001b[38;5;241m.\u001b[39m_axis_map\u001b[38;5;241m.\u001b[39mvalues():\n",
      "File \u001b[0;32m~/anaconda3/envs/data-analysis/lib/python3.11/site-packages/matplotlib/axes/_base.py:2972\u001b[0m, in \u001b[0;36m_AxesBase._update_title_position\u001b[0;34m(self, renderer)\u001b[0m\n\u001b[1;32m   2970\u001b[0m top \u001b[38;5;241m=\u001b[39m \u001b[38;5;28mmax\u001b[39m(top, bb\u001b[38;5;241m.\u001b[39mymax)\n\u001b[1;32m   2971\u001b[0m \u001b[38;5;28;01mif\u001b[39;00m title\u001b[38;5;241m.\u001b[39mget_text():\n\u001b[0;32m-> 2972\u001b[0m     \u001b[43max\u001b[49m\u001b[38;5;241;43m.\u001b[39;49m\u001b[43myaxis\u001b[49m\u001b[38;5;241;43m.\u001b[39;49m\u001b[43mget_tightbbox\u001b[49m\u001b[43m(\u001b[49m\u001b[43mrenderer\u001b[49m\u001b[43m)\u001b[49m  \u001b[38;5;66;03m# update offsetText\u001b[39;00m\n\u001b[1;32m   2973\u001b[0m     \u001b[38;5;28;01mif\u001b[39;00m ax\u001b[38;5;241m.\u001b[39myaxis\u001b[38;5;241m.\u001b[39moffsetText\u001b[38;5;241m.\u001b[39mget_text():\n\u001b[1;32m   2974\u001b[0m         bb \u001b[38;5;241m=\u001b[39m ax\u001b[38;5;241m.\u001b[39myaxis\u001b[38;5;241m.\u001b[39moffsetText\u001b[38;5;241m.\u001b[39mget_tightbbox(renderer)\n",
      "File \u001b[0;32m~/anaconda3/envs/data-analysis/lib/python3.11/site-packages/matplotlib/axis.py:1328\u001b[0m, in \u001b[0;36mAxis.get_tightbbox\u001b[0;34m(self, renderer, for_layout_only)\u001b[0m\n\u001b[1;32m   1325\u001b[0m \u001b[38;5;28mself\u001b[39m\u001b[38;5;241m.\u001b[39m_update_label_position(renderer)\n\u001b[1;32m   1327\u001b[0m \u001b[38;5;66;03m# go back to just this axis's tick labels\u001b[39;00m\n\u001b[0;32m-> 1328\u001b[0m tlb1, tlb2 \u001b[38;5;241m=\u001b[39m \u001b[38;5;28;43mself\u001b[39;49m\u001b[38;5;241;43m.\u001b[39;49m\u001b[43m_get_ticklabel_bboxes\u001b[49m\u001b[43m(\u001b[49m\u001b[43mticks_to_draw\u001b[49m\u001b[43m,\u001b[49m\u001b[43m \u001b[49m\u001b[43mrenderer\u001b[49m\u001b[43m)\u001b[49m\n\u001b[1;32m   1330\u001b[0m \u001b[38;5;28mself\u001b[39m\u001b[38;5;241m.\u001b[39m_update_offset_text_position(tlb1, tlb2)\n\u001b[1;32m   1331\u001b[0m \u001b[38;5;28mself\u001b[39m\u001b[38;5;241m.\u001b[39moffsetText\u001b[38;5;241m.\u001b[39mset_text(\u001b[38;5;28mself\u001b[39m\u001b[38;5;241m.\u001b[39mmajor\u001b[38;5;241m.\u001b[39mformatter\u001b[38;5;241m.\u001b[39mget_offset())\n",
      "File \u001b[0;32m~/anaconda3/envs/data-analysis/lib/python3.11/site-packages/matplotlib/axis.py:1304\u001b[0m, in \u001b[0;36mAxis._get_ticklabel_bboxes\u001b[0;34m(self, ticks, renderer)\u001b[0m\n\u001b[1;32m   1302\u001b[0m \u001b[38;5;28;01mif\u001b[39;00m renderer \u001b[38;5;129;01mis\u001b[39;00m \u001b[38;5;28;01mNone\u001b[39;00m:\n\u001b[1;32m   1303\u001b[0m     renderer \u001b[38;5;241m=\u001b[39m \u001b[38;5;28mself\u001b[39m\u001b[38;5;241m.\u001b[39mfigure\u001b[38;5;241m.\u001b[39m_get_renderer()\n\u001b[0;32m-> 1304\u001b[0m \u001b[38;5;28;01mreturn\u001b[39;00m (\u001b[43m[\u001b[49m\u001b[43mtick\u001b[49m\u001b[38;5;241;43m.\u001b[39;49m\u001b[43mlabel1\u001b[49m\u001b[38;5;241;43m.\u001b[39;49m\u001b[43mget_window_extent\u001b[49m\u001b[43m(\u001b[49m\u001b[43mrenderer\u001b[49m\u001b[43m)\u001b[49m\n\u001b[1;32m   1305\u001b[0m \u001b[43m         \u001b[49m\u001b[38;5;28;43;01mfor\u001b[39;49;00m\u001b[43m \u001b[49m\u001b[43mtick\u001b[49m\u001b[43m \u001b[49m\u001b[38;5;129;43;01min\u001b[39;49;00m\u001b[43m \u001b[49m\u001b[43mticks\u001b[49m\u001b[43m \u001b[49m\u001b[38;5;28;43;01mif\u001b[39;49;00m\u001b[43m \u001b[49m\u001b[43mtick\u001b[49m\u001b[38;5;241;43m.\u001b[39;49m\u001b[43mlabel1\u001b[49m\u001b[38;5;241;43m.\u001b[39;49m\u001b[43mget_visible\u001b[49m\u001b[43m(\u001b[49m\u001b[43m)\u001b[49m\u001b[43m]\u001b[49m,\n\u001b[1;32m   1306\u001b[0m         [tick\u001b[38;5;241m.\u001b[39mlabel2\u001b[38;5;241m.\u001b[39mget_window_extent(renderer)\n\u001b[1;32m   1307\u001b[0m          \u001b[38;5;28;01mfor\u001b[39;00m tick \u001b[38;5;129;01min\u001b[39;00m ticks \u001b[38;5;28;01mif\u001b[39;00m tick\u001b[38;5;241m.\u001b[39mlabel2\u001b[38;5;241m.\u001b[39mget_visible()])\n",
      "File \u001b[0;32m~/anaconda3/envs/data-analysis/lib/python3.11/site-packages/matplotlib/axis.py:1304\u001b[0m, in \u001b[0;36m<listcomp>\u001b[0;34m(.0)\u001b[0m\n\u001b[1;32m   1302\u001b[0m \u001b[38;5;28;01mif\u001b[39;00m renderer \u001b[38;5;129;01mis\u001b[39;00m \u001b[38;5;28;01mNone\u001b[39;00m:\n\u001b[1;32m   1303\u001b[0m     renderer \u001b[38;5;241m=\u001b[39m \u001b[38;5;28mself\u001b[39m\u001b[38;5;241m.\u001b[39mfigure\u001b[38;5;241m.\u001b[39m_get_renderer()\n\u001b[0;32m-> 1304\u001b[0m \u001b[38;5;28;01mreturn\u001b[39;00m ([\u001b[43mtick\u001b[49m\u001b[38;5;241;43m.\u001b[39;49m\u001b[43mlabel1\u001b[49m\u001b[38;5;241;43m.\u001b[39;49m\u001b[43mget_window_extent\u001b[49m\u001b[43m(\u001b[49m\u001b[43mrenderer\u001b[49m\u001b[43m)\u001b[49m\n\u001b[1;32m   1305\u001b[0m          \u001b[38;5;28;01mfor\u001b[39;00m tick \u001b[38;5;129;01min\u001b[39;00m ticks \u001b[38;5;28;01mif\u001b[39;00m tick\u001b[38;5;241m.\u001b[39mlabel1\u001b[38;5;241m.\u001b[39mget_visible()],\n\u001b[1;32m   1306\u001b[0m         [tick\u001b[38;5;241m.\u001b[39mlabel2\u001b[38;5;241m.\u001b[39mget_window_extent(renderer)\n\u001b[1;32m   1307\u001b[0m          \u001b[38;5;28;01mfor\u001b[39;00m tick \u001b[38;5;129;01min\u001b[39;00m ticks \u001b[38;5;28;01mif\u001b[39;00m tick\u001b[38;5;241m.\u001b[39mlabel2\u001b[38;5;241m.\u001b[39mget_visible()])\n",
      "File \u001b[0;32m~/anaconda3/envs/data-analysis/lib/python3.11/site-packages/matplotlib/text.py:946\u001b[0m, in \u001b[0;36mText.get_window_extent\u001b[0;34m(self, renderer, dpi)\u001b[0m\n\u001b[1;32m    944\u001b[0m \u001b[38;5;28;01mif\u001b[39;00m \u001b[38;5;28mself\u001b[39m\u001b[38;5;241m.\u001b[39mget_text() \u001b[38;5;241m==\u001b[39m \u001b[38;5;124m'\u001b[39m\u001b[38;5;124m'\u001b[39m:\n\u001b[1;32m    945\u001b[0m     \u001b[38;5;28;01mwith\u001b[39;00m cbook\u001b[38;5;241m.\u001b[39m_setattr_cm(\u001b[38;5;28mself\u001b[39m\u001b[38;5;241m.\u001b[39mfigure, dpi\u001b[38;5;241m=\u001b[39mdpi):\n\u001b[0;32m--> 946\u001b[0m         tx, ty \u001b[38;5;241m=\u001b[39m \u001b[38;5;28;43mself\u001b[39;49m\u001b[38;5;241;43m.\u001b[39;49m\u001b[43m_get_xy_display\u001b[49m\u001b[43m(\u001b[49m\u001b[43m)\u001b[49m\n\u001b[1;32m    947\u001b[0m         \u001b[38;5;28;01mreturn\u001b[39;00m Bbox\u001b[38;5;241m.\u001b[39mfrom_bounds(tx, ty, \u001b[38;5;241m0\u001b[39m, \u001b[38;5;241m0\u001b[39m)\n\u001b[1;32m    949\u001b[0m \u001b[38;5;28;01mif\u001b[39;00m renderer \u001b[38;5;129;01mis\u001b[39;00m \u001b[38;5;129;01mnot\u001b[39;00m \u001b[38;5;28;01mNone\u001b[39;00m:\n",
      "File \u001b[0;32m~/anaconda3/envs/data-analysis/lib/python3.11/site-packages/matplotlib/text.py:275\u001b[0m, in \u001b[0;36mText._get_xy_display\u001b[0;34m(self)\u001b[0m\n\u001b[1;32m    271\u001b[0m \u001b[38;5;250m\u001b[39m\u001b[38;5;124;03m\"\"\"\u001b[39;00m\n\u001b[1;32m    272\u001b[0m \u001b[38;5;124;03mGet the (possibly unit converted) transformed x, y in display coords.\u001b[39;00m\n\u001b[1;32m    273\u001b[0m \u001b[38;5;124;03m\"\"\"\u001b[39;00m\n\u001b[1;32m    274\u001b[0m x, y \u001b[38;5;241m=\u001b[39m \u001b[38;5;28mself\u001b[39m\u001b[38;5;241m.\u001b[39mget_unitless_position()\n\u001b[0;32m--> 275\u001b[0m \u001b[38;5;28;01mreturn\u001b[39;00m \u001b[38;5;28;43mself\u001b[39;49m\u001b[38;5;241;43m.\u001b[39;49m\u001b[43mget_transform\u001b[49m\u001b[43m(\u001b[49m\u001b[43m)\u001b[49m\u001b[38;5;241;43m.\u001b[39;49m\u001b[43mtransform\u001b[49m\u001b[43m(\u001b[49m\u001b[43m(\u001b[49m\u001b[43mx\u001b[49m\u001b[43m,\u001b[49m\u001b[43m \u001b[49m\u001b[43my\u001b[49m\u001b[43m)\u001b[49m\u001b[43m)\u001b[49m\n",
      "File \u001b[0;32m~/anaconda3/envs/data-analysis/lib/python3.11/site-packages/matplotlib/transforms.py:1490\u001b[0m, in \u001b[0;36mTransform.transform\u001b[0;34m(self, values)\u001b[0m\n\u001b[1;32m   1487\u001b[0m values \u001b[38;5;241m=\u001b[39m values\u001b[38;5;241m.\u001b[39mreshape((\u001b[38;5;241m-\u001b[39m\u001b[38;5;241m1\u001b[39m, \u001b[38;5;28mself\u001b[39m\u001b[38;5;241m.\u001b[39minput_dims))\n\u001b[1;32m   1489\u001b[0m \u001b[38;5;66;03m# Transform the values\u001b[39;00m\n\u001b[0;32m-> 1490\u001b[0m res \u001b[38;5;241m=\u001b[39m \u001b[38;5;28mself\u001b[39m\u001b[38;5;241m.\u001b[39mtransform_affine(\u001b[38;5;28;43mself\u001b[39;49m\u001b[38;5;241;43m.\u001b[39;49m\u001b[43mtransform_non_affine\u001b[49m\u001b[43m(\u001b[49m\u001b[43mvalues\u001b[49m\u001b[43m)\u001b[49m)\n\u001b[1;32m   1492\u001b[0m \u001b[38;5;66;03m# Convert the result back to the shape of the input values.\u001b[39;00m\n\u001b[1;32m   1493\u001b[0m \u001b[38;5;28;01mif\u001b[39;00m ndim \u001b[38;5;241m==\u001b[39m \u001b[38;5;241m0\u001b[39m:\n",
      "File \u001b[0;32m~/anaconda3/envs/data-analysis/lib/python3.11/site-packages/matplotlib/transforms.py:2422\u001b[0m, in \u001b[0;36mCompositeGenericTransform.transform_non_affine\u001b[0;34m(self, points)\u001b[0m\n\u001b[1;32m   2420\u001b[0m     \u001b[38;5;28;01mreturn\u001b[39;00m points\n\u001b[1;32m   2421\u001b[0m \u001b[38;5;28;01melif\u001b[39;00m \u001b[38;5;129;01mnot\u001b[39;00m \u001b[38;5;28mself\u001b[39m\u001b[38;5;241m.\u001b[39m_a\u001b[38;5;241m.\u001b[39mis_affine \u001b[38;5;129;01mand\u001b[39;00m \u001b[38;5;28mself\u001b[39m\u001b[38;5;241m.\u001b[39m_b\u001b[38;5;241m.\u001b[39mis_affine:\n\u001b[0;32m-> 2422\u001b[0m     \u001b[38;5;28;01mreturn\u001b[39;00m \u001b[38;5;28;43mself\u001b[39;49m\u001b[38;5;241;43m.\u001b[39;49m\u001b[43m_a\u001b[49m\u001b[38;5;241;43m.\u001b[39;49m\u001b[43mtransform_non_affine\u001b[49m\u001b[43m(\u001b[49m\u001b[43mpoints\u001b[49m\u001b[43m)\u001b[49m\n\u001b[1;32m   2423\u001b[0m \u001b[38;5;28;01melse\u001b[39;00m:\n\u001b[1;32m   2424\u001b[0m     \u001b[38;5;28;01mreturn\u001b[39;00m \u001b[38;5;28mself\u001b[39m\u001b[38;5;241m.\u001b[39m_b\u001b[38;5;241m.\u001b[39mtransform_non_affine(\u001b[38;5;28mself\u001b[39m\u001b[38;5;241m.\u001b[39m_a\u001b[38;5;241m.\u001b[39mtransform(points))\n",
      "File \u001b[0;32m~/anaconda3/envs/data-analysis/lib/python3.11/site-packages/matplotlib/transforms.py:2239\u001b[0m, in \u001b[0;36mBlendedGenericTransform.transform_non_affine\u001b[0;34m(self, points)\u001b[0m\n\u001b[1;32m   2236\u001b[0m     x_points \u001b[38;5;241m=\u001b[39m x_points\u001b[38;5;241m.\u001b[39mreshape((\u001b[38;5;28mlen\u001b[39m(x_points), \u001b[38;5;241m1\u001b[39m))\n\u001b[1;32m   2238\u001b[0m \u001b[38;5;28;01mif\u001b[39;00m y\u001b[38;5;241m.\u001b[39minput_dims \u001b[38;5;241m==\u001b[39m \u001b[38;5;241m2\u001b[39m:\n\u001b[0;32m-> 2239\u001b[0m     y_points \u001b[38;5;241m=\u001b[39m \u001b[43my\u001b[49m\u001b[38;5;241;43m.\u001b[39;49m\u001b[43mtransform_non_affine\u001b[49m\u001b[43m(\u001b[49m\u001b[43mpoints\u001b[49m\u001b[43m)\u001b[49m[:, \u001b[38;5;241m1\u001b[39m:]\n\u001b[1;32m   2240\u001b[0m \u001b[38;5;28;01melse\u001b[39;00m:\n\u001b[1;32m   2241\u001b[0m     y_points \u001b[38;5;241m=\u001b[39m y\u001b[38;5;241m.\u001b[39mtransform_non_affine(points[:, \u001b[38;5;241m1\u001b[39m])\n",
      "File \u001b[0;32m~/anaconda3/envs/data-analysis/lib/python3.11/site-packages/matplotlib/transforms.py:2422\u001b[0m, in \u001b[0;36mCompositeGenericTransform.transform_non_affine\u001b[0;34m(self, points)\u001b[0m\n\u001b[1;32m   2420\u001b[0m     \u001b[38;5;28;01mreturn\u001b[39;00m points\n\u001b[1;32m   2421\u001b[0m \u001b[38;5;28;01melif\u001b[39;00m \u001b[38;5;129;01mnot\u001b[39;00m \u001b[38;5;28mself\u001b[39m\u001b[38;5;241m.\u001b[39m_a\u001b[38;5;241m.\u001b[39mis_affine \u001b[38;5;129;01mand\u001b[39;00m \u001b[38;5;28mself\u001b[39m\u001b[38;5;241m.\u001b[39m_b\u001b[38;5;241m.\u001b[39mis_affine:\n\u001b[0;32m-> 2422\u001b[0m     \u001b[38;5;28;01mreturn\u001b[39;00m \u001b[38;5;28;43mself\u001b[39;49m\u001b[38;5;241;43m.\u001b[39;49m\u001b[43m_a\u001b[49m\u001b[38;5;241;43m.\u001b[39;49m\u001b[43mtransform_non_affine\u001b[49m\u001b[43m(\u001b[49m\u001b[43mpoints\u001b[49m\u001b[43m)\u001b[49m\n\u001b[1;32m   2423\u001b[0m \u001b[38;5;28;01melse\u001b[39;00m:\n\u001b[1;32m   2424\u001b[0m     \u001b[38;5;28;01mreturn\u001b[39;00m \u001b[38;5;28mself\u001b[39m\u001b[38;5;241m.\u001b[39m_b\u001b[38;5;241m.\u001b[39mtransform_non_affine(\u001b[38;5;28mself\u001b[39m\u001b[38;5;241m.\u001b[39m_a\u001b[38;5;241m.\u001b[39mtransform(points))\n",
      "File \u001b[0;32m~/anaconda3/envs/data-analysis/lib/python3.11/site-packages/matplotlib/transforms.py:2241\u001b[0m, in \u001b[0;36mBlendedGenericTransform.transform_non_affine\u001b[0;34m(self, points)\u001b[0m\n\u001b[1;32m   2239\u001b[0m     y_points \u001b[38;5;241m=\u001b[39m y\u001b[38;5;241m.\u001b[39mtransform_non_affine(points)[:, \u001b[38;5;241m1\u001b[39m:]\n\u001b[1;32m   2240\u001b[0m \u001b[38;5;28;01melse\u001b[39;00m:\n\u001b[0;32m-> 2241\u001b[0m     y_points \u001b[38;5;241m=\u001b[39m \u001b[43my\u001b[49m\u001b[38;5;241;43m.\u001b[39;49m\u001b[43mtransform_non_affine\u001b[49m\u001b[43m(\u001b[49m\u001b[43mpoints\u001b[49m\u001b[43m[\u001b[49m\u001b[43m:\u001b[49m\u001b[43m,\u001b[49m\u001b[43m \u001b[49m\u001b[38;5;241;43m1\u001b[39;49m\u001b[43m]\u001b[49m\u001b[43m)\u001b[49m\n\u001b[1;32m   2242\u001b[0m     y_points \u001b[38;5;241m=\u001b[39m y_points\u001b[38;5;241m.\u001b[39mreshape((\u001b[38;5;28mlen\u001b[39m(y_points), \u001b[38;5;241m1\u001b[39m))\n\u001b[1;32m   2244\u001b[0m \u001b[38;5;28;01mif\u001b[39;00m (\u001b[38;5;28misinstance\u001b[39m(x_points, np\u001b[38;5;241m.\u001b[39mma\u001b[38;5;241m.\u001b[39mMaskedArray) \u001b[38;5;129;01mor\u001b[39;00m\n\u001b[1;32m   2245\u001b[0m         \u001b[38;5;28misinstance\u001b[39m(y_points, np\u001b[38;5;241m.\u001b[39mma\u001b[38;5;241m.\u001b[39mMaskedArray)):\n",
      "File \u001b[0;32m~/anaconda3/envs/data-analysis/lib/python3.11/site-packages/matplotlib/scale.py:218\u001b[0m, in \u001b[0;36mLogTransform.transform_non_affine\u001b[0;34m(self, a)\u001b[0m\n\u001b[1;32m    216\u001b[0m \u001b[38;5;28;01mdef\u001b[39;00m \u001b[38;5;21mtransform_non_affine\u001b[39m(\u001b[38;5;28mself\u001b[39m, a):\n\u001b[1;32m    217\u001b[0m     \u001b[38;5;66;03m# Ignore invalid values due to nans being passed to the transform.\u001b[39;00m\n\u001b[0;32m--> 218\u001b[0m \u001b[43m    \u001b[49m\u001b[38;5;28;43;01mwith\u001b[39;49;00m\u001b[43m \u001b[49m\u001b[43mnp\u001b[49m\u001b[38;5;241;43m.\u001b[39;49m\u001b[43merrstate\u001b[49m\u001b[43m(\u001b[49m\u001b[43mdivide\u001b[49m\u001b[38;5;241;43m=\u001b[39;49m\u001b[38;5;124;43m\"\u001b[39;49m\u001b[38;5;124;43mignore\u001b[39;49m\u001b[38;5;124;43m\"\u001b[39;49m\u001b[43m,\u001b[49m\u001b[43m \u001b[49m\u001b[43minvalid\u001b[49m\u001b[38;5;241;43m=\u001b[39;49m\u001b[38;5;124;43m\"\u001b[39;49m\u001b[38;5;124;43mignore\u001b[39;49m\u001b[38;5;124;43m\"\u001b[39;49m\u001b[43m)\u001b[49m\u001b[43m:\u001b[49m\n\u001b[1;32m    219\u001b[0m \u001b[43m        \u001b[49m\u001b[43mlog\u001b[49m\u001b[43m \u001b[49m\u001b[38;5;241;43m=\u001b[39;49m\u001b[43m \u001b[49m\u001b[43m{\u001b[49m\u001b[43mnp\u001b[49m\u001b[38;5;241;43m.\u001b[39;49m\u001b[43me\u001b[49m\u001b[43m:\u001b[49m\u001b[43m \u001b[49m\u001b[43mnp\u001b[49m\u001b[38;5;241;43m.\u001b[39;49m\u001b[43mlog\u001b[49m\u001b[43m,\u001b[49m\u001b[43m \u001b[49m\u001b[38;5;241;43m2\u001b[39;49m\u001b[43m:\u001b[49m\u001b[43m \u001b[49m\u001b[43mnp\u001b[49m\u001b[38;5;241;43m.\u001b[39;49m\u001b[43mlog2\u001b[49m\u001b[43m,\u001b[49m\u001b[43m \u001b[49m\u001b[38;5;241;43m10\u001b[39;49m\u001b[43m:\u001b[49m\u001b[43m \u001b[49m\u001b[43mnp\u001b[49m\u001b[38;5;241;43m.\u001b[39;49m\u001b[43mlog10\u001b[49m\u001b[43m}\u001b[49m\u001b[38;5;241;43m.\u001b[39;49m\u001b[43mget\u001b[49m\u001b[43m(\u001b[49m\u001b[38;5;28;43mself\u001b[39;49m\u001b[38;5;241;43m.\u001b[39;49m\u001b[43mbase\u001b[49m\u001b[43m)\u001b[49m\n\u001b[1;32m    220\u001b[0m \u001b[43m        \u001b[49m\u001b[38;5;28;43;01mif\u001b[39;49;00m\u001b[43m \u001b[49m\u001b[43mlog\u001b[49m\u001b[43m:\u001b[49m\u001b[43m  \u001b[49m\u001b[38;5;66;43;03m# If possible, do everything in a single call to NumPy.\u001b[39;49;00m\n",
      "File \u001b[0;32m~/anaconda3/envs/data-analysis/lib/python3.11/site-packages/numpy/core/_ufunc_config.py:435\u001b[0m, in \u001b[0;36merrstate.__exit__\u001b[0;34m(self, *exc_info)\u001b[0m\n\u001b[1;32m    432\u001b[0m     \u001b[38;5;28;01mif\u001b[39;00m \u001b[38;5;28mself\u001b[39m\u001b[38;5;241m.\u001b[39mcall \u001b[38;5;129;01mis\u001b[39;00m \u001b[38;5;129;01mnot\u001b[39;00m _Unspecified:\n\u001b[1;32m    433\u001b[0m         \u001b[38;5;28mself\u001b[39m\u001b[38;5;241m.\u001b[39moldcall \u001b[38;5;241m=\u001b[39m seterrcall(\u001b[38;5;28mself\u001b[39m\u001b[38;5;241m.\u001b[39mcall)\n\u001b[0;32m--> 435\u001b[0m \u001b[38;5;28;01mdef\u001b[39;00m \u001b[38;5;21m__exit__\u001b[39m(\u001b[38;5;28mself\u001b[39m, \u001b[38;5;241m*\u001b[39mexc_info):\n\u001b[1;32m    436\u001b[0m     seterr(\u001b[38;5;241m*\u001b[39m\u001b[38;5;241m*\u001b[39m\u001b[38;5;28mself\u001b[39m\u001b[38;5;241m.\u001b[39moldstate)\n\u001b[1;32m    437\u001b[0m     \u001b[38;5;28;01mif\u001b[39;00m \u001b[38;5;28mself\u001b[39m\u001b[38;5;241m.\u001b[39mcall \u001b[38;5;129;01mis\u001b[39;00m \u001b[38;5;129;01mnot\u001b[39;00m _Unspecified:\n",
      "\u001b[0;31mKeyboardInterrupt\u001b[0m: "
     ]
    },
    {
     "data": {
      "image/png": "[encoded data removed]",
      "text/plain": [
       "<Figure size 1000x600 with 1 Axes>"
      ]
     },
     "metadata": {},
     "output_type": "display_data"
    }
   ],
   "source": [
    "accuracies_plots(df_theta[df_theta['nn_name'] == 'AdvancedCNN'], f\"../../metrics/plots/AdvancedCNN/accuracies.pdf\", accuracies=[0.98, 0.985, 0.99, 0.991, 0.992, 0.993, 0.994, 0.995])"
   ]
  },
  {
   "cell_type": "code",
   "execution_count": 71,
   "id": "5d7d8cec-7d11-4590-8710-8ae0b3529a81",
   "metadata": {
    "tags": []
   },
   "outputs": [],
   "source": [
    "accuracies_plots_syncs(df_theta[df_theta['nn_name'] == 'AdvancedCNN'], f\"../../metrics/plots/AdvancedCNN/syncs.pdf\", accuracies=[0.98, 0.985, 0.99, 0.991, 0.992, 0.993, 0.994, 0.995])"
   ]
  },
  {
   "cell_type": "markdown",
   "id": "7ede378c-18ee-4521-9101-361614426bf3",
   "metadata": {},
   "source": [
    "## LeNet-5"
   ]
  },
  {
   "cell_type": "code",
   "execution_count": 51,
   "id": "cc770b7e-002f-46f4-9e00-505e0e2abb0b",
   "metadata": {
    "tags": []
   },
   "outputs": [],
   "source": [
    "#explore_top(df, 0.98, 'LeNet-5', 'linear')"
   ]
  },
  {
   "cell_type": "code",
   "execution_count": 52,
   "id": "fc6c2002-4be2-4353-aed9-522ddef84eca",
   "metadata": {
    "tags": []
   },
   "outputs": [],
   "source": [
    "time_cost_plots(df_32, 0.98, 'LeNet-5', params=True)\n",
    "time_cost_plots(df_32, 0.975, 'LeNet-5', params=True)\n",
    "time_cost_plots(df_32, 0.985, 'LeNet-5', params=True)"
   ]
  },
  {
   "cell_type": "code",
   "execution_count": 59,
   "id": "4d148de9-4504-448f-9773-4c78a8e39f7b",
   "metadata": {},
   "outputs": [],
   "source": [
    "accuracies_plots(df_32[df_32['nn_name'] == 'LeNet-5'], f\"../../metrics/plots/LeNet-5/accuracies.pdf\", accuracies=[0.95, 0.965, 0.96, 0.965, 0.98, 0.985])"
   ]
  },
  {
   "cell_type": "code",
   "execution_count": 67,
   "id": "a6e72418-96fb-4536-b9e3-3e0a647bf4e3",
   "metadata": {
    "tags": []
   },
   "outputs": [],
   "source": [
    "accuracies_plots_syncs(df_32[df_32['nn_name'] == 'LeNet-5'], f\"../../metrics/plots/LeNet-5/syncs.pdf\", accuracies=[0.95, 0.965, 0.96, 0.965, 0.98, 0.985])"
   ]
  },
  {
   "cell_type": "code",
   "execution_count": 56,
   "id": "deb16e38-de8e-4ac9-9b13-5f14aa77bdf8",
   "metadata": {
    "tags": []
   },
   "outputs": [
    {
     "data": {
      "text/plain": [
       "Index(['dataset_name', 'bias', 'fda_name', 'num_clients', 'batch_size',\n",
       "       'num_steps_until_rtc_check', 'theta', 'nn_name', 'nn_num_weights',\n",
       "       'sketch_width', 'sketch_depth', 'epoch', 'total_rounds',\n",
       "       'total_fda_steps', 'accuracy', 'n_train', 'one_sample_bytes',\n",
       "       'model_bytes', 'local_state_bytes', 'total_steps',\n",
       "       'model_bytes_exchanged', 'monitoring_bytes_exchanged',\n",
       "       'total_communication_bytes', 'total_communication_gb', 'epoch_rounds',\n",
       "       'cpu_time_cost', 'hypercube_communication_time_cost',\n",
       "       'common_channel_communication_time_cost', 'hypercube_time_cost',\n",
       "       'common_channel_time_cost', 'hypercube_comm_cpu_time_ratio',\n",
       "       'common_channel_comm_cpu_time_ratio'],\n",
       "      dtype='object')"
      ]
     },
     "execution_count": 56,
     "metadata": {},
     "output_type": "execute_result"
    }
   ],
   "source": [
    "df_theta.columns"
   ]
  },
  {
   "cell_type": "code",
   "execution_count": null,
   "id": "e7cb8603-e577-4385-8128-59f6f1bc8d10",
   "metadata": {},
   "outputs": [],
   "source": []
  }
 ],
 "metadata": {
  "kernelspec": {
   "display_name": "Python [conda env:data-analysis]",
   "language": "python",
   "name": "conda-env-data-analysis-py"
  },
  "language_info": {
   "codemirror_mode": {
    "name": "ipython",
    "version": 3
   },
   "file_extension": ".py",
   "mimetype": "text/x-python",
   "name": "python",
   "nbconvert_exporter": "python",
   "pygments_lexer": "ipython3",
   "version": "3.11.4"
  }
 },
 "nbformat": 4,
 "nbformat_minor": 5
}
