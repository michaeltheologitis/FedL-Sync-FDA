{
 "cells": [
  {
   "cell_type": "code",
   "execution_count": 110,
   "id": "48030999",
   "metadata": {
    "tags": []
   },
   "outputs": [],
   "source": [
    "import pandas as pd\n",
    "import numpy as np\n",
    "import matplotlib.pyplot as plt\n",
    "from matplotlib.backends.backend_pdf import PdfPages\n",
    "import glob\n",
    "import seaborn as sns\n",
    "import numpy as np"
   ]
  },
  {
   "cell_type": "markdown",
   "id": "dd8fbdc6-1e34-4a24-bc2c-3889b431983b",
   "metadata": {
    "tags": []
   },
   "source": [
    "## Read from `~/metrics/epoch_metrics/` directory"
   ]
  },
  {
   "cell_type": "code",
   "execution_count": 111,
   "id": "fa99cded-d478-4585-a418-732835788ab3",
   "metadata": {
    "tags": []
   },
   "outputs": [],
   "source": [
    "files = glob.glob(\"../../metrics/epoch_metrics/*parquet\")\n",
    "\n",
    "dataframes = []\n",
    "\n",
    "for file in files:\n",
    "    df = pd.read_parquet(file)\n",
    "    \n",
    "    dataframes.append(df)\n",
    "\n",
    "df = pd.concat(dataframes, ignore_index=True)"
   ]
  },
  {
   "cell_type": "code",
   "execution_count": 112,
   "id": "ae6fd06a-0b6c-4529-914c-64950e27f70f",
   "metadata": {
    "tags": []
   },
   "outputs": [],
   "source": [
    "df[\"per_layer\"] = df['total_rounds'].apply(lambda x: not isinstance(x, int))"
   ]
  },
  {
   "cell_type": "code",
   "execution_count": 113,
   "id": "9ddbc7c5-3a74-46de-bf8a-f97cf121e4e8",
   "metadata": {
    "tags": []
   },
   "outputs": [],
   "source": [
    "import ast\n",
    "\n",
    "def per_layer_columns(row):\n",
    "    if row['per_layer']:\n",
    "        \n",
    "        tot_rounds = row['total_rounds']\n",
    "        \n",
    "        if isinstance(tot_rounds, str):\n",
    "            return ast.literal_eval(row['total_rounds'])\n",
    "        \n",
    "        elif isinstance(row['total_rounds'], np.ndarray):\n",
    "            return list(row['total_rounds'])\n",
    "            \n",
    "        else:\n",
    "            print(type(row['total_rounds']))\n",
    "            raise Exception(\"WTF\")\n",
    "    \n",
    "    return row['total_rounds']"
   ]
  },
  {
   "cell_type": "code",
   "execution_count": 114,
   "id": "a132e0bf-b180-481d-a6a1-2138fc797f54",
   "metadata": {
    "tags": []
   },
   "outputs": [],
   "source": [
    "df['total_rounds'] = df.apply(per_layer_columns, axis=1)"
   ]
  },
  {
   "cell_type": "code",
   "execution_count": 115,
   "id": "89ff3dd8",
   "metadata": {
    "tags": []
   },
   "outputs": [],
   "source": [
    "#df = pd.read_parquet(\"../../metrics/epoch_metrics/\")"
   ]
  },
  {
   "cell_type": "code",
   "execution_count": 116,
   "id": "dfb29804-1e49-4a69-ab06-8f7bd4b3fed9",
   "metadata": {
    "tags": []
   },
   "outputs": [],
   "source": [
    "def strat_name(fda_name):\n",
    "    if fda_name == 'synchronous':\n",
    "        return \"Synchronous\"\n",
    "    if fda_name == 'naive':\n",
    "        return \"NaiveFDA\"\n",
    "    if fda_name == 'linear':\n",
    "        return \"LinearFDA\"\n",
    "    if fda_name == 'sketch':\n",
    "        return \"SketchFDA\"\n",
    "    return fda_name"
   ]
  },
  {
   "cell_type": "code",
   "execution_count": 117,
   "id": "2d935ef0-e9f3-4e58-89c0-ce4b21c50f0a",
   "metadata": {
    "tags": []
   },
   "outputs": [],
   "source": [
    "df['strat_name'] = df['fda_name'].apply(strat_name)"
   ]
  },
  {
   "cell_type": "code",
   "execution_count": 118,
   "id": "bf8b0190-a7e5-4416-9d7b-3784789ae864",
   "metadata": {
    "tags": []
   },
   "outputs": [],
   "source": [
    "def training_error(train_accuracy):\n",
    "    if pd.isna(train_accuracy):\n",
    "        return np.nan\n",
    "    return 1 - train_accuracy"
   ]
  },
  {
   "cell_type": "code",
   "execution_count": 119,
   "id": "da7e120e-59c3-4fc2-bf90-fce0ab714446",
   "metadata": {
    "tags": []
   },
   "outputs": [],
   "source": [
    "df['training_error'] = df['train_accuracy'].apply(training_error)"
   ]
  },
  {
   "cell_type": "code",
   "execution_count": 120,
   "id": "1c514866-798f-4bbe-9647-6574fdef6b83",
   "metadata": {
    "tags": []
   },
   "outputs": [
    {
     "data": {
      "text/plain": [
       "Index(['dataset_name', 'fda_name', 'num_clients', 'batch_size',\n",
       "       'num_steps_until_rtc_check', 'theta', 'nn_name', 'nn_num_weights',\n",
       "       'sketch_width', 'sketch_depth', 'epoch', 'total_rounds',\n",
       "       'total_fda_steps', 'accuracy', 'bias', 'aggr_scheme', 'train_accuracy',\n",
       "       'per_layer', 'strat_name', 'training_error'],\n",
       "      dtype='object')"
      ]
     },
     "execution_count": 120,
     "metadata": {},
     "output_type": "execute_result"
    }
   ],
   "source": [
    "df.columns"
   ]
  },
  {
   "cell_type": "code",
   "execution_count": 121,
   "id": "9daf2624-cc70-4e90-87b6-5ac8048eed2a",
   "metadata": {
    "tags": []
   },
   "outputs": [],
   "source": [
    "df_fda_regression = None"
   ]
  },
  {
   "cell_type": "markdown",
   "id": "2a2b25db-0742-4564-8e1b-bceba468b557",
   "metadata": {},
   "source": [
    "# Hyper-Parameters"
   ]
  },
  {
   "cell_type": "markdown",
   "id": "f7e3d30a-0336-48e7-9574-36b974c72254",
   "metadata": {},
   "source": [
    "`bias` `NaN` -> no bias\n",
    "\n",
    "`bias` $ \\in (0, 1)$ -> `bias`% of each client's dataset is biased (from sorted sequence of MNIST) - rest is good\n",
    "\n",
    "`bias` $= -1$ -> MNIST label 0 is sorted, placed at the start, and clients get assigned sequentially from this dataset. Only one label is biased to however many clients can get it assigned to them.\n",
    "\n",
    "`bias` $= -2$ -> MNIST label 8 is sorted, placed at the start, and clients get assigned sequentially from this dataset. Only one label is biased to however many clients can get it assigned to them."
   ]
  },
  {
   "cell_type": "code",
   "execution_count": 122,
   "id": "da2bae88-a838-477f-ade3-2595e66717a8",
   "metadata": {
    "tags": []
   },
   "outputs": [],
   "source": [
    "one_label_bias = {\n",
    "    -1: 0,\n",
    "    -2: 8\n",
    "}"
   ]
  },
  {
   "cell_type": "code",
   "execution_count": 123,
   "id": "029ac0aa-49b4-4f2d-a4ab-6f7a4d80cdd5",
   "metadata": {
    "tags": []
   },
   "outputs": [],
   "source": [
    "aggr = {\n",
    "    'avg': '',\n",
    "    'wavg_drifts': ' wavg'\n",
    "}"
   ]
  },
  {
   "cell_type": "code",
   "execution_count": 124,
   "id": "ea45453e-d536-4676-a532-9ee2faccc786",
   "metadata": {
    "tags": []
   },
   "outputs": [],
   "source": [
    "per_layer_dict = {\n",
    "    False: '',\n",
    "    True: ' per-layer'\n",
    "}"
   ]
  },
  {
   "cell_type": "code",
   "execution_count": 125,
   "id": "1e58e7a1-9cb4-4247-b0df-1a803e415497",
   "metadata": {
    "tags": []
   },
   "outputs": [],
   "source": [
    "def bias_string_helper(bias):\n",
    "    if pd.isna(bias):\n",
    "        return '_no_bias'\n",
    "    if bias > 0:\n",
    "        return f\"_bias_uniform{str(bias).replace('.', '')}\"\n",
    "    return f\"_bias_label{one_label_bias[bias]}\""
   ]
  },
  {
   "cell_type": "code",
   "execution_count": 126,
   "id": "8688eb68-82bd-48c9-b640-3b669da47ad1",
   "metadata": {
    "tags": []
   },
   "outputs": [],
   "source": [
    "def bias_title_helper(bias):\n",
    "    if pd.isna(bias):\n",
    "        return 'IID'\n",
    "    if bias > 0:\n",
    "        return f\"{bias * 100}% non-IID\"\n",
    "    return f'Label \"{one_label_bias[bias]}\" non-IID'"
   ]
  },
  {
   "cell_type": "markdown",
   "id": "cc83ca7e-2d67-4138-825c-2193420208c5",
   "metadata": {},
   "source": [
    "# Helpful new Dataframe metrics"
   ]
  },
  {
   "cell_type": "markdown",
   "id": "96b67d41-76a9-461e-830f-9dccfecaf678",
   "metadata": {},
   "source": [
    "### Add Helpful model metrics"
   ]
  },
  {
   "cell_type": "code",
   "execution_count": 127,
   "id": "49a43e33-b746-46ab-be9a-8a63f30a8986",
   "metadata": {
    "tags": []
   },
   "outputs": [],
   "source": [
    "df['model_bytes'] = df['nn_num_weights'] * 4"
   ]
  },
  {
   "cell_type": "markdown",
   "id": "b6c4b4b2-5b95-4f6e-bae3-389bcc45c14d",
   "metadata": {
    "tags": []
   },
   "source": [
    "### Add Helpful FDA method metrics"
   ]
  },
  {
   "cell_type": "code",
   "execution_count": 128,
   "id": "4ce6b482-c726-49e4-abb7-e9daedf781d1",
   "metadata": {
    "tags": []
   },
   "outputs": [],
   "source": [
    "def fda_local_state_bytes(row):\n",
    "    if row['fda_name'] == \"naive\":\n",
    "        return 4\n",
    "    if row['fda_name'] == \"linear\":\n",
    "        return 8\n",
    "    if row['fda_name'] == \"sketch\":\n",
    "        return row['sketch_width'] * row['sketch_depth'] * 4 + 4\n",
    "    if row['fda_name'] in [\"synchronous\", \"FedAdam\", \"FedAvgM\"]:\n",
    "        return 0\n",
    "    if row['fda_name'] == 'gm':\n",
    "        return 0.125  # one bit"
   ]
  },
  {
   "cell_type": "code",
   "execution_count": 129,
   "id": "5bccd467-4482-4d0f-96c1-63625ab33531",
   "metadata": {
    "tags": []
   },
   "outputs": [],
   "source": [
    "df['local_state_bytes'] = df.apply(fda_local_state_bytes, axis=1)"
   ]
  },
  {
   "cell_type": "markdown",
   "id": "0d63338e-b01f-4a2e-9035-56d4ccb6b5b8",
   "metadata": {},
   "source": [
    "### Add Total Steps\n",
    "\n",
    "total steps (a single fda step might have many normal SGD steps, batch steps)"
   ]
  },
  {
   "cell_type": "code",
   "execution_count": 130,
   "id": "62737054-fd40-46fe-ae01-f8774db0db91",
   "metadata": {
    "tags": []
   },
   "outputs": [],
   "source": [
    "df['total_steps'] = df['total_fda_steps'] * df['num_steps_until_rtc_check']"
   ]
  },
  {
   "cell_type": "markdown",
   "id": "ae20d8fe-f5b6-463b-9e02-16588b178252",
   "metadata": {},
   "source": [
    "### Add communication metrics"
   ]
  },
  {
   "cell_type": "code",
   "execution_count": 131,
   "id": "863052af-6314-4b55-86a2-163ea46f890d",
   "metadata": {
    "tags": []
   },
   "outputs": [],
   "source": [
    "adv_layer_count = [640, 36928, 73856, 147584, 295168, 590080, 1180160, 262656, 5130]\n",
    "lenet_layer_count = [156, 2416, 48120, 10164, 850]"
   ]
  },
  {
   "cell_type": "markdown",
   "id": "8bc1ecda-66bf-4ada-8341-bc44002dd38d",
   "metadata": {},
   "source": [
    "The communication bytes exchanged for model synchronization. Remember that the Clients send their models to the Server and the Server sends the global model back. This happens at the end of every round."
   ]
  },
  {
   "cell_type": "code",
   "execution_count": 132,
   "id": "1ac2eb6a-5878-4173-9901-1f57aec4e95e",
   "metadata": {
    "tags": []
   },
   "outputs": [],
   "source": [
    "def model_bytes_exchanged(row):\n",
    "    if row['per_layer']:\n",
    "        if row['nn_name'] == 'AdvancedCNN':\n",
    "            return sum((layer_num_weights * 4) * layer_rounds * row['num_clients'] * 2 for layer_num_weights, layer_rounds in zip(adv_layer_count, row['total_rounds']))\n",
    "        if row['nn_name'] == 'LeNet-5':\n",
    "            print(\"lenet?\")\n",
    "            return sum((layer_num_weights * 4) * layer_rounds * row['num_clients'] * 2 for layer_num_weights, layer_rounds in zip(lenet_layer_count, row['total_rounds']))\n",
    "    \n",
    "    return row['total_rounds'] * row['model_bytes'] * row['num_clients'] * 2"
   ]
  },
  {
   "cell_type": "code",
   "execution_count": 133,
   "id": "86fe348a-4beb-4805-af41-4408d78a198e",
   "metadata": {
    "tags": []
   },
   "outputs": [],
   "source": [
    "df['model_bytes_exchanged'] = df.apply(model_bytes_exchanged, axis=1)"
   ]
  },
  {
   "cell_type": "markdown",
   "id": "6de008e7-dadd-413a-98ff-1e7d94dbc8bf",
   "metadata": {},
   "source": [
    "The communication bytes exchanged for monitoring the variance. This happens at the end of every FDA step which consists of `num_steps_until_rtc_check` number of steps. "
   ]
  },
  {
   "cell_type": "code",
   "execution_count": 134,
   "id": "17eb8709-13b6-4e1b-8caa-d311d01939bd",
   "metadata": {
    "tags": []
   },
   "outputs": [],
   "source": [
    "def monitoring_bytes_exchanged(row):\n",
    "    if row['per_layer']:\n",
    "        if row['nn_name'] == 'AdvancedCNN':\n",
    "            return row['local_state_bytes'] * row['total_fda_steps'] * row['num_clients'] * len(adv_layer_count)\n",
    "        if row['nn_name'] == 'LeNet-5':\n",
    "            return row['local_state_bytes'] * row['total_fda_steps'] * row['num_clients'] * len(lenet_layer_count)\n",
    "    \n",
    "    return row['local_state_bytes'] * row['total_fda_steps'] * row['num_clients']"
   ]
  },
  {
   "cell_type": "code",
   "execution_count": 135,
   "id": "96c0a03c-809e-4b61-b83b-73b6efa32630",
   "metadata": {
    "tags": []
   },
   "outputs": [],
   "source": [
    "df['monitoring_bytes_exchanged'] = df.apply(monitoring_bytes_exchanged, axis=1)"
   ]
  },
  {
   "cell_type": "markdown",
   "id": "4f8aa21e-1040-4794-8780-6e0283ee2d73",
   "metadata": {},
   "source": [
    "The total communication bytes exchanged in the whole Federated Learning lifecycle."
   ]
  },
  {
   "cell_type": "code",
   "execution_count": 136,
   "id": "84353a52-12cf-416c-9b5a-74b7658ce499",
   "metadata": {
    "tags": []
   },
   "outputs": [],
   "source": [
    "df['total_communication_bytes'] = df['model_bytes_exchanged'] + df['monitoring_bytes_exchanged']"
   ]
  },
  {
   "cell_type": "code",
   "execution_count": 137,
   "id": "1b48e615-187c-48aa-9bbb-928e248b1040",
   "metadata": {
    "tags": []
   },
   "outputs": [],
   "source": [
    "df['total_communication_gb'] = df['total_communication_bytes'] / 10**9"
   ]
  },
  {
   "cell_type": "markdown",
   "id": "9773a738-5cbd-4d87-9a7a-004fe11d6fb3",
   "metadata": {},
   "source": [
    "# HyperParameter ranking"
   ]
  },
  {
   "cell_type": "markdown",
   "id": "42646af0-06ce-4d80-a803-9a04bbd42bb4",
   "metadata": {},
   "source": [
    "### LeNet-5 - MNIST\n",
    "On `Nvidia A10`:\n",
    "1. Batch Size = 32 -> 6.613 ms ± 0.128 ms per loop (mean ± std. dev. of 7 runs, 1 loop each)\n",
    "2. *Batch Size* = 64 -> 7.509 ms ± 0.065 ms per loop (mean ± std. dev. of 7 runs, 1 loop each)\n",
    "3. *Batch Size* = 128 -> 8.02 ms ± 0.099 ms per loop (mean ± std. dev. of 7 runs, 1 loop each)\n",
    "4. *Batch Size* = 256 -> 9.258 ms ± 0.336 ms per loop (mean ± std. dev. of 7 runs, 1 loop each)"
   ]
  },
  {
   "cell_type": "markdown",
   "id": "ac905fcd-cbe7-4ce6-9826-ef0f4696c14c",
   "metadata": {
    "tags": []
   },
   "source": [
    "### AdvancedCNN - MNIST\n",
    "\n",
    "On `Nvidia A10`:\n",
    "1. *Batch Size* = 32 -> 8.853 ms ± 0.0917 ms per loop (mean ± std. dev. of 7 runs, 1 loop each)\n",
    "2. *Batch Size* = 64 -> 10.325 ms ± 0.215 ms per loop (mean ± std. dev. of 7 runs, 1 loop each)\n",
    "3. *Batch Size* = 128 -> 11.989 ms ± 0.134 ms per loop (mean ± std. dev. of 7 runs, 1 loop each)\n",
    "4. *Batch Size* = 256 -> 16.47 ms ± 0.294 ms per loop (mean ± std. dev. of 7 runs, 1 loop each)"
   ]
  },
  {
   "cell_type": "markdown",
   "id": "dd26782b-a565-45d7-8889-24573f7b6d95",
   "metadata": {},
   "source": [
    "### DenseNet121 - CIFAR10\n",
    "\n",
    "On `Nvidia A10`:\n",
    "1. *Batch Size* = 32 -> 87.328 ms ± 0.9547 ms per loop (mean ± std. dev. of 7 runs, 1 loop each)\n",
    "2. *Batch Size* = 64 -> 88.832 ms ± 2.17 ms per loop (mean ± std. dev. of 7 runs, 1 loop each)\n",
    "3. *Batch Size* = 128 -> 94.208 ms ± 2.634 ms per loop (mean ± std. dev. of 7 runs, 1 loop each)\n",
    "4. *Batch Size* = 256 -> 96.0 ms ± 2.94 ms per loop (mean ± std. dev. of 7 runs, 1 loop each)"
   ]
  },
  {
   "cell_type": "markdown",
   "id": "e98a69d6-3faf-4e5c-a13f-d9c09c9215a6",
   "metadata": {
    "tags": []
   },
   "source": [
    "### DenseNet201 - CIFAR10\n",
    "\n",
    "On `Nvidia A10`:\n",
    "1. *Batch Size* = 32 -> 142.0896 ms ± 2.9547 ms per loop (mean ± std. dev. of 7 runs, 1 loop each)\n",
    "2. *Batch Size* = 64 -> 150.2592 ms ± 5.17 ms per loop (mean ± std. dev. of 7 runs, 1 loop each)\n",
    "3. *Batch Size* = 128 -> 154.5664 ms ± 6.758 ms per loop (mean ± std. dev. of 7 runs, 1 loop each)\n",
    "4. *Batch Size* = 256 -> 156.5776 ms ± 7.84 ms per loop (mean ± std. dev. of 7 runs, 1 loop each)"
   ]
  },
  {
   "cell_type": "code",
   "execution_count": 138,
   "id": "83fdf5fb-18ff-4b12-ada8-5129cc7531d4",
   "metadata": {
    "tags": []
   },
   "outputs": [],
   "source": [
    "step_ms = {\n",
    "    (\"AdvancedCNN\", 32): 8.853,\n",
    "    (\"AdvancedCNN\", 64): 10.325,\n",
    "    (\"AdvancedCNN\", 128): 11.989,\n",
    "    (\"AdvancedCNN\", 256): 16.47,\n",
    "    (\"LeNet-5\", 32): 6.613,\n",
    "    (\"LeNet-5\", 64): 7.509,\n",
    "    (\"LeNet-5\", 128): 8.02,\n",
    "    (\"LeNet-5\", 256): 9.258,\n",
    "    (\"DenseNet121\", 32): 87.328,\n",
    "    (\"DenseNet121\", 64): 88.832,\n",
    "    (\"DenseNet121\", 128): 94.208,\n",
    "    (\"DenseNet121\", 256): 96.0,\n",
    "    (\"DenseNet201\", 32): 142.0896,\n",
    "    (\"DenseNet201\", 64): 150.2592,\n",
    "    (\"DenseNet201\", 128): 154.5664,\n",
    "    (\"DenseNet201\", 256): 156.5776,\n",
    "    \n",
    "    (\"ConvNeXtLarge\", 32): 368.328,\n",
    "}"
   ]
  },
  {
   "cell_type": "code",
   "execution_count": 139,
   "id": "178b5809-8298-4666-8296-8bbec9ccda62",
   "metadata": {
    "tags": []
   },
   "outputs": [],
   "source": [
    "import numpy as np\n",
    "\n",
    "def cpu_time_cost(row):\n",
    "    \"\"\" Total cpu time cost in (sec).\n",
    "    A single `step` means each client performed a single `step` \n",
    "    \"\"\"\n",
    "    return row['total_steps'] * step_ms[(row['nn_name'], row['batch_size'])] / 1000\n",
    "\n",
    "def communication_time_cost(num_clients, total_communication_bytes, comm_model):\n",
    "    \"\"\" Assuming channel is 1Gbps \"\"\"\n",
    "\n",
    "    G = 0.5  # Gbps\n",
    "    total_communication_gbit = total_communication_bytes * 8e-9\n",
    "\n",
    "    if comm_model == 'common_channel':\n",
    "        \n",
    "        return ((num_clients - 1) / num_clients) * (total_communication_gbit / G)    # sec\n",
    "\n",
    "    if comm_model == 'hypercube':\n",
    "\n",
    "        return (np.ceil(np.log(num_clients)) / num_clients) * (total_communication_gbit / G)   # sec"
   ]
  },
  {
   "cell_type": "code",
   "execution_count": 140,
   "id": "6892ee25-e1b9-4e98-b5a1-c3669d84cd93",
   "metadata": {
    "tags": []
   },
   "outputs": [],
   "source": [
    "df['cpu_time_cost'] = df.apply(cpu_time_cost, axis=1)"
   ]
  },
  {
   "cell_type": "code",
   "execution_count": 141,
   "id": "a3895090-76c2-46ff-a229-30ee6142e2e9",
   "metadata": {
    "tags": []
   },
   "outputs": [],
   "source": [
    "df['hypercube_communication_time_cost'] = communication_time_cost(df['num_clients'], df['total_communication_bytes'], 'hypercube')"
   ]
  },
  {
   "cell_type": "code",
   "execution_count": 142,
   "id": "9666ef46-2574-43e9-b8e6-0c7fca3b75ec",
   "metadata": {
    "tags": []
   },
   "outputs": [],
   "source": [
    "df['common_channel_communication_time_cost'] = communication_time_cost(df['num_clients'], df['total_communication_bytes'], 'common_channel')"
   ]
  },
  {
   "cell_type": "code",
   "execution_count": 143,
   "id": "8a7c286b-25a0-4eb0-a432-fded4f049071",
   "metadata": {
    "tags": []
   },
   "outputs": [],
   "source": [
    "df['hypercube_time_cost'] = df['cpu_time_cost'] + df['hypercube_communication_time_cost']"
   ]
  },
  {
   "cell_type": "code",
   "execution_count": 144,
   "id": "efe9fa8a-d8d7-4b2a-a3a0-131eec5ce2d2",
   "metadata": {
    "tags": []
   },
   "outputs": [],
   "source": [
    "df['common_channel_time_cost'] = df['cpu_time_cost'] + df['common_channel_communication_time_cost']"
   ]
  },
  {
   "cell_type": "code",
   "execution_count": 145,
   "id": "b9cf2956-4729-48a5-b06c-8cd6953f6ef7",
   "metadata": {
    "tags": []
   },
   "outputs": [],
   "source": [
    "df['hypercube_comm_cpu_time_ratio'] = df['hypercube_communication_time_cost'] / df['cpu_time_cost']"
   ]
  },
  {
   "cell_type": "code",
   "execution_count": 146,
   "id": "be90d43a-e051-4445-a183-b68f329f2843",
   "metadata": {
    "tags": []
   },
   "outputs": [],
   "source": [
    "df['common_channel_comm_cpu_time_ratio'] = df['common_channel_communication_time_cost'] / df['cpu_time_cost']"
   ]
  },
  {
   "cell_type": "markdown",
   "id": "270b7b80-e37e-45f6-badc-14e09ab83d8f",
   "metadata": {},
   "source": [
    "# Plots about cost"
   ]
  },
  {
   "cell_type": "code",
   "execution_count": 147,
   "id": "78880363-4c40-4799-9672-3218d2ec807a",
   "metadata": {
    "tags": []
   },
   "outputs": [],
   "source": [
    "fda_names = ['gm', 'naive', 'linear', 'sketch', 'FedAvgM', 'FedAdam', 'synchronous']"
   ]
  },
  {
   "cell_type": "code",
   "execution_count": 148,
   "id": "d4fbe02f-48f4-47f4-937b-79b16e40fa5b",
   "metadata": {
    "tags": []
   },
   "outputs": [],
   "source": [
    "import matplotlib\n",
    "\n",
    "num_clients_values = sorted(df['num_clients'].unique())\n",
    "cmap = matplotlib.colormaps['tab20b']\n",
    "colors_dict = {\n",
    "    num_clients: color \n",
    "    for num_clients, color in zip(num_clients_values, cmap(np.linspace(0, 1, len(num_clients_values))))\n",
    "}"
   ]
  },
  {
   "cell_type": "markdown",
   "id": "5d6b795b-a73d-4e94-b9e4-07df61d1f0fd",
   "metadata": {},
   "source": [
    "## KDE Helper"
   ]
  },
  {
   "cell_type": "code",
   "execution_count": 149,
   "id": "f277d83f-7869-46ef-a4d6-0129553318da",
   "metadata": {
    "tags": []
   },
   "outputs": [],
   "source": [
    "\"\"\"\n",
    "sns_params = {\n",
    "    'bw_method': 'scott',\n",
    "    'bw_adjust': 0.7,\n",
    "    'fill': True,\n",
    "    'alpha': 0.2\n",
    "}\n",
    "\"\"\"\n",
    "sns_params = {\n",
    "    'bw_method': 'scott',\n",
    "    'bw_adjust': 0.7,\n",
    "    'fill': False,\n",
    "    'alpha': 1\n",
    "}\n",
    "\n",
    "sns_params_biases = {\n",
    "    'bw_method': 'scott',\n",
    "    'bw_adjust': 0.7,\n",
    "    'fill': False,\n",
    "    'alpha': 0.8\n",
    "}\n",
    "\n",
    "base_colors = {\n",
    "    'gm': 'black',\n",
    "    'naive': 'orange',\n",
    "    'NaiveFDA': 'orange',\n",
    "    'linear': 'green',\n",
    "    'LinearFDA': 'green',\n",
    "    'sketch': 'red',\n",
    "    'SketchFDA': 'red',\n",
    "    #'synchronous': 'darkslategrey',\n",
    "    #'Synchronous': 'darkslategrey',\n",
    "    'synchronous': 'black',\n",
    "    'Synchronous': 'black',\n",
    "    'sketch wavg': 'black',\n",
    "    'FedAvgM': 'purple',\n",
    "    'FedAdam': 'blue'\n",
    "}\n",
    "\n",
    "markers = {\n",
    "    'gm': '.',\n",
    "    'naive': 'v',\n",
    "    'NaiveFDA': 'v',\n",
    "    'linear': '^',\n",
    "    'LinearFDA': '^',\n",
    "    'sketch': '*',\n",
    "    'SketchFDA': '*',\n",
    "    'synchronous': 's',\n",
    "    'Synchronous': 's',\n",
    "    'FedAvgM': 'o',\n",
    "    'FedAdam': 'o'\n",
    "}\n",
    "\n",
    "\n",
    "fda_strat_names = [\"NaiveFDA\", \"LinearFDA\", \"SketchFDA\"]\n",
    "other_strat_names = [\"FedAvgM\", \"FedAdam\", \"Synchronous\"]"
   ]
  },
  {
   "cell_type": "code",
   "execution_count": 150,
   "id": "af83a7a6-6262-4925-8c69-b5ff04539f73",
   "metadata": {
    "tags": []
   },
   "outputs": [],
   "source": [
    "strat_legend_order = {'gm': 0, 'NaiveFDA': 1, 'LinearFDA': 2, 'SketchFDA': 3, 'FedAvgM': 4, 'FedAdam': 5, 'Synchronous': 6}"
   ]
  },
  {
   "cell_type": "code",
   "execution_count": 151,
   "id": "83060ea3-960a-43fa-8c24-046ab5b8fe0e",
   "metadata": {
    "tags": []
   },
   "outputs": [],
   "source": [
    "def get_ordered_handles_and_labels(handles, labels):\n",
    "    \n",
    "    handles_labels = [(h, l, strat_legend_order[l]) for h, l in zip(handles, labels)]\n",
    "    \n",
    "    handles_labels.sort(key=lambda x: x[2])\n",
    "    \n",
    "    handles, labels = [], []\n",
    "    \n",
    "    for h, l, _ in handles_labels:\n",
    "        labels.append(l)\n",
    "        handles.append(h)\n",
    "    \n",
    "    return handles, labels"
   ]
  },
  {
   "cell_type": "code",
   "execution_count": 152,
   "id": "5a8b81fe-0fc4-4501-88a2-77cca9f24229",
   "metadata": {
    "tags": []
   },
   "outputs": [],
   "source": [
    "import matplotlib.pyplot as plt\n",
    "\n",
    "plt.rcParams['font.size'] = 12.0\n",
    "plt.rcParams['axes.labelsize'] = 16\n",
    "plt.rcParams['axes.titlesize'] = 20\n",
    "plt.rcParams['axes.titleweight'] = 'bold'\n",
    "plt.rcParams['xtick.labelsize'] = 14\n",
    "plt.rcParams['ytick.labelsize'] = 14\n",
    "plt.rcParams['legend.fontsize'] = 14"
   ]
  },
  {
   "cell_type": "code",
   "execution_count": 153,
   "id": "862395a1-269b-437c-8498-ea05dba1e1ea",
   "metadata": {
    "tags": []
   },
   "outputs": [],
   "source": [
    "#import matplotlib\n",
    "#matplotlib.rcParams.update(matplotlib.rcParamsDefault)"
   ]
  },
  {
   "cell_type": "code",
   "execution_count": 154,
   "id": "f3b9aaae-9261-41f8-af80-9b290b676f51",
   "metadata": {
    "tags": []
   },
   "outputs": [],
   "source": [
    "from pathlib import Path\n",
    "import matplotlib as mpl\n",
    "\n",
    "#fig, ax = plt.subplots()\n",
    "\n",
    "fpath = Path(mpl.get_data_path(), \"/usr/share/fonts/opentype/linux-libertine/LinLibertine_RB.otf\")\n",
    "#ax.set_title('Non-IID: Label \"$0$\", Accuracy Target: $0.975$', font=fpath, size=20)\n",
    "#ax.set_xlabel('This is the default font')\n",
    "\n",
    "#plt.show()"
   ]
  },
  {
   "cell_type": "code",
   "execution_count": 155,
   "id": "d9d8616c-66ef-4700-9b61-282301affae3",
   "metadata": {
    "tags": []
   },
   "outputs": [],
   "source": [
    "def bias_title(bias):\n",
    "    if pd.isna(bias):\n",
    "        return \"IID\"\n",
    "    elif bias > 0:\n",
    "        return f\"Non-IID: ${int(bias * 100)}\\%$\"\n",
    "    elif bias == -1:\n",
    "        return 'Non-IID: Label \"$0$\"'\n",
    "    elif bias == -2:\n",
    "        return 'Non-IID: Label \"$8$\"'"
   ]
  },
  {
   "cell_type": "code",
   "execution_count": 156,
   "id": "d1488ea5-f7aa-42d8-bec9-a7d073c386a0",
   "metadata": {
    "tags": []
   },
   "outputs": [
    {
     "data": {
      "text/plain": [
       "array([ nan, -2. ,  0.9, -1. ,  0.6,  0.2,  0.3,  0.5])"
      ]
     },
     "execution_count": 156,
     "metadata": {},
     "output_type": "execute_result"
    }
   ],
   "source": [
    "df['bias'].unique()"
   ]
  },
  {
   "cell_type": "markdown",
   "id": "f8149d83-dd3a-4093-8eeb-6ad2a0d9a391",
   "metadata": {},
   "source": [
    "## Biparte"
   ]
  },
  {
   "cell_type": "code",
   "execution_count": 157,
   "id": "4232f547-1fed-4c72-a534-9b1c99c5b292",
   "metadata": {
    "tags": []
   },
   "outputs": [],
   "source": [
    "sns_params_joint = {\n",
    "    'bw_method': 'scott',\n",
    "    'bw_adjust': 0.5,\n",
    "    'alpha': 0.4, # 0.8\n",
    "    'n_levels': 4,\n",
    "    'fill': True,\n",
    "}\n",
    "\n",
    "sns_params_joint_tmp = {\n",
    "    'bw_method': 'scott',\n",
    "    'bw_adjust': 0.5,\n",
    "    'fill': False,\n",
    "    'alpha': 0.8,\n",
    "    'n_levels': 4\n",
    "}"
   ]
  },
  {
   "cell_type": "code",
   "execution_count": 158,
   "id": "9bf42df9-2294-45c8-92ca-a563be525e08",
   "metadata": {
    "tags": []
   },
   "outputs": [],
   "source": [
    "def kde_joint(df, filepath, x_log=True, y_log=False, loc='best', filter_cpu_time_problem=None, show_legend=False, acc_target=0.975, nn_name=None):\n",
    "\n",
    "    log_scale = (x_log, y_log)\n",
    "    \n",
    "    biases = sorted(df['bias'].unique(), reverse=True)[::-1]\n",
    "\n",
    "    for bias in biases:\n",
    "        \n",
    "        if pd.isna(bias):\n",
    "            mask = df['bias'].isna()\n",
    "        elif bias > 0:\n",
    "            mask = df['bias'] == bias\n",
    "        else:\n",
    "            mask = df['bias'] == bias\n",
    "            \n",
    "        df_bias = df[mask]\n",
    "        \n",
    "        # Lone point in VGG16* causes problems in distribution. Filter it\n",
    "        if filter_cpu_time_problem:\n",
    "            df_bias = df_bias[df_bias['cpu_time_cost'] < filter_cpu_time_problem]\n",
    "        \n",
    "        if df_bias.empty or len(df_bias['fda_name'].unique()) < 1:\n",
    "            continue\n",
    "        \n",
    "        if (len(df_bias[df_bias.fda_name == 'linear']) == 1 or df_bias[df_bias.fda_name == 'linear'].empty or\n",
    "            len(df_bias[df_bias.fda_name == 'sketch']) == 1 or df_bias[df_bias.fda_name == 'sketch'].empty or\n",
    "            len(df_bias[df_bias.fda_name == 'synchronous']) == 1) or df_bias[df_bias.fda_name == 'synchronous'].empty:\n",
    "            continue\n",
    "              \n",
    "        bias_filename = f\"{filepath}/joint_costs{bias_string_helper(bias)}.pdf\"\n",
    "        pdf = PdfPages(bias_filename)\n",
    "        \n",
    "        plt.figure(figsize=(6.7, 4.8))\n",
    "\n",
    "        g = sns.kdeplot(df_bias, x='total_communication_gb', y='total_fda_steps', hue='strat_name', log_scale=log_scale, palette=base_colors, legend=False, **sns_params_joint_tmp)\n",
    "        g = sns.kdeplot(df_bias, x='total_communication_gb', y='total_fda_steps', hue='strat_name', log_scale=log_scale, palette=base_colors, legend=show_legend, **sns_params_joint)\n",
    "        \n",
    "        # Set x and y limits if not log scale\n",
    "        if not x_log:\n",
    "            plt.xlim(left=0)\n",
    "\n",
    "        if not y_log:\n",
    "            plt.ylim(bottom=0)\n",
    "\n",
    "        # Add grid\n",
    "        plt.grid(True, linestyle='--', linewidth=0.5, alpha=0.5)\n",
    "\n",
    "        # Set axis labels\n",
    "        g.set_xlabel(\"Communication (GB)\")\n",
    "        g.set_ylabel(\"In-Parallel Learning Steps\")\n",
    "\n",
    "        # Modify the legend\n",
    "        legend = g.get_legend()\n",
    "        \n",
    "        if legend:\n",
    "            handles, labels = get_ordered_handles_and_labels(legend.legendHandles, [t.get_text() for t in legend.get_texts()])\n",
    "            g.legend_.remove()\n",
    "            g.legend(handles, labels)\n",
    "            \n",
    "            legend.set_title(None)\n",
    "            #legend.set_loc('center left')\n",
    "            sns.move_legend(g, loc)\n",
    "\n",
    "        \n",
    "        fda_df = df_bias[~df_bias.fda_name.isin(['synchronous', 'FedAdam', 'FedAvgM'])]\n",
    "        sync_df = df_bias[df_bias['fda_name'] == 'synchronous']\n",
    "        \n",
    "        #general = f\"All strategies : {bias_title}  ,  bs : 32\\n\"\n",
    "        #fda_info = f\"FDA :  Θ {sorted(list(fda_df['theta'].unique()))}\"\n",
    "        \n",
    "        n = f\"{nn_name}, \" if nn_name else ''\n",
    "        \n",
    "        plt.title(f\"{n}{bias_title(bias)}, Accuracy Target: ${acc_target}$\", font=fpath, size=22)\n",
    "\n",
    "        #plt.tight_layout()\n",
    "\n",
    "        pdf.savefig(plt.gcf()) # Save the current figure\n",
    "\n",
    "        # Close the current figure to prevent it from being displayed in the notebook\n",
    "        plt.close()\n",
    "        pdf.close()"
   ]
  },
  {
   "cell_type": "markdown",
   "id": "7d02d55b-01f5-47ab-af39-a644368cfe37",
   "metadata": {
    "tags": []
   },
   "source": [
    "## On K"
   ]
  },
  {
   "cell_type": "code",
   "execution_count": 159,
   "id": "7dfd80c9-0fcc-4e19-828e-89fe2f9f6152",
   "metadata": {
    "tags": []
   },
   "outputs": [],
   "source": [
    "def fda_methods_clients_comm_cost(df, filepath, show_legend=False, loc='best'):\n",
    "    # per-layer stuff are already filter out.\n",
    "    df = df[~df.per_layer]\n",
    "    \n",
    "    batch_size_values = sorted(df['batch_size'].unique())\n",
    "    theta_values = sorted(df['theta'].unique())[1:]\n",
    "    \n",
    "    biases = sorted(df['bias'].unique(), reverse=True)[::-1]\n",
    "    \n",
    "    min_clients = min(df['num_clients'])\n",
    "    max_clients = max(df['num_clients'])\n",
    "    \n",
    "    for bias in biases:\n",
    "        \n",
    "        if pd.isna(bias):\n",
    "            mask = df['bias'].isna()\n",
    "        elif bias > 0:\n",
    "            mask = df['bias'] == bias\n",
    "        else:\n",
    "            mask = df['bias'] == bias\n",
    "            \n",
    "        df_bias = df[mask]\n",
    "        \n",
    "        for batch_size in batch_size_values:\n",
    "            \n",
    "            df_bs = df_bias[df_bias['batch_size'] == batch_size]\n",
    "            \n",
    "            for theta in theta_values:\n",
    "\n",
    "                df_theta = df_bs[(df_bs['theta'] == theta)] \n",
    "\n",
    "                if df_theta.empty:\n",
    "                    continue\n",
    "                    \n",
    "                filename = f\"{filepath}/clients_comm_th{str(theta).replace('.', '')}_bs{batch_size}{bias_string_helper(bias)}.pdf\"\n",
    "                pdf = PdfPages(filename)\n",
    "\n",
    "                plt.figure(figsize=(6.7, 4.8))\n",
    "\n",
    "                for fda_strat_name in fda_strat_names:\n",
    "\n",
    "                    fda_data = df_theta[df_theta['strat_name'] == fda_strat_name]\n",
    "\n",
    "                    if fda_data.empty:\n",
    "                        continue\n",
    "\n",
    "                    plt.plot(fda_data['num_clients'], fda_data['total_communication_gb'], marker=markers[fda_strat_name], color=base_colors[fda_strat_name], label=fda_strat_name, markersize=5)\n",
    "\n",
    "                for other_strat_name in other_strat_names:\n",
    "                    df_strat = df_bs[df_bs['strat_name'] == other_strat_name]\n",
    "\n",
    "                    if df_strat.empty:\n",
    "                        continue\n",
    "\n",
    "                    plt.plot(df_strat['num_clients'], df_strat['total_communication_gb'], marker=markers[other_strat_name], color=base_colors[other_strat_name], label=other_strat_name, markersize=5)\n",
    "\n",
    "                    \n",
    "                x_ticks = list(range(min_clients, max_clients + 1, 5))\n",
    "\n",
    "                plt.yscale('log')\n",
    "                plt.xticks(x_ticks)\n",
    "                plt.xlabel('K - Number of Workers')\n",
    "                    \n",
    "                plt.ylabel('Communication (GB)')\n",
    "                plt.grid(True, linestyle='--', linewidth=0.5, alpha=0.5)\n",
    "                \n",
    "                if show_legend:\n",
    "                    plt.legend(loc=loc)\n",
    "\n",
    "                #title = f'Batch Size : {batch_size} , $\\Theta$ : {theta} , {bias_title}'\n",
    "                #plt.suptitle(title)\n",
    "                plt.title(f\"{bias_title(bias)}, $\\Theta = {int(theta)}$\", font=fpath, size=22)\n",
    "                \n",
    "                pdf.savefig(plt.gcf()) # Save the current figure\n",
    "\n",
    "                # Close the current figure to prevent it from being displayed in the notebook\n",
    "                plt.close()\n",
    "                pdf.close()"
   ]
  },
  {
   "cell_type": "code",
   "execution_count": 160,
   "id": "2bd6be06-6aeb-4c5e-8482-be0b39f1feef",
   "metadata": {
    "tags": []
   },
   "outputs": [],
   "source": [
    "def fda_methods_clients_steps(df, filepath, legend_loc='best', show_legend=False):\n",
    "    # per-layer stuff are already filter out.\n",
    "    df = df[~df.per_layer]\n",
    "    \n",
    "    batch_size_values = sorted(df['batch_size'].unique())\n",
    "    theta_values = sorted(df['theta'].unique())[1:]\n",
    "    \n",
    "    biases = sorted(df['bias'].unique(), reverse=True)[::-1]\n",
    "    \n",
    "    min_clients = min(df['num_clients'])\n",
    "    max_clients = max(df['num_clients'])\n",
    "\n",
    "    for bias in biases:\n",
    "        \n",
    "        if pd.isna(bias):\n",
    "            mask = df['bias'].isna()\n",
    "        elif bias > 0:\n",
    "            mask = df['bias'] == bias\n",
    "        else:\n",
    "            mask = df['bias'] == bias\n",
    "            \n",
    "        df_bias = df[mask]\n",
    "        \n",
    "        for batch_size in batch_size_values:\n",
    "            \n",
    "            df_bs = df_bias[df_bias['batch_size'] == batch_size]\n",
    "            \n",
    "            for theta in theta_values:\n",
    "\n",
    "                df_theta = df_bs[(df_bs['theta'] == theta)] \n",
    "\n",
    "                if df_theta.empty:\n",
    "                    continue\n",
    "                    \n",
    "                filename = f\"{filepath}/clients_cpu_th{str(theta).replace('.', '')}_bs{batch_size}{bias_string_helper(bias)}.pdf\"\n",
    "                pdf = PdfPages(filename)\n",
    "\n",
    "                plt.figure(figsize=(6.7, 4.8))\n",
    "\n",
    "                for fda_strat_name in fda_strat_names:\n",
    "\n",
    "                    fda_data = df_theta[df_theta['strat_name'] == fda_strat_name]\n",
    "\n",
    "                    if fda_data.empty:\n",
    "                        continue\n",
    "\n",
    "                    plt.plot(fda_data['num_clients'], fda_data['total_fda_steps'], marker=markers[fda_strat_name], color=base_colors[fda_strat_name], label=fda_strat_name, markersize=5)\n",
    "\n",
    "                for other_strat_name in other_strat_names:\n",
    "                    df_strat = df_bs[df_bs['strat_name'] == other_strat_name]\n",
    "\n",
    "                    if df_strat.empty:\n",
    "                        continue\n",
    "\n",
    "                    plt.plot(df_strat['num_clients'], df_strat['total_fda_steps'], marker=markers[other_strat_name], color=base_colors[other_strat_name], label=other_strat_name, markersize=5)\n",
    "\n",
    "                    \n",
    "                x_ticks = list(range(min_clients, max_clients + 1, 5))\n",
    "\n",
    "                plt.yscale('log')\n",
    "                plt.xticks(x_ticks)\n",
    "                plt.xlabel('K - Number of Workers')\n",
    "                \n",
    "                if show_legend:\n",
    "                    plt.legend(loc=legend_loc)\n",
    "                    \n",
    "                plt.ylabel('In-Parallel Learning Steps')\n",
    "                plt.grid(True, linestyle='--', linewidth=0.5, alpha=0.5)\n",
    "\n",
    "                #title = f'Batch Size : {batch_size} , $\\Theta$ : {theta} , {bias_title}'\n",
    "                #plt.suptitle(title)\n",
    "                plt.title(f\"{bias_title(bias)}, $\\Theta = {int(theta)}$\", font=fpath, size=22)\n",
    "                \n",
    "                pdf.savefig(plt.gcf()) # Save the current figure\n",
    "\n",
    "                # Close the current figure to prevent it from being displayed in the notebook\n",
    "                plt.close()\n",
    "                pdf.close()"
   ]
  },
  {
   "cell_type": "code",
   "execution_count": 161,
   "id": "df91ff27-9831-4453-9ade-edb7d27232bd",
   "metadata": {
    "tags": []
   },
   "outputs": [],
   "source": [
    "from matplotlib.ticker import LogLocator"
   ]
  },
  {
   "cell_type": "code",
   "execution_count": 162,
   "id": "afea7f09-281a-4088-bfd2-e63f4c003f69",
   "metadata": {
    "tags": []
   },
   "outputs": [],
   "source": [
    "# Function to calculate subs based on desired minor ticks per decade\n",
    "def calculate_subs(minor_ticks_per_decade):\n",
    "    # Generate evenly spaced ticks within each decade\n",
    "    return [i / minor_ticks_per_decade for i in range(1, minor_ticks_per_decade)]"
   ]
  },
  {
   "cell_type": "code",
   "execution_count": 207,
   "id": "11093cd2-eb87-4a79-ad28-68a11672afcd",
   "metadata": {
    "tags": []
   },
   "outputs": [],
   "source": [
    "def fda_methods_clients_comm_steps_cost(df, filepath, show_legend=True, loc='best'):\n",
    "    # per-layer stuff are already filter out.\n",
    "    df = df[~df.per_layer]\n",
    "    \n",
    "    batch_size_values = sorted(df['batch_size'].unique())\n",
    "    theta_values = sorted(df['theta'].unique())[1:]\n",
    "    \n",
    "    biases = sorted(df['bias'].unique(), reverse=True)[::-1]\n",
    "    \n",
    "    min_clients = min(df['num_clients'])\n",
    "    max_clients = max(df['num_clients'])\n",
    "\n",
    "    for bias in biases:\n",
    "        \n",
    "        if pd.isna(bias):\n",
    "            mask = df['bias'].isna()\n",
    "        elif bias > 0:\n",
    "            mask = df['bias'] == bias\n",
    "        else:\n",
    "            mask = df['bias'] == bias\n",
    "            \n",
    "        df_bias = df[mask]\n",
    "        \n",
    "        for batch_size in batch_size_values:\n",
    "            \n",
    "            df_bs = df_bias[df_bias['batch_size'] == batch_size]\n",
    "            \n",
    "            for theta in theta_values:\n",
    "\n",
    "                df_theta = df_bs[(df_bs['theta'] == theta)] \n",
    "\n",
    "                if df_theta.empty:\n",
    "                    continue\n",
    "                    \n",
    "                filename = f\"{filepath}/clients_COMM_CPU_th{str(theta).replace('.', '')}_bs{batch_size}{bias_string_helper(bias)}.pdf\"\n",
    "                pdf = PdfPages(filename)\n",
    "\n",
    "                #plt.figure(figsize=(6.7, 4.8))\n",
    "                fig, axs = plt.subplots(2, figsize=(6.7, 5), sharex=True,)\n",
    "                ax1 = axs[0]\n",
    "                ax2 = axs[1]\n",
    "\n",
    "                for fda_strat_name in fda_strat_names:\n",
    "\n",
    "                    fda_data = df_theta[df_theta['strat_name'] == fda_strat_name]\n",
    "\n",
    "                    if fda_data.empty:\n",
    "                        continue\n",
    "\n",
    "                    ax1.plot(fda_data['num_clients'], fda_data['total_communication_gb'], marker=markers[fda_strat_name], color=base_colors[fda_strat_name])\n",
    "                    \n",
    "                    ax2.plot(fda_data['num_clients'], fda_data['total_fda_steps'], marker=markers[fda_strat_name], color=base_colors[fda_strat_name], label=fda_strat_name, markersize=5)\n",
    "                    \n",
    "                \n",
    "                for other_strat_name in other_strat_names:\n",
    "                    df_strat = df_bs[df_bs['strat_name'] == other_strat_name]\n",
    "\n",
    "                    if df_strat.empty:\n",
    "                        continue\n",
    "                    \n",
    "                    ax1.plot(df_strat['num_clients'], df_strat['total_communication_gb'], marker=markers[other_strat_name], color=base_colors[other_strat_name])\n",
    "                    \n",
    "                    ax2.plot(df_strat['num_clients'], df_strat['total_fda_steps'], marker=markers[other_strat_name], color=base_colors[other_strat_name], label=other_strat_name, markersize=5)\n",
    "\n",
    "\n",
    "                    \n",
    "                x_ticks = list(range(min_clients, max_clients + 1, 5))\n",
    "\n",
    "                plt.yscale('log')\n",
    "                \n",
    "                ax1.set_yscale('log')\n",
    "                ax2.set_yscale('log')\n",
    "                \n",
    "                ax1.set_xticks(x_ticks)\n",
    "                ax2.set_xticks(x_ticks)\n",
    "                \n",
    "                #ax1.tick_params(axis='y', which='both', length=7, width=0.1)\n",
    "                #ax2.tick_params(axis='y', which='both', length=7, width=0.1)\n",
    "                \n",
    "                #ax2.yaxis.set_minor_locator(LogLocator(base=10, numticks=5))\n",
    "                #ax1.yaxis.set_minor_locator(LogLocator(base=10, numticks=5))\n",
    "                \n",
    "                # Set minor ticks to 3 per decade\n",
    "                #minor_ticks_per_decade = 5  # We use 4 because we include the major tick (e.g., for a decade 10-100, we place at 20, 40, 60, 80)\n",
    "                #subs = calculate_subs(minor_ticks_per_decade)\n",
    "                #ax1.yaxis.set_minor_locator(LogLocator(base=10, subs=subs))\n",
    "                #ax2.yaxis.set_minor_locator(LogLocator(base=10, subs=subs))\n",
    "                \n",
    "                if show_legend:\n",
    "                    ax2.legend(loc=loc)\n",
    "                \n",
    "                plt.xlabel('K - Number of Workers')\n",
    "            \n",
    "                ax1.set_ylabel('Communication (GB)')\n",
    "                ax2.set_ylabel('In-Parallel Learning Steps')\n",
    "                \n",
    "                #ax2.ticklabel_format(style='sci', axis='y', scilimits=(0,0), useMathText=True)\n",
    "\n",
    "                ax1.grid(True, linestyle='--', linewidth=0.5, alpha=0.5)\n",
    "                ax2.grid(True, linestyle='--', linewidth=0.5, alpha=0.5)\n",
    "                \n",
    "                # Move the y-axis label and ticks to the right for the second subplot\n",
    "                ax2.yaxis.set_label_position(\"right\")\n",
    "                ax2.yaxis.tick_right()\n",
    "\n",
    "                ax1.set_title(f\"{bias_title(bias)}, $\\Theta = {int(theta)}$\", font=fpath, size=22)   \n",
    "                \n",
    "                plt.subplots_adjust(left=0.12, right=0.88)\n",
    "                \n",
    "                pdf.savefig(plt.gcf()) # Save the current figure\n",
    "\n",
    "                # Close the current figure to prevent it from being displayed in the notebook\n",
    "                plt.close()\n",
    "                pdf.close()"
   ]
  },
  {
   "cell_type": "code",
   "execution_count": null,
   "id": "c35e293c-56da-4738-a152-3be9dd111074",
   "metadata": {},
   "outputs": [],
   "source": []
  },
  {
   "cell_type": "markdown",
   "id": "227364a2-3e3b-4fea-b6a1-4f3e7566e623",
   "metadata": {
    "tags": []
   },
   "source": [
    "## On Θ"
   ]
  },
  {
   "cell_type": "code",
   "execution_count": 164,
   "id": "ce5a519e-ea27-453a-abce-03d8169155c1",
   "metadata": {
    "tags": []
   },
   "outputs": [],
   "source": [
    "def fda_methods_theta_comm_cost(df, filepath, show_legend=False, loc='best', lim_from_zero=True, show_other=False):\n",
    "    # per-layer stuff are already filter out.\n",
    "    df = df[~df.per_layer]\n",
    "    \n",
    "    batch_size_values = sorted(df['batch_size'].unique())\n",
    "    num_clients_values = sorted(df['num_clients'].unique())\n",
    "    \n",
    "    biases = sorted(df['bias'].unique(), reverse=True)[::-1]\n",
    "\n",
    "    for bias in biases:\n",
    "        \n",
    "        if pd.isna(bias):\n",
    "            mask = df['bias'].isna()\n",
    "        elif bias > 0:\n",
    "            mask = df['bias'] == bias\n",
    "        else:\n",
    "            mask = df['bias'] == bias\n",
    "            \n",
    "        df_bias = df[mask]\n",
    "        \n",
    "        for batch_size in batch_size_values:\n",
    "            \n",
    "            df_bs = df_bias[df_bias['batch_size'] == batch_size]\n",
    "            \n",
    "            for num_clients in num_clients_values:\n",
    "\n",
    "                df_k = df_bs[df_bs['num_clients'] == num_clients] \n",
    "\n",
    "                if df_k.empty:\n",
    "                    continue\n",
    "                    \n",
    "                add = '_other' if show_other else ''\n",
    "                filename = f\"{filepath}/theta_comm_k{num_clients}_bs{batch_size}{bias_string_helper(bias)}{add}.pdf\"\n",
    "                pdf = PdfPages(filename)\n",
    "\n",
    "                plt.figure(figsize=(6.7, 4.8))\n",
    "                \n",
    "                max_comm_cost = 0\n",
    "\n",
    "                for fda_strat_name in fda_strat_names:\n",
    "\n",
    "                    fda_data = df_k[df_k['strat_name'] == fda_strat_name]\n",
    "\n",
    "                    if fda_data.empty:\n",
    "                        continue\n",
    "                        \n",
    "                    max_comm_cost = max(max_comm_cost, max(fda_data['total_communication_gb']))\n",
    "\n",
    "                    plt.plot(fda_data['theta'], fda_data['total_communication_gb'], marker=markers[fda_strat_name], color=base_colors[fda_strat_name], label=fda_strat_name, markersize=5)\n",
    "                    \n",
    "                if show_other:\n",
    "                    for other_strat_name in other_strat_names:\n",
    "                        df_strat = df_k[df_k['strat_name'] == other_strat_name]\n",
    "\n",
    "                        if df_strat.empty:\n",
    "                            continue\n",
    "\n",
    "                        # Assuming df_strat is already defined and has the 'total_communication_gb' column\n",
    "                        val = df_strat['total_communication_gb'].iloc[0]\n",
    "                        \n",
    "                        assert len(df_strat['total_communication_gb']) == 1\n",
    "                        plt.axhline(y=val, linestyle='-', label=other_strat_name, color=base_colors[other_strat_name])\n",
    "                    \n",
    "                if show_other:\n",
    "                    plt.yscale('log') # change\n",
    "                    \n",
    "                plt.xlabel('$\\Theta$ - Variance Threshold')\n",
    "                if show_legend:\n",
    "                    plt.legend(loc=loc)\n",
    "                plt.ylabel('Communication (GB)')\n",
    "                plt.grid(True, linestyle='--', linewidth=0.5, alpha=0.5)\n",
    "                \n",
    "                if lim_from_zero:\n",
    "                    plt.ylim([0, max_comm_cost*1.1])\n",
    "\n",
    "                #title = f'Batch Size : {batch_size} , $\\Theta$ : {theta} , {bias_title}'\n",
    "                #plt.suptitle(title)\n",
    "                plt.title(f\"{bias_title(bias)}, $K = {num_clients}$\", font=fpath, size=22)\n",
    "                \n",
    "                pdf.savefig(plt.gcf()) # Save the current figure\n",
    "\n",
    "                # Close the current figure to prevent it from being displayed in the notebook\n",
    "                plt.close()\n",
    "                pdf.close()"
   ]
  },
  {
   "cell_type": "code",
   "execution_count": 165,
   "id": "86127ef8-3dad-4526-b837-755405050aca",
   "metadata": {
    "tags": []
   },
   "outputs": [],
   "source": [
    "def fda_methods_theta_steps(df, filepath, show_legend=False, loc='best', show_other=False, lim_from_zero=True):\n",
    "    # per-layer stuff are already filter out.\n",
    "    df = df[~df.per_layer]\n",
    "    \n",
    "    batch_size_values = sorted(df['batch_size'].unique())\n",
    "    num_clients_values = sorted(df['num_clients'].unique())\n",
    "    \n",
    "    biases = sorted(df['bias'].unique(), reverse=True)[::-1]\n",
    "\n",
    "    for bias in biases:\n",
    "        \n",
    "        if pd.isna(bias):\n",
    "            mask = df['bias'].isna()\n",
    "        elif bias > 0:\n",
    "            mask = df['bias'] == bias\n",
    "        else:\n",
    "            mask = df['bias'] == bias\n",
    "            \n",
    "        df_bias = df[mask]\n",
    "        \n",
    "        for batch_size in batch_size_values:\n",
    "            \n",
    "            df_bs = df_bias[df_bias['batch_size'] == batch_size]\n",
    "            \n",
    "            for num_clients in num_clients_values:\n",
    "\n",
    "                df_k = df_bs[df_bs['num_clients'] == num_clients] \n",
    "\n",
    "                if df_k.empty:\n",
    "                    continue\n",
    "                    \n",
    "                add = '_other' if show_other else ''\n",
    "                    \n",
    "                filename = f\"{filepath}/theta_cpu_k{num_clients}_bs{batch_size}{bias_string_helper(bias)}{add}.pdf\"\n",
    "                pdf = PdfPages(filename)\n",
    "\n",
    "                plt.figure(figsize=(6.7, 4.8))\n",
    "                \n",
    "                max_steps = 0\n",
    "\n",
    "                for fda_strat_name in fda_strat_names:\n",
    "\n",
    "                    fda_data = df_k[df_k['strat_name'] == fda_strat_name]\n",
    "\n",
    "                    if fda_data.empty:\n",
    "                        continue\n",
    "                    \n",
    "                    max_steps = max(max_steps, max(fda_data['total_fda_steps']))\n",
    "\n",
    "                    plt.plot(fda_data['theta'], fda_data['total_fda_steps'], marker=markers[fda_strat_name], color=base_colors[fda_strat_name], label=fda_strat_name, markersize=5)\n",
    "         \n",
    "                if show_other:\n",
    "                    for other_strat_name in other_strat_names:\n",
    "                        df_strat = df_k[df_k['strat_name'] == other_strat_name]\n",
    "\n",
    "                        if df_strat.empty:\n",
    "                            continue\n",
    "\n",
    "                        # Assuming df_strat is already defined and has the 'total_communication_gb' column\n",
    "                        val = df_strat['total_fda_steps'].iloc[0]\n",
    "                        \n",
    "                        assert len(df_strat['total_fda_steps']) == 1\n",
    "                        plt.axhline(y=val, linestyle='-', label=other_strat_name, color=base_colors[other_strat_name])\n",
    "                    \n",
    "                if show_other:\n",
    "                    plt.yscale('log') # change\n",
    "                \n",
    "                plt.xlabel('$\\Theta$ - Variance Threshold')\n",
    "                if show_legend:\n",
    "                    plt.legend(loc=loc)\n",
    "                plt.ylabel('In-Parallel Learning Steps')\n",
    "                plt.grid(True, linestyle='--', linewidth=0.5, alpha=0.5)\n",
    "                \n",
    "                if lim_from_zero:\n",
    "                    plt.ylim([0, max_steps*1.1])\n",
    "                \n",
    "                # ----------------------------\n",
    "                ax = plt.gca()\n",
    "\n",
    "                # Enable scientific notation\n",
    "                if not show_other:\n",
    "                    ax.ticklabel_format(style='sci', axis='y', scilimits=(0,0), useMathText=True)\n",
    "\n",
    "                # Adjust the position of the scientific notation exponent\n",
    "                #ax.yaxis.get_offset_text().set_position((1,10))\n",
    "                \n",
    "                # ----------------------------\n",
    "\n",
    "                #title = f'Batch Size : {batch_size} , $\\Theta$ : {theta} , {bias_title}'\n",
    "                #plt.suptitle(title)\n",
    "                plt.title(f\"{bias_title(bias)}\", font=fpath, size=22)\n",
    "                \n",
    "                pdf.savefig(plt.gcf()) # Save the current figure\n",
    "\n",
    "                # Close the current figure to prevent it from being displayed in the notebook\n",
    "                plt.close()\n",
    "                pdf.close()"
   ]
  },
  {
   "cell_type": "code",
   "execution_count": 166,
   "id": "2df4d6ab-31e2-4ce7-b0e4-104b2c5244a2",
   "metadata": {
    "tags": []
   },
   "outputs": [],
   "source": [
    "def fda_methods_theta_comm_steps_cost(df, filepath, show_legend=False, loc='best', lim_from_zero=True, show_other=False):\n",
    "    # per-layer stuff are already filter out.\n",
    "    df = df[~df.per_layer]\n",
    "    \n",
    "    batch_size_values = sorted(df['batch_size'].unique())\n",
    "    num_clients_values = sorted(df['num_clients'].unique())\n",
    "    \n",
    "    biases = sorted(df['bias'].unique(), reverse=True)[::-1]\n",
    "\n",
    "    for bias in biases:\n",
    "        \n",
    "        if pd.isna(bias):\n",
    "            mask = df['bias'].isna()\n",
    "        elif bias > 0:\n",
    "            mask = df['bias'] == bias\n",
    "        else:\n",
    "            mask = df['bias'] == bias\n",
    "            \n",
    "        df_bias = df[mask]\n",
    "        \n",
    "        for batch_size in batch_size_values:\n",
    "            \n",
    "            df_bs = df_bias[df_bias['batch_size'] == batch_size]\n",
    "            \n",
    "            for num_clients in num_clients_values:\n",
    "\n",
    "                df_k = df_bs[df_bs['num_clients'] == num_clients] \n",
    "\n",
    "                if df_k.empty:\n",
    "                    continue\n",
    "                    \n",
    "                add = '_other' if show_other else ''\n",
    "                filename = f\"{filepath}/theta_k{num_clients}_bs{batch_size}{bias_string_helper(bias)}{add}.pdf\"\n",
    "                pdf = PdfPages(filename)\n",
    "\n",
    "                #plt.figure(figsize=(6.7, 4.8))\n",
    "                fig, axs = plt.subplots(2, figsize=(6.7, 5), sharex=True,)\n",
    "                ax1 = axs[0]\n",
    "                ax2 = axs[1]\n",
    "                \n",
    "                max_comm_cost = 0\n",
    "                max_steps = 0\n",
    "\n",
    "                for fda_strat_name in fda_strat_names:\n",
    "\n",
    "                    fda_data = df_k[df_k['strat_name'] == fda_strat_name]\n",
    "\n",
    "                    if fda_data.empty:\n",
    "                        continue\n",
    "                        \n",
    "                    max_comm_cost = max(max_comm_cost, max(fda_data['total_communication_gb']))\n",
    "                    max_steps = max(max_steps, max(fda_data['total_fda_steps']))\n",
    "\n",
    "                    ax1.plot(fda_data['theta'], fda_data['total_communication_gb'], marker=markers[fda_strat_name], color=base_colors[fda_strat_name], label=fda_strat_name, markersize=5)\n",
    "                    \n",
    "                    ax2.plot(fda_data['theta'], fda_data['total_fda_steps'], marker=markers[fda_strat_name], color=base_colors[fda_strat_name])\n",
    "\n",
    "\n",
    "                #ax2.set_xlabel('$\\Theta$ - Variance Threshold')\n",
    "                \n",
    "                plt.xlabel('$\\Theta$ - Variance Threshold')\n",
    "            \n",
    "                ax1.set_ylabel('Communication (GB)')\n",
    "                ax2.set_ylabel('In-Parallel Learning Steps')\n",
    "                \n",
    "                ax2.ticklabel_format(style='sci', axis='y', scilimits=(0,0), useMathText=True)\n",
    "                \n",
    "                ax1.tick_params(axis='y', which='both', length=7, width=0.8)\n",
    "                ax2.tick_params(axis='y', which='both', length=7, width=0.8)\n",
    "                \n",
    "                #ax1.set_ylim([0, max_comm_cost*1.1])\n",
    "                #ax2.set_ylim([0, max_steps*1.1])\n",
    "            \n",
    "                if show_legend:\n",
    "                    ax1.legend(loc=loc)\n",
    "\n",
    "                ax1.grid(True, linestyle='--', linewidth=0.5, alpha=0.5)\n",
    "                ax2.grid(True, linestyle='--', linewidth=0.5, alpha=0.5)\n",
    "                \n",
    "                # Move the y-axis label and ticks to the right for the second subplot\n",
    "                ax2.yaxis.set_label_position(\"right\")\n",
    "                ax2.yaxis.tick_right()\n",
    "                \n",
    "                ax1.tick_params(axis='y', which='both', length=7, width=0.1)\n",
    "                ax2.tick_params(axis='y', which='both', length=7, width=0.1)\n",
    "                \n",
    "                if lim_from_zero:\n",
    "                    ax1.ylim([0, max_comm_cost*1.1])\n",
    "                    ax2.set_ylim([0, max_steps*1.1])\n",
    "\n",
    "                #title = f'Batch Size : {batch_size} , $\\Theta$ : {theta} , {bias_title}'\n",
    "                #plt.suptitle(title)\n",
    "                ax1.set_title(f\"{bias_title(bias)}, $K = {num_clients}$\", font=fpath, size=22)\n",
    "                \n",
    "                plt.subplots_adjust(left=0.12, right=0.88)\n",
    "                \n",
    "                pdf.savefig(plt.gcf()) # Save the current figure\n",
    "\n",
    "                # Close the current figure to prevent it from being displayed in the notebook\n",
    "                plt.close()\n",
    "                pdf.close()"
   ]
  },
  {
   "cell_type": "code",
   "execution_count": 167,
   "id": "1508da17-652c-49c1-8054-e07e4962f6d2",
   "metadata": {
    "tags": []
   },
   "outputs": [],
   "source": [
    "def fda_methods_theta_common_channel_time(df, filepath, show_legend=True):\n",
    "    # per-layer stuff are already filter out.\n",
    "    df = df[~df.per_layer]\n",
    "    \n",
    "    batch_size_values = sorted(df['batch_size'].unique())\n",
    "    num_clients_values = sorted(df['num_clients'].unique())\n",
    "    \n",
    "    biases = sorted(df['bias'].unique(), reverse=True)[::-1]\n",
    "    \n",
    "    filename = f\"{filepath}/COMMON_CHANNEL.pdf\"\n",
    "    pdf = PdfPages(filename)\n",
    "\n",
    "    for bias in biases:\n",
    "        \n",
    "        if pd.isna(bias):\n",
    "            mask = df['bias'].isna()\n",
    "        elif bias > 0:\n",
    "            mask = df['bias'] == bias\n",
    "        else:\n",
    "            mask = df['bias'] == bias\n",
    "            \n",
    "        df_bias = df[mask]\n",
    "        \n",
    "        for batch_size in batch_size_values:\n",
    "            \n",
    "            df_bs = df_bias[df_bias['batch_size'] == batch_size]\n",
    "            \n",
    "            for num_clients in num_clients_values:\n",
    "\n",
    "                df_k = df_bs[df_bs['num_clients'] == num_clients] \n",
    "\n",
    "                if df_k.empty:\n",
    "                    continue\n",
    "\n",
    "                plt.figure(figsize=(6.7, 4.8))\n",
    "                \n",
    "                max_time_cost = 0\n",
    "\n",
    "                for fda_strat_name in fda_strat_names:\n",
    "\n",
    "                    fda_data = df_k[df_k['strat_name'] == fda_strat_name]\n",
    "\n",
    "                    if fda_data.empty:\n",
    "                        continue\n",
    "                        \n",
    "                    max_time_cost = max(max_time_cost, max(fda_data['common_channel_time_cost']))\n",
    "\n",
    "                    plt.plot(fda_data['theta'], fda_data['common_channel_time_cost'], marker=markers[fda_strat_name], color=base_colors[fda_strat_name], label=fda_strat_name, markersize=5)\n",
    "                    \n",
    "                #plt.yscale('log')\n",
    "                plt.xlabel('$\\Theta$ - Variance Threshold')\n",
    "                if show_legend:\n",
    "                    plt.legend()\n",
    "                plt.ylabel('Common Channel Time (sec)')\n",
    "                plt.grid(True, linestyle='--', linewidth=0.5, alpha=0.5)\n",
    "                \n",
    "                plt.ylim([0, max_time_cost*1.1])\n",
    "\n",
    "                title = f'K : {num_clients} , {bias_title}'\n",
    "                plt.suptitle(title)\n",
    "                \n",
    "                pdf.savefig(plt.gcf()) # Save the current figure\n",
    "\n",
    "                # Close the current figure to prevent it from being displayed in the notebook\n",
    "                plt.close()\n",
    "    pdf.close()"
   ]
  },
  {
   "cell_type": "markdown",
   "id": "5a9e89b5-455b-4882-8426-036f8bae1ab0",
   "metadata": {
    "tags": []
   },
   "source": [
    "# w/ Regression preds."
   ]
  },
  {
   "cell_type": "code",
   "execution_count": 168,
   "id": "ef342334-5e2c-4d5c-ab91-a2b872289ccb",
   "metadata": {
    "tags": []
   },
   "outputs": [],
   "source": [
    "def fda_methods_theta_wall_time(df, filepath, show_legend=False, loc='best'):\n",
    "    # per-layer stuff are already filter out.\n",
    "    df = df[~df.per_layer]\n",
    "    \n",
    "    batch_size_values = sorted(df['batch_size'].unique())\n",
    "    num_clients_values = sorted(df['num_clients'].unique())\n",
    "    \n",
    "    biases = sorted(df['bias'].unique(), reverse=True)[::-1]\n",
    "\n",
    "    for bias in biases:\n",
    "        \n",
    "        if pd.isna(bias):\n",
    "            mask = df['bias'].isna()\n",
    "        elif bias > 0:\n",
    "            mask = df['bias'] == bias\n",
    "        else:\n",
    "            mask = df['bias'] == bias\n",
    "            \n",
    "        df_bias = df[mask]\n",
    "        \n",
    "        for batch_size in batch_size_values:\n",
    "            \n",
    "            df_bs = df_bias[df_bias['batch_size'] == batch_size]\n",
    "            \n",
    "            for num_clients in num_clients_values:\n",
    "\n",
    "                df_k = df_bs[df_bs['num_clients'] == num_clients] \n",
    "\n",
    "                if df_k.empty:\n",
    "                    continue\n",
    "                    \n",
    "                filename = f\"{filepath}/regression_wall_time_k{num_clients}_bs{batch_size}{bias_string_helper(bias)}.pdf\"\n",
    "                pdf = PdfPages(filename)\n",
    "\n",
    "                plt.figure(figsize=(6.7, 4.8))\n",
    "                \n",
    "                max_wall_time = 0\n",
    "\n",
    "                for fda_strat_name in fda_strat_names:\n",
    "\n",
    "                    fda_data = df_k[df_k['strat_name'] == fda_strat_name]\n",
    "\n",
    "                    if fda_data.empty:\n",
    "                        continue\n",
    "                    \n",
    "                    max_wall_time = max(max_wall_time, max(fda_data['pred_total_time_minutes']))\n",
    "\n",
    "                    plt.plot(fda_data['theta'], fda_data['pred_total_time_minutes'], marker=markers[fda_strat_name], color=base_colors[fda_strat_name], label=fda_strat_name, markersize=5)\n",
    "                    \n",
    "                #plt.yscale('log')\n",
    "                plt.xlabel('$\\Theta$ - Variance Threshold')\n",
    "                if show_legend:\n",
    "                    plt.legend(loc=loc)\n",
    "                plt.ylabel('Total Wall-Time (min)')\n",
    "                plt.grid(True, linestyle='--', linewidth=0.5, alpha=0.5)\n",
    "                \n",
    "                plt.ylim([0, max_wall_time*1.1])\n",
    "\n",
    "                #title = f'K : {num_clients} , {bias_title}'\n",
    "                #plt.suptitle(title)\n",
    "                plt.title(f\"{bias_title(bias)}, ARIS-HPC w/ IB\", font=fpath, size=22)\n",
    "                \n",
    "                pdf.savefig(plt.gcf()) # Save the current figure\n",
    "\n",
    "                # Close the current figure to prevent it from being displayed in the notebook\n",
    "                plt.close()\n",
    "                pdf.close()"
   ]
  },
  {
   "cell_type": "markdown",
   "id": "c27c1fd3-4ac3-4de9-beda-02fe662c3a54",
   "metadata": {
    "tags": []
   },
   "source": [
    "## Training Error"
   ]
  },
  {
   "cell_type": "code",
   "execution_count": 169,
   "id": "63d9fde2-d9d4-42a1-8738-4385aea43323",
   "metadata": {
    "tags": []
   },
   "outputs": [],
   "source": [
    "def training_acc_epoch(df, accuracy_target, filepath, nn_name, show_legend=False, loc='best', target_acc=None):\n",
    "    # per-layer stuff are already filter out.\n",
    "    df = df[~df.per_layer]\n",
    "    \n",
    "    batch_size_values = sorted(df['batch_size'].unique())\n",
    "    \n",
    "    biases = sorted(df['bias'].unique(), reverse=True)[::-1]\n",
    "\n",
    "    for bias in biases:\n",
    "        \n",
    "        if pd.isna(bias):\n",
    "            mask = df['bias'].isna()\n",
    "        elif bias > 0:\n",
    "            mask = df['bias'] == bias\n",
    "        else:\n",
    "            mask = df['bias'] == bias\n",
    "            \n",
    "        df_bias = df[mask]\n",
    "        \n",
    "        for batch_size in batch_size_values:\n",
    "            \n",
    "            df_bs = df_bias[df_bias['batch_size'] == batch_size]\n",
    "            \n",
    "            num_clients_values = sorted(df_bs['num_clients'].unique())\n",
    "            \n",
    "            for num_clients in num_clients_values:\n",
    "\n",
    "                df_k = df_bs[df_bs['num_clients'] == num_clients]\n",
    "                \n",
    "                theta_values = sorted(df_k['theta'].unique())[1:]\n",
    "                \n",
    "                for theta in theta_values:\n",
    "                    \n",
    "                    df_th = df_k[df_k['theta'] == theta]\n",
    "\n",
    "                    if df_th.empty:\n",
    "                        continue\n",
    "\n",
    "                    filename = f\"{filepath}/training_acc_k{num_clients}_bs{batch_size}_th{int(theta)}{bias_string_helper(bias)}.pdf\"\n",
    "\n",
    "                    pdf = PdfPages(filename)\n",
    "\n",
    "                    plt.figure(figsize=(6.7, 4.8))\n",
    "\n",
    "                    max_cpu_cost = 0\n",
    "                    \n",
    "                    e_lst = []\n",
    "                    acc_lst = []\n",
    "                    n_lst = []\n",
    "\n",
    "                    for fda_strat_name in fda_strat_names:\n",
    "\n",
    "                        fda_data = df_th[df_th['strat_name'] == fda_strat_name]\n",
    "                        \n",
    "                        df_acc = fda_data[fda_data.accuracy >= accuracy_target]\n",
    "                        \n",
    "                        if df_acc.empty:\n",
    "                            continue\n",
    "\n",
    "                        min_epoch = min(df_acc.epoch)\n",
    "                        \n",
    "                        fda_data = fda_data[fda_data.epoch <= min_epoch]\n",
    "\n",
    "                        plt.plot(fda_data['epoch'], fda_data['train_accuracy'], marker=markers[fda_strat_name], color=base_colors[fda_strat_name], label=fda_strat_name, markersize=5)\n",
    "                        \n",
    "                        \n",
    "                        e = max(fda_data['epoch'])\n",
    "                        acc = fda_data.loc[fda_data.epoch == e, 'train_accuracy']\n",
    "                        \n",
    "                        e_lst.append(e)\n",
    "                        acc_lst.append(acc)\n",
    "                        n_lst.append(fda_strat_name)\n",
    "\n",
    "                        # Annotate with an arrow\n",
    "                        \n",
    "                    for other_strat_name in other_strat_names:\n",
    "                        df_strat = df_k[df_k['strat_name'] == other_strat_name]\n",
    "\n",
    "                        df_acc = df_strat[df_strat.accuracy >= accuracy_target]\n",
    "                        \n",
    "                        if df_acc.empty:\n",
    "                            continue\n",
    "\n",
    "                        min_epoch = min(df_acc.epoch)\n",
    "                        \n",
    "                        df_strat = df_strat[df_strat.epoch <= min_epoch]\n",
    "\n",
    "                        plt.plot(df_strat['epoch'], df_strat['train_accuracy'], marker=markers[other_strat_name], color=base_colors[other_strat_name], label=other_strat_name, markersize=5)\n",
    "                        \n",
    "                    \n",
    "                    if len(e_lst) >= 2:\n",
    "                        plt.axvline(x=e_lst[0], color=base_colors[n_lst[0]], linestyle='dashed', linewidth=2.2)\n",
    "                        plt.axvline(x=e_lst[1], color=base_colors[n_lst[1]], linestyle='dotted', linewidth=2.2)\n",
    "                        \n",
    "                    \n",
    "                    plt.axhline(y=target_acc, linestyle='dashdot', linewidth=0.9, color='black')\n",
    "                    \n",
    "                    \"\"\"\n",
    "                    plt.annotate(\n",
    "                        f\"{n_lst[0]} terminates here\", \n",
    "                        xy=(e_lst[0], acc_lst[0]), \n",
    "                        xytext=(e_lst[0]+90, acc_lst[0] - 0.2),\n",
    "                        arrowprops=dict(facecolor='gray', arrowstyle='-|>',\n",
    "                                                 connectionstyle=\"arc3,rad=-0.3\", lw=0.5),\n",
    "                        fontsize=12\n",
    "                    )\n",
    "                    \"\"\"\n",
    "\n",
    "                    #plt.xscale('log')\n",
    "                    plt.ylabel('Training Accuracy')\n",
    "                    if show_legend:\n",
    "                        plt.legend(loc=loc)\n",
    "                    plt.xlabel('Epoch')\n",
    "                    plt.grid(True, linestyle='--', linewidth=0.5, alpha=0.5)\n",
    "\n",
    "                    #title = f'Batch Size : {batch_size} , $\\Theta$ : {theta} , {bias_title}'\n",
    "                    #plt.suptitle(title)\n",
    "                    plt.title(f\"{nn_name} , {bias_title(bias)} , $K = {num_clients}$ , $\\Theta = {theta}$\", font=fpath, size=22)\n",
    "\n",
    "                    pdf.savefig(plt.gcf()) # Save the current figure\n",
    "\n",
    "                    # Close the current figure to prevent it from being displayed in the notebook\n",
    "                    plt.close()\n",
    "                    pdf.close()"
   ]
  },
  {
   "cell_type": "markdown",
   "id": "35569ad5-0ead-4036-af4e-3164eb070745",
   "metadata": {
    "tags": []
   },
   "source": [
    "# Per accuracy"
   ]
  },
  {
   "cell_type": "code",
   "execution_count": 170,
   "id": "4e5d4cc6-9f8e-4788-adaa-c7d1215c56cc",
   "metadata": {
    "tags": []
   },
   "outputs": [],
   "source": [
    "def accuracies_plots(df, filename, accuracies):\n",
    "    pdf = PdfPages(filename)\n",
    "\n",
    "    biases = sorted(df['bias'].unique(), reverse=True)[::-1]\n",
    "    \n",
    "    per_layers = [False, True]\n",
    "\n",
    "    for bias in biases:\n",
    "\n",
    "        if pd.isna(bias):\n",
    "            mask = df['bias'].isna()\n",
    "        elif bias > 0:\n",
    "            mask = df['bias'] == bias\n",
    "        else:\n",
    "            mask = df['bias'] == bias\n",
    "\n",
    "        df_bias = df[mask]\n",
    "        \n",
    "        for bs in sorted(df_bias['batch_size'].unique()):\n",
    "\n",
    "            bs_df = df_bias[df_bias['batch_size'] == bs]\n",
    "                \n",
    "            for theta in sorted(bs_df['theta'].unique())[1:]:\n",
    "\n",
    "                theta_df = bs_df[bs_df['theta'] == theta]\n",
    "\n",
    "                for client in sorted(theta_df['num_clients'].unique()):\n",
    "\n",
    "                    client_df = theta_df[theta_df['num_clients'] == client]\n",
    "                    \n",
    "                    plt.figure(figsize=(10, 6))\n",
    "                    \n",
    "                    for per_layer in per_layers:\n",
    "                    \n",
    "                        per_layer_df = client_df[client_df['per_layer'] == per_layer]\n",
    "\n",
    "                        for fda_name in fda_names:\n",
    "\n",
    "                            if fda_name == 'synchronous':\n",
    "                                continue\n",
    "\n",
    "                            name = f\"{fda_name}{per_layer_dict[per_layer]}\"\n",
    "\n",
    "                            fda_df = per_layer_df[per_layer_df['fda_name'] == fda_name]\n",
    "\n",
    "                            if fda_df.empty:\n",
    "                                continue\n",
    "\n",
    "                            dataframes_for_acc = []\n",
    "                            have = False\n",
    "\n",
    "                            for acc in accuracies:\n",
    "\n",
    "                                filtered_df = fda_df[(fda_df.accuracy > acc)]\n",
    "\n",
    "                                if filtered_df.empty:\n",
    "                                    continue\n",
    "\n",
    "                                have = True\n",
    "\n",
    "                                idx = filtered_df['epoch'].idxmin()\n",
    "                                filtered_df = filtered_df.loc[idx]\n",
    "\n",
    "                                dataframes_for_acc.append(filtered_df)\n",
    "\n",
    "                            if not have:\n",
    "                                continue\n",
    "\n",
    "                            df_concat = pd.concat(dataframes_for_acc)\n",
    "\n",
    "                            plt.plot(df_concat['accuracy'], df_concat['total_communication_gb'], marker='o', color=base_colors_per_layer[name], label=name, markersize=3)\n",
    "\n",
    "                        synchronous_df = df_bias[(df_bias['num_clients'] == client) & (df_bias['fda_name'] == 'synchronous')]\n",
    "\n",
    "                    for b in sorted(synchronous_df['batch_size'].unique()):\n",
    "\n",
    "                        sync_df = synchronous_df[synchronous_df['batch_size'] == b]\n",
    "\n",
    "                        if sync_df.empty:\n",
    "                            continue\n",
    "\n",
    "                        dataframes_for_acc = []\n",
    "\n",
    "                        have = False\n",
    "\n",
    "                        for acc in accuracies:\n",
    "\n",
    "                            filtered_df = sync_df[(sync_df.accuracy > acc)]\n",
    "\n",
    "                            if filtered_df.empty:\n",
    "                                continue\n",
    "\n",
    "                            have = True\n",
    "\n",
    "                            idx = filtered_df['epoch'].idxmin()\n",
    "                            filtered_df = filtered_df.loc[idx]\n",
    "\n",
    "                            dataframes_for_acc.append(filtered_df)\n",
    "\n",
    "\n",
    "                        if not have:\n",
    "                            continue \n",
    "\n",
    "                        df_concat = pd.concat(dataframes_for_acc)\n",
    "\n",
    "                        plt.plot(df_concat['accuracy'], df_concat['total_communication_gb'], color=sync_colors[b], marker='o', label=f'synchronous b{b}', markersize=3)\n",
    "\n",
    "                    plt.yscale('log')\n",
    "                    plt.xlabel('Accuracy')\n",
    "                    plt.legend()\n",
    "                    plt.ylabel('Communication Cost (GB)')\n",
    "                    plt.grid(True, linestyle='--', linewidth=0.5, alpha=0.5)\n",
    "\n",
    "                    title = f'$Theta$ : {theta} , Batch Size: {bs} , {bias_title} , Num Clients: {client}'\n",
    "                    plt.title(title)\n",
    "\n",
    "                    pdf.savefig(plt.gcf())\n",
    "\n",
    "                    plt.close()\n",
    "    pdf.close()"
   ]
  },
  {
   "cell_type": "markdown",
   "id": "2841865f-90dc-4862-81e6-2405215a31ea",
   "metadata": {
    "tags": []
   },
   "source": [
    "# paper ConvNeXtLarge plots"
   ]
  },
  {
   "cell_type": "code",
   "execution_count": 171,
   "id": "e0fb9a3a-b2b4-426e-aa49-fec2c6a108da",
   "metadata": {
    "tags": []
   },
   "outputs": [],
   "source": [
    "def conv_next_results(df, filepath, show_legend=True, loc='best', lim_from_zero=True, show_other=False):\n",
    "    \n",
    "    # per-layer stuff are already filter out.\n",
    "    df = df[~df.per_layer]\n",
    "    \n",
    "    batch_size = 32\n",
    "    \n",
    "    num_clients_values = sorted(df['num_clients'].unique())\n",
    "    \n",
    "    biases = sorted(df['bias'].unique(), reverse=True)[::-1]\n",
    "\n",
    "    for bias in biases:\n",
    "        \n",
    "        if pd.isna(bias):\n",
    "            mask = df['bias'].isna()\n",
    "        elif bias > 0:\n",
    "            mask = df['bias'] == bias\n",
    "        else:\n",
    "            mask = df['bias'] == bias\n",
    "            \n",
    "        df_bias = df[mask]\n",
    "            \n",
    "        df_bs = df_bias[df_bias['batch_size'] == batch_size]\n",
    "\n",
    "        df_3 = df_bs[df_bs['num_clients'] == 3] \n",
    "        df_5 = df_bs[df_bs['num_clients'] == 5]\n",
    "\n",
    "        filename = f\"{filepath}/ConvNeXt_results.pdf\"\n",
    "        pdf = PdfPages(filename)\n",
    "\n",
    "        #plt.figure(figsize=(6.7, 4.8))\n",
    "        fig, axs = plt.subplots(1, 2, figsize=(6.7, 5), sharex=True)\n",
    "        ax1 = axs[0]\n",
    "        ax2 = axs[1]\n",
    "\n",
    "        for fda_strat_name in fda_strat_names:\n",
    "\n",
    "            fda_data_3 = df_3[df_3['strat_name'] == fda_strat_name]\n",
    "            fda_data_5 = df_5[df_5['strat_name'] == fda_strat_name]\n",
    "            \n",
    "            if fda_data_3.empty or fda_data_5.empty:\n",
    "                continue\n",
    "\n",
    "            ax1.plot(fda_data_3['theta'], fda_data_3['total_communication_gb'], marker=markers[fda_strat_name], color=base_colors[fda_strat_name], label=fda_strat_name, markersize=5)\n",
    "\n",
    "            ax2.plot(fda_data_5['theta'], fda_data_5['total_communication_gb'], marker=markers[fda_strat_name], color=base_colors[fda_strat_name], label=fda_strat_name, markersize=5)\n",
    "\n",
    "\n",
    "        #ax2.set_xlabel('$\\Theta$ - Variance Threshold')\n",
    "\n",
    "        #plt.xlabel('$\\Theta$ - Variance Threshold')\n",
    "        fig.text(0.5, 0.01, '$\\Theta$ - Variance Threshold', ha='center', fontsize=16)\n",
    "        \n",
    "        ax1.set_ylabel('Communication (GB)')\n",
    "\n",
    "        ax1.ticklabel_format(style='sci', axis='y', scilimits=(0,0), useMathText=True)\n",
    "        ax2.ticklabel_format(style='sci', axis='y', scilimits=(0,0), useMathText=True)\n",
    "\n",
    "        #ax1.set_ylim([0, max_comm_cost*1.1])\n",
    "        #ax2.set_ylim([0, max_steps*1.1])\n",
    "\n",
    "        if show_legend:\n",
    "            ax1.legend(loc=loc)\n",
    "            ax2.legend(loc=loc)\n",
    "\n",
    "        ax1.grid(True, linestyle='--', linewidth=0.5, alpha=0.5)\n",
    "        ax2.grid(True, linestyle='--', linewidth=0.5, alpha=0.5)\n",
    "\n",
    "        #title = f'Batch Size : {batch_size} , $\\Theta$ : {theta} , {bias_title}'\n",
    "        #plt.suptitle(title)\n",
    "        ax1.set_title(f\"{bias_title(bias)}, $K = 3$\", font=fpath, size=22)\n",
    "        ax2.set_title(f\"{bias_title(bias)}, $K = 5$\", font=fpath, size=22)\n",
    "\n",
    "        #plt.subplots_adjust(left=0.12, right=0.88)\n",
    "\n",
    "        pdf.savefig(plt.gcf()) # Save the current figure\n",
    "\n",
    "        # Close the current figure to prevent it from being displayed in the notebook\n",
    "        plt.close()\n",
    "        pdf.close()"
   ]
  },
  {
   "cell_type": "markdown",
   "id": "c4916c39-2e66-494d-99fc-75150184ea09",
   "metadata": {},
   "source": [
    "# Save all those time-cost plots"
   ]
  },
  {
   "cell_type": "code",
   "execution_count": 205,
   "id": "da4331e9-631b-4f3c-a348-ec8e0ae31077",
   "metadata": {
    "tags": []
   },
   "outputs": [],
   "source": [
    "import os\n",
    "\n",
    "def time_cost_plots(df, df_regression, acc_threshold, nn_name, params=False, joint_kde_loc='best', \n",
    "                    client_cpu_loc='best', show_legend=False, filter_cpu_time_problem=None, theta_loc='best', theta_lim_from_zero=False, theta_show_other=False, show_nn_name=False):\n",
    "    acceptable_acc_df = df[(df.accuracy > acc_threshold)]\n",
    "    if df_regression:\n",
    "        regression_acceptable_acc_df = df_regression[(df_regression.accuracy > acc_threshold)]\n",
    "    \n",
    "    str_thresh = str(acc_threshold).replace('.', '_')  # replace '.'\n",
    "    \n",
    "    if not os.path.exists(f\"../../metrics/plots/{nn_name}/{str_thresh}\"):\n",
    "        os.makedirs(f\"../../metrics/plots/{nn_name}/{str_thresh}\")\n",
    "    \n",
    "    if not os.path.exists(f\"../../metrics/plots/{nn_name}/{str_thresh}/training_error\"):\n",
    "        os.makedirs(f\"../../metrics/plots/{nn_name}/{str_thresh}/training_error\")\n",
    "        \n",
    "    # 1. Same runs not included|\n",
    "    \n",
    "    # 2. Filter out same runs. We choose the instance which first hits the `acc_threshold`\n",
    "    idx = acceptable_acc_df.groupby(['fda_name', 'num_clients', 'batch_size', 'theta', 'bias', 'aggr_scheme', 'per_layer'], dropna=False)['epoch'].idxmin()\n",
    "    filtered_acceptable_acc_df = acceptable_acc_df.loc[idx]\n",
    "    \n",
    "    if df_regression:\n",
    "        idx = regression_acceptable_acc_df.groupby(['fda_name', 'num_clients', 'batch_size', 'theta', 'bias', 'aggr_scheme', 'per_layer'], dropna=False)['epoch'].idxmin()\n",
    "        regression_filtered_acceptable_acc_df = regression_acceptable_acc_df.loc[idx]\n",
    "    \n",
    "    df_filt_simple = filtered_acceptable_acc_df[(~filtered_acceptable_acc_df.per_layer) & (filtered_acceptable_acc_df.aggr_scheme == 'avg') & (filtered_acceptable_acc_df.bias != 0.9)]  #  filter out weird tests\n",
    "    \n",
    "    x = nn_name if show_nn_name else None\n",
    "    kde_joint(df_filt_simple, f\"../../metrics/plots/{nn_name}/{str_thresh}\", y_log=True, loc=joint_kde_loc, filter_cpu_time_problem=filter_cpu_time_problem, show_legend=show_legend, acc_target=acc_threshold, nn_name=x)\n",
    "    \n",
    "    # Parameters fixed, and plot\n",
    "    \n",
    "    if params:\n",
    "        if df.nn_name.unique()[0] in ['DenseNet121', 'DenseNet201', 'ConvNeXtLarge']:\n",
    "            # non -iid ?????????\n",
    "            #training_acc_epoch(df, acc_threshold, f\"../../metrics/plots/{nn_name}/{str_thresh}/training_error\", nn_name, show_legend=show_legend, loc=client_cpu_loc, target_acc=acc_threshold)\n",
    "            pass\n",
    "            \n",
    "        #fda_methods_theta_wall_time(regression_filtered_acceptable_acc_df, f\"../../metrics/plots/{nn_name}/{str_thresh}\", show_legend=show_legend, loc=theta_loc)\n",
    "        \n",
    "        \n",
    "        if nn_name == 'ConvNeXtLarge':\n",
    "            #conv_next_results(filtered_acceptable_acc_df, f\"../../metrics/plots/{nn_name}/{str_thresh}\", loc=client_cpu_loc)\n",
    "            pass\n",
    "        \n",
    "        fda_methods_clients_comm_steps_cost(filtered_acceptable_acc_df, f\"../../metrics/plots/{nn_name}/{str_thresh}\", loc=client_cpu_loc)\n",
    "        #fda_methods_theta_comm_steps_cost(filtered_acceptable_acc_df, f\"../../metrics/plots/{nn_name}/{str_thresh}\", show_legend=show_legend, loc=theta_loc, lim_from_zero=theta_lim_from_zero, show_other=theta_show_other)\n",
    "        \n",
    "        #fda_methods_theta_common_channel_time(filtered_acceptable_acc_df, f\"../../metrics/plots/{nn_name}/{str_thresh}\")\n",
    "        pass\n",
    "    "
   ]
  },
  {
   "cell_type": "code",
   "execution_count": 206,
   "id": "bd717b09-3808-449d-b7ee-8dee050d697e",
   "metadata": {
    "tags": []
   },
   "outputs": [],
   "source": [
    "time_cost_plots(df_lenet, df_lenet_fda, 0.98, 'LeNet-5', params=True, client_cpu_loc=(0.03, 0.24), show_legend=True)"
   ]
  },
  {
   "cell_type": "code",
   "execution_count": 199,
   "id": "d1ce3ce1-cd61-44e3-91d8-caf0be2060ea",
   "metadata": {
    "tags": []
   },
   "outputs": [],
   "source": [
    "plt.rcParams['legend.fontsize'] = 9.4"
   ]
  },
  {
   "cell_type": "code",
   "execution_count": 173,
   "id": "26a02cc6-330d-4cf4-984e-a845b76ecbed",
   "metadata": {
    "tags": []
   },
   "outputs": [],
   "source": [
    "df_32 = df[(df['batch_size'] == 32) & (df['aggr_scheme'] == 'avg')]"
   ]
  },
  {
   "cell_type": "code",
   "execution_count": 174,
   "id": "925be918-8f09-440e-ab5d-1061235130c8",
   "metadata": {
    "tags": []
   },
   "outputs": [],
   "source": [
    "df_32 = df_32[(df_32['fda_name'] != 'gm') & (df_32['fda_name'] != 'naive')]"
   ]
  },
  {
   "cell_type": "code",
   "execution_count": 175,
   "id": "c390ec61-c11b-4799-9afa-200038dda3d1",
   "metadata": {},
   "outputs": [],
   "source": [
    "#df_32_regression_fda = df_fda_regression[df_fda_regression['batch_size'] == 32]\n",
    "df_32_regression_fda = None"
   ]
  },
  {
   "cell_type": "code",
   "execution_count": 176,
   "id": "0bacb0cf-424b-4c88-986d-6be076c2a26f",
   "metadata": {
    "tags": []
   },
   "outputs": [],
   "source": [
    "import warnings\n",
    "\n",
    "# Suppress all warnings\n",
    "warnings.filterwarnings(\"ignore\")"
   ]
  },
  {
   "cell_type": "markdown",
   "id": "d7f8e2bf-1bc9-4bf8-8362-670c0c71c88c",
   "metadata": {
    "jp-MarkdownHeadingCollapsed": true,
    "tags": []
   },
   "source": [
    "## ConvNeXtLarge - CIFAR100"
   ]
  },
  {
   "cell_type": "code",
   "execution_count": 67,
   "id": "73354ba7-f84e-40ee-a37c-d886bfdaed9a",
   "metadata": {
    "tags": []
   },
   "outputs": [],
   "source": [
    "#df_convnextlarge = df_32[\n",
    "#    (df_32['theta'].isin([0, 5, 15, 25, 50, 75, 100, 150])) & (df_32['nn_name'] == 'ConvNeXtLarge')\n",
    "#]\n",
    "\n",
    "df_convnextlarge = df_32[\n",
    "    (df_32['theta'].isin([0, 25, 50, 100, 150])) & (df_32['nn_name'] == 'ConvNeXtLarge')\n",
    "]\n",
    "\n",
    "df_convnextlarge_fda = None"
   ]
  },
  {
   "cell_type": "code",
   "execution_count": 78,
   "id": "2f2c38d7-055b-4a24-a875-bc99e5db4f72",
   "metadata": {
    "tags": []
   },
   "outputs": [],
   "source": [
    "time_cost_plots(df_convnextlarge, df_convnextlarge_fda, 0.76, 'ConvNeXtLarge', params=True, show_legend=True, theta_lim_from_zero=False, theta_show_other=False)"
   ]
  },
  {
   "cell_type": "code",
   "execution_count": 73,
   "id": "9ced6f6b-9c04-46ea-9093-a8a674c7a3cf",
   "metadata": {
    "tags": []
   },
   "outputs": [],
   "source": [
    "time_cost_plots(df_convnextlarge, df_convnextlarge_fda, 0.75, 'ConvNeXtLarge', params=True, show_legend=True, theta_lim_from_zero=False, theta_show_other=False)"
   ]
  },
  {
   "cell_type": "code",
   "execution_count": 74,
   "id": "1abc1e2d-da22-4cc9-bbae-8f33cbb67b07",
   "metadata": {
    "tags": []
   },
   "outputs": [],
   "source": [
    "time_cost_plots(df_convnextlarge, df_convnextlarge_fda, 0.74, 'ConvNeXtLarge', params=True, show_legend=True, theta_lim_from_zero=False, theta_show_other=True)"
   ]
  },
  {
   "cell_type": "markdown",
   "id": "31af65a8-c141-4ceb-85d1-c47ed128c035",
   "metadata": {
    "jp-MarkdownHeadingCollapsed": true,
    "tags": []
   },
   "source": [
    "## DenseNet121 - CIFAR10"
   ]
  },
  {
   "cell_type": "code",
   "execution_count": 108,
   "id": "a95d8085-a669-4748-9d96-c8a2dc53b7ad",
   "metadata": {},
   "outputs": [],
   "source": [
    "#df_dense121 = df_32[\n",
    "#    (df_32['theta'].isin([0, 200, 250, 275, 300, 325, 350, 400])) & (df_32['nn_name'] == 'DenseNet121')\n",
    "#]\n",
    "\n",
    "df_dense121 = df_32[\n",
    "    (df_32['theta'].isin([0, 200, 250, 275, 300, 325, 350, 400])) & (df_32['nn_name'] == 'DenseNet121') & (df_32.bias.isna())\n",
    "]\n",
    "\"\"\"\n",
    "df_dense121_fda = df_32_regression_fda[\n",
    "    (df_32_regression_fda['theta'].isin([0, 200, 250, 275, 300, 325, 350, 400])) & (df_32_regression_fda['nn_name'] == 'DenseNet121')\n",
    "]\n",
    "\"\"\"\n",
    "df_dense121_fda = None"
   ]
  },
  {
   "cell_type": "code",
   "execution_count": 329,
   "id": "5d15006b-9ecf-4f38-aacd-ac36464dc9a2",
   "metadata": {
    "tags": []
   },
   "outputs": [],
   "source": [
    "plt.rcParams['legend.fontsize'] = 10"
   ]
  },
  {
   "cell_type": "code",
   "execution_count": 427,
   "id": "84566185-3d7c-45f1-bbec-fbfa68499011",
   "metadata": {
    "tags": []
   },
   "outputs": [],
   "source": [
    "time_cost_plots(df_dense121, df_dense121_fda, 0.8, 'DenseNet121', params=True, client_cpu_loc=(0.02, 1.48), show_legend=True, show_nn_name=True)"
   ]
  },
  {
   "cell_type": "code",
   "execution_count": null,
   "id": "5222f0fe-4314-428f-b6cc-d0f886d05264",
   "metadata": {},
   "outputs": [],
   "source": []
  },
  {
   "cell_type": "code",
   "execution_count": 175,
   "id": "53c0b445-1d19-4654-9d4e-7e8220e6505a",
   "metadata": {
    "tags": []
   },
   "outputs": [],
   "source": [
    "time_cost_plots(df_dense121, df_dense121_fda, 0.81, 'DenseNet121', params=False, joint_kde_loc=(0.53, 0.1), show_legend=True, show_nn_name=True)"
   ]
  },
  {
   "cell_type": "code",
   "execution_count": 271,
   "id": "bd9831df-14f7-4f4b-95d5-7b83da68064a",
   "metadata": {
    "tags": []
   },
   "outputs": [],
   "source": [
    "time_cost_plots(df_dense121, df_dense121_fda, 0.79, 'DenseNet121', params=True, joint_kde_loc='lower left',  client_cpu_loc=(0.02, 1.53), show_legend=True)"
   ]
  },
  {
   "cell_type": "code",
   "execution_count": 230,
   "id": "2f5044ee-5631-4f8f-b14d-42e11bd0ff81",
   "metadata": {},
   "outputs": [
    {
     "data": {
      "text/plain": [
       "(0.015, 0.4)"
      ]
     },
     "execution_count": 230,
     "metadata": {},
     "output_type": "execute_result"
    }
   ],
   "source": [
    "(0.015, 0.40)"
   ]
  },
  {
   "cell_type": "markdown",
   "id": "55f5f2c6-89c1-4528-9820-05cb8083f7cd",
   "metadata": {
    "jp-MarkdownHeadingCollapsed": true,
    "tags": []
   },
   "source": [
    "## DenseNet201 - CIFAR10"
   ]
  },
  {
   "cell_type": "code",
   "execution_count": 94,
   "id": "67c96a7f-3f04-403d-a082-f53ec30fe442",
   "metadata": {},
   "outputs": [],
   "source": [
    "df_dense201 = df_32[\n",
    "    (df_32['theta'].isin([0, 350, 500, 600, 700, 800, 850, 900])) & (df_32['nn_name'] == 'DenseNet201')\n",
    "]\n",
    "\n",
    "\"\"\"\n",
    "df_dense201_fda = df_32_regression_fda[\n",
    "    (df_32_regression_fda['theta'].isin([0, 350, 500, 600, 700, 800, 850, 900])) & (df_32_regression_fda['nn_name'] == 'DenseNet201')\n",
    "]\n",
    "\"\"\"\n",
    "df_dense201_fda = None"
   ]
  },
  {
   "cell_type": "code",
   "execution_count": 95,
   "id": "a3539991-8c7c-40e8-a5e4-4958c284c343",
   "metadata": {
    "tags": []
   },
   "outputs": [],
   "source": [
    "plt.rcParams['legend.fontsize'] = 19"
   ]
  },
  {
   "cell_type": "code",
   "execution_count": 141,
   "id": "12d7db51-9591-4839-baea-98b94f22acb1",
   "metadata": {
    "tags": []
   },
   "outputs": [],
   "source": [
    "time_cost_plots(df_dense201, df_dense201_fda, 0.76, 'DenseNet201', params=False, joint_kde_loc='lower left', show_legend=True)"
   ]
  },
  {
   "cell_type": "code",
   "execution_count": 426,
   "id": "a7e5ce02-c301-474c-a6a4-0a698e2fad98",
   "metadata": {
    "tags": []
   },
   "outputs": [],
   "source": [
    "time_cost_plots(df_dense201, df_dense201_fda, 0.78, 'DenseNet201', params=True, joint_kde_loc='lower left', show_legend=True, client_cpu_loc=(0.02, 1.55))"
   ]
  },
  {
   "cell_type": "code",
   "execution_count": 214,
   "id": "152cf754-1599-4a6d-8f86-aedd4844537e",
   "metadata": {
    "tags": []
   },
   "outputs": [],
   "source": [
    "time_cost_plots(df_dense201, df_dense201_fda, 0.79, 'DenseNet201', params=True, joint_kde_loc='lower left', show_legend=True, client_cpu_loc=(0.02, 1.55))"
   ]
  },
  {
   "cell_type": "markdown",
   "id": "38c98aeb-9bde-4718-ad33-a1858e42b749",
   "metadata": {
    "jp-MarkdownHeadingCollapsed": true,
    "tags": []
   },
   "source": [
    "## AdvancedCNN - MNIST"
   ]
  },
  {
   "cell_type": "code",
   "execution_count": 428,
   "id": "fb446469-3850-4d97-bb94-7a27164e49d5",
   "metadata": {},
   "outputs": [],
   "source": [
    "df_adv = df_32[\n",
    "    (df_32['theta'].isin([0, 20, 25, 30, 50, 75, 90, 100])) & (df_32.nn_name == 'AdvancedCNN') & ((df_32['bias'].isna()) | (df_32['bias']<=0))\n",
    "]\n",
    "\n",
    "\"\"\"\n",
    "df_adv_fda = df_32_regression_fda[\n",
    "    (df_32_regression_fda['theta'].isin([0, 20, 25, 30, 50, 75, 90, 100])) & (df_32_regression_fda.nn_name == 'AdvancedCNN') & ((df_32_regression_fda['bias'].isna()) | (df_32_regression_fda['bias']<=0))\n",
    "]\n",
    "\"\"\"\n",
    "\n",
    "df_adv_fda = None"
   ]
  },
  {
   "cell_type": "code",
   "execution_count": 408,
   "id": "c5ccdbc7-059b-4f5b-8c35-9a6cd01c1df5",
   "metadata": {
    "tags": []
   },
   "outputs": [],
   "source": [
    "plt.rcParams['legend.fontsize'] = 12"
   ]
  },
  {
   "cell_type": "code",
   "execution_count": 409,
   "id": "d7f86ec4-2725-491f-bbca-99f53b613b35",
   "metadata": {
    "tags": []
   },
   "outputs": [],
   "source": [
    "#time_cost_plots(df_adv, 0.99, 'AdvancedCNN', params=False)\n",
    "#time_cost_plots(df_adv, df_adv_fda, 0.995,  'AdvancedCNN', params=False, joint_kde_loc='best', show_legend=True)"
   ]
  },
  {
   "cell_type": "code",
   "execution_count": 429,
   "id": "789c7986-c07d-46b0-8872-31e3721c23b0",
   "metadata": {
    "tags": []
   },
   "outputs": [],
   "source": [
    "time_cost_plots(df_adv, df_adv_fda, 0.994, 'AdvancedCNN', params=True, joint_kde_loc='upper left', show_legend=True, filter_cpu_time_problem=1000, client_cpu_loc=(0.53, 0.4))"
   ]
  },
  {
   "cell_type": "code",
   "execution_count": null,
   "id": "a15aafa5-a992-4d18-8eb1-da4b2e428064",
   "metadata": {},
   "outputs": [],
   "source": [
    "(0.01, 0.59)"
   ]
  },
  {
   "cell_type": "code",
   "execution_count": null,
   "id": "5b17d11b-dbb4-4fad-aafa-03d03ec601ac",
   "metadata": {},
   "outputs": [],
   "source": [
    "(0.3, 0.55)"
   ]
  },
  {
   "cell_type": "code",
   "execution_count": null,
   "id": "35857cd2-2eff-4b18-99a2-0684134e3072",
   "metadata": {},
   "outputs": [],
   "source": [
    "(0.43, 0.33)"
   ]
  },
  {
   "cell_type": "code",
   "execution_count": null,
   "id": "1f0ed51b-0d7e-4b9a-90d5-35c647ddf8f1",
   "metadata": {},
   "outputs": [],
   "source": [
    "'upper right'"
   ]
  },
  {
   "cell_type": "code",
   "execution_count": null,
   "id": "738681b4-466a-4cbb-8a54-c4fceb4392a3",
   "metadata": {},
   "outputs": [],
   "source": [
    "(0.01, 0.59)"
   ]
  },
  {
   "cell_type": "markdown",
   "id": "7ede378c-18ee-4521-9101-361614426bf3",
   "metadata": {
    "tags": []
   },
   "source": [
    "## LeNet-5 - MNIST"
   ]
  },
  {
   "cell_type": "code",
   "execution_count": 177,
   "id": "b0f72f80-88f6-442d-a18f-c4b3a3aa43b4",
   "metadata": {
    "tags": []
   },
   "outputs": [],
   "source": [
    "plt.rcParams['legend.fontsize'] = 14"
   ]
  },
  {
   "cell_type": "code",
   "execution_count": 178,
   "id": "10c187c9-422d-4a57-870f-86229673a26f",
   "metadata": {
    "tags": []
   },
   "outputs": [],
   "source": [
    "df_lenet = df_32[\n",
    "    (df_32['theta'].isin([0, 0.5, 1, 1.5, 2, 3, 5, 7]))  & (df_32.nn_name == 'LeNet-5') & ((df_32.bias.isna()) | (df_32.bias == -1) | (df_32.bias == 0.6))\n",
    "]\n",
    "\n",
    "\"\"\"\n",
    "df_lenet_fda = df_32_regression_fda[\n",
    "    (df_32_regression_fda['theta'].isin([0, 0.5, 1, 1.5, 2, 3, 5, 7]))  & (df_32_regression_fda.nn_name == 'LeNet-5') & ((df_32_regression_fda.bias.isna()) | (df_32_regression_fda.bias == -1) | (df_32_regression_fda.bias == 0.6))\n",
    "]\n",
    "\"\"\"\n",
    "df_lenet_fda = None"
   ]
  },
  {
   "cell_type": "code",
   "execution_count": 495,
   "id": "fabfc1d8-1966-4663-9a72-9431f5b995c7",
   "metadata": {
    "tags": []
   },
   "outputs": [],
   "source": [
    "#time_cost_plots(df_lenet, df_lenet_fda, 0.98, 'LeNet-5', params=False, joint_kde_loc='upper left', show_legend=True)"
   ]
  },
  {
   "cell_type": "code",
   "execution_count": 184,
   "id": "40e0f3a0-1aa4-45ed-91c7-f02ad13f95d2",
   "metadata": {
    "tags": []
   },
   "outputs": [],
   "source": [
    "time_cost_plots(df_lenet, df_lenet_fda, 0.985, 'LeNet-5', params=False, joint_kde_loc=(0.03, 0.45), show_legend=True)"
   ]
  },
  {
   "cell_type": "code",
   "execution_count": 187,
   "id": "3730c484-538b-45ed-897c-76c25ccdd94d",
   "metadata": {
    "tags": []
   },
   "outputs": [],
   "source": [
    "time_cost_plots(df_lenet, df_lenet_fda, 0.98, 'LeNet-5', params=True, joint_kde_loc=(0.03, 0.45), show_legend=True)"
   ]
  },
  {
   "cell_type": "code",
   "execution_count": null,
   "id": "9b1b09ec-ac0c-41b3-947b-314c1b14350b",
   "metadata": {},
   "outputs": [],
   "source": []
  },
  {
   "cell_type": "code",
   "execution_count": 186,
   "id": "853af9af-6f1b-41a9-a2ec-5b68aefec693",
   "metadata": {
    "tags": []
   },
   "outputs": [],
   "source": [
    "plt.rcParams['legend.fontsize'] = 16"
   ]
  },
  {
   "cell_type": "code",
   "execution_count": 212,
   "id": "1b18b8c6-337e-40e7-9613-d0d7b8b65103",
   "metadata": {
    "tags": []
   },
   "outputs": [],
   "source": [
    "time_cost_plots(df_lenet, df_lenet_fda, 0.975, 'LeNet-5', joint_kde_loc=(0.015, 0.45), params=True, show_legend=True)"
   ]
  },
  {
   "cell_type": "code",
   "execution_count": 211,
   "id": "35754af2-109a-4c78-8ac2-db2521b701c1",
   "metadata": {
    "tags": []
   },
   "outputs": [],
   "source": [
    "time_cost_plots(df_lenet, df_lenet_fda, 0.98, 'LeNet-5', params=True, joint_kde_loc='upper right', show_legend=True)"
   ]
  },
  {
   "cell_type": "code",
   "execution_count": null,
   "id": "707b41dc-2c4c-4e0f-ad29-a17da520e07b",
   "metadata": {},
   "outputs": [],
   "source": [
    "(0.03, 0.45)"
   ]
  },
  {
   "cell_type": "code",
   "execution_count": 424,
   "id": "51f2a791-9a03-450a-9aa1-4a6e49d136b9",
   "metadata": {},
   "outputs": [],
   "source": [
    "plt.rcParams['legend.fontsize'] = 14"
   ]
  },
  {
   "cell_type": "code",
   "execution_count": null,
   "id": "93404ba2-6ae5-484b-8097-7292b8f1b3ad",
   "metadata": {},
   "outputs": [],
   "source": []
  },
  {
   "cell_type": "code",
   "execution_count": null,
   "id": "34c06849-a76b-4d06-86f6-a33636e63c8f",
   "metadata": {},
   "outputs": [],
   "source": []
  },
  {
   "cell_type": "code",
   "execution_count": null,
   "id": "96603034-27e1-428c-9ac3-685d49d11319",
   "metadata": {},
   "outputs": [],
   "source": []
  },
  {
   "cell_type": "code",
   "execution_count": null,
   "id": "b6241872-7015-4349-839c-aa6b77951159",
   "metadata": {},
   "outputs": [],
   "source": []
  },
  {
   "cell_type": "code",
   "execution_count": null,
   "id": "3c2a1ee6-d75d-4599-b7db-990698302327",
   "metadata": {},
   "outputs": [],
   "source": []
  },
  {
   "cell_type": "code",
   "execution_count": null,
   "id": "64c0ff1c-f727-4b91-9490-715ec6978cff",
   "metadata": {},
   "outputs": [],
   "source": []
  },
  {
   "cell_type": "code",
   "execution_count": null,
   "id": "43982fc8-5e20-446c-b306-df9fc3e5f8cf",
   "metadata": {},
   "outputs": [],
   "source": []
  },
  {
   "cell_type": "code",
   "execution_count": null,
   "id": "1f120356-dd6d-4cbe-9e2e-3fb57e6a1d3f",
   "metadata": {},
   "outputs": [],
   "source": []
  },
  {
   "cell_type": "code",
   "execution_count": 106,
   "id": "0978d19b-5bf2-42ce-b2e1-55faaf251e9f",
   "metadata": {
    "tags": []
   },
   "outputs": [],
   "source": [
    "import numpy as np\n",
    "import matplotlib.lines as mlines\n",
    "\n",
    "def save_theta_approximation_plot():\n",
    "    filename = f\"../../metrics/plots/theta_estimation.pdf\"\n",
    "    pdf = PdfPages(filename)\n",
    "\n",
    "    x = np.array([61_706, 2_592_202, 6_964_106, 18_112_148])\n",
    "    y_balanced = np.array([1.5, 50, 300, 700])\n",
    "    y_aris = np.array([0.5, 20, 200, 500])\n",
    "    y_fl = np.array([5, 100, 325, 900])\n",
    "\n",
    "    plt.figure(figsize=(6.7, 4.8))\n",
    "\n",
    "    labels = [\"LeNet-5\", \"VGG16*\", \"DenseNet121\", \"DenseNet201\"]  # Replace with your labels\n",
    "    markers = ['s', 'o', 'D', 'H']  # Circle, square, triangle up, diamond\n",
    "    colors = ['green', 'blue', 'red', 'purple']\n",
    "\n",
    "    # Calculate the slope for the line passing through the origin\n",
    "    slope_balanced = np.sum(x*y_balanced) / np.sum(x**2)\n",
    "    slope_aris = np.sum(x*y_aris) / np.sum(x**2)\n",
    "    slope_fl = np.sum(x*y_fl) / np.sum(x**2)\n",
    "\n",
    "    plt.plot(x, slope_fl * x, label='FL', color='r')\n",
    "    plt.plot(x, slope_balanced * x, label='Balanced', color='g')\n",
    "    plt.plot(x, slope_aris * x, label='ARIS-HPC', color='b')\n",
    "\n",
    "    plt.scatter(x, y_fl, color='r', marker='X', s=50)\n",
    "    plt.scatter(x, y_balanced, color='g', marker='s')\n",
    "    plt.scatter(x, y_aris, color='b', marker='o')\n",
    "\n",
    "    #plt.legend()\n",
    "    # Create custom legend handles\n",
    "    legend_fl = mlines.Line2D([], [], color='r', marker='X', markersize=7, label='FL', linestyle='solid')\n",
    "    legend_balanced = mlines.Line2D([], [], color='g', marker='s', markersize=6, label='Balanced', linestyle='solid')\n",
    "    legend_aris = mlines.Line2D([], [], color='b', marker='o', markersize=6, label='ARIS-HPC', linestyle='solid')\n",
    "\n",
    "    # Add legend to the plot with custom handles\n",
    "    plt.legend(handles=[legend_fl, legend_balanced, legend_aris])\n",
    "\n",
    "    plt.xlabel('$d$ - Number of Parameters')\n",
    "    plt.ylabel('$\\Theta$*')\n",
    "    plt.grid(True, linestyle='--', linewidth=0.5, alpha=0.8)\n",
    "\n",
    "    plt.ticklabel_format(style='sci', axis='x', scilimits=(6,6), useMathText=True)\n",
    "\n",
    "\n",
    "    # Choose a point for annotation (for example, the middle point)\n",
    "    x_annotate = 10_000_000\n",
    "\n",
    "    y_annotate_balanced = slope_balanced * x_annotate\n",
    "    y_annotate_aris = slope_aris * x_annotate\n",
    "    y_annotate_fl = slope_fl * x_annotate\n",
    "\n",
    "    # Annotation text with the slope\n",
    "    annotation_text_balanced = '$\\Theta_{B} ≈ 3.89 \\cdot 10^{-5} \\cdot d$'  # Formats the slope to 2 decimal places\n",
    "    annotation_text_aris = '$\\Theta_{HPC} ≈ 2.74 \\cdot 10^{-5} \\cdot d$'  # Formats the slope to 2 decimal places\n",
    "    annotation_text_fl = '$\\Theta_{FL} ≈ 4.91 \\cdot 10^{-5} \\cdot d$'  # Formats the slope to 2 decimal places\n",
    "\n",
    "\n",
    "    # Annotate with an arrow\n",
    "    plt.annotate(\n",
    "        annotation_text_balanced, \n",
    "        xy=(x_annotate, y_annotate_balanced), \n",
    "        xytext=(x_annotate - 10*1e6, y_annotate_balanced - 50),\n",
    "        arrowprops=dict(facecolor='gray', arrowstyle='-|>',\n",
    "                                 connectionstyle=\"arc3,rad=-0.3\", lw=0.5),\n",
    "        fontsize=12\n",
    "    )\n",
    "\n",
    "    plt.annotate(\n",
    "        annotation_text_aris, \n",
    "        xy=(x_annotate, y_annotate_aris), \n",
    "        xytext=(x_annotate + 2.5*1e6, y_annotate_aris - 20),\n",
    "        arrowprops=dict(facecolor='gray', arrowstyle='-|>',\n",
    "                                 connectionstyle=\"arc3,rad=-0.3\", lw=0.5),\n",
    "        fontsize=12\n",
    "    )\n",
    "\n",
    "    plt.annotate(\n",
    "        annotation_text_fl, \n",
    "        xy=(x_annotate, y_annotate_fl), \n",
    "        xytext=(x_annotate - 9.3*1e6, y_annotate_fl + 10),\n",
    "        arrowprops=dict(facecolor='gray', arrowstyle='-|>',\n",
    "                                 connectionstyle=\"arc3,rad=-0.3\", lw=0.5),\n",
    "        fontsize=12\n",
    "    )\n",
    "\n",
    "\n",
    "    pdf.savefig(plt.gcf()) # Save the current figure\n",
    "\n",
    "    # Close the current figure to prevent it from being displayed in the notebook\n",
    "    #plt.close()\n",
    "    pdf.close()"
   ]
  },
  {
   "cell_type": "code",
   "execution_count": 107,
   "id": "fbd923c5-8ae2-4518-8ae3-c0a7962cbc5d",
   "metadata": {
    "tags": []
   },
   "outputs": [
    {
     "data": {
      "image/png": "[encoded data removed]",
      "text/plain": [
       "<Figure size 670x480 with 1 Axes>"
      ]
     },
     "metadata": {},
     "output_type": "display_data"
    }
   ],
   "source": [
    "save_theta_approximation_plot()"
   ]
  },
  {
   "cell_type": "code",
   "execution_count": null,
   "id": "b55f87da-7302-4631-be6b-56910ba64c32",
   "metadata": {},
   "outputs": [],
   "source": []
  },
  {
   "cell_type": "code",
   "execution_count": null,
   "id": "f47b53e2-9d32-44bf-a84a-90ed1e2e46a6",
   "metadata": {},
   "outputs": [],
   "source": []
  },
  {
   "cell_type": "code",
   "execution_count": null,
   "id": "8b6ec8e6-e08e-4b98-8a9a-a9f00e2289b7",
   "metadata": {},
   "outputs": [],
   "source": []
  },
  {
   "cell_type": "code",
   "execution_count": null,
   "id": "69a83100-c94b-4e4a-afe7-d47ae68c7ce9",
   "metadata": {},
   "outputs": [],
   "source": []
  },
  {
   "cell_type": "code",
   "execution_count": null,
   "id": "33d4ff34-69d1-48f2-9cbf-fa24901c6f6e",
   "metadata": {},
   "outputs": [],
   "source": []
  },
  {
   "cell_type": "code",
   "execution_count": null,
   "id": "2a39f5ae-2171-4bbd-8537-4fba5b6a74d7",
   "metadata": {},
   "outputs": [],
   "source": []
  },
  {
   "cell_type": "code",
   "execution_count": null,
   "id": "4b8d48a2-4a2a-46e1-92ad-98234e4894d3",
   "metadata": {},
   "outputs": [],
   "source": []
  },
  {
   "cell_type": "code",
   "execution_count": null,
   "id": "e514c638-3b0d-4569-92c0-fb1d39e9993f",
   "metadata": {},
   "outputs": [],
   "source": []
  },
  {
   "cell_type": "code",
   "execution_count": null,
   "id": "acee77d4-6918-4f90-9034-46d3ded0d33e",
   "metadata": {},
   "outputs": [],
   "source": []
  },
  {
   "cell_type": "code",
   "execution_count": null,
   "id": "60a0924a-ba0a-4def-bb6c-969310859d10",
   "metadata": {},
   "outputs": [],
   "source": []
  },
  {
   "cell_type": "code",
   "execution_count": null,
   "id": "8df00c61-eddf-4b78-9d5d-95e6adeffb0e",
   "metadata": {},
   "outputs": [],
   "source": []
  },
  {
   "cell_type": "code",
   "execution_count": null,
   "id": "3cd37d3b-8387-40c9-b737-2d727916548a",
   "metadata": {},
   "outputs": [],
   "source": []
  },
  {
   "cell_type": "code",
   "execution_count": null,
   "id": "ada64b42-2833-4c1c-b104-8489b9aef0f6",
   "metadata": {},
   "outputs": [],
   "source": []
  },
  {
   "cell_type": "code",
   "execution_count": null,
   "id": "8c2b62ed-fe13-4fa0-84dc-c9da89b92001",
   "metadata": {},
   "outputs": [],
   "source": []
  },
  {
   "cell_type": "code",
   "execution_count": null,
   "id": "037a4082-0f15-48b8-900a-ea6cff18fa1d",
   "metadata": {},
   "outputs": [],
   "source": []
  },
  {
   "cell_type": "code",
   "execution_count": null,
   "id": "5e0a3e32-6b32-455a-9664-bde9f3a7d256",
   "metadata": {},
   "outputs": [],
   "source": []
  },
  {
   "cell_type": "code",
   "execution_count": null,
   "id": "6e31a316-b984-4ede-aaa0-a9bb2266b355",
   "metadata": {},
   "outputs": [],
   "source": []
  },
  {
   "cell_type": "markdown",
   "id": "0308bd39-ddea-4a0e-b9d9-ebc81ff4b75e",
   "metadata": {
    "tags": []
   },
   "source": [
    "# For Regression model"
   ]
  },
  {
   "cell_type": "code",
   "execution_count": null,
   "id": "fdb12338-3a4e-4d59-89c2-fbe17c103996",
   "metadata": {
    "tags": []
   },
   "outputs": [],
   "source": [
    "df_fda_regression = df[df.fda_name.isin(['naive', 'linear', 'sketch'])].copy()"
   ]
  },
  {
   "cell_type": "code",
   "execution_count": null,
   "id": "52a0db0b-4f31-434f-b177-960c12a73f30",
   "metadata": {
    "tags": []
   },
   "outputs": [],
   "source": [
    "df_fda_regression = df_fda_regression[(~df_fda_regression.per_layer) & (df_fda_regression['aggr_scheme'] == 'avg')]"
   ]
  },
  {
   "cell_type": "code",
   "execution_count": null,
   "id": "b8377e28-0877-47cf-8749-1b791735b0d8",
   "metadata": {
    "tags": []
   },
   "outputs": [],
   "source": [
    "def local_state_computation_cost(row):\n",
    "    if row['fda_name'] == 'naive':\n",
    "        return row['nn_num_weights']  # O(d)\n",
    "    if row['fda_name'] == 'linear':\n",
    "        return 2*row['nn_num_weights']  #  O(2*d)\n",
    "    if row['fda_name'] == 'sketch':\n",
    "        return row['nn_num_weights'] * row['sketch_width'] * row['sketch_depth']  #  O(width * d)\n",
    "    return None"
   ]
  },
  {
   "cell_type": "code",
   "execution_count": null,
   "id": "2a058607-bae2-45bd-b27b-27b7d95d0943",
   "metadata": {
    "tags": []
   },
   "outputs": [],
   "source": [
    "df_fda_regression['local_state_computation_cost'] = df_fda_regression.apply(local_state_computation_cost, axis=1)"
   ]
  },
  {
   "cell_type": "code",
   "execution_count": null,
   "id": "5505414e-42d8-4a38-8b9a-a10e4f845ff5",
   "metadata": {
    "tags": []
   },
   "outputs": [],
   "source": [
    "def monitoring_size(row):\n",
    "    if row['fda_name'] == 'naive':\n",
    "        return 1\n",
    "    if row['fda_name'] == 'linear':\n",
    "        return 2\n",
    "    if row['fda_name'] == 'sketch':\n",
    "        return 5 * 250\n",
    "    return None"
   ]
  },
  {
   "cell_type": "code",
   "execution_count": null,
   "id": "55a2aaee-d6a4-4b08-89ef-02bbada4841d",
   "metadata": {
    "tags": []
   },
   "outputs": [],
   "source": [
    "def sample_size(ds_name):\n",
    "    if ds_name == 'CIFAR10':\n",
    "        return 32 * 32 * 3\n",
    "    if ds_name == 'MNIST':\n",
    "        return 28 * 28\n",
    "    return None"
   ]
  },
  {
   "cell_type": "code",
   "execution_count": null,
   "id": "bca99ba4-0448-4a64-a018-b07b7d758962",
   "metadata": {
    "tags": []
   },
   "outputs": [],
   "source": [
    "df_fda_regression['sample_size'] = df_fda_regression['dataset_name'].apply(sample_size)"
   ]
  },
  {
   "cell_type": "code",
   "execution_count": null,
   "id": "558771d5-2841-4931-b411-45816c4cacdd",
   "metadata": {
    "tags": []
   },
   "outputs": [],
   "source": [
    "df_fda_regression['monitoring_size'] = df_fda_regression.apply(monitoring_size, axis=1)"
   ]
  },
  {
   "cell_type": "code",
   "execution_count": null,
   "id": "567355e0-ce4d-4131-90bb-9e02c6f71150",
   "metadata": {
    "tags": []
   },
   "outputs": [],
   "source": [
    "df_fda_regression['train_computation_cost'] = df_fda_regression['total_fda_steps'] * df_fda_regression['nn_num_weights'] * df_fda_regression['batch_size']"
   ]
  },
  {
   "cell_type": "code",
   "execution_count": null,
   "id": "1b2f092f-1c04-4bfb-9f49-a5f84884090f",
   "metadata": {
    "tags": []
   },
   "outputs": [],
   "source": [
    "df_fda_regression['dataset_computation_cost'] = df_fda_regression['total_fda_steps'] * df_fda_regression['sample_size']"
   ]
  },
  {
   "cell_type": "code",
   "execution_count": null,
   "id": "5e4e309a-e98a-459e-9adf-0b01ae4f1ad9",
   "metadata": {
    "tags": []
   },
   "outputs": [],
   "source": [
    "df_fda_regression['sync_communication_cost'] = df_fda_regression['total_rounds'] * df_fda_regression['nn_num_weights'] * np.log2(df_fda_regression['num_clients'])"
   ]
  },
  {
   "cell_type": "code",
   "execution_count": null,
   "id": "7a9bd3a1-4204-4c78-905b-7a92a0521b49",
   "metadata": {
    "tags": []
   },
   "outputs": [],
   "source": [
    "df_fda_regression['monitor_communication_cost'] = df_fda_regression['total_fda_steps'] * df_fda_regression['monitoring_size'] * np.log2(df_fda_regression['num_clients'])"
   ]
  },
  {
   "cell_type": "code",
   "execution_count": null,
   "id": "61d24dc4-9748-47fb-9884-028e00161b09",
   "metadata": {
    "tags": []
   },
   "outputs": [],
   "source": [
    "!cp /home/miketheologitis/TFD-FedL-Sync-FDA/notebooks/regression_model.pkl ."
   ]
  },
  {
   "cell_type": "code",
   "execution_count": null,
   "id": "fd621701-4eaf-4fea-9532-8ff85856c2d4",
   "metadata": {
    "tags": []
   },
   "outputs": [],
   "source": [
    "import pickle\n",
    "\n",
    "with open('regression_model.pkl', 'rb') as f:\n",
    "    rmodel = pickle.load(f)"
   ]
  },
  {
   "cell_type": "code",
   "execution_count": 31,
   "id": "19adb83d-2e29-4438-82c6-1c3286f33867",
   "metadata": {
    "collapsed": true,
    "jupyter": {
     "outputs_hidden": true
    },
    "tags": []
   },
   "outputs": [
    {
     "ename": "ValueError",
     "evalue": "Input X contains NaN.\nLinearRegression does not accept missing values encoded as NaN natively. For supervised learning, you might want to consider sklearn.ensemble.HistGradientBoostingClassifier and Regressor which accept missing values encoded as NaNs natively. Alternatively, it is possible to preprocess the data, for instance by using an imputer transformer in a pipeline or drop samples with missing values. See https://scikit-learn.org/stable/modules/impute.html You can find a list of all estimators that handle NaN values at the following page: https://scikit-learn.org/stable/modules/impute.html#estimators-that-handle-nan-values",
     "output_type": "error",
     "traceback": [
      "\u001b[0;31m---------------------------------------------------------------------------\u001b[0m",
      "\u001b[0;31mValueError\u001b[0m                                Traceback (most recent call last)",
      "Cell \u001b[0;32mIn[31], line 1\u001b[0m\n\u001b[0;32m----> 1\u001b[0m df_fda_regression[\u001b[38;5;124m'\u001b[39m\u001b[38;5;124mpred_total_time_sec\u001b[39m\u001b[38;5;124m'\u001b[39m] \u001b[38;5;241m=\u001b[39m \u001b[43mrmodel\u001b[49m\u001b[38;5;241;43m.\u001b[39;49m\u001b[43mpredict\u001b[49m\u001b[43m(\u001b[49m\n\u001b[1;32m      2\u001b[0m \u001b[43m    \u001b[49m\u001b[43mdf_fda_regression\u001b[49m\u001b[43m[\u001b[49m\u001b[43m[\u001b[49m\n\u001b[1;32m      3\u001b[0m \u001b[43m        \u001b[49m\u001b[38;5;124;43m'\u001b[39;49m\u001b[38;5;124;43mtrain_computation_cost\u001b[39;49m\u001b[38;5;124;43m'\u001b[39;49m\u001b[43m,\u001b[49m\u001b[43m \u001b[49m\n\u001b[1;32m      4\u001b[0m \u001b[43m        \u001b[49m\u001b[38;5;124;43m'\u001b[39;49m\u001b[38;5;124;43mdataset_computation_cost\u001b[39;49m\u001b[38;5;124;43m'\u001b[39;49m\u001b[43m,\u001b[49m\u001b[43m \u001b[49m\n\u001b[1;32m      5\u001b[0m \u001b[43m        \u001b[49m\u001b[38;5;124;43m'\u001b[39;49m\u001b[38;5;124;43mlocal_state_computation_cost\u001b[39;49m\u001b[38;5;124;43m'\u001b[39;49m\u001b[43m,\u001b[49m\u001b[43m \u001b[49m\n\u001b[1;32m      6\u001b[0m \u001b[43m        \u001b[49m\u001b[38;5;124;43m'\u001b[39;49m\u001b[38;5;124;43msync_communication_cost\u001b[39;49m\u001b[38;5;124;43m'\u001b[39;49m\u001b[43m,\u001b[49m\u001b[43m \u001b[49m\n\u001b[1;32m      7\u001b[0m \u001b[43m        \u001b[49m\u001b[38;5;124;43m'\u001b[39;49m\u001b[38;5;124;43mmonitor_communication_cost\u001b[39;49m\u001b[38;5;124;43m'\u001b[39;49m\n\u001b[1;32m      8\u001b[0m \u001b[43m    \u001b[49m\u001b[43m]\u001b[49m\u001b[43m]\u001b[49m\n\u001b[1;32m      9\u001b[0m \u001b[43m)\u001b[49m\n",
      "File \u001b[0;32m~/anaconda3/envs/data-analysis/lib/python3.11/site-packages/sklearn/linear_model/_base.py:286\u001b[0m, in \u001b[0;36mLinearModel.predict\u001b[0;34m(self, X)\u001b[0m\n\u001b[1;32m    272\u001b[0m \u001b[38;5;28;01mdef\u001b[39;00m \u001b[38;5;21mpredict\u001b[39m(\u001b[38;5;28mself\u001b[39m, X):\n\u001b[1;32m    273\u001b[0m \u001b[38;5;250m    \u001b[39m\u001b[38;5;124;03m\"\"\"\u001b[39;00m\n\u001b[1;32m    274\u001b[0m \u001b[38;5;124;03m    Predict using the linear model.\u001b[39;00m\n\u001b[1;32m    275\u001b[0m \n\u001b[0;32m   (...)\u001b[0m\n\u001b[1;32m    284\u001b[0m \u001b[38;5;124;03m        Returns predicted values.\u001b[39;00m\n\u001b[1;32m    285\u001b[0m \u001b[38;5;124;03m    \"\"\"\u001b[39;00m\n\u001b[0;32m--> 286\u001b[0m     \u001b[38;5;28;01mreturn\u001b[39;00m \u001b[38;5;28;43mself\u001b[39;49m\u001b[38;5;241;43m.\u001b[39;49m\u001b[43m_decision_function\u001b[49m\u001b[43m(\u001b[49m\u001b[43mX\u001b[49m\u001b[43m)\u001b[49m\n",
      "File \u001b[0;32m~/anaconda3/envs/data-analysis/lib/python3.11/site-packages/sklearn/linear_model/_base.py:269\u001b[0m, in \u001b[0;36mLinearModel._decision_function\u001b[0;34m(self, X)\u001b[0m\n\u001b[1;32m    266\u001b[0m \u001b[38;5;28;01mdef\u001b[39;00m \u001b[38;5;21m_decision_function\u001b[39m(\u001b[38;5;28mself\u001b[39m, X):\n\u001b[1;32m    267\u001b[0m     check_is_fitted(\u001b[38;5;28mself\u001b[39m)\n\u001b[0;32m--> 269\u001b[0m     X \u001b[38;5;241m=\u001b[39m \u001b[38;5;28;43mself\u001b[39;49m\u001b[38;5;241;43m.\u001b[39;49m\u001b[43m_validate_data\u001b[49m\u001b[43m(\u001b[49m\u001b[43mX\u001b[49m\u001b[43m,\u001b[49m\u001b[43m \u001b[49m\u001b[43maccept_sparse\u001b[49m\u001b[38;5;241;43m=\u001b[39;49m\u001b[43m[\u001b[49m\u001b[38;5;124;43m\"\u001b[39;49m\u001b[38;5;124;43mcsr\u001b[39;49m\u001b[38;5;124;43m\"\u001b[39;49m\u001b[43m,\u001b[49m\u001b[43m \u001b[49m\u001b[38;5;124;43m\"\u001b[39;49m\u001b[38;5;124;43mcsc\u001b[39;49m\u001b[38;5;124;43m\"\u001b[39;49m\u001b[43m,\u001b[49m\u001b[43m \u001b[49m\u001b[38;5;124;43m\"\u001b[39;49m\u001b[38;5;124;43mcoo\u001b[39;49m\u001b[38;5;124;43m\"\u001b[39;49m\u001b[43m]\u001b[49m\u001b[43m,\u001b[49m\u001b[43m \u001b[49m\u001b[43mreset\u001b[49m\u001b[38;5;241;43m=\u001b[39;49m\u001b[38;5;28;43;01mFalse\u001b[39;49;00m\u001b[43m)\u001b[49m\n\u001b[1;32m    270\u001b[0m     \u001b[38;5;28;01mreturn\u001b[39;00m safe_sparse_dot(X, \u001b[38;5;28mself\u001b[39m\u001b[38;5;241m.\u001b[39mcoef_\u001b[38;5;241m.\u001b[39mT, dense_output\u001b[38;5;241m=\u001b[39m\u001b[38;5;28;01mTrue\u001b[39;00m) \u001b[38;5;241m+\u001b[39m \u001b[38;5;28mself\u001b[39m\u001b[38;5;241m.\u001b[39mintercept_\n",
      "File \u001b[0;32m~/anaconda3/envs/data-analysis/lib/python3.11/site-packages/sklearn/base.py:633\u001b[0m, in \u001b[0;36mBaseEstimator._validate_data\u001b[0;34m(self, X, y, reset, validate_separately, cast_to_ndarray, **check_params)\u001b[0m\n\u001b[1;32m    631\u001b[0m         out \u001b[38;5;241m=\u001b[39m X, y\n\u001b[1;32m    632\u001b[0m \u001b[38;5;28;01melif\u001b[39;00m \u001b[38;5;129;01mnot\u001b[39;00m no_val_X \u001b[38;5;129;01mand\u001b[39;00m no_val_y:\n\u001b[0;32m--> 633\u001b[0m     out \u001b[38;5;241m=\u001b[39m \u001b[43mcheck_array\u001b[49m\u001b[43m(\u001b[49m\u001b[43mX\u001b[49m\u001b[43m,\u001b[49m\u001b[43m \u001b[49m\u001b[43minput_name\u001b[49m\u001b[38;5;241;43m=\u001b[39;49m\u001b[38;5;124;43m\"\u001b[39;49m\u001b[38;5;124;43mX\u001b[39;49m\u001b[38;5;124;43m\"\u001b[39;49m\u001b[43m,\u001b[49m\u001b[43m \u001b[49m\u001b[38;5;241;43m*\u001b[39;49m\u001b[38;5;241;43m*\u001b[39;49m\u001b[43mcheck_params\u001b[49m\u001b[43m)\u001b[49m\n\u001b[1;32m    634\u001b[0m \u001b[38;5;28;01melif\u001b[39;00m no_val_X \u001b[38;5;129;01mand\u001b[39;00m \u001b[38;5;129;01mnot\u001b[39;00m no_val_y:\n\u001b[1;32m    635\u001b[0m     out \u001b[38;5;241m=\u001b[39m _check_y(y, \u001b[38;5;241m*\u001b[39m\u001b[38;5;241m*\u001b[39mcheck_params)\n",
      "File \u001b[0;32m~/anaconda3/envs/data-analysis/lib/python3.11/site-packages/sklearn/utils/validation.py:1049\u001b[0m, in \u001b[0;36mcheck_array\u001b[0;34m(array, accept_sparse, accept_large_sparse, dtype, order, copy, force_all_finite, ensure_2d, allow_nd, ensure_min_samples, ensure_min_features, estimator, input_name)\u001b[0m\n\u001b[1;32m   1043\u001b[0m     \u001b[38;5;28;01mraise\u001b[39;00m \u001b[38;5;167;01mValueError\u001b[39;00m(\n\u001b[1;32m   1044\u001b[0m         \u001b[38;5;124m\"\u001b[39m\u001b[38;5;124mFound array with dim \u001b[39m\u001b[38;5;132;01m%d\u001b[39;00m\u001b[38;5;124m. \u001b[39m\u001b[38;5;132;01m%s\u001b[39;00m\u001b[38;5;124m expected <= 2.\u001b[39m\u001b[38;5;124m\"\u001b[39m\n\u001b[1;32m   1045\u001b[0m         \u001b[38;5;241m%\u001b[39m (array\u001b[38;5;241m.\u001b[39mndim, estimator_name)\n\u001b[1;32m   1046\u001b[0m     )\n\u001b[1;32m   1048\u001b[0m \u001b[38;5;28;01mif\u001b[39;00m force_all_finite:\n\u001b[0;32m-> 1049\u001b[0m     \u001b[43m_assert_all_finite\u001b[49m\u001b[43m(\u001b[49m\n\u001b[1;32m   1050\u001b[0m \u001b[43m        \u001b[49m\u001b[43marray\u001b[49m\u001b[43m,\u001b[49m\n\u001b[1;32m   1051\u001b[0m \u001b[43m        \u001b[49m\u001b[43minput_name\u001b[49m\u001b[38;5;241;43m=\u001b[39;49m\u001b[43minput_name\u001b[49m\u001b[43m,\u001b[49m\n\u001b[1;32m   1052\u001b[0m \u001b[43m        \u001b[49m\u001b[43mestimator_name\u001b[49m\u001b[38;5;241;43m=\u001b[39;49m\u001b[43mestimator_name\u001b[49m\u001b[43m,\u001b[49m\n\u001b[1;32m   1053\u001b[0m \u001b[43m        \u001b[49m\u001b[43mallow_nan\u001b[49m\u001b[38;5;241;43m=\u001b[39;49m\u001b[43mforce_all_finite\u001b[49m\u001b[43m \u001b[49m\u001b[38;5;241;43m==\u001b[39;49m\u001b[43m \u001b[49m\u001b[38;5;124;43m\"\u001b[39;49m\u001b[38;5;124;43mallow-nan\u001b[39;49m\u001b[38;5;124;43m\"\u001b[39;49m\u001b[43m,\u001b[49m\n\u001b[1;32m   1054\u001b[0m \u001b[43m    \u001b[49m\u001b[43m)\u001b[49m\n\u001b[1;32m   1056\u001b[0m \u001b[38;5;28;01mif\u001b[39;00m copy:\n\u001b[1;32m   1057\u001b[0m     \u001b[38;5;28;01mif\u001b[39;00m _is_numpy_namespace(xp):\n\u001b[1;32m   1058\u001b[0m         \u001b[38;5;66;03m# only make a copy if `array` and `array_orig` may share memory`\u001b[39;00m\n",
      "File \u001b[0;32m~/anaconda3/envs/data-analysis/lib/python3.11/site-packages/sklearn/utils/validation.py:126\u001b[0m, in \u001b[0;36m_assert_all_finite\u001b[0;34m(X, allow_nan, msg_dtype, estimator_name, input_name)\u001b[0m\n\u001b[1;32m    123\u001b[0m \u001b[38;5;28;01mif\u001b[39;00m first_pass_isfinite:\n\u001b[1;32m    124\u001b[0m     \u001b[38;5;28;01mreturn\u001b[39;00m\n\u001b[0;32m--> 126\u001b[0m \u001b[43m_assert_all_finite_element_wise\u001b[49m\u001b[43m(\u001b[49m\n\u001b[1;32m    127\u001b[0m \u001b[43m    \u001b[49m\u001b[43mX\u001b[49m\u001b[43m,\u001b[49m\n\u001b[1;32m    128\u001b[0m \u001b[43m    \u001b[49m\u001b[43mxp\u001b[49m\u001b[38;5;241;43m=\u001b[39;49m\u001b[43mxp\u001b[49m\u001b[43m,\u001b[49m\n\u001b[1;32m    129\u001b[0m \u001b[43m    \u001b[49m\u001b[43mallow_nan\u001b[49m\u001b[38;5;241;43m=\u001b[39;49m\u001b[43mallow_nan\u001b[49m\u001b[43m,\u001b[49m\n\u001b[1;32m    130\u001b[0m \u001b[43m    \u001b[49m\u001b[43mmsg_dtype\u001b[49m\u001b[38;5;241;43m=\u001b[39;49m\u001b[43mmsg_dtype\u001b[49m\u001b[43m,\u001b[49m\n\u001b[1;32m    131\u001b[0m \u001b[43m    \u001b[49m\u001b[43mestimator_name\u001b[49m\u001b[38;5;241;43m=\u001b[39;49m\u001b[43mestimator_name\u001b[49m\u001b[43m,\u001b[49m\n\u001b[1;32m    132\u001b[0m \u001b[43m    \u001b[49m\u001b[43minput_name\u001b[49m\u001b[38;5;241;43m=\u001b[39;49m\u001b[43minput_name\u001b[49m\u001b[43m,\u001b[49m\n\u001b[1;32m    133\u001b[0m \u001b[43m\u001b[49m\u001b[43m)\u001b[49m\n",
      "File \u001b[0;32m~/anaconda3/envs/data-analysis/lib/python3.11/site-packages/sklearn/utils/validation.py:175\u001b[0m, in \u001b[0;36m_assert_all_finite_element_wise\u001b[0;34m(X, xp, allow_nan, msg_dtype, estimator_name, input_name)\u001b[0m\n\u001b[1;32m    158\u001b[0m \u001b[38;5;28;01mif\u001b[39;00m estimator_name \u001b[38;5;129;01mand\u001b[39;00m input_name \u001b[38;5;241m==\u001b[39m \u001b[38;5;124m\"\u001b[39m\u001b[38;5;124mX\u001b[39m\u001b[38;5;124m\"\u001b[39m \u001b[38;5;129;01mand\u001b[39;00m has_nan_error:\n\u001b[1;32m    159\u001b[0m     \u001b[38;5;66;03m# Improve the error message on how to handle missing values in\u001b[39;00m\n\u001b[1;32m    160\u001b[0m     \u001b[38;5;66;03m# scikit-learn.\u001b[39;00m\n\u001b[1;32m    161\u001b[0m     msg_err \u001b[38;5;241m+\u001b[39m\u001b[38;5;241m=\u001b[39m (\n\u001b[1;32m    162\u001b[0m         \u001b[38;5;124mf\u001b[39m\u001b[38;5;124m\"\u001b[39m\u001b[38;5;130;01m\\n\u001b[39;00m\u001b[38;5;132;01m{\u001b[39;00mestimator_name\u001b[38;5;132;01m}\u001b[39;00m\u001b[38;5;124m does not accept missing values\u001b[39m\u001b[38;5;124m\"\u001b[39m\n\u001b[1;32m    163\u001b[0m         \u001b[38;5;124m\"\u001b[39m\u001b[38;5;124m encoded as NaN natively. For supervised learning, you might want\u001b[39m\u001b[38;5;124m\"\u001b[39m\n\u001b[0;32m   (...)\u001b[0m\n\u001b[1;32m    173\u001b[0m         \u001b[38;5;124m\"\u001b[39m\u001b[38;5;124m#estimators-that-handle-nan-values\u001b[39m\u001b[38;5;124m\"\u001b[39m\n\u001b[1;32m    174\u001b[0m     )\n\u001b[0;32m--> 175\u001b[0m \u001b[38;5;28;01mraise\u001b[39;00m \u001b[38;5;167;01mValueError\u001b[39;00m(msg_err)\n",
      "\u001b[0;31mValueError\u001b[0m: Input X contains NaN.\nLinearRegression does not accept missing values encoded as NaN natively. For supervised learning, you might want to consider sklearn.ensemble.HistGradientBoostingClassifier and Regressor which accept missing values encoded as NaNs natively. Alternatively, it is possible to preprocess the data, for instance by using an imputer transformer in a pipeline or drop samples with missing values. See https://scikit-learn.org/stable/modules/impute.html You can find a list of all estimators that handle NaN values at the following page: https://scikit-learn.org/stable/modules/impute.html#estimators-that-handle-nan-values"
     ]
    }
   ],
   "source": [
    "df_fda_regression['pred_total_time_sec'] = rmodel.predict(\n",
    "    df_fda_regression[[\n",
    "        'train_computation_cost', \n",
    "        'dataset_computation_cost', \n",
    "        'local_state_computation_cost', \n",
    "        'sync_communication_cost', \n",
    "        'monitor_communication_cost'\n",
    "    ]]\n",
    ")"
   ]
  },
  {
   "cell_type": "code",
   "execution_count": null,
   "id": "fc1110f5-a245-4aba-a5e8-10539fc82e94",
   "metadata": {
    "tags": []
   },
   "outputs": [],
   "source": [
    "df_fda_regression['pred_total_time_minutes'] = df_fda_regression['pred_total_time_sec'] / 60.0"
   ]
  }
 ],
 "metadata": {
  "kernelspec": {
   "display_name": "Python [conda env:data-analysis]",
   "language": "python",
   "name": "conda-env-data-analysis-py"
  },
  "language_info": {
   "codemirror_mode": {
    "name": "ipython",
    "version": 3
   },
   "file_extension": ".py",
   "mimetype": "text/x-python",
   "name": "python",
   "nbconvert_exporter": "python",
   "pygments_lexer": "ipython3",
   "version": "3.11.4"
  }
 },
 "nbformat": 4,
 "nbformat_minor": 5
}
