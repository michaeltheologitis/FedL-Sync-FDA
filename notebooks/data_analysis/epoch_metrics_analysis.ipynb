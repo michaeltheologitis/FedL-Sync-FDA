{
 "cells": [
  {
   "cell_type": "code",
   "execution_count": 1,
   "id": "48030999",
   "metadata": {
    "tags": []
   },
   "outputs": [],
   "source": [
    "import pandas as pd\n",
    "import numpy as np\n",
    "import matplotlib.pyplot as plt\n",
    "from matplotlib.backends.backend_pdf import PdfPages\n",
    "import glob\n",
    "import seaborn as sns"
   ]
  },
  {
   "cell_type": "markdown",
   "id": "dd8fbdc6-1e34-4a24-bc2c-3889b431983b",
   "metadata": {
    "tags": []
   },
   "source": [
    "## Read from `~/metrics/epoch_metrics/` directory"
   ]
  },
  {
   "cell_type": "code",
   "execution_count": 2,
   "id": "fa99cded-d478-4585-a418-732835788ab3",
   "metadata": {
    "tags": []
   },
   "outputs": [],
   "source": [
    "files = glob.glob(\"../../metrics/epoch_metrics/*parquet\")\n",
    "\n",
    "dataframes = []\n",
    "\n",
    "for file in files:\n",
    "    df = pd.read_parquet(file)\n",
    "    \n",
    "    dataframes.append(df)\n",
    "\n",
    "df = pd.concat(dataframes, ignore_index=True)"
   ]
  },
  {
   "cell_type": "code",
   "execution_count": null,
   "id": "8aa57d8e-ae3c-4f3e-89c2-f6c41170d773",
   "metadata": {},
   "outputs": [],
   "source": []
  },
  {
   "cell_type": "code",
   "execution_count": 3,
   "id": "ae6fd06a-0b6c-4529-914c-64950e27f70f",
   "metadata": {
    "tags": []
   },
   "outputs": [],
   "source": [
    "df[\"per_layer\"] = df['total_rounds'].apply(lambda x: isinstance(x, np.ndarray))"
   ]
  },
  {
   "cell_type": "code",
   "execution_count": 4,
   "id": "89ff3dd8",
   "metadata": {
    "tags": []
   },
   "outputs": [],
   "source": [
    "#df = pd.read_parquet(\"../../metrics/epoch_metrics/\")"
   ]
  },
  {
   "cell_type": "markdown",
   "id": "2a2b25db-0742-4564-8e1b-bceba468b557",
   "metadata": {},
   "source": [
    "# Hyper-Parameters"
   ]
  },
  {
   "cell_type": "markdown",
   "id": "f7e3d30a-0336-48e7-9574-36b974c72254",
   "metadata": {},
   "source": [
    "`bias` `NaN` -> no bias\n",
    "\n",
    "`bias` $ \\in (0, 1)$ -> `bias`% of each client's dataset is biased (from sorted sequence of MNIST) - rest is good\n",
    "\n",
    "`bias` $= -1$ -> MNIST label 0 is sorted, placed at the start, and clients get assigned sequentially from this dataset. Only one label is biased to however many clients can get it assigned to them.\n",
    "\n",
    "`bias` $= -2$ -> MNIST label 8 is sorted, placed at the start, and clients get assigned sequentially from this dataset. Only one label is biased to however many clients can get it assigned to them."
   ]
  },
  {
   "cell_type": "code",
   "execution_count": 5,
   "id": "da2bae88-a838-477f-ade3-2595e66717a8",
   "metadata": {
    "tags": []
   },
   "outputs": [],
   "source": [
    "one_label_bias = {\n",
    "    -1: 0,\n",
    "    -2: 8\n",
    "}"
   ]
  },
  {
   "cell_type": "code",
   "execution_count": 6,
   "id": "029ac0aa-49b4-4f2d-a4ab-6f7a4d80cdd5",
   "metadata": {
    "tags": []
   },
   "outputs": [],
   "source": [
    "aggr = {\n",
    "    'avg': '',\n",
    "    'wavg_drifts': ' wavg'\n",
    "}"
   ]
  },
  {
   "cell_type": "code",
   "execution_count": 7,
   "id": "ea45453e-d536-4676-a532-9ee2faccc786",
   "metadata": {
    "tags": []
   },
   "outputs": [],
   "source": [
    "per_layer_dict = {\n",
    "    False: '',\n",
    "    True: ' per-layer'\n",
    "}"
   ]
  },
  {
   "cell_type": "markdown",
   "id": "8af2b884-2006-40e1-83b9-f42756182e92",
   "metadata": {},
   "source": [
    "## All tests summary\n",
    "\n",
    "Note that this is a summary. \n",
    "\n",
    "Notes:\n",
    "1. `synchronous` method implies `theta` equal to `0.0` and the reverse.\n",
    "2. The stopping criterion (epochs at the moment) is not the same for all combination, in fact, it changes."
   ]
  },
  {
   "cell_type": "code",
   "execution_count": 13,
   "id": "51e3945f-9c4d-4999-946e-5269e796dbcc",
   "metadata": {
    "tags": []
   },
   "outputs": [],
   "source": [
    "df_lenet = df[df['nn_name'] == 'LeNet-5']"
   ]
  },
  {
   "cell_type": "code",
   "execution_count": 14,
   "id": "04e48751-ffa9-4aab-bfd2-a3cdfd1c96d0",
   "metadata": {
    "tags": []
   },
   "outputs": [
    {
     "name": "stdout",
     "output_type": "stream",
     "text": [
      "dataset_name: ['MNIST']\n",
      "fda_name: ['gm', 'linear', 'naive', 'sketch', 'synchronous']\n",
      "nn_name: ['LeNet-5']\n",
      "num_clients: [5, 10, 15, 20, 25, 30, 35, 40, 45, 50, 55, 60]\n",
      "batch_size: [32, 64, 128, 256]\n",
      "num_steps_until_rtc_check: [1]\n",
      "theta: [0.0, 0.5, 1.0, 1.5, 2.0, 3.0, 5.0, 7.0, 10.0, 12.0, 15.0]\n",
      "bias: [nan, -2.0, -1.0, 0.3, 0.6, 0.9]\n",
      "aggr_scheme: ['avg']\n"
     ]
    }
   ],
   "source": [
    "for col in ['dataset_name', 'fda_name', 'nn_name', 'num_clients', 'batch_size', 'num_steps_until_rtc_check', 'theta', 'bias', 'aggr_scheme']:\n",
    "    print(f\"{col}: {sorted(list(df_lenet[col].unique()))}\")"
   ]
  },
  {
   "cell_type": "markdown",
   "id": "1db71736-9799-4862-adb8-cfd7e663279e",
   "metadata": {},
   "source": [
    "## Query All tests"
   ]
  },
  {
   "cell_type": "code",
   "execution_count": 15,
   "id": "2d244ada-c501-4dc9-b1be-4da0d0ef6449",
   "metadata": {
    "tags": []
   },
   "outputs": [],
   "source": [
    "test_combinations = df.groupby(['dataset_name', 'nn_name', 'fda_name', 'num_steps_until_rtc_check', 'batch_size', 'theta', 'num_clients', 'aggr_scheme', 'bias', 'per_layer'], dropna=False)['epoch'].max().reset_index()"
   ]
  },
  {
   "cell_type": "code",
   "execution_count": 16,
   "id": "91d74b0d-ca6e-436c-b965-6afa79a08ed9",
   "metadata": {
    "tags": []
   },
   "outputs": [
    {
     "data": {
      "text/html": [
       "<div>\n",
       "<style scoped>\n",
       "    .dataframe tbody tr th:only-of-type {\n",
       "        vertical-align: middle;\n",
       "    }\n",
       "\n",
       "    .dataframe tbody tr th {\n",
       "        vertical-align: top;\n",
       "    }\n",
       "\n",
       "    .dataframe thead th {\n",
       "        text-align: right;\n",
       "    }\n",
       "</style>\n",
       "<table border=\"1\" class=\"dataframe\">\n",
       "  <thead>\n",
       "    <tr style=\"text-align: right;\">\n",
       "      <th></th>\n",
       "      <th>dataset_name</th>\n",
       "      <th>nn_name</th>\n",
       "      <th>fda_name</th>\n",
       "      <th>num_steps_until_rtc_check</th>\n",
       "      <th>batch_size</th>\n",
       "      <th>theta</th>\n",
       "      <th>num_clients</th>\n",
       "      <th>aggr_scheme</th>\n",
       "      <th>bias</th>\n",
       "      <th>per_layer</th>\n",
       "      <th>epoch</th>\n",
       "    </tr>\n",
       "  </thead>\n",
       "  <tbody>\n",
       "    <tr>\n",
       "      <th>816</th>\n",
       "      <td>MNIST</td>\n",
       "      <td>AdvancedCNN</td>\n",
       "      <td>naive</td>\n",
       "      <td>1</td>\n",
       "      <td>32</td>\n",
       "      <td>20.0</td>\n",
       "      <td>5</td>\n",
       "      <td>avg</td>\n",
       "      <td>-2.0</td>\n",
       "      <td>False</td>\n",
       "      <td>100</td>\n",
       "    </tr>\n",
       "    <tr>\n",
       "      <th>817</th>\n",
       "      <td>MNIST</td>\n",
       "      <td>AdvancedCNN</td>\n",
       "      <td>naive</td>\n",
       "      <td>1</td>\n",
       "      <td>32</td>\n",
       "      <td>20.0</td>\n",
       "      <td>5</td>\n",
       "      <td>avg</td>\n",
       "      <td>-1.0</td>\n",
       "      <td>False</td>\n",
       "      <td>100</td>\n",
       "    </tr>\n",
       "    <tr>\n",
       "      <th>818</th>\n",
       "      <td>MNIST</td>\n",
       "      <td>AdvancedCNN</td>\n",
       "      <td>naive</td>\n",
       "      <td>1</td>\n",
       "      <td>32</td>\n",
       "      <td>20.0</td>\n",
       "      <td>5</td>\n",
       "      <td>avg</td>\n",
       "      <td>0.9</td>\n",
       "      <td>False</td>\n",
       "      <td>100</td>\n",
       "    </tr>\n",
       "    <tr>\n",
       "      <th>819</th>\n",
       "      <td>MNIST</td>\n",
       "      <td>AdvancedCNN</td>\n",
       "      <td>naive</td>\n",
       "      <td>1</td>\n",
       "      <td>32</td>\n",
       "      <td>20.0</td>\n",
       "      <td>5</td>\n",
       "      <td>avg</td>\n",
       "      <td>NaN</td>\n",
       "      <td>False</td>\n",
       "      <td>100</td>\n",
       "    </tr>\n",
       "  </tbody>\n",
       "</table>\n",
       "</div>"
      ],
      "text/plain": [
       "    dataset_name      nn_name fda_name  num_steps_until_rtc_check  batch_size   \n",
       "816        MNIST  AdvancedCNN    naive                          1          32  \\\n",
       "817        MNIST  AdvancedCNN    naive                          1          32   \n",
       "818        MNIST  AdvancedCNN    naive                          1          32   \n",
       "819        MNIST  AdvancedCNN    naive                          1          32   \n",
       "\n",
       "     theta  num_clients aggr_scheme  bias  per_layer  epoch  \n",
       "816   20.0            5         avg  -2.0      False    100  \n",
       "817   20.0            5         avg  -1.0      False    100  \n",
       "818   20.0            5         avg   0.9      False    100  \n",
       "819   20.0            5         avg   NaN      False    100  "
      ]
     },
     "execution_count": 16,
     "metadata": {},
     "output_type": "execute_result"
    }
   ],
   "source": [
    "test_combinations[\n",
    "    (test_combinations['nn_name'] == 'AdvancedCNN') &\n",
    "    (test_combinations['fda_name'] == 'naive') &\n",
    "    (test_combinations['theta'] == 20.0) &\n",
    "    (test_combinations['num_clients'] == 5)\n",
    "]"
   ]
  },
  {
   "cell_type": "markdown",
   "id": "cc83ca7e-2d67-4138-825c-2193420208c5",
   "metadata": {},
   "source": [
    "# Helpful new Dataframe metrics"
   ]
  },
  {
   "cell_type": "markdown",
   "id": "96b67d41-76a9-461e-830f-9dccfecaf678",
   "metadata": {},
   "source": [
    "### Add Helpful model metrics"
   ]
  },
  {
   "cell_type": "code",
   "execution_count": 17,
   "id": "49a43e33-b746-46ab-be9a-8a63f30a8986",
   "metadata": {
    "tags": []
   },
   "outputs": [],
   "source": [
    "df['model_bytes'] = df['nn_num_weights'] * 4"
   ]
  },
  {
   "cell_type": "markdown",
   "id": "b6c4b4b2-5b95-4f6e-bae3-389bcc45c14d",
   "metadata": {
    "tags": []
   },
   "source": [
    "### Add Helpful FDA method metrics"
   ]
  },
  {
   "cell_type": "code",
   "execution_count": 18,
   "id": "4ce6b482-c726-49e4-abb7-e9daedf781d1",
   "metadata": {
    "tags": []
   },
   "outputs": [],
   "source": [
    "def fda_local_state_bytes(row):\n",
    "    if row['fda_name'] == \"naive\":\n",
    "        return 4\n",
    "    if row['fda_name'] == \"linear\":\n",
    "        return 8\n",
    "    if row['fda_name'] == \"sketch\":\n",
    "        return row['sketch_width'] * row['sketch_depth'] * 4 + 4\n",
    "    if row['fda_name'] == \"synchronous\":\n",
    "        return 0\n",
    "    if row['fda_name'] == 'gm':\n",
    "        return 0.125  # one bit"
   ]
  },
  {
   "cell_type": "code",
   "execution_count": 19,
   "id": "5bccd467-4482-4d0f-96c1-63625ab33531",
   "metadata": {
    "tags": []
   },
   "outputs": [],
   "source": [
    "df['local_state_bytes'] = df.apply(fda_local_state_bytes, axis=1)"
   ]
  },
  {
   "cell_type": "markdown",
   "id": "0d63338e-b01f-4a2e-9035-56d4ccb6b5b8",
   "metadata": {},
   "source": [
    "### Add Total Steps\n",
    "\n",
    "total steps (a single fda step might have many normal SGD steps, batch steps)"
   ]
  },
  {
   "cell_type": "code",
   "execution_count": 20,
   "id": "62737054-fd40-46fe-ae01-f8774db0db91",
   "metadata": {
    "tags": []
   },
   "outputs": [],
   "source": [
    "df['total_steps'] = df['total_fda_steps'] * df['num_steps_until_rtc_check']"
   ]
  },
  {
   "cell_type": "markdown",
   "id": "ae20d8fe-f5b6-463b-9e02-16588b178252",
   "metadata": {},
   "source": [
    "### Add communication metrics"
   ]
  },
  {
   "cell_type": "code",
   "execution_count": 21,
   "id": "863052af-6314-4b55-86a2-163ea46f890d",
   "metadata": {
    "tags": []
   },
   "outputs": [
    {
     "name": "stderr",
     "output_type": "stream",
     "text": [
      "2023-11-28 09:49:38.255376: I external/local_tsl/tsl/cuda/cudart_stub.cc:31] Could not find cuda drivers on your machine, GPU will not be used.\n",
      "2023-11-28 09:49:38.483792: E external/local_xla/xla/stream_executor/cuda/cuda_dnn.cc:9261] Unable to register cuDNN factory: Attempting to register factory for plugin cuDNN when one has already been registered\n",
      "2023-11-28 09:49:38.483896: E external/local_xla/xla/stream_executor/cuda/cuda_fft.cc:607] Unable to register cuFFT factory: Attempting to register factory for plugin cuFFT when one has already been registered\n",
      "2023-11-28 09:49:38.523881: E external/local_xla/xla/stream_executor/cuda/cuda_blas.cc:1515] Unable to register cuBLAS factory: Attempting to register factory for plugin cuBLAS when one has already been registered\n",
      "2023-11-28 09:49:38.610141: I external/local_tsl/tsl/cuda/cudart_stub.cc:31] Could not find cuda drivers on your machine, GPU will not be used.\n",
      "2023-11-28 09:49:38.611742: I tensorflow/core/platform/cpu_feature_guard.cc:182] This TensorFlow binary is optimized to use available CPU instructions in performance-critical operations.\n",
      "To enable the following instructions: AVX2 FMA, in other operations, rebuild TensorFlow with the appropriate compiler flags.\n",
      "2023-11-28 09:49:39.994125: W tensorflow/compiler/tf2tensorrt/utils/py_utils.cc:38] TF-TRT Warning: Could not find TensorRT\n"
     ]
    }
   ],
   "source": [
    "from fdavg.models.advanced_cnn import get_compiled_and_built_advanced_cnn\n",
    "\n",
    "adv = get_compiled_and_built_advanced_cnn((None, 28, 28), (28, 28, 1), 10)\n",
    "adv_layer_count = [len(v) for v in adv.per_layer_trainable_vars_as_vector()]"
   ]
  },
  {
   "cell_type": "code",
   "execution_count": 22,
   "id": "dcad9199-514d-4e1d-9036-290b5d403cf8",
   "metadata": {
    "tags": []
   },
   "outputs": [
    {
     "data": {
      "text/plain": [
       "[640, 36928, 73856, 147584, 295168, 590080, 1180160, 262656, 5130]"
      ]
     },
     "execution_count": 22,
     "metadata": {},
     "output_type": "execute_result"
    }
   ],
   "source": [
    "adv_layer_count"
   ]
  },
  {
   "cell_type": "markdown",
   "id": "8bc1ecda-66bf-4ada-8341-bc44002dd38d",
   "metadata": {},
   "source": [
    "The communication bytes exchanged for model synchronization. Remember that the Clients send their models to the Server and the Server sends the global model back. This happens at the end of every round."
   ]
  },
  {
   "cell_type": "code",
   "execution_count": 23,
   "id": "14bb72bf-09e1-47e2-9b7f-c312ff45e7ca",
   "metadata": {
    "tags": []
   },
   "outputs": [
    {
     "data": {
      "text/plain": [
       "771000"
      ]
     },
     "execution_count": 23,
     "metadata": {},
     "output_type": "execute_result"
    }
   ],
   "source": [
    "len(df)"
   ]
  },
  {
   "cell_type": "code",
   "execution_count": 24,
   "id": "1ac2eb6a-5878-4173-9901-1f57aec4e95e",
   "metadata": {
    "tags": []
   },
   "outputs": [],
   "source": [
    "def model_bytes_exchanged(row):\n",
    "    if row['per_layer']:\n",
    "        return sum((layer_num_weights * 4) * layer_rounds * row['num_clients'] * 2 for layer_num_weights, layer_rounds in zip(adv_layer_count, row['total_rounds']))\n",
    "    \n",
    "    return row['total_rounds'] * row['model_bytes'] * row['num_clients'] * 2"
   ]
  },
  {
   "cell_type": "code",
   "execution_count": 25,
   "id": "86fe348a-4beb-4805-af41-4408d78a198e",
   "metadata": {
    "tags": []
   },
   "outputs": [],
   "source": [
    "df['model_bytes_exchanged'] = df.apply(model_bytes_exchanged, axis=1)"
   ]
  },
  {
   "cell_type": "markdown",
   "id": "6de008e7-dadd-413a-98ff-1e7d94dbc8bf",
   "metadata": {},
   "source": [
    "The communication bytes exchanged for monitoring the variance. This happens at the end of every FDA step which consists of `num_steps_until_rtc_check` number of steps. "
   ]
  },
  {
   "cell_type": "code",
   "execution_count": 26,
   "id": "17eb8709-13b6-4e1b-8caa-d311d01939bd",
   "metadata": {
    "tags": []
   },
   "outputs": [],
   "source": [
    "def monitoring_bytes_exchanged(row):\n",
    "    if row['per_layer']:\n",
    "        return row['local_state_bytes'] * row['total_fda_steps'] * row['num_clients'] * len(adv_layer_count)\n",
    "    \n",
    "    return row['local_state_bytes'] * row['total_fda_steps'] * row['num_clients']"
   ]
  },
  {
   "cell_type": "code",
   "execution_count": 27,
   "id": "96c0a03c-809e-4b61-b83b-73b6efa32630",
   "metadata": {
    "tags": []
   },
   "outputs": [],
   "source": [
    "df['monitoring_bytes_exchanged'] = df.apply(monitoring_bytes_exchanged, axis=1)"
   ]
  },
  {
   "cell_type": "markdown",
   "id": "4f8aa21e-1040-4794-8780-6e0283ee2d73",
   "metadata": {},
   "source": [
    "The total communication bytes exchanged in the whole Federated Learning lifecycle."
   ]
  },
  {
   "cell_type": "code",
   "execution_count": 28,
   "id": "84353a52-12cf-416c-9b5a-74b7658ce499",
   "metadata": {
    "tags": []
   },
   "outputs": [],
   "source": [
    "df['total_communication_bytes'] = df['model_bytes_exchanged'] + df['monitoring_bytes_exchanged']"
   ]
  },
  {
   "cell_type": "code",
   "execution_count": 29,
   "id": "1b48e615-187c-48aa-9bbb-928e248b1040",
   "metadata": {
    "tags": []
   },
   "outputs": [],
   "source": [
    "df['total_communication_gb'] = df['total_communication_bytes'] / 10**9"
   ]
  },
  {
   "cell_type": "markdown",
   "id": "9773a738-5cbd-4d87-9a7a-004fe11d6fb3",
   "metadata": {},
   "source": [
    "# HyperParameter ranking"
   ]
  },
  {
   "cell_type": "markdown",
   "id": "42646af0-06ce-4d80-a803-9a04bbd42bb4",
   "metadata": {},
   "source": [
    "### LeNet-5\n",
    "On 2 `Nvidia A10`:\n",
    "1. Batch Size = 32 -> 6.613 ms ± 0.128 ms per loop (mean ± std. dev. of 7 runs, 1 loop each)\n",
    "2. *Batch Size* = 64 -> 7.509 ms ± 0.065 ms per loop (mean ± std. dev. of 7 runs, 1 loop each)\n",
    "3. *Batch Size* = 128 -> 8.02 ms ± 0.099 ms per loop (mean ± std. dev. of 7 runs, 1 loop each)\n",
    "4. *Batch Size* = 256 -> 9.258 ms ± 0.336 ms per loop (mean ± std. dev. of 7 runs, 1 loop each)"
   ]
  },
  {
   "cell_type": "markdown",
   "id": "ac905fcd-cbe7-4ce6-9826-ef0f4696c14c",
   "metadata": {
    "tags": []
   },
   "source": [
    "## AdvancedCNN\n",
    "\n",
    "On 2 `Nvidia A10`:\n",
    "1. *Batch Size* = 32 -> 8.853 ms ± 0.0917 ms per loop (mean ± std. dev. of 7 runs, 1 loop each)\n",
    "2. *Batch Size* = 64 -> 10.325 ms ± 0.215 ms per loop (mean ± std. dev. of 7 runs, 1 loop each)\n",
    "3. *Batch Size* = 128 -> 11.989 ms ± 0.134 ms per loop (mean ± std. dev. of 7 runs, 1 loop each)\n",
    "4. *Batch Size* = 256 -> 16.47 ms ± 0.294 ms per loop (mean ± std. dev. of 7 runs, 1 loop each)"
   ]
  },
  {
   "cell_type": "code",
   "execution_count": 30,
   "id": "83fdf5fb-18ff-4b12-ada8-5129cc7531d4",
   "metadata": {
    "tags": []
   },
   "outputs": [],
   "source": [
    "step_ms = {\n",
    "    (\"AdvancedCNN\", 32): 8.853,\n",
    "    (\"AdvancedCNN\", 64): 10.325,\n",
    "    (\"AdvancedCNN\", 128): 11.989,\n",
    "    (\"AdvancedCNN\", 256): 16.47,\n",
    "    (\"LeNet-5\", 32): 6.613,\n",
    "    (\"LeNet-5\", 64): 7.509,\n",
    "    (\"LeNet-5\", 128): 8.02,\n",
    "    (\"LeNet-5\", 256): 9.258\n",
    "}"
   ]
  },
  {
   "cell_type": "code",
   "execution_count": 31,
   "id": "178b5809-8298-4666-8296-8bbec9ccda62",
   "metadata": {
    "tags": []
   },
   "outputs": [],
   "source": [
    "import numpy as np\n",
    "\n",
    "def cpu_time_cost(row):\n",
    "    \"\"\" Total cpu time cost in (sec).\n",
    "    A single `step` means each client performed a single `step` \n",
    "    \"\"\"\n",
    "    return row['total_steps'] * step_ms[(row['nn_name'], row['batch_size'])] / 1000\n",
    "\n",
    "def communication_time_cost(num_clients, total_communication_bytes, comm_model):\n",
    "    \"\"\" Assuming channel is 1Gbps \"\"\"\n",
    "\n",
    "    total_communication_gbit = total_communication_bytes * 8e-9\n",
    "\n",
    "    if comm_model == 'common_channel':\n",
    "        \n",
    "        return ((num_clients - 1) / num_clients) * total_communication_gbit    # sec\n",
    "\n",
    "    if comm_model == 'hypercube':\n",
    "\n",
    "        return (np.ceil(np.log(num_clients)) / num_clients) * total_communication_gbit   # sec"
   ]
  },
  {
   "cell_type": "code",
   "execution_count": 32,
   "id": "6892ee25-e1b9-4e98-b5a1-c3669d84cd93",
   "metadata": {
    "tags": []
   },
   "outputs": [],
   "source": [
    "df['cpu_time_cost'] = df.apply(cpu_time_cost, axis=1)"
   ]
  },
  {
   "cell_type": "code",
   "execution_count": 33,
   "id": "a3895090-76c2-46ff-a229-30ee6142e2e9",
   "metadata": {
    "tags": []
   },
   "outputs": [],
   "source": [
    "df['hypercube_communication_time_cost'] = communication_time_cost(df['num_clients'], df['total_communication_bytes'], 'hypercube')"
   ]
  },
  {
   "cell_type": "code",
   "execution_count": 34,
   "id": "9666ef46-2574-43e9-b8e6-0c7fca3b75ec",
   "metadata": {
    "tags": []
   },
   "outputs": [],
   "source": [
    "df['common_channel_communication_time_cost'] = communication_time_cost(df['num_clients'], df['total_communication_bytes'], 'common_channel')"
   ]
  },
  {
   "cell_type": "code",
   "execution_count": 35,
   "id": "8a7c286b-25a0-4eb0-a432-fded4f049071",
   "metadata": {
    "tags": []
   },
   "outputs": [],
   "source": [
    "df['hypercube_time_cost'] = df['cpu_time_cost'] + df['hypercube_communication_time_cost']"
   ]
  },
  {
   "cell_type": "code",
   "execution_count": 36,
   "id": "efe9fa8a-d8d7-4b2a-a3a0-131eec5ce2d2",
   "metadata": {
    "tags": []
   },
   "outputs": [],
   "source": [
    "df['common_channel_time_cost'] = df['cpu_time_cost'] + df['common_channel_communication_time_cost']"
   ]
  },
  {
   "cell_type": "code",
   "execution_count": 37,
   "id": "b9cf2956-4729-48a5-b06c-8cd6953f6ef7",
   "metadata": {
    "tags": []
   },
   "outputs": [],
   "source": [
    "df['hypercube_comm_cpu_time_ratio'] = df['hypercube_communication_time_cost'] / df['cpu_time_cost']"
   ]
  },
  {
   "cell_type": "code",
   "execution_count": 38,
   "id": "be90d43a-e051-4445-a183-b68f329f2843",
   "metadata": {
    "tags": []
   },
   "outputs": [],
   "source": [
    "df['common_channel_comm_cpu_time_ratio'] = df['common_channel_communication_time_cost'] / df['cpu_time_cost']"
   ]
  },
  {
   "cell_type": "markdown",
   "id": "270b7b80-e37e-45f6-badc-14e09ab83d8f",
   "metadata": {},
   "source": [
    "# Plots about cost"
   ]
  },
  {
   "cell_type": "code",
   "execution_count": 39,
   "id": "78880363-4c40-4799-9672-3218d2ec807a",
   "metadata": {
    "tags": []
   },
   "outputs": [],
   "source": [
    "# Define styles for each fda_name\n",
    "fda_styles = {\n",
    "    'naive': 'o-r',\n",
    "    'linear': 's-g',\n",
    "    'sketch': '^-b',\n",
    "    'synchronous': 'x-c'\n",
    "}\n",
    "fda_names = ['gm', 'naive', 'linear', 'sketch', 'synchronous']"
   ]
  },
  {
   "cell_type": "code",
   "execution_count": 40,
   "id": "d4fbe02f-48f4-47f4-937b-79b16e40fa5b",
   "metadata": {
    "tags": []
   },
   "outputs": [],
   "source": [
    "import matplotlib\n",
    "\n",
    "num_clients_values = sorted(df['num_clients'].unique())\n",
    "cmap = matplotlib.colormaps['tab20b']\n",
    "colors_dict = {\n",
    "    num_clients: color \n",
    "    for num_clients, color in zip(num_clients_values, cmap(np.linspace(0, 1, len(num_clients_values))))\n",
    "}"
   ]
  },
  {
   "cell_type": "markdown",
   "id": "5d6b795b-a73d-4e94-b9e4-07df61d1f0fd",
   "metadata": {},
   "source": [
    "## KDE Helper"
   ]
  },
  {
   "cell_type": "code",
   "execution_count": 41,
   "id": "f277d83f-7869-46ef-a4d6-0129553318da",
   "metadata": {
    "tags": []
   },
   "outputs": [],
   "source": [
    "\"\"\"\n",
    "sns_params = {\n",
    "    'bw_method': 'scott',\n",
    "    'bw_adjust': 0.7,\n",
    "    'fill': True,\n",
    "    'alpha': 0.2\n",
    "}\n",
    "\"\"\"\n",
    "sns_params = {\n",
    "    'bw_method': 'scott',\n",
    "    'bw_adjust': 0.7,\n",
    "    'fill': False,\n",
    "    'alpha': 1\n",
    "}\n",
    "\n",
    "sns_params_biases = {\n",
    "    'bw_method': 'scott',\n",
    "    'bw_adjust': 0.7,\n",
    "    'fill': False,\n",
    "    'alpha': 0.8\n",
    "}\n",
    "\n",
    "base_colors = {\n",
    "    'gm': 'blue',\n",
    "    'naive': 'orange',\n",
    "    'linear': 'green',\n",
    "    'sketch': 'red',\n",
    "    'synchronous': 'purple',\n",
    "    'sketch wavg': 'black'\n",
    "}\n",
    "\n",
    "base_colors_per_layer = {\n",
    "    'gm': 'blue',\n",
    "    'naive': 'orange',\n",
    "    'linear': 'green',\n",
    "    'sketch': 'red',\n",
    "    'synchronous': 'purple',\n",
    "    'naive per-layer': 'black'\n",
    "}\n",
    "\n",
    "sync_colors = {\n",
    "    32: 'rebeccapurple',\n",
    "    64: 'darkorchid',\n",
    "    128: 'mediumorchid',\n",
    "    256: 'plum'\n",
    "}"
   ]
  },
  {
   "cell_type": "code",
   "execution_count": 42,
   "id": "5a8b81fe-0fc4-4501-88a2-77cca9f24229",
   "metadata": {
    "tags": []
   },
   "outputs": [],
   "source": [
    "import matplotlib.pyplot as plt\n",
    "\n",
    "plt.rcParams['font.size'] = 14"
   ]
  },
  {
   "cell_type": "markdown",
   "id": "f1ad541a-b538-4598-bc75-fb3e94362216",
   "metadata": {
    "tags": []
   },
   "source": [
    "## Total time cost with accuracy"
   ]
  },
  {
   "cell_type": "markdown",
   "id": "78fd1665-4e4b-4a86-a092-f11f7c695f8c",
   "metadata": {},
   "source": [
    "### KDE"
   ]
  },
  {
   "cell_type": "code",
   "execution_count": 43,
   "id": "cfb48896-af2d-4b62-bd6a-24a46f2eb240",
   "metadata": {
    "tags": []
   },
   "outputs": [],
   "source": [
    "def kde_time_cost(df, filename, x_log=True):\n",
    "    \n",
    "    if x_log:\n",
    "        log_scale = (True, False)\n",
    "    else:\n",
    "        log_scale = False\n",
    "        \n",
    "    plt.rcParams['font.size'] = 20\n",
    "    plt.rcParams['legend.fontsize'] = 12\n",
    "    \n",
    "    pdf = PdfPages(filename)\n",
    "    \n",
    "    biases = sorted(df['bias'].unique(), reverse=True)[::-1]\n",
    "\n",
    "    for bias in biases:\n",
    "        \n",
    "        if pd.isna(bias):\n",
    "            mask = df['bias'].isna()\n",
    "            bias_title = f'Bias: {bias}'\n",
    "        elif bias > 0:\n",
    "            mask = df['bias'] == bias\n",
    "            bias_title = f'Bias: {bias}'\n",
    "        else:\n",
    "            mask = df['bias'] == bias\n",
    "            bias_title = f'Bias: only label {one_label_bias[bias]}'\n",
    "            \n",
    "        df_bias = df[mask]\n",
    "        \n",
    "        if len(df_bias['fda_name'].unique()) < 2:\n",
    "            continue\n",
    "    \n",
    "        fig, axs = plt.subplots(1, 2, figsize=(20, 8))\n",
    "        \n",
    "        for fda_name in fda_names:\n",
    "\n",
    "            common_channel_df = df_bias[df_bias['fda_name'] == fda_name]['common_channel_time_cost']\n",
    "            sns.kdeplot(common_channel_df, label=fda_name, ax=axs[0], color=base_colors[fda_name], log_scale=log_scale, **sns_params)\n",
    "\n",
    "            hypercube_df = df_bias[df_bias['fda_name'] == fda_name]['hypercube_time_cost']\n",
    "            sns.kdeplot(hypercube_df, label=fda_name, ax=axs[1], color=base_colors[fda_name], log_scale=log_scale, **sns_params)\n",
    "\n",
    "\n",
    "        if not x_log:\n",
    "            axs[0].set_xlim(left=0)\n",
    "        axs[0].set_xlabel('Time Cost (sec)')\n",
    "        axs[0].set_ylabel('Density')\n",
    "        axs[0].legend()\n",
    "        axs[0].set_title(\"Common Channel Communication Model\")\n",
    "        axs[0].grid(True, linestyle='--', linewidth=0.5, alpha=0.5)\n",
    "        axs[0].legend()\n",
    "\n",
    "        if not x_log:\n",
    "            axs[1].set_xlim(left=0)\n",
    "\n",
    "        axs[1].set_xlabel('Time Cost (sec)')\n",
    "        axs[1].set_ylabel('Density')\n",
    "        axs[1].legend()\n",
    "        axs[1].set_title(\"Hypercube Communication Model\")\n",
    "        axs[1].grid(True, linestyle='--', linewidth=0.5, alpha=0.5)\n",
    "        axs[1].legend()\n",
    "        \n",
    "        fda_df = df_bias[df_bias['fda_name'] != 'synchronous']\n",
    "        sync_df = df_bias[df_bias['fda_name'] == 'synchronous']\n",
    "        info = f\"gm, naive, linear, sketch - bs : {fda_df['batch_size'].unique()}  ,  synchronous - bs: {sync_df['batch_size'].unique()}\\n\"\n",
    "        fig.suptitle(info+bias_title)\n",
    "        \n",
    "        plt.tight_layout()\n",
    "\n",
    "        pdf.savefig(fig)\n",
    "\n",
    "        plt.close(fig)\n",
    "    \n",
    "        \n",
    "    pdf.close()\n",
    "    \n",
    "    plt.rcParams['font.size'] = 14\n",
    "    plt.rcParams['legend.fontsize'] = 12"
   ]
  },
  {
   "cell_type": "markdown",
   "id": "b2320ef3-66a1-4397-9b3f-6fd0c13ea5d6",
   "metadata": {
    "tags": []
   },
   "source": [
    "## Total Communication cost (in gb) with accuracy (scatter)"
   ]
  },
  {
   "cell_type": "markdown",
   "id": "3df3f1eb-20a7-4d2a-ba60-cc36708ca42a",
   "metadata": {},
   "source": [
    "### KDE"
   ]
  },
  {
   "cell_type": "code",
   "execution_count": 44,
   "id": "83fca381-1fc0-4f35-9115-cd6effb3129f",
   "metadata": {
    "tags": []
   },
   "outputs": [],
   "source": [
    "def kde_communication_cost(df, filename, x_log=True):\n",
    "\n",
    "    if x_log:\n",
    "        log_scale = (True, False)\n",
    "    else:\n",
    "        log_scale = False\n",
    "        \n",
    "    pdf = PdfPages(filename)\n",
    "    \n",
    "    biases = sorted(df['bias'].unique(), reverse=True)[::-1]\n",
    "\n",
    "    for bias in biases:\n",
    "        \n",
    "        if pd.isna(bias):\n",
    "            mask = df['bias'].isna()\n",
    "            bias_title = f'Bias: {bias}'\n",
    "        elif bias > 0:\n",
    "            mask = df['bias'] == bias\n",
    "            bias_title = f'Bias: {bias}'\n",
    "        else:\n",
    "            mask = df['bias'] == bias\n",
    "            bias_title = f'Bias: only label {one_label_bias[bias]}'\n",
    "            \n",
    "        df_bias = df[mask]\n",
    "        \n",
    "        if len(df_bias['fda_name'].unique()) < 2:\n",
    "            continue\n",
    "    \n",
    "        plt.figure(figsize=(10, 6))\n",
    "\n",
    "        avg_communications_dict = {}\n",
    "        avg_info = []\n",
    "\n",
    "        for fda_name in fda_names:\n",
    "            fda_data_df = df_bias[df_bias['fda_name'] == fda_name]['total_communication_gb']\n",
    "            \n",
    "            if fda_data_df.empty:\n",
    "                continue\n",
    "            \n",
    "            avg_communications_dict[fda_name] = fda_data_df.mean()\n",
    "            avg_info.append(f'{fda_name}: {avg_communications_dict[fda_name]:.2f} GB')\n",
    "\n",
    "            # Plotting only the KDE using kdeplot\n",
    "            sns.kdeplot(fda_data_df, label=fda_name, log_scale=log_scale, color=base_colors[fda_name], **sns_params)\n",
    "\n",
    "\n",
    "        text = \"Average Communication:\\n\" + '\\n'.join(avg_info)\n",
    "        # Add the text annotation inside the plot\n",
    "        plt.text(0.02, 0.97, text, transform=plt.gca().transAxes, fontsize=9, verticalalignment='top',\n",
    "                 bbox=dict(boxstyle='round', facecolor='wheat', alpha=0.4))\n",
    "\n",
    "\n",
    "        if not x_log:\n",
    "            plt.xlim(left=0)\n",
    "\n",
    "        plt.grid(True, linestyle='--', linewidth=0.5, alpha=0.5)\n",
    "        plt.xlabel('Communication (GB)')\n",
    "        plt.ylabel('Density')\n",
    "        #plt.legend()  # We'll be moving this\n",
    "        plt.gca().legend(loc='best', bbox_to_anchor=(0, 0.1, 1, 0.67))\n",
    "        \n",
    "        fda_df = df_bias[df_bias['fda_name'] != 'synchronous']\n",
    "        sync_df = df_bias[df_bias['fda_name'] == 'synchronous']\n",
    "        info = f\"gm, naive, linear, sketch - bs : {fda_df['batch_size'].unique()}  ,  synchronous - bs: {sync_df['batch_size'].unique()}\\n\"\n",
    "        plt.suptitle(info+bias_title)\n",
    "\n",
    "        plt.tight_layout()\n",
    "\n",
    "        pdf.savefig(plt.gcf()) # Save the current figure\n",
    "\n",
    "        # Close the current figure to prevent it from being displayed in the notebook\n",
    "        plt.close()\n",
    "    pdf.close()"
   ]
  },
  {
   "cell_type": "markdown",
   "id": "c3d35fd9-5826-4e5d-83fa-d9522eb7d2b1",
   "metadata": {},
   "source": [
    "## Total CPU time (in Seconds) with accuracy"
   ]
  },
  {
   "cell_type": "markdown",
   "id": "52af3838-5f3d-4ae6-8070-9ab446bed403",
   "metadata": {},
   "source": [
    "### KDE"
   ]
  },
  {
   "cell_type": "code",
   "execution_count": 45,
   "id": "ee28d792-6495-4ab1-a694-9cf2fb1799eb",
   "metadata": {
    "tags": []
   },
   "outputs": [],
   "source": [
    "def kde_cpu_time_cost(df, filename, x_log=False):\n",
    "    \n",
    "    if x_log:\n",
    "        log_scale = (True, False)\n",
    "    else:\n",
    "        log_scale = False\n",
    "        \n",
    "    pdf = PdfPages(filename)\n",
    "    \n",
    "    biases = sorted(df['bias'].unique(), reverse=True)[::-1]\n",
    "\n",
    "    for bias in biases:\n",
    "        \n",
    "        if pd.isna(bias):\n",
    "            mask = df['bias'].isna()\n",
    "            bias_title = f'Bias: {bias}'\n",
    "        elif bias > 0:\n",
    "            mask = df['bias'] == bias\n",
    "            bias_title = f'Bias: {bias}'\n",
    "        else:\n",
    "            mask = df['bias'] == bias\n",
    "            bias_title = f'Bias: only label {one_label_bias[bias]}'\n",
    "            \n",
    "        df_bias = df[mask]\n",
    "        \n",
    "        if len(df_bias['fda_name'].unique()) < 2:\n",
    "            continue\n",
    "    \n",
    "        plt.figure(figsize=(10, 6))\n",
    "\n",
    "        for fda_name in fda_names:\n",
    "            fda_data_df = df_bias[df_bias['fda_name'] == fda_name]['cpu_time_cost']\n",
    "            \n",
    "            if fda_data_df.empty:\n",
    "                continue\n",
    "\n",
    "            # Plotting only the KDE using kdeplot\n",
    "            sns.kdeplot(fda_data_df, label=fda_name, log_scale=log_scale, color=base_colors[fda_name], **sns_params)\n",
    "\n",
    "        if not x_log:\n",
    "            plt.xlim(left=0)\n",
    "        plt.grid(True, linestyle='--', linewidth=0.5, alpha=0.5)\n",
    "        plt.xlabel('CPU time cost (sec)')\n",
    "        plt.ylabel('Density')\n",
    "        plt.legend()\n",
    "        \n",
    "        fda_df = df_bias[df_bias['fda_name'] != 'synchronous']\n",
    "        sync_df = df_bias[df_bias['fda_name'] == 'synchronous']\n",
    "        info = f\"gm, naive, linear, sketch - bs : {fda_df['batch_size'].unique()}  ,  synchronous - bs: {sync_df['batch_size'].unique()}\\n\"\n",
    "        plt.suptitle(info+bias_title)\n",
    "        \n",
    "        plt.tight_layout()\n",
    "\n",
    "        pdf.savefig(plt.gcf()) # Save the current figure\n",
    "        \n",
    "        # Close the current figure to prevent it from being displayed in the notebook\n",
    "        plt.close()\n",
    "    pdf.close()"
   ]
  },
  {
   "cell_type": "markdown",
   "id": "a9ff1f1c-c631-4d65-acc9-7d3e48ccbb2d",
   "metadata": {},
   "source": [
    "## Total CPU cost / Comm Cost (time) - ratio "
   ]
  },
  {
   "cell_type": "code",
   "execution_count": 46,
   "id": "0b5fafd2-8b6e-41c2-b560-4d3b8d22289e",
   "metadata": {
    "tags": []
   },
   "outputs": [],
   "source": [
    "def kde_comm_cpu_time_cost_ratio(df, filename, x_log=True):\n",
    "    \n",
    "    if x_log:\n",
    "        log_scale = (True, False)\n",
    "    else:\n",
    "        log_scale = False\n",
    "        \n",
    "    plt.rcParams['font.size'] = 20\n",
    "    plt.rcParams['legend.fontsize'] = 12\n",
    "    \n",
    "    pdf = PdfPages(filename)\n",
    "    \n",
    "    biases = sorted(df['bias'].unique(), reverse=True)[::-1]\n",
    "\n",
    "    for bias in biases:\n",
    "        \n",
    "        if pd.isna(bias):\n",
    "            mask = df['bias'].isna()\n",
    "            bias_title = f'Bias: {bias}'\n",
    "        elif bias > 0:\n",
    "            mask = df['bias'] == bias\n",
    "            bias_title = f'Bias: {bias}'\n",
    "        else:\n",
    "            mask = df['bias'] == bias\n",
    "            bias_title = f'Bias: only label {one_label_bias[bias]}'\n",
    "            \n",
    "        df_bias = df[mask]\n",
    "        \n",
    "        if len(df_bias['fda_name'].unique()) < 2:\n",
    "            continue\n",
    "    \n",
    "        fig, axs = plt.subplots(1, 2, figsize=(20, 8))\n",
    "\n",
    "        for fda_name in fda_names:\n",
    "            df_fda = df_bias[df_bias['fda_name'] == fda_name]\n",
    "            \n",
    "            if df_fda.empty:\n",
    "                continue\n",
    "            \n",
    "            common_channel_ratio_df = df_fda['cpu_time_cost'] / df_fda['common_channel_communication_time_cost']\n",
    "            sns.kdeplot(common_channel_ratio_df, label=fda_name, ax=axs[0], color=base_colors[fda_name], log_scale=log_scale, **sns_params)\n",
    "\n",
    "            hypercube_ratio_df = df_fda['cpu_time_cost'] / df_fda['hypercube_communication_time_cost']\n",
    "            sns.kdeplot(hypercube_ratio_df, label=fda_name, ax=axs[1], color=base_colors[fda_name], log_scale=log_scale, **sns_params)\n",
    "\n",
    "\n",
    "        if not x_log:\n",
    "            axs[0].set_xlim(left=0)\n",
    "        axs[0].set_xlabel('CPU Time Cost / Comm. Time Cost')\n",
    "        axs[0].set_ylabel('Density')\n",
    "        axs[0].legend()\n",
    "        axs[0].set_title(\"Common Channel Communication Model\")\n",
    "        axs[0].grid(True, linestyle='--', linewidth=0.5, alpha=0.5)\n",
    "        axs[0].legend()\n",
    "\n",
    "        if not x_log:\n",
    "            axs[1].set_xlim(left=0)\n",
    "\n",
    "        axs[1].set_xlabel('CPU Time Cost / Comm. Time Cost')\n",
    "        axs[1].set_ylabel('Density')\n",
    "        axs[1].legend()\n",
    "        axs[1].set_title(\"Hypercube Communication Model\")\n",
    "        axs[1].grid(True, linestyle='--', linewidth=0.5, alpha=0.5)\n",
    "        axs[1].legend()\n",
    "        \n",
    "        fda_df = df_bias[df_bias['fda_name'] != 'synchronous']\n",
    "        sync_df = df_bias[df_bias['fda_name'] == 'synchronous']\n",
    "        info = f\"gm, naive, linear, sketch - bs : {fda_df['batch_size'].unique()}  ,  synchronous - bs: {sync_df['batch_size'].unique()}\\n\"\n",
    "        fig.suptitle(info+bias_title)\n",
    "        \n",
    "        plt.tight_layout()\n",
    "\n",
    "        pdf.savefig(fig)\n",
    "\n",
    "        plt.close(fig)\n",
    "    \n",
    "        \n",
    "    pdf.close()\n",
    "    \n",
    "    plt.rcParams['font.size'] = 14\n",
    "    plt.rcParams['legend.fontsize'] = 12"
   ]
  },
  {
   "cell_type": "code",
   "execution_count": null,
   "id": "cb870a3a-ddbb-4e04-9f51-7745bb4c66b4",
   "metadata": {},
   "outputs": [],
   "source": []
  },
  {
   "cell_type": "markdown",
   "id": "365e9052-69dd-4303-bfeb-01e116c05b35",
   "metadata": {},
   "source": [
    "## Keep Hyper-parameters fixed and plot for filtered"
   ]
  },
  {
   "cell_type": "code",
   "execution_count": 47,
   "id": "d893dadb-18b0-400d-a36f-60bd92c2970c",
   "metadata": {
    "tags": []
   },
   "outputs": [],
   "source": [
    "def fda_methods_clients_time_cost(df, filename):\n",
    "    pdf = PdfPages(filename)\n",
    "    \n",
    "    batch_size_values = sorted(df['batch_size'].unique())\n",
    "    theta_values = sorted(df['theta'].unique())[1:]\n",
    "    \n",
    "    biases = sorted(df['bias'].unique(), reverse=True)[::-1]\n",
    "\n",
    "    for bias in biases:\n",
    "        \n",
    "        if pd.isna(bias):\n",
    "            mask = df['bias'].isna()\n",
    "            bias_title = f'Bias: {bias}'\n",
    "        elif bias > 0:\n",
    "            mask = df['bias'] == bias\n",
    "            bias_title = f'Bias: {bias}'\n",
    "        else:\n",
    "            mask = df['bias'] == bias\n",
    "            bias_title = f'Bias: only label {one_label_bias[bias]}'\n",
    "            \n",
    "        df_bias = df[mask]\n",
    "        \n",
    "        for batch_size in batch_size_values:\n",
    "            for theta in theta_values:\n",
    "\n",
    "                filtered_df = df_bias[(df_bias['theta'] == theta) & (df_bias['batch_size'] == batch_size)] \n",
    "\n",
    "                if filtered_df.empty:\n",
    "                    continue\n",
    "\n",
    "                fig, axs = plt.subplots(1, 2, figsize=(20, 6))\n",
    "\n",
    "                for fda_name in fda_names:\n",
    "\n",
    "                    if fda_name == 'synchronous':\n",
    "                        continue\n",
    "\n",
    "                    fda_data = filtered_df[filtered_df['fda_name'] == fda_name]\n",
    "\n",
    "                    if fda_data.empty:\n",
    "                        continue\n",
    "\n",
    "                    axs[0].plot(fda_data['num_clients'], fda_data['common_channel_time_cost'], marker='o', color=base_colors[fda_name], label=fda_name, markersize=3)\n",
    "                    axs[1].plot(fda_data['num_clients'], fda_data['hypercube_time_cost'], marker='o', color=base_colors[fda_name], label=fda_name, markersize=3)\n",
    "\n",
    "                synchronous_data = df_bias[(df_bias['batch_size'] == batch_size) & (df_bias['fda_name'] == 'synchronous')] \n",
    "\n",
    "                if not synchronous_data.empty:\n",
    "                    axs[0].plot(synchronous_data['num_clients'], synchronous_data['common_channel_time_cost'], marker='o', label='synchronous', color=base_colors['synchronous'], markersize=3)\n",
    "                    axs[1].plot(synchronous_data['num_clients'], synchronous_data['hypercube_time_cost'], marker='o', label='synchronous', color=base_colors['synchronous'], markersize=3)\n",
    "\n",
    "                if not axs[0].has_data():\n",
    "                    plt.close(fig)\n",
    "                    continue\n",
    "\n",
    "                # Set xticks every 5 units based on available values\n",
    "                min_clients = 5\n",
    "                max_clients = 60\n",
    "\n",
    "                x_ticks = list(range(min_clients, max_clients + 1, 5))\n",
    "\n",
    "                axs[0].set_yscale('log')\n",
    "                axs[0].set_xticks(x_ticks)\n",
    "                axs[0].set_xlabel('Number of clients')\n",
    "                axs[0].legend()\n",
    "                axs[0].set_title(\"Common Channel Communication Model\")\n",
    "                axs[0].set_ylabel('Time Cost')\n",
    "                axs[0].grid(True, linestyle='--', linewidth=0.5, alpha=0.5)\n",
    "\n",
    "                axs[1].set_yscale('log')\n",
    "                axs[1].set_xticks(x_ticks)\n",
    "                axs[1].set_xlabel('Number of clients')\n",
    "                axs[1].legend()\n",
    "                axs[1].set_title(\"Hypercube Communication Model\")\n",
    "                axs[1].set_ylabel('Time Cost')\n",
    "                axs[1].grid(True, linestyle='--', linewidth=0.5, alpha=0.5)\n",
    "\n",
    "                title = f'Batch Size : {batch_size} , $\\Theta$ : {theta} , {bias_title}'\n",
    "                fig.suptitle(title)\n",
    "\n",
    "                plt.tight_layout()\n",
    "\n",
    "                pdf.savefig(fig)\n",
    "\n",
    "                plt.close(fig)\n",
    "    pdf.close()"
   ]
  },
  {
   "cell_type": "code",
   "execution_count": 48,
   "id": "7dfd80c9-0fcc-4e19-828e-89fe2f9f6152",
   "metadata": {
    "tags": []
   },
   "outputs": [],
   "source": [
    "def fda_methods_clients_comm_cost(df, filename):\n",
    "    pdf = PdfPages(filename)\n",
    "    \n",
    "    batch_size_values = sorted(df['batch_size'].unique())\n",
    "    theta_values = sorted(df['theta'].unique())[1:]\n",
    "    \n",
    "    biases = sorted(df['bias'].unique(), reverse=True)[::-1]\n",
    "    \n",
    "    aggr_schemes = df['aggr_scheme'].unique()  # new\n",
    "\n",
    "    for bias in biases:\n",
    "        \n",
    "        if pd.isna(bias):\n",
    "            mask = df['bias'].isna()\n",
    "            bias_title = f'Bias: {bias}'\n",
    "        elif bias > 0:\n",
    "            mask = df['bias'] == bias\n",
    "            bias_title = f'Bias: {bias}'\n",
    "        else:\n",
    "            mask = df['bias'] == bias\n",
    "            bias_title = f'Bias: only label {one_label_bias[bias]}'\n",
    "            \n",
    "        df_bias = df[mask]\n",
    "        \n",
    "        for batch_size in batch_size_values:\n",
    "            for theta in theta_values:\n",
    "\n",
    "                filtered_df = df_bias[(df_bias['theta'] == theta) & (df_bias['batch_size'] == batch_size)] \n",
    "\n",
    "                if filtered_df.empty:\n",
    "                    continue\n",
    "\n",
    "                plt.figure(figsize=(10, 6))\n",
    "                \n",
    "                for aggr_scheme in aggr_schemes:\n",
    "                    \n",
    "                    aggr_df = filtered_df[filtered_df['aggr_scheme'] == aggr_scheme]\n",
    "                    \n",
    "                    for fda_name in fda_names:\n",
    "                        \n",
    "                        name = f\"{fda_name}{aggr[aggr_scheme]}\"\n",
    "\n",
    "                        if fda_name == 'synchronous':\n",
    "                            continue\n",
    "\n",
    "                        fda_data = aggr_df[aggr_df['fda_name'] == fda_name]\n",
    "\n",
    "                        if fda_data.empty:\n",
    "                            continue\n",
    "\n",
    "                        plt.plot(fda_data['num_clients'], fda_data['total_communication_gb'], marker='o', color=base_colors[name], label=name, markersize=3)\n",
    "\n",
    "                synchronous_data = df_bias[(df_bias['batch_size'] == batch_size) & (df_bias['fda_name'] == 'synchronous')] \n",
    "\n",
    "                if not synchronous_data.empty:\n",
    "                    plt.plot(synchronous_data['num_clients'], synchronous_data['total_communication_gb'], marker='o', label='synchronous', color=base_colors['synchronous'], markersize=3)\n",
    "\n",
    "                # Set xticks every 5 units based on available values\n",
    "                min_clients = 5\n",
    "                max_clients = 60\n",
    "\n",
    "                x_ticks = list(range(min_clients, max_clients + 1, 5))\n",
    "\n",
    "                plt.yscale('log')\n",
    "                plt.xticks(x_ticks)\n",
    "                plt.xlabel('Number of clients')\n",
    "                plt.legend()\n",
    "                plt.ylabel('Communication (GB)')\n",
    "                plt.grid(True, linestyle='--', linewidth=0.5, alpha=0.5)\n",
    "\n",
    "                title = f'Batch Size : {batch_size} , $\\Theta$ : {theta} , {bias_title}'\n",
    "                plt.suptitle(title)\n",
    "\n",
    "                plt.tight_layout()\n",
    "\n",
    "                pdf.savefig(plt.gcf()) # Save the current figure\n",
    "        \n",
    "                # Close the current figure to prevent it from being displayed in the notebook\n",
    "                plt.close()\n",
    "    pdf.close()"
   ]
  },
  {
   "cell_type": "code",
   "execution_count": null,
   "id": "046289a7-ac22-469c-a56c-2386234cf8b9",
   "metadata": {},
   "outputs": [],
   "source": []
  },
  {
   "cell_type": "code",
   "execution_count": null,
   "id": "c37c4fad-2fdc-4ef8-ab84-04e9c0ce17b6",
   "metadata": {},
   "outputs": [],
   "source": []
  },
  {
   "cell_type": "code",
   "execution_count": null,
   "id": "3f414682-4401-44ce-891c-8bd0ff26341a",
   "metadata": {},
   "outputs": [],
   "source": []
  },
  {
   "cell_type": "code",
   "execution_count": 49,
   "id": "0e72a849-b20e-497b-8ec8-80b3040ff0c5",
   "metadata": {
    "tags": []
   },
   "outputs": [],
   "source": [
    "def fda_methods_clients_cpu_cost(df, filename):\n",
    "    pdf = PdfPages(filename)\n",
    "    \n",
    "    batch_size_values = sorted(df['batch_size'].unique())\n",
    "    theta_values = sorted(df['theta'].unique())[1:]\n",
    "    \n",
    "    biases = sorted(df['bias'].unique(), reverse=True)[::-1]\n",
    "\n",
    "    for bias in biases:\n",
    "        \n",
    "        if pd.isna(bias):\n",
    "            mask = df['bias'].isna()\n",
    "            bias_title = f'Bias: {bias}'\n",
    "        elif bias > 0:\n",
    "            mask = df['bias'] == bias\n",
    "            bias_title = f'Bias: {bias}'\n",
    "        else:\n",
    "            mask = df['bias'] == bias\n",
    "            bias_title = f'Bias: only label {one_label_bias[bias]}'\n",
    "            \n",
    "        df_bias = df[mask]\n",
    "        \n",
    "        for batch_size in batch_size_values:\n",
    "            for theta in theta_values:\n",
    "\n",
    "                filtered_df = df_bias[(df_bias['theta'] == theta) & (df_bias['batch_size'] == batch_size)] \n",
    "                    \n",
    "                if filtered_df.empty:\n",
    "                    continue\n",
    "\n",
    "                plt.figure(figsize=(10, 6))\n",
    "\n",
    "                for fda_name in fda_names:\n",
    "\n",
    "                    if fda_name == 'synchronous':\n",
    "                        continue\n",
    "\n",
    "                    fda_data = filtered_df[filtered_df['fda_name'] == fda_name]\n",
    "\n",
    "                    if fda_data.empty:\n",
    "                        continue\n",
    "\n",
    "                    plt.plot(fda_data['num_clients'], fda_data['cpu_time_cost'], marker='o', color=base_colors[fda_name], label=fda_name, markersize=3)\n",
    "\n",
    "                synchronous_data = df_bias[(df_bias['batch_size'] == batch_size) & (df_bias['fda_name'] == 'synchronous')] \n",
    "\n",
    "                if not synchronous_data.empty:\n",
    "                    plt.plot(synchronous_data['num_clients'], synchronous_data['cpu_time_cost'], marker='o', label='synchronous', color=base_colors['synchronous'], markersize=3)\n",
    "\n",
    "                # Set xticks every 5 units based on available values\n",
    "                min_clients = 5\n",
    "                max_clients = 60\n",
    "\n",
    "                x_ticks = list(range(min_clients, max_clients + 1, 5))\n",
    "\n",
    "                #plt.yscale('log')\n",
    "                plt.xticks(x_ticks)\n",
    "                plt.xlabel('Number of clients')\n",
    "                plt.legend()\n",
    "                plt.ylabel('CPU Time Cost (sec)')\n",
    "                plt.grid(True, linestyle='--', linewidth=0.5, alpha=0.5)\n",
    "\n",
    "                title = f'Batch Size : {batch_size} , $\\Theta$ : {theta} , {bias_title}'\n",
    "                plt.suptitle(title)\n",
    "\n",
    "                plt.tight_layout()\n",
    "\n",
    "                pdf.savefig(plt.gcf()) # Save the current figure\n",
    "        \n",
    "                # Close the current figure to prevent it from being displayed in the notebook\n",
    "                plt.close()\n",
    "    pdf.close()"
   ]
  },
  {
   "cell_type": "code",
   "execution_count": null,
   "id": "ee2fe9ae-df50-490e-9211-a4304dc77c9a",
   "metadata": {},
   "outputs": [],
   "source": []
  },
  {
   "cell_type": "code",
   "execution_count": null,
   "id": "a9a76c3a-20ee-41a7-9172-fb8f41d8898c",
   "metadata": {},
   "outputs": [],
   "source": []
  },
  {
   "cell_type": "code",
   "execution_count": 50,
   "id": "00863691-f2de-4026-9390-ff9b10831aaf",
   "metadata": {
    "tags": []
   },
   "outputs": [],
   "source": [
    "def fda_methods_theta_time_cost(df, filename):\n",
    "    pdf = PdfPages(filename)\n",
    "    \n",
    "    batch_size_values = sorted(df['batch_size'].unique())\n",
    "    num_clients_values = sorted(df['num_clients'].unique())\n",
    "    \n",
    "    biases = sorted(df['bias'].unique(), reverse=True)[::-1]\n",
    "\n",
    "    for bias in biases:\n",
    "        \n",
    "        if pd.isna(bias):\n",
    "            mask = df['bias'].isna()\n",
    "            bias_title = f'Bias: {bias}'\n",
    "        elif bias > 0:\n",
    "            mask = df['bias'] == bias\n",
    "            bias_title = f'Bias: {bias}'\n",
    "        else:\n",
    "            mask = df['bias'] == bias\n",
    "            bias_title = f'Bias: only label {one_label_bias[bias]}'\n",
    "            \n",
    "        df_bias = df[mask]\n",
    "\n",
    "        for batch_size in batch_size_values:\n",
    "            for num_clients in num_clients_values:\n",
    "\n",
    "                filtered_df = df_bias[(df_bias['batch_size'] == batch_size) & (df_bias['num_clients'] == num_clients)] \n",
    "\n",
    "                if filtered_df[filtered_df['fda_name'] != 'synchronous'].empty:\n",
    "                    continue\n",
    "\n",
    "                fig, axs = plt.subplots(1, 2, figsize=(20, 6))\n",
    "\n",
    "                for fda_name in fda_names:\n",
    "\n",
    "                    if fda_name == 'synchronous':\n",
    "                        continue\n",
    "\n",
    "                    fda_data = filtered_df[filtered_df['fda_name'] == fda_name]\n",
    "\n",
    "                    if fda_data.empty:\n",
    "                        continue\n",
    "\n",
    "                    axs[0].plot(fda_data['theta'], fda_data['common_channel_time_cost'], marker='o', label=fda_name, color=base_colors[fda_name], markersize=3)\n",
    "                    axs[1].plot(fda_data['theta'], fda_data['hypercube_time_cost'], marker='o', label=fda_name, color=base_colors[fda_name], markersize=3)\n",
    "\n",
    "                synchronous_data = df_bias[(df_bias['batch_size'] == batch_size) & (df_bias['fda_name'] == 'synchronous') & (df_bias['num_clients'] == num_clients)] \n",
    "\n",
    "                if not synchronous_data.empty:\n",
    "                    axs[0].axhline(y=synchronous_data['common_channel_time_cost'].iloc[0], label='synchronous', marker='o', color=base_colors['synchronous'], markersize=3)\n",
    "                    axs[1].axhline(y=synchronous_data['hypercube_time_cost'].iloc[0], label='synchronous', marker='o', color=base_colors['synchronous'], markersize=3)\n",
    "\n",
    "                if not axs[0].has_data():\n",
    "                    plt.close(fig)\n",
    "                    continue\n",
    "\n",
    "                axs[0].set_yscale('log')\n",
    "                axs[0].set_xlabel('Theta')\n",
    "                axs[0].legend()\n",
    "                axs[0].set_title(\"Common Channel Communication Model\")\n",
    "                axs[0].set_ylabel('Time Cost')\n",
    "                axs[0].grid(True, linestyle='--', linewidth=0.5, alpha=0.5)\n",
    "\n",
    "                axs[1].set_yscale('log')\n",
    "                axs[1].set_xlabel('Theta')\n",
    "                axs[1].legend()\n",
    "                axs[1].set_title(\"Hypercube Communication Model\")\n",
    "                axs[1].set_ylabel('Time Cost')\n",
    "                axs[1].grid(True, linestyle='--', linewidth=0.5, alpha=0.5)\n",
    "\n",
    "                title = f'Batch Size : {batch_size} , Num Clients : {num_clients} , {bias_title}'\n",
    "                fig.suptitle(title)\n",
    "\n",
    "                plt.tight_layout()\n",
    "\n",
    "                pdf.savefig(fig)\n",
    "\n",
    "                plt.close(fig)\n",
    "    pdf.close()"
   ]
  },
  {
   "cell_type": "code",
   "execution_count": 51,
   "id": "186b75fa-2fa1-42be-9c46-5dfd0072fb8a",
   "metadata": {
    "tags": []
   },
   "outputs": [],
   "source": [
    "def fda_methods_theta_comm_cost(df, filename):\n",
    "    pdf = PdfPages(filename)\n",
    "    \n",
    "    batch_size_values = sorted(df['batch_size'].unique())\n",
    "    num_clients_values = sorted(df['num_clients'].unique())\n",
    "    \n",
    "    biases = sorted(df['bias'].unique(), reverse=True)[::-1]\n",
    "\n",
    "    for bias in biases:\n",
    "        \n",
    "        if pd.isna(bias):\n",
    "            mask = df['bias'].isna()\n",
    "            bias_title = f'Bias: {bias}'\n",
    "        elif bias > 0:\n",
    "            mask = df['bias'] == bias\n",
    "            bias_title = f'Bias: {bias}'\n",
    "        else:\n",
    "            mask = df['bias'] == bias\n",
    "            bias_title = f'Bias: only label {one_label_bias[bias]}'\n",
    "            \n",
    "        df_bias = df[mask]\n",
    "\n",
    "        for batch_size in batch_size_values:\n",
    "            for num_clients in num_clients_values:\n",
    "\n",
    "                filtered_df = df_bias[(df_bias['batch_size'] == batch_size) & (df_bias['num_clients'] == num_clients)] \n",
    "\n",
    "                if filtered_df[filtered_df['fda_name'] != 'synchronous'].empty:\n",
    "                    continue\n",
    "\n",
    "                plt.figure(figsize=(10, 6))\n",
    "\n",
    "                for fda_name in fda_names:\n",
    "\n",
    "                    if fda_name == 'synchronous':\n",
    "                        continue\n",
    "\n",
    "                    fda_data = filtered_df[filtered_df['fda_name'] == fda_name]\n",
    "\n",
    "                    if fda_data.empty:\n",
    "                        continue\n",
    "\n",
    "                    plt.plot(fda_data['theta'], fda_data['total_communication_gb'], marker='o', label=fda_name, color=base_colors[fda_name], markersize=3)\n",
    "\n",
    "                synchronous_data = df_bias[(df_bias['batch_size'] == batch_size) & (df_bias['fda_name'] == 'synchronous') & (df_bias['num_clients'] == num_clients)] \n",
    "\n",
    "                if not synchronous_data.empty:\n",
    "                    plt.axhline(y=synchronous_data['total_communication_gb'].iloc[0], label='synchronous', marker='o', color=base_colors['synchronous'], markersize=3)\n",
    "\n",
    "                plt.yscale('log')\n",
    "                plt.xlabel('Theta')\n",
    "                plt.legend()\n",
    "                plt.ylabel('Communication Cost (GB)')\n",
    "                plt.grid(True, linestyle='--', linewidth=0.5, alpha=0.5)\n",
    "\n",
    "                title = f'Batch Size : {batch_size} , Num Clients : {num_clients} , {bias_title}'\n",
    "                plt.suptitle(title)\n",
    "\n",
    "                plt.tight_layout()\n",
    "\n",
    "                pdf.savefig(plt.gcf())\n",
    "\n",
    "                plt.close()\n",
    "    pdf.close()"
   ]
  },
  {
   "cell_type": "code",
   "execution_count": 52,
   "id": "86127ef8-3dad-4526-b837-755405050aca",
   "metadata": {
    "tags": []
   },
   "outputs": [],
   "source": [
    "def fda_methods_theta_cpu_cost(df, filename):\n",
    "    pdf = PdfPages(filename)\n",
    "    \n",
    "    batch_size_values = sorted(df['batch_size'].unique())\n",
    "    num_clients_values = sorted(df['num_clients'].unique())\n",
    "    \n",
    "    biases = sorted(df['bias'].unique(), reverse=True)[::-1]\n",
    "\n",
    "    for bias in biases:\n",
    "        \n",
    "        if pd.isna(bias):\n",
    "            mask = df['bias'].isna()\n",
    "            bias_title = f'Bias: {bias}'\n",
    "        elif bias > 0:\n",
    "            mask = df['bias'] == bias\n",
    "            bias_title = f'Bias: {bias}'\n",
    "        else:\n",
    "            mask = df['bias'] == bias\n",
    "            bias_title = f'Bias: only label {one_label_bias[bias]}'\n",
    "            \n",
    "        df_bias = df[mask]\n",
    "\n",
    "        for batch_size in batch_size_values:\n",
    "            for num_clients in num_clients_values:\n",
    "\n",
    "                filtered_df = df_bias[(df_bias['batch_size'] == batch_size) & (df_bias['num_clients'] == num_clients)] \n",
    "\n",
    "                if filtered_df[filtered_df['fda_name'] != 'synchronous'].empty:\n",
    "                    continue\n",
    "\n",
    "                plt.figure(figsize=(10, 6))\n",
    "\n",
    "                for fda_name in fda_names:\n",
    "\n",
    "                    if fda_name == 'synchronous':\n",
    "                        continue\n",
    "\n",
    "                    fda_data = filtered_df[filtered_df['fda_name'] == fda_name]\n",
    "\n",
    "                    if fda_data.empty:\n",
    "                        continue\n",
    "\n",
    "                    plt.plot(fda_data['theta'], fda_data['cpu_time_cost'], marker='o', label=fda_name, color=base_colors[fda_name], markersize=3)\n",
    "\n",
    "                synchronous_data = df_bias[(df_bias['batch_size'] == batch_size) & (df_bias['fda_name'] == 'synchronous') & (df_bias['num_clients'] == num_clients)] \n",
    "\n",
    "                if not synchronous_data.empty:\n",
    "                    plt.axhline(y=synchronous_data['cpu_time_cost'].iloc[0], label='synchronous', marker='o', color=base_colors['synchronous'], markersize=3)\n",
    "\n",
    "                #plt.yscale('log')\n",
    "                plt.xlabel('Theta')\n",
    "                plt.legend()\n",
    "                plt.ylabel('CPU Time Cost (sec)')\n",
    "                plt.grid(True, linestyle='--', linewidth=0.5, alpha=0.5)\n",
    "\n",
    "                title = f'Batch Size : {batch_size} , Num Clients : {num_clients} , {bias_title}'\n",
    "                plt.suptitle(title)\n",
    "\n",
    "                plt.tight_layout()\n",
    "\n",
    "                pdf.savefig(plt.gcf())\n",
    "\n",
    "                plt.close()\n",
    "    pdf.close()"
   ]
  },
  {
   "cell_type": "markdown",
   "id": "35569ad5-0ead-4036-af4e-3164eb070745",
   "metadata": {},
   "source": [
    "# Per accuracy"
   ]
  },
  {
   "cell_type": "code",
   "execution_count": 53,
   "id": "1204ab7f-c590-4fc2-8502-7f05c59389cc",
   "metadata": {
    "tags": []
   },
   "outputs": [],
   "source": [
    "def accuracies_plots_clients(df, filename, accuracies):\n",
    "    pdf = PdfPages(filename)\n",
    "    \n",
    "    theta_values = sorted(df['theta'].unique())[1:]\n",
    "\n",
    "    biases = sorted(df['bias'].unique(), reverse=True)[::-1]\n",
    "\n",
    "    clients = list(range(5, 60 + 1, 5))\n",
    "    \n",
    "    batch_sizes = df['batch_size'].unique()\n",
    "\n",
    "    cmap = matplotlib.colormaps['tab20b']\n",
    "    colors_dict = {\n",
    "        num_clients: color \n",
    "        for num_clients, color in zip(clients, cmap(np.linspace(0, 1, len(num_clients_values))))\n",
    "    }\n",
    "\n",
    "    for bias in biases:\n",
    "\n",
    "        if pd.isna(bias):\n",
    "            mask = df['bias'].isna()\n",
    "            bias_title = f'Bias: {bias}'\n",
    "        elif bias > 0:\n",
    "            mask = df['bias'] == bias\n",
    "            bias_title = f'Bias: {bias}'\n",
    "        else:\n",
    "            mask = df['bias'] == bias\n",
    "            bias_title = f'Bias: only label {one_label_bias[bias]}'\n",
    "\n",
    "        df_bias = df[mask]\n",
    "        \n",
    "        # 1. Synchronous ALL\n",
    "        \n",
    "        df_sync = df_bias[df_bias['fda_name'] == 'synchronous']\n",
    "        \n",
    "        for bs in sorted(df_sync['batch_size'].unique()):\n",
    "            \n",
    "            bs_df = df_sync[df_sync['batch_size'] == bs]\n",
    "\n",
    "            dataframes_for_acc = []\n",
    "\n",
    "            plt.figure(figsize=(10, 6))\n",
    "\n",
    "            for acc in accuracies:\n",
    "\n",
    "                filtered_df = bs_df[(bs_df.accuracy > acc)]\n",
    "                idx = filtered_df.groupby(['fda_name', 'num_clients', 'batch_size', 'theta', 'bias', 'aggr_scheme'], dropna=False)['epoch'].idxmin()\n",
    "                filtered_df = filtered_df.loc[idx]\n",
    "\n",
    "                dataframes_for_acc.append(filtered_df)\n",
    "\n",
    "            df_concat = pd.concat(dataframes_for_acc)\n",
    "\n",
    "            for num_clients in clients:\n",
    "                client_df = df_concat[df_concat['num_clients'] == num_clients]\n",
    "\n",
    "                plt.plot(client_df['total_communication_gb'], client_df['accuracy'], marker='o', color=colors_dict[num_clients], label=num_clients, markersize=3)\n",
    "\n",
    "            if df_concat.empty:\n",
    "                plt.close()\n",
    "                continue\n",
    "\n",
    "            plt.xscale('log')\n",
    "            plt.ylabel('Accuracy')\n",
    "            plt.legend()\n",
    "            plt.xlabel('Communication Cost (GB)')\n",
    "            plt.grid(True, linestyle='--', linewidth=0.5, alpha=0.5)\n",
    "\n",
    "            title = f'Batch Size : {bs} , {bias_title}'\n",
    "            plt.title(title)\n",
    "            plt.suptitle('synchronous')\n",
    "\n",
    "            pdf.savefig(plt.gcf())\n",
    "\n",
    "            plt.close()\n",
    "\n",
    "        #plt.figure(figsize=(10, 6))\n",
    "        \n",
    "        not_sync_df = df_bias[df_bias['fda_name'] != 'synchronous']\n",
    "\n",
    "        for theta in theta_values:\n",
    "            theta_df = not_sync_df[not_sync_df['theta'] == theta]\n",
    "            \n",
    "            for bs in sorted(theta_df['batch_size'].unique()):\n",
    "                bs_df = theta_df[theta_df['batch_size'] == bs]\n",
    "\n",
    "                for fda_name in fda_names:\n",
    "\n",
    "                    fda_df = bs_df[bs_df['fda_name'] == fda_name]\n",
    "\n",
    "                    dataframes_for_acc = []\n",
    "\n",
    "                    plt.figure(figsize=(10, 6))\n",
    "\n",
    "                    for acc in accuracies:\n",
    "\n",
    "                        filtered_df = fda_df[(fda_df.accuracy > acc)]\n",
    "                        idx = filtered_df.groupby(['fda_name', 'num_clients', 'batch_size', 'theta', 'bias'], dropna=False)['epoch'].idxmin()\n",
    "                        filtered_df = filtered_df.loc[idx]\n",
    "\n",
    "                        dataframes_for_acc.append(filtered_df)\n",
    "\n",
    "                    df_concat = pd.concat(dataframes_for_acc)\n",
    "\n",
    "                    for num_clients in clients:\n",
    "                        client_df = df_concat[df_concat['num_clients'] == num_clients]\n",
    "\n",
    "                        plt.plot(client_df['total_communication_gb'], client_df['accuracy'], marker='o', color=colors_dict[num_clients], label=num_clients, markersize=3)\n",
    "\n",
    "                    if df_concat.empty:\n",
    "                        plt.close()\n",
    "                        continue\n",
    "\n",
    "                    plt.xscale('log')\n",
    "                    plt.ylabel('Accuracy')\n",
    "                    plt.legend()\n",
    "                    plt.xlabel('Communication Cost (GB)')\n",
    "                    plt.grid(True, linestyle='--', linewidth=0.5, alpha=0.5)\n",
    "\n",
    "                    title = f'$Theta$ : {theta} , Batch Size: {bs} , {bias_title}'\n",
    "                    plt.title(title)\n",
    "                    plt.suptitle(fda_name)\n",
    "\n",
    "                    pdf.savefig(plt.gcf())\n",
    "\n",
    "                    plt.close()\n",
    "    pdf.close()"
   ]
  },
  {
   "cell_type": "code",
   "execution_count": null,
   "id": "22009766-512d-4de7-833f-2203845a7b9d",
   "metadata": {},
   "outputs": [],
   "source": []
  },
  {
   "cell_type": "code",
   "execution_count": null,
   "id": "d6b0d859-73b0-4a7e-aa36-62a8e00ef916",
   "metadata": {},
   "outputs": [],
   "source": []
  },
  {
   "cell_type": "code",
   "execution_count": null,
   "id": "677958f4-c46d-4c5d-909b-4b95bf85c57e",
   "metadata": {},
   "outputs": [],
   "source": []
  },
  {
   "cell_type": "code",
   "execution_count": 54,
   "id": "4e5d4cc6-9f8e-4788-adaa-c7d1215c56cc",
   "metadata": {
    "tags": []
   },
   "outputs": [],
   "source": [
    "def accuracies_plots(df, filename, accuracies):\n",
    "    pdf = PdfPages(filename)\n",
    "\n",
    "    biases = sorted(df['bias'].unique(), reverse=True)[::-1]\n",
    "\n",
    "    for bias in biases:\n",
    "\n",
    "        if pd.isna(bias):\n",
    "            mask = df['bias'].isna()\n",
    "            bias_title = f'Bias: {bias}'\n",
    "        elif bias > 0:\n",
    "            mask = df['bias'] == bias\n",
    "            bias_title = f'Bias: {bias}'\n",
    "        else:\n",
    "            mask = df['bias'] == bias\n",
    "            bias_title = f'Bias: only label {one_label_bias[bias]}'\n",
    "\n",
    "        df_bias = df[mask]\n",
    "        \n",
    "        for bs in sorted(df_bias['batch_size'].unique()):\n",
    "\n",
    "            bs_df = df_bias[df_bias['batch_size'] == bs]\n",
    "                \n",
    "            for theta in sorted(bs_df['theta'].unique())[1:]:\n",
    "\n",
    "                theta_df = bs_df[bs_df['theta'] == theta]\n",
    "\n",
    "                for client in sorted(theta_df['num_clients'].unique()):\n",
    "\n",
    "                    client_df = theta_df[theta_df['num_clients'] == client]\n",
    "\n",
    "                    if client_df.empty:\n",
    "                        continue\n",
    "\n",
    "                    plt.figure(figsize=(10, 6))\n",
    "\n",
    "                    for fda_name in fda_names:\n",
    "\n",
    "                        if fda_name == 'synchronous':\n",
    "                            continue\n",
    "\n",
    "                        fda_df = client_df[client_df['fda_name'] == fda_name]\n",
    "\n",
    "                        if fda_df.empty:\n",
    "                            continue\n",
    "\n",
    "                        dataframes_for_acc = []\n",
    "                        have = False\n",
    "\n",
    "                        for acc in accuracies:\n",
    "\n",
    "                            filtered_df = fda_df[(fda_df.accuracy > acc)]\n",
    "\n",
    "                            if filtered_df.empty:\n",
    "                                continue\n",
    "                                \n",
    "                            have = True\n",
    "\n",
    "                            idx = filtered_df['epoch'].idxmin()\n",
    "                            filtered_df = filtered_df.loc[idx]\n",
    "\n",
    "                            dataframes_for_acc.append(filtered_df)\n",
    "\n",
    "                        if not have:\n",
    "                            continue\n",
    "                            \n",
    "                        df_concat = pd.concat(dataframes_for_acc)\n",
    "\n",
    "                        plt.plot(df_concat['total_communication_gb'], df_concat['accuracy'], marker='o', color=base_colors[fda_name], label=fda_name, markersize=3)\n",
    "\n",
    "                    synchronous_df = df_bias[(df_bias['num_clients'] == client) & (df_bias['fda_name'] == 'synchronous')]\n",
    "                    \n",
    "                    for b in sorted(synchronous_df['batch_size'].unique()):\n",
    "\n",
    "                        sync_df = synchronous_df[synchronous_df['batch_size'] == b]\n",
    "\n",
    "                        if sync_df.empty:\n",
    "                            continue\n",
    "\n",
    "                        dataframes_for_acc = []\n",
    "                        \n",
    "                        have = False\n",
    "\n",
    "                        for acc in accuracies:\n",
    "\n",
    "                            filtered_df = sync_df[(sync_df.accuracy > acc)]\n",
    "\n",
    "                            if filtered_df.empty:\n",
    "                                continue\n",
    "                                \n",
    "                            have = True\n",
    "\n",
    "                            idx = filtered_df['epoch'].idxmin()\n",
    "                            filtered_df = filtered_df.loc[idx]\n",
    "\n",
    "                            dataframes_for_acc.append(filtered_df)\n",
    "\n",
    "                            \n",
    "                        if not have:\n",
    "                            continue \n",
    "                            \n",
    "                        df_concat = pd.concat(dataframes_for_acc)\n",
    "\n",
    "                        plt.plot(df_concat['total_communication_gb'], df_concat['accuracy'], color=sync_colors[b], marker='o', label=f'synchronous b{b}', markersize=3)\n",
    "\n",
    "                    plt.xscale('log')\n",
    "                    plt.ylabel('Accuracy')\n",
    "                    plt.legend()\n",
    "                    plt.xlabel('Communication Cost (GB)')\n",
    "                    plt.grid(True, linestyle='--', linewidth=0.5, alpha=0.5)\n",
    "\n",
    "                    title = f'$Theta$ : {theta} , Batch Size: {bs} , {bias_title} , Num Clients: {client}'\n",
    "                    plt.title(title)\n",
    "                    plt.suptitle(fda_name)\n",
    "\n",
    "                    pdf.savefig(plt.gcf())\n",
    "\n",
    "                    plt.close()\n",
    "    pdf.close()"
   ]
  },
  {
   "cell_type": "code",
   "execution_count": null,
   "id": "13208dde-1643-4603-85bb-3df7a1d71677",
   "metadata": {},
   "outputs": [],
   "source": []
  },
  {
   "cell_type": "code",
   "execution_count": null,
   "id": "fedeb5d4-3825-46e0-bc88-7f792ead34b0",
   "metadata": {},
   "outputs": [],
   "source": []
  },
  {
   "cell_type": "code",
   "execution_count": null,
   "id": "948eb1bb-f061-479a-b01c-15bef5775cdc",
   "metadata": {},
   "outputs": [],
   "source": []
  },
  {
   "cell_type": "code",
   "execution_count": null,
   "id": "a06cc524-496d-41e2-be22-591fe3135b5c",
   "metadata": {},
   "outputs": [],
   "source": []
  },
  {
   "cell_type": "code",
   "execution_count": null,
   "id": "9aba26ea-bb86-4c7a-ab27-47213b73c6fb",
   "metadata": {},
   "outputs": [],
   "source": []
  },
  {
   "cell_type": "code",
   "execution_count": null,
   "id": "3bba28ab-4a44-4746-9e82-889d95856d9f",
   "metadata": {},
   "outputs": [],
   "source": []
  },
  {
   "cell_type": "code",
   "execution_count": null,
   "id": "f0b649d1-7325-42fb-9d71-d1cb47b10c5d",
   "metadata": {},
   "outputs": [],
   "source": []
  },
  {
   "cell_type": "code",
   "execution_count": 55,
   "id": "0ffbbe58-9f45-4213-be89-f8a8e3b31e2e",
   "metadata": {
    "tags": []
   },
   "outputs": [],
   "source": [
    "def per_layer_invest_fda_methods_clients_comm_cost(df, filename):\n",
    "    pdf = PdfPages(filename)\n",
    "    \n",
    "    batch_size_values = [32]\n",
    "    theta_values = [100.]\n",
    "    \n",
    "    biases = [np.NaN]\n",
    "    \n",
    "    per_layers = [True, False]\n",
    "\n",
    "    for bias in biases:\n",
    "        \n",
    "        if pd.isna(bias):\n",
    "            mask = df['bias'].isna()\n",
    "            bias_title = f'Bias: {bias}'\n",
    "        elif bias > 0:\n",
    "            mask = df['bias'] == bias\n",
    "            bias_title = f'Bias: {bias}'\n",
    "        else:\n",
    "            mask = df['bias'] == bias\n",
    "            bias_title = f'Bias: only label {one_label_bias[bias]}'\n",
    "            \n",
    "        df_bias = df[mask]\n",
    "        \n",
    "        for batch_size in batch_size_values:\n",
    "            for theta in theta_values:\n",
    "\n",
    "                filtered_df = df_bias[(df_bias['theta'] == theta) & (df_bias['batch_size'] == batch_size)] \n",
    "\n",
    "                if filtered_df.empty:\n",
    "                    continue\n",
    "\n",
    "                plt.figure(figsize=(10, 6))\n",
    "                \n",
    "                for per_layer in per_layers:\n",
    "                    \n",
    "                    per_layer_df = filtered_df[filtered_df['per_layer'] == per_layer]\n",
    "                    # --------------------------------------------------------------------\n",
    "                    for fda_name in fda_names:\n",
    "                        \n",
    "                        name = f\"{fda_name}{per_layer_dict[per_layer]}\"\n",
    "\n",
    "                        if fda_name == 'synchronous':\n",
    "                            continue\n",
    "\n",
    "                        fda_data = per_layer_df[per_layer_df['fda_name'] == fda_name]\n",
    "\n",
    "                        if fda_data.empty:\n",
    "                            continue\n",
    "\n",
    "                        plt.plot(fda_data['num_clients'], fda_data['total_communication_gb'], marker='o', color=base_colors_per_layer[name], label=name, markersize=3)\n",
    "\n",
    "                synchronous_data = df_bias[(df_bias['batch_size'] == batch_size) & (df_bias['fda_name'] == 'synchronous')] \n",
    "\n",
    "                if not synchronous_data.empty:\n",
    "                    plt.plot(synchronous_data['num_clients'], synchronous_data['total_communication_gb'], marker='o', label='synchronous', color=base_colors['synchronous'], markersize=3)\n",
    "\n",
    "                # Set xticks every 5 units based on available values\n",
    "                min_clients = 5\n",
    "                max_clients = 60\n",
    "\n",
    "                x_ticks = list(range(min_clients, max_clients + 1, 5))\n",
    "\n",
    "                plt.yscale('log')\n",
    "                plt.xticks(x_ticks)\n",
    "                plt.xlabel('Number of clients')\n",
    "                plt.legend()\n",
    "                plt.ylabel('Communication (GB)')\n",
    "                plt.grid(True, linestyle='--', linewidth=0.5, alpha=0.5)\n",
    "\n",
    "                title = f'Batch Size : {batch_size} , $\\Theta$ : {theta} , {bias_title}'\n",
    "                plt.suptitle(title)\n",
    "\n",
    "                plt.tight_layout()\n",
    "\n",
    "                pdf.savefig(plt.gcf()) # Save the current figure\n",
    "        \n",
    "                # Close the current figure to prevent it from being displayed in the notebook\n",
    "                plt.close()\n",
    "    pdf.close()"
   ]
  },
  {
   "cell_type": "code",
   "execution_count": 138,
   "id": "18451c60-4644-4c32-93d4-2de4d2ce1481",
   "metadata": {
    "tags": []
   },
   "outputs": [],
   "source": [
    "def per_layer_tot_rounds(df, filename):\n",
    "    pdf = PdfPages(filename)\n",
    "    \n",
    "    df_per_layer = df[df.per_layer]\n",
    "    clients = list(range(5, 60 + 1, 5))\n",
    "    epochs = [(0, 50), (50, 100)]\n",
    "    \n",
    "    s = sum(adv_layer_count)\n",
    "    n = len(adv_layer_count)\n",
    "    adv_perc_layer_w = [100 * c_w / s for c_w in adv_layer_count]\n",
    "    \n",
    "    for c in clients:\n",
    "        df_c = df_per_layer[df_per_layer.num_clients == c]\n",
    "            \n",
    "        plt.figure(figsize=(10, 6))\n",
    "\n",
    "        for layer_i, layer_perc in enumerate(adv_perc_layer_w):\n",
    "\n",
    "            plt.plot(df_c['epoch'], df_c['total_rounds'].str[layer_i], marker='o', label=f'layer w/ {layer_perc:.1f}%', markersize=3)\n",
    "\n",
    "\n",
    "        plt.xlabel('Epoch')\n",
    "        plt.legend()\n",
    "        plt.ylabel('Total Rounds')\n",
    "        plt.grid(True, linestyle='--', linewidth=0.5, alpha=0.5)\n",
    "\n",
    "        title = f'Batch Size : 32 , $\\Theta$ : 100 , bias : NaN, Num Clients : {c}'\n",
    "        plt.suptitle(title)\n",
    "\n",
    "        pdf.savefig(plt.gcf()) # Save the current figure\n",
    "\n",
    "        # Close the current figure to prevent it from being displayed in the notebook\n",
    "        plt.close()\n",
    "        \n",
    "    pdf.close()"
   ]
  },
  {
   "cell_type": "code",
   "execution_count": 144,
   "id": "f981d396-8e76-4dcd-8ee4-c3b48dc65f12",
   "metadata": {
    "tags": []
   },
   "outputs": [],
   "source": [
    "def per_layer_rounds(df, filename):\n",
    "    pdf = PdfPages(filename)\n",
    "    \n",
    "    df_per_layer = df[df.per_layer]\n",
    "    clients = list(range(5, 60 + 1, 5))\n",
    "    epochs = [(0, 50), (50, 100)]\n",
    "    \n",
    "    s = sum(adv_layer_count)\n",
    "    n = len(adv_layer_count)\n",
    "    adv_perc_layer_w = [100 * c_w / s for c_w in adv_layer_count]\n",
    "    \n",
    "    for c in clients:\n",
    "        df_c = df_per_layer[df_per_layer.num_clients == c]\n",
    "        \n",
    "        df_e = df_c.copy()\n",
    "        \n",
    "        df_e['epoch_rounds'] = df_e['total_rounds'].diff() \n",
    "        df_e['epoch_rounds'] = df_e['epoch_rounds'].fillna(df_e['total_rounds'])\n",
    "            \n",
    "        plt.figure(figsize=(10, 6))\n",
    "\n",
    "        for layer_i, layer_perc in enumerate(adv_perc_layer_w):\n",
    "\n",
    "            plt.plot(df_e['epoch'], df_e['epoch_rounds'].str[layer_i], marker='o', label=f'layer w/ {layer_perc:.1f}%', markersize=3)\n",
    "\n",
    "\n",
    "        plt.xlabel('Epoch')\n",
    "        plt.legend()\n",
    "        plt.ylabel('Rounds in Epoch')\n",
    "        plt.grid(True, linestyle='--', linewidth=0.5, alpha=0.5)\n",
    "\n",
    "        title = f'Batch Size : 32 , $\\Theta$ : 100 , bias : NaN, Num Clients : {c}'\n",
    "        plt.suptitle(title)\n",
    "\n",
    "        pdf.savefig(plt.gcf()) # Save the current figure\n",
    "\n",
    "        # Close the current figure to prevent it from being displayed in the notebook\n",
    "        plt.close()\n",
    "        \n",
    "    pdf.close()"
   ]
  },
  {
   "cell_type": "markdown",
   "id": "96921ad2-3cc7-4529-843c-07ae9b3047d4",
   "metadata": {},
   "source": [
    "# Help-Stat"
   ]
  },
  {
   "cell_type": "code",
   "execution_count": 56,
   "id": "a5cb23f7-b644-49ec-87e7-14645c70c237",
   "metadata": {
    "tags": []
   },
   "outputs": [],
   "source": [
    "def explore_top(df, acc_thresh, nn_name, fda_name):\n",
    "    acceptable_acc_df = df[(df.accuracy > acc_thresh) & (df.nn_name == nn_name)]\n",
    "    fda_df = acceptable_acc_df[acceptable_acc_df['fda_name'] == fda_name]\n",
    "    \n",
    "    idx = fda_df.groupby(['fda_name', 'num_clients', 'bias', 'batch_size', 'theta', 'aggr_scheme', 'per_layer'], dropna=False)['epoch'].idxmin()\n",
    "    aggr_df = fda_df.loc[idx]\n",
    "    \n",
    "    print(len(aggr_df))\n",
    "    \n",
    "    aggr_df['monitoring_gb_exchanged'] = aggr_df['monitoring_bytes_exchanged'] / 10**9\n",
    "    aggr_df['model_gb_exchanged'] = aggr_df['model_bytes_exchanged'] / 10**9\n",
    "    \n",
    "    #return filtered_acceptable_acc_df\n",
    "    return aggr_df[['num_clients', 'batch_size', 'theta', 'bias', 'per_layer', 'total_rounds', 'total_fda_steps', 'epoch', 'monitoring_gb_exchanged', 'model_gb_exchanged', 'total_communication_gb', 'cpu_time_cost', 'hypercube_time_cost', 'common_channel_time_cost']].sort_values(by='common_channel_time_cost')"
   ]
  },
  {
   "cell_type": "markdown",
   "id": "c4916c39-2e66-494d-99fc-75150184ea09",
   "metadata": {},
   "source": [
    "## Save all those time-cost plots"
   ]
  },
  {
   "cell_type": "code",
   "execution_count": 88,
   "id": "da4331e9-631b-4f3c-a348-ec8e0ae31077",
   "metadata": {
    "tags": []
   },
   "outputs": [],
   "source": [
    "import os\n",
    "\n",
    "def time_cost_plots(df, acc_threshold, nn_name, limit_x_axis=False, show_runs=False, params=False, kde_time_log=True, kde_comm_log=True, kde_cpu_log=False):\n",
    "    # Filter out based on `acc_threshold`\n",
    "    df_nn = df[(df.nn_name == nn_name)]\n",
    "    \n",
    "    acceptable_acc_df = df_nn[(df_nn.accuracy > acc_threshold)]\n",
    "    \n",
    "    str_thresh = str(acc_threshold).replace('.', '_')  # replace '.'\n",
    "    \n",
    "    if not os.path.exists(f\"../../metrics/plots/{nn_name}/{str_thresh}\"):\n",
    "        os.makedirs(f\"../../metrics/plots/{nn_name}/{str_thresh}\")\n",
    "        \n",
    "    # 1. Same runs not included\n",
    "    \n",
    "    # 2. Filter out same runs. We choose the instance which first hits the `acc_threshold`\n",
    "    idx = acceptable_acc_df.groupby(['fda_name', 'num_clients', 'batch_size', 'theta', 'bias', 'aggr_scheme', 'per_layer'], dropna=False)['epoch'].idxmin()\n",
    "    filtered_acceptable_acc_df = acceptable_acc_df.loc[idx]\n",
    "    \n",
    "    kde_time_cost(filtered_acceptable_acc_df, f\"../../metrics/plots/{nn_name}/{str_thresh}/time_cost.pdf\", x_log=kde_time_log)\n",
    "    \n",
    "    kde_communication_cost(filtered_acceptable_acc_df, f\"../../metrics/plots/{nn_name}/{str_thresh}/comm_cost.pdf\", x_log=kde_comm_log)\n",
    "    \n",
    "    kde_cpu_time_cost(filtered_acceptable_acc_df, f\"../../metrics/plots/{nn_name}/{str_thresh}/cpu_cost.pdf\", x_log=kde_cpu_log)\n",
    "    \n",
    "    kde_comm_cpu_time_cost_ratio(filtered_acceptable_acc_df, f\"../../metrics/plots/{nn_name}/{str_thresh}/ratio.pdf\", x_log=kde_comm_log)\n",
    "    \n",
    "    # Parameters fixed, and plot\n",
    "    if params:\n",
    "        fda_methods_clients_time_cost(filtered_acceptable_acc_df, f\"../../metrics/plots/{nn_name}/{str_thresh}/clients_time_cost.pdf\")\n",
    "        fda_methods_clients_comm_cost(filtered_acceptable_acc_df, f\"../../metrics/plots/{nn_name}/{str_thresh}/clients_comm_cost.pdf\")\n",
    "        fda_methods_clients_cpu_cost(filtered_acceptable_acc_df, f\"../../metrics/plots/{nn_name}/{str_thresh}/clients_cpu_cost.pdf\")\n",
    "        \n",
    "        fda_methods_theta_time_cost(filtered_acceptable_acc_df, f\"../../metrics/plots/{nn_name}/{str_thresh}/theta_time_cost.pdf\")\n",
    "        fda_methods_theta_comm_cost(filtered_acceptable_acc_df, f\"../../metrics/plots/{nn_name}/{str_thresh}/theta_comm_cost.pdf\")\n",
    "        fda_methods_theta_cpu_cost(filtered_acceptable_acc_df, f\"../../metrics/plots/{nn_name}/{str_thresh}/theta_cpu_cost.pdf\")"
   ]
  },
  {
   "cell_type": "code",
   "execution_count": 148,
   "id": "9dc480cb-0d8e-4d97-a026-e2446a0b4a7a",
   "metadata": {
    "tags": []
   },
   "outputs": [],
   "source": [
    "def testing(df, acc_threshold, nn_name):\n",
    "    df_nn = df[(df.nn_name == nn_name)]\n",
    "    \n",
    "    acceptable_acc_df = df_nn[(df_nn.accuracy > acc_threshold)]\n",
    "    \n",
    "    str_thresh = str(acc_threshold).replace('.', '_')  # replace '.'\n",
    "    \n",
    "    if not os.path.exists(f\"../../metrics/plots/{nn_name}/{str_thresh}\"):\n",
    "        os.makedirs(f\"../../metrics/plots/{nn_name}/{str_thresh}\")\n",
    "        \n",
    "    idx = acceptable_acc_df.groupby(['fda_name', 'num_clients', 'batch_size', 'theta', 'bias', 'aggr_scheme', 'per_layer'], dropna=False)['epoch'].idxmin()\n",
    "    filtered_acceptable_acc_df = acceptable_acc_df.loc[idx]\n",
    "    \n",
    "    # Temporary per-layer\n",
    "    per_layer_invest_fda_methods_clients_comm_cost(filtered_acceptable_acc_df, f\"../../metrics/plots/{nn_name}/{str_thresh}/per_layer_clients_comm_cost.pdf\")\n",
    "    \n",
    "    per_layer_rounds(df, f\"../../metrics/plots/{nn_name}/rounds_per_epoch.pdf\")\n",
    "    \n",
    "    per_layer_tot_rounds(df, f\"../../metrics/plots/{nn_name}/total_rounds_per_epoch.pdf\")"
   ]
  },
  {
   "cell_type": "code",
   "execution_count": null,
   "id": "27001d02-6e96-470a-8cd4-4226b2cda697",
   "metadata": {},
   "outputs": [],
   "source": []
  },
  {
   "cell_type": "code",
   "execution_count": 75,
   "id": "da05aa7a-faa6-4a26-9a01-fee0a7d5c524",
   "metadata": {},
   "outputs": [],
   "source": [
    "df_32 = df[\n",
    "    ((df['batch_size'] == 32) | (df['fda_name'] == 'synchronous')) & (df['aggr_scheme'] == 'avg')\n",
    "]"
   ]
  },
  {
   "cell_type": "code",
   "execution_count": 76,
   "id": "10d74f00-2aef-4f19-a77f-d9af918a0f57",
   "metadata": {
    "tags": []
   },
   "outputs": [],
   "source": [
    "df_theta = df[\n",
    "    ((df['theta'] >= 15.) | (df['fda_name'] == 'synchronous')) & (df['aggr_scheme'] == 'avg')\n",
    "]"
   ]
  },
  {
   "cell_type": "code",
   "execution_count": 86,
   "id": "a1f1923a-a4cf-4e3e-be2f-1588080206a5",
   "metadata": {
    "tags": []
   },
   "outputs": [],
   "source": [
    "df_adv = df_theta[~df_theta.per_layer]\n",
    "df_lenet = df_32[~df_32.per_layer]"
   ]
  },
  {
   "cell_type": "markdown",
   "id": "38c98aeb-9bde-4718-ad33-a1858e42b749",
   "metadata": {},
   "source": [
    "## AdvancedCNN"
   ]
  },
  {
   "cell_type": "code",
   "execution_count": 89,
   "id": "d7f86ec4-2725-491f-bbca-99f53b613b35",
   "metadata": {
    "tags": []
   },
   "outputs": [],
   "source": [
    "time_cost_plots(df_adv, 0.99, 'AdvancedCNN', params=True)\n",
    "time_cost_plots(df_adv, 0.993, 'AdvancedCNN', params=True)\n",
    "time_cost_plots(df_adv, 0.995, 'AdvancedCNN', params=True)"
   ]
  },
  {
   "cell_type": "code",
   "execution_count": null,
   "id": "34384fb6-61dc-4261-b326-3b1a7b33c176",
   "metadata": {
    "tags": []
   },
   "outputs": [],
   "source": [
    "accuracies_plots_clients(df_adv[df_adv['nn_name'] == 'AdvancedCNN'], f\"../../metrics/plots/AdvancedCNN/accuracies_clients.pdf\", accuracies=[0.98, 0.985, 0.99, 0.991, 0.992, 0.993, 0.994, 0.995, 0.996])"
   ]
  },
  {
   "cell_type": "code",
   "execution_count": null,
   "id": "54939d81-7343-411e-bbca-381eeb42d16d",
   "metadata": {
    "tags": []
   },
   "outputs": [],
   "source": [
    "accuracies_plots(df_adv[df_adv['nn_name'] == 'AdvancedCNN'], f\"../../metrics/plots/AdvancedCNN/accuracies.pdf\", accuracies=[0.98, 0.985, 0.99, 0.991, 0.992, 0.993, 0.994, 0.995, 0.996])"
   ]
  },
  {
   "cell_type": "code",
   "execution_count": null,
   "id": "c6e7a8e7-32cc-47f4-b0dc-1111f89669bc",
   "metadata": {},
   "outputs": [],
   "source": []
  },
  {
   "cell_type": "code",
   "execution_count": 149,
   "id": "b8cea288-820e-4279-bdb2-d95a8a90fdc7",
   "metadata": {
    "tags": []
   },
   "outputs": [],
   "source": [
    "testing(df_theta, 0.99, 'AdvancedCNN')"
   ]
  },
  {
   "cell_type": "markdown",
   "id": "7ede378c-18ee-4521-9101-361614426bf3",
   "metadata": {
    "tags": []
   },
   "source": [
    "## LeNet-5"
   ]
  },
  {
   "cell_type": "code",
   "execution_count": null,
   "id": "cc770b7e-002f-46f4-9e00-505e0e2abb0b",
   "metadata": {
    "tags": []
   },
   "outputs": [],
   "source": [
    "#explore_top(df, 0.98, 'LeNet-5', 'linear')"
   ]
  },
  {
   "cell_type": "code",
   "execution_count": null,
   "id": "fc6c2002-4be2-4353-aed9-522ddef84eca",
   "metadata": {
    "tags": []
   },
   "outputs": [],
   "source": [
    "time_cost_plots(df_lenet, 0.98, 'LeNet-5', params=True)\n",
    "time_cost_plots(df_lenet, 0.975, 'LeNet-5', params=True)\n",
    "time_cost_plots(df_lenet, 0.985, 'LeNet-5', params=True)"
   ]
  },
  {
   "cell_type": "code",
   "execution_count": null,
   "id": "4d148de9-4504-448f-9773-4c78a8e39f7b",
   "metadata": {},
   "outputs": [],
   "source": [
    "accuracies_plots_clients(df_lenet[df_lenet['nn_name'] == 'LeNet-5'], f\"../../metrics/plots/LeNet-5/accuracies_clients.pdf\", accuracies=[0.96, 0.965, 0.96, 0.965, 0.98, 0.982, 0.984, 0.985, 0.987, 0.989])"
   ]
  },
  {
   "cell_type": "code",
   "execution_count": null,
   "id": "7eeb7be2-8e04-488a-b110-574eca49ea35",
   "metadata": {},
   "outputs": [],
   "source": [
    "accuracies_plots(df_lenet[df_lenet['nn_name'] == 'LeNet-5'], f\"../../metrics/plots/LeNet-5/accuracies.pdf\", accuracies=[0.96, 0.965, 0.96, 0.965, 0.98, 0.982, 0.984, 0.985, 0.987, 0.989])"
   ]
  },
  {
   "cell_type": "code",
   "execution_count": null,
   "id": "3fd41154-b354-4520-8ace-dcb62339d852",
   "metadata": {},
   "outputs": [],
   "source": []
  },
  {
   "cell_type": "code",
   "execution_count": null,
   "id": "89936fc4-1a86-42fb-8232-dd45aa50db29",
   "metadata": {},
   "outputs": [],
   "source": []
  },
  {
   "cell_type": "code",
   "execution_count": null,
   "id": "1da505af-f185-4773-b5e6-744bbe11be09",
   "metadata": {},
   "outputs": [],
   "source": []
  },
  {
   "cell_type": "code",
   "execution_count": null,
   "id": "400cb773-bf5f-4708-9d3f-a033e56d0d88",
   "metadata": {},
   "outputs": [],
   "source": []
  },
  {
   "cell_type": "code",
   "execution_count": null,
   "id": "6e9bd90e-9ebd-4e38-90b3-39d608050a67",
   "metadata": {},
   "outputs": [],
   "source": []
  },
  {
   "cell_type": "code",
   "execution_count": null,
   "id": "d83bf4b5-64bb-4105-b284-d2efa2fe5a70",
   "metadata": {},
   "outputs": [],
   "source": []
  },
  {
   "cell_type": "code",
   "execution_count": null,
   "id": "4d90bc59-9b75-45aa-b09e-e3856349c7a8",
   "metadata": {},
   "outputs": [],
   "source": []
  },
  {
   "cell_type": "code",
   "execution_count": null,
   "id": "82764175-b311-46d1-a219-24ea5fe6263b",
   "metadata": {
    "tags": []
   },
   "outputs": [],
   "source": [
    "def investigate_rounds(df_nn, acc_threshold):\n",
    "    acceptable_acc_df = df_nn[(df_nn.accuracy > acc_threshold)]\n",
    "    idx = acceptable_acc_df.groupby(['dataset_name', 'nn_name', 'fda_name', 'num_steps_until_rtc_check', 'batch_size', 'theta', 'num_clients', 'aggr_scheme', 'bias'], dropna=False)['epoch'].idxmin()\n",
    "    filtered_acceptable_acc_df = acceptable_acc_df.loc[idx]\n",
    "    \n",
    "    num_clients = sorted(filtered_acceptable_acc_df['num_clients'].unique())\n",
    "    \n",
    "    for num_client in num_clients:\n",
    "        df_clients = filtered_acceptable_acc_df[filtered_acceptable_acc_df['num_clients'] == num_client]\n",
    "        \n",
    "        print(f\"Clients: {num_client}  Avg Rounds Needed: {df_clients['total_rounds'].mean()}\")"
   ]
  },
  {
   "cell_type": "code",
   "execution_count": null,
   "id": "e14d3648-1b08-4431-9fee-514cb49cfc22",
   "metadata": {
    "tags": []
   },
   "outputs": [],
   "source": [
    "investigate_rounds(df[(df['nn_name'] == 'AdvancedCNN') & (df['bias'].isna()) & (df['batch_size'] == 32) & (df['theta'] >= 15) & (df['fda_name'] == 'naive')], 0.995)"
   ]
  },
  {
   "cell_type": "code",
   "execution_count": null,
   "id": "da9b8558-ff11-4d76-bc28-f8346cda8edd",
   "metadata": {
    "tags": []
   },
   "outputs": [],
   "source": [
    "investigate_rounds(df[(df['nn_name'] == 'AdvancedCNN') & (df['bias'].isna()) & (df['batch_size'] == 32) & (df['theta'] >= 50) & (df['fda_name'] == 'naive')], 0.995)"
   ]
  },
  {
   "cell_type": "code",
   "execution_count": null,
   "id": "e0af3b3e-27ce-433f-a6f0-2b0319c8f903",
   "metadata": {
    "tags": []
   },
   "outputs": [],
   "source": [
    "investigate_rounds(df[(df['nn_name'] == 'AdvancedCNN') & (df['bias'].isna()) & (df['batch_size'] == 32) & (df['theta'] >= 50) & (df['fda_name'] == 'sketch') & (df['aggr_scheme'] == 'avg')], 0.995)"
   ]
  },
  {
   "cell_type": "code",
   "execution_count": null,
   "id": "c209413c-c832-4a72-a1cb-f25d36467526",
   "metadata": {},
   "outputs": [],
   "source": []
  },
  {
   "cell_type": "code",
   "execution_count": null,
   "id": "cf0cee44-c2e6-4873-94c8-95ba0d7c9f23",
   "metadata": {},
   "outputs": [],
   "source": []
  }
 ],
 "metadata": {
  "kernelspec": {
   "display_name": "Python [conda env:data-analysis]",
   "language": "python",
   "name": "conda-env-data-analysis-py"
  },
  "language_info": {
   "codemirror_mode": {
    "name": "ipython",
    "version": 3
   },
   "file_extension": ".py",
   "mimetype": "text/x-python",
   "name": "python",
   "nbconvert_exporter": "python",
   "pygments_lexer": "ipython3",
   "version": "3.11.4"
  }
 },
 "nbformat": 4,
 "nbformat_minor": 5
}
