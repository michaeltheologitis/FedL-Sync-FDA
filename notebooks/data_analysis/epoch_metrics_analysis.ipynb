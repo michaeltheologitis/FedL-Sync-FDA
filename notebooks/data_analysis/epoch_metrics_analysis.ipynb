{
 "cells": [
  {
   "cell_type": "code",
   "execution_count": 1,
   "id": "48030999",
   "metadata": {
    "tags": []
   },
   "outputs": [],
   "source": [
    "import pandas as pd\n",
    "import numpy as np\n",
    "import matplotlib.pyplot as plt\n",
    "from matplotlib.backends.backend_pdf import PdfPages\n",
    "import glob\n",
    "import seaborn as sns"
   ]
  },
  {
   "cell_type": "markdown",
   "id": "5ca18b62-8c35-4c8d-978e-57c104b9c2cd",
   "metadata": {},
   "source": [
    "## Skip (unless new tests): Combine metrics"
   ]
  },
  {
   "cell_type": "code",
   "execution_count": 2,
   "id": "67971c61-fbc4-4ef3-b093-c2eca29381a1",
   "metadata": {},
   "outputs": [],
   "source": [
    "#df_old = pd.read_parquet(\"../../metrics/epoch_metrics/combined_epoch_metrics.parquet\")"
   ]
  },
  {
   "cell_type": "code",
   "execution_count": 3,
   "id": "ca32b817-3016-4f51-b169-0dc886ce015f",
   "metadata": {},
   "outputs": [
    {
     "data": {
      "text/plain": [
       "\"\\ncsv_files = []\\ncsv_files.extend(glob.glob('../../metrics/epoch_metrics/AdvancedCNN_complete/b32_t05/epoch_metrics/*.csv'))\\ncsv_files.extend(glob.glob('../../metrics/epoch_metrics/AdvancedCNN_complete/b32_t1/epoch_metrics/*.csv'))\\ncsv_files.extend(glob.glob('../../metrics/epoch_metrics/AdvancedCNN_complete/b32_t2/epoch_metrics/*.csv'))\\ncsv_files.extend(glob.glob('../../metrics/epoch_metrics/AdvancedCNN_complete/b128_t05/epoch_metrics/*.csv'))\\ncsv_files.extend(glob.glob('../../metrics/epoch_metrics/AdvancedCNN_complete/b128_t1/epoch_metrics/*.csv'))\\ncsv_files.extend(glob.glob('../../metrics/epoch_metrics/AdvancedCNN_complete/b128_t2/epoch_metrics/*.csv'))\\ncsv_files.extend(glob.glob('../../metrics/epoch_metrics/AdvancedCNN_complete/b256_t05/epoch_metrics/*.csv'))\\ncsv_files.extend(glob.glob('../../metrics/epoch_metrics/AdvancedCNN_complete/b256_t1/epoch_metrics/*.csv'))\\ncsv_files.extend(glob.glob('../../metrics/epoch_metrics/AdvancedCNN_complete/b256_t2/epoch_metrics/*.csv'))\\ncsv_files.extend(glob.glob('../../metrics/epoch_metrics/AdvancedCNN_complete/sync_32/epoch_metrics/*.csv'))\\ncsv_files.extend(glob.glob('../../metrics/epoch_metrics/AdvancedCNN_complete/sync_128/epoch_metrics/*.csv'))\\ncsv_files.extend(glob.glob('../../metrics/epoch_metrics/AdvancedCNN_complete/sync_256/epoch_metrics/*.csv'))\\n\""
      ]
     },
     "execution_count": 3,
     "metadata": {},
     "output_type": "execute_result"
    }
   ],
   "source": [
    "\"\"\"\n",
    "csv_files = []\n",
    "csv_files.extend(glob.glob('../../metrics/epoch_metrics/AdvancedCNN_complete/b32_t05/epoch_metrics/*.csv'))\n",
    "csv_files.extend(glob.glob('../../metrics/epoch_metrics/AdvancedCNN_complete/b32_t1/epoch_metrics/*.csv'))\n",
    "csv_files.extend(glob.glob('../../metrics/epoch_metrics/AdvancedCNN_complete/b32_t2/epoch_metrics/*.csv'))\n",
    "csv_files.extend(glob.glob('../../metrics/epoch_metrics/AdvancedCNN_complete/b128_t05/epoch_metrics/*.csv'))\n",
    "csv_files.extend(glob.glob('../../metrics/epoch_metrics/AdvancedCNN_complete/b128_t1/epoch_metrics/*.csv'))\n",
    "csv_files.extend(glob.glob('../../metrics/epoch_metrics/AdvancedCNN_complete/b128_t2/epoch_metrics/*.csv'))\n",
    "csv_files.extend(glob.glob('../../metrics/epoch_metrics/AdvancedCNN_complete/b256_t05/epoch_metrics/*.csv'))\n",
    "csv_files.extend(glob.glob('../../metrics/epoch_metrics/AdvancedCNN_complete/b256_t1/epoch_metrics/*.csv'))\n",
    "csv_files.extend(glob.glob('../../metrics/epoch_metrics/AdvancedCNN_complete/b256_t2/epoch_metrics/*.csv'))\n",
    "csv_files.extend(glob.glob('../../metrics/epoch_metrics/AdvancedCNN_complete/sync_32/epoch_metrics/*.csv'))\n",
    "csv_files.extend(glob.glob('../../metrics/epoch_metrics/AdvancedCNN_complete/sync_128/epoch_metrics/*.csv'))\n",
    "csv_files.extend(glob.glob('../../metrics/epoch_metrics/AdvancedCNN_complete/sync_256/epoch_metrics/*.csv'))\n",
    "\"\"\""
   ]
  },
  {
   "cell_type": "code",
   "execution_count": 4,
   "id": "65716574-2214-4294-809b-685e9a83b5c8",
   "metadata": {},
   "outputs": [],
   "source": [
    "#df_new = pd.concat([pd.read_csv(file) for file in csv_files], ignore_index=True)"
   ]
  },
  {
   "cell_type": "code",
   "execution_count": 5,
   "id": "5b33c5ae-3b71-42c8-9228-e18dbdf63570",
   "metadata": {},
   "outputs": [],
   "source": [
    "#df = pd.concat([df_old, df_new])"
   ]
  },
  {
   "cell_type": "markdown",
   "id": "dd8fbdc6-1e34-4a24-bc2c-3889b431983b",
   "metadata": {},
   "source": [
    "## Read from `~/metrics/epoch_metrics/` directory"
   ]
  },
  {
   "cell_type": "code",
   "execution_count": 65,
   "id": "89ff3dd8",
   "metadata": {
    "tags": []
   },
   "outputs": [],
   "source": [
    "df = pd.read_parquet(\"../../metrics/epoch_metrics/combined_epoch_metrics.parquet\")"
   ]
  },
  {
   "cell_type": "code",
   "execution_count": 66,
   "id": "d2b76f69-6e37-41fc-bc21-cbb5fcf6a066",
   "metadata": {
    "tags": []
   },
   "outputs": [],
   "source": [
    "#df.to_parquet(\"../../metrics/epoch_metrics/combined_epoch_metrics.parquet\")"
   ]
  },
  {
   "cell_type": "markdown",
   "id": "2a2b25db-0742-4564-8e1b-bceba468b557",
   "metadata": {},
   "source": [
    "# Hyper-Parameters"
   ]
  },
  {
   "cell_type": "markdown",
   "id": "8af2b884-2006-40e1-83b9-f42756182e92",
   "metadata": {},
   "source": [
    "## All tests summary\n",
    "\n",
    "Note that this is a summary. \n",
    "\n",
    "Notes:\n",
    "1. `synchronous` method implies `theta` equal to `0.0` and the reverse.\n",
    "2. The stopping criterion (epochs at the moment) is not the same for all combination, in fact, it changes. For `LeNet-5` currently all tests end at 50 epochs. For the `AdvancedCNN` we go up to 350 epochs in some tests and some others up until 250.\n",
    "3. `Theta` greater than 2 are exploratory tests and will not be considered at all later on."
   ]
  },
  {
   "cell_type": "code",
   "execution_count": 67,
   "id": "04e48751-ffa9-4aab-bfd2-a3cdfd1c96d0",
   "metadata": {
    "tags": []
   },
   "outputs": [
    {
     "name": "stdout",
     "output_type": "stream",
     "text": [
      "dataset_name: ['EMNIST']\n",
      "fda_name: ['linear', 'naive', 'sketch', 'synchronous']\n",
      "nn_num_weights: [61706, 2592202]\n",
      "num_clients: [5, 10, 15, 20, 25, 30, 35, 40, 45, 50, 55, 60]\n",
      "batch_size: [32, 128, 256]\n",
      "num_steps_until_rtc_check: [1]\n",
      "theta: [0.0, 0.5, 1.0, 2.0]\n"
     ]
    }
   ],
   "source": [
    "for col in ['dataset_name', 'fda_name', 'nn_num_weights', 'num_clients', 'batch_size', 'num_steps_until_rtc_check', 'theta']:\n",
    "    print(f\"{col}: {sorted(list(df[col].unique()))}\")"
   ]
  },
  {
   "cell_type": "markdown",
   "id": "1db71736-9799-4862-adb8-cfd7e663279e",
   "metadata": {},
   "source": [
    "## Query All tests"
   ]
  },
  {
   "cell_type": "code",
   "execution_count": 68,
   "id": "2d244ada-c501-4dc9-b1be-4da0d0ef6449",
   "metadata": {
    "tags": []
   },
   "outputs": [],
   "source": [
    "test_combinations = df.groupby(['dataset_name', 'nn_num_weights', 'fda_name', 'num_steps_until_rtc_check', 'batch_size', 'theta', 'num_clients'])['epoch'].max().reset_index()"
   ]
  },
  {
   "cell_type": "code",
   "execution_count": 69,
   "id": "91d74b0d-ca6e-436c-b965-6afa79a08ed9",
   "metadata": {
    "tags": []
   },
   "outputs": [
    {
     "data": {
      "text/html": [
       "<div>\n",
       "<style scoped>\n",
       "    .dataframe tbody tr th:only-of-type {\n",
       "        vertical-align: middle;\n",
       "    }\n",
       "\n",
       "    .dataframe tbody tr th {\n",
       "        vertical-align: top;\n",
       "    }\n",
       "\n",
       "    .dataframe thead th {\n",
       "        text-align: right;\n",
       "    }\n",
       "</style>\n",
       "<table border=\"1\" class=\"dataframe\">\n",
       "  <thead>\n",
       "    <tr style=\"text-align: right;\">\n",
       "      <th></th>\n",
       "      <th>dataset_name</th>\n",
       "      <th>nn_num_weights</th>\n",
       "      <th>fda_name</th>\n",
       "      <th>num_steps_until_rtc_check</th>\n",
       "      <th>batch_size</th>\n",
       "      <th>theta</th>\n",
       "      <th>num_clients</th>\n",
       "      <th>epoch</th>\n",
       "    </tr>\n",
       "  </thead>\n",
       "  <tbody>\n",
       "    <tr>\n",
       "      <th>240</th>\n",
       "      <td>EMNIST</td>\n",
       "      <td>61706</td>\n",
       "      <td>sketch</td>\n",
       "      <td>1</td>\n",
       "      <td>32</td>\n",
       "      <td>2.0</td>\n",
       "      <td>5</td>\n",
       "      <td>50</td>\n",
       "    </tr>\n",
       "    <tr>\n",
       "      <th>276</th>\n",
       "      <td>EMNIST</td>\n",
       "      <td>61706</td>\n",
       "      <td>sketch</td>\n",
       "      <td>1</td>\n",
       "      <td>128</td>\n",
       "      <td>2.0</td>\n",
       "      <td>5</td>\n",
       "      <td>50</td>\n",
       "    </tr>\n",
       "    <tr>\n",
       "      <th>312</th>\n",
       "      <td>EMNIST</td>\n",
       "      <td>61706</td>\n",
       "      <td>sketch</td>\n",
       "      <td>1</td>\n",
       "      <td>256</td>\n",
       "      <td>2.0</td>\n",
       "      <td>5</td>\n",
       "      <td>50</td>\n",
       "    </tr>\n",
       "  </tbody>\n",
       "</table>\n",
       "</div>"
      ],
      "text/plain": [
       "    dataset_name  nn_num_weights fda_name  num_steps_until_rtc_check   \n",
       "240       EMNIST           61706   sketch                          1  \\\n",
       "276       EMNIST           61706   sketch                          1   \n",
       "312       EMNIST           61706   sketch                          1   \n",
       "\n",
       "     batch_size  theta  num_clients  epoch  \n",
       "240          32    2.0            5     50  \n",
       "276         128    2.0            5     50  \n",
       "312         256    2.0            5     50  "
      ]
     },
     "execution_count": 69,
     "metadata": {},
     "output_type": "execute_result"
    }
   ],
   "source": [
    "test_combinations[\n",
    "    (test_combinations['nn_num_weights'] == 61706) &\n",
    "    (test_combinations['fda_name'] == 'sketch') &\n",
    "    (test_combinations['theta'] == 2) &\n",
    "    (test_combinations['num_clients'] == 5)\n",
    "]"
   ]
  },
  {
   "cell_type": "markdown",
   "id": "cc83ca7e-2d67-4138-825c-2193420208c5",
   "metadata": {},
   "source": [
    "# Helpful new Dataframe metrics"
   ]
  },
  {
   "cell_type": "markdown",
   "id": "f066b553-a1c9-4c95-9454-0816456806bf",
   "metadata": {},
   "source": [
    "### Remove the exploratory tests (`Theta` above 2)"
   ]
  },
  {
   "cell_type": "code",
   "execution_count": 70,
   "id": "a1319efd-3ed2-4d23-ae84-4a83383ad53d",
   "metadata": {
    "tags": []
   },
   "outputs": [],
   "source": [
    "df = df[(df.theta <= 2)]"
   ]
  },
  {
   "cell_type": "markdown",
   "id": "44ba22e5-d116-43d3-a4b7-f1b24277a2be",
   "metadata": {},
   "source": [
    "### Add NN name"
   ]
  },
  {
   "cell_type": "code",
   "execution_count": 71,
   "id": "97743c05-4eb4-4e3b-b20a-e1d3193729e8",
   "metadata": {
    "tags": []
   },
   "outputs": [],
   "source": [
    "def nn_name(row):\n",
    "    if row['nn_num_weights'] == 61706:\n",
    "        return 'LeNet-5'\n",
    "    if row['nn_num_weights'] == 2592202:\n",
    "        return 'AdvancedCNN'"
   ]
  },
  {
   "cell_type": "code",
   "execution_count": 72,
   "id": "2f74e952-a237-4dd0-8fd4-05c3d917eeba",
   "metadata": {
    "tags": []
   },
   "outputs": [],
   "source": [
    "df['nn_name'] = df.apply(nn_name, axis=1)"
   ]
  },
  {
   "cell_type": "markdown",
   "id": "a51ec99b-92b1-43b4-a82a-25235c10ef7a",
   "metadata": {},
   "source": [
    "### Add Helpful Dataset Metrics "
   ]
  },
  {
   "cell_type": "code",
   "execution_count": 73,
   "id": "219bfb00-628a-4f2c-8655-76074a971175",
   "metadata": {
    "tags": []
   },
   "outputs": [],
   "source": [
    "def dataset_n_train(row):\n",
    "    if row['dataset_name'] == \"EMNIST\":\n",
    "        return 60_000\n",
    "    else:\n",
    "        return -1\n",
    "\n",
    "\n",
    "def dataset_one_sample_bytes(row):\n",
    "    if row['dataset_name'] == \"EMNIST\":\n",
    "        # input image 784 tf.float32 pixels and a tf.int32 label\n",
    "        return 4 * (784 + 1)\n",
    "    else:\n",
    "        return -1"
   ]
  },
  {
   "cell_type": "code",
   "execution_count": 74,
   "id": "6f7c40a0-7809-461f-8a65-e7deb84dd3c8",
   "metadata": {
    "tags": []
   },
   "outputs": [],
   "source": [
    "df['n_train'] = df.apply(dataset_n_train, axis=1)\n",
    "df['one_sample_bytes'] = df.apply(dataset_one_sample_bytes, axis=1)"
   ]
  },
  {
   "cell_type": "markdown",
   "id": "96b67d41-76a9-461e-830f-9dccfecaf678",
   "metadata": {},
   "source": [
    "### Add Helpful model metrics"
   ]
  },
  {
   "cell_type": "code",
   "execution_count": 75,
   "id": "49a43e33-b746-46ab-be9a-8a63f30a8986",
   "metadata": {
    "tags": []
   },
   "outputs": [],
   "source": [
    "df['model_bytes'] = df['nn_num_weights'] * 4"
   ]
  },
  {
   "cell_type": "markdown",
   "id": "b6c4b4b2-5b95-4f6e-bae3-389bcc45c14d",
   "metadata": {},
   "source": [
    "### Add Helpful FDA method metrics"
   ]
  },
  {
   "cell_type": "code",
   "execution_count": 76,
   "id": "13d1a75a-1031-45f1-affa-a25aa833b836",
   "metadata": {
    "tags": []
   },
   "outputs": [],
   "source": [
    "def fda_local_state_bytes(row):\n",
    "    if row['fda_name'] == \"naive\":\n",
    "        return 4\n",
    "    if row['fda_name'] == \"linear\":\n",
    "        return 8\n",
    "    if row['fda_name'] == \"sketch\":\n",
    "        return row['sketch_width'] * row['sketch_depth'] * 4 + 4\n",
    "    if row['fda_name'] == \"synchronous\":\n",
    "        return 0"
   ]
  },
  {
   "cell_type": "code",
   "execution_count": 77,
   "id": "21261b2e-0f3c-4c3b-b4db-a38f5506ed70",
   "metadata": {
    "tags": []
   },
   "outputs": [],
   "source": [
    "df['local_state_bytes'] = df.apply(fda_local_state_bytes, axis=1)"
   ]
  },
  {
   "cell_type": "markdown",
   "id": "704dcdb1-4edf-4d9f-8b27-6afd7131e41e",
   "metadata": {},
   "source": [
    "### Add Total Steps\n",
    "\n",
    "total steps (a single fda step might have many normal SGD steps, batch steps)"
   ]
  },
  {
   "cell_type": "code",
   "execution_count": 78,
   "id": "ce913d44-7043-40a1-811e-bf3f1460b0c6",
   "metadata": {
    "tags": []
   },
   "outputs": [],
   "source": [
    "df['total_steps'] = df['total_fda_steps'] * df['num_steps_until_rtc_check']"
   ]
  },
  {
   "cell_type": "markdown",
   "id": "99ddccbe-4051-4499-bfdb-8d716a60ccde",
   "metadata": {},
   "source": [
    "### Add communication metrics"
   ]
  },
  {
   "cell_type": "markdown",
   "id": "80bf52a9-3fe1-40d8-bbbd-29e537777aee",
   "metadata": {},
   "source": [
    "The communication bytes exchanged for model synchronization. Remember that the Clients send their models to the Server and the Server sends the global model back. This happens at the end of every round."
   ]
  },
  {
   "cell_type": "code",
   "execution_count": 79,
   "id": "8617cd85-dcc6-4bd8-a9dc-1c8e542fe437",
   "metadata": {
    "tags": []
   },
   "outputs": [],
   "source": [
    "df['model_bytes_exchanged'] = df['total_rounds'] * df['model_bytes'] * df['num_clients'] * 2"
   ]
  },
  {
   "cell_type": "markdown",
   "id": "dbf6e175-a634-4ff5-8960-d0783aa668a5",
   "metadata": {},
   "source": [
    "The communication bytes exchanged for monitoring the variance. This happens at the end of every FDA step which consists of `num_steps_until_rtc_check` number of steps. "
   ]
  },
  {
   "cell_type": "code",
   "execution_count": 80,
   "id": "81640366-96eb-4a39-a364-f969873840b1",
   "metadata": {
    "tags": []
   },
   "outputs": [],
   "source": [
    "df['monitoring_bytes_exchanged'] = df['local_state_bytes'] * df['total_fda_steps'] * df['num_clients']"
   ]
  },
  {
   "cell_type": "markdown",
   "id": "8df1d5ae-1a42-4c01-9ba2-83b09f217fad",
   "metadata": {},
   "source": [
    "The total communication bytes exchanged in the whole Federated Learning lifecycle."
   ]
  },
  {
   "cell_type": "code",
   "execution_count": 81,
   "id": "70fccd40-dc8d-4116-8337-cb8743ee203c",
   "metadata": {
    "tags": []
   },
   "outputs": [],
   "source": [
    "df['total_communication_bytes'] = df['model_bytes_exchanged'] + df['monitoring_bytes_exchanged']"
   ]
  },
  {
   "cell_type": "code",
   "execution_count": 82,
   "id": "144c13ff-95dc-4c80-a168-41191c34d082",
   "metadata": {
    "tags": []
   },
   "outputs": [],
   "source": [
    "df['total_communication_gb'] = df['total_communication_bytes'] / 10**9"
   ]
  },
  {
   "cell_type": "markdown",
   "id": "68b611ba-113e-4efd-a207-a2288a24006d",
   "metadata": {},
   "source": [
    "Add rounds in one epoch."
   ]
  },
  {
   "cell_type": "code",
   "execution_count": 83,
   "id": "9424fe77-27e3-43bb-99d9-ec42d0032bfd",
   "metadata": {
    "tags": []
   },
   "outputs": [],
   "source": [
    "df = df.sort_values(by=['dataset_name', 'fda_name', 'nn_num_weights', 'num_clients', 'batch_size', 'num_steps_until_rtc_check', 'theta', 'epoch'])\n",
    "\n",
    "df['epoch_rounds'] = df.groupby(['dataset_name', 'fda_name', 'nn_num_weights', 'num_clients', 'batch_size', 'num_steps_until_rtc_check', 'theta'])['total_rounds'].diff()\n",
    "\n",
    "# NaN first epoch\n",
    "df['epoch_rounds'] = df['epoch_rounds'].fillna(df['total_rounds'])\n",
    "\n",
    "df['epoch_rounds'] = df['epoch_rounds'].astype(int)"
   ]
  },
  {
   "cell_type": "markdown",
   "id": "9773a738-5cbd-4d87-9a7a-004fe11d6fb3",
   "metadata": {},
   "source": [
    "# HyperParameter ranking"
   ]
  },
  {
   "cell_type": "markdown",
   "id": "44a3b8a1-8f70-4ce0-9fe4-d654b8c46ac4",
   "metadata": {
    "tags": []
   },
   "source": [
    "### AdvancedCNN\n",
    "On 8 CPUs, the step time:\n",
    "\n",
    "1. *Batch Size* = 32 -> `307ms`\n",
    "2. *Batch Size* = 64 -> `445ms`\n",
    "3. *Batch Size* = 128 -> `815ms`\n",
    "4. *Batch Size* = 256 -> `1401ms`\n",
    "\n",
    "Best fit line:\n",
    "\n",
    "step(ms) = 4.97092 * batch_size + 147.739\n",
    "\n",
    "### LeNet-5\n",
    "On 8 CPUs, the step time:\n",
    "\n",
    "1. *Batch Size* = 32 -> `5.93ms`\n",
    "2. *Batch Size* = 64 -> `9.16ms`\n",
    "3. *Batch Size* = 128 -> `18.5ms`\n",
    "4. *Batch Size* = 256 -> `30.6ms`\n",
    "\n",
    "Best fit line:\n",
    "\n",
    "step(ms) = 0.11124 * batch_size + 2.69913"
   ]
  },
  {
   "cell_type": "code",
   "execution_count": 84,
   "id": "a9df5cd6-a3ac-4641-9636-7aa790596ee2",
   "metadata": {
    "tags": []
   },
   "outputs": [],
   "source": [
    "def step_ms(batch_size, nn_name):\n",
    "    if nn_name == 'AdvancedCNN': \n",
    "        return 4.97092 * batch_size + 147.739\n",
    "    if nn_name == 'LeNet-5':\n",
    "        return 0.11124 * batch_size + 2.69913"
   ]
  },
  {
   "cell_type": "markdown",
   "id": "1d1f571b-9405-4e26-ad1b-ad774ec68df2",
   "metadata": {},
   "source": [
    "Time cost for training-reducing"
   ]
  },
  {
   "cell_type": "code",
   "execution_count": 85,
   "id": "178b5809-8298-4666-8296-8bbec9ccda62",
   "metadata": {
    "tags": []
   },
   "outputs": [],
   "source": [
    "import numpy as np\n",
    "\n",
    "def cpu_time_cost(row):\n",
    "    \"\"\" Total cpu time cost in (sec).\n",
    "    A single `step` means each client performed a single `step` \n",
    "    \"\"\"\n",
    "    return row['total_steps'] * step_ms(row['batch_size'], row['nn_name']) / 1000\n",
    "\n",
    "def communication_time_cost(num_clients, total_communication_bytes, comm_model):\n",
    "    \"\"\" Assuming channel is 1Gbps \"\"\"\n",
    "\n",
    "    total_communication_gbit = total_communication_bytes * 8e-9\n",
    "\n",
    "    if comm_model == 'common_channel':\n",
    "        \n",
    "        return ((num_clients - 1) / num_clients) * total_communication_gbit    # sec\n",
    "\n",
    "    if comm_model == 'hypercube':\n",
    "\n",
    "        return (np.ceil(np.log(num_clients)) / num_clients) * total_communication_gbit   # sec"
   ]
  },
  {
   "cell_type": "code",
   "execution_count": 86,
   "id": "6892ee25-e1b9-4e98-b5a1-c3669d84cd93",
   "metadata": {
    "tags": []
   },
   "outputs": [],
   "source": [
    "df['cpu_time_cost'] = df.apply(cpu_time_cost, axis=1)"
   ]
  },
  {
   "cell_type": "code",
   "execution_count": 87,
   "id": "a3895090-76c2-46ff-a229-30ee6142e2e9",
   "metadata": {
    "tags": []
   },
   "outputs": [],
   "source": [
    "df['hypercube_communication_time_cost'] = communication_time_cost(df['num_clients'], df['total_communication_bytes'], 'hypercube')"
   ]
  },
  {
   "cell_type": "code",
   "execution_count": 88,
   "id": "9666ef46-2574-43e9-b8e6-0c7fca3b75ec",
   "metadata": {
    "tags": []
   },
   "outputs": [],
   "source": [
    "df['common_channel_communication_time_cost'] = communication_time_cost(df['num_clients'], df['total_communication_bytes'], 'common_channel')"
   ]
  },
  {
   "cell_type": "code",
   "execution_count": 89,
   "id": "8a7c286b-25a0-4eb0-a432-fded4f049071",
   "metadata": {
    "tags": []
   },
   "outputs": [],
   "source": [
    "df['hypercube_time_cost'] = df['cpu_time_cost'] + df['hypercube_communication_time_cost']"
   ]
  },
  {
   "cell_type": "code",
   "execution_count": 90,
   "id": "efe9fa8a-d8d7-4b2a-a3a0-131eec5ce2d2",
   "metadata": {
    "tags": []
   },
   "outputs": [],
   "source": [
    "df['common_channel_time_cost'] = df['cpu_time_cost'] + df['common_channel_communication_time_cost']"
   ]
  },
  {
   "cell_type": "code",
   "execution_count": 91,
   "id": "b9cf2956-4729-48a5-b06c-8cd6953f6ef7",
   "metadata": {
    "tags": []
   },
   "outputs": [],
   "source": [
    "df['hypercube_comm_cpu_time_ratio'] = df['hypercube_communication_time_cost'] / df['cpu_time_cost']"
   ]
  },
  {
   "cell_type": "code",
   "execution_count": 92,
   "id": "be90d43a-e051-4445-a183-b68f329f2843",
   "metadata": {
    "tags": []
   },
   "outputs": [],
   "source": [
    "df['common_channel_comm_cpu_time_ratio'] = df['common_channel_communication_time_cost'] / df['cpu_time_cost']"
   ]
  },
  {
   "cell_type": "markdown",
   "id": "270b7b80-e37e-45f6-badc-14e09ab83d8f",
   "metadata": {},
   "source": [
    "# Plots about cost"
   ]
  },
  {
   "cell_type": "code",
   "execution_count": 93,
   "id": "78880363-4c40-4799-9672-3218d2ec807a",
   "metadata": {
    "tags": []
   },
   "outputs": [],
   "source": [
    "# Define styles for each fda_name\n",
    "fda_styles = {\n",
    "    'naive': 'o-r',\n",
    "    'linear': 's-g',\n",
    "    'sketch': '^-b',\n",
    "    'synchronous': 'x-c'\n",
    "}\n",
    "fda_names = sorted(df['fda_name'].unique())"
   ]
  },
  {
   "cell_type": "code",
   "execution_count": 94,
   "id": "d4fbe02f-48f4-47f4-937b-79b16e40fa5b",
   "metadata": {
    "tags": []
   },
   "outputs": [],
   "source": [
    "import matplotlib\n",
    "\n",
    "num_clients_values = sorted(df['num_clients'].unique())\n",
    "cmap = matplotlib.colormaps['tab20b']\n",
    "colors_dict = {\n",
    "    num_clients: color \n",
    "    for num_clients, color in zip(num_clients_values, cmap(np.linspace(0, 1, len(num_clients_values))))\n",
    "}"
   ]
  },
  {
   "cell_type": "markdown",
   "id": "f1ad541a-b538-4598-bc75-fb3e94362216",
   "metadata": {
    "tags": []
   },
   "source": [
    "## Total time cost with accuracy (scatter)"
   ]
  },
  {
   "cell_type": "markdown",
   "id": "04ba5761-19fa-4842-83a5-68eca4b01e9d",
   "metadata": {},
   "source": [
    "### Scatter"
   ]
  },
  {
   "cell_type": "code",
   "execution_count": 95,
   "id": "8e48d38d-0b03-4579-9be4-583d27ceea8d",
   "metadata": {
    "tags": []
   },
   "outputs": [],
   "source": [
    "def scatter_time_cost(df, filename):\n",
    "    pdf = PdfPages(filename)\n",
    "    \n",
    "    fig, axs = plt.subplots(1, 2, figsize=(20, 6))\n",
    "    \n",
    "    # Prepare lists to store the average information for each subplot\n",
    "    avg_info_common_channel = []\n",
    "    avg_info_hypercube = []\n",
    "\n",
    "    # Plot the data points for each method (fda_name) for common_channel communication model\n",
    "    for fda_name in fda_names:\n",
    "        fda_filtered_data = df[(df['fda_name'] == fda_name)] \n",
    "        axs[0].scatter(fda_filtered_data['common_channel_time_cost'], fda_filtered_data['accuracy'], label=fda_name)\n",
    "        \n",
    "        # Calculate the average time cost for common_channel model and append to avg_info_common_channel\n",
    "        avg_time_common_channel = fda_filtered_data['common_channel_time_cost'].mean()\n",
    "        avg_info_common_channel.append(f'{fda_name}: {avg_time_common_channel:.2f} sec')\n",
    "        \n",
    "    \n",
    "    text_common_channel = \"Average Time Cost:\\n\" + '\\n'.join(avg_info_common_channel)\n",
    "    # Add the text annotation inside the first plot\n",
    "    axs[0].text(0.62, 0.97, text_common_channel, transform=axs[0].transAxes, fontsize=9, verticalalignment='top',\n",
    "                    bbox=dict(boxstyle='round', facecolor='wheat', alpha=0.4))\n",
    "\n",
    "    axs[0].set_xlabel('Time Cost (sec)')\n",
    "    axs[0].set_ylabel('Accuracy')\n",
    "    axs[0].legend()\n",
    "    axs[0].set_title(\"Common Channel Communication Model\")\n",
    "\n",
    "    # Plot the data points for each method (fda_name) for multi-bus model\n",
    "    for fda_name in fda_names:\n",
    "        fda_filtered_data = df[(df['fda_name'] == fda_name)] \n",
    "        axs[1].scatter(fda_filtered_data['hypercube_time_cost'], fda_filtered_data['accuracy'], label=fda_name)\n",
    "        \n",
    "        # Calculate the average time cost for hypercube model and append to avg_info_hypercube\n",
    "        avg_time_hypercube = fda_filtered_data['hypercube_time_cost'].mean()\n",
    "        avg_info_hypercube.append(f'{fda_name}: {avg_time_hypercube:.2f} sec')\n",
    "        \n",
    "    text_hypercube = \"Average Time Cost:\\n\" + '\\n'.join(avg_info_hypercube)\n",
    "    # Add the text annotation inside the second plot\n",
    "    axs[1].text(0.62, 0.97, text_hypercube, transform=axs[1].transAxes, fontsize=9, verticalalignment='top',\n",
    "                bbox=dict(boxstyle='round', facecolor='wheat', alpha=0.4))    \n",
    "\n",
    "    axs[0].grid(True, linestyle='--', linewidth=0.5, alpha=0.5)\n",
    "    axs[1].grid(True, linestyle='--', linewidth=0.5, alpha=0.5)\n",
    "        \n",
    "    axs[1].set_xlabel('Time Cost (sec)')\n",
    "    axs[1].set_ylabel('Accuracy')\n",
    "    axs[1].legend()\n",
    "    axs[1].set_title(\"Hypercube Communication Model\")\n",
    "    \n",
    "    axs[0].grid(True, linestyle='--', linewidth=0.5, alpha=0.5)\n",
    "    axs[1].grid(True, linestyle='--', linewidth=0.5, alpha=0.5)\n",
    "\n",
    "    plt.tight_layout()\n",
    "    \n",
    "    pdf.savefig(fig)\n",
    "        \n",
    "    # Close the current figure to prevent it from being displayed in the notebook\n",
    "    plt.close(fig)\n",
    "    pdf.close()"
   ]
  },
  {
   "cell_type": "markdown",
   "id": "302c8b2f-3066-4fb0-9038-65d310ca6526",
   "metadata": {},
   "source": [
    "### Histogram"
   ]
  },
  {
   "cell_type": "code",
   "execution_count": 96,
   "id": "11ec5130-0fd3-492e-a702-2857dc65dc1f",
   "metadata": {},
   "outputs": [],
   "source": [
    "def histo_time_cost(df, filename):\n",
    "    pdf = PdfPages(filename)\n",
    "    \n",
    "    fig, axs = plt.subplots(1, 2, figsize=(20, 6))\n",
    "\n",
    "    num_bins = 15\n",
    "    \n",
    "    hist_data_common_channel = []\n",
    "    hist_data_hypercube = []\n",
    "\n",
    "    # Prepare a list to store the average communication for each method\n",
    "    avg_time_cost_common_channel_dict = {}\n",
    "    avg_time_cost_hypercube_dict = {}\n",
    "    \n",
    "    # Prepare lists to store the average information (string) for each subplot\n",
    "    avg_info_common_channel = []\n",
    "    avg_info_hypercube = []\n",
    "\n",
    "    for fda_name in fda_names:\n",
    "        common_channel_df = df[df['fda_name'] == fda_name]['common_channel_time_cost']\n",
    "        avg_time_cost_common_channel_dict[fda_name] = common_channel_df.mean()\n",
    "        hist_data_common_channel.append(common_channel_df.tolist())\n",
    "        avg_info_common_channel.append(f'{fda_name}: {avg_time_cost_common_channel_dict[fda_name]:.2f} sec')\n",
    "        \n",
    "        hypercube_df = df[df['fda_name'] == fda_name]['hypercube_time_cost']\n",
    "        avg_time_cost_hypercube_dict[fda_name] = hypercube_df.mean()\n",
    "        hist_data_hypercube.append(hypercube_df.tolist())\n",
    "        avg_info_hypercube.append(f'{fda_name}: {avg_time_cost_hypercube_dict[fda_name]:.2f} sec')\n",
    "        \n",
    "\n",
    "    # 1. Common Channel - Plotting the histogram\n",
    "    n, _, patches  = axs[0].hist(hist_data_common_channel, num_bins, histtype='bar', label=fda_names)\n",
    "    \n",
    "    # Plotting the average lines\n",
    "    for i, fda_name in enumerate(fda_names):\n",
    "        axs[0].axvline(avg_time_cost_common_channel_dict[fda_name], color=patches[i][0].get_facecolor(), \n",
    "                    linestyle='--', linewidth=0.6)\n",
    "    \n",
    "    text = \"Average Time Cost:\\n\" + '\\n'.join(avg_info_common_channel)\n",
    "    # Add the text annotation inside the plot\n",
    "    axs[0].text(0.62, 0.97, text, transform=axs[0].transAxes, fontsize=9, verticalalignment='top',\n",
    "             bbox=dict(boxstyle='round', facecolor='wheat', alpha=0.4))\n",
    "    \n",
    "    axs[0].set_xlabel('Time Cost (sec)')\n",
    "    axs[0].set_ylabel('Count')\n",
    "    axs[0].legend()\n",
    "    axs[0].set_title(\"Common Channel Communication Model\")\n",
    "    axs[0].grid(True, linestyle='--', linewidth=0.5, alpha=0.5)\n",
    "    axs[0].legend()\n",
    "    \n",
    "    \n",
    "    # 2. Hypercube - Plotting the histogram\n",
    "    n, _, patches  = axs[1].hist(hist_data_hypercube, num_bins, histtype='bar', label=fda_names)\n",
    "    \n",
    "    # Plotting the average lines\n",
    "    for i, fda_name in enumerate(fda_names):\n",
    "        axs[1].axvline(avg_time_cost_hypercube_dict[fda_name], color=patches[i][0].get_facecolor(), \n",
    "                    linestyle='--', linewidth=0.6)\n",
    "\n",
    "    text = \"Average Time Cost:\\n\" + '\\n'.join(avg_info_hypercube)\n",
    "    # Add the text annotation inside the plot\n",
    "    axs[1].text(0.62, 0.97, text, transform=axs[1].transAxes, fontsize=9, verticalalignment='top',\n",
    "             bbox=dict(boxstyle='round', facecolor='wheat', alpha=0.4))\n",
    "    \n",
    "    axs[1].set_xlabel('Time Cost (sec)')\n",
    "    axs[1].set_ylabel('Count')\n",
    "    axs[1].legend()\n",
    "    axs[1].set_title(\"Hypercube Communication Model\")\n",
    "    axs[1].grid(True, linestyle='--', linewidth=0.5, alpha=0.5)\n",
    "    axs[1].legend()\n",
    "    \n",
    "    plt.tight_layout()\n",
    "    \n",
    "    pdf.savefig(fig)\n",
    "        \n",
    "    # Close the current figure to prevent it from being displayed in the notebook\n",
    "    plt.close(fig)\n",
    "    pdf.close()"
   ]
  },
  {
   "cell_type": "markdown",
   "id": "78fd1665-4e4b-4a86-a092-f11f7c695f8c",
   "metadata": {},
   "source": [
    "### KDE"
   ]
  },
  {
   "cell_type": "code",
   "execution_count": 97,
   "id": "cfb48896-af2d-4b62-bd6a-24a46f2eb240",
   "metadata": {
    "tags": []
   },
   "outputs": [],
   "source": [
    "def kde_time_cost(df, filename):\n",
    "    pdf = PdfPages(filename)\n",
    "    \n",
    "    fig, axs = plt.subplots(1, 2, figsize=(20, 6))\n",
    "    \n",
    "    hist_data_common_channel = []\n",
    "    hist_data_hypercube = []\n",
    "\n",
    "    # Prepare a list to store the average communication for each method\n",
    "    avg_time_cost_common_channel_dict = {}\n",
    "    avg_time_cost_hypercube_dict = {}\n",
    "    \n",
    "    # Prepare lists to store the average information (string) for each subplot\n",
    "    avg_info_common_channel = []\n",
    "    avg_info_hypercube = []\n",
    "\n",
    "    for fda_name in fda_names:\n",
    "        common_channel_df = df[df['fda_name'] == fda_name]['common_channel_time_cost']\n",
    "        avg_time_cost_common_channel_dict[fda_name] = common_channel_df.mean()\n",
    "        avg_info_common_channel.append(f'{fda_name}: {avg_time_cost_common_channel_dict[fda_name]:.2f} sec')\n",
    "        sns.kdeplot(common_channel_df, label=fda_name, fill=True, alpha=0.4, ax=axs[0])\n",
    "        \n",
    "        hypercube_df = df[df['fda_name'] == fda_name]['hypercube_time_cost']\n",
    "        avg_time_cost_hypercube_dict[fda_name] = hypercube_df.mean()\n",
    "        avg_info_hypercube.append(f'{fda_name}: {avg_time_cost_hypercube_dict[fda_name]:.2f} sec')\n",
    "        sns.kdeplot(hypercube_df, label=fda_name, fill=True, alpha=0.4, ax=axs[1])\n",
    "        \n",
    "    \n",
    "    text = \"Average Time Cost:\\n\" + '\\n'.join(avg_info_common_channel)\n",
    "    # Add the text annotation inside the plot\n",
    "    axs[0].text(0.62, 0.97, text, transform=axs[0].transAxes, fontsize=9, verticalalignment='top',\n",
    "             bbox=dict(boxstyle='round', facecolor='wheat', alpha=0.4))\n",
    "    \n",
    "    axs[0].set_xlim(left=0)\n",
    "    axs[0].set_xlabel('Time Cost (sec)')\n",
    "    axs[0].set_ylabel('Density')\n",
    "    axs[0].legend()\n",
    "    axs[0].set_title(\"Common Channel Communication Model\")\n",
    "    axs[0].grid(True, linestyle='--', linewidth=0.5, alpha=0.5)\n",
    "    axs[0].legend()\n",
    "\n",
    "    text = \"Average Time Cost:\\n\" + '\\n'.join(avg_info_hypercube)\n",
    "    # Add the text annotation inside the plot\n",
    "    axs[1].text(0.62, 0.97, text, transform=axs[1].transAxes, fontsize=9, verticalalignment='top',\n",
    "             bbox=dict(boxstyle='round', facecolor='wheat', alpha=0.4))\n",
    "    \n",
    "    axs[1].set_xlim(left=0)\n",
    "    axs[1].set_xlabel('Time Cost (sec)')\n",
    "    axs[1].set_ylabel('Density')\n",
    "    axs[1].legend()\n",
    "    axs[1].set_title(\"Hypercube Communication Model\")\n",
    "    axs[1].grid(True, linestyle='--', linewidth=0.5, alpha=0.5)\n",
    "    axs[1].legend()\n",
    "    \n",
    "    plt.tight_layout()\n",
    "    \n",
    "    pdf.savefig(fig)\n",
    "        \n",
    "    # Close the current figure to prevent it from being displayed in the notebook\n",
    "    plt.close(fig)\n",
    "    pdf.close()"
   ]
  },
  {
   "cell_type": "markdown",
   "id": "b2320ef3-66a1-4397-9b3f-6fd0c13ea5d6",
   "metadata": {
    "tags": []
   },
   "source": [
    "## Total Communication cost (in gb) with accuracy (scatter)"
   ]
  },
  {
   "cell_type": "markdown",
   "id": "7a7cd56d-abce-4f6f-ab32-eccaa2be7905",
   "metadata": {},
   "source": [
    "### Scatter"
   ]
  },
  {
   "cell_type": "code",
   "execution_count": 98,
   "id": "cb36d110-a84e-438c-aea0-7c70ac93039b",
   "metadata": {
    "tags": []
   },
   "outputs": [],
   "source": [
    "def scatter_communication_cost(df, filename):\n",
    "    pdf = PdfPages(filename)\n",
    "    \n",
    "    plt.figure(figsize=(10, 6))\n",
    "    \n",
    "    # Prepare a list to store the average information for the title\n",
    "    avg_info = []\n",
    "\n",
    "    # Plot the data points for each method (fda_name) for common_channel communication model\n",
    "    for fda_name in fda_names:\n",
    "        fda_filtered_data = df[(df['fda_name'] == fda_name)] \n",
    "        plt.scatter(fda_filtered_data['total_communication_gb'], fda_filtered_data['accuracy'], label=fda_name)\n",
    "\n",
    "        # Calculate the average communication for each method and append to avg_info\n",
    "        avg_communication = fda_filtered_data['total_communication_gb'].mean()\n",
    "        avg_info.append(f'{fda_name}: {avg_communication:.2f} GB')\n",
    "\n",
    "    text = \"Average Communication:\\n\" + '\\n'.join(avg_info)\n",
    "    # Add the text annotation inside the plot\n",
    "    plt.text(0.62, 0.97, text, transform=plt.gca().transAxes, fontsize=9, verticalalignment='top',\n",
    "             bbox=dict(boxstyle='round', facecolor='wheat', alpha=0.4))\n",
    "\n",
    "    plt.xlabel('Communication (GB)')\n",
    "    plt.ylabel('Accuracy')\n",
    "    plt.legend()\n",
    "\n",
    "    plt.grid(True, linestyle='--', linewidth=0.5, alpha=0.5)\n",
    "\n",
    "    plt.tight_layout()\n",
    "    \n",
    "    pdf.savefig(plt.gcf()) # Save the current figure\n",
    "        \n",
    "    # Close the current figure to prevent it from being displayed in the notebook\n",
    "    plt.close()\n",
    "    pdf.close()"
   ]
  },
  {
   "cell_type": "markdown",
   "id": "86242e76-a62a-42dc-83bf-3ec3318765fa",
   "metadata": {},
   "source": [
    "### Histogram"
   ]
  },
  {
   "cell_type": "code",
   "execution_count": 99,
   "id": "8945e3a8-879f-48fc-9b2f-35e36cb9b6ed",
   "metadata": {
    "tags": []
   },
   "outputs": [],
   "source": [
    "def histo_communication_cost(df, filename):\n",
    "    pdf = PdfPages(filename)\n",
    "    \n",
    "    plt.figure(figsize=(10, 6))\n",
    "\n",
    "    num_bins = 15\n",
    "    hist_data = []\n",
    "\n",
    "    # Prepare a list to store the average communication for each method\n",
    "    avg_communications_dict = {}\n",
    "    \n",
    "    avg_info = []\n",
    "\n",
    "    for fda_name in fda_names:\n",
    "        fda_data_df = df[df['fda_name'] == fda_name]['total_communication_gb']\n",
    "        avg_communications_dict[fda_name] = fda_data_df.mean()\n",
    "        hist_data.append(fda_data_df.tolist())\n",
    "        avg_info.append(f'{fda_name}: {avg_communications_dict[fda_name]:.2f} GB')\n",
    "\n",
    "    # Plotting the histogram\n",
    "    n, _, patches = plt.hist(hist_data, num_bins, histtype='bar', label=fda_names)\n",
    "\n",
    "    # Plotting the average lines\n",
    "    for i, fda_name in enumerate(fda_names):\n",
    "        plt.axvline(avg_communications_dict[fda_name], color=patches[i][0].get_facecolor(), \n",
    "                    linestyle='--', linewidth=0.6)\n",
    "    \n",
    "    text = \"Average Communication:\\n\" + '\\n'.join(avg_info)\n",
    "    # Add the text annotation inside the plot\n",
    "    plt.text(0.62, 0.97, text, transform=plt.gca().transAxes, fontsize=9, verticalalignment='top',\n",
    "             bbox=dict(boxstyle='round', facecolor='wheat', alpha=0.4))\n",
    "\n",
    "    plt.grid(True, linestyle='--', linewidth=0.5, alpha=0.5)\n",
    "    plt.xlabel('Communication (GB)')\n",
    "    plt.ylabel('Count')\n",
    "    plt.legend()\n",
    "    plt.tight_layout()\n",
    "    \n",
    "    pdf.savefig(plt.gcf()) # Save the current figure\n",
    "        \n",
    "    # Close the current figure to prevent it from being displayed in the notebook\n",
    "    plt.close()\n",
    "    pdf.close()"
   ]
  },
  {
   "cell_type": "markdown",
   "id": "3df3f1eb-20a7-4d2a-ba60-cc36708ca42a",
   "metadata": {},
   "source": [
    "### KDE"
   ]
  },
  {
   "cell_type": "code",
   "execution_count": 100,
   "id": "83fca381-1fc0-4f35-9115-cd6effb3129f",
   "metadata": {
    "tags": []
   },
   "outputs": [],
   "source": [
    "def kde_communication_cost(df, filename):\n",
    "    pdf = PdfPages(filename)\n",
    "    \n",
    "    plt.figure(figsize=(10, 6))\n",
    "\n",
    "    avg_communications_dict = {}\n",
    "    avg_info = []\n",
    "\n",
    "    for fda_name in fda_names:\n",
    "        fda_data_df = df[df['fda_name'] == fda_name]['total_communication_gb']\n",
    "        avg_communications_dict[fda_name] = fda_data_df.mean()\n",
    "        avg_info.append(f'{fda_name}: {avg_communications_dict[fda_name]:.2f} GB')\n",
    "        \n",
    "        # Plotting only the KDE using kdeplot\n",
    "        sns.kdeplot(fda_data_df, label=fda_name, fill=True, alpha=0.4)\n",
    "\n",
    "    text = \"Average Communication:\\n\" + '\\n'.join(avg_info)\n",
    "    # Add the text annotation inside the plot\n",
    "    plt.text(0.62, 0.97, text, transform=plt.gca().transAxes, fontsize=9, verticalalignment='top',\n",
    "             bbox=dict(boxstyle='round', facecolor='wheat', alpha=0.4))\n",
    "\n",
    "    plt.xlim(left=0)\n",
    "    plt.grid(True, linestyle='--', linewidth=0.5, alpha=0.5)\n",
    "    plt.xlabel('Communication (GB)')\n",
    "    plt.ylabel('Density')\n",
    "    plt.legend()\n",
    "    plt.tight_layout()\n",
    "    \n",
    "    pdf.savefig(plt.gcf()) # Save the current figure\n",
    "        \n",
    "    # Close the current figure to prevent it from being displayed in the notebook\n",
    "    plt.close()\n",
    "    pdf.close()"
   ]
  },
  {
   "cell_type": "markdown",
   "id": "c3d35fd9-5826-4e5d-83fa-d9522eb7d2b1",
   "metadata": {},
   "source": [
    "## Total CPU time (in Seconds) with accuracy"
   ]
  },
  {
   "cell_type": "markdown",
   "id": "0c862d0a-da6a-4aad-bbc1-7c08cbeb7b4e",
   "metadata": {},
   "source": [
    "### Scatter"
   ]
  },
  {
   "cell_type": "code",
   "execution_count": 101,
   "id": "7e6cf8b9-25e5-44e3-a154-40784ea18d70",
   "metadata": {
    "tags": []
   },
   "outputs": [],
   "source": [
    "def scatter_cpu_time_cost(df, filename):\n",
    "    pdf = PdfPages(filename)\n",
    "    \n",
    "    plt.figure(figsize=(10, 6))\n",
    "    \n",
    "    # Prepare a list to store the average information for the title\n",
    "    avg_info = []\n",
    "\n",
    "    # Plot the data points for each method (fda_name) for common_channel communication model\n",
    "    for fda_name in fda_names:\n",
    "        fda_filtered_data = df[(df['fda_name'] == fda_name)] \n",
    "        plt.scatter(fda_filtered_data['cpu_time_cost'], fda_filtered_data['accuracy'], label=fda_name)\n",
    "        \n",
    "        # Calculate the average communication for each method and append to avg_info\n",
    "        avg_cpu_time = fda_filtered_data['cpu_time_cost'].mean()\n",
    "        avg_info.append(f'{fda_name}: {avg_cpu_time:.2f} sec')\n",
    "    \n",
    "    text = \"Average CPU time:\\n\" + '\\n'.join(avg_info)\n",
    "    # Add the text annotation inside the plot\n",
    "    plt.text(0.62, 0.97, text, transform=plt.gca().transAxes, fontsize=9, verticalalignment='top',\n",
    "             bbox=dict(boxstyle='round', facecolor='wheat', alpha=0.4))\n",
    "\n",
    "    plt.xlabel('CPU time cost (sec)')\n",
    "    plt.ylabel('Accuracy')\n",
    "    plt.legend()\n",
    "\n",
    "    plt.grid(True, linestyle='--', linewidth=0.5, alpha=0.5)\n",
    "\n",
    "    plt.tight_layout()\n",
    "    \n",
    "    pdf.savefig(plt.gcf()) # Save the current figure\n",
    "        \n",
    "    # Close the current figure to prevent it from being displayed in the notebook\n",
    "    plt.close()\n",
    "    pdf.close()"
   ]
  },
  {
   "cell_type": "markdown",
   "id": "9389ac38-0b57-45c1-a9c7-05f95c967924",
   "metadata": {},
   "source": [
    "### Histogram"
   ]
  },
  {
   "cell_type": "code",
   "execution_count": 102,
   "id": "19a2c707-8246-4ed6-ab14-1a40471512dd",
   "metadata": {
    "tags": []
   },
   "outputs": [],
   "source": [
    "def histo_cpu_time_cost(df, filename):\n",
    "    pdf = PdfPages(filename)\n",
    "    \n",
    "    plt.figure(figsize=(10, 6))\n",
    "\n",
    "    num_bins = 15\n",
    "    hist_data = []\n",
    "\n",
    "    # Prepare a list to store the average communication for each method\n",
    "    avg_cpu_dict = {}\n",
    "    \n",
    "    avg_info = []\n",
    "\n",
    "    for fda_name in fda_names:\n",
    "        fda_data_df = df[df['fda_name'] == fda_name]['cpu_time_cost']\n",
    "        avg_cpu_dict[fda_name] = fda_data_df.mean()\n",
    "        hist_data.append(fda_data_df.tolist())\n",
    "        avg_info.append(f'{fda_name}: {avg_cpu_dict[fda_name]:.2f} sec')\n",
    "\n",
    "    # Plotting the histogram\n",
    "    n, _, patches = plt.hist(hist_data, num_bins, histtype='bar', label=fda_names)\n",
    "\n",
    "    # Plotting the average lines\n",
    "    for i, fda_name in enumerate(fda_names):\n",
    "        plt.axvline(avg_cpu_dict[fda_name], color=patches[i][0].get_facecolor(), \n",
    "                    linestyle='--', linewidth=0.6)\n",
    "    \n",
    "    text = \"Average CPU time:\\n\" + '\\n'.join(avg_info)\n",
    "    # Add the text annotation inside the plot\n",
    "    plt.text(0.62, 0.97, text, transform=plt.gca().transAxes, fontsize=9, verticalalignment='top',\n",
    "             bbox=dict(boxstyle='round', facecolor='wheat', alpha=0.4))\n",
    "\n",
    "    plt.grid(True, linestyle='--', linewidth=0.5, alpha=0.5)\n",
    "    plt.xlabel('CPU time cost (sec)')\n",
    "    plt.ylabel('Count')\n",
    "    plt.legend()\n",
    "    plt.tight_layout()\n",
    "    \n",
    "    pdf.savefig(plt.gcf()) # Save the current figure\n",
    "        \n",
    "    # Close the current figure to prevent it from being displayed in the notebook\n",
    "    plt.close()\n",
    "    pdf.close()"
   ]
  },
  {
   "cell_type": "markdown",
   "id": "52af3838-5f3d-4ae6-8070-9ab446bed403",
   "metadata": {},
   "source": [
    "### KDE"
   ]
  },
  {
   "cell_type": "code",
   "execution_count": 103,
   "id": "ee28d792-6495-4ab1-a694-9cf2fb1799eb",
   "metadata": {
    "tags": []
   },
   "outputs": [],
   "source": [
    "def kde_cpu_time_cost(df, filename):\n",
    "    pdf = PdfPages(filename)\n",
    "    \n",
    "    plt.figure(figsize=(10, 6))\n",
    "\n",
    "    avg_cpu_dict = {}\n",
    "    avg_info = []\n",
    "\n",
    "    for fda_name in fda_names:\n",
    "        fda_data_df = df[df['fda_name'] == fda_name]['cpu_time_cost']\n",
    "        avg_cpu_dict[fda_name] = fda_data_df.mean()\n",
    "        avg_info.append(f'{fda_name}: {avg_cpu_dict[fda_name]:.2f} sec')\n",
    "        \n",
    "        # Plotting only the KDE using kdeplot\n",
    "        sns.kdeplot(fda_data_df, label=fda_name, fill=True, alpha=0.4)\n",
    "\n",
    "    text = \"Average Communication:\\n\" + '\\n'.join(avg_info)\n",
    "    # Add the text annotation inside the plot\n",
    "    plt.text(0.62, 0.97, text, transform=plt.gca().transAxes, fontsize=9, verticalalignment='top',\n",
    "             bbox=dict(boxstyle='round', facecolor='wheat', alpha=0.4))\n",
    "\n",
    "    plt.xlim(left=0)\n",
    "    plt.grid(True, linestyle='--', linewidth=0.5, alpha=0.5)\n",
    "    plt.xlabel('CPU time cost (sec)')\n",
    "    plt.ylabel('Count')\n",
    "    plt.legend()\n",
    "    plt.tight_layout()\n",
    "    \n",
    "    pdf.savefig(plt.gcf()) # Save the current figure\n",
    "        \n",
    "    # Close the current figure to prevent it from being displayed in the notebook\n",
    "    plt.close()\n",
    "    pdf.close()"
   ]
  },
  {
   "cell_type": "markdown",
   "id": "b88e8d24-250d-4607-8d5c-d218534deada",
   "metadata": {},
   "source": [
    "## Communication/CPU time - Accuracy"
   ]
  },
  {
   "cell_type": "markdown",
   "id": "8f0325aa-dc5a-4d1c-8d85-ac441334a822",
   "metadata": {
    "tags": []
   },
   "source": [
    "### Scatter"
   ]
  },
  {
   "cell_type": "code",
   "execution_count": 104,
   "id": "97931411-ed22-4342-a906-2b1b2e3a5be7",
   "metadata": {
    "tags": []
   },
   "outputs": [],
   "source": [
    "def scatter_time_cost_cpu_ratio(df, filename):\n",
    "    \n",
    "    pdf = PdfPages(filename)\n",
    "\n",
    "    fig, axs = plt.subplots(1, 2, figsize=(20, 6))\n",
    "\n",
    "    # Plot the data points for each method (fda_name) for single-bus model\n",
    "    for fda_name in fda_names:\n",
    "        fda_filtered_data = df[(df['fda_name'] == fda_name)] \n",
    "        axs[0].scatter(fda_filtered_data['common_channel_comm_cpu_time_ratio'], fda_filtered_data['accuracy'], label=fda_name)\n",
    "\n",
    "    axs[0].set_xlabel('(Communication time) / (CPU time)')\n",
    "    axs[0].set_ylabel('Accuracy')\n",
    "    axs[0].legend()\n",
    "    axs[0].set_title(\"Common Channel Communication Model\")\n",
    "\n",
    "    # Plot the data points for each method (fda_name) for multi-bus model\n",
    "    for fda_name in fda_names:\n",
    "        fda_filtered_data = df[(df['fda_name'] == fda_name)] \n",
    "        axs[1].scatter(fda_filtered_data['hypercube_comm_cpu_time_ratio'], fda_filtered_data['accuracy'], label=fda_name)\n",
    "\n",
    "    axs[0].grid(True, linestyle='--', linewidth=0.5, alpha=0.5)\n",
    "    axs[1].grid(True, linestyle='--', linewidth=0.5, alpha=0.5)   \n",
    "        \n",
    "    axs[1].set_xlabel('(Communication time) / (CPU time)')\n",
    "    axs[1].set_ylabel('Accuracy')\n",
    "    axs[1].legend()\n",
    "    axs[1].set_title(\"Hypercube Communication Model\")\n",
    "    \n",
    "    axs[0].grid(True, linestyle='--', linewidth=0.5, alpha=0.5)\n",
    "    axs[1].grid(True, linestyle='--', linewidth=0.5, alpha=0.5)\n",
    "\n",
    "    plt.tight_layout()\n",
    "    pdf.savefig(fig)\n",
    "        \n",
    "    # Close the current figure to prevent it from being displayed in the notebook\n",
    "    plt.close(fig)\n",
    "    pdf.close()"
   ]
  },
  {
   "cell_type": "markdown",
   "id": "f41927ab-99a7-40db-a5e1-f293bb132b18",
   "metadata": {},
   "source": [
    "## Different FDA-method runs visualization with lines (per clients)"
   ]
  },
  {
   "cell_type": "code",
   "execution_count": 105,
   "id": "977881d7-0252-4838-bdff-24dcc07a61b9",
   "metadata": {
    "tags": []
   },
   "outputs": [],
   "source": [
    "import matplotlib\n",
    "from matplotlib import cm\n",
    "\n",
    "def fda_method_run_line_plot(df, fda_name, filename, limit_x_axis=False):\n",
    "    \n",
    "    hybrid_df = df[df.fda_name == fda_name]\n",
    "    \n",
    "    batch_size_values = sorted(hybrid_df['batch_size'].unique())\n",
    "    theta_values = sorted(hybrid_df['theta'].unique())\n",
    "    \n",
    "    pdf = PdfPages(filename)\n",
    "\n",
    "    for batch_size in batch_size_values:\n",
    "        for theta in theta_values:\n",
    "            filtered_data = hybrid_df[(hybrid_df['theta'] == theta) &\n",
    "                                       (hybrid_df['batch_size'] == batch_size)] \n",
    "\n",
    "            if filtered_data.empty:\n",
    "                continue\n",
    "            \n",
    "            num_clients_values = sorted(filtered_data['num_clients'].unique())\n",
    "            \n",
    "            #print(f\"{batch_size} {theta} {filtered_data[['fda_name','accuracy']]}\")\n",
    "                \n",
    "            # Because num_clients = 2 reaches very good accuracy very early we need to limit the x-axis so we can \n",
    "            # visualize the rest of the data more easily. We get the next max time cost and limit x\n",
    "            # Get the maximum 'common_channel_time_cost' and 'hypercube_time_cost' when num_clients is not 2\n",
    "            if limit_x_axis:\n",
    "                # The num clients = 2 cause problems. We put limit 10 after the next in line\n",
    "                max_common_channel_time_cost = filtered_data[filtered_data['num_clients'] != 2]['common_channel_time_cost'].max()\n",
    "                max_hypercube_time_cost = filtered_data[filtered_data['num_clients'] != 2]['hypercube_time_cost'].max()\n",
    "\n",
    "\n",
    "            fig, axs = plt.subplots(1, 2, figsize=(20, 6))\n",
    "\n",
    "            # Plot each group with a unique color based on num_clients\n",
    "            for num_clients in num_clients_values:\n",
    "                data = filtered_data[filtered_data['num_clients'] == num_clients]\n",
    "\n",
    "                axs[0].plot(data['common_channel_time_cost'], data['accuracy'], color=colors_dict[num_clients], label=num_clients, marker='o', markersize=3)\n",
    "                axs[1].plot(data['hypercube_time_cost'], data['accuracy'], color=colors_dict[num_clients], label=num_clients, marker='o', markersize=3)\n",
    "                \n",
    "            \n",
    "            axs[0].grid(True, linestyle='--', linewidth=0.5, alpha=0.5)\n",
    "            axs[1].grid(True, linestyle='--', linewidth=0.5, alpha=0.5)\n",
    "            \n",
    "            #axs[0].set_ylim(top=1)\n",
    "            #axs[1].set_ylim(top=1)\n",
    "\n",
    "            axs[0].set_xlabel('Time Cost')\n",
    "            axs[0].set_ylabel('Accuracy')\n",
    "            axs[0].set_title(\"Common Channel Communication Model\")\n",
    "            axs[0].legend(title='Num Clients')\n",
    "            if limit_x_axis:\n",
    "                axs[0].set_xlim(0, max_common_channel_time_cost+700)  # set x-axis limit\n",
    "\n",
    "            axs[1].set_xlabel('Time Cost')\n",
    "            axs[1].set_ylabel('Accuracy')\n",
    "            axs[1].set_title(\"Hypercube Communication Model\")\n",
    "            axs[1].legend(title='Num Clients')\n",
    "            if limit_x_axis:\n",
    "                axs[1].set_xlim(0, max_hypercube_time_cost+500)  # set x-axis limit\n",
    "\n",
    "            title = f'Batch Size : {batch_size} , $\\Theta$ : {theta}'\n",
    "\n",
    "            fig.suptitle(title)\n",
    "\n",
    "            plt.tight_layout()\n",
    "\n",
    "            pdf.savefig(fig)\n",
    "\n",
    "            plt.close(fig)\n",
    "\n",
    "    pdf.close()"
   ]
  },
  {
   "cell_type": "markdown",
   "id": "365e9052-69dd-4303-bfeb-01e116c05b35",
   "metadata": {},
   "source": [
    "## Keep Hyper-parameters fixed and plot for filtered"
   ]
  },
  {
   "cell_type": "code",
   "execution_count": 106,
   "id": "88bce791-9f09-476b-a85e-c7c30559d2de",
   "metadata": {
    "tags": []
   },
   "outputs": [],
   "source": [
    "def fda_methods_batch_size(df, filename):\n",
    "    pdf = PdfPages(filename)\n",
    "    \n",
    "    num_clients_values = sorted(df['num_clients'].unique())\n",
    "    theta_values = sorted(df['theta'].unique())[1:]\n",
    "\n",
    "    for num_clients in num_clients_values:\n",
    "        for theta in theta_values:\n",
    "            filtered_df = df[(df['theta'] == theta) & (df['num_clients'] == num_clients)] \n",
    "            synchronous_data = df[(df['num_clients'] == num_clients) & (df['fda_name'] == 'synchronous')] \n",
    "            \n",
    "            fig, axs = plt.subplots(1, 2, figsize=(20, 6))\n",
    "            \n",
    "            for fda_name in fda_names:\n",
    "                \n",
    "                fda_data = filtered_df[filtered_df['fda_name'] == fda_name]\n",
    "                \n",
    "                if fda_data.empty:\n",
    "                    continue\n",
    "\n",
    "                axs[0].plot(fda_data['batch_size'], fda_data['common_channel_time_cost'], marker='o', label=fda_name, markersize=3)\n",
    "                axs[1].plot(fda_data['batch_size'], fda_data['hypercube_time_cost'], marker='o', label=fda_name, markersize=3)\n",
    "            \n",
    "            if not synchronous_data.empty:\n",
    "                axs[0].plot(synchronous_data['batch_size'], synchronous_data['common_channel_time_cost'], marker='o', label='synchronous', markersize=3)\n",
    "                axs[1].plot(synchronous_data['batch_size'], synchronous_data['hypercube_time_cost'], marker='o', label='synchronous', markersize=3)\n",
    "\n",
    "            \n",
    "            if not axs[0].has_data():\n",
    "                plt.close(fig)\n",
    "                continue\n",
    "            \n",
    "            x_ticks = [32, 128, 256]\n",
    "            \n",
    "            axs[0].set_xticks(x_ticks)\n",
    "            axs[0].set_xlabel('Batch size')\n",
    "            axs[0].legend()\n",
    "            axs[0].set_title(\"Common Channel Communication Model\")\n",
    "            axs[0].set_ylabel('Time Cost')\n",
    "            axs[0].grid(True, linestyle='--', linewidth=0.5, alpha=0.5)\n",
    "            \n",
    "            axs[1].set_xticks(x_ticks)\n",
    "            axs[1].set_xlabel('Batch size')\n",
    "            axs[1].legend()\n",
    "            axs[1].set_title(\"Hypercube Communication Model\")\n",
    "            axs[1].set_ylabel('Time Cost')\n",
    "            axs[1].grid(True, linestyle='--', linewidth=0.5, alpha=0.5)\n",
    "            \n",
    "            title = f'Num Clients : {num_clients} , $\\Theta$ : {theta}'\n",
    "            fig.suptitle(title)\n",
    "\n",
    "            plt.tight_layout()\n",
    "            pdf.savefig(fig)\n",
    "\n",
    "            plt.close(fig)\n",
    "    pdf.close()"
   ]
  },
  {
   "cell_type": "code",
   "execution_count": 107,
   "id": "d893dadb-18b0-400d-a36f-60bd92c2970c",
   "metadata": {
    "tags": []
   },
   "outputs": [],
   "source": [
    "def fda_methods_clients(df, filename):\n",
    "    pdf = PdfPages(filename)\n",
    "    \n",
    "    batch_size_values = sorted(df['batch_size'].unique())\n",
    "    theta_values = sorted(df['theta'].unique())[1:]\n",
    "\n",
    "    for batch_size in batch_size_values:\n",
    "        for theta in theta_values:\n",
    "            \n",
    "            filtered_df = df[(df['theta'] == theta) & (df['batch_size'] == batch_size)] \n",
    "            \n",
    "            if filtered_df.empty:\n",
    "                continue\n",
    "                \n",
    "            synchronous_data = df[(df['batch_size'] == batch_size) & (df['fda_name'] == 'synchronous')] \n",
    "            \n",
    "            fig, axs = plt.subplots(1, 2, figsize=(20, 6))\n",
    "            \n",
    "            for fda_name in fda_names:\n",
    "                \n",
    "                fda_data = filtered_df[filtered_df['fda_name'] == fda_name]\n",
    "                \n",
    "                if fda_data.empty:\n",
    "                    continue\n",
    "\n",
    "                empty = False\n",
    "                axs[0].plot(fda_data['num_clients'], fda_data['common_channel_time_cost'], marker='o', label=fda_name, markersize=3)\n",
    "                axs[1].plot(fda_data['num_clients'], fda_data['hypercube_time_cost'], marker='o', label=fda_name, markersize=3)\n",
    "            \n",
    "            if not synchronous_data.empty:\n",
    "                axs[0].plot(synchronous_data['num_clients'], synchronous_data['common_channel_time_cost'], marker='o', label='synchronous', markersize=3)\n",
    "                axs[1].plot(synchronous_data['num_clients'], synchronous_data['hypercube_time_cost'], marker='o', label='synchronous', markersize=3)\n",
    "\n",
    "            if not axs[0].has_data():\n",
    "                plt.close(fig)\n",
    "                continue\n",
    "                \n",
    "            # Set xticks every 5 units based on available values\n",
    "            min_clients = 5\n",
    "            max_clients = 60\n",
    "            \n",
    "            x_ticks = list(range(min_clients, max_clients + 1, 5))\n",
    "            \n",
    "            axs[0].set_xticks(x_ticks)\n",
    "            axs[0].set_xlabel('Number of clients')\n",
    "            axs[0].legend()\n",
    "            axs[0].set_title(\"Common Channel Communication Model\")\n",
    "            axs[0].set_ylabel('Time Cost')\n",
    "            axs[0].grid(True, linestyle='--', linewidth=0.5, alpha=0.5)\n",
    "            \n",
    "            axs[1].set_xticks(x_ticks)\n",
    "            axs[1].set_xlabel('Number of clients')\n",
    "            axs[1].legend()\n",
    "            axs[1].set_title(\"Hypercube Communication Model\")\n",
    "            axs[1].set_ylabel('Time Cost')\n",
    "            axs[1].grid(True, linestyle='--', linewidth=0.5, alpha=0.5)\n",
    "            \n",
    "            title = f'Batch Size : {batch_size} , $\\Theta$ : {theta}'\n",
    "            fig.suptitle(title)\n",
    "\n",
    "            plt.tight_layout()\n",
    "\n",
    "            pdf.savefig(fig)\n",
    "\n",
    "            plt.close(fig)\n",
    "    pdf.close()"
   ]
  },
  {
   "cell_type": "code",
   "execution_count": 108,
   "id": "ba88b393-405d-4575-9ca6-3dded344963c",
   "metadata": {
    "tags": []
   },
   "outputs": [],
   "source": [
    "def fda_methods_theta(df, filename):\n",
    "    pdf = PdfPages(filename)\n",
    "    \n",
    "    num_clients_values = sorted(df['num_clients'].unique())\n",
    "    batch_sizes = sorted(df['batch_size'].unique())\n",
    "\n",
    "    for num_clients in num_clients_values:\n",
    "        for batch_size in batch_sizes:\n",
    "            filtered_df = df[(df['batch_size'] == batch_size) & (df['num_clients'] == num_clients)] \n",
    "            synchronous_data = df[(df['num_clients'] == num_clients) & (df['fda_name'] == 'synchronous')] \n",
    "            \n",
    "            fig, axs = plt.subplots(1, 2, figsize=(20, 6))\n",
    "            \n",
    "            for fda_name in fda_names+['synchronous']:\n",
    "                \n",
    "                fda_data = filtered_df[filtered_df['fda_name'] == fda_name]\n",
    "                \n",
    "                if fda_data.empty:\n",
    "                    continue\n",
    "\n",
    "                axs[0].plot(fda_data['theta'], fda_data['common_channel_time_cost'], marker='o', label=fda_name, markersize=3)\n",
    "                axs[1].plot(fda_data['theta'], fda_data['hypercube_time_cost'], marker='o', label=fda_name, markersize=3)\n",
    "\n",
    "            \n",
    "            if not axs[0].has_data():\n",
    "                plt.close(fig)\n",
    "                continue\n",
    "                \n",
    "            x_ticks = [0., 0.5, 1., 2.]\n",
    "            \n",
    "            axs[0].set_xticks(x_ticks)\n",
    "            axs[0].set_xlabel('Theta')\n",
    "            axs[0].legend()\n",
    "            axs[0].set_title(\"Common Channel Communication Model\")\n",
    "            axs[0].set_ylabel('Time Cost')\n",
    "            axs[0].grid(True, linestyle='--', linewidth=0.5, alpha=0.5)\n",
    "            \n",
    "            axs[1].set_xticks(x_ticks)\n",
    "            axs[1].set_xlabel('Theta')\n",
    "            axs[1].legend()\n",
    "            axs[1].set_title(\"Hypercube Communication Model\")\n",
    "            axs[1].set_ylabel('Time Cost')\n",
    "            axs[1].grid(True, linestyle='--', linewidth=0.5, alpha=0.5)\n",
    "            \n",
    "            title = f'Num Clients : {num_clients} , Batch Size : {batch_size}'\n",
    "            fig.suptitle(title)\n",
    "\n",
    "            plt.tight_layout()\n",
    "            pdf.savefig(fig)\n",
    "\n",
    "            plt.close(fig)\n",
    "    pdf.close()"
   ]
  },
  {
   "cell_type": "code",
   "execution_count": null,
   "id": "a91fa0dd-379a-40b8-9471-4c8287611d0e",
   "metadata": {},
   "outputs": [],
   "source": []
  },
  {
   "cell_type": "markdown",
   "id": "c4916c39-2e66-494d-99fc-75150184ea09",
   "metadata": {},
   "source": [
    "## Save all those time-cost plots"
   ]
  },
  {
   "cell_type": "code",
   "execution_count": 109,
   "id": "da4331e9-631b-4f3c-a348-ec8e0ae31077",
   "metadata": {
    "tags": []
   },
   "outputs": [],
   "source": [
    "import os\n",
    "\n",
    "def time_cost_plots(df, acc_threshold, nn_name, limit_x_axis=False, show_runs=False, params=False):\n",
    "    # Filter out based on `acc_threshold`\n",
    "    acceptable_acc_df = df[(df.accuracy > acc_threshold) & (df.nn_name == nn_name)]\n",
    "    \n",
    "    str_thresh = str(acc_threshold).replace('.', '_')  # replace '.'\n",
    "    \n",
    "    if not os.path.exists(f\"../../metrics/plots/{nn_name}/{str_thresh}\"):\n",
    "        os.makedirs(f\"../../metrics/plots/{nn_name}/{str_thresh}\")\n",
    "    \n",
    "    # 1. Same runs are included\n",
    "    #scatter_time_cost(acceptable_acc_df, f\"../../metrics/plots/{nn_name}/{str_thresh}/nonfiltered_scatter_time_cost.pdf\")\n",
    "    #scatter_time_cost_cpu_ratio(acceptable_acc_df, f\"../../metrics/plots/{nn_name}/{str_thresh}/nonfiltered_scatter_time_cost_cpu_ratio.pdf\")\n",
    "    \n",
    "    if show_runs:\n",
    "        # Plot the runs of each method. x-axis : time cost, y-axis : accuracy, PER number of clients (lines)\n",
    "        fda_method_run_line_plot(acceptable_acc_df, 'sketch', f\"../../metrics/plots/{nn_name}/{str_thresh}/sketch_run.pdf\", limit_x_axis=limit_x_axis)\n",
    "        fda_method_run_line_plot(acceptable_acc_df, 'naive', f\"../../metrics/plots/{nn_name}/{str_thresh}/naive_run.pdf\", limit_x_axis=limit_x_axis)\n",
    "        fda_method_run_line_plot(acceptable_acc_df, 'linear', f\"../../metrics/plots/{nn_name}/{str_thresh}/linear_run.pdf\", limit_x_axis=limit_x_axis)\n",
    "        fda_method_run_line_plot(acceptable_acc_df, 'synchronous', f\"../../metrics/plots/{nn_name}/{str_thresh}/synchronous_run.pdf\", limit_x_axis=limit_x_axis)\n",
    "    \n",
    "    # 2. Filter out same runs. We choose the instance which first hits the `acc_threshold`\n",
    "    idx = acceptable_acc_df.groupby(['fda_name', 'num_clients', 'batch_size', 'theta'])['epoch'].idxmin()\n",
    "    filtered_acceptable_acc_df = acceptable_acc_df.loc[idx]\n",
    "    \n",
    "    # 2. Same runs are NOT included\n",
    "    #scatter_time_cost(filtered_acceptable_acc_df, f\"../../metrics/plots/{nn_name}/{str_thresh}/filtered_scatter_time_cost.pdf\")\n",
    "    #histo_time_cost(filtered_acceptable_acc_df, f\"../../metrics/plots/{nn_name}/{str_thresh}/filtered_histo_time_cost.pdf\")\n",
    "    kde_time_cost(filtered_acceptable_acc_df, f\"../../metrics/plots/{nn_name}/{str_thresh}/filtered_kde_time_cost.pdf\")\n",
    "    \n",
    "    #scatter_time_cost_cpu_ratio(filtered_acceptable_acc_df, f\"../../metrics/plots/{nn_name}/{str_thresh}/filtered_scatter_time_cost_cpu_ratio.pdf\")\n",
    "    \n",
    "    #scatter_communication_cost(filtered_acceptable_acc_df, f\"../../metrics/plots/{nn_name}/{str_thresh}/filtered_scatter_communication_cost.pdf\")\n",
    "    #histo_communication_cost(filtered_acceptable_acc_df, f\"../../metrics/plots/{nn_name}/{str_thresh}/filtered_histo_communication_cost.pdf\")\n",
    "    kde_communication_cost(filtered_acceptable_acc_df, f\"../../metrics/plots/{nn_name}/{str_thresh}/filtered_kde_communication_cost.pdf\")\n",
    "    \n",
    "    #scatter_cpu_time_cost(filtered_acceptable_acc_df, f\"../../metrics/plots/{nn_name}/{str_thresh}/filtered_scatter_cpu_time_cost.pdf\")\n",
    "    #histo_cpu_time_cost(filtered_acceptable_acc_df, f\"../../metrics/plots/{nn_name}/{str_thresh}/filtered_histo_cpu_time_cost.pdf\")\n",
    "    kde_cpu_time_cost(filtered_acceptable_acc_df, f\"../../metrics/plots/{nn_name}/{str_thresh}/filtered_kde_cpu_time_cost.pdf\")\n",
    "    \n",
    "    # Parameters fixed, and plot\n",
    "    if params:\n",
    "        fda_methods_batch_size(filtered_acceptable_acc_df, f\"../../metrics/plots/{nn_name}/{str_thresh}/filtered_fda_methods_batch_size.pdf\")\n",
    "        fda_methods_clients(filtered_acceptable_acc_df, f\"../../metrics/plots/{nn_name}/{str_thresh}/filtered_fda_methods_clients.pdf\")\n",
    "        fda_methods_theta(filtered_acceptable_acc_df, f\"../../metrics/plots/{nn_name}/{str_thresh}/filtered_fda_methods_theta.pdf\")"
   ]
  },
  {
   "cell_type": "code",
   "execution_count": 110,
   "id": "fd7634de-bd12-4d07-b895-1b4d73363415",
   "metadata": {
    "tags": []
   },
   "outputs": [],
   "source": [
    "time_cost_plots(df, 0.95, 'LeNet-5', show_runs=True, params=True)"
   ]
  },
  {
   "cell_type": "code",
   "execution_count": 111,
   "id": "0a7fdbc6-957c-4b4b-85a7-7aa3916eafd5",
   "metadata": {
    "tags": []
   },
   "outputs": [],
   "source": [
    "time_cost_plots(df, 0.955, 'LeNet-5', params=True)"
   ]
  },
  {
   "cell_type": "code",
   "execution_count": 112,
   "id": "7dff1ffa-9321-4acc-b7be-824288f93cf9",
   "metadata": {
    "tags": []
   },
   "outputs": [],
   "source": [
    "time_cost_plots(df, 0.96, 'LeNet-5', params=True)"
   ]
  },
  {
   "cell_type": "code",
   "execution_count": 113,
   "id": "fa13b4e8-7cc1-4497-b24d-7ccc1ed7731c",
   "metadata": {
    "tags": []
   },
   "outputs": [],
   "source": [
    "time_cost_plots(df, 0.965, 'LeNet-5', params=True)"
   ]
  },
  {
   "cell_type": "code",
   "execution_count": 114,
   "id": "d60ee26d-8e09-4e51-8731-dae7769e02db",
   "metadata": {
    "tags": []
   },
   "outputs": [],
   "source": [
    "time_cost_plots(df, 0.97, 'LeNet-5', params=True)"
   ]
  },
  {
   "cell_type": "code",
   "execution_count": 115,
   "id": "a609c299-cfbb-4991-8b66-ca22b82ba588",
   "metadata": {
    "tags": []
   },
   "outputs": [],
   "source": [
    "time_cost_plots(df, 0.975, 'LeNet-5', params=True)"
   ]
  },
  {
   "cell_type": "code",
   "execution_count": 116,
   "id": "89b141c5-5428-47ed-bf06-d35243eea9ff",
   "metadata": {},
   "outputs": [],
   "source": [
    "time_cost_plots(df, 0.95, 'AdvancedCNN', params=True)"
   ]
  },
  {
   "cell_type": "code",
   "execution_count": 117,
   "id": "b5b87ef7-7660-48ea-b90d-fea5e9732ca4",
   "metadata": {},
   "outputs": [],
   "source": [
    "time_cost_plots(df, 0.96, 'AdvancedCNN', params=True)"
   ]
  },
  {
   "cell_type": "code",
   "execution_count": 118,
   "id": "f5b4558e-74af-45da-988f-f888a05929e1",
   "metadata": {},
   "outputs": [],
   "source": [
    "time_cost_plots(df, 0.97, 'AdvancedCNN', params=True)"
   ]
  },
  {
   "cell_type": "code",
   "execution_count": 119,
   "id": "3fabef7e-ead8-41fd-bb71-aa3606b806c7",
   "metadata": {},
   "outputs": [],
   "source": [
    "time_cost_plots(df, 0.98, 'AdvancedCNN', params=True)"
   ]
  },
  {
   "cell_type": "code",
   "execution_count": 120,
   "id": "f889b431-6479-4430-ba89-c7aedda6eb8e",
   "metadata": {},
   "outputs": [],
   "source": [
    "time_cost_plots(df, 0.985, 'AdvancedCNN', show_runs=True, params=True)"
   ]
  },
  {
   "cell_type": "code",
   "execution_count": 121,
   "id": "d822c1c8-ff13-434d-becc-4d1419037d9a",
   "metadata": {
    "tags": []
   },
   "outputs": [],
   "source": [
    "time_cost_plots(df, 0.988, 'AdvancedCNN', params=True)"
   ]
  },
  {
   "cell_type": "code",
   "execution_count": 122,
   "id": "c7b85d25-3fe1-4733-a6ed-789fc9b70aa7",
   "metadata": {},
   "outputs": [],
   "source": [
    "time_cost_plots(df, 0.99, 'AdvancedCNN', params=True)"
   ]
  },
  {
   "cell_type": "code",
   "execution_count": null,
   "id": "56c0608c-9c9a-4acf-a953-3655bc461635",
   "metadata": {},
   "outputs": [],
   "source": []
  },
  {
   "cell_type": "code",
   "execution_count": null,
   "id": "5be112a8-1b2b-4a8c-8b62-924b2ebb074c",
   "metadata": {},
   "outputs": [],
   "source": []
  },
  {
   "cell_type": "code",
   "execution_count": null,
   "id": "4262af59-1c46-45c4-9269-a3410d00413c",
   "metadata": {},
   "outputs": [],
   "source": []
  },
  {
   "cell_type": "code",
   "execution_count": null,
   "id": "0002341c-6d70-4741-b858-02c75a9f6666",
   "metadata": {},
   "outputs": [],
   "source": []
  },
  {
   "cell_type": "code",
   "execution_count": null,
   "id": "cb37dfad-2301-40fd-a919-7a612fda673c",
   "metadata": {},
   "outputs": [],
   "source": []
  },
  {
   "cell_type": "code",
   "execution_count": null,
   "id": "cecd1a33-85d5-43ed-95e8-4b7fb2ced6ef",
   "metadata": {},
   "outputs": [],
   "source": []
  },
  {
   "cell_type": "code",
   "execution_count": null,
   "id": "18ee591d-4d03-4a14-93aa-a40d0c1fc673",
   "metadata": {},
   "outputs": [],
   "source": []
  },
  {
   "cell_type": "code",
   "execution_count": null,
   "id": "2314ede1-313d-4be9-8db9-746db614ac53",
   "metadata": {},
   "outputs": [],
   "source": []
  },
  {
   "cell_type": "code",
   "execution_count": null,
   "id": "c26afcc6-4ded-4294-ba7c-989eb52546a1",
   "metadata": {},
   "outputs": [],
   "source": []
  },
  {
   "cell_type": "code",
   "execution_count": null,
   "id": "afb8bca6-bac4-4c1b-b815-0e02347f88c5",
   "metadata": {},
   "outputs": [],
   "source": []
  }
 ],
 "metadata": {
  "kernelspec": {
   "display_name": "Python [conda env:data-analysis]",
   "language": "python",
   "name": "conda-env-data-analysis-py"
  },
  "language_info": {
   "codemirror_mode": {
    "name": "ipython",
    "version": 3
   },
   "file_extension": ".py",
   "mimetype": "text/x-python",
   "name": "python",
   "nbconvert_exporter": "python",
   "pygments_lexer": "ipython3",
   "version": "3.11.4"
  }
 },
 "nbformat": 4,
 "nbformat_minor": 5
}
