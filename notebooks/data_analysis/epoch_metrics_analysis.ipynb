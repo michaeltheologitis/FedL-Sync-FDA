{
 "cells": [
  {
   "cell_type": "code",
   "execution_count": 1,
   "id": "48030999",
   "metadata": {
    "tags": []
   },
   "outputs": [],
   "source": [
    "import pandas as pd\n",
    "import numpy as np\n",
    "import matplotlib.pyplot as plt\n",
    "from matplotlib.backends.backend_pdf import PdfPages\n",
    "import glob"
   ]
  },
  {
   "cell_type": "markdown",
   "id": "5ca18b62-8c35-4c8d-978e-57c104b9c2cd",
   "metadata": {},
   "source": [
    "## Combine metrics"
   ]
  },
  {
   "cell_type": "code",
   "execution_count": 2,
   "id": "f7899e1b-6e09-4259-9392-5fce13838240",
   "metadata": {},
   "outputs": [],
   "source": [
    "df_grid = pd.concat([pd.read_parquet(\"../../metrics/epoch_metrics/tmp\"), pd.read_parquet(\"../../metrics/epoch_metrics/tmp_grid\")])"
   ]
  },
  {
   "cell_type": "code",
   "execution_count": 3,
   "id": "ca32b817-3016-4f51-b169-0dc886ce015f",
   "metadata": {},
   "outputs": [],
   "source": [
    "csv_files = []\n",
    "csv_files.extend(glob.glob('../../metrics/epoch_metrics/tmp_aris/*.csv'))\n",
    "csv_files.extend(glob.glob('../../metrics/epoch_metrics/tmp_aris2/*.csv'))\n",
    "csv_files.extend(glob.glob('../../metrics/epoch_metrics/tmp_aris3/*.csv'))\n",
    "csv_files.extend(glob.glob('../../metrics/epoch_metrics/tmp_aris4/*.csv'))\n",
    "csv_files.extend(glob.glob('../../metrics/epoch_metrics/tmp_aris5/*.csv'))\n",
    "csv_files.extend(glob.glob('../../metrics/epoch_metrics/tmp_aris6/*.csv'))\n",
    "csv_files.extend(glob.glob('../../metrics/epoch_metrics/tmp_aris7/*.csv'))\n",
    "csv_files.extend(glob.glob('../../metrics/epoch_metrics/tmp_aris8/*.csv'))\n",
    "csv_files.extend(glob.glob('../../metrics/epoch_metrics/tmp_aris9/*.csv'))"
   ]
  },
  {
   "cell_type": "code",
   "execution_count": 4,
   "id": "65716574-2214-4294-809b-685e9a83b5c8",
   "metadata": {},
   "outputs": [],
   "source": [
    "df_aris = pd.concat([pd.read_csv(file) for file in csv_files], ignore_index=True)"
   ]
  },
  {
   "cell_type": "code",
   "execution_count": 5,
   "id": "5b33c5ae-3b71-42c8-9228-e18dbdf63570",
   "metadata": {},
   "outputs": [],
   "source": [
    "df = pd.concat([df_grid, df_aris])"
   ]
  },
  {
   "cell_type": "markdown",
   "id": "dd8fbdc6-1e34-4a24-bc2c-3889b431983b",
   "metadata": {},
   "source": [
    "## Read from `~/metrics/epoch_metrics/` directory"
   ]
  },
  {
   "cell_type": "code",
   "execution_count": 6,
   "id": "89ff3dd8",
   "metadata": {},
   "outputs": [],
   "source": [
    "df = pd.read_parquet(\"../../metrics/epoch_metrics/combined_epoch_metrics.parquet\")"
   ]
  },
  {
   "cell_type": "code",
   "execution_count": 7,
   "id": "d2b76f69-6e37-41fc-bc21-cbb5fcf6a066",
   "metadata": {},
   "outputs": [],
   "source": [
    "#df.to_parquet(\"../../metrics/epoch_metrics/combined_epoch_metrics.parquet\")"
   ]
  },
  {
   "cell_type": "markdown",
   "id": "f066b553-a1c9-4c95-9454-0816456806bf",
   "metadata": {},
   "source": [
    "# Helpful new Dataframe metrics"
   ]
  },
  {
   "cell_type": "code",
   "execution_count": 8,
   "id": "a1319efd-3ed2-4d23-ae84-4a83383ad53d",
   "metadata": {
    "tags": []
   },
   "outputs": [],
   "source": [
    "df = df[(df.theta <= 2)]"
   ]
  },
  {
   "cell_type": "markdown",
   "id": "44ba22e5-d116-43d3-a4b7-f1b24277a2be",
   "metadata": {},
   "source": [
    "### Add NN name"
   ]
  },
  {
   "cell_type": "code",
   "execution_count": 9,
   "id": "97743c05-4eb4-4e3b-b20a-e1d3193729e8",
   "metadata": {
    "tags": []
   },
   "outputs": [],
   "source": [
    "def nn_name(row):\n",
    "    if row['nn_num_weights'] == 61706:\n",
    "        return 'LeNet-5'\n",
    "    if row['nn_num_weights'] == 2592202:\n",
    "        return 'AdvancedCNN'"
   ]
  },
  {
   "cell_type": "code",
   "execution_count": 10,
   "id": "2f74e952-a237-4dd0-8fd4-05c3d917eeba",
   "metadata": {
    "tags": []
   },
   "outputs": [],
   "source": [
    "df['nn_name'] = df.apply(nn_name, axis=1)"
   ]
  },
  {
   "cell_type": "markdown",
   "id": "a51ec99b-92b1-43b4-a82a-25235c10ef7a",
   "metadata": {},
   "source": [
    "### Add Helpful Dataset Metrics "
   ]
  },
  {
   "cell_type": "code",
   "execution_count": 11,
   "id": "219bfb00-628a-4f2c-8655-76074a971175",
   "metadata": {},
   "outputs": [],
   "source": [
    "def dataset_n_train(row):\n",
    "    if row['dataset_name'] == \"EMNIST\":\n",
    "        return 60_000\n",
    "    else:\n",
    "        return -1\n",
    "\n",
    "\n",
    "def dataset_one_sample_bytes(row):\n",
    "    if row['dataset_name'] == \"EMNIST\":\n",
    "        # input image 784 tf.float32 pixels and a tf.int32 label\n",
    "        return 4 * (784 + 1)\n",
    "    else:\n",
    "        return -1"
   ]
  },
  {
   "cell_type": "code",
   "execution_count": 12,
   "id": "6f7c40a0-7809-461f-8a65-e7deb84dd3c8",
   "metadata": {},
   "outputs": [],
   "source": [
    "df['n_train'] = df.apply(dataset_n_train, axis=1)\n",
    "df['one_sample_bytes'] = df.apply(dataset_one_sample_bytes, axis=1)"
   ]
  },
  {
   "cell_type": "markdown",
   "id": "96b67d41-76a9-461e-830f-9dccfecaf678",
   "metadata": {},
   "source": [
    "### Add Helpful model metrics"
   ]
  },
  {
   "cell_type": "code",
   "execution_count": 13,
   "id": "49a43e33-b746-46ab-be9a-8a63f30a8986",
   "metadata": {},
   "outputs": [],
   "source": [
    "df['model_bytes'] = df['nn_num_weights'] * 4"
   ]
  },
  {
   "cell_type": "markdown",
   "id": "b6c4b4b2-5b95-4f6e-bae3-389bcc45c14d",
   "metadata": {},
   "source": [
    "### Add Helpful FDA method metrics"
   ]
  },
  {
   "cell_type": "code",
   "execution_count": 14,
   "id": "13d1a75a-1031-45f1-affa-a25aa833b836",
   "metadata": {},
   "outputs": [],
   "source": [
    "def fda_local_state_bytes(row):\n",
    "    if row['fda_name'] == \"naive\":\n",
    "        return 4\n",
    "    if row['fda_name'] == \"linear\":\n",
    "        return 8\n",
    "    if row['fda_name'] == \"sketch\":\n",
    "        return row['sketch_width'] * row['sketch_depth'] * 4 + 4\n",
    "    if row['fda_name'] == \"synchronous\":\n",
    "        return 0"
   ]
  },
  {
   "cell_type": "code",
   "execution_count": 15,
   "id": "21261b2e-0f3c-4c3b-b4db-a38f5506ed70",
   "metadata": {},
   "outputs": [],
   "source": [
    "df['local_state_bytes'] = df.apply(fda_local_state_bytes, axis=1)"
   ]
  },
  {
   "cell_type": "markdown",
   "id": "704dcdb1-4edf-4d9f-8b27-6afd7131e41e",
   "metadata": {},
   "source": [
    "### Add Total Steps\n",
    "\n",
    "total steps (a single fda step might have many normal SGD steps, batch steps)"
   ]
  },
  {
   "cell_type": "code",
   "execution_count": 16,
   "id": "ce913d44-7043-40a1-811e-bf3f1460b0c6",
   "metadata": {},
   "outputs": [],
   "source": [
    "df['total_steps'] = df['total_fda_steps'] * df['num_steps_until_rtc_check']"
   ]
  },
  {
   "cell_type": "markdown",
   "id": "99ddccbe-4051-4499-bfdb-8d716a60ccde",
   "metadata": {},
   "source": [
    "### Add communication metrics"
   ]
  },
  {
   "cell_type": "markdown",
   "id": "80bf52a9-3fe1-40d8-bbbd-29e537777aee",
   "metadata": {},
   "source": [
    "The communication bytes exchanged for model synchronization. Remember that the Clients send their models to the Server and the Server sends the global model back. This happens at the end of every round."
   ]
  },
  {
   "cell_type": "code",
   "execution_count": 17,
   "id": "8617cd85-dcc6-4bd8-a9dc-1c8e542fe437",
   "metadata": {},
   "outputs": [],
   "source": [
    "df['model_bytes_exchanged'] = df['total_rounds'] * df['model_bytes'] * df['num_clients'] * 2"
   ]
  },
  {
   "cell_type": "markdown",
   "id": "dbf6e175-a634-4ff5-8960-d0783aa668a5",
   "metadata": {},
   "source": [
    "The communication bytes exchanged for monitoring the variance. This happens at the end of every FDA step which consists of `num_steps_until_rtc_check` number of steps. "
   ]
  },
  {
   "cell_type": "code",
   "execution_count": 18,
   "id": "81640366-96eb-4a39-a364-f969873840b1",
   "metadata": {},
   "outputs": [],
   "source": [
    "df['monitoring_bytes_exchanged'] = df['local_state_bytes'] * df['total_fda_steps'] * df['num_clients']"
   ]
  },
  {
   "cell_type": "markdown",
   "id": "8df1d5ae-1a42-4c01-9ba2-83b09f217fad",
   "metadata": {},
   "source": [
    "The total communication bytes exchanged in the whole Federated Learning lifecycle."
   ]
  },
  {
   "cell_type": "code",
   "execution_count": 19,
   "id": "70fccd40-dc8d-4116-8337-cb8743ee203c",
   "metadata": {},
   "outputs": [],
   "source": [
    "df['total_communication_bytes'] = df['model_bytes_exchanged'] + df['monitoring_bytes_exchanged']"
   ]
  },
  {
   "cell_type": "code",
   "execution_count": 20,
   "id": "144c13ff-95dc-4c80-a168-41191c34d082",
   "metadata": {},
   "outputs": [],
   "source": [
    "df['total_communication_gb'] = df['total_communication_bytes'] / 10**9"
   ]
  },
  {
   "cell_type": "markdown",
   "id": "68b611ba-113e-4efd-a207-a2288a24006d",
   "metadata": {},
   "source": [
    "Add rounds in one epoch."
   ]
  },
  {
   "cell_type": "code",
   "execution_count": 21,
   "id": "9424fe77-27e3-43bb-99d9-ec42d0032bfd",
   "metadata": {},
   "outputs": [],
   "source": [
    "df = df.sort_values(by=['dataset_name', 'fda_name', 'nn_num_weights', 'num_clients', 'batch_size', 'num_steps_until_rtc_check', 'theta', 'epoch'])\n",
    "\n",
    "df['epoch_rounds'] = df.groupby(['dataset_name', 'fda_name', 'nn_num_weights', 'num_clients', 'batch_size', 'num_steps_until_rtc_check', 'theta'])['total_rounds'].diff()\n",
    "\n",
    "# NaN first epoch\n",
    "df['epoch_rounds'] = df['epoch_rounds'].fillna(df['total_rounds'])\n",
    "\n",
    "df['epoch_rounds'] = df['epoch_rounds'].astype(int)"
   ]
  },
  {
   "cell_type": "markdown",
   "id": "9773a738-5cbd-4d87-9a7a-004fe11d6fb3",
   "metadata": {},
   "source": [
    "# HyperParameter ranking"
   ]
  },
  {
   "cell_type": "markdown",
   "id": "44a3b8a1-8f70-4ce0-9fe4-d654b8c46ac4",
   "metadata": {
    "tags": []
   },
   "source": [
    "### AdvancedCNN\n",
    "On 8 CPUs, the step time:\n",
    "\n",
    "1. *Batch Size* = 32 -> `307ms`\n",
    "2. *Batch Size* = 64 -> `445ms`\n",
    "3. *Batch Size* = 128 -> `815ms`\n",
    "4. *Batch Size* = 256 -> `1401ms`\n",
    "\n",
    "Best fit line:\n",
    "\n",
    "step(ms) = 4.97092 * batch_size + 147.739\n",
    "\n",
    "### LeNet-5\n",
    "On 8 CPUs, the step time:\n",
    "\n",
    "1. *Batch Size* = 32 -> `5.93ms`\n",
    "2. *Batch Size* = 64 -> `9.16ms`\n",
    "3. *Batch Size* = 128 -> `18.5ms`\n",
    "4. *Batch Size* = 256 -> `30.6ms`\n",
    "\n",
    "Best fit line:\n",
    "\n",
    "step(ms) = 0.11124 * batch_size + 2.69913"
   ]
  },
  {
   "cell_type": "code",
   "execution_count": 22,
   "id": "a9df5cd6-a3ac-4641-9636-7aa790596ee2",
   "metadata": {
    "tags": []
   },
   "outputs": [],
   "source": [
    "def step_ms(batch_size, nn_name):\n",
    "    if nn_name == 'AdvancedCNN': \n",
    "        return 4.97092 * batch_size + 147.739\n",
    "    if nn_name == 'LeNet-5':\n",
    "        return 0.11124 * batch_size + 2.69913"
   ]
  },
  {
   "cell_type": "markdown",
   "id": "1d1f571b-9405-4e26-ad1b-ad774ec68df2",
   "metadata": {},
   "source": [
    "Time cost for training-reducing"
   ]
  },
  {
   "cell_type": "code",
   "execution_count": 23,
   "id": "178b5809-8298-4666-8296-8bbec9ccda62",
   "metadata": {
    "tags": []
   },
   "outputs": [],
   "source": [
    "import numpy as np\n",
    "\n",
    "def cpu_time_cost(row):\n",
    "    \"\"\" Total cpu time cost in (sec).\n",
    "    A single `step` means each client performed a single `step` \n",
    "    \"\"\"\n",
    "    return row['total_steps'] * step_ms(row['batch_size'], row['nn_name']) / 1000\n",
    "\n",
    "def communication_time_cost(num_clients, total_communication_bytes, comm_model):\n",
    "    \"\"\" Assuming channel is 1Gbps \"\"\"\n",
    "\n",
    "    total_communication_gbit = total_communication_bytes * 8e-9\n",
    "\n",
    "    if comm_model == 'linear':\n",
    "        a = 0.5\n",
    "\n",
    "        return (1 + a * (num_clients - 1) / num_clients) * total_communication_gbit    # sec\n",
    "\n",
    "    if comm_model == 'logarithmic':\n",
    "\n",
    "        return (np.ceil(np.log(num_clients)) / num_clients) * total_communication_gbit   # sec"
   ]
  },
  {
   "cell_type": "code",
   "execution_count": 24,
   "id": "6892ee25-e1b9-4e98-b5a1-c3669d84cd93",
   "metadata": {
    "tags": []
   },
   "outputs": [],
   "source": [
    "df['cpu_time_cost'] = df.apply(cpu_time_cost, axis=1)"
   ]
  },
  {
   "cell_type": "code",
   "execution_count": 25,
   "id": "a3895090-76c2-46ff-a229-30ee6142e2e9",
   "metadata": {
    "tags": []
   },
   "outputs": [],
   "source": [
    "df['logarithmic_communication_time_cost'] = communication_time_cost(df['num_clients'], df['total_communication_bytes'], 'logarithmic')"
   ]
  },
  {
   "cell_type": "code",
   "execution_count": 26,
   "id": "9666ef46-2574-43e9-b8e6-0c7fca3b75ec",
   "metadata": {
    "tags": []
   },
   "outputs": [],
   "source": [
    "df['linear_communication_time_cost'] = communication_time_cost(df['num_clients'], df['total_communication_bytes'], 'linear')"
   ]
  },
  {
   "cell_type": "code",
   "execution_count": 27,
   "id": "8a7c286b-25a0-4eb0-a432-fded4f049071",
   "metadata": {
    "tags": []
   },
   "outputs": [],
   "source": [
    "df['logarithmic_time_cost'] = df['cpu_time_cost'] + df['logarithmic_communication_time_cost']"
   ]
  },
  {
   "cell_type": "code",
   "execution_count": 28,
   "id": "efe9fa8a-d8d7-4b2a-a3a0-131eec5ce2d2",
   "metadata": {
    "tags": []
   },
   "outputs": [],
   "source": [
    "df['linear_time_cost'] = df['cpu_time_cost'] + df['linear_communication_time_cost']"
   ]
  },
  {
   "cell_type": "code",
   "execution_count": 29,
   "id": "b9cf2956-4729-48a5-b06c-8cd6953f6ef7",
   "metadata": {
    "tags": []
   },
   "outputs": [],
   "source": [
    "df['logarithmic_comm_cpu_time_ratio'] = df['logarithmic_communication_time_cost'] / df['cpu_time_cost']"
   ]
  },
  {
   "cell_type": "code",
   "execution_count": 30,
   "id": "be90d43a-e051-4445-a183-b68f329f2843",
   "metadata": {
    "tags": []
   },
   "outputs": [],
   "source": [
    "df['linear_comm_cpu_time_ratio'] = df['linear_communication_time_cost'] / df['cpu_time_cost']"
   ]
  },
  {
   "cell_type": "markdown",
   "id": "270b7b80-e37e-45f6-badc-14e09ab83d8f",
   "metadata": {},
   "source": [
    "# Plots about cost"
   ]
  },
  {
   "cell_type": "code",
   "execution_count": 31,
   "id": "78880363-4c40-4799-9672-3218d2ec807a",
   "metadata": {
    "tags": []
   },
   "outputs": [],
   "source": [
    "# Define styles for each fda_name\n",
    "fda_styles = {\n",
    "    'naive': 'o-r',\n",
    "    'linear': 's-g',\n",
    "    'sketch': '^-b',\n",
    "    'synchronous': 'x-c'\n",
    "}\n",
    "fda_names = sorted(df['fda_name'].unique())"
   ]
  },
  {
   "cell_type": "code",
   "execution_count": 32,
   "id": "d4fbe02f-48f4-47f4-937b-79b16e40fa5b",
   "metadata": {
    "tags": []
   },
   "outputs": [],
   "source": [
    "import matplotlib\n",
    "\n",
    "num_clients_values = sorted(df['num_clients'].unique())\n",
    "cmap = matplotlib.colormaps['tab20b']\n",
    "colors_dict = {\n",
    "    num_clients: color \n",
    "    for num_clients, color in zip(num_clients_values, cmap(np.linspace(0, 1, len(num_clients_values))))\n",
    "}"
   ]
  },
  {
   "cell_type": "markdown",
   "id": "f1ad541a-b538-4598-bc75-fb3e94362216",
   "metadata": {
    "tags": []
   },
   "source": [
    "## Total time cost with accuracy (scatter)"
   ]
  },
  {
   "cell_type": "code",
   "execution_count": 33,
   "id": "8e48d38d-0b03-4579-9be4-583d27ceea8d",
   "metadata": {
    "tags": []
   },
   "outputs": [],
   "source": [
    "def scatter_time_cost(df, filename):\n",
    "    pdf = PdfPages(filename)\n",
    "    \n",
    "    fig, axs = plt.subplots(1, 2, figsize=(20, 6))\n",
    "    \n",
    "    # Prepare lists to store the average information for each subplot\n",
    "    avg_info_linear = []\n",
    "    avg_info_logarithmic = []\n",
    "\n",
    "    # Plot the data points for each method (fda_name) for linear communication model\n",
    "    for fda_name in fda_names:\n",
    "        fda_filtered_data = df[(df['fda_name'] == fda_name)] \n",
    "        axs[0].scatter(fda_filtered_data['linear_time_cost'], fda_filtered_data['accuracy'], label=fda_name)\n",
    "        \n",
    "        # Calculate the average time cost for linear model and append to avg_info_linear\n",
    "        avg_time_linear = fda_filtered_data['linear_time_cost'].mean()\n",
    "        avg_info_linear.append(f'{fda_name}: {avg_time_linear:.2f} sec')\n",
    "        \n",
    "    \n",
    "    text_linear = \"Average Time Cost:\\n\" + '\\n'.join(avg_info_linear)\n",
    "    # Add the text annotation inside the first plot\n",
    "    axs[0].text(0.65, 0.97, text_linear, transform=axs[0].transAxes, fontsize=9, verticalalignment='top',\n",
    "                    bbox=dict(boxstyle='round', facecolor='wheat', alpha=0.4))\n",
    "\n",
    "    axs[0].set_xlabel('Time Cost (sec)')\n",
    "    axs[0].set_ylabel('Accuracy')\n",
    "    axs[0].legend()\n",
    "    axs[0].set_title(\"Linear Contention Communication Model\")\n",
    "\n",
    "    # Plot the data points for each method (fda_name) for multi-bus model\n",
    "    for fda_name in fda_names:\n",
    "        fda_filtered_data = df[(df['fda_name'] == fda_name)] \n",
    "        axs[1].scatter(fda_filtered_data['logarithmic_time_cost'], fda_filtered_data['accuracy'], label=fda_name)\n",
    "        \n",
    "        # Calculate the average time cost for logarithmic model and append to avg_info_logarithmic\n",
    "        avg_time_logarithmic = fda_filtered_data['logarithmic_time_cost'].mean()\n",
    "        avg_info_logarithmic.append(f'{fda_name}: {avg_time_logarithmic:.2f} sec')\n",
    "        \n",
    "    text_logarithmic = \"Average Time Cost:\\n\" + '\\n'.join(avg_info_logarithmic)\n",
    "    # Add the text annotation inside the second plot\n",
    "    axs[1].text(0.65, 0.97, text_logarithmic, transform=axs[1].transAxes, fontsize=9, verticalalignment='top',\n",
    "                bbox=dict(boxstyle='round', facecolor='wheat', alpha=0.4))    \n",
    "\n",
    "    axs[0].grid(True, linestyle='--', linewidth=0.5, alpha=0.5)\n",
    "    axs[1].grid(True, linestyle='--', linewidth=0.5, alpha=0.5)\n",
    "        \n",
    "    axs[1].set_xlabel('Time Cost (sec)')\n",
    "    axs[1].set_ylabel('Accuracy')\n",
    "    axs[1].legend()\n",
    "    axs[1].set_title(\"Logarithmic Communication Model\")\n",
    "    \n",
    "    axs[0].grid(True, linestyle='--', linewidth=0.5, alpha=0.5)\n",
    "    axs[1].grid(True, linestyle='--', linewidth=0.5, alpha=0.5)\n",
    "\n",
    "    plt.tight_layout()\n",
    "    \n",
    "    pdf.savefig(fig)\n",
    "        \n",
    "    # Close the current figure to prevent it from being displayed in the notebook\n",
    "    plt.close(fig)\n",
    "    pdf.close()"
   ]
  },
  {
   "cell_type": "markdown",
   "id": "b2320ef3-66a1-4397-9b3f-6fd0c13ea5d6",
   "metadata": {},
   "source": [
    "## Total Communication cost (in gb) with accuracy (scatter)"
   ]
  },
  {
   "cell_type": "code",
   "execution_count": 34,
   "id": "cb36d110-a84e-438c-aea0-7c70ac93039b",
   "metadata": {},
   "outputs": [],
   "source": [
    "def scatter_communication_cost(df, filename):\n",
    "    pdf = PdfPages(filename)\n",
    "    \n",
    "    plt.figure(figsize=(10, 6))\n",
    "    \n",
    "    # Prepare a list to store the average information for the title\n",
    "    avg_info = []\n",
    "\n",
    "    # Plot the data points for each method (fda_name) for linear communication model\n",
    "    for fda_name in fda_names:\n",
    "        fda_filtered_data = df[(df['fda_name'] == fda_name)] \n",
    "        plt.scatter(fda_filtered_data['total_communication_gb'], fda_filtered_data['accuracy'], label=fda_name)\n",
    "\n",
    "        # Calculate the average communication for each method and append to avg_info\n",
    "        avg_communication = fda_filtered_data['total_communication_gb'].mean()\n",
    "        avg_info.append(f'{fda_name}: {avg_communication:.2f} GB')\n",
    "\n",
    "    text = \"Average Communication:\\n\" + '\\n'.join(avg_info)\n",
    "    # Add the text annotation inside the plot\n",
    "    plt.text(0.65, 0.97, text, transform=plt.gca().transAxes, fontsize=9, verticalalignment='top',\n",
    "             bbox=dict(boxstyle='round', facecolor='wheat', alpha=0.4))\n",
    "\n",
    "    plt.xlabel('Communication (GB)')\n",
    "    plt.ylabel('Accuracy')\n",
    "    plt.legend()\n",
    "\n",
    "    plt.grid(True, linestyle='--', linewidth=0.5, alpha=0.5)\n",
    "\n",
    "    plt.tight_layout()\n",
    "    \n",
    "    pdf.savefig(plt.gcf()) # Save the current figure\n",
    "        \n",
    "    # Close the current figure to prevent it from being displayed in the notebook\n",
    "    plt.close()\n",
    "    pdf.close()\n"
   ]
  },
  {
   "cell_type": "markdown",
   "id": "c3d35fd9-5826-4e5d-83fa-d9522eb7d2b1",
   "metadata": {},
   "source": [
    "## Total CPU time (in Seconds) with accuracy (scatter)"
   ]
  },
  {
   "cell_type": "code",
   "execution_count": 35,
   "id": "7e6cf8b9-25e5-44e3-a154-40784ea18d70",
   "metadata": {},
   "outputs": [],
   "source": [
    "def scatter_cpu_time_cost(df, filename):\n",
    "    pdf = PdfPages(filename)\n",
    "    \n",
    "    plt.figure(figsize=(10, 6))\n",
    "    \n",
    "    # Prepare a list to store the average information for the title\n",
    "    avg_info = []\n",
    "\n",
    "    # Plot the data points for each method (fda_name) for linear communication model\n",
    "    for fda_name in fda_names:\n",
    "        fda_filtered_data = df[(df['fda_name'] == fda_name)] \n",
    "        plt.scatter(fda_filtered_data['cpu_time_cost'], fda_filtered_data['accuracy'], label=fda_name)\n",
    "        \n",
    "        # Calculate the average communication for each method and append to avg_info\n",
    "        avg_cpu_time = fda_filtered_data['cpu_time_cost'].mean()\n",
    "        avg_info.append(f'{fda_name}: {avg_cpu_time:.2f} sec')\n",
    "    \n",
    "    text = \"Average CPU time:\\n\" + '\\n'.join(avg_info)\n",
    "    # Add the text annotation inside the plot\n",
    "    plt.text(0.65, 0.97, text, transform=plt.gca().transAxes, fontsize=9, verticalalignment='top',\n",
    "             bbox=dict(boxstyle='round', facecolor='wheat', alpha=0.4))\n",
    "\n",
    "    plt.xlabel('CPU time cost (sec)')\n",
    "    plt.ylabel('Accuracy')\n",
    "    plt.legend()\n",
    "\n",
    "    plt.grid(True, linestyle='--', linewidth=0.5, alpha=0.5)\n",
    "\n",
    "    plt.tight_layout()\n",
    "    \n",
    "    pdf.savefig(plt.gcf()) # Save the current figure\n",
    "        \n",
    "    # Close the current figure to prevent it from being displayed in the notebook\n",
    "    plt.close()\n",
    "    pdf.close()"
   ]
  },
  {
   "cell_type": "markdown",
   "id": "b88e8d24-250d-4607-8d5c-d218534deada",
   "metadata": {},
   "source": [
    "## Communication/CPU time - Accuracy (scatter)"
   ]
  },
  {
   "cell_type": "code",
   "execution_count": 36,
   "id": "97931411-ed22-4342-a906-2b1b2e3a5be7",
   "metadata": {
    "tags": []
   },
   "outputs": [],
   "source": [
    "def scatter_time_cost_cpu_ratio(df, filename):\n",
    "    \n",
    "    pdf = PdfPages(filename)\n",
    "\n",
    "    fig, axs = plt.subplots(1, 2, figsize=(20, 6))\n",
    "\n",
    "    # Plot the data points for each method (fda_name) for single-bus model\n",
    "    for fda_name in fda_names:\n",
    "        fda_filtered_data = df[(df['fda_name'] == fda_name)] \n",
    "        axs[0].scatter(fda_filtered_data['linear_comm_cpu_time_ratio'], fda_filtered_data['accuracy'], label=fda_name)\n",
    "\n",
    "    axs[0].set_xlabel('(Communication time) / (CPU time)')\n",
    "    axs[0].set_ylabel('Accuracy')\n",
    "    axs[0].legend()\n",
    "    axs[0].set_title(\"Linear Contention Communication Model\")\n",
    "\n",
    "    # Plot the data points for each method (fda_name) for multi-bus model\n",
    "    for fda_name in fda_names:\n",
    "        fda_filtered_data = df[(df['fda_name'] == fda_name)] \n",
    "        axs[1].scatter(fda_filtered_data['logarithmic_comm_cpu_time_ratio'], fda_filtered_data['accuracy'], label=fda_name)\n",
    "\n",
    "    axs[0].grid(True, linestyle='--', linewidth=0.5, alpha=0.5)\n",
    "    axs[1].grid(True, linestyle='--', linewidth=0.5, alpha=0.5)   \n",
    "        \n",
    "    axs[1].set_xlabel('(Communication time) / (CPU time)')\n",
    "    axs[1].set_ylabel('Accuracy')\n",
    "    axs[1].legend()\n",
    "    axs[1].set_title(\"Logarithmic Communication Model\")\n",
    "    \n",
    "    axs[0].grid(True, linestyle='--', linewidth=0.5, alpha=0.5)\n",
    "    axs[1].grid(True, linestyle='--', linewidth=0.5, alpha=0.5)\n",
    "\n",
    "    plt.tight_layout()\n",
    "    pdf.savefig(fig)\n",
    "        \n",
    "    # Close the current figure to prevent it from being displayed in the notebook\n",
    "    plt.close(fig)\n",
    "    pdf.close()"
   ]
  },
  {
   "cell_type": "markdown",
   "id": "f41927ab-99a7-40db-a5e1-f293bb132b18",
   "metadata": {},
   "source": [
    "## Different FDA-method runs visualization with lines (per clients)"
   ]
  },
  {
   "cell_type": "code",
   "execution_count": 63,
   "id": "977881d7-0252-4838-bdff-24dcc07a61b9",
   "metadata": {
    "tags": []
   },
   "outputs": [],
   "source": [
    "import matplotlib\n",
    "from matplotlib import cm\n",
    "\n",
    "def fda_method_run_line_plot(df, fda_name, filename, limit_x_axis=False):\n",
    "    \n",
    "    hybrid_df = df[df.fda_name == fda_name]\n",
    "    \n",
    "    batch_size_values = sorted(hybrid_df['batch_size'].unique())\n",
    "    theta_values = sorted(hybrid_df['theta'].unique())\n",
    "    \n",
    "    pdf = PdfPages(filename)\n",
    "\n",
    "    for batch_size in batch_size_values:\n",
    "        for theta in theta_values:\n",
    "            filtered_data = hybrid_df[(hybrid_df['theta'] == theta) &\n",
    "                                       (hybrid_df['batch_size'] == batch_size)] \n",
    "\n",
    "            if filtered_data.empty:\n",
    "                continue\n",
    "            \n",
    "            num_clients_values = sorted(filtered_data['num_clients'].unique())\n",
    "            \n",
    "            #print(f\"{batch_size} {theta} {filtered_data[['fda_name','accuracy']]}\")\n",
    "                \n",
    "            # Because num_clients = 2 reaches very good accuracy very early we need to limit the x-axis so we can \n",
    "            # visualize the rest of the data more easily. We get the next max time cost and limit x\n",
    "            # Get the maximum 'linear_time_cost' and 'logarithmic_time_cost' when num_clients is not 2\n",
    "            if limit_x_axis:\n",
    "                # The num clients = 2 cause problems. We put limit 10 after the next in line\n",
    "                max_linear_time_cost = filtered_data[filtered_data['num_clients'] != 2]['linear_time_cost'].max()\n",
    "                max_logarithmic_time_cost = filtered_data[filtered_data['num_clients'] != 2]['logarithmic_time_cost'].max()\n",
    "\n",
    "\n",
    "            fig, axs = plt.subplots(1, 2, figsize=(20, 6))\n",
    "\n",
    "            # Plot each group with a unique color based on num_clients\n",
    "            for num_clients in num_clients_values:\n",
    "                data = filtered_data[filtered_data['num_clients'] == num_clients]\n",
    "\n",
    "                axs[0].plot(data['linear_time_cost'], data['accuracy'], color=colors_dict[num_clients], label=num_clients, marker='o', markersize=3)\n",
    "                axs[1].plot(data['logarithmic_time_cost'], data['accuracy'], color=colors_dict[num_clients], label=num_clients, marker='o', markersize=3)\n",
    "                \n",
    "            \n",
    "            axs[0].grid(True, linestyle='--', linewidth=0.5, alpha=0.5)\n",
    "            axs[1].grid(True, linestyle='--', linewidth=0.5, alpha=0.5)\n",
    "            \n",
    "            #axs[0].set_ylim(top=1)\n",
    "            #axs[1].set_ylim(top=1)\n",
    "\n",
    "            axs[0].set_xlabel('Time Cost')\n",
    "            axs[0].set_ylabel('Accuracy')\n",
    "            axs[0].set_title(\"Linear Contention Communication Model\")\n",
    "            axs[0].legend(title='Num Clients')\n",
    "            if limit_x_axis:\n",
    "                axs[0].set_xlim(0, max_linear_time_cost+700)  # set x-axis limit\n",
    "\n",
    "            axs[1].set_xlabel('Time Cost')\n",
    "            axs[1].set_ylabel('Accuracy')\n",
    "            axs[1].set_title(\"Logarithmic Communication Model\")\n",
    "            axs[1].legend(title='Num Clients')\n",
    "            if limit_x_axis:\n",
    "                axs[1].set_xlim(0, max_logarithmic_time_cost+500)  # set x-axis limit\n",
    "\n",
    "            title = f'Batch Size : {batch_size} , $\\Theta$ : {theta}'\n",
    "\n",
    "            fig.suptitle(title)\n",
    "\n",
    "            plt.tight_layout()\n",
    "\n",
    "            pdf.savefig(fig)\n",
    "\n",
    "            plt.close(fig)\n",
    "\n",
    "    pdf.close()"
   ]
  },
  {
   "cell_type": "markdown",
   "id": "c4916c39-2e66-494d-99fc-75150184ea09",
   "metadata": {},
   "source": [
    "## Save all those time-cost plots"
   ]
  },
  {
   "cell_type": "code",
   "execution_count": 64,
   "id": "da4331e9-631b-4f3c-a348-ec8e0ae31077",
   "metadata": {
    "tags": []
   },
   "outputs": [],
   "source": [
    "import os\n",
    "\n",
    "def time_cost_plots(df, acc_threshold, nn_name, limit_x_axis=False):\n",
    "    # Filter out based on `acc_threshold`\n",
    "    acceptable_acc_df = df[(df.accuracy > acc_threshold) & (df.nn_name == nn_name)]\n",
    "    \n",
    "    str_thresh = str(acc_threshold).replace('.', '_')  # replace '.'\n",
    "    \n",
    "    if not os.path.exists(f\"../../metrics/plots/{nn_name}/hybrid/{str_thresh}\"):\n",
    "        os.makedirs(f\"../../metrics/plots/{nn_name}/hybrid/{str_thresh}\")\n",
    "    \n",
    "    # Same runs are included\n",
    "    scatter_time_cost(acceptable_acc_df, f\"../../metrics/plots/{nn_name}/hybrid/{str_thresh}/nonfiltered_scatter_time_cost.pdf\")\n",
    "    scatter_time_cost_cpu_ratio(acceptable_acc_df, f\"../../metrics/plots/{nn_name}/hybrid/{str_thresh}/nonfiltered_scatter_time_cost_cpu_ratio.pdf\")\n",
    "    \n",
    "    # Filter out same runs. We choose the instance which first hits the `acc_threshold`\n",
    "    idx = acceptable_acc_df.groupby(['fda_name', 'num_clients', 'batch_size', 'theta'])['epoch'].idxmin()\n",
    "    filtered_acceptable_acc_df = acceptable_acc_df.loc[idx]\n",
    "    \n",
    "    # Same runs are NOT included\n",
    "    scatter_time_cost(filtered_acceptable_acc_df, f\"../../metrics/plots/{nn_name}/hybrid/{str_thresh}/filtered_scatter_time_cost.pdf\")\n",
    "    scatter_time_cost_cpu_ratio(filtered_acceptable_acc_df, f\"../../metrics/plots/{nn_name}/hybrid/{str_thresh}/filtered_scatter_time_cost_cpu_ratio.pdf\")\n",
    "    scatter_communication_cost(filtered_acceptable_acc_df, f\"../../metrics/plots/{nn_name}/hybrid/{str_thresh}/filtered_scatter_communication_cost.pdf\")\n",
    "    scatter_cpu_time_cost(filtered_acceptable_acc_df, f\"../../metrics/plots/{nn_name}/hybrid/{str_thresh}/filtered_scatter_cpu_time_cost.pdf\")\n",
    "    \n",
    "    # Plot the runs of each method. x-axis : time cost, y-axis : accuracy, PER number of clients (lines)\n",
    "    fda_method_run_line_plot(acceptable_acc_df, 'sketch', f\"../../metrics/plots/{nn_name}/hybrid/{str_thresh}/sketch_run.pdf\", limit_x_axis=limit_x_axis)\n",
    "    fda_method_run_line_plot(acceptable_acc_df, 'naive', f\"../../metrics/plots/{nn_name}/hybrid/{str_thresh}/naive_run.pdf\", limit_x_axis=limit_x_axis)\n",
    "    fda_method_run_line_plot(acceptable_acc_df, 'linear', f\"../../metrics/plots/{nn_name}/hybrid/{str_thresh}/linear_run.pdf\", limit_x_axis=limit_x_axis)\n",
    "    fda_method_run_line_plot(acceptable_acc_df, 'synchronous', f\"../../metrics/plots/{nn_name}/hybrid/{str_thresh}/synchronous_run.pdf\", limit_x_axis=False)\n",
    "                             "
   ]
  },
  {
   "cell_type": "code",
   "execution_count": 58,
   "id": "fd7634de-bd12-4d07-b895-1b4d73363415",
   "metadata": {
    "tags": []
   },
   "outputs": [],
   "source": [
    "time_cost_plots(df, 0.95, 'LeNet-5')"
   ]
  },
  {
   "cell_type": "code",
   "execution_count": 42,
   "id": "d60ee26d-8e09-4e51-8731-dae7769e02db",
   "metadata": {
    "tags": []
   },
   "outputs": [],
   "source": [
    "time_cost_plots(df, 0.97, 'LeNet-5')"
   ]
  },
  {
   "cell_type": "code",
   "execution_count": 43,
   "id": "e97de294-26ff-425f-8082-fb4547153093",
   "metadata": {
    "tags": []
   },
   "outputs": [],
   "source": [
    "time_cost_plots(df, 0.96, 'LeNet-5')"
   ]
  },
  {
   "cell_type": "code",
   "execution_count": 44,
   "id": "a609c299-cfbb-4991-8b66-ca22b82ba588",
   "metadata": {
    "tags": []
   },
   "outputs": [],
   "source": [
    "time_cost_plots(df, 0.975, 'LeNet-5')"
   ]
  },
  {
   "cell_type": "code",
   "execution_count": 45,
   "id": "740008af-8a43-4317-a15d-50f3708eb3f9",
   "metadata": {
    "tags": []
   },
   "outputs": [],
   "source": [
    "time_cost_plots(df, 0.98, 'LeNet-5')"
   ]
  },
  {
   "cell_type": "code",
   "execution_count": 46,
   "id": "89b141c5-5428-47ed-bf06-d35243eea9ff",
   "metadata": {},
   "outputs": [],
   "source": [
    "time_cost_plots(df, 0.95, 'AdvancedCNN')"
   ]
  },
  {
   "cell_type": "code",
   "execution_count": 65,
   "id": "b5b87ef7-7660-48ea-b90d-fea5e9732ca4",
   "metadata": {},
   "outputs": [],
   "source": [
    "time_cost_plots(df, 0.96, 'AdvancedCNN', True)"
   ]
  },
  {
   "cell_type": "code",
   "execution_count": 48,
   "id": "f5b4558e-74af-45da-988f-f888a05929e1",
   "metadata": {},
   "outputs": [],
   "source": [
    "time_cost_plots(df, 0.97, 'AdvancedCNN')"
   ]
  },
  {
   "cell_type": "code",
   "execution_count": 49,
   "id": "3fabef7e-ead8-41fd-bb71-aa3606b806c7",
   "metadata": {},
   "outputs": [],
   "source": [
    "time_cost_plots(df, 0.98, 'AdvancedCNN')"
   ]
  },
  {
   "cell_type": "code",
   "execution_count": 50,
   "id": "f889b431-6479-4430-ba89-c7aedda6eb8e",
   "metadata": {},
   "outputs": [],
   "source": [
    "time_cost_plots(df, 0.984, 'AdvancedCNN')"
   ]
  },
  {
   "cell_type": "code",
   "execution_count": 51,
   "id": "c7b85d25-3fe1-4733-a6ed-789fc9b70aa7",
   "metadata": {},
   "outputs": [],
   "source": [
    "time_cost_plots(df, 0.985, 'AdvancedCNN')"
   ]
  },
  {
   "cell_type": "code",
   "execution_count": null,
   "id": "9362c8a2-5ee6-4199-b451-3ea1c13161e8",
   "metadata": {},
   "outputs": [],
   "source": []
  }
 ],
 "metadata": {
  "kernelspec": {
   "display_name": "Python [conda env:data-analysis]",
   "language": "python",
   "name": "conda-env-data-analysis-py"
  },
  "language_info": {
   "codemirror_mode": {
    "name": "ipython",
    "version": 3
   },
   "file_extension": ".py",
   "mimetype": "text/x-python",
   "name": "python",
   "nbconvert_exporter": "python",
   "pygments_lexer": "ipython3",
   "version": "3.9.16"
  }
 },
 "nbformat": 4,
 "nbformat_minor": 5
}
