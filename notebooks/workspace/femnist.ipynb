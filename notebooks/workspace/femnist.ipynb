{
 "cells": [
  {
   "cell_type": "code",
   "execution_count": 46,
   "id": "6cf5fc56-a64b-4d2a-94b9-f367ccb41b00",
   "metadata": {
    "tags": []
   },
   "outputs": [],
   "source": [
    "import json\n",
    "import numpy as np"
   ]
  },
  {
   "cell_type": "code",
   "execution_count": 47,
   "id": "e5eb5be8-a001-4060-8b4b-11f53b539388",
   "metadata": {
    "tags": []
   },
   "outputs": [],
   "source": [
    "train_files = glob.glob(\"femnist1/train/*.json\")"
   ]
  },
  {
   "cell_type": "code",
   "execution_count": 48,
   "id": "e2ccf0bb-4ba0-4ebd-8aae-8c2e8fdc62c0",
   "metadata": {
    "tags": []
   },
   "outputs": [],
   "source": [
    "test_files = [train_file.replace('train', 'test') for train_file in train_files]"
   ]
  },
  {
   "cell_type": "code",
   "execution_count": 49,
   "id": "fc1d3b25-286e-4397-928e-0c30b007abcb",
   "metadata": {
    "tags": []
   },
   "outputs": [],
   "source": [
    "def client_g():\n",
    "    c = 0\n",
    "    \n",
    "    while True:\n",
    "        yield c\n",
    "        c += 1"
   ]
  },
  {
   "cell_type": "code",
   "execution_count": 50,
   "id": "bb07d9c9-8f12-45ef-b901-b9bc49b1cb0a",
   "metadata": {
    "tags": []
   },
   "outputs": [
    {
     "name": "stdout",
     "output_type": "stream",
     "text": [
      " Current Client: 3596"
     ]
    }
   ],
   "source": [
    "c = client_g()\n",
    "\n",
    "for train_file, test_file in zip(train_files, test_files):\n",
    "    with open(train_file, 'r') as train_f, open(test_file, 'r') as test_f:\n",
    "        train_data = json.load(train_f)\n",
    "        test_data = json.load(test_f)\n",
    "        \n",
    "        for client_name in train_data['users']:\n",
    "            curr_c = next(c)\n",
    "            \n",
    "            X_train = train_data['user_data'][client_name]['x']\n",
    "            y_train = train_data['user_data'][client_name]['y']\n",
    "            \n",
    "            X_test = test_data['user_data'][client_name]['x']\n",
    "            y_test = test_data['user_data'][client_name]['y']\n",
    "            \n",
    "            np.savez(f'femnist/train/client{curr_c}.npz', X_train=X_train, y_train=y_train)\n",
    "            np.savez(f'femnist/test/client{curr_c}.npz', X_test=X_test, y_test=y_test)\n",
    "            \n",
    "            print(f'\\r Current Client: {curr_c}', end='', flush=True)"
   ]
  },
  {
   "cell_type": "code",
   "execution_count": null,
   "id": "4bed9007-2545-44c1-9a2f-a82060daa215",
   "metadata": {},
   "outputs": [],
   "source": []
  },
  {
   "cell_type": "code",
   "execution_count": null,
   "id": "5f533fcd-d01d-489a-8d37-0ddd5a280093",
   "metadata": {},
   "outputs": [],
   "source": []
  },
  {
   "cell_type": "code",
   "execution_count": null,
   "id": "b5ec10e9-0aaf-49f6-8a8b-7fe3f58f6da3",
   "metadata": {},
   "outputs": [],
   "source": []
  },
  {
   "cell_type": "code",
   "execution_count": null,
   "id": "5485b0ac-5a6c-4777-939c-2de960aa05dc",
   "metadata": {},
   "outputs": [],
   "source": []
  },
  {
   "cell_type": "code",
   "execution_count": null,
   "id": "1d9fa353-bd1f-4ac5-a5a3-c35e101cae20",
   "metadata": {},
   "outputs": [],
   "source": []
  },
  {
   "cell_type": "code",
   "execution_count": null,
   "id": "8661a137-9b09-40b1-95ff-06ec9a2fd2c4",
   "metadata": {},
   "outputs": [],
   "source": []
  },
  {
   "cell_type": "code",
   "execution_count": null,
   "id": "1da5d788-964b-4087-96ce-e7222f4cab7f",
   "metadata": {},
   "outputs": [],
   "source": []
  },
  {
   "cell_type": "code",
   "execution_count": null,
   "id": "ffbd5ec9-7af7-464d-b04a-a97db275e7c4",
   "metadata": {},
   "outputs": [],
   "source": []
  },
  {
   "cell_type": "code",
   "execution_count": null,
   "id": "50d06288-260a-4158-8bd1-e1a63522f0af",
   "metadata": {},
   "outputs": [],
   "source": []
  },
  {
   "cell_type": "code",
   "execution_count": null,
   "id": "67ecad8a-ff2a-4e22-950d-bac440542ac7",
   "metadata": {},
   "outputs": [],
   "source": []
  }
 ],
 "metadata": {
  "kernelspec": {
   "display_name": "Python [conda env:tf-2.13]",
   "language": "python",
   "name": "conda-env-tf-2.13-py"
  },
  "language_info": {
   "codemirror_mode": {
    "name": "ipython",
    "version": 3
   },
   "file_extension": ".py",
   "mimetype": "text/x-python",
   "name": "python",
   "nbconvert_exporter": "python",
   "pygments_lexer": "ipython3",
   "version": "3.11.5"
  }
 },
 "nbformat": 4,
 "nbformat_minor": 5
}
