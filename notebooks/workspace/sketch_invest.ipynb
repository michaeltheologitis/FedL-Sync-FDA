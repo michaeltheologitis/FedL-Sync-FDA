{
 "cells": [
  {
   "cell_type": "code",
   "execution_count": 5,
   "id": "2760b7b4-81e6-4344-94e5-f7444d742b70",
   "metadata": {
    "tags": []
   },
   "outputs": [],
   "source": [
    "import logging\n",
    "logging.getLogger(\"tensorflow\").setLevel(logging.ERROR)\n",
    "\n",
    "import os\n",
    "os.environ['CUDA_VISIBLE_DEVICES'] = ''\n",
    "os.environ['TF_CPP_MIN_LOG_LEVEL'] = '3'\n",
    "\n",
    "import tensorflow as tf"
   ]
  },
  {
   "cell_type": "code",
   "execution_count": 6,
   "id": "5e06cf78-9d89-4c50-bbc5-b393ab10bc90",
   "metadata": {
    "tags": []
   },
   "outputs": [],
   "source": [
    "from fdavg.models.advanced_cnn import get_compiled_and_built_advanced_cnn"
   ]
  },
  {
   "cell_type": "code",
   "execution_count": 210,
   "id": "aa6d2e6b-71e0-47a2-ba04-0dbed60a0e66",
   "metadata": {
    "tags": []
   },
   "outputs": [
    {
     "ename": "ModuleNotFoundError",
     "evalue": "No module named 'FdAvg'",
     "output_type": "error",
     "traceback": [
      "\u001b[0;31m---------------------------------------------------------------------------\u001b[0m",
      "\u001b[0;31mModuleNotFoundError\u001b[0m                       Traceback (most recent call last)",
      "Cell \u001b[0;32mIn[210], line 1\u001b[0m\n\u001b[0;32m----> 1\u001b[0m \u001b[38;5;28;01mfrom\u001b[39;00m \u001b[38;5;21;01mFdAvg\u001b[39;00m\u001b[38;5;21;01m.\u001b[39;00m\u001b[38;5;21;01mstrategies\u001b[39;00m \u001b[38;5;28;01mimport\u001b[39;00m ksi_unit\n",
      "\u001b[0;31mModuleNotFoundError\u001b[0m: No module named 'FdAvg'"
     ]
    }
   ],
   "source": [
    "from FdAvg.strategies import ksi_unit"
   ]
  },
  {
   "cell_type": "code",
   "execution_count": null,
   "id": "ddcd805f-a285-45fa-acd8-9dbb32aadcd5",
   "metadata": {},
   "outputs": [],
   "source": []
  },
  {
   "cell_type": "code",
   "execution_count": 201,
   "id": "4a2dd84d-a0c6-4673-86aa-2e0c8a4df422",
   "metadata": {
    "tags": []
   },
   "outputs": [],
   "source": [
    "\n",
    "class AmsSketch:\n",
    "    \"\"\" \n",
    "    AMS Sketch class for approximate second moment estimation.\n",
    "    \"\"\"\n",
    "        \n",
    "    def __init__(self, depth=5, width=250):\n",
    "        self.depth = tf.constant(depth)\n",
    "        self.width = tf.constant(width)\n",
    "        self.F = tf.random.uniform(shape=(6, depth), minval=0, maxval=(1 << 31) - 1, dtype=tf.int32)\n",
    "        self.zeros_sketch = tf.zeros(shape=(self.depth, self.width), dtype=tf.float32)\n",
    "        \n",
    "        self.precomputed_dict = {}\n",
    "        \n",
    "    def precompute(self, d):\n",
    "        \n",
    "        pos_tensor = self.tensor_hash31(tf.range(d), self.F[0], self.F[1]) % self.width  # shape=(d, 5)\n",
    "        \n",
    "        self.precomputed_dict[('four', d)] = tf.cast(self.tensor_fourwise(tf.range(d)), dtype=tf.float32)  # shape=(d, 5)\n",
    "        #self.four = tf.cast(self.tensor_fourwise(tf.range(d)), dtype=tf.float32)  # shape=(d, 5)\n",
    "        \n",
    "        range_tensor = tf.range(self.depth)  # shape=(5,)\n",
    "        \n",
    "        # Expand dimensions to create a 2D tensor with shape (1, `self.depth`)\n",
    "        range_tensor_expanded = tf.expand_dims(range_tensor, 0)  # shape=(1, 5)\n",
    "        \n",
    "        # Use tf.tile to repeat the range `d` times\n",
    "        repeated_range_tensor = tf.tile(range_tensor_expanded, [d, 1])  # shape=(d, 5)\n",
    "        \n",
    "        # shape=(`d`, `self.depth`, 2)\n",
    "        self.precomputed_dict[('indices', d)] = tf.stack([repeated_range_tensor, pos_tensor], axis=-1)  # shape=(d, 5, 2)\n",
    "        #self.indices = tf.stack([repeated_range_tensor, pos_tensor], axis=-1)  # shape=(d, 5, 2)\n",
    "    \n",
    "        \n",
    "    @staticmethod\n",
    "    def hash31(x, a, b):\n",
    "        r = a * x + b\n",
    "        fold = tf.bitwise.bitwise_xor(tf.bitwise.right_shift(r, 31), r)\n",
    "        return tf.bitwise.bitwise_and(fold, 2147483647)\n",
    "\n",
    "    @staticmethod\n",
    "    def tensor_hash31(x, a, b):  # GOOD\n",
    "        \"\"\" Assumed that x is tensor shaped (d,) , i.e., a vector (for example, indices, i.e., tf.range(d)) \"\"\"\n",
    "\n",
    "        # Reshape x to have an extra dimension, resulting in a shape of (k, 1)\n",
    "        x_reshaped = tf.expand_dims(x, axis=-1)\n",
    "\n",
    "        # shape=(`v_dim`, 7)\n",
    "        r = tf.multiply(a, x_reshaped) + b\n",
    "\n",
    "        fold = tf.bitwise.bitwise_xor(tf.bitwise.right_shift(r, 31), r)\n",
    "        \n",
    "        return tf.bitwise.bitwise_and(fold, 2147483647)\n",
    "\n",
    "    def tensor_fourwise(self, x):\n",
    "        \"\"\" Assumed that x is tensor shaped (d,) , i.e., a vector (for example, indices, i.e., tf.range(d)) \"\"\"\n",
    "        \n",
    "        # 1st use the tensor hash31\n",
    "        in1 = self.tensor_hash31(x, self.F[2], self.F[3])  # shape = (`x_dim`,  `self.depth`)\n",
    "        \n",
    "        # 2st use the tensor hash31\n",
    "        in2 = self.tensor_hash31(x, in1, self.F[4])  # shape = (`x_dim`,  `self.depth`)\n",
    "        \n",
    "        # 3rd use the tensor hash31\n",
    "        in3 = self.tensor_hash31(x, in2, self.F[5])  # shape = (`x_dim`,  `self.depth`)\n",
    "        \n",
    "        in4 = tf.bitwise.bitwise_and(in3, 32768)  # shape = (`x_dim`,  `self.depth`)\n",
    "        \n",
    "        return 2 * (tf.bitwise.right_shift(in4, 15)) - 1  # shape = (`x_dim`,  `self.depth`)\n",
    "\n",
    "    def fourwise(self, x):\n",
    "        result = 2 * (tf.bitwise.right_shift(tf.bitwise.bitwise_and(self.hash31(self.hash31(self.hash31(x, self.F[2], self.F[3]), x, self.F[4]), x, self.F[5]), 32768), 15)) - 1\n",
    "        return result\n",
    "    \n",
    "    def sketch_for_vector(self, v):\n",
    "        \"\"\" Extremely efficient computation of sketch with only using tensors.\n",
    "\n",
    "        Args:\n",
    "        - v (tf.Tensor): Vector to sketch. Shape=(d,).\n",
    "\n",
    "        Returns:\n",
    "        - tf.Tensor: An AMS - Sketch. Shape=(`depth`, `width`).\n",
    "        \"\"\"\n",
    "        \n",
    "        d = v.shape[0]\n",
    "        \n",
    "        if ('four', d) not in self.precomputed_dict:\n",
    "            self.precompute(d)\n",
    "            \n",
    "        return self._sketch_for_vector(v, self.precomputed_dict[('four', d)], self.precomputed_dict[('indices', d)])\n",
    "    \n",
    "    @tf.function\n",
    "    def _sketch_for_vector(self, v, four, indices):\n",
    "\n",
    "        v_expand = tf.expand_dims(v, axis=-1)  # shape=(d, 1)\n",
    "\n",
    "        # shape=(d, 5): +- for each value v_i , i = 1, ..., d\n",
    "        deltas_tensor = tf.multiply(four, v_expand)\n",
    "\n",
    "        sketch = tf.tensor_scatter_nd_add(self.zeros_sketch, indices, deltas_tensor)  # shape=(5, 250)\n",
    "\n",
    "        return sketch\n",
    "    \n",
    "    @staticmethod\n",
    "    def estimate_euc_norm_squared(sketch):\n",
    "        \"\"\" Estimate the Euclidean norm squared of a vector using its AMS sketch.\n",
    "\n",
    "        Args:\n",
    "        - sketch (tf.Tensor): AMS sketch of a vector. Shape=(`depth`, `width`).\n",
    "\n",
    "        Returns:\n",
    "        - tf.Tensor: Estimated squared Euclidean norm.\n",
    "        \"\"\"\n",
    "        \n",
    "        norm_sq_rows = tf.reduce_sum(tf.square(sketch), axis=1)\n",
    "        return np.median(norm_sq_rows)"
   ]
  },
  {
   "cell_type": "code",
   "execution_count": 202,
   "id": "b3d3824d-5d79-43c0-8346-00245941e789",
   "metadata": {
    "tags": []
   },
   "outputs": [],
   "source": [
    "v = get_compiled_and_built_advanced_cnn((None, 28, 28), (28, 28, 1), 10).trainable_vars_as_vector()"
   ]
  },
  {
   "cell_type": "code",
   "execution_count": 171,
   "id": "29605af7-f361-4ce8-ab90-30d064f1b410",
   "metadata": {
    "tags": []
   },
   "outputs": [],
   "source": [
    "cnns = [get_compiled_and_built_advanced_cnn((None, 28, 28), (28, 28, 1), 10) for _ in range(10)]"
   ]
  },
  {
   "cell_type": "code",
   "execution_count": 172,
   "id": "ccd07d68-6aaa-469b-86e4-be3f016cf890",
   "metadata": {
    "tags": []
   },
   "outputs": [],
   "source": [
    "server = get_compiled_and_built_advanced_cnn((None, 28, 28), (28, 28, 1), 10).trainable_vars_as_vector()"
   ]
  },
  {
   "cell_type": "code",
   "execution_count": 173,
   "id": "1d18cefa-2f8d-46b5-b1ac-8735536e22ef",
   "metadata": {
    "tags": []
   },
   "outputs": [],
   "source": [
    "server2 = get_compiled_and_built_advanced_cnn((None, 28, 28), (28, 28, 1), 10).trainable_vars_as_vector()"
   ]
  },
  {
   "cell_type": "code",
   "execution_count": 168,
   "id": "cfd3d121-2ddb-40fa-aa05-8904826518bc",
   "metadata": {
    "tags": []
   },
   "outputs": [],
   "source": [
    "from math import sqrt"
   ]
  },
  {
   "cell_type": "code",
   "execution_count": 203,
   "id": "3e434c7d-ba80-44e6-aceb-c3e0dc957c88",
   "metadata": {
    "tags": []
   },
   "outputs": [],
   "source": [
    "ams_sketch, epsilon = AmsSketch(), 1 / sqrt(250)"
   ]
  },
  {
   "cell_type": "code",
   "execution_count": 207,
   "id": "f8bf0022-cc51-41d7-a6ad-583dcf3eef4b",
   "metadata": {
    "tags": []
   },
   "outputs": [
    {
     "data": {
      "text/plain": [
       "<tf.Tensor: shape=(), dtype=float32, numpy=2077.4185>"
      ]
     },
     "execution_count": 207,
     "metadata": {},
     "output_type": "execute_result"
    }
   ],
   "source": [
    "tf.reduce_sum(tf.multiply(v, v))"
   ]
  },
  {
   "cell_type": "code",
   "execution_count": 208,
   "id": "1c76d810-669f-4c7c-942f-570abf033d2a",
   "metadata": {
    "tags": []
   },
   "outputs": [
    {
     "data": {
      "text/plain": [
       "1979.0791"
      ]
     },
     "execution_count": 208,
     "metadata": {},
     "output_type": "execute_result"
    }
   ],
   "source": [
    "AmsSketch.estimate_euc_norm_squared(ams_sketch.sketch_for_vector(v))"
   ]
  },
  {
   "cell_type": "code",
   "execution_count": null,
   "id": "8b74f4ca-fcb1-45c2-bc54-a323b128b509",
   "metadata": {},
   "outputs": [],
   "source": [
    "v"
   ]
  },
  {
   "cell_type": "code",
   "execution_count": 196,
   "id": "6675efba-39aa-432f-ad57-c31a9eed6704",
   "metadata": {
    "tags": []
   },
   "outputs": [
    {
     "name": "stdout",
     "output_type": "stream",
     "text": [
      "513 ns ± 30 ns per loop (mean ± std. dev. of 7 runs, 1,000,000 loops each)\n"
     ]
    }
   ],
   "source": [
    "%%timeit\n",
    "\n",
    "len(v)"
   ]
  },
  {
   "cell_type": "code",
   "execution_count": 199,
   "id": "e6fe4faa-1b0b-460c-8fd6-c7f615d7be62",
   "metadata": {
    "tags": []
   },
   "outputs": [
    {
     "data": {
      "text/plain": [
       "2592202"
      ]
     },
     "execution_count": 199,
     "metadata": {},
     "output_type": "execute_result"
    }
   ],
   "source": [
    "v.shape[0]"
   ]
  },
  {
   "cell_type": "code",
   "execution_count": 198,
   "id": "ae25ade3-7df7-40ea-a476-06b992687a6f",
   "metadata": {
    "tags": []
   },
   "outputs": [
    {
     "name": "stdout",
     "output_type": "stream",
     "text": [
      "262 ns ± 1.49 ns per loop (mean ± std. dev. of 7 runs, 1,000,000 loops each)\n"
     ]
    }
   ],
   "source": [
    "%%timeit\n",
    "\n",
    "v.shape[0]"
   ]
  },
  {
   "cell_type": "code",
   "execution_count": 200,
   "id": "64230468-598c-4adc-a852-b4b21c3d42bb",
   "metadata": {
    "tags": []
   },
   "outputs": [
    {
     "data": {
      "text/plain": [
       "<tf.Tensor: shape=(2592202,), dtype=float32, numpy=\n",
       "array([0.01080805, 0.06065328, 0.08516055, ..., 0.        , 0.        ,\n",
       "       0.        ], dtype=float32)>"
      ]
     },
     "execution_count": 200,
     "metadata": {},
     "output_type": "execute_result"
    }
   ],
   "source": [
    "v"
   ]
  },
  {
   "cell_type": "markdown",
   "id": "39aa7e15-eee5-4036-a1e6-858eef922a42",
   "metadata": {},
   "source": [
    "## Sketch"
   ]
  },
  {
   "cell_type": "code",
   "execution_count": 174,
   "id": "0808bf9e-979f-48b9-b843-6259c97d775e",
   "metadata": {
    "tags": []
   },
   "outputs": [
    {
     "name": "stdout",
     "output_type": "stream",
     "text": [
      "3.68 s ± 19.8 ms per loop (mean ± std. dev. of 7 runs, 1 loop each)\n"
     ]
    }
   ],
   "source": [
    "%%timeit\n",
    "\n",
    "delta_is = [\n",
    "    cnn.trainable_vars_as_vector() - server\n",
    "    for cnn in cnns\n",
    "]\n",
    "\n",
    "euc_norm_squared_clients = [\n",
    "   tf.reduce_sum(tf.square(delta_i))\n",
    "   for delta_i in delta_is \n",
    "]\n",
    "\n",
    "sketches = [\n",
    "    ams_sketch.sketch_for_vector(delta_i)\n",
    "    for delta_i in delta_is\n",
    "]\n",
    "\n",
    "S_1 = tf.reduce_mean(euc_norm_squared_clients)\n",
    "S_2 = tf.reduce_mean(sketches, axis=0)\n",
    "\n",
    "# See theoretical analysis above\n",
    "var = S_1 - (1. / (1. + epsilon)) * AmsSketch.estimate_euc_norm_squared(S_2)"
   ]
  },
  {
   "cell_type": "code",
   "execution_count": 178,
   "id": "a6c96f55-86eb-4920-8e71-d0a367473c1e",
   "metadata": {
    "tags": []
   },
   "outputs": [
    {
     "data": {
      "text/plain": [
       "1093026600.0"
      ]
     },
     "execution_count": 178,
     "metadata": {},
     "output_type": "execute_result"
    }
   ],
   "source": [
    "AmsSketch.estimate_euc_norm_squared(sk)"
   ]
  },
  {
   "cell_type": "markdown",
   "id": "fac373cf-14ed-4099-84ed-6eda68d735cd",
   "metadata": {},
   "source": [
    "## Linear"
   ]
  },
  {
   "cell_type": "code",
   "execution_count": 175,
   "id": "ed840418-3cd8-4298-8e70-a2852dbec79c",
   "metadata": {
    "tags": []
   },
   "outputs": [],
   "source": [
    "def ksi_unit(w_t0, w_tminus1):\n",
    "    if tf.reduce_all(tf.equal(w_t0, w_tminus1)):\n",
    "        # if equal then ksi becomes a random vector (will only happen in round 1)\n",
    "        ksi = tf.random.stateless_normal(shape=w_t0.shape, seed=[1, 2])\n",
    "\n",
    "    else:\n",
    "        ksi = w_t0 - w_tminus1\n",
    "\n",
    "    # Normalize and return\n",
    "    return tf.divide(ksi, tf.norm(ksi))"
   ]
  },
  {
   "cell_type": "code",
   "execution_count": 176,
   "id": "c37a0f3d-9094-4a22-97f4-0a95714d6956",
   "metadata": {
    "tags": []
   },
   "outputs": [
    {
     "name": "stdout",
     "output_type": "stream",
     "text": [
      "196 ms ± 1.97 ms per loop (mean ± std. dev. of 7 runs, 10 loops each)\n"
     ]
    }
   ],
   "source": [
    "%%timeit\n",
    "\n",
    "ksi = ksi_unit(server, server2)\n",
    "\n",
    "delta_is = [\n",
    "    cnn.trainable_vars_as_vector() - server\n",
    "    for cnn in cnns\n",
    "]\n",
    "\n",
    "euc_norm_squared_clients = [\n",
    "   tf.reduce_sum(tf.square(delta_i))\n",
    "   for delta_i in delta_is \n",
    "]\n",
    "\n",
    "ksi_delta_clients = [\n",
    "    tf.reduce_sum(tf.multiply(ksi, delta_i))\n",
    "    for delta_i in delta_is\n",
    "]\n",
    "\n",
    "S_1 = tf.reduce_mean(euc_norm_squared_clients)\n",
    "S_2 = tf.reduce_mean(ksi_delta_clients)\n",
    "\n",
    "var = S_1 - S_2**2"
   ]
  },
  {
   "cell_type": "code",
   "execution_count": null,
   "id": "e4aee203-91ed-4b93-8643-c50659e719ad",
   "metadata": {},
   "outputs": [],
   "source": []
  }
 ],
 "metadata": {
  "kernelspec": {
   "display_name": "Python [conda env:tf-2.13]",
   "language": "python",
   "name": "conda-env-tf-2.13-py"
  },
  "language_info": {
   "codemirror_mode": {
    "name": "ipython",
    "version": 3
   },
   "file_extension": ".py",
   "mimetype": "text/x-python",
   "name": "python",
   "nbconvert_exporter": "python",
   "pygments_lexer": "ipython3",
   "version": "3.11.5"
  }
 },
 "nbformat": 4,
 "nbformat_minor": 5
}
