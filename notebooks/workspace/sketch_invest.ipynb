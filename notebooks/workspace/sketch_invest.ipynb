{
 "cells": [
  {
   "cell_type": "code",
   "execution_count": 2,
   "id": "2760b7b4-81e6-4344-94e5-f7444d742b70",
   "metadata": {
    "tags": []
   },
   "outputs": [],
   "source": [
    "import logging\n",
    "logging.getLogger(\"tensorflow\").setLevel(logging.ERROR)\n",
    "\n",
    "import os\n",
    "os.environ['CUDA_VISIBLE_DEVICES'] = ''\n",
    "os.environ['TF_CPP_MIN_LOG_LEVEL'] = '3'\n",
    "\n",
    "import tensorflow as tf"
   ]
  },
  {
   "cell_type": "code",
   "execution_count": 3,
   "id": "5e06cf78-9d89-4c50-bbc5-b393ab10bc90",
   "metadata": {
    "tags": []
   },
   "outputs": [],
   "source": [
    "from fdavg.models.advanced_cnn import get_compiled_and_built_advanced_cnn"
   ]
  },
  {
   "cell_type": "code",
   "execution_count": 168,
   "id": "4a2dd84d-a0c6-4673-86aa-2e0c8a4df422",
   "metadata": {
    "tags": []
   },
   "outputs": [],
   "source": [
    "\n",
    "class AmsSketch:\n",
    "    \"\"\" \n",
    "    AMS Sketch class for approximate second moment estimation.\n",
    "    \"\"\"\n",
    "        \n",
    "    def __init__(self, depth=5, width=250, d=2592202):\n",
    "        self.depth = depth\n",
    "        self.width = width\n",
    "        self.d = d\n",
    "        self.F = tf.random.uniform(shape=(6, depth), minval=0, maxval=(1 << 31) - 1, dtype=tf.int32)\n",
    "        \n",
    "        self.initialize()\n",
    "\n",
    "        \n",
    "    def initialize(self):\n",
    "        \n",
    "        pos_tensor = self.tensor_hash31(tf.range(self.d), self.F[0], self.F[1]) % self.width  # shape=(d, 5)\n",
    "        \n",
    "        self.four = tf.cast(self.tensor_fourwise(tf.range(self.d)), dtype=tf.float32)  # shape=(d, 5)\n",
    "        \n",
    "        range_tensor = tf.range(self.depth)  # shape=(5,)\n",
    "        \n",
    "        # Expand dimensions to create a 2D tensor with shape (1, `self.depth`)\n",
    "        range_tensor_expanded = tf.expand_dims(range_tensor, 0)  # shape=(1, 5)\n",
    "        \n",
    "        # Use tf.tile to repeat the range `len_v` times\n",
    "        repeated_range_tensor = tf.tile(range_tensor_expanded, [len_v, 1])  # shape=(d, 5)\n",
    "        \n",
    "        # shape=(`len_v`, `self.depth`, 2)\n",
    "        self.indices = tf.stack([repeated_range_tensor, pos_tensor], axis=-1)  # shape=(d, 5, 2)\n",
    "    \n",
    "        \n",
    "    @staticmethod\n",
    "    def hash31(x, a, b):\n",
    "        r = a * x + b\n",
    "        fold = tf.bitwise.bitwise_xor(tf.bitwise.right_shift(r, 31), r)\n",
    "        return tf.bitwise.bitwise_and(fold, 2147483647)\n",
    "\n",
    "    @staticmethod\n",
    "    def tensor_hash31(x, a, b):  # GOOD\n",
    "        \"\"\" Assumed that x is tensor shaped (d,) , i.e., a vector (for example, indices, i.e., tf.range(d)) \"\"\"\n",
    "\n",
    "        # Reshape x to have an extra dimension, resulting in a shape of (k, 1)\n",
    "        x_reshaped = tf.expand_dims(x, axis=-1)\n",
    "\n",
    "        # shape=(`v_dim`, 7)\n",
    "        r = tf.multiply(a, x_reshaped) + b\n",
    "\n",
    "        fold = tf.bitwise.bitwise_xor(tf.bitwise.right_shift(r, 31), r)\n",
    "        \n",
    "        return tf.bitwise.bitwise_and(fold, 2147483647)\n",
    "\n",
    "    def tensor_fourwise(self, x):\n",
    "        \"\"\" Assumed that x is tensor shaped (d,) , i.e., a vector (for example, indices, i.e., tf.range(d)) \"\"\"\n",
    "        # 1st use the tensor hash31\n",
    "        in1 = self.tensor_hash31(x, self.F[2], self.F[3])  # shape = (`x_dim`,  `self.depth`)\n",
    "        \n",
    "        # 2st use the tensor hash31\n",
    "        in2 = self.tensor_hash31(x, in1, self.F[4])  # shape = (`x_dim`,  `self.depth`)\n",
    "        \n",
    "        # 3rd use the tensor hash31\n",
    "        in3 = self.tensor_hash31(x, in2, self.F[5])  # shape = (`x_dim`,  `self.depth`)\n",
    "        \n",
    "        in4 = tf.bitwise.bitwise_and(in3, 32768)  # shape = (`x_dim`,  `self.depth`)\n",
    "        \n",
    "        return 2 * (tf.bitwise.right_shift(in4, 15)) - 1  # shape = (`x_dim`,  `self.depth`)\n",
    "\n",
    "    def fourwise(self, x):\n",
    "        result = 2 * (tf.bitwise.right_shift(tf.bitwise.bitwise_and(self.hash31(self.hash31(self.hash31(x, self.F[2], self.F[3]), x, self.F[4]), x, self.F[5]), 32768), 15)) - 1\n",
    "        return result\n",
    "\n",
    "    @tf.function\n",
    "    def sketch_for_vector(self, v):\n",
    "        \"\"\" Extremely efficient computation of sketch with only using tensors.\n",
    "\n",
    "        Args:\n",
    "        - v (tf.Tensor): Vector to sketch. Shape=(d,).\n",
    "\n",
    "        Returns:\n",
    "        - tf.Tensor: An AMS - Sketch. Shape=(`depth`, `width`).\n",
    "        \"\"\"\n",
    "        \n",
    "        sketch = tf.zeros(shape=(self.depth, self.width), dtype=tf.float32)  # shape=(5, 250)\n",
    "        \n",
    "        v_expand = tf.expand_dims(v, axis=-1)  # shape=(d, 1)\n",
    "        \n",
    "        # shape=(d, 5): +- for each value v_i , i = 1, ..., d\n",
    "        deltas_tensor = tf.multiply(self.four, v_expand)\n",
    "        \n",
    "        sketch = tf.tensor_scatter_nd_add(sketch, self.indices, deltas_tensor)  # shape=(5, 250)\n",
    "        \n",
    "        return sketch\n",
    "\n",
    "    @staticmethod\n",
    "    def estimate_euc_norm_squared(sketch):\n",
    "        \"\"\" Estimate the Euclidean norm squared of a vector using its AMS sketch.\n",
    "\n",
    "        Args:\n",
    "        - sketch (tf.Tensor): AMS sketch of a vector. Shape=(`depth`, `width`).\n",
    "\n",
    "        Returns:\n",
    "        - tf.Tensor: Estimated squared Euclidean norm.\n",
    "        \"\"\"\n",
    "\n",
    "        def _median(v):\n",
    "            \"\"\" Median of tensor `v` with shape=(n,). Note: Suboptimal O(nlogn) but it's ok bcz n = `depth`\"\"\"\n",
    "            length = tf.shape(v)[0]\n",
    "            sorted_v = tf.sort(v)\n",
    "            middle = length // 2\n",
    "\n",
    "            return tf.cond(\n",
    "                tf.equal(length % 2, 0),\n",
    "                lambda: (sorted_v[middle - 1] + sorted_v[middle]) / 2.0,\n",
    "                lambda: sorted_v[middle]\n",
    "            )\n",
    "\n",
    "        return _median(tf.reduce_sum(tf.square(sketch), axis=1))"
   ]
  },
  {
   "cell_type": "code",
   "execution_count": 143,
   "id": "bcd571d3-7988-4832-a7cc-d5bf2f7d12e7",
   "metadata": {
    "tags": []
   },
   "outputs": [],
   "source": [
    "num_clients = 10"
   ]
  },
  {
   "cell_type": "code",
   "execution_count": 144,
   "id": "89f13112-54ae-492b-b3e3-2df6bbdfb40d",
   "metadata": {
    "tags": []
   },
   "outputs": [],
   "source": [
    "cnns = [get_compiled_and_built_advanced_cnn((None, 28, 28), (28, 28, 1), 10) for _ in range(num_clients)]"
   ]
  },
  {
   "cell_type": "code",
   "execution_count": 145,
   "id": "b3d3824d-5d79-43c0-8346-00245941e789",
   "metadata": {
    "tags": []
   },
   "outputs": [],
   "source": [
    "v = get_compiled_and_built_advanced_cnn((None, 28, 28), (28, 28, 1), 10).trainable_vars_as_vector()"
   ]
  },
  {
   "cell_type": "code",
   "execution_count": 146,
   "id": "3ae8bb09-fd50-454c-a0d7-a4b3d841c42c",
   "metadata": {
    "tags": []
   },
   "outputs": [],
   "source": [
    "server = get_compiled_and_built_advanced_cnn((None, 28, 28), (28, 28, 1), 10).trainable_vars_as_vector()\n",
    "server2 = get_compiled_and_built_advanced_cnn((None, 28, 28), (28, 28, 1), 10).trainable_vars_as_vector()"
   ]
  },
  {
   "cell_type": "code",
   "execution_count": 147,
   "id": "cfd3d121-2ddb-40fa-aa05-8904826518bc",
   "metadata": {
    "tags": []
   },
   "outputs": [],
   "source": [
    "from math import sqrt"
   ]
  },
  {
   "cell_type": "code",
   "execution_count": 202,
   "id": "099af00f-d178-4f8b-83c4-34407d126383",
   "metadata": {
    "tags": []
   },
   "outputs": [],
   "source": [
    "ams_sketch, epsilon = AmsSketch(11, 1500, 2592202), 1. / sqrt(250)"
   ]
  },
  {
   "cell_type": "code",
   "execution_count": null,
   "id": "c690eaf1-cd30-4a26-a0ff-1ae6f47c0614",
   "metadata": {},
   "outputs": [],
   "source": []
  },
  {
   "cell_type": "code",
   "execution_count": null,
   "id": "509c62cf-d165-4984-b272-ca4c0e3e28c0",
   "metadata": {},
   "outputs": [],
   "source": []
  },
  {
   "cell_type": "code",
   "execution_count": 106,
   "id": "7b7f6964-b0dd-4529-932c-8f2a60166590",
   "metadata": {
    "collapsed": true,
    "jupyter": {
     "outputs_hidden": true
    },
    "tags": []
   },
   "outputs": [
    {
     "data": {
      "text/plain": [
       "<tf.Tensor: shape=(2592202,), dtype=int32, numpy=array([173, 181, 189, ..., 174, 166, 158], dtype=int32)>"
      ]
     },
     "execution_count": 106,
     "metadata": {},
     "output_type": "execute_result"
    }
   ],
   "source": [
    "pos1 = ams_sketch.pos_tensor[:, 0]\n",
    "\n",
    "pos1"
   ]
  },
  {
   "cell_type": "code",
   "execution_count": 107,
   "id": "4225cb2a-ce86-488e-9b76-25abd7aadadc",
   "metadata": {
    "collapsed": true,
    "jupyter": {
     "outputs_hidden": true
    },
    "tags": []
   },
   "outputs": [
    {
     "data": {
      "text/plain": [
       "<tf.Tensor: shape=(2592202,), dtype=float32, numpy=\n",
       "array([ 0.03389673, -0.06132888,  0.00831743, ...,  0.        ,\n",
       "        0.        ,  0.        ], dtype=float32)>"
      ]
     },
     "execution_count": 107,
     "metadata": {},
     "output_type": "execute_result"
    }
   ],
   "source": [
    "v"
   ]
  },
  {
   "cell_type": "code",
   "execution_count": 119,
   "id": "9bbe3f87-c400-46bd-a7d7-e179fecaa1f4",
   "metadata": {
    "tags": []
   },
   "outputs": [],
   "source": [
    "h1_sketch = tf.zeros(shape=(250, ), dtype=tf.float32)"
   ]
  },
  {
   "cell_type": "code",
   "execution_count": 121,
   "id": "40e94934-b4f4-479b-b9fe-5830bb6ce020",
   "metadata": {
    "collapsed": true,
    "jupyter": {
     "outputs_hidden": true
    },
    "tags": []
   },
   "outputs": [
    {
     "ename": "InvalidArgumentError",
     "evalue": "{{function_node __wrapped__TensorScatterAdd_device_/job:localhost/replica:0/task:0/device:CPU:0}} Inner dimensions of output shape must match inner dimensions of updates shape. Output: [250] updates: [2592202] [Op:TensorScatterAdd] name: ",
     "output_type": "error",
     "traceback": [
      "\u001b[0;31m---------------------------------------------------------------------------\u001b[0m",
      "\u001b[0;31mInvalidArgumentError\u001b[0m                      Traceback (most recent call last)",
      "Cell \u001b[0;32mIn[121], line 1\u001b[0m\n\u001b[0;32m----> 1\u001b[0m \u001b[43mtf\u001b[49m\u001b[38;5;241;43m.\u001b[39;49m\u001b[43mtensor_scatter_nd_add\u001b[49m\u001b[43m(\u001b[49m\u001b[43mh1_sketch\u001b[49m\u001b[43m,\u001b[49m\u001b[43m \u001b[49m\u001b[43mpos1\u001b[49m\u001b[43m,\u001b[49m\u001b[43m \u001b[49m\u001b[43mv\u001b[49m\u001b[43m)\u001b[49m\n",
      "File \u001b[0;32m~/anaconda3/envs/tf-2.13/lib/python3.11/site-packages/tensorflow/python/ops/gen_array_ops.py:11067\u001b[0m, in \u001b[0;36mtensor_scatter_add\u001b[0;34m(tensor, indices, updates, name)\u001b[0m\n\u001b[1;32m  11065\u001b[0m   \u001b[38;5;28;01mreturn\u001b[39;00m _result\n\u001b[1;32m  11066\u001b[0m \u001b[38;5;28;01mexcept\u001b[39;00m _core\u001b[38;5;241m.\u001b[39m_NotOkStatusException \u001b[38;5;28;01mas\u001b[39;00m e:\n\u001b[0;32m> 11067\u001b[0m   \u001b[43m_ops\u001b[49m\u001b[38;5;241;43m.\u001b[39;49m\u001b[43mraise_from_not_ok_status\u001b[49m\u001b[43m(\u001b[49m\u001b[43me\u001b[49m\u001b[43m,\u001b[49m\u001b[43m \u001b[49m\u001b[43mname\u001b[49m\u001b[43m)\u001b[49m\n\u001b[1;32m  11068\u001b[0m \u001b[38;5;28;01mexcept\u001b[39;00m _core\u001b[38;5;241m.\u001b[39m_FallbackException:\n\u001b[1;32m  11069\u001b[0m   \u001b[38;5;28;01mpass\u001b[39;00m\n",
      "File \u001b[0;32m~/anaconda3/envs/tf-2.13/lib/python3.11/site-packages/tensorflow/python/framework/ops.py:6656\u001b[0m, in \u001b[0;36mraise_from_not_ok_status\u001b[0;34m(e, name)\u001b[0m\n\u001b[1;32m   6654\u001b[0m \u001b[38;5;28;01mdef\u001b[39;00m \u001b[38;5;21mraise_from_not_ok_status\u001b[39m(e, name):\n\u001b[1;32m   6655\u001b[0m   e\u001b[38;5;241m.\u001b[39mmessage \u001b[38;5;241m+\u001b[39m\u001b[38;5;241m=\u001b[39m (\u001b[38;5;124m\"\u001b[39m\u001b[38;5;124m name: \u001b[39m\u001b[38;5;124m\"\u001b[39m \u001b[38;5;241m+\u001b[39m \u001b[38;5;28mstr\u001b[39m(name \u001b[38;5;28;01mif\u001b[39;00m name \u001b[38;5;129;01mis\u001b[39;00m \u001b[38;5;129;01mnot\u001b[39;00m \u001b[38;5;28;01mNone\u001b[39;00m \u001b[38;5;28;01melse\u001b[39;00m \u001b[38;5;124m\"\u001b[39m\u001b[38;5;124m\"\u001b[39m))\n\u001b[0;32m-> 6656\u001b[0m   \u001b[38;5;28;01mraise\u001b[39;00m core\u001b[38;5;241m.\u001b[39m_status_to_exception(e) \u001b[38;5;28;01mfrom\u001b[39;00m \u001b[38;5;28;01mNone\u001b[39;00m\n",
      "\u001b[0;31mInvalidArgumentError\u001b[0m: {{function_node __wrapped__TensorScatterAdd_device_/job:localhost/replica:0/task:0/device:CPU:0}} Inner dimensions of output shape must match inner dimensions of updates shape. Output: [250] updates: [2592202] [Op:TensorScatterAdd] name: "
     ]
    }
   ],
   "source": [
    "tf.tensor_scatter_nd_add(h1_sketch, pos1, v)"
   ]
  },
  {
   "cell_type": "code",
   "execution_count": 125,
   "id": "ae3e6a0a-36ac-4a4a-8230-c9591b39003b",
   "metadata": {
    "jupyter": {
     "source_hidden": true
    },
    "tags": []
   },
   "outputs": [
    {
     "name": "stdout",
     "output_type": "stream",
     "text": [
      "66 ms ± 628 µs per loop (mean ± std. dev. of 7 runs, 10 loops each)\n"
     ]
    }
   ],
   "source": [
    "%%timeit\n",
    "\n",
    "# Create a tensor of zeros with the shape [250] or more\n",
    "zeros_tensor = tf.zeros([250], dtype=tf.float32)\n",
    "\n",
    "# Use tensor_scatter_nd_add to add v to the zeros_tensor at the positions pos1\n",
    "result_tensor = tf.tensor_scatter_nd_add(zeros_tensor, tf.reshape(pos1, (-1, 1)), v)"
   ]
  },
  {
   "cell_type": "code",
   "execution_count": 250,
   "id": "177ed99c-a9d9-47c0-a046-70e9c04097f8",
   "metadata": {
    "tags": []
   },
   "outputs": [],
   "source": [
    "v = tf.random.normal(shape=(2592202,))\n",
    "sk = ams_sketch.sketch_for_vector(v)\n",
    "real=ams_sketch.estimate_euc_norm_squared(sk)"
   ]
  },
  {
   "cell_type": "code",
   "execution_count": 251,
   "id": "57fe0327-731c-4746-a6b0-a26e00e5d16f",
   "metadata": {
    "tags": []
   },
   "outputs": [],
   "source": [
    "est=tf.reduce_sum(tf.multiply(v, v))"
   ]
  },
  {
   "cell_type": "code",
   "execution_count": 252,
   "id": "d84961aa-efe2-48cd-afe5-0cbbb9172dfd",
   "metadata": {
    "tags": []
   },
   "outputs": [
    {
     "data": {
      "text/plain": [
       "-0.02384311"
      ]
     },
     "execution_count": 252,
     "metadata": {},
     "output_type": "execute_result"
    }
   ],
   "source": [
    "((real - est)/ real).numpy() "
   ]
  },
  {
   "cell_type": "markdown",
   "id": "39aa7e15-eee5-4036-a1e6-858eef922a42",
   "metadata": {},
   "source": [
    "## Sketch"
   ]
  },
  {
   "cell_type": "code",
   "execution_count": 138,
   "id": "0808bf9e-979f-48b9-b843-6259c97d775e",
   "metadata": {
    "tags": []
   },
   "outputs": [
    {
     "name": "stdout",
     "output_type": "stream",
     "text": [
      "3.65 s ± 15.6 ms per loop (mean ± std. dev. of 7 runs, 1 loop each)\n"
     ]
    }
   ],
   "source": [
    "%%timeit\n",
    "\n",
    "delta_is = [\n",
    "    cnn.trainable_vars_as_vector() - server\n",
    "    for cnn in cnns\n",
    "]\n",
    "\n",
    "euc_norm_squared_clients = [\n",
    "   tf.reduce_sum(tf.square(delta_i))\n",
    "   for delta_i in delta_is \n",
    "]\n",
    "\n",
    "sketches = [\n",
    "    ams_sketch.sketch_for_vector(delta_i)\n",
    "    for delta_i in delta_is\n",
    "]\n",
    "\n",
    "S_1 = tf.reduce_mean(euc_norm_squared_clients)\n",
    "S_2 = tf.reduce_mean(sketches, axis=0)\n",
    "\n",
    "# See theoretical analysis above\n",
    "var = S_1 - (1. / (1. + epsilon)) * AmsSketch.estimate_euc_norm_squared(S_2)"
   ]
  },
  {
   "cell_type": "code",
   "execution_count": 78,
   "id": "6528fa06-c048-40a3-96e8-6e925141e428",
   "metadata": {
    "tags": []
   },
   "outputs": [
    {
     "name": "stdout",
     "output_type": "stream",
     "text": [
      "352 ms ± 4.18 ms per loop (mean ± std. dev. of 7 runs, 1 loop each)\n"
     ]
    }
   ],
   "source": [
    "%%timeit\n",
    "\n",
    "sk = ams_sketch.sketch_for_vector(v)"
   ]
  },
  {
   "cell_type": "code",
   "execution_count": 67,
   "id": "6fb323a6-5037-4370-9f3c-39fce6e7ee5f",
   "metadata": {
    "tags": []
   },
   "outputs": [
    {
     "name": "stdout",
     "output_type": "stream",
     "text": [
      "1.45 ms ± 31.5 µs per loop (mean ± std. dev. of 7 runs, 1,000 loops each)\n"
     ]
    }
   ],
   "source": [
    "%%timeit\n",
    "\n",
    "ams_sketch.estimate_euc_norm_squared(sk)"
   ]
  },
  {
   "cell_type": "markdown",
   "id": "fac373cf-14ed-4099-84ed-6eda68d735cd",
   "metadata": {},
   "source": [
    "## Linear"
   ]
  },
  {
   "cell_type": "code",
   "execution_count": 51,
   "id": "ed840418-3cd8-4298-8e70-a2852dbec79c",
   "metadata": {
    "tags": []
   },
   "outputs": [],
   "source": [
    "def ksi_unit(w_t0, w_tminus1):\n",
    "    if tf.reduce_all(tf.equal(w_t0, w_tminus1)):\n",
    "        # if equal then ksi becomes a random vector (will only happen in round 1)\n",
    "        ksi = tf.random.stateless_normal(shape=w_t0.shape, seed=[1, 2])\n",
    "\n",
    "    else:\n",
    "        ksi = w_t0 - w_tminus1\n",
    "\n",
    "    # Normalize and return\n",
    "    return tf.divide(ksi, tf.norm(ksi))"
   ]
  },
  {
   "cell_type": "code",
   "execution_count": 58,
   "id": "c37a0f3d-9094-4a22-97f4-0a95714d6956",
   "metadata": {
    "tags": []
   },
   "outputs": [
    {
     "name": "stdout",
     "output_type": "stream",
     "text": [
      "203 ms ± 10.3 ms per loop (mean ± std. dev. of 7 runs, 10 loops each)\n"
     ]
    }
   ],
   "source": [
    "%%timeit\n",
    "\n",
    "ksi = ksi_unit(server, server2)\n",
    "\n",
    "delta_is = [\n",
    "    cnn.trainable_vars_as_vector() - server\n",
    "    for cnn in cnns\n",
    "]\n",
    "\n",
    "euc_norm_squared_clients = [\n",
    "   tf.reduce_sum(tf.square(delta_i))\n",
    "   for delta_i in delta_is \n",
    "]\n",
    "\n",
    "ksi_delta_clients = [\n",
    "    tf.reduce_sum(tf.multiply(ksi, delta_i))\n",
    "    for delta_i in delta_is\n",
    "]\n",
    "\n",
    "S_1 = tf.reduce_mean(euc_norm_squared_clients)\n",
    "S_2 = tf.reduce_mean(ksi_delta_clients)\n",
    "\n",
    "var = S_1 - S_2**2"
   ]
  },
  {
   "cell_type": "code",
   "execution_count": null,
   "id": "e4aee203-91ed-4b93-8643-c50659e719ad",
   "metadata": {},
   "outputs": [],
   "source": []
  }
 ],
 "metadata": {
  "kernelspec": {
   "display_name": "Python [conda env:tf-2.13]",
   "language": "python",
   "name": "conda-env-tf-2.13-py"
  },
  "language_info": {
   "codemirror_mode": {
    "name": "ipython",
    "version": 3
   },
   "file_extension": ".py",
   "mimetype": "text/x-python",
   "name": "python",
   "nbconvert_exporter": "python",
   "pygments_lexer": "ipython3",
   "version": "3.11.5"
  }
 },
 "nbformat": 4,
 "nbformat_minor": 5
}
