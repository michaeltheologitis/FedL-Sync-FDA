{
 "cells": [
  {
   "cell_type": "code",
   "execution_count": 3,
   "id": "64860ef9-d459-41bd-b1f2-e58dd0c5cf1c",
   "metadata": {
    "tags": []
   },
   "outputs": [],
   "source": [
    "import os\n",
    "os.environ['TF_CPP_MIN_LOG_LEVEL'] = '3'\n",
    "\n",
    "import tensorflow as tf\n",
    "import numpy as np"
   ]
  },
  {
   "cell_type": "code",
   "execution_count": 21,
   "id": "34e897fe-0e75-4565-a239-e5483385db01",
   "metadata": {
    "tags": []
   },
   "outputs": [],
   "source": [
    "# Load the dataset\n",
    "(X_train, y_train), (X_test, y_test) = tf.keras.datasets.mnist.load_data()"
   ]
  },
  {
   "cell_type": "code",
   "execution_count": 23,
   "id": "99a28593-c971-4185-9ee7-834526b8d2a2",
   "metadata": {
    "tags": []
   },
   "outputs": [],
   "source": [
    "# Save the dataset locally in a single .npz file\n",
    "np.savez(\"../../FdAvg/data/data/mnist/mnist.npz\", X_train=X_train, y_train=y_train, X_test=X_test, y_test=y_test)"
   ]
  },
  {
   "cell_type": "code",
   "execution_count": 27,
   "id": "b53671a7-1232-4853-9bb3-3dd56465313f",
   "metadata": {
    "tags": []
   },
   "outputs": [],
   "source": [
    "def load_mnist_from_local_npz():\n",
    "    with np.load(\"../../FdAvg/data/data/mnist/mnist.npz\") as data:\n",
    "        return (data['X_train'], data['y_train']), (data['X_test'], data['y_test'])"
   ]
  },
  {
   "cell_type": "code",
   "execution_count": 28,
   "id": "7f0130e0-cd3d-46dc-9857-7c3d2127b31b",
   "metadata": {
    "tags": []
   },
   "outputs": [],
   "source": [
    "(X_train, y_train), (X_test, y_test) = load_mnist_from_local_npz()"
   ]
  },
  {
   "cell_type": "code",
   "execution_count": 31,
   "id": "f7b94160-3774-4182-b4b0-3836304b263b",
   "metadata": {
    "tags": []
   },
   "outputs": [
    {
     "data": {
      "text/plain": [
       "10000"
      ]
     },
     "execution_count": 31,
     "metadata": {},
     "output_type": "execute_result"
    }
   ],
   "source": [
    "len(y_test)"
   ]
  },
  {
   "cell_type": "code",
   "execution_count": null,
   "id": "3360a11c-f466-4bf7-a73b-4c89c8f7e72b",
   "metadata": {},
   "outputs": [],
   "source": []
  }
 ],
 "metadata": {
  "kernelspec": {
   "display_name": "Python [conda env:tf-2.13]",
   "language": "python",
   "name": "conda-env-tf-2.13-py"
  },
  "language_info": {
   "codemirror_mode": {
    "name": "ipython",
    "version": 3
   },
   "file_extension": ".py",
   "mimetype": "text/x-python",
   "name": "python",
   "nbconvert_exporter": "python",
   "pygments_lexer": "ipython3",
   "version": "3.11.5"
  }
 },
 "nbformat": 4,
 "nbformat_minor": 5
}
