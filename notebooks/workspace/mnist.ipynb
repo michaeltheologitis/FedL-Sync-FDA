{
 "cells": [
  {
   "cell_type": "code",
   "execution_count": 5,
   "id": "64860ef9-d459-41bd-b1f2-e58dd0c5cf1c",
   "metadata": {
    "tags": []
   },
   "outputs": [],
   "source": [
    "import os\n",
    "os.environ['TF_CPP_MIN_LOG_LEVEL'] = '3'\n",
    "\n",
    "import tensorflow as tf\n",
    "import numpy as np"
   ]
  },
  {
   "cell_type": "code",
   "execution_count": 6,
   "id": "b53671a7-1232-4853-9bb3-3dd56465313f",
   "metadata": {
    "tags": []
   },
   "outputs": [],
   "source": [
    "def load_mnist_from_local_npz():\n",
    "    with np.load(\"../../FdAvg/data/data/mnist/mnist.npz\") as data:\n",
    "        return (data['X_train'], data['y_train']), (data['X_test'], data['y_test'])"
   ]
  },
  {
   "cell_type": "code",
   "execution_count": 7,
   "id": "7f0130e0-cd3d-46dc-9857-7c3d2127b31b",
   "metadata": {
    "tags": []
   },
   "outputs": [],
   "source": [
    "(X_train, y_train), (X_test, y_test) = load_mnist_from_local_npz()"
   ]
  },
  {
   "cell_type": "code",
   "execution_count": 138,
   "id": "3360a11c-f466-4bf7-a73b-4c89c8f7e72b",
   "metadata": {},
   "outputs": [],
   "source": [
    "# Extract examples where the label is 0 for the training set\n",
    "X_train_zeros = X_train[y_train == 0]\n",
    "y_train_zeros = y_train[y_train == 0]"
   ]
  },
  {
   "cell_type": "code",
   "execution_count": 139,
   "id": "4eb86233-1487-424b-b642-55bc421d5239",
   "metadata": {
    "tags": []
   },
   "outputs": [
    {
     "data": {
      "text/plain": [
       "5923"
      ]
     },
     "execution_count": 139,
     "metadata": {},
     "output_type": "execute_result"
    }
   ],
   "source": [
    "len(y_train_zeros)"
   ]
  },
  {
   "cell_type": "code",
   "execution_count": 140,
   "id": "7387fec0-970d-4438-ad1b-45741a576aca",
   "metadata": {
    "tags": []
   },
   "outputs": [],
   "source": [
    "X_train_rest = X_train[y_train != 0]\n",
    "y_train_rest = y_train[y_train != 0]"
   ]
  },
  {
   "cell_type": "code",
   "execution_count": 141,
   "id": "ae49281b-84b3-4ae9-871d-801a47a6d6d7",
   "metadata": {
    "tags": []
   },
   "outputs": [],
   "source": [
    "X_train_non_uniform_biased = np.concatenate((X_train_zeros, X_train_rest))\n",
    "y_train_non_uniform_biased = np.concatenate((y_train_zeros, y_train_rest))"
   ]
  },
  {
   "cell_type": "code",
   "execution_count": 142,
   "id": "6fd1d0d7-a8f0-4862-8569-f3e662ea33eb",
   "metadata": {
    "tags": []
   },
   "outputs": [],
   "source": [
    "num_clients = 60"
   ]
  },
  {
   "cell_type": "code",
   "execution_count": 143,
   "id": "e9727f8d-05d8-464f-91c9-66359e0c699e",
   "metadata": {
    "tags": []
   },
   "outputs": [],
   "source": [
    "X_train_non_uniform_biased_lst = np.array_split(X_train_non_uniform_biased, num_clients)\n",
    "y_train_non_uniform_biased_lst = np.array_split(y_train_non_uniform_biased, num_clients)"
   ]
  },
  {
   "cell_type": "code",
   "execution_count": 144,
   "id": "cb04f600-a2bc-4f57-be62-40f9043e34a6",
   "metadata": {
    "tags": []
   },
   "outputs": [],
   "source": [
    "non_uniform_biased_federated_dataset = []"
   ]
  },
  {
   "cell_type": "code",
   "execution_count": 145,
   "id": "a76efcb3-9180-4c29-a002-18def15cac43",
   "metadata": {
    "tags": []
   },
   "outputs": [],
   "source": [
    "for X_train, y_train in zip(X_train_non_uniform_biased_lst, y_train_non_uniform_biased_lst):\n",
    "    non_uniform_biased_federated_dataset.append(\n",
    "        tf.data.Dataset.from_tensor_slices((X_train, y_train))\n",
    "    )"
   ]
  },
  {
   "cell_type": "code",
   "execution_count": 146,
   "id": "a35d9c73-4aad-4fdf-925a-87f0a4a733ac",
   "metadata": {
    "tags": []
   },
   "outputs": [
    {
     "data": {
      "text/plain": [
       "<tf.Tensor: shape=(), dtype=int64, numpy=60000>"
      ]
     },
     "execution_count": 146,
     "metadata": {},
     "output_type": "execute_result"
    }
   ],
   "source": [
    "sum(ds.cardinality() for ds in non_uniform_biased_federated_dataset)"
   ]
  },
  {
   "cell_type": "code",
   "execution_count": null,
   "id": "2560cb3f-83d0-4d8e-b746-1abcdefa0bd1",
   "metadata": {},
   "outputs": [],
   "source": []
  },
  {
   "cell_type": "code",
   "execution_count": 2,
   "id": "de482d51-df7b-484c-9d86-6b0f837abba2",
   "metadata": {
    "tags": []
   },
   "outputs": [
    {
     "data": {
      "text/plain": [
       "<tf.Tensor: shape=(4,), dtype=float32, numpy=array([0.0268528 , 0.42395547, 1.6263357 , 0.8324397 ], dtype=float32)>"
      ]
     },
     "execution_count": 2,
     "metadata": {},
     "output_type": "execute_result"
    }
   ],
   "source": [
    "tf.random.normal(shape=[4])"
   ]
  },
  {
   "cell_type": "code",
   "execution_count": 3,
   "id": "13b2e415-647d-488e-9f79-54bfd4fc358d",
   "metadata": {
    "tags": []
   },
   "outputs": [
    {
     "data": {
      "text/plain": [
       "<tf.Tensor: shape=(4,), dtype=float32, numpy=array([-1.2719796 ,  0.5056329 , -0.18683623, -0.3944708 ], dtype=float32)>"
      ]
     },
     "execution_count": 3,
     "metadata": {},
     "output_type": "execute_result"
    }
   ],
   "source": [
    "tf.random.normal(shape=[4])"
   ]
  },
  {
   "cell_type": "code",
   "execution_count": null,
   "id": "d7b08a47-0b6b-4a5f-bdc6-0edaa7cec64c",
   "metadata": {},
   "outputs": [],
   "source": []
  },
  {
   "cell_type": "code",
   "execution_count": 10,
   "id": "9263c570-8b2c-427c-add8-57b69ebe3898",
   "metadata": {
    "tags": []
   },
   "outputs": [
    {
     "data": {
      "text/plain": [
       "<tf.Tensor: shape=(6000,), dtype=float32, numpy=\n",
       "array([ 0.5441101 ,  0.20738031,  0.07356432, ..., -0.5228442 ,\n",
       "        2.8992932 ,  0.07690824], dtype=float32)>"
      ]
     },
     "execution_count": 10,
     "metadata": {},
     "output_type": "execute_result"
    }
   ],
   "source": [
    "tf.random.stateless_normal(shape=[6000], seed=[1, 2])"
   ]
  },
  {
   "cell_type": "code",
   "execution_count": 2,
   "id": "39a82ab6-4565-4265-ab20-144c45a2c93b",
   "metadata": {
    "tags": []
   },
   "outputs": [
    {
     "data": {
      "text/plain": [
       "<tf.Tensor: shape=(6000,), dtype=float32, numpy=\n",
       "array([ 0.5441101 ,  0.20738031,  0.07356432, ..., -0.5228442 ,\n",
       "        2.8992932 ,  0.07690824], dtype=float32)>"
      ]
     },
     "execution_count": 2,
     "metadata": {},
     "output_type": "execute_result"
    }
   ],
   "source": [
    "tf.random.stateless_normal(shape=[6000], seed=[1, 2])"
   ]
  },
  {
   "cell_type": "code",
   "execution_count": 6,
   "id": "3b61fd2d-1f6b-40a8-9206-2ade0027b3e9",
   "metadata": {
    "tags": []
   },
   "outputs": [
    {
     "data": {
      "text/plain": [
       "<tf.Tensor: shape=(), dtype=bool, numpy=True>"
      ]
     },
     "execution_count": 6,
     "metadata": {},
     "output_type": "execute_result"
    }
   ],
   "source": [
    "tf.reduce_all(tf.equal(1, 1))"
   ]
  },
  {
   "cell_type": "code",
   "execution_count": null,
   "id": "33b92aa3-a8ad-4436-8db5-87d7ecd84cdb",
   "metadata": {},
   "outputs": [],
   "source": []
  },
  {
   "cell_type": "code",
   "execution_count": null,
   "id": "3bb58cb9-63cc-41ae-b5fa-26c9545f5aad",
   "metadata": {},
   "outputs": [],
   "source": []
  },
  {
   "cell_type": "code",
   "execution_count": 3,
   "id": "c4224b7c-569b-4598-8e6f-100ad328eb07",
   "metadata": {
    "tags": []
   },
   "outputs": [],
   "source": [
    "def create_one_label_biased_federated_data(X_train, y_train, num_clients):\n",
    "    \"\"\"\n",
    "    Create non-iid federated data with a specific label (0-label) completely non-uniformly distributed (potentially\n",
    "    whole samples of said label will go on a few clients only). Almost equal cardinality of each clients' dataset.\n",
    "    Rest of dataset is iid (without the zero label examples).\n",
    "\n",
    "    Args:\n",
    "        X_train (numpy.ndarray): The training data features.\n",
    "        y_train (numpy.ndarray): The training data labels.\n",
    "        num_clients (int): The number of clients among which the data should be distributed.\n",
    "\n",
    "    Returns:\n",
    "        list of tf.data.Dataset: A list of TensorFlow Dataset objects. Each dataset in the list corresponds to\n",
    "        the data shard for a client. The order of the datasets in the list corresponds to the order of the clients.\n",
    "    \"\"\"\n",
    "\n",
    "    X_train_zeros = X_train[y_train == 0]\n",
    "    y_train_zeros = y_train[y_train == 0]\n",
    "\n",
    "    X_train_rest = X_train[y_train != 0]\n",
    "    y_train_rest = y_train[y_train != 0]\n",
    "\n",
    "    X_train_one_label_biased = np.concatenate((X_train_zeros, X_train_rest))\n",
    "    y_train_one_label_biased = np.concatenate((y_train_zeros, y_train_rest))\n",
    "\n",
    "    X_train_one_label_biased_lst = np.array_split(X_train_one_label_biased, num_clients)\n",
    "    y_train_one_label_biased_lst = np.array_split(y_train_one_label_biased, num_clients)\n",
    "\n",
    "    one_label_biased_federated_dataset = []\n",
    "\n",
    "    for X_train, y_train in zip(X_train_one_label_biased_lst, y_train_one_label_biased_lst):\n",
    "        one_label_biased_federated_dataset.append(\n",
    "            tf.data.Dataset.from_tensor_slices((X_train, y_train))\n",
    "        )\n",
    "\n",
    "    return one_label_biased_federated_dataset"
   ]
  },
  {
   "cell_type": "code",
   "execution_count": 9,
   "id": "214c0661-0e79-429d-ae57-9bbe33b2c919",
   "metadata": {
    "tags": []
   },
   "outputs": [],
   "source": [
    "one_label_biased_federated_dataset = create_one_label_biased_federated_data(X_train, y_train, 50)"
   ]
  },
  {
   "cell_type": "code",
   "execution_count": 10,
   "id": "af29c9af-8ebd-4aee-b551-04c18d95e5da",
   "metadata": {
    "tags": []
   },
   "outputs": [
    {
     "data": {
      "text/plain": [
       "<tf.Tensor: shape=(), dtype=int64, numpy=60000>"
      ]
     },
     "execution_count": 10,
     "metadata": {},
     "output_type": "execute_result"
    }
   ],
   "source": [
    "sum(ds.cardinality() for ds in one_label_biased_federated_dataset)"
   ]
  },
  {
   "cell_type": "code",
   "execution_count": 14,
   "id": "4e600d33-92d2-4371-a6c3-cc138bd8f906",
   "metadata": {
    "tags": []
   },
   "outputs": [
    {
     "data": {
      "text/plain": [
       "<tf.Tensor: shape=(), dtype=uint8, numpy=0>"
      ]
     },
     "execution_count": 14,
     "metadata": {},
     "output_type": "execute_result"
    }
   ],
   "source": [
    "next(iter(one_label_biased_federated_dataset[0]))[1]"
   ]
  },
  {
   "cell_type": "code",
   "execution_count": null,
   "id": "c8d6b96c-e513-456d-a8e9-6895d93acade",
   "metadata": {},
   "outputs": [],
   "source": []
  },
  {
   "cell_type": "code",
   "execution_count": null,
   "id": "53551254-3840-483a-8300-13992a305efc",
   "metadata": {},
   "outputs": [],
   "source": []
  },
  {
   "cell_type": "code",
   "execution_count": null,
   "id": "ebe78413-f4b2-44ca-964a-91ac910ba9bb",
   "metadata": {},
   "outputs": [],
   "source": []
  },
  {
   "cell_type": "code",
   "execution_count": 33,
   "id": "261c3905-51c7-4e8b-8192-0a5d3cfc76a2",
   "metadata": {
    "tags": []
   },
   "outputs": [
    {
     "data": {
      "text/plain": [
       "'-1.0'"
      ]
     },
     "execution_count": 33,
     "metadata": {},
     "output_type": "execute_result"
    }
   ],
   "source": [
    "str(float(-1))"
   ]
  },
  {
   "cell_type": "code",
   "execution_count": 34,
   "id": "34a9f4fb-812f-4258-b9b9-ac590e8fdb62",
   "metadata": {
    "tags": []
   },
   "outputs": [
    {
     "data": {
      "text/plain": [
       "True"
      ]
     },
     "execution_count": 34,
     "metadata": {},
     "output_type": "execute_result"
    }
   ],
   "source": [
    "-1.0 == -1"
   ]
  },
  {
   "cell_type": "code",
   "execution_count": null,
   "id": "30940105-2851-4102-b049-a831213e01e1",
   "metadata": {},
   "outputs": [],
   "source": []
  }
 ],
 "metadata": {
  "kernelspec": {
   "display_name": "Python [conda env:tf-2.13]",
   "language": "python",
   "name": "conda-env-tf-2.13-py"
  },
  "language_info": {
   "codemirror_mode": {
    "name": "ipython",
    "version": 3
   },
   "file_extension": ".py",
   "mimetype": "text/x-python",
   "name": "python",
   "nbconvert_exporter": "python",
   "pygments_lexer": "ipython3",
   "version": "3.11.5"
  }
 },
 "nbformat": 4,
 "nbformat_minor": 5
}
