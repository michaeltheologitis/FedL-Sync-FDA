{
 "cells": [
  {
   "cell_type": "code",
   "execution_count": 2,
   "id": "1f3e206d-8e5f-408c-8d0b-db3cccf280d8",
   "metadata": {
    "tags": []
   },
   "outputs": [
    {
     "name": "stdout",
     "output_type": "stream",
     "text": [
      "Num GPUs Available:  0\n"
     ]
    }
   ],
   "source": [
    "import logging\n",
    "logging.getLogger(\"tensorflow\").setLevel(logging.ERROR)\n",
    "\n",
    "import os\n",
    "os.environ['TF_CPP_MIN_LOG_LEVEL'] = '3'\n",
    "\n",
    "import tensorflow as tf\n",
    "\n",
    "print(\"Num GPUs Available: \", len(tf.config.list_physical_devices('GPU')))\n",
    "\n",
    "from tensorflow.keras import datasets\n",
    "\n",
    "from tensorflow import keras"
   ]
  },
  {
   "cell_type": "code",
   "execution_count": 3,
   "id": "396ddfe1-a75c-4328-9a56-5da55d8ad5b8",
   "metadata": {
    "tags": []
   },
   "outputs": [
    {
     "name": "stdout",
     "output_type": "stream",
     "text": [
      "Downloading data from https://www.cs.toronto.edu/~kriz/cifar-100-python.tar.gz\n",
      "169001437/169001437 [==============================] - 25s 0us/step\n"
     ]
    }
   ],
   "source": [
    "(X_train, y_train), (X_test, y_test) = datasets.cifar100.load_data()"
   ]
  },
  {
   "cell_type": "code",
   "execution_count": 11,
   "id": "bfb80e05-ea3f-44fd-a36b-d061d53d5bf5",
   "metadata": {
    "tags": []
   },
   "outputs": [],
   "source": [
    "import numpy as np"
   ]
  },
  {
   "cell_type": "code",
   "execution_count": 27,
   "id": "d1e423fc-ee6f-4562-ae13-eca70e87a98f",
   "metadata": {
    "tags": []
   },
   "outputs": [],
   "source": [
    "# Split the dataset into two halves\n",
    "X_train_1, X_train_2 = np.split(X_train, 2)\n",
    "y_train_1, y_train_2 = np.split(y_train, 2)\n",
    "X_test_1, X_test_2 = np.split(X_test, 2)\n",
    "y_test_1, y_test_2 = np.split(y_test, 2)\n",
    "\n",
    "# Save the first half of the dataset\n",
    "np.savez('../../fdavg/data/data/cifar100/cifar100_part1.npz', X_train=X_train_1, y_train=y_train_1, X_test=X_test_1, y_test=y_test_1)\n",
    "\n",
    "# Save the second half of the dataset\n",
    "np.savez('../../fdavg/data/data/cifar100/cifar100_part2.npz', X_train=X_train_2, y_train=y_train_2, X_test=X_test_2, y_test=y_test_2)"
   ]
  },
  {
   "cell_type": "code",
   "execution_count": null,
   "id": "66646116-6d1d-4764-98a9-4863b9329705",
   "metadata": {},
   "outputs": [],
   "source": []
  },
  {
   "cell_type": "code",
   "execution_count": 13,
   "id": "a42dcb88-86c3-42db-88c8-08a64d82d2b2",
   "metadata": {
    "tags": []
   },
   "outputs": [],
   "source": [
    "cifar100_part1_data, cifar100_part2_data='cifar100_part1.npz', 'cifar100_part2.npz'"
   ]
  },
  {
   "cell_type": "code",
   "execution_count": 14,
   "id": "b0dd7d25-129f-4537-bdc3-7ae4b5fe83b4",
   "metadata": {
    "tags": []
   },
   "outputs": [],
   "source": [
    "def load_cifar100_from_local_npz():\n",
    "\n",
    "    with np.load(cifar100_part1_data) as data1:\n",
    "        with np.load(cifar100_part2_data) as data2:\n",
    "            X_train = np.concatenate((data1['X_train'], data2['X_train']))\n",
    "            y_train = np.concatenate((data1['y_train'], data2['y_train']))\n",
    "            X_test = np.concatenate((data1['X_test'], data2['X_test']))\n",
    "            y_test = np.concatenate((data1['y_test'], data2['y_test']))\n",
    "\n",
    "            return (X_train, y_train), (X_test, y_test)"
   ]
  },
  {
   "cell_type": "code",
   "execution_count": 16,
   "id": "8281f58a-63d7-4b08-80f4-e2322f452be8",
   "metadata": {
    "tags": []
   },
   "outputs": [],
   "source": [
    "(X, y), (X_t, y_t) = load_cifar100_from_local_npz()"
   ]
  },
  {
   "cell_type": "code",
   "execution_count": null,
   "id": "dc4a0244-da29-4140-a1b5-8bb76f61d399",
   "metadata": {},
   "outputs": [],
   "source": []
  },
  {
   "cell_type": "code",
   "execution_count": 9,
   "id": "90e49136-d9e4-437a-84ca-d52c169f18a6",
   "metadata": {
    "tags": []
   },
   "outputs": [],
   "source": [
    "!ls ../../fdavg/data/data/cifar100/"
   ]
  },
  {
   "cell_type": "code",
   "execution_count": null,
   "id": "ef8c9a41-e31b-4ea2-a6dd-54b583b2046e",
   "metadata": {},
   "outputs": [],
   "source": []
  }
 ],
 "metadata": {
  "kernelspec": {
   "display_name": "Python [conda env:tf-2.13]",
   "language": "python",
   "name": "conda-env-tf-2.13-py"
  },
  "language_info": {
   "codemirror_mode": {
    "name": "ipython",
    "version": 3
   },
   "file_extension": ".py",
   "mimetype": "text/x-python",
   "name": "python",
   "nbconvert_exporter": "python",
   "pygments_lexer": "ipython3",
   "version": "3.11.5"
  }
 },
 "nbformat": 4,
 "nbformat_minor": 5
}
