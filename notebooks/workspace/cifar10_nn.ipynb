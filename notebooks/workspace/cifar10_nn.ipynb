{
 "cells": [
  {
   "cell_type": "code",
   "execution_count": 1,
   "id": "0c155a9a-b99e-4574-b9a6-71e6597bea1a",
   "metadata": {
    "tags": []
   },
   "outputs": [
    {
     "name": "stdout",
     "output_type": "stream",
     "text": [
      "Num GPUs Available:  1\n"
     ]
    }
   ],
   "source": [
    "import logging\n",
    "logging.getLogger(\"tensorflow\").setLevel(logging.ERROR)\n",
    "\n",
    "import os\n",
    "os.environ['CUDA_VISIBLE_DEVICES'] = '0'\n",
    "os.environ['TF_CPP_MIN_LOG_LEVEL'] = '3'\n",
    "\n",
    "import tensorflow as tf\n",
    "\n",
    "for gpu in tf.config.experimental.list_physical_devices('GPU'):\n",
    "    tf.config.experimental.set_memory_growth(gpu, True)\n",
    "\n",
    "print(\"Num GPUs Available: \", len(tf.config.list_physical_devices('GPU')))\n",
    "\n",
    "from tensorflow.keras import datasets\n",
    "\n",
    "from tensorflow import keras"
   ]
  },
  {
   "cell_type": "code",
   "execution_count": 2,
   "id": "57557a70-601f-4851-b237-4299f1e860bd",
   "metadata": {
    "tags": []
   },
   "outputs": [],
   "source": [
    "import numpy as np"
   ]
  },
  {
   "cell_type": "code",
   "execution_count": 3,
   "id": "e4110b3d-a6a8-40f5-b021-30222a7ce89f",
   "metadata": {
    "tags": []
   },
   "outputs": [],
   "source": [
    "from fdavg.models import count_weights"
   ]
  },
  {
   "cell_type": "markdown",
   "id": "21d188a3-8cd1-425e-b490-621dee045ab5",
   "metadata": {},
   "source": [
    "# CAREFUL WITH PREPROCESSING DATASET. DO NOT NORMALIZEE!! `include_preprocessing=True`"
   ]
  },
  {
   "cell_type": "code",
   "execution_count": 4,
   "id": "2be50278-4b9c-40a0-afc7-3d17fb4a5a82",
   "metadata": {
    "tags": []
   },
   "outputs": [],
   "source": [
    "(X_train, y_train), (X_test, y_test) = datasets.cifar10.load_data()\n",
    "\n",
    "# Normalize pixel values to be between 0 and 1\n",
    "#X_train, X_test = X_train / 255.0, X_test / 255.0"
   ]
  },
  {
   "cell_type": "code",
   "execution_count": 5,
   "id": "f23383bc-9ea4-4d38-9cf2-93a1afaa2e70",
   "metadata": {
    "tags": []
   },
   "outputs": [
    {
     "data": {
      "text/plain": [
       "(50000, 32, 32, 3)"
      ]
     },
     "execution_count": 5,
     "metadata": {},
     "output_type": "execute_result"
    }
   ],
   "source": [
    "X_train.shape"
   ]
  },
  {
   "cell_type": "code",
   "execution_count": 6,
   "id": "265139c7-4d7c-42b7-b63b-c47347a23575",
   "metadata": {
    "tags": []
   },
   "outputs": [
    {
     "data": {
      "text/plain": [
       "(50000, 1)"
      ]
     },
     "execution_count": 6,
     "metadata": {},
     "output_type": "execute_result"
    }
   ],
   "source": [
    "y_train.shape"
   ]
  },
  {
   "cell_type": "code",
   "execution_count": 7,
   "id": "fb5ee097-6d27-47c1-bce3-212e85e7bb22",
   "metadata": {
    "tags": []
   },
   "outputs": [],
   "source": [
    "y_train = np.squeeze(y_train)\n",
    "y_test = np.squeeze(y_test)"
   ]
  },
  {
   "cell_type": "code",
   "execution_count": 8,
   "id": "ea489543-667b-4843-ab90-f8edd823fb38",
   "metadata": {
    "tags": []
   },
   "outputs": [
    {
     "data": {
      "text/plain": [
       "(50000,)"
      ]
     },
     "execution_count": 8,
     "metadata": {},
     "output_type": "execute_result"
    }
   ],
   "source": [
    "y_train.shape"
   ]
  },
  {
   "cell_type": "markdown",
   "id": "e09acbdb-5b89-47da-9db1-0d86eb035627",
   "metadata": {},
   "source": [
    "# EfficientNet"
   ]
  },
  {
   "cell_type": "markdown",
   "id": "5b14cebc-8678-4c79-bb50-852376fca7f5",
   "metadata": {},
   "source": [
    "## EfficientNetB4 - 4M Params"
   ]
  },
  {
   "cell_type": "code",
   "execution_count": 12,
   "id": "d39e0694-5c1e-4d54-ac88-869121db0449",
   "metadata": {
    "tags": []
   },
   "outputs": [],
   "source": [
    "from tensorflow.keras.applications import EfficientNetB0\n",
    "\n",
    "# Define the model\n",
    "eff_b0 = EfficientNetB0(include_top=True, weights=None, input_shape=(32, 32, 3), classes=10)\n",
    "\n",
    "# Compile the model\n",
    "eff_b0.compile(\n",
    "    optimizer=tf.keras.optimizers.Adam(),\n",
    "    loss=tf.keras.losses.SparseCategoricalCrossentropy(),  # we have softmax\n",
    "    metrics=[tf.keras.metrics.SparseCategoricalAccuracy(name='accuracy')]\n",
    ")"
   ]
  },
  {
   "cell_type": "code",
   "execution_count": 13,
   "id": "43d59a20-bd2f-48ea-b3fe-a3197f4acc3b",
   "metadata": {
    "collapsed": true,
    "jupyter": {
     "outputs_hidden": true
    },
    "tags": []
   },
   "outputs": [
    {
     "name": "stdout",
     "output_type": "stream",
     "text": [
      "Epoch 1/50\n",
      "1563/1563 [==============================] - 116s 51ms/step - loss: 2.8984 - accuracy: 0.1824 - val_loss: 4.8965 - val_accuracy: 0.1997\n",
      "Epoch 2/50\n",
      "1563/1563 [==============================] - 72s 46ms/step - loss: 2.4914 - accuracy: 0.2401 - val_loss: 2.3891 - val_accuracy: 0.2810\n",
      "Epoch 3/50\n",
      "1563/1563 [==============================] - 67s 43ms/step - loss: 2.2499 - accuracy: 0.2945 - val_loss: 2.1278 - val_accuracy: 0.3128\n",
      "Epoch 4/50\n",
      "1563/1563 [==============================] - 78s 50ms/step - loss: 2.2700 - accuracy: 0.2850 - val_loss: 3.1116 - val_accuracy: 0.2743\n",
      "Epoch 5/50\n",
      "1563/1563 [==============================] - 83s 53ms/step - loss: 2.2294 - accuracy: 0.2897 - val_loss: 1.9617 - val_accuracy: 0.2743\n",
      "Epoch 6/50\n",
      "1563/1563 [==============================] - 80s 51ms/step - loss: 2.0965 - accuracy: 0.3157 - val_loss: 2.8489 - val_accuracy: 0.2752\n",
      "Epoch 7/50\n",
      "1563/1563 [==============================] - 71s 45ms/step - loss: 2.0373 - accuracy: 0.3188 - val_loss: 1.9209 - val_accuracy: 0.2908\n",
      "Epoch 8/50\n",
      "1563/1563 [==============================] - 70s 45ms/step - loss: 1.9502 - accuracy: 0.3402 - val_loss: 1.7808 - val_accuracy: 0.3879\n",
      "Epoch 9/50\n",
      "1563/1563 [==============================] - 70s 44ms/step - loss: 1.8009 - accuracy: 0.3920 - val_loss: 1.6966 - val_accuracy: 0.4392\n",
      "Epoch 10/50\n",
      "1563/1563 [==============================] - 70s 45ms/step - loss: 1.8513 - accuracy: 0.3625 - val_loss: 1.6621 - val_accuracy: 0.3921\n",
      "Epoch 11/50\n",
      "1563/1563 [==============================] - 70s 45ms/step - loss: 1.6609 - accuracy: 0.4211 - val_loss: 1.5393 - val_accuracy: 0.4559\n",
      "Epoch 12/50\n",
      "1563/1563 [==============================] - 69s 44ms/step - loss: 1.5345 - accuracy: 0.4619 - val_loss: 1.5183 - val_accuracy: 0.4693\n",
      "Epoch 13/50\n",
      "1563/1563 [==============================] - 70s 45ms/step - loss: 1.4680 - accuracy: 0.4864 - val_loss: 1.9394 - val_accuracy: 0.3647\n",
      "Epoch 14/50\n",
      "1563/1563 [==============================] - 69s 44ms/step - loss: 1.4590 - accuracy: 0.4809 - val_loss: 1.4265 - val_accuracy: 0.5185\n",
      "Epoch 15/50\n",
      "1563/1563 [==============================] - 70s 45ms/step - loss: 1.3693 - accuracy: 0.5156 - val_loss: 1.3890 - val_accuracy: 0.4938\n",
      "Epoch 16/50\n",
      "1563/1563 [==============================] - 69s 44ms/step - loss: 1.4437 - accuracy: 0.4860 - val_loss: 1.4899 - val_accuracy: 0.4857\n",
      "Epoch 17/50\n",
      "1563/1563 [==============================] - 68s 43ms/step - loss: 1.3796 - accuracy: 0.5027 - val_loss: 1.3383 - val_accuracy: 0.5156\n",
      "Epoch 18/50\n",
      "1563/1563 [==============================] - 69s 44ms/step - loss: 1.4562 - accuracy: 0.4756 - val_loss: 1.3844 - val_accuracy: 0.5185\n",
      "Epoch 19/50\n",
      "1563/1563 [==============================] - 68s 44ms/step - loss: 1.2936 - accuracy: 0.5344 - val_loss: 1.2819 - val_accuracy: 0.5360\n",
      "Epoch 20/50\n",
      "1563/1563 [==============================] - 69s 44ms/step - loss: 1.2285 - accuracy: 0.5564 - val_loss: 1.6238 - val_accuracy: 0.4223\n",
      "Epoch 21/50\n",
      "1563/1563 [==============================] - 69s 44ms/step - loss: 1.3194 - accuracy: 0.5268 - val_loss: 1.3002 - val_accuracy: 0.5340\n",
      "Epoch 22/50\n",
      "1563/1563 [==============================] - 69s 44ms/step - loss: 1.3760 - accuracy: 0.5073 - val_loss: 1.3805 - val_accuracy: 0.5311\n",
      "Epoch 23/50\n",
      "1563/1563 [==============================] - 69s 44ms/step - loss: 1.2799 - accuracy: 0.5377 - val_loss: 1.2513 - val_accuracy: 0.5589\n",
      "Epoch 24/50\n",
      "1563/1563 [==============================] - 70s 45ms/step - loss: 1.2075 - accuracy: 0.5660 - val_loss: 1.2366 - val_accuracy: 0.5596\n",
      "Epoch 25/50\n",
      "1563/1563 [==============================] - 70s 45ms/step - loss: 1.2114 - accuracy: 0.5673 - val_loss: 1.1944 - val_accuracy: 0.5733\n",
      "Epoch 26/50\n",
      "1563/1563 [==============================] - 70s 44ms/step - loss: 1.2341 - accuracy: 0.5601 - val_loss: 1.2682 - val_accuracy: 0.5499\n",
      "Epoch 27/50\n",
      "1563/1563 [==============================] - 70s 45ms/step - loss: 1.3514 - accuracy: 0.5128 - val_loss: 1.3398 - val_accuracy: 0.5215\n",
      "Epoch 28/50\n",
      "1563/1563 [==============================] - 69s 44ms/step - loss: 1.2622 - accuracy: 0.5486 - val_loss: 1.2644 - val_accuracy: 0.5553\n",
      "Epoch 29/50\n",
      "1563/1563 [==============================] - 70s 45ms/step - loss: 1.1848 - accuracy: 0.5764 - val_loss: 1.1473 - val_accuracy: 0.5931\n",
      "Epoch 30/50\n",
      "1563/1563 [==============================] - 69s 44ms/step - loss: 1.2412 - accuracy: 0.5581 - val_loss: 1.1997 - val_accuracy: 0.5897\n",
      "Epoch 31/50\n",
      "1563/1563 [==============================] - 69s 44ms/step - loss: 1.1871 - accuracy: 0.5750 - val_loss: 1.1566 - val_accuracy: 0.5925\n",
      "Epoch 32/50\n",
      "1563/1563 [==============================] - 69s 44ms/step - loss: 1.1719 - accuracy: 0.5812 - val_loss: 1.5377 - val_accuracy: 0.4499\n",
      "Epoch 33/50\n",
      "1563/1563 [==============================] - 68s 44ms/step - loss: 1.2319 - accuracy: 0.5610 - val_loss: 1.1638 - val_accuracy: 0.5917\n",
      "Epoch 34/50\n",
      "1563/1563 [==============================] - 69s 44ms/step - loss: 1.1193 - accuracy: 0.6022 - val_loss: 1.1232 - val_accuracy: 0.6039\n",
      "Epoch 35/50\n",
      "1563/1563 [==============================] - 69s 44ms/step - loss: 1.0826 - accuracy: 0.6170 - val_loss: 1.0739 - val_accuracy: 0.6197\n",
      "Epoch 36/50\n",
      "1563/1563 [==============================] - 70s 44ms/step - loss: 1.1301 - accuracy: 0.5989 - val_loss: 1.0803 - val_accuracy: 0.6150\n",
      "Epoch 37/50\n",
      "1563/1563 [==============================] - 70s 45ms/step - loss: 1.1475 - accuracy: 0.5908 - val_loss: 1.1305 - val_accuracy: 0.6004\n",
      "Epoch 38/50\n",
      "1563/1563 [==============================] - 69s 44ms/step - loss: 1.0863 - accuracy: 0.6152 - val_loss: 1.1176 - val_accuracy: 0.6089\n",
      "Epoch 39/50\n",
      "1563/1563 [==============================] - 70s 45ms/step - loss: 1.1836 - accuracy: 0.5774 - val_loss: 1.1869 - val_accuracy: 0.5863\n",
      "Epoch 40/50\n",
      "1563/1563 [==============================] - 69s 44ms/step - loss: 1.0937 - accuracy: 0.6103 - val_loss: 1.2560 - val_accuracy: 0.5659\n",
      "Epoch 41/50\n",
      "1563/1563 [==============================] - 69s 44ms/step - loss: 1.2322 - accuracy: 0.5627 - val_loss: 1.2442 - val_accuracy: 0.5476\n",
      "Epoch 42/50\n",
      "1563/1563 [==============================] - 69s 44ms/step - loss: 1.1669 - accuracy: 0.5824 - val_loss: 1.1556 - val_accuracy: 0.6076\n",
      "Epoch 43/50\n",
      "1563/1563 [==============================] - 69s 44ms/step - loss: 1.0876 - accuracy: 0.6117 - val_loss: 1.1532 - val_accuracy: 0.6038\n",
      "Epoch 44/50\n",
      "1563/1563 [==============================] - 69s 44ms/step - loss: 1.2378 - accuracy: 0.5589 - val_loss: 1.2032 - val_accuracy: 0.5727\n",
      "Epoch 45/50\n",
      "1563/1563 [==============================] - 69s 44ms/step - loss: 1.1582 - accuracy: 0.5845 - val_loss: 1.2261 - val_accuracy: 0.5649\n",
      "Epoch 46/50\n",
      "1563/1563 [==============================] - 70s 45ms/step - loss: 1.2361 - accuracy: 0.5624 - val_loss: 1.3169 - val_accuracy: 0.5353\n",
      "Epoch 47/50\n",
      "1563/1563 [==============================] - 70s 44ms/step - loss: 1.1941 - accuracy: 0.5790 - val_loss: 1.1197 - val_accuracy: 0.6055\n",
      "Epoch 48/50\n",
      "1563/1563 [==============================] - 69s 44ms/step - loss: 1.1242 - accuracy: 0.6008 - val_loss: 1.0622 - val_accuracy: 0.6224\n",
      "Epoch 49/50\n",
      "1563/1563 [==============================] - 70s 45ms/step - loss: 1.0340 - accuracy: 0.6329 - val_loss: 1.0488 - val_accuracy: 0.6388\n",
      "Epoch 50/50\n",
      "1563/1563 [==============================] - 70s 44ms/step - loss: 1.0286 - accuracy: 0.6332 - val_loss: 1.0629 - val_accuracy: 0.6231\n"
     ]
    },
    {
     "data": {
      "text/plain": [
       "<keras.src.callbacks.History at 0x7f8b194fd290>"
      ]
     },
     "execution_count": 13,
     "metadata": {},
     "output_type": "execute_result"
    }
   ],
   "source": [
    "eff_b0.fit(X_train, y_train, batch_size=32, epochs=50, validation_data=(X_test, y_test))"
   ]
  },
  {
   "cell_type": "markdown",
   "id": "b4cfc696-4711-4869-95db-ae8c7199e718",
   "metadata": {},
   "source": [
    "## EfficientNetV2B0 - 5.9M Params"
   ]
  },
  {
   "cell_type": "code",
   "execution_count": 16,
   "id": "934fe559-cbd0-4320-be31-11aa7f94a0eb",
   "metadata": {
    "tags": []
   },
   "outputs": [],
   "source": [
    "from tensorflow.keras.applications import EfficientNetV2B0\n",
    "\n",
    "# Define the model\n",
    "eff_v2b0 = EfficientNetV2B0(include_top=True, weights=None, input_shape=(32, 32, 3), classes=10)\n",
    "\n",
    "# Compile the model\n",
    "eff_v2b0.compile(\n",
    "    optimizer=tf.keras.optimizers.Adam(),\n",
    "    loss=tf.keras.losses.SparseCategoricalCrossentropy(),  # we have softmax\n",
    "    metrics=[tf.keras.metrics.SparseCategoricalAccuracy(name='accuracy')]\n",
    ")"
   ]
  },
  {
   "cell_type": "code",
   "execution_count": 17,
   "id": "5be3c353-f551-47c3-8b4f-2a087b3d52c9",
   "metadata": {
    "collapsed": true,
    "jupyter": {
     "outputs_hidden": true
    },
    "tags": []
   },
   "outputs": [
    {
     "name": "stdout",
     "output_type": "stream",
     "text": [
      "Epoch 1/50\n",
      "1563/1563 [==============================] - 118s 51ms/step - loss: 2.7466 - accuracy: 0.2241 - val_loss: 2.6594 - val_accuracy: 0.2806\n",
      "Epoch 2/50\n",
      "1563/1563 [==============================] - 78s 50ms/step - loss: 2.4732 - accuracy: 0.2434 - val_loss: 2.1109 - val_accuracy: 0.3192\n",
      "Epoch 3/50\n",
      "1563/1563 [==============================] - 77s 49ms/step - loss: 2.4297 - accuracy: 0.2466 - val_loss: 2.5932 - val_accuracy: 0.2592\n",
      "Epoch 4/50\n",
      "1563/1563 [==============================] - 77s 49ms/step - loss: 2.4170 - accuracy: 0.2410 - val_loss: 2.1717 - val_accuracy: 0.2813\n",
      "Epoch 5/50\n",
      "1563/1563 [==============================] - 78s 50ms/step - loss: 2.3210 - accuracy: 0.2583 - val_loss: 1.9244 - val_accuracy: 0.3498\n",
      "Epoch 6/50\n",
      "1563/1563 [==============================] - 78s 50ms/step - loss: 2.1767 - accuracy: 0.3017 - val_loss: 2.5454 - val_accuracy: 0.3303\n",
      "Epoch 7/50\n",
      "1563/1563 [==============================] - 78s 50ms/step - loss: 2.0919 - accuracy: 0.3170 - val_loss: 2.1794 - val_accuracy: 0.3464\n",
      "Epoch 8/50\n",
      "1563/1563 [==============================] - 78s 50ms/step - loss: 2.0790 - accuracy: 0.3185 - val_loss: 2.7512 - val_accuracy: 0.3522\n",
      "Epoch 9/50\n",
      "1563/1563 [==============================] - 79s 51ms/step - loss: 1.9591 - accuracy: 0.3452 - val_loss: 1.7502 - val_accuracy: 0.3831\n",
      "Epoch 10/50\n",
      "1563/1563 [==============================] - 77s 50ms/step - loss: 1.8219 - accuracy: 0.3784 - val_loss: 1.9572 - val_accuracy: 0.3954\n",
      "Epoch 11/50\n",
      "1563/1563 [==============================] - 73s 46ms/step - loss: 1.8624 - accuracy: 0.3566 - val_loss: 1.6869 - val_accuracy: 0.4080\n",
      "Epoch 12/50\n",
      "1563/1563 [==============================] - 80s 51ms/step - loss: 1.6921 - accuracy: 0.4099 - val_loss: 1.5574 - val_accuracy: 0.4417\n",
      "Epoch 13/50\n",
      "1563/1563 [==============================] - 81s 52ms/step - loss: 1.5890 - accuracy: 0.4434 - val_loss: 1.4168 - val_accuracy: 0.4884\n",
      "Epoch 14/50\n",
      "1563/1563 [==============================] - 80s 51ms/step - loss: 1.4871 - accuracy: 0.4750 - val_loss: 1.3699 - val_accuracy: 0.5122\n",
      "Epoch 15/50\n",
      "1563/1563 [==============================] - 80s 51ms/step - loss: 1.4140 - accuracy: 0.4990 - val_loss: 1.2918 - val_accuracy: 0.5348\n",
      "Epoch 16/50\n",
      "1563/1563 [==============================] - 80s 51ms/step - loss: 1.3924 - accuracy: 0.5052 - val_loss: 1.2229 - val_accuracy: 0.5598\n",
      "Epoch 17/50\n",
      "1563/1563 [==============================] - 80s 51ms/step - loss: 1.2701 - accuracy: 0.5485 - val_loss: 1.2470 - val_accuracy: 0.5585\n",
      "Epoch 18/50\n",
      "1563/1563 [==============================] - 80s 51ms/step - loss: 1.2247 - accuracy: 0.5640 - val_loss: 1.2223 - val_accuracy: 0.5565\n",
      "Epoch 19/50\n",
      "1563/1563 [==============================] - 80s 51ms/step - loss: 1.1584 - accuracy: 0.5857 - val_loss: 1.1291 - val_accuracy: 0.5998\n",
      "Epoch 20/50\n",
      "1563/1563 [==============================] - 80s 51ms/step - loss: 1.0904 - accuracy: 0.6160 - val_loss: 1.1285 - val_accuracy: 0.6063\n",
      "Epoch 21/50\n",
      "1563/1563 [==============================] - 81s 52ms/step - loss: 1.1014 - accuracy: 0.6101 - val_loss: 1.1903 - val_accuracy: 0.5820\n",
      "Epoch 22/50\n",
      "1563/1563 [==============================] - 80s 51ms/step - loss: 1.0938 - accuracy: 0.6121 - val_loss: 1.1730 - val_accuracy: 0.5891\n",
      "Epoch 23/50\n",
      "1563/1563 [==============================] - 81s 52ms/step - loss: 1.1271 - accuracy: 0.5985 - val_loss: 1.1167 - val_accuracy: 0.6014\n",
      "Epoch 24/50\n",
      "1563/1563 [==============================] - 79s 51ms/step - loss: 1.0637 - accuracy: 0.6221 - val_loss: 1.1834 - val_accuracy: 0.6014\n",
      "Epoch 25/50\n",
      "1563/1563 [==============================] - 81s 52ms/step - loss: 0.9865 - accuracy: 0.6534 - val_loss: 1.0686 - val_accuracy: 0.6252\n",
      "Epoch 26/50\n",
      "1563/1563 [==============================] - 81s 52ms/step - loss: 0.9443 - accuracy: 0.6662 - val_loss: 1.0646 - val_accuracy: 0.6357\n",
      "Epoch 27/50\n",
      "1563/1563 [==============================] - 80s 51ms/step - loss: 0.9559 - accuracy: 0.6627 - val_loss: 1.0277 - val_accuracy: 0.6431\n",
      "Epoch 28/50\n",
      "1563/1563 [==============================] - 80s 51ms/step - loss: 0.8341 - accuracy: 0.7067 - val_loss: 1.0757 - val_accuracy: 0.6387\n",
      "Epoch 29/50\n",
      "1563/1563 [==============================] - 80s 51ms/step - loss: 0.9127 - accuracy: 0.6793 - val_loss: 1.0547 - val_accuracy: 0.6358\n",
      "Epoch 30/50\n",
      "1563/1563 [==============================] - 79s 51ms/step - loss: 0.7951 - accuracy: 0.7213 - val_loss: 1.0888 - val_accuracy: 0.6380\n",
      "Epoch 31/50\n",
      "1563/1563 [==============================] - 78s 50ms/step - loss: 0.7867 - accuracy: 0.7234 - val_loss: 1.1120 - val_accuracy: 0.6529\n",
      "Epoch 32/50\n",
      "1563/1563 [==============================] - 78s 50ms/step - loss: 0.8018 - accuracy: 0.7179 - val_loss: 1.0570 - val_accuracy: 0.6518\n",
      "Epoch 33/50\n",
      "1563/1563 [==============================] - 79s 50ms/step - loss: 0.7854 - accuracy: 0.7240 - val_loss: 1.0868 - val_accuracy: 0.6364\n",
      "Epoch 34/50\n",
      "1563/1563 [==============================] - 78s 50ms/step - loss: 0.8416 - accuracy: 0.7022 - val_loss: 1.1193 - val_accuracy: 0.6216\n",
      "Epoch 35/50\n",
      "1563/1563 [==============================] - 78s 50ms/step - loss: 0.7353 - accuracy: 0.7385 - val_loss: 1.0835 - val_accuracy: 0.6435\n",
      "Epoch 36/50\n",
      "1563/1563 [==============================] - 75s 48ms/step - loss: 0.7191 - accuracy: 0.7459 - val_loss: 1.0257 - val_accuracy: 0.6525\n",
      "Epoch 37/50\n",
      "1563/1563 [==============================] - 75s 48ms/step - loss: 0.6608 - accuracy: 0.7662 - val_loss: 1.1282 - val_accuracy: 0.6447\n",
      "Epoch 38/50\n",
      "1563/1563 [==============================] - 74s 47ms/step - loss: 0.6201 - accuracy: 0.7789 - val_loss: 1.0718 - val_accuracy: 0.6455\n",
      "Epoch 39/50\n",
      "1563/1563 [==============================] - 84s 54ms/step - loss: 0.6039 - accuracy: 0.7848 - val_loss: 1.1615 - val_accuracy: 0.6417\n",
      "Epoch 40/50\n",
      "1563/1563 [==============================] - 80s 51ms/step - loss: 0.6461 - accuracy: 0.7698 - val_loss: 1.5969 - val_accuracy: 0.6098\n",
      "Epoch 41/50\n",
      "1563/1563 [==============================] - 80s 51ms/step - loss: 0.6273 - accuracy: 0.7784 - val_loss: 1.2593 - val_accuracy: 0.6408\n",
      "Epoch 42/50\n",
      "1563/1563 [==============================] - 89s 57ms/step - loss: 0.5609 - accuracy: 0.8000 - val_loss: 1.3696 - val_accuracy: 0.6198\n",
      "Epoch 43/50\n",
      "1563/1563 [==============================] - 82s 52ms/step - loss: 0.5800 - accuracy: 0.7951 - val_loss: 1.3761 - val_accuracy: 0.6074\n",
      "Epoch 44/50\n",
      "1563/1563 [==============================] - 81s 52ms/step - loss: 0.5695 - accuracy: 0.7964 - val_loss: 1.1294 - val_accuracy: 0.6531\n",
      "Epoch 45/50\n",
      "1563/1563 [==============================] - 80s 51ms/step - loss: 0.5127 - accuracy: 0.8188 - val_loss: 1.2373 - val_accuracy: 0.6563\n",
      "Epoch 46/50\n",
      "1563/1563 [==============================] - 79s 51ms/step - loss: 0.4317 - accuracy: 0.8461 - val_loss: 1.2308 - val_accuracy: 0.6591\n",
      "Epoch 47/50\n",
      "1563/1563 [==============================] - 75s 48ms/step - loss: 0.4831 - accuracy: 0.8299 - val_loss: 1.4499 - val_accuracy: 0.6622\n",
      "Epoch 48/50\n",
      "1563/1563 [==============================] - 72s 46ms/step - loss: 0.5114 - accuracy: 0.8179 - val_loss: 1.2246 - val_accuracy: 0.6493\n",
      "Epoch 49/50\n",
      "1563/1563 [==============================] - 73s 47ms/step - loss: 0.4714 - accuracy: 0.8328 - val_loss: 1.4632 - val_accuracy: 0.6556\n",
      "Epoch 50/50\n",
      "1563/1563 [==============================] - 88s 56ms/step - loss: 0.3979 - accuracy: 0.8587 - val_loss: 1.4859 - val_accuracy: 0.6600\n"
     ]
    },
    {
     "data": {
      "text/plain": [
       "<keras.src.callbacks.History at 0x7f8b18e50990>"
      ]
     },
     "execution_count": 17,
     "metadata": {},
     "output_type": "execute_result"
    }
   ],
   "source": [
    "eff_v2b0.fit(X_train, y_train, batch_size=32, epochs=50, validation_data=(X_test, y_test))"
   ]
  },
  {
   "cell_type": "markdown",
   "id": "6ac4ee85-a5bd-444f-bb94-83390467f403",
   "metadata": {},
   "source": [
    "## EfficientNetB4 - 17.6M Params"
   ]
  },
  {
   "cell_type": "code",
   "execution_count": 9,
   "id": "e3b545a9-22cc-4f9f-beca-ff8273ea8c40",
   "metadata": {
    "tags": []
   },
   "outputs": [],
   "source": [
    "from tensorflow.keras.applications import EfficientNetB4\n",
    "\n",
    "# Define the model\n",
    "eff_b4 = EfficientNetB4(include_top=True, weights=None, input_shape=(32, 32, 3), classes=10)\n",
    "\n",
    "# Compile the model\n",
    "eff_b4.compile(\n",
    "    optimizer=tf.keras.optimizers.Adam(),\n",
    "    loss=tf.keras.losses.SparseCategoricalCrossentropy(),  # we have softmax\n",
    "    metrics=[tf.keras.metrics.SparseCategoricalAccuracy(name='accuracy')]\n",
    ")"
   ]
  },
  {
   "cell_type": "code",
   "execution_count": 10,
   "id": "87d691fb-34f5-4b38-bce4-5fb1f4f46d69",
   "metadata": {
    "collapsed": true,
    "jupyter": {
     "outputs_hidden": true
    },
    "tags": []
   },
   "outputs": [
    {
     "name": "stdout",
     "output_type": "stream",
     "text": [
      "Epoch 1/50\n",
      "1563/1563 [==============================] - 192s 79ms/step - loss: 3.6018 - accuracy: 0.1424 - val_loss: 11.3254 - val_accuracy: 0.1452\n",
      "Epoch 2/50\n",
      "1563/1563 [==============================] - 124s 79ms/step - loss: 2.8825 - accuracy: 0.1786 - val_loss: 3.2289 - val_accuracy: 0.1903\n",
      "Epoch 3/50\n",
      "1563/1563 [==============================] - 123s 79ms/step - loss: 2.8572 - accuracy: 0.2102 - val_loss: 3.4650 - val_accuracy: 0.2477\n",
      "Epoch 4/50\n",
      "1563/1563 [==============================] - 123s 79ms/step - loss: 2.7282 - accuracy: 0.2492 - val_loss: 2.9114 - val_accuracy: 0.3161\n",
      "Epoch 5/50\n",
      "1563/1563 [==============================] - 122s 78ms/step - loss: 2.5771 - accuracy: 0.2742 - val_loss: 4.1126 - val_accuracy: 0.3243\n",
      "Epoch 6/50\n",
      "1563/1563 [==============================] - 124s 79ms/step - loss: 2.3918 - accuracy: 0.3021 - val_loss: 2.3202 - val_accuracy: 0.2249\n",
      "Epoch 7/50\n",
      "1563/1563 [==============================] - 123s 79ms/step - loss: 2.4435 - accuracy: 0.2549 - val_loss: 4.7128 - val_accuracy: 0.1114\n",
      "Epoch 8/50\n",
      "1563/1563 [==============================] - 124s 79ms/step - loss: 2.6887 - accuracy: 0.1275 - val_loss: 9.4249 - val_accuracy: 0.1487\n",
      "Epoch 9/50\n",
      "1563/1563 [==============================] - 125s 80ms/step - loss: 2.5578 - accuracy: 0.1425 - val_loss: 2.6743 - val_accuracy: 0.1818\n",
      "Epoch 10/50\n",
      "1563/1563 [==============================] - 124s 80ms/step - loss: 2.3117 - accuracy: 0.1993 - val_loss: 2.7415 - val_accuracy: 0.2209\n",
      "Epoch 11/50\n",
      "1563/1563 [==============================] - 123s 79ms/step - loss: 2.1072 - accuracy: 0.2448 - val_loss: 1.9303 - val_accuracy: 0.3151\n",
      "Epoch 12/50\n",
      "1563/1563 [==============================] - 124s 79ms/step - loss: 1.9377 - accuracy: 0.3033 - val_loss: 2.2699 - val_accuracy: 0.3656\n",
      "Epoch 13/50\n",
      "1563/1563 [==============================] - 122s 78ms/step - loss: 1.9058 - accuracy: 0.3302 - val_loss: 1.8132 - val_accuracy: 0.4049\n",
      "Epoch 14/50\n",
      "1563/1563 [==============================] - 122s 78ms/step - loss: 1.6905 - accuracy: 0.4106 - val_loss: 1.7409 - val_accuracy: 0.4861\n",
      "Epoch 15/50\n",
      "1563/1563 [==============================] - 123s 79ms/step - loss: 1.5195 - accuracy: 0.4657 - val_loss: 2.0615 - val_accuracy: 0.2445\n",
      "Epoch 16/50\n",
      "1563/1563 [==============================] - 122s 78ms/step - loss: 1.5270 - accuracy: 0.4592 - val_loss: 3.3516 - val_accuracy: 0.4779\n",
      "Epoch 17/50\n",
      "1563/1563 [==============================] - 122s 78ms/step - loss: 1.5895 - accuracy: 0.4284 - val_loss: 1.6314 - val_accuracy: 0.4174\n",
      "Epoch 18/50\n",
      "1563/1563 [==============================] - 122s 78ms/step - loss: 1.6094 - accuracy: 0.4150 - val_loss: 1.4791 - val_accuracy: 0.4609\n",
      "Epoch 19/50\n",
      "1563/1563 [==============================] - 124s 79ms/step - loss: 1.5907 - accuracy: 0.4179 - val_loss: 1.6464 - val_accuracy: 0.4030\n",
      "Epoch 20/50\n",
      "1563/1563 [==============================] - 124s 79ms/step - loss: 1.5586 - accuracy: 0.4325 - val_loss: 1.4763 - val_accuracy: 0.4807\n",
      "Epoch 21/50\n",
      "1563/1563 [==============================] - 123s 79ms/step - loss: 1.5820 - accuracy: 0.4257 - val_loss: 1.5762 - val_accuracy: 0.4316\n",
      "Epoch 22/50\n",
      "1563/1563 [==============================] - 124s 79ms/step - loss: 1.6165 - accuracy: 0.4063 - val_loss: 1.5478 - val_accuracy: 0.4324\n",
      "Epoch 23/50\n",
      "1563/1563 [==============================] - 124s 79ms/step - loss: 1.5653 - accuracy: 0.4292 - val_loss: 1.5001 - val_accuracy: 0.4596\n",
      "Epoch 24/50\n",
      "1563/1563 [==============================] - 124s 79ms/step - loss: 1.4044 - accuracy: 0.4911 - val_loss: 1.6067 - val_accuracy: 0.4326\n",
      "Epoch 25/50\n",
      "1563/1563 [==============================] - 124s 79ms/step - loss: 1.5124 - accuracy: 0.4494 - val_loss: 1.4022 - val_accuracy: 0.4859\n",
      "Epoch 26/50\n",
      "1563/1563 [==============================] - 123s 79ms/step - loss: 1.3771 - accuracy: 0.5039 - val_loss: 1.3571 - val_accuracy: 0.5067\n",
      "Epoch 27/50\n",
      "1563/1563 [==============================] - 124s 79ms/step - loss: 1.5445 - accuracy: 0.4393 - val_loss: 2.7742 - val_accuracy: 0.2480\n",
      "Epoch 28/50\n",
      "1563/1563 [==============================] - 123s 79ms/step - loss: 1.5301 - accuracy: 0.4441 - val_loss: 1.3995 - val_accuracy: 0.4966\n",
      "Epoch 29/50\n",
      "1563/1563 [==============================] - 120s 77ms/step - loss: 1.4369 - accuracy: 0.4749 - val_loss: 1.4082 - val_accuracy: 0.4969\n",
      "Epoch 30/50\n",
      "1563/1563 [==============================] - 122s 78ms/step - loss: 1.5260 - accuracy: 0.4436 - val_loss: 1.4219 - val_accuracy: 0.4847\n",
      "Epoch 31/50\n",
      "1563/1563 [==============================] - 122s 78ms/step - loss: 1.4742 - accuracy: 0.4647 - val_loss: 1.4649 - val_accuracy: 0.4693\n",
      "Epoch 32/50\n",
      "1563/1563 [==============================] - 123s 79ms/step - loss: 1.3444 - accuracy: 0.5116 - val_loss: 1.2690 - val_accuracy: 0.5315\n",
      "Epoch 33/50\n",
      "1563/1563 [==============================] - 122s 78ms/step - loss: 1.2635 - accuracy: 0.5409 - val_loss: 1.3545 - val_accuracy: 0.5217\n",
      "Epoch 34/50\n",
      "1563/1563 [==============================] - 119s 76ms/step - loss: 1.3324 - accuracy: 0.5194 - val_loss: 2.9545 - val_accuracy: 0.3146\n",
      "Epoch 35/50\n",
      "1563/1563 [==============================] - 124s 79ms/step - loss: 1.3061 - accuracy: 0.5310 - val_loss: 1.2658 - val_accuracy: 0.5464\n",
      "Epoch 36/50\n",
      "1563/1563 [==============================] - 123s 78ms/step - loss: 1.2066 - accuracy: 0.5613 - val_loss: 1.1430 - val_accuracy: 0.5906\n",
      "Epoch 37/50\n",
      "1563/1563 [==============================] - 119s 76ms/step - loss: 1.2662 - accuracy: 0.5445 - val_loss: 1.4753 - val_accuracy: 0.4728\n",
      "Epoch 38/50\n",
      "1563/1563 [==============================] - 123s 79ms/step - loss: 1.2497 - accuracy: 0.5497 - val_loss: 1.1670 - val_accuracy: 0.5866\n",
      "Epoch 39/50\n",
      "1563/1563 [==============================] - 123s 79ms/step - loss: 1.1708 - accuracy: 0.5788 - val_loss: 1.2366 - val_accuracy: 0.5603\n",
      "Epoch 40/50\n",
      "1563/1563 [==============================] - 123s 79ms/step - loss: 1.2995 - accuracy: 0.5324 - val_loss: 1.1863 - val_accuracy: 0.5781\n",
      "Epoch 41/50\n",
      "1563/1563 [==============================] - 122s 78ms/step - loss: 1.2082 - accuracy: 0.5664 - val_loss: 1.1111 - val_accuracy: 0.6047\n",
      "Epoch 42/50\n",
      "1563/1563 [==============================] - 122s 78ms/step - loss: 1.1662 - accuracy: 0.5822 - val_loss: 1.1724 - val_accuracy: 0.5804\n",
      "Epoch 43/50\n",
      "1563/1563 [==============================] - 122s 78ms/step - loss: 1.2602 - accuracy: 0.5497 - val_loss: 1.3163 - val_accuracy: 0.5373\n",
      "Epoch 44/50\n",
      "1563/1563 [==============================] - 123s 79ms/step - loss: 1.3970 - accuracy: 0.4987 - val_loss: 1.3761 - val_accuracy: 0.5206\n",
      "Epoch 45/50\n",
      "1563/1563 [==============================] - 123s 79ms/step - loss: 1.4552 - accuracy: 0.4789 - val_loss: 1.3885 - val_accuracy: 0.5108\n",
      "Epoch 46/50\n",
      "1563/1563 [==============================] - 122s 78ms/step - loss: 1.3521 - accuracy: 0.5112 - val_loss: 1.2897 - val_accuracy: 0.5395\n",
      "Epoch 47/50\n",
      "1563/1563 [==============================] - 123s 79ms/step - loss: 1.4993 - accuracy: 0.4566 - val_loss: 1.4690 - val_accuracy: 0.4672\n",
      "Epoch 48/50\n",
      "1563/1563 [==============================] - 123s 79ms/step - loss: 1.3877 - accuracy: 0.4955 - val_loss: 1.2470 - val_accuracy: 0.5513\n",
      "Epoch 49/50\n",
      "1563/1563 [==============================] - 126s 81ms/step - loss: 1.4132 - accuracy: 0.4895 - val_loss: 1.4634 - val_accuracy: 0.4692\n",
      "Epoch 50/50\n",
      "1563/1563 [==============================] - 128s 81ms/step - loss: 1.4175 - accuracy: 0.4843 - val_loss: 1.3086 - val_accuracy: 0.5216\n"
     ]
    },
    {
     "data": {
      "text/plain": [
       "<keras.src.callbacks.History at 0x7f8ca83dcfd0>"
      ]
     },
     "execution_count": 10,
     "metadata": {},
     "output_type": "execute_result"
    }
   ],
   "source": [
    "eff_b4.fit(X_train, y_train, batch_size=32, epochs=50, validation_data=(X_test, y_test))"
   ]
  },
  {
   "cell_type": "markdown",
   "id": "db3884be-9e94-462d-8a09-5b70fe11cf10",
   "metadata": {},
   "source": [
    "## EfficientNetV2S - 20M params"
   ]
  },
  {
   "cell_type": "code",
   "execution_count": 11,
   "id": "7f44e3ff-b8bd-4053-847d-92a107fcec65",
   "metadata": {
    "tags": []
   },
   "outputs": [],
   "source": [
    "from tensorflow.keras.applications import EfficientNetV2S\n",
    "\n",
    "# Define the model\n",
    "eff_v2s = EfficientNetV2S(include_top=True, weights=None, input_shape=(32, 32, 3), classes=10)\n",
    "\n",
    "# Compile the model\n",
    "eff_v2s.compile(\n",
    "    optimizer=tf.keras.optimizers.Adam(),\n",
    "    loss=tf.keras.losses.SparseCategoricalCrossentropy(),  # we have softmax\n",
    "    metrics=[tf.keras.metrics.SparseCategoricalAccuracy(name='accuracy')]\n",
    ")"
   ]
  },
  {
   "cell_type": "code",
   "execution_count": 12,
   "id": "1fc7dfe6-fee8-4396-85c1-d8a6cba77847",
   "metadata": {
    "collapsed": true,
    "jupyter": {
     "outputs_hidden": true
    },
    "tags": []
   },
   "outputs": [
    {
     "name": "stdout",
     "output_type": "stream",
     "text": [
      "Epoch 1/50\n",
      "1563/1563 [==============================] - 208s 87ms/step - loss: 2.8435 - accuracy: 0.2018 - val_loss: 2.3696 - val_accuracy: 0.2206\n",
      "Epoch 2/50\n",
      "1563/1563 [==============================] - 133s 85ms/step - loss: 2.5752 - accuracy: 0.2139 - val_loss: 2.2548 - val_accuracy: 0.2415\n",
      "Epoch 3/50\n",
      "1563/1563 [==============================] - 130s 83ms/step - loss: 2.5388 - accuracy: 0.2085 - val_loss: 2.0832 - val_accuracy: 0.2756\n",
      "Epoch 4/50\n",
      "1563/1563 [==============================] - 132s 84ms/step - loss: 2.4737 - accuracy: 0.2220 - val_loss: 2.1642 - val_accuracy: 0.2415\n",
      "Epoch 5/50\n",
      "1563/1563 [==============================] - 132s 84ms/step - loss: 2.4742 - accuracy: 0.1985 - val_loss: 2.2995 - val_accuracy: 0.2090\n",
      "Epoch 6/50\n",
      "1563/1563 [==============================] - 133s 85ms/step - loss: 2.5259 - accuracy: 0.1619 - val_loss: 2.1443 - val_accuracy: 0.1824\n",
      "Epoch 7/50\n",
      "1563/1563 [==============================] - 132s 85ms/step - loss: 2.5226 - accuracy: 0.1441 - val_loss: 2.2151 - val_accuracy: 0.1504\n",
      "Epoch 8/50\n",
      "1563/1563 [==============================] - 130s 83ms/step - loss: 2.4636 - accuracy: 0.1411 - val_loss: 2.4418 - val_accuracy: 0.1343\n",
      "Epoch 9/50\n",
      "1563/1563 [==============================] - 131s 84ms/step - loss: 2.4399 - accuracy: 0.1379 - val_loss: 2.2745 - val_accuracy: 0.1228\n",
      "Epoch 10/50\n",
      "1563/1563 [==============================] - 133s 85ms/step - loss: 2.4226 - accuracy: 0.1432 - val_loss: 2.2592 - val_accuracy: 0.1435\n",
      "Epoch 11/50\n",
      "1563/1563 [==============================] - 132s 84ms/step - loss: 2.3754 - accuracy: 0.1469 - val_loss: 2.1715 - val_accuracy: 0.1754\n",
      "Epoch 12/50\n",
      "1563/1563 [==============================] - 133s 85ms/step - loss: 2.3161 - accuracy: 0.1439 - val_loss: 2.1050 - val_accuracy: 0.1910\n",
      "Epoch 13/50\n",
      "1563/1563 [==============================] - 132s 85ms/step - loss: 2.1605 - accuracy: 0.1873 - val_loss: 2.1970 - val_accuracy: 0.1709\n",
      "Epoch 14/50\n",
      "1563/1563 [==============================] - 132s 84ms/step - loss: 2.1369 - accuracy: 0.1966 - val_loss: 2.0435 - val_accuracy: 0.2244\n",
      "Epoch 15/50\n",
      "1563/1563 [==============================] - 135s 86ms/step - loss: 2.0438 - accuracy: 0.2363 - val_loss: 1.8985 - val_accuracy: 0.2875\n",
      "Epoch 16/50\n",
      "1563/1563 [==============================] - 132s 84ms/step - loss: 1.9225 - accuracy: 0.2767 - val_loss: 1.8987 - val_accuracy: 0.3166\n",
      "Epoch 17/50\n",
      "1563/1563 [==============================] - 144s 92ms/step - loss: 1.9408 - accuracy: 0.2720 - val_loss: 1.9003 - val_accuracy: 0.2723\n",
      "Epoch 18/50\n",
      "1563/1563 [==============================] - 137s 88ms/step - loss: 1.8989 - accuracy: 0.2836 - val_loss: 1.7823 - val_accuracy: 0.3262\n",
      "Epoch 19/50\n",
      "1563/1563 [==============================] - 149s 96ms/step - loss: 1.8704 - accuracy: 0.2902 - val_loss: 1.8225 - val_accuracy: 0.2988\n",
      "Epoch 20/50\n",
      "1563/1563 [==============================] - 137s 88ms/step - loss: 1.8354 - accuracy: 0.3062 - val_loss: 1.8411 - val_accuracy: 0.3327\n",
      "Epoch 21/50\n",
      "1563/1563 [==============================] - 131s 84ms/step - loss: 1.8216 - accuracy: 0.3101 - val_loss: 1.7714 - val_accuracy: 0.3167\n",
      "Epoch 22/50\n",
      "1563/1563 [==============================] - 127s 81ms/step - loss: 1.7939 - accuracy: 0.3193 - val_loss: 1.8010 - val_accuracy: 0.3077\n",
      "Epoch 23/50\n",
      "1563/1563 [==============================] - 131s 84ms/step - loss: 1.8290 - accuracy: 0.3071 - val_loss: 1.7702 - val_accuracy: 0.3374\n",
      "Epoch 24/50\n",
      "1563/1563 [==============================] - 156s 100ms/step - loss: 1.8444 - accuracy: 0.2983 - val_loss: 1.7468 - val_accuracy: 0.3393\n",
      "Epoch 25/50\n",
      "1563/1563 [==============================] - 154s 98ms/step - loss: 1.8250 - accuracy: 0.3106 - val_loss: 1.7515 - val_accuracy: 0.3344\n",
      "Epoch 26/50\n",
      "1563/1563 [==============================] - 154s 99ms/step - loss: 1.7625 - accuracy: 0.3264 - val_loss: 1.6589 - val_accuracy: 0.3669\n",
      "Epoch 27/50\n",
      "1563/1563 [==============================] - 154s 99ms/step - loss: 1.6886 - accuracy: 0.3575 - val_loss: 1.6514 - val_accuracy: 0.3817\n",
      "Epoch 28/50\n",
      "1563/1563 [==============================] - 155s 99ms/step - loss: 1.6477 - accuracy: 0.3833 - val_loss: 2.0580 - val_accuracy: 0.3354\n",
      "Epoch 29/50\n",
      "1563/1563 [==============================] - 135s 86ms/step - loss: 1.6997 - accuracy: 0.3619 - val_loss: 1.5461 - val_accuracy: 0.4207\n",
      "Epoch 30/50\n",
      "1563/1563 [==============================] - 134s 86ms/step - loss: 1.5878 - accuracy: 0.4077 - val_loss: 1.4874 - val_accuracy: 0.4511\n",
      "Epoch 31/50\n",
      "1563/1563 [==============================] - 154s 99ms/step - loss: 1.5693 - accuracy: 0.4151 - val_loss: 1.5900 - val_accuracy: 0.4142\n",
      "Epoch 32/50\n",
      "1563/1563 [==============================] - 147s 94ms/step - loss: 1.6698 - accuracy: 0.3783 - val_loss: 1.9861 - val_accuracy: 0.2630\n",
      "Epoch 33/50\n",
      "1563/1563 [==============================] - 154s 98ms/step - loss: 1.7589 - accuracy: 0.3369 - val_loss: 1.5936 - val_accuracy: 0.4061\n",
      "Epoch 34/50\n",
      "1563/1563 [==============================] - 153s 98ms/step - loss: 1.6128 - accuracy: 0.4020 - val_loss: 1.5821 - val_accuracy: 0.4129\n",
      "Epoch 35/50\n",
      "1563/1563 [==============================] - 153s 98ms/step - loss: 1.6808 - accuracy: 0.3749 - val_loss: 1.6185 - val_accuracy: 0.4016\n",
      "Epoch 36/50\n",
      "1563/1563 [==============================] - 154s 98ms/step - loss: 1.6105 - accuracy: 0.4039 - val_loss: 1.5332 - val_accuracy: 0.4426\n",
      "Epoch 37/50\n",
      "1563/1563 [==============================] - 155s 99ms/step - loss: 1.5093 - accuracy: 0.4365 - val_loss: 1.4130 - val_accuracy: 0.4806\n",
      "Epoch 38/50\n",
      "1563/1563 [==============================] - 154s 99ms/step - loss: 1.4506 - accuracy: 0.4661 - val_loss: 1.4368 - val_accuracy: 0.4717\n",
      "Epoch 39/50\n",
      "1563/1563 [==============================] - 157s 100ms/step - loss: 1.5151 - accuracy: 0.4443 - val_loss: 1.5916 - val_accuracy: 0.4258\n",
      "Epoch 40/50\n",
      "1563/1563 [==============================] - 154s 98ms/step - loss: 1.5311 - accuracy: 0.4355 - val_loss: 1.4546 - val_accuracy: 0.4576\n",
      "Epoch 41/50\n",
      "1563/1563 [==============================] - 154s 98ms/step - loss: 1.4421 - accuracy: 0.4722 - val_loss: 1.4850 - val_accuracy: 0.4610\n",
      "Epoch 42/50\n",
      "1563/1563 [==============================] - 153s 98ms/step - loss: 1.4521 - accuracy: 0.4689 - val_loss: 1.3697 - val_accuracy: 0.4991\n",
      "Epoch 43/50\n",
      "1563/1563 [==============================] - 154s 98ms/step - loss: 1.4799 - accuracy: 0.4569 - val_loss: 1.4450 - val_accuracy: 0.4705\n",
      "Epoch 44/50\n",
      "1563/1563 [==============================] - 154s 98ms/step - loss: 1.4585 - accuracy: 0.4662 - val_loss: 1.3706 - val_accuracy: 0.5010\n",
      "Epoch 45/50\n",
      "1563/1563 [==============================] - 153s 98ms/step - loss: 1.4044 - accuracy: 0.4881 - val_loss: 1.3196 - val_accuracy: 0.5195\n",
      "Epoch 46/50\n",
      "1563/1563 [==============================] - 155s 99ms/step - loss: 1.4337 - accuracy: 0.4802 - val_loss: 1.2765 - val_accuracy: 0.5248\n",
      "Epoch 47/50\n",
      "1563/1563 [==============================] - 156s 100ms/step - loss: 1.3992 - accuracy: 0.4927 - val_loss: 1.3184 - val_accuracy: 0.5193\n",
      "Epoch 48/50\n",
      "1563/1563 [==============================] - 151s 97ms/step - loss: 1.3329 - accuracy: 0.5133 - val_loss: 1.3266 - val_accuracy: 0.5264\n",
      "Epoch 49/50\n",
      "1563/1563 [==============================] - 144s 92ms/step - loss: 1.3420 - accuracy: 0.5153 - val_loss: 1.2560 - val_accuracy: 0.5381\n",
      "Epoch 50/50\n",
      "1563/1563 [==============================] - 146s 94ms/step - loss: 1.4478 - accuracy: 0.4748 - val_loss: 1.5287 - val_accuracy: 0.4609\n"
     ]
    },
    {
     "data": {
      "text/plain": [
       "<keras.src.callbacks.History at 0x7fa2f3dac2d0>"
      ]
     },
     "execution_count": 12,
     "metadata": {},
     "output_type": "execute_result"
    }
   ],
   "source": [
    "eff_v2s.fit(X_train, y_train, batch_size=32, epochs=50, validation_data=(X_test, y_test))"
   ]
  },
  {
   "cell_type": "markdown",
   "id": "7a8265d4-c7e2-4a54-9b72-82fe80b07f63",
   "metadata": {},
   "source": [
    "# NASNet"
   ]
  },
  {
   "cell_type": "markdown",
   "id": "06b2b41b-560d-4c8c-b784-cc0c2830aa40",
   "metadata": {},
   "source": [
    "## NASNetMobile - M Params"
   ]
  },
  {
   "cell_type": "code",
   "execution_count": 29,
   "id": "d0299c8e-2564-435b-b227-333c105ea62a",
   "metadata": {
    "tags": []
   },
   "outputs": [],
   "source": [
    "from tensorflow.keras.applications.nasnet import preprocess_input"
   ]
  },
  {
   "cell_type": "code",
   "execution_count": 30,
   "id": "9107f919-d759-4af4-ac93-9c0d7c87509d",
   "metadata": {
    "tags": []
   },
   "outputs": [],
   "source": [
    "# Preprocess the input data\n",
    "X_train_nas = preprocess_input(X_train)\n",
    "X_test_nas = preprocess_input(X_test)"
   ]
  },
  {
   "cell_type": "code",
   "execution_count": 31,
   "id": "d2b9df57-e41e-4731-a8ed-c8962f34ef40",
   "metadata": {
    "tags": []
   },
   "outputs": [],
   "source": [
    "from tensorflow.keras.applications import NASNetMobile\n",
    "\n",
    "# Define the model\n",
    "nas = NASNetMobile(include_top=True, weights=None, input_shape=(32, 32, 3), classes=10)\n",
    "\n",
    "# Compile the model\n",
    "nas.compile(\n",
    "    optimizer=tf.keras.optimizers.Adam(),\n",
    "    loss=tf.keras.losses.SparseCategoricalCrossentropy(),  # we have softmax\n",
    "    metrics=[tf.keras.metrics.SparseCategoricalAccuracy(name='accuracy')]\n",
    ")"
   ]
  },
  {
   "cell_type": "code",
   "execution_count": 33,
   "id": "976bfe65-767f-4273-a0c3-b2ec27adaa51",
   "metadata": {
    "collapsed": true,
    "jupyter": {
     "outputs_hidden": true
    },
    "tags": []
   },
   "outputs": [
    {
     "name": "stdout",
     "output_type": "stream",
     "text": [
      "Epoch 1/50\n",
      "1563/1563 [==============================] - 314s 121ms/step - loss: 1.6935 - accuracy: 0.3848 - val_loss: 2.7528 - val_accuracy: 0.1886\n",
      "Epoch 2/50\n",
      "1563/1563 [==============================] - 207s 133ms/step - loss: 1.3767 - accuracy: 0.5079 - val_loss: 3.1113 - val_accuracy: 0.2483\n",
      "Epoch 3/50\n",
      "1563/1563 [==============================] - 214s 137ms/step - loss: 1.2125 - accuracy: 0.5733 - val_loss: 3.2794 - val_accuracy: 0.2457\n",
      "Epoch 4/50\n",
      "1563/1563 [==============================] - 215s 138ms/step - loss: 1.0866 - accuracy: 0.6211 - val_loss: 4.1403 - val_accuracy: 0.2579\n",
      "Epoch 5/50\n",
      "1563/1563 [==============================] - 214s 137ms/step - loss: 0.9855 - accuracy: 0.6569 - val_loss: 3.2377 - val_accuracy: 0.3417\n",
      "Epoch 6/50\n",
      "1563/1563 [==============================] - 214s 137ms/step - loss: 0.9005 - accuracy: 0.6866 - val_loss: 2.6743 - val_accuracy: 0.4781\n",
      "Epoch 7/50\n",
      "1563/1563 [==============================] - 212s 135ms/step - loss: 0.8233 - accuracy: 0.7145 - val_loss: 5.3075 - val_accuracy: 0.4425\n",
      "Epoch 8/50\n",
      "1563/1563 [==============================] - 213s 136ms/step - loss: 0.7721 - accuracy: 0.7327 - val_loss: 69.7896 - val_accuracy: 0.2477\n",
      "Epoch 9/50\n",
      "1563/1563 [==============================] - 214s 137ms/step - loss: 0.7670 - accuracy: 0.7358 - val_loss: 624.6625 - val_accuracy: 0.1007\n",
      "Epoch 10/50\n",
      "1563/1563 [==============================] - 215s 138ms/step - loss: 0.6989 - accuracy: 0.7583 - val_loss: 51.8057 - val_accuracy: 0.3217\n",
      "Epoch 11/50\n",
      "1563/1563 [==============================] - 213s 136ms/step - loss: 0.6664 - accuracy: 0.7682 - val_loss: 21.7264 - val_accuracy: 0.3676\n",
      "Epoch 12/50\n",
      "1563/1563 [==============================] - 215s 137ms/step - loss: 0.6117 - accuracy: 0.7877 - val_loss: 180.7797 - val_accuracy: 0.3248\n",
      "Epoch 13/50\n",
      "1563/1563 [==============================] - 214s 137ms/step - loss: 0.5616 - accuracy: 0.8037 - val_loss: 190.2520 - val_accuracy: 0.3702\n",
      "Epoch 14/50\n",
      "1563/1563 [==============================] - 214s 137ms/step - loss: 0.5314 - accuracy: 0.8153 - val_loss: 13.2290 - val_accuracy: 0.5169\n",
      "Epoch 15/50\n",
      "1563/1563 [==============================] - 215s 138ms/step - loss: 0.4952 - accuracy: 0.8298 - val_loss: 2.7262 - val_accuracy: 0.5394\n",
      "Epoch 16/50\n",
      "1563/1563 [==============================] - 216s 138ms/step - loss: 0.4675 - accuracy: 0.8369 - val_loss: 1.6668 - val_accuracy: 0.6252\n",
      "Epoch 17/50\n",
      "1563/1563 [==============================] - 207s 132ms/step - loss: 0.4256 - accuracy: 0.8509 - val_loss: 2.7854 - val_accuracy: 0.6022\n",
      "Epoch 18/50\n",
      "1563/1563 [==============================] - 214s 137ms/step - loss: 0.3762 - accuracy: 0.8684 - val_loss: 1.5103 - val_accuracy: 0.6661\n",
      "Epoch 19/50\n",
      "1563/1563 [==============================] - 215s 137ms/step - loss: 0.3390 - accuracy: 0.8827 - val_loss: 7.6795 - val_accuracy: 0.5987\n",
      "Epoch 20/50\n",
      "1563/1563 [==============================] - 215s 138ms/step - loss: 0.3231 - accuracy: 0.8859 - val_loss: 9.0396 - val_accuracy: 0.5935\n",
      "Epoch 21/50\n",
      "1563/1563 [==============================] - 215s 137ms/step - loss: 0.3052 - accuracy: 0.8933 - val_loss: 1.9031 - val_accuracy: 0.6184\n",
      "Epoch 22/50\n",
      "1563/1563 [==============================] - 215s 137ms/step - loss: 0.2721 - accuracy: 0.9033 - val_loss: 1.5387 - val_accuracy: 0.6739\n",
      "Epoch 23/50\n",
      "1563/1563 [==============================] - 216s 138ms/step - loss: 0.2510 - accuracy: 0.9120 - val_loss: 2.1844 - val_accuracy: 0.6545\n",
      "Epoch 24/50\n",
      "1563/1563 [==============================] - 215s 137ms/step - loss: 0.3145 - accuracy: 0.8912 - val_loss: 1.7099 - val_accuracy: 0.6583\n",
      "Epoch 25/50\n",
      "1563/1563 [==============================] - 215s 138ms/step - loss: 0.3029 - accuracy: 0.8941 - val_loss: 2.1841 - val_accuracy: 0.6085\n",
      "Epoch 26/50\n",
      "1563/1563 [==============================] - 215s 138ms/step - loss: 0.2214 - accuracy: 0.9223 - val_loss: 1.7765 - val_accuracy: 0.6537\n",
      "Epoch 27/50\n",
      "1563/1563 [==============================] - 204s 130ms/step - loss: 0.2437 - accuracy: 0.9150 - val_loss: 1.5965 - val_accuracy: 0.6687\n",
      "Epoch 28/50\n",
      "1563/1563 [==============================] - 205s 131ms/step - loss: 0.2579 - accuracy: 0.9097 - val_loss: 1.4251 - val_accuracy: 0.6708\n",
      "Epoch 29/50\n",
      "1563/1563 [==============================] - 211s 135ms/step - loss: 0.2265 - accuracy: 0.9201 - val_loss: 2.0336 - val_accuracy: 0.6528\n",
      "Epoch 30/50\n",
      "1563/1563 [==============================] - 210s 135ms/step - loss: 0.1887 - accuracy: 0.9330 - val_loss: 2.3863 - val_accuracy: 0.6284\n",
      "Epoch 31/50\n",
      "1563/1563 [==============================] - 211s 135ms/step - loss: 0.1869 - accuracy: 0.9335 - val_loss: 1.6944 - val_accuracy: 0.6863\n",
      "Epoch 32/50\n",
      "1563/1563 [==============================] - 210s 134ms/step - loss: 0.2115 - accuracy: 0.9247 - val_loss: 2.3035 - val_accuracy: 0.6401\n",
      "Epoch 33/50\n",
      "1563/1563 [==============================] - 213s 137ms/step - loss: 0.1851 - accuracy: 0.9345 - val_loss: 1.5072 - val_accuracy: 0.6795\n",
      "Epoch 34/50\n",
      "1563/1563 [==============================] - 212s 136ms/step - loss: 0.1875 - accuracy: 0.9350 - val_loss: 2.1827 - val_accuracy: 0.6391\n",
      "Epoch 35/50\n",
      "1563/1563 [==============================] - 211s 135ms/step - loss: 0.1682 - accuracy: 0.9413 - val_loss: 1.4063 - val_accuracy: 0.6997\n",
      "Epoch 36/50\n",
      "1563/1563 [==============================] - 209s 134ms/step - loss: 0.1500 - accuracy: 0.9477 - val_loss: 1.5167 - val_accuracy: 0.6958\n",
      "Epoch 37/50\n",
      "1563/1563 [==============================] - 212s 136ms/step - loss: 0.1473 - accuracy: 0.9480 - val_loss: 1.4763 - val_accuracy: 0.6993\n",
      "Epoch 38/50\n",
      "1563/1563 [==============================] - 211s 135ms/step - loss: 0.1533 - accuracy: 0.9459 - val_loss: 1.5781 - val_accuracy: 0.6910\n",
      "Epoch 39/50\n",
      "1563/1563 [==============================] - 205s 131ms/step - loss: 0.1657 - accuracy: 0.9421 - val_loss: 1.5969 - val_accuracy: 0.6848\n",
      "Epoch 40/50\n",
      "1563/1563 [==============================] - 214s 137ms/step - loss: 0.1712 - accuracy: 0.9404 - val_loss: 1.5514 - val_accuracy: 0.6848\n",
      "Epoch 41/50\n",
      "1563/1563 [==============================] - 215s 138ms/step - loss: 0.1448 - accuracy: 0.9492 - val_loss: 1.9649 - val_accuracy: 0.6281\n",
      "Epoch 42/50\n",
      "1563/1563 [==============================] - 213s 136ms/step - loss: 0.1521 - accuracy: 0.9464 - val_loss: 1.5689 - val_accuracy: 0.6888\n",
      "Epoch 43/50\n",
      "1563/1563 [==============================] - 211s 135ms/step - loss: 0.1985 - accuracy: 0.9292 - val_loss: 6.4638 - val_accuracy: 0.6416\n",
      "Epoch 44/50\n",
      "1563/1563 [==============================] - 222s 142ms/step - loss: 0.1536 - accuracy: 0.9467 - val_loss: 2.1602 - val_accuracy: 0.6709\n",
      "Epoch 45/50\n",
      "1563/1563 [==============================] - 219s 140ms/step - loss: 0.1591 - accuracy: 0.9448 - val_loss: 9.6950 - val_accuracy: 0.6497\n",
      "Epoch 46/50\n",
      "1563/1563 [==============================] - 217s 139ms/step - loss: 0.1661 - accuracy: 0.9448 - val_loss: 37.0115 - val_accuracy: 0.6094\n",
      "Epoch 47/50\n",
      "1563/1563 [==============================] - 212s 136ms/step - loss: 0.1831 - accuracy: 0.9356 - val_loss: 2.4860 - val_accuracy: 0.6715\n",
      "Epoch 48/50\n",
      "1563/1563 [==============================] - 223s 142ms/step - loss: 0.1139 - accuracy: 0.9596 - val_loss: 1.6060 - val_accuracy: 0.6887\n",
      "Epoch 49/50\n",
      "1563/1563 [==============================] - 226s 144ms/step - loss: 0.1059 - accuracy: 0.9636 - val_loss: 1.5083 - val_accuracy: 0.7042\n",
      "Epoch 50/50\n",
      "1563/1563 [==============================] - 202s 130ms/step - loss: 0.1271 - accuracy: 0.9568 - val_loss: 2.1466 - val_accuracy: 0.6927\n"
     ]
    },
    {
     "data": {
      "text/plain": [
       "<keras.src.callbacks.History at 0x7f886b1f5290>"
      ]
     },
     "execution_count": 33,
     "metadata": {},
     "output_type": "execute_result"
    }
   ],
   "source": [
    "nas.fit(X_train, y_train, batch_size=32, epochs=50, validation_data=(X_test, y_test))"
   ]
  },
  {
   "cell_type": "code",
   "execution_count": 34,
   "id": "a3aafa19-ed65-4bf6-8c05-83c409efcd40",
   "metadata": {},
   "outputs": [
    {
     "data": {
      "text/plain": [
       "4243548"
      ]
     },
     "execution_count": 34,
     "metadata": {},
     "output_type": "execute_result"
    }
   ],
   "source": [
    "count_weights(nas)"
   ]
  },
  {
   "cell_type": "markdown",
   "id": "0a5c9dca-ed3c-48cd-a0ea-2565d7d94ee1",
   "metadata": {},
   "source": [
    "# ResNet"
   ]
  },
  {
   "cell_type": "markdown",
   "id": "c7e7e91f-a186-42aa-933a-fc938037793c",
   "metadata": {},
   "source": [
    "## ResNet50 - 23M params"
   ]
  },
  {
   "cell_type": "code",
   "execution_count": 11,
   "id": "664d96fb-9179-44d7-ace4-4fa2078d9781",
   "metadata": {
    "tags": []
   },
   "outputs": [],
   "source": [
    "from tensorflow.keras.applications.resnet import preprocess_input"
   ]
  },
  {
   "cell_type": "code",
   "execution_count": 12,
   "id": "681bedf1-fd3e-4ea1-bf24-b7d997b59c7a",
   "metadata": {
    "tags": []
   },
   "outputs": [],
   "source": [
    "# Preprocess the input data\n",
    "X_train_res = preprocess_input(X_train)\n",
    "X_test_res = preprocess_input(X_test)"
   ]
  },
  {
   "cell_type": "code",
   "execution_count": 14,
   "id": "cb16df92-a7e0-43c6-a40d-92c6f21cb28e",
   "metadata": {
    "tags": []
   },
   "outputs": [],
   "source": [
    "from tensorflow.keras.applications import ResNet50\n",
    "\n",
    "# Define the model\n",
    "resnet_50 = ResNet50(include_top=True, weights=None, input_shape=(32, 32, 3), classes=10)\n",
    "\n",
    "# Compile the model\n",
    "resnet_50.compile(\n",
    "    optimizer=tf.keras.optimizers.Adam(),\n",
    "    loss=tf.keras.losses.SparseCategoricalCrossentropy(),  # we have softmax\n",
    "    metrics=[tf.keras.metrics.SparseCategoricalAccuracy(name='accuracy')]\n",
    ")"
   ]
  },
  {
   "cell_type": "code",
   "execution_count": 15,
   "id": "1f74aa47-b7a9-46d9-b931-214a167ed62a",
   "metadata": {
    "collapsed": true,
    "jupyter": {
     "outputs_hidden": true
    },
    "tags": []
   },
   "outputs": [
    {
     "name": "stdout",
     "output_type": "stream",
     "text": [
      "Epoch 1/50\n",
      "1563/1563 [==============================] - 101s 45ms/step - loss: 2.2404 - accuracy: 0.3191 - val_loss: 2.2920 - val_accuracy: 0.3196\n",
      "Epoch 2/50\n",
      "1563/1563 [==============================] - 66s 42ms/step - loss: 2.0717 - accuracy: 0.3427 - val_loss: 2.0961 - val_accuracy: 0.3919\n",
      "Epoch 3/50\n",
      "1563/1563 [==============================] - 78s 50ms/step - loss: 1.9343 - accuracy: 0.3894 - val_loss: 83.3587 - val_accuracy: 0.1951\n",
      "Epoch 4/50\n",
      "1563/1563 [==============================] - 80s 51ms/step - loss: 1.8391 - accuracy: 0.4151 - val_loss: 1.8419 - val_accuracy: 0.4509\n",
      "Epoch 5/50\n",
      "1563/1563 [==============================] - 81s 52ms/step - loss: 1.6461 - accuracy: 0.4651 - val_loss: 2.4629 - val_accuracy: 0.4852\n",
      "Epoch 6/50\n",
      "1563/1563 [==============================] - 81s 52ms/step - loss: 1.6300 - accuracy: 0.4695 - val_loss: 1.8029 - val_accuracy: 0.4133\n",
      "Epoch 7/50\n",
      "1563/1563 [==============================] - 81s 52ms/step - loss: 1.5581 - accuracy: 0.4863 - val_loss: 1.3237 - val_accuracy: 0.5345\n",
      "Epoch 8/50\n",
      "1563/1563 [==============================] - 81s 52ms/step - loss: 1.4288 - accuracy: 0.5340 - val_loss: 1.7315 - val_accuracy: 0.5571\n",
      "Epoch 9/50\n",
      "1563/1563 [==============================] - 81s 52ms/step - loss: 1.2885 - accuracy: 0.5794 - val_loss: 1.5992 - val_accuracy: 0.6131\n",
      "Epoch 10/50\n",
      "1563/1563 [==============================] - 81s 52ms/step - loss: 1.4018 - accuracy: 0.5222 - val_loss: 2.3488 - val_accuracy: 0.5231\n",
      "Epoch 11/50\n",
      "1563/1563 [==============================] - 79s 51ms/step - loss: 1.1620 - accuracy: 0.6065 - val_loss: 1.6569 - val_accuracy: 0.6259\n",
      "Epoch 12/50\n",
      "1563/1563 [==============================] - 78s 50ms/step - loss: 1.1655 - accuracy: 0.6088 - val_loss: 7.1153 - val_accuracy: 0.5609\n",
      "Epoch 13/50\n",
      "1563/1563 [==============================] - 71s 45ms/step - loss: 0.9820 - accuracy: 0.6664 - val_loss: 1.8561 - val_accuracy: 0.6599\n",
      "Epoch 14/50\n",
      "1563/1563 [==============================] - 74s 47ms/step - loss: 0.9027 - accuracy: 0.6910 - val_loss: 1.0289 - val_accuracy: 0.6577\n",
      "Epoch 15/50\n",
      "1563/1563 [==============================] - 73s 47ms/step - loss: 0.8491 - accuracy: 0.7077 - val_loss: 0.9201 - val_accuracy: 0.6834\n",
      "Epoch 16/50\n",
      "1563/1563 [==============================] - 71s 46ms/step - loss: 0.7418 - accuracy: 0.7452 - val_loss: 0.9756 - val_accuracy: 0.6698\n",
      "Epoch 17/50\n",
      "1563/1563 [==============================] - 80s 51ms/step - loss: 0.6754 - accuracy: 0.7668 - val_loss: 0.9104 - val_accuracy: 0.7109\n",
      "Epoch 18/50\n",
      "1563/1563 [==============================] - 81s 52ms/step - loss: 0.5958 - accuracy: 0.7944 - val_loss: 0.8760 - val_accuracy: 0.7069\n",
      "Epoch 19/50\n",
      "1563/1563 [==============================] - 77s 49ms/step - loss: 0.5313 - accuracy: 0.8159 - val_loss: 0.8565 - val_accuracy: 0.7191\n",
      "Epoch 20/50\n",
      "1563/1563 [==============================] - 81s 52ms/step - loss: 0.5036 - accuracy: 0.8274 - val_loss: 1.0194 - val_accuracy: 0.6937\n",
      "Epoch 21/50\n",
      "1563/1563 [==============================] - 81s 52ms/step - loss: 0.4523 - accuracy: 0.8435 - val_loss: 0.8873 - val_accuracy: 0.7251\n",
      "Epoch 22/50\n",
      "1563/1563 [==============================] - 81s 52ms/step - loss: 0.3790 - accuracy: 0.8694 - val_loss: 0.9733 - val_accuracy: 0.7146\n",
      "Epoch 23/50\n",
      "1563/1563 [==============================] - 80s 51ms/step - loss: 0.3301 - accuracy: 0.8859 - val_loss: 0.9471 - val_accuracy: 0.7299\n",
      "Epoch 24/50\n",
      "1563/1563 [==============================] - 81s 52ms/step - loss: 0.2753 - accuracy: 0.9025 - val_loss: 0.9572 - val_accuracy: 0.7294\n",
      "Epoch 25/50\n",
      "1563/1563 [==============================] - 81s 52ms/step - loss: 0.2474 - accuracy: 0.9152 - val_loss: 1.0774 - val_accuracy: 0.7228\n",
      "Epoch 26/50\n",
      "1563/1563 [==============================] - 81s 52ms/step - loss: 0.2325 - accuracy: 0.9194 - val_loss: 1.1078 - val_accuracy: 0.7304\n",
      "Epoch 27/50\n",
      "1563/1563 [==============================] - 80s 51ms/step - loss: 0.1750 - accuracy: 0.9389 - val_loss: 1.1387 - val_accuracy: 0.7298\n",
      "Epoch 28/50\n",
      "1563/1563 [==============================] - 82s 52ms/step - loss: 0.2088 - accuracy: 0.9296 - val_loss: 2.5672 - val_accuracy: 0.5518\n",
      "Epoch 29/50\n",
      "1563/1563 [==============================] - 82s 52ms/step - loss: 0.2161 - accuracy: 0.9240 - val_loss: 1.1406 - val_accuracy: 0.7354\n",
      "Epoch 30/50\n",
      "1563/1563 [==============================] - 81s 52ms/step - loss: 0.1363 - accuracy: 0.9529 - val_loss: 1.2044 - val_accuracy: 0.7286\n",
      "Epoch 31/50\n",
      "1563/1563 [==============================] - 81s 52ms/step - loss: 0.1260 - accuracy: 0.9562 - val_loss: 1.2392 - val_accuracy: 0.7258\n",
      "Epoch 32/50\n",
      "1563/1563 [==============================] - 82s 52ms/step - loss: 0.1431 - accuracy: 0.9519 - val_loss: 1.2897 - val_accuracy: 0.7117\n",
      "Epoch 33/50\n",
      "1563/1563 [==============================] - 81s 52ms/step - loss: 0.1680 - accuracy: 0.9447 - val_loss: 1.2210 - val_accuracy: 0.7373\n",
      "Epoch 34/50\n",
      "1563/1563 [==============================] - 81s 52ms/step - loss: 0.0949 - accuracy: 0.9668 - val_loss: 2.1116 - val_accuracy: 0.7213\n",
      "Epoch 35/50\n",
      "1563/1563 [==============================] - 81s 52ms/step - loss: 0.1283 - accuracy: 0.9581 - val_loss: 2.0276 - val_accuracy: 0.6218\n",
      "Epoch 36/50\n",
      "1563/1563 [==============================] - 81s 52ms/step - loss: 0.1131 - accuracy: 0.9619 - val_loss: 1.3739 - val_accuracy: 0.7358\n",
      "Epoch 37/50\n",
      "1563/1563 [==============================] - 81s 52ms/step - loss: 0.0985 - accuracy: 0.9673 - val_loss: 1.4244 - val_accuracy: 0.7293\n",
      "Epoch 38/50\n",
      "1563/1563 [==============================] - 81s 52ms/step - loss: 0.1112 - accuracy: 0.9638 - val_loss: 1.3344 - val_accuracy: 0.7400\n",
      "Epoch 39/50\n",
      "1563/1563 [==============================] - 81s 52ms/step - loss: 0.1021 - accuracy: 0.9660 - val_loss: 1.4072 - val_accuracy: 0.7076\n",
      "Epoch 40/50\n",
      "1563/1563 [==============================] - 81s 52ms/step - loss: 0.1128 - accuracy: 0.9621 - val_loss: 1.3185 - val_accuracy: 0.7341\n",
      "Epoch 41/50\n",
      "1563/1563 [==============================] - 80s 52ms/step - loss: 0.0784 - accuracy: 0.9742 - val_loss: 1.4635 - val_accuracy: 0.7384\n",
      "Epoch 42/50\n",
      "1563/1563 [==============================] - 81s 52ms/step - loss: 0.0776 - accuracy: 0.9749 - val_loss: 1.4306 - val_accuracy: 0.7261\n",
      "Epoch 43/50\n",
      "1563/1563 [==============================] - 81s 52ms/step - loss: 0.0729 - accuracy: 0.9749 - val_loss: 1.3912 - val_accuracy: 0.7381\n",
      "Epoch 44/50\n",
      "1563/1563 [==============================] - 81s 52ms/step - loss: 0.0674 - accuracy: 0.9766 - val_loss: 1.5720 - val_accuracy: 0.7287\n",
      "Epoch 45/50\n",
      "1563/1563 [==============================] - 81s 52ms/step - loss: 0.0639 - accuracy: 0.9781 - val_loss: 1.4379 - val_accuracy: 0.7339\n",
      "Epoch 46/50\n",
      "1563/1563 [==============================] - 82s 52ms/step - loss: 0.0662 - accuracy: 0.9780 - val_loss: 1.6780 - val_accuracy: 0.7263\n",
      "Epoch 47/50\n",
      "1563/1563 [==============================] - 81s 52ms/step - loss: 0.0742 - accuracy: 0.9755 - val_loss: 1.4613 - val_accuracy: 0.7092\n",
      "Epoch 48/50\n",
      "1563/1563 [==============================] - 81s 52ms/step - loss: 0.1399 - accuracy: 0.9558 - val_loss: 2.0417 - val_accuracy: 0.7015\n",
      "Epoch 49/50\n",
      "1563/1563 [==============================] - 82s 52ms/step - loss: 0.0524 - accuracy: 0.9828 - val_loss: 1.5215 - val_accuracy: 0.7384\n",
      "Epoch 50/50\n",
      "1563/1563 [==============================] - 81s 52ms/step - loss: 0.0562 - accuracy: 0.9808 - val_loss: 1.4093 - val_accuracy: 0.7344\n"
     ]
    },
    {
     "data": {
      "text/plain": [
       "<keras.src.callbacks.History at 0x7f5c284aed10>"
      ]
     },
     "execution_count": 15,
     "metadata": {},
     "output_type": "execute_result"
    }
   ],
   "source": [
    "resnet_50.fit(X_train_res, y_train, batch_size=32, epochs=50, validation_data=(X_test_res, y_test))"
   ]
  },
  {
   "cell_type": "markdown",
   "id": "a1c2998d-270d-476c-b197-a7ef1bc85bed",
   "metadata": {},
   "source": [
    "## ResNet101 - 42M params"
   ]
  },
  {
   "cell_type": "code",
   "execution_count": 11,
   "id": "e4382c4a-2a9b-4d85-b9eb-73f913c983b7",
   "metadata": {
    "tags": []
   },
   "outputs": [],
   "source": [
    "from tensorflow.keras.applications.resnet import preprocess_input"
   ]
  },
  {
   "cell_type": "code",
   "execution_count": 12,
   "id": "c6e127a2-6335-491f-a255-ea38495d47c6",
   "metadata": {},
   "outputs": [],
   "source": [
    "# Preprocess the input data\n",
    "X_train_res = preprocess_input(X_train)\n",
    "X_test_res = preprocess_input(X_test)"
   ]
  },
  {
   "cell_type": "code",
   "execution_count": 13,
   "id": "41237839-b50e-4ad0-a526-013762aad86d",
   "metadata": {
    "tags": []
   },
   "outputs": [],
   "source": [
    "from tensorflow.keras.applications import ResNet101\n",
    "\n",
    "# Define the model\n",
    "resnet_101 = ResNet101(include_top=True, weights=None, input_shape=(32, 32, 3), classes=10)\n",
    "\n",
    "# Compile the model\n",
    "resnet_101.compile(\n",
    "    optimizer=tf.keras.optimizers.Adam(),\n",
    "    loss=tf.keras.losses.SparseCategoricalCrossentropy(),  # we have softmax\n",
    "    metrics=[tf.keras.metrics.SparseCategoricalAccuracy(name='accuracy')]\n",
    ")"
   ]
  },
  {
   "cell_type": "code",
   "execution_count": 14,
   "id": "d5930c42-7fed-48b8-92c3-ad147a1977ac",
   "metadata": {
    "collapsed": true,
    "jupyter": {
     "outputs_hidden": true
    },
    "tags": []
   },
   "outputs": [
    {
     "name": "stdout",
     "output_type": "stream",
     "text": [
      "Epoch 1/50\n",
      "1563/1563 [==============================] - 187s 79ms/step - loss: 2.3969 - accuracy: 0.2475 - val_loss: 3.0483 - val_accuracy: 0.1759\n",
      "Epoch 2/50\n",
      "1563/1563 [==============================] - 135s 86ms/step - loss: 2.1785 - accuracy: 0.3017 - val_loss: 2.8005 - val_accuracy: 0.2248\n",
      "Epoch 3/50\n",
      "1563/1563 [==============================] - 135s 86ms/step - loss: 2.0866 - accuracy: 0.3332 - val_loss: 2.1487 - val_accuracy: 0.3106\n",
      "Epoch 4/50\n",
      "1563/1563 [==============================] - 134s 86ms/step - loss: 2.2368 - accuracy: 0.2465 - val_loss: 37.0459 - val_accuracy: 0.2181\n",
      "Epoch 5/50\n",
      "1563/1563 [==============================] - 132s 85ms/step - loss: 2.1107 - accuracy: 0.2800 - val_loss: 2.0827 - val_accuracy: 0.2264\n",
      "Epoch 6/50\n",
      "1563/1563 [==============================] - 133s 85ms/step - loss: 1.9666 - accuracy: 0.3368 - val_loss: 3.6009 - val_accuracy: 0.1959\n",
      "Epoch 7/50\n",
      "1563/1563 [==============================] - 115s 73ms/step - loss: 1.9079 - accuracy: 0.3505 - val_loss: 6.3420 - val_accuracy: 0.3494\n",
      "Epoch 8/50\n",
      "1563/1563 [==============================] - 116s 74ms/step - loss: 1.7282 - accuracy: 0.4031 - val_loss: 2.1434 - val_accuracy: 0.4262\n",
      "Epoch 9/50\n",
      "1563/1563 [==============================] - 120s 77ms/step - loss: 1.5548 - accuracy: 0.4568 - val_loss: 1.8643 - val_accuracy: 0.3945\n",
      "Epoch 10/50\n",
      "1563/1563 [==============================] - 139s 89ms/step - loss: 1.4355 - accuracy: 0.4933 - val_loss: 1.4740 - val_accuracy: 0.4791\n",
      "Epoch 11/50\n",
      "1563/1563 [==============================] - 133s 85ms/step - loss: 1.3587 - accuracy: 0.5268 - val_loss: 1.5473 - val_accuracy: 0.4803\n",
      "Epoch 12/50\n",
      "1563/1563 [==============================] - 139s 89ms/step - loss: 1.1936 - accuracy: 0.5807 - val_loss: 1.1673 - val_accuracy: 0.5872\n",
      "Epoch 13/50\n",
      "1563/1563 [==============================] - 139s 89ms/step - loss: 1.0817 - accuracy: 0.6245 - val_loss: 1.3045 - val_accuracy: 0.5830\n",
      "Epoch 14/50\n",
      "1563/1563 [==============================] - 138s 88ms/step - loss: 0.9902 - accuracy: 0.6545 - val_loss: 1.0324 - val_accuracy: 0.6456\n",
      "Epoch 15/50\n",
      "1563/1563 [==============================] - 138s 89ms/step - loss: 0.8586 - accuracy: 0.7002 - val_loss: 1.0739 - val_accuracy: 0.6477\n",
      "Epoch 16/50\n",
      "1563/1563 [==============================] - 139s 89ms/step - loss: 0.7854 - accuracy: 0.7262 - val_loss: 0.9073 - val_accuracy: 0.6891\n",
      "Epoch 17/50\n",
      "1563/1563 [==============================] - 139s 89ms/step - loss: 0.7246 - accuracy: 0.7468 - val_loss: 0.9439 - val_accuracy: 0.6819\n",
      "Epoch 18/50\n",
      "1563/1563 [==============================] - 140s 89ms/step - loss: 0.6418 - accuracy: 0.7776 - val_loss: 1.1237 - val_accuracy: 0.6602\n",
      "Epoch 19/50\n",
      "1563/1563 [==============================] - 139s 89ms/step - loss: 0.5571 - accuracy: 0.8080 - val_loss: 3.4312 - val_accuracy: 0.6133\n",
      "Epoch 20/50\n",
      "1563/1563 [==============================] - 139s 89ms/step - loss: 0.5117 - accuracy: 0.8233 - val_loss: 0.9661 - val_accuracy: 0.7155\n",
      "Epoch 21/50\n",
      "1563/1563 [==============================] - 139s 89ms/step - loss: 0.4225 - accuracy: 0.8521 - val_loss: 0.8852 - val_accuracy: 0.7182\n",
      "Epoch 22/50\n",
      "1563/1563 [==============================] - 138s 88ms/step - loss: 0.3803 - accuracy: 0.8685 - val_loss: 1.0465 - val_accuracy: 0.7138\n",
      "Epoch 23/50\n",
      "1563/1563 [==============================] - 139s 89ms/step - loss: 0.3150 - accuracy: 0.8908 - val_loss: 0.9947 - val_accuracy: 0.7296\n",
      "Epoch 24/50\n",
      "1563/1563 [==============================] - 139s 89ms/step - loss: 0.2803 - accuracy: 0.9030 - val_loss: 1.0521 - val_accuracy: 0.7188\n",
      "Epoch 25/50\n",
      "1563/1563 [==============================] - 139s 89ms/step - loss: 0.2378 - accuracy: 0.9174 - val_loss: 1.0544 - val_accuracy: 0.7232\n",
      "Epoch 26/50\n",
      "1563/1563 [==============================] - 139s 89ms/step - loss: 0.1982 - accuracy: 0.9311 - val_loss: 1.1536 - val_accuracy: 0.7187\n",
      "Epoch 27/50\n",
      "1563/1563 [==============================] - 139s 89ms/step - loss: 0.1931 - accuracy: 0.9340 - val_loss: 1.2685 - val_accuracy: 0.7274\n",
      "Epoch 28/50\n",
      "1563/1563 [==============================] - 138s 88ms/step - loss: 0.1592 - accuracy: 0.9450 - val_loss: 1.1672 - val_accuracy: 0.7317\n",
      "Epoch 29/50\n",
      "1563/1563 [==============================] - 137s 88ms/step - loss: 0.1854 - accuracy: 0.9370 - val_loss: 1.2820 - val_accuracy: 0.7166\n",
      "Epoch 30/50\n",
      "1563/1563 [==============================] - 135s 86ms/step - loss: 0.1502 - accuracy: 0.9487 - val_loss: 1.1960 - val_accuracy: 0.7377\n",
      "Epoch 31/50\n",
      "1563/1563 [==============================] - 135s 86ms/step - loss: 0.1201 - accuracy: 0.9594 - val_loss: 1.3548 - val_accuracy: 0.7267\n",
      "Epoch 32/50\n",
      "1563/1563 [==============================] - 128s 82ms/step - loss: 0.1081 - accuracy: 0.9629 - val_loss: 1.3212 - val_accuracy: 0.7192\n",
      "Epoch 33/50\n",
      "1563/1563 [==============================] - 123s 79ms/step - loss: 0.1203 - accuracy: 0.9594 - val_loss: 1.4613 - val_accuracy: 0.7298\n",
      "Epoch 34/50\n",
      "1563/1563 [==============================] - 133s 85ms/step - loss: 0.1143 - accuracy: 0.9621 - val_loss: 1.5266 - val_accuracy: 0.7264\n",
      "Epoch 35/50\n",
      "1563/1563 [==============================] - 138s 88ms/step - loss: 0.1300 - accuracy: 0.9563 - val_loss: 1.2954 - val_accuracy: 0.7398\n",
      "Epoch 36/50\n",
      "1563/1563 [==============================] - 138s 89ms/step - loss: 0.0833 - accuracy: 0.9718 - val_loss: 1.6178 - val_accuracy: 0.7195\n",
      "Epoch 37/50\n",
      "1563/1563 [==============================] - 138s 88ms/step - loss: 0.0897 - accuracy: 0.9704 - val_loss: 1.3274 - val_accuracy: 0.7479\n",
      "Epoch 38/50\n",
      "1563/1563 [==============================] - 138s 88ms/step - loss: 0.0780 - accuracy: 0.9739 - val_loss: 1.5136 - val_accuracy: 0.7155\n",
      "Epoch 39/50\n",
      "1563/1563 [==============================] - 138s 88ms/step - loss: 0.1115 - accuracy: 0.9632 - val_loss: 1.3306 - val_accuracy: 0.7280\n",
      "Epoch 40/50\n",
      "1563/1563 [==============================] - 138s 88ms/step - loss: 0.0941 - accuracy: 0.9681 - val_loss: 1.3871 - val_accuracy: 0.7348\n",
      "Epoch 41/50\n",
      "1563/1563 [==============================] - 138s 88ms/step - loss: 0.0674 - accuracy: 0.9772 - val_loss: 1.5328 - val_accuracy: 0.7194\n",
      "Epoch 42/50\n",
      "1563/1563 [==============================] - 137s 88ms/step - loss: 0.0701 - accuracy: 0.9760 - val_loss: 1.5631 - val_accuracy: 0.7376\n",
      "Epoch 43/50\n",
      "1563/1563 [==============================] - 138s 88ms/step - loss: 0.1077 - accuracy: 0.9666 - val_loss: 1.6864 - val_accuracy: 0.7279\n",
      "Epoch 44/50\n",
      "1563/1563 [==============================] - 138s 88ms/step - loss: 0.0772 - accuracy: 0.9741 - val_loss: 1.5169 - val_accuracy: 0.7363\n",
      "Epoch 45/50\n",
      "1563/1563 [==============================] - 137s 88ms/step - loss: 0.0678 - accuracy: 0.9779 - val_loss: 1.4594 - val_accuracy: 0.7306\n",
      "Epoch 46/50\n",
      "1563/1563 [==============================] - 137s 88ms/step - loss: 0.0828 - accuracy: 0.9735 - val_loss: 1.3888 - val_accuracy: 0.7464\n",
      "Epoch 47/50\n",
      "1563/1563 [==============================] - 137s 88ms/step - loss: 0.0558 - accuracy: 0.9818 - val_loss: 1.9933 - val_accuracy: 0.7304\n",
      "Epoch 48/50\n",
      "1563/1563 [==============================] - 136s 87ms/step - loss: 0.0574 - accuracy: 0.9810 - val_loss: 1.3920 - val_accuracy: 0.7386\n",
      "Epoch 49/50\n",
      "1563/1563 [==============================] - 133s 85ms/step - loss: 0.0773 - accuracy: 0.9751 - val_loss: 1.3136 - val_accuracy: 0.7470\n",
      "Epoch 50/50\n",
      "1563/1563 [==============================] - 121s 77ms/step - loss: 0.0496 - accuracy: 0.9834 - val_loss: 1.5014 - val_accuracy: 0.7372\n"
     ]
    },
    {
     "data": {
      "text/plain": [
       "<keras.src.callbacks.History at 0x7f805a6ec690>"
      ]
     },
     "execution_count": 14,
     "metadata": {},
     "output_type": "execute_result"
    }
   ],
   "source": [
    "resnet_101.fit(X_train_res, y_train, batch_size=32, epochs=50, validation_data=(X_test_res, y_test))"
   ]
  },
  {
   "cell_type": "markdown",
   "id": "83821a5b-af5d-441e-9f7a-b84c329a0482",
   "metadata": {},
   "source": [
    "# MobileNet"
   ]
  },
  {
   "cell_type": "markdown",
   "id": "480f844a-4b8f-426d-9fd2-d5030477807e",
   "metadata": {
    "tags": []
   },
   "source": [
    "## MobileNet - 3.2M params"
   ]
  },
  {
   "cell_type": "code",
   "execution_count": 17,
   "id": "4f7c325a-8e3c-4f7d-86a3-071482e0a2ed",
   "metadata": {
    "tags": []
   },
   "outputs": [],
   "source": [
    "from tensorflow.keras.applications.mobilenet import preprocess_input"
   ]
  },
  {
   "cell_type": "code",
   "execution_count": 18,
   "id": "84ed998c-ed67-4652-841f-831576d424eb",
   "metadata": {
    "tags": []
   },
   "outputs": [],
   "source": [
    "# Preprocess the input data\n",
    "X_train_mob = preprocess_input(X_train)\n",
    "X_test_mob = preprocess_input(X_test)"
   ]
  },
  {
   "cell_type": "code",
   "execution_count": 19,
   "id": "38bb34dc-4142-4833-8796-2a9c1ddb8831",
   "metadata": {
    "tags": []
   },
   "outputs": [],
   "source": [
    "from tensorflow.keras.applications import MobileNet\n",
    "\n",
    "# Define the model\n",
    "mobilenet = MobileNet(include_top=True, weights=None, input_shape=(32, 32, 3), classes=10)\n",
    "\n",
    "# Compile the model\n",
    "mobilenet.compile(\n",
    "    optimizer=tf.keras.optimizers.Adam(),\n",
    "    loss=tf.keras.losses.SparseCategoricalCrossentropy(),  # we have softmax\n",
    "    metrics=[tf.keras.metrics.SparseCategoricalAccuracy(name='accuracy')]\n",
    ")"
   ]
  },
  {
   "cell_type": "code",
   "execution_count": 20,
   "id": "5877ca48-1b33-4c46-9cea-31ba68022793",
   "metadata": {
    "collapsed": true,
    "jupyter": {
     "outputs_hidden": true
    },
    "tags": []
   },
   "outputs": [
    {
     "name": "stdout",
     "output_type": "stream",
     "text": [
      "Epoch 1/50\n",
      "1563/1563 [==============================] - 53s 25ms/step - loss: 1.8904 - accuracy: 0.3123 - val_loss: 1.6542 - val_accuracy: 0.3984\n",
      "Epoch 2/50\n",
      "1563/1563 [==============================] - 39s 25ms/step - loss: 1.5862 - accuracy: 0.4308 - val_loss: 1.6831 - val_accuracy: 0.4458\n",
      "Epoch 3/50\n",
      "1563/1563 [==============================] - 39s 25ms/step - loss: 1.4414 - accuracy: 0.4880 - val_loss: 1.3499 - val_accuracy: 0.5274\n",
      "Epoch 4/50\n",
      "1563/1563 [==============================] - 39s 25ms/step - loss: 1.3117 - accuracy: 0.5383 - val_loss: 1.4382 - val_accuracy: 0.5290\n",
      "Epoch 5/50\n",
      "1563/1563 [==============================] - 39s 25ms/step - loss: 1.1646 - accuracy: 0.5952 - val_loss: 1.2460 - val_accuracy: 0.5908\n",
      "Epoch 6/50\n",
      "1563/1563 [==============================] - 39s 25ms/step - loss: 1.0592 - accuracy: 0.6352 - val_loss: 1.1621 - val_accuracy: 0.6108\n",
      "Epoch 7/50\n",
      "1563/1563 [==============================] - 39s 25ms/step - loss: 0.9354 - accuracy: 0.6776 - val_loss: 0.9761 - val_accuracy: 0.6728\n",
      "Epoch 8/50\n",
      "1563/1563 [==============================] - 39s 25ms/step - loss: 0.8775 - accuracy: 0.6972 - val_loss: 0.8689 - val_accuracy: 0.6967\n",
      "Epoch 9/50\n",
      "1563/1563 [==============================] - 39s 25ms/step - loss: 0.7960 - accuracy: 0.7238 - val_loss: 0.8884 - val_accuracy: 0.6955\n",
      "Epoch 10/50\n",
      "1563/1563 [==============================] - 39s 25ms/step - loss: 0.7246 - accuracy: 0.7510 - val_loss: 0.8569 - val_accuracy: 0.7148\n",
      "Epoch 11/50\n",
      "1563/1563 [==============================] - 39s 25ms/step - loss: 0.6409 - accuracy: 0.7784 - val_loss: 0.8026 - val_accuracy: 0.7244\n",
      "Epoch 12/50\n",
      "1563/1563 [==============================] - 39s 25ms/step - loss: 0.6003 - accuracy: 0.7927 - val_loss: 0.8113 - val_accuracy: 0.7336\n",
      "Epoch 13/50\n",
      "1563/1563 [==============================] - 39s 25ms/step - loss: 0.5477 - accuracy: 0.8125 - val_loss: 0.8673 - val_accuracy: 0.7184\n",
      "Epoch 14/50\n",
      "1563/1563 [==============================] - 39s 25ms/step - loss: 0.4922 - accuracy: 0.8299 - val_loss: 0.8532 - val_accuracy: 0.7338\n",
      "Epoch 15/50\n",
      "1563/1563 [==============================] - 38s 25ms/step - loss: 0.4572 - accuracy: 0.8412 - val_loss: 0.7907 - val_accuracy: 0.7410\n",
      "Epoch 16/50\n",
      "1563/1563 [==============================] - 39s 25ms/step - loss: 0.4106 - accuracy: 0.8569 - val_loss: 0.8456 - val_accuracy: 0.7344\n",
      "Epoch 17/50\n",
      "1563/1563 [==============================] - 38s 24ms/step - loss: 0.3773 - accuracy: 0.8686 - val_loss: 0.8366 - val_accuracy: 0.7367\n",
      "Epoch 18/50\n",
      "1563/1563 [==============================] - 38s 25ms/step - loss: 0.3401 - accuracy: 0.8811 - val_loss: 0.8620 - val_accuracy: 0.7405\n",
      "Epoch 19/50\n",
      "1563/1563 [==============================] - 39s 25ms/step - loss: 0.3170 - accuracy: 0.8884 - val_loss: 0.8310 - val_accuracy: 0.7439\n",
      "Epoch 20/50\n",
      "1563/1563 [==============================] - 39s 25ms/step - loss: 0.2863 - accuracy: 0.8992 - val_loss: 0.9559 - val_accuracy: 0.7246\n",
      "Epoch 21/50\n",
      "1563/1563 [==============================] - 38s 24ms/step - loss: 0.2705 - accuracy: 0.9060 - val_loss: 0.8736 - val_accuracy: 0.7371\n",
      "Epoch 22/50\n",
      "1563/1563 [==============================] - 39s 25ms/step - loss: 0.2512 - accuracy: 0.9116 - val_loss: 0.9171 - val_accuracy: 0.7495\n",
      "Epoch 23/50\n",
      "1563/1563 [==============================] - 38s 25ms/step - loss: 0.2332 - accuracy: 0.9187 - val_loss: 0.9412 - val_accuracy: 0.7495\n",
      "Epoch 24/50\n",
      "1563/1563 [==============================] - 39s 25ms/step - loss: 0.2161 - accuracy: 0.9239 - val_loss: 0.8743 - val_accuracy: 0.7510\n",
      "Epoch 25/50\n",
      "1563/1563 [==============================] - 38s 24ms/step - loss: 0.2030 - accuracy: 0.9296 - val_loss: 0.9609 - val_accuracy: 0.7533\n",
      "Epoch 26/50\n",
      "1563/1563 [==============================] - 39s 25ms/step - loss: 0.1957 - accuracy: 0.9324 - val_loss: 0.9654 - val_accuracy: 0.7413\n",
      "Epoch 27/50\n",
      "1563/1563 [==============================] - 39s 25ms/step - loss: 0.1782 - accuracy: 0.9381 - val_loss: 0.9979 - val_accuracy: 0.7481\n",
      "Epoch 28/50\n",
      "1563/1563 [==============================] - 38s 24ms/step - loss: 0.1729 - accuracy: 0.9399 - val_loss: 0.9881 - val_accuracy: 0.7505\n",
      "Epoch 29/50\n",
      "1563/1563 [==============================] - 39s 25ms/step - loss: 0.1659 - accuracy: 0.9423 - val_loss: 0.9976 - val_accuracy: 0.7484\n",
      "Epoch 30/50\n",
      "1563/1563 [==============================] - 39s 25ms/step - loss: 0.1695 - accuracy: 0.9417 - val_loss: 0.9642 - val_accuracy: 0.7549\n",
      "Epoch 31/50\n",
      "1563/1563 [==============================] - 39s 25ms/step - loss: 0.1499 - accuracy: 0.9476 - val_loss: 0.9694 - val_accuracy: 0.7490\n",
      "Epoch 32/50\n",
      "1563/1563 [==============================] - 39s 25ms/step - loss: 0.1389 - accuracy: 0.9509 - val_loss: 1.0445 - val_accuracy: 0.7487\n",
      "Epoch 33/50\n",
      "1563/1563 [==============================] - 38s 25ms/step - loss: 0.1394 - accuracy: 0.9517 - val_loss: 0.9867 - val_accuracy: 0.7557\n",
      "Epoch 34/50\n",
      "1563/1563 [==============================] - 39s 25ms/step - loss: 0.1415 - accuracy: 0.9515 - val_loss: 1.0104 - val_accuracy: 0.7555\n",
      "Epoch 35/50\n",
      "1563/1563 [==============================] - 38s 25ms/step - loss: 0.1235 - accuracy: 0.9579 - val_loss: 1.0883 - val_accuracy: 0.7494\n",
      "Epoch 36/50\n",
      "1563/1563 [==============================] - 38s 24ms/step - loss: 0.1250 - accuracy: 0.9563 - val_loss: 1.0576 - val_accuracy: 0.7471\n",
      "Epoch 37/50\n",
      "1563/1563 [==============================] - 38s 25ms/step - loss: 0.1230 - accuracy: 0.9575 - val_loss: 1.0409 - val_accuracy: 0.7523\n",
      "Epoch 38/50\n",
      "1563/1563 [==============================] - 38s 25ms/step - loss: 0.1152 - accuracy: 0.9597 - val_loss: 1.0708 - val_accuracy: 0.7522\n",
      "Epoch 39/50\n",
      "1563/1563 [==============================] - 39s 25ms/step - loss: 0.1103 - accuracy: 0.9626 - val_loss: 1.0204 - val_accuracy: 0.7496\n",
      "Epoch 40/50\n",
      "1563/1563 [==============================] - 39s 25ms/step - loss: 0.1140 - accuracy: 0.9606 - val_loss: 1.0285 - val_accuracy: 0.7576\n",
      "Epoch 41/50\n",
      "1563/1563 [==============================] - 39s 25ms/step - loss: 0.1051 - accuracy: 0.9643 - val_loss: 1.0388 - val_accuracy: 0.7516\n",
      "Epoch 42/50\n",
      "1563/1563 [==============================] - 38s 25ms/step - loss: 0.1215 - accuracy: 0.9593 - val_loss: 1.0051 - val_accuracy: 0.7472\n",
      "Epoch 43/50\n",
      "1563/1563 [==============================] - 38s 25ms/step - loss: 0.1246 - accuracy: 0.9576 - val_loss: 1.0331 - val_accuracy: 0.7485\n",
      "Epoch 44/50\n",
      "1563/1563 [==============================] - 39s 25ms/step - loss: 0.0952 - accuracy: 0.9677 - val_loss: 1.0610 - val_accuracy: 0.7556\n",
      "Epoch 45/50\n",
      "1563/1563 [==============================] - 39s 25ms/step - loss: 0.0896 - accuracy: 0.9700 - val_loss: 1.0992 - val_accuracy: 0.7525\n",
      "Epoch 46/50\n",
      "1563/1563 [==============================] - 39s 25ms/step - loss: 0.0973 - accuracy: 0.9660 - val_loss: 1.0803 - val_accuracy: 0.7560\n",
      "Epoch 47/50\n",
      "1563/1563 [==============================] - 38s 25ms/step - loss: 0.0909 - accuracy: 0.9687 - val_loss: 1.0961 - val_accuracy: 0.7570\n",
      "Epoch 48/50\n",
      "1563/1563 [==============================] - 38s 25ms/step - loss: 0.0883 - accuracy: 0.9697 - val_loss: 1.1731 - val_accuracy: 0.7472\n",
      "Epoch 49/50\n",
      "1563/1563 [==============================] - 38s 25ms/step - loss: 0.0890 - accuracy: 0.9702 - val_loss: 1.1095 - val_accuracy: 0.7586\n",
      "Epoch 50/50\n",
      "1563/1563 [==============================] - 38s 25ms/step - loss: 0.1022 - accuracy: 0.9654 - val_loss: 1.0038 - val_accuracy: 0.7632\n"
     ]
    },
    {
     "data": {
      "text/plain": [
       "<keras.src.callbacks.History at 0x7f5aa8dbd9d0>"
      ]
     },
     "execution_count": 20,
     "metadata": {},
     "output_type": "execute_result"
    }
   ],
   "source": [
    "mobilenet.fit(X_train_mob, y_train, batch_size=32, epochs=50, validation_data=(X_test_mob, y_test))"
   ]
  },
  {
   "cell_type": "markdown",
   "id": "8ce87198-7f47-47d2-b126-537a6b69b1d4",
   "metadata": {},
   "source": [
    "## MobileNetV2 - 2.2M params"
   ]
  },
  {
   "cell_type": "code",
   "execution_count": 17,
   "id": "3b519c0e-952f-4f54-95bf-b00ce162c7b8",
   "metadata": {
    "tags": []
   },
   "outputs": [],
   "source": [
    "from tensorflow.keras.applications.mobilenet import preprocess_input"
   ]
  },
  {
   "cell_type": "code",
   "execution_count": 18,
   "id": "0b80a989-575b-4e65-97de-dc5aed534cc6",
   "metadata": {
    "tags": []
   },
   "outputs": [],
   "source": [
    "# Preprocess the input data\n",
    "X_train_mob = preprocess_input(X_train)\n",
    "X_test_mob = preprocess_input(X_test)"
   ]
  },
  {
   "cell_type": "code",
   "execution_count": 22,
   "id": "11f05c23-623a-4361-9421-fb011b1baff4",
   "metadata": {
    "tags": []
   },
   "outputs": [],
   "source": [
    "from tensorflow.keras.applications import MobileNetV2\n",
    "\n",
    "# Define the model\n",
    "mobilenet = MobileNetV2(include_top=True, weights=None, input_shape=(32, 32, 3), classes=10)\n",
    "\n",
    "# Compile the model\n",
    "mobilenet.compile(\n",
    "    optimizer=tf.keras.optimizers.Adam(),\n",
    "    loss=tf.keras.losses.SparseCategoricalCrossentropy(),  # we have softmax\n",
    "    metrics=[tf.keras.metrics.SparseCategoricalAccuracy(name='accuracy')]\n",
    ")"
   ]
  },
  {
   "cell_type": "code",
   "execution_count": 23,
   "id": "98a72c8c-8327-4bcd-8d45-b15dcdcce1b9",
   "metadata": {
    "collapsed": true,
    "jupyter": {
     "outputs_hidden": true
    },
    "tags": []
   },
   "outputs": [
    {
     "name": "stdout",
     "output_type": "stream",
     "text": [
      "Epoch 1/50\n",
      "1563/1563 [==============================] - 95s 42ms/step - loss: 1.9217 - accuracy: 0.2959 - val_loss: 2.3509 - val_accuracy: 0.1000\n",
      "Epoch 2/50\n",
      "1563/1563 [==============================] - 62s 39ms/step - loss: 1.6140 - accuracy: 0.4179 - val_loss: 2.3276 - val_accuracy: 0.1000\n",
      "Epoch 3/50\n",
      "1563/1563 [==============================] - 61s 39ms/step - loss: 1.4348 - accuracy: 0.4894 - val_loss: 2.0790 - val_accuracy: 0.1979\n",
      "Epoch 4/50\n",
      "1563/1563 [==============================] - 61s 39ms/step - loss: 1.3401 - accuracy: 0.5304 - val_loss: 1.9276 - val_accuracy: 0.4810\n",
      "Epoch 5/50\n",
      "1563/1563 [==============================] - 62s 40ms/step - loss: 1.2546 - accuracy: 0.5606 - val_loss: 3.5042 - val_accuracy: 0.3752\n",
      "Epoch 6/50\n",
      "1563/1563 [==============================] - 62s 40ms/step - loss: 1.1558 - accuracy: 0.5982 - val_loss: 4.2704 - val_accuracy: 0.3807\n",
      "Epoch 7/50\n",
      "1563/1563 [==============================] - 62s 40ms/step - loss: 1.1081 - accuracy: 0.6158 - val_loss: 2.3837 - val_accuracy: 0.4356\n",
      "Epoch 8/50\n",
      "1563/1563 [==============================] - 62s 40ms/step - loss: 1.0497 - accuracy: 0.6365 - val_loss: 2.0399 - val_accuracy: 0.5400\n",
      "Epoch 9/50\n",
      "1563/1563 [==============================] - 67s 43ms/step - loss: 1.1021 - accuracy: 0.6211 - val_loss: 2.0844 - val_accuracy: 0.4971\n",
      "Epoch 10/50\n",
      "1563/1563 [==============================] - 62s 40ms/step - loss: 1.0823 - accuracy: 0.6209 - val_loss: 1.2637 - val_accuracy: 0.6154\n",
      "Epoch 11/50\n",
      "1563/1563 [==============================] - 62s 39ms/step - loss: 0.8986 - accuracy: 0.6888 - val_loss: 1.1092 - val_accuracy: 0.6461\n",
      "Epoch 12/50\n",
      "1563/1563 [==============================] - 63s 40ms/step - loss: 0.8893 - accuracy: 0.6925 - val_loss: 1.9540 - val_accuracy: 0.4557\n",
      "Epoch 13/50\n",
      "1563/1563 [==============================] - 66s 42ms/step - loss: 0.8655 - accuracy: 0.7014 - val_loss: 1.0236 - val_accuracy: 0.6764\n",
      "Epoch 14/50\n",
      "1563/1563 [==============================] - 61s 39ms/step - loss: 0.8070 - accuracy: 0.7191 - val_loss: 1.0178 - val_accuracy: 0.6671\n",
      "Epoch 15/50\n",
      "1563/1563 [==============================] - 61s 39ms/step - loss: 0.8251 - accuracy: 0.7121 - val_loss: 1.4465 - val_accuracy: 0.5507\n",
      "Epoch 16/50\n",
      "1563/1563 [==============================] - 61s 39ms/step - loss: 0.7538 - accuracy: 0.7356 - val_loss: 0.8446 - val_accuracy: 0.7187\n",
      "Epoch 17/50\n",
      "1563/1563 [==============================] - 65s 41ms/step - loss: 0.7142 - accuracy: 0.7539 - val_loss: 0.9270 - val_accuracy: 0.6936\n",
      "Epoch 18/50\n",
      "1563/1563 [==============================] - 67s 43ms/step - loss: 0.6614 - accuracy: 0.7713 - val_loss: 0.8732 - val_accuracy: 0.7169\n",
      "Epoch 19/50\n",
      "1563/1563 [==============================] - 62s 40ms/step - loss: 0.6300 - accuracy: 0.7820 - val_loss: 0.8037 - val_accuracy: 0.7320\n",
      "Epoch 20/50\n",
      "1563/1563 [==============================] - 61s 39ms/step - loss: 0.6365 - accuracy: 0.7807 - val_loss: 0.8680 - val_accuracy: 0.7156\n",
      "Epoch 21/50\n",
      "1563/1563 [==============================] - 63s 40ms/step - loss: 0.6176 - accuracy: 0.7883 - val_loss: 0.9891 - val_accuracy: 0.6888\n",
      "Epoch 22/50\n",
      "1563/1563 [==============================] - 67s 43ms/step - loss: 0.5736 - accuracy: 0.8024 - val_loss: 0.9065 - val_accuracy: 0.7121\n",
      "Epoch 23/50\n",
      "1563/1563 [==============================] - 67s 43ms/step - loss: 0.5447 - accuracy: 0.8102 - val_loss: 0.8163 - val_accuracy: 0.7339\n",
      "Epoch 24/50\n",
      "1563/1563 [==============================] - 67s 43ms/step - loss: 0.5324 - accuracy: 0.8150 - val_loss: 0.8568 - val_accuracy: 0.7280\n",
      "Epoch 25/50\n",
      "1563/1563 [==============================] - 62s 40ms/step - loss: 0.5188 - accuracy: 0.8202 - val_loss: 0.8067 - val_accuracy: 0.7441\n",
      "Epoch 26/50\n",
      "1563/1563 [==============================] - 61s 39ms/step - loss: 0.4814 - accuracy: 0.8327 - val_loss: 0.8755 - val_accuracy: 0.7178\n",
      "Epoch 27/50\n",
      "1563/1563 [==============================] - 61s 39ms/step - loss: 0.5342 - accuracy: 0.8151 - val_loss: 0.9245 - val_accuracy: 0.7094\n",
      "Epoch 28/50\n",
      "1563/1563 [==============================] - 61s 39ms/step - loss: 0.4762 - accuracy: 0.8350 - val_loss: 0.8522 - val_accuracy: 0.7340\n",
      "Epoch 29/50\n",
      "1563/1563 [==============================] - 62s 40ms/step - loss: 0.4335 - accuracy: 0.8506 - val_loss: 0.8225 - val_accuracy: 0.7432\n",
      "Epoch 30/50\n",
      "1563/1563 [==============================] - 66s 42ms/step - loss: 0.4264 - accuracy: 0.8529 - val_loss: 0.7795 - val_accuracy: 0.7537\n",
      "Epoch 31/50\n",
      "1563/1563 [==============================] - 65s 41ms/step - loss: 0.4132 - accuracy: 0.8575 - val_loss: 1.0516 - val_accuracy: 0.6908\n",
      "Epoch 32/50\n",
      "1563/1563 [==============================] - 69s 44ms/step - loss: 0.4428 - accuracy: 0.8471 - val_loss: 0.7585 - val_accuracy: 0.7582\n",
      "Epoch 33/50\n",
      "1563/1563 [==============================] - 69s 44ms/step - loss: 0.3679 - accuracy: 0.8711 - val_loss: 0.9153 - val_accuracy: 0.7228\n",
      "Epoch 34/50\n",
      "1563/1563 [==============================] - 69s 44ms/step - loss: 0.3554 - accuracy: 0.8759 - val_loss: 0.8149 - val_accuracy: 0.7518\n",
      "Epoch 35/50\n",
      "1563/1563 [==============================] - 69s 44ms/step - loss: 0.3446 - accuracy: 0.8795 - val_loss: 0.9809 - val_accuracy: 0.7237\n",
      "Epoch 36/50\n",
      "1563/1563 [==============================] - 66s 42ms/step - loss: 0.3956 - accuracy: 0.8628 - val_loss: 1.0107 - val_accuracy: 0.7108\n",
      "Epoch 37/50\n",
      "1563/1563 [==============================] - 59s 38ms/step - loss: 0.3381 - accuracy: 0.8817 - val_loss: 0.8989 - val_accuracy: 0.7355\n",
      "Epoch 38/50\n",
      "1563/1563 [==============================] - 60s 38ms/step - loss: 0.3281 - accuracy: 0.8851 - val_loss: 0.9281 - val_accuracy: 0.7406\n",
      "Epoch 39/50\n",
      "1563/1563 [==============================] - 60s 38ms/step - loss: 0.3366 - accuracy: 0.8832 - val_loss: 0.8289 - val_accuracy: 0.7577\n",
      "Epoch 40/50\n",
      "1563/1563 [==============================] - 59s 38ms/step - loss: 0.3018 - accuracy: 0.8953 - val_loss: 0.8605 - val_accuracy: 0.7517\n",
      "Epoch 41/50\n",
      "1563/1563 [==============================] - 60s 38ms/step - loss: 0.3119 - accuracy: 0.8927 - val_loss: 0.8249 - val_accuracy: 0.7576\n",
      "Epoch 42/50\n",
      "1563/1563 [==============================] - 60s 38ms/step - loss: 0.2774 - accuracy: 0.9034 - val_loss: 0.8891 - val_accuracy: 0.7458\n",
      "Epoch 43/50\n",
      "1563/1563 [==============================] - 63s 41ms/step - loss: 0.3254 - accuracy: 0.8879 - val_loss: 0.8639 - val_accuracy: 0.7485\n",
      "Epoch 44/50\n",
      "1563/1563 [==============================] - 61s 39ms/step - loss: 0.2860 - accuracy: 0.8997 - val_loss: 0.9572 - val_accuracy: 0.7410\n",
      "Epoch 45/50\n",
      "1563/1563 [==============================] - 60s 38ms/step - loss: 0.3280 - accuracy: 0.8869 - val_loss: 1.4623 - val_accuracy: 0.5837\n",
      "Epoch 46/50\n",
      "1563/1563 [==============================] - 59s 38ms/step - loss: 0.3332 - accuracy: 0.8836 - val_loss: 0.9346 - val_accuracy: 0.7304\n",
      "Epoch 47/50\n",
      "1563/1563 [==============================] - 60s 39ms/step - loss: 0.2942 - accuracy: 0.8971 - val_loss: 0.8305 - val_accuracy: 0.7621\n",
      "Epoch 48/50\n",
      "1563/1563 [==============================] - 60s 38ms/step - loss: 0.2793 - accuracy: 0.9040 - val_loss: 0.9350 - val_accuracy: 0.7393\n",
      "Epoch 49/50\n",
      "1563/1563 [==============================] - 60s 38ms/step - loss: 0.3092 - accuracy: 0.8927 - val_loss: 1.2414 - val_accuracy: 0.6683\n",
      "Epoch 50/50\n",
      "1563/1563 [==============================] - 59s 38ms/step - loss: 0.5155 - accuracy: 0.8233 - val_loss: 0.8509 - val_accuracy: 0.7366\n"
     ]
    },
    {
     "data": {
      "text/plain": [
       "<keras.src.callbacks.History at 0x7f5a9d3ad790>"
      ]
     },
     "execution_count": 23,
     "metadata": {},
     "output_type": "execute_result"
    }
   ],
   "source": [
    "mobilenet.fit(X_train_mob, y_train, batch_size=32, epochs=50, validation_data=(X_test_mob, y_test))"
   ]
  },
  {
   "cell_type": "markdown",
   "id": "6dd74294-5711-42e0-8026-2bbcc2450bc3",
   "metadata": {},
   "source": [
    "# DenseNet"
   ]
  },
  {
   "cell_type": "markdown",
   "id": "e1ad95ae-4afb-498b-a791-7fa7eff244b4",
   "metadata": {},
   "source": [
    "## DenseNet121 - 7M params"
   ]
  },
  {
   "cell_type": "code",
   "execution_count": 15,
   "id": "d329d2e6-22b5-4f06-91a2-64485cabc350",
   "metadata": {
    "tags": []
   },
   "outputs": [],
   "source": [
    "from tensorflow.keras.applications.densenet import preprocess_input"
   ]
  },
  {
   "cell_type": "code",
   "execution_count": 16,
   "id": "d13862ac-7521-4755-a436-780d2c3db7ef",
   "metadata": {
    "tags": []
   },
   "outputs": [],
   "source": [
    "# Preprocess the input data\n",
    "X_train_dense = preprocess_input(X_train)\n",
    "X_test_dense = preprocess_input(X_test)"
   ]
  },
  {
   "cell_type": "code",
   "execution_count": 17,
   "id": "5c4ba208-dbff-4b1c-ab7c-3780a4ec4a68",
   "metadata": {
    "tags": []
   },
   "outputs": [],
   "source": [
    "from tensorflow.keras.applications import DenseNet121\n",
    "\n",
    "# Define the model\n",
    "densenet = DenseNet121(include_top=True, weights=None, input_shape=(32, 32, 3), classes=10)\n",
    "\n",
    "# Compile the model\n",
    "densenet.compile(\n",
    "    optimizer=tf.keras.optimizers.Adam(),\n",
    "    loss=tf.keras.losses.SparseCategoricalCrossentropy(),  # we have softmax\n",
    "    metrics=[tf.keras.metrics.SparseCategoricalAccuracy(name='accuracy')]\n",
    ")"
   ]
  },
  {
   "cell_type": "code",
   "execution_count": 18,
   "id": "5931a5f5-dc89-4579-804c-e39d193794a4",
   "metadata": {
    "collapsed": true,
    "jupyter": {
     "outputs_hidden": true
    },
    "tags": []
   },
   "outputs": [
    {
     "name": "stdout",
     "output_type": "stream",
     "text": [
      "Epoch 1/50\n",
      "1563/1563 [==============================] - 187s 83ms/step - loss: 1.5041 - accuracy: 0.4669 - val_loss: 1.4923 - val_accuracy: 0.5175\n",
      "Epoch 2/50\n",
      "1563/1563 [==============================] - 122s 78ms/step - loss: 1.1524 - accuracy: 0.5984 - val_loss: 1.8585 - val_accuracy: 0.5647\n",
      "Epoch 3/50\n",
      "1563/1563 [==============================] - 121s 77ms/step - loss: 0.9255 - accuracy: 0.6791 - val_loss: 0.8742 - val_accuracy: 0.6999\n",
      "Epoch 4/50\n",
      "1563/1563 [==============================] - 121s 78ms/step - loss: 0.8919 - accuracy: 0.6954 - val_loss: 0.7890 - val_accuracy: 0.7292\n",
      "Epoch 5/50\n",
      "1563/1563 [==============================] - 121s 77ms/step - loss: 0.7012 - accuracy: 0.7568 - val_loss: 0.8088 - val_accuracy: 0.7256\n",
      "Epoch 6/50\n",
      "1563/1563 [==============================] - 123s 79ms/step - loss: 0.6314 - accuracy: 0.7801 - val_loss: 0.7952 - val_accuracy: 0.7278\n",
      "Epoch 7/50\n",
      "1563/1563 [==============================] - 112s 72ms/step - loss: 0.5382 - accuracy: 0.8122 - val_loss: 0.9616 - val_accuracy: 0.7057\n",
      "Epoch 8/50\n",
      "1563/1563 [==============================] - 114s 73ms/step - loss: 0.4540 - accuracy: 0.8411 - val_loss: 0.7341 - val_accuracy: 0.7632\n",
      "Epoch 9/50\n",
      "1563/1563 [==============================] - 116s 74ms/step - loss: 0.3933 - accuracy: 0.8619 - val_loss: 0.6788 - val_accuracy: 0.7780\n",
      "Epoch 10/50\n",
      "1563/1563 [==============================] - 135s 86ms/step - loss: 0.3135 - accuracy: 0.8910 - val_loss: 0.7338 - val_accuracy: 0.7809\n",
      "Epoch 11/50\n",
      "1563/1563 [==============================] - 127s 81ms/step - loss: 0.2672 - accuracy: 0.9043 - val_loss: 0.7584 - val_accuracy: 0.7811\n",
      "Epoch 12/50\n",
      "1563/1563 [==============================] - 133s 85ms/step - loss: 0.2275 - accuracy: 0.9195 - val_loss: 0.7697 - val_accuracy: 0.7832\n",
      "Epoch 13/50\n",
      "1563/1563 [==============================] - 133s 85ms/step - loss: 0.1829 - accuracy: 0.9361 - val_loss: 0.9093 - val_accuracy: 0.7817\n",
      "Epoch 14/50\n",
      "1563/1563 [==============================] - 133s 85ms/step - loss: 0.1563 - accuracy: 0.9445 - val_loss: 0.8848 - val_accuracy: 0.7835\n",
      "Epoch 15/50\n",
      "1563/1563 [==============================] - 133s 85ms/step - loss: 0.1332 - accuracy: 0.9533 - val_loss: 0.9723 - val_accuracy: 0.7714\n",
      "Epoch 16/50\n",
      "1563/1563 [==============================] - 134s 86ms/step - loss: 0.1252 - accuracy: 0.9556 - val_loss: 0.9343 - val_accuracy: 0.7849\n",
      "Epoch 17/50\n",
      "1563/1563 [==============================] - 133s 85ms/step - loss: 0.1106 - accuracy: 0.9601 - val_loss: 0.9388 - val_accuracy: 0.7813\n",
      "Epoch 18/50\n",
      "1563/1563 [==============================] - 133s 85ms/step - loss: 0.1040 - accuracy: 0.9645 - val_loss: 0.9380 - val_accuracy: 0.7855\n",
      "Epoch 19/50\n",
      "1563/1563 [==============================] - 134s 86ms/step - loss: 0.0959 - accuracy: 0.9672 - val_loss: 0.9464 - val_accuracy: 0.7863\n",
      "Epoch 20/50\n",
      "1563/1563 [==============================] - 132s 85ms/step - loss: 0.0902 - accuracy: 0.9691 - val_loss: 0.9874 - val_accuracy: 0.7920\n",
      "Epoch 21/50\n",
      "1563/1563 [==============================] - 132s 85ms/step - loss: 0.0815 - accuracy: 0.9715 - val_loss: 0.9722 - val_accuracy: 0.7931\n",
      "Epoch 22/50\n",
      "1563/1563 [==============================] - 134s 86ms/step - loss: 0.0847 - accuracy: 0.9701 - val_loss: 0.9905 - val_accuracy: 0.7916\n",
      "Epoch 23/50\n",
      "1563/1563 [==============================] - 134s 86ms/step - loss: 0.0685 - accuracy: 0.9762 - val_loss: 1.0623 - val_accuracy: 0.7881\n",
      "Epoch 24/50\n",
      "1563/1563 [==============================] - 133s 85ms/step - loss: 0.0699 - accuracy: 0.9762 - val_loss: 1.0318 - val_accuracy: 0.7864\n",
      "Epoch 25/50\n",
      "1563/1563 [==============================] - 133s 85ms/step - loss: 0.0663 - accuracy: 0.9769 - val_loss: 1.0218 - val_accuracy: 0.7909\n",
      "Epoch 26/50\n",
      "1563/1563 [==============================] - 133s 85ms/step - loss: 0.0643 - accuracy: 0.9774 - val_loss: 0.9622 - val_accuracy: 0.8020\n",
      "Epoch 27/50\n",
      "1563/1563 [==============================] - 134s 86ms/step - loss: 0.0594 - accuracy: 0.9788 - val_loss: 1.1091 - val_accuracy: 0.7882\n",
      "Epoch 28/50\n",
      "1563/1563 [==============================] - 133s 85ms/step - loss: 0.0618 - accuracy: 0.9783 - val_loss: 1.1044 - val_accuracy: 0.7815\n",
      "Epoch 29/50\n",
      "1563/1563 [==============================] - 133s 85ms/step - loss: 0.0538 - accuracy: 0.9814 - val_loss: 1.1294 - val_accuracy: 0.7812\n",
      "Epoch 30/50\n",
      "1563/1563 [==============================] - 132s 85ms/step - loss: 0.0575 - accuracy: 0.9802 - val_loss: 1.0801 - val_accuracy: 0.7971\n",
      "Epoch 31/50\n",
      "1563/1563 [==============================] - 132s 85ms/step - loss: 0.0523 - accuracy: 0.9823 - val_loss: 1.0891 - val_accuracy: 0.7944\n",
      "Epoch 32/50\n",
      "1563/1563 [==============================] - 132s 84ms/step - loss: 0.0495 - accuracy: 0.9828 - val_loss: 1.1181 - val_accuracy: 0.7923\n",
      "Epoch 33/50\n",
      "1563/1563 [==============================] - 132s 84ms/step - loss: 0.0474 - accuracy: 0.9841 - val_loss: 1.1019 - val_accuracy: 0.7934\n",
      "Epoch 34/50\n",
      "1563/1563 [==============================] - 136s 87ms/step - loss: 0.0467 - accuracy: 0.9844 - val_loss: 1.1184 - val_accuracy: 0.7967\n",
      "Epoch 35/50\n",
      "1563/1563 [==============================] - 129s 82ms/step - loss: 0.0482 - accuracy: 0.9836 - val_loss: 1.0722 - val_accuracy: 0.8027\n",
      "Epoch 36/50\n",
      "1563/1563 [==============================] - 131s 84ms/step - loss: 0.0405 - accuracy: 0.9858 - val_loss: 1.0878 - val_accuracy: 0.8016\n",
      "Epoch 37/50\n",
      "1563/1563 [==============================] - 131s 84ms/step - loss: 0.0438 - accuracy: 0.9853 - val_loss: 1.1575 - val_accuracy: 0.7986\n",
      "Epoch 38/50\n",
      "1563/1563 [==============================] - 131s 84ms/step - loss: 0.0442 - accuracy: 0.9848 - val_loss: 1.1501 - val_accuracy: 0.7904\n",
      "Epoch 39/50\n",
      "1563/1563 [==============================] - 131s 84ms/step - loss: 0.0424 - accuracy: 0.9848 - val_loss: 1.2126 - val_accuracy: 0.7848\n",
      "Epoch 40/50\n",
      "1563/1563 [==============================] - 131s 84ms/step - loss: 0.0380 - accuracy: 0.9876 - val_loss: 1.2108 - val_accuracy: 0.7948\n",
      "Epoch 41/50\n",
      "1563/1563 [==============================] - 132s 84ms/step - loss: 0.0363 - accuracy: 0.9877 - val_loss: 1.1937 - val_accuracy: 0.7943\n",
      "Epoch 42/50\n",
      "1563/1563 [==============================] - 131s 84ms/step - loss: 0.0380 - accuracy: 0.9873 - val_loss: 1.2208 - val_accuracy: 0.7945\n",
      "Epoch 43/50\n",
      "1563/1563 [==============================] - 131s 84ms/step - loss: 0.0367 - accuracy: 0.9873 - val_loss: 1.1844 - val_accuracy: 0.7988\n",
      "Epoch 44/50\n",
      "1563/1563 [==============================] - 132s 84ms/step - loss: 0.0372 - accuracy: 0.9873 - val_loss: 1.1778 - val_accuracy: 0.7918\n",
      "Epoch 45/50\n",
      "1563/1563 [==============================] - 133s 85ms/step - loss: 0.0298 - accuracy: 0.9902 - val_loss: 1.2120 - val_accuracy: 0.7943\n",
      "Epoch 46/50\n",
      "1563/1563 [==============================] - 135s 86ms/step - loss: 0.0363 - accuracy: 0.9872 - val_loss: 1.1851 - val_accuracy: 0.7992\n",
      "Epoch 47/50\n",
      "1563/1563 [==============================] - 133s 85ms/step - loss: 0.0338 - accuracy: 0.9886 - val_loss: 1.2028 - val_accuracy: 0.7941\n",
      "Epoch 48/50\n",
      "1563/1563 [==============================] - 132s 84ms/step - loss: 0.0318 - accuracy: 0.9893 - val_loss: 1.2204 - val_accuracy: 0.7977\n",
      "Epoch 49/50\n",
      "1563/1563 [==============================] - 132s 84ms/step - loss: 0.0313 - accuracy: 0.9890 - val_loss: 1.2284 - val_accuracy: 0.7997\n",
      "Epoch 50/50\n",
      "1563/1563 [==============================] - 132s 84ms/step - loss: 0.0293 - accuracy: 0.9899 - val_loss: 1.2894 - val_accuracy: 0.7982\n"
     ]
    },
    {
     "data": {
      "text/plain": [
       "<keras.src.callbacks.History at 0x7f1c2e637b10>"
      ]
     },
     "execution_count": 18,
     "metadata": {},
     "output_type": "execute_result"
    }
   ],
   "source": [
    "densenet.fit(X_train_dense, y_train, batch_size=32, epochs=50, validation_data=(X_test_dense, y_test))"
   ]
  },
  {
   "cell_type": "markdown",
   "id": "cec14c43-1412-4535-9796-c0aa140c49d3",
   "metadata": {},
   "source": [
    "## DenseNet169 - 12.5M params"
   ]
  },
  {
   "cell_type": "code",
   "execution_count": 20,
   "id": "257424aa-6137-4f76-b9ab-c5186fd77a3c",
   "metadata": {
    "tags": []
   },
   "outputs": [],
   "source": [
    "from tensorflow.keras.applications.densenet import preprocess_input"
   ]
  },
  {
   "cell_type": "code",
   "execution_count": 21,
   "id": "90d45293-13ac-469e-901b-96058ee613ca",
   "metadata": {
    "tags": []
   },
   "outputs": [],
   "source": [
    "# Preprocess the input data\n",
    "X_train_dense = preprocess_input(X_train)\n",
    "X_test_dense = preprocess_input(X_test)"
   ]
  },
  {
   "cell_type": "code",
   "execution_count": 22,
   "id": "ac87a63b-f918-4c2d-9ad8-5b53682f9cdb",
   "metadata": {
    "tags": []
   },
   "outputs": [],
   "source": [
    "from tensorflow.keras.applications import DenseNet169\n",
    "\n",
    "# Define the model\n",
    "densenet = DenseNet169(include_top=True, weights=None, input_shape=(32, 32, 3), classes=10)\n",
    "\n",
    "# Compile the model\n",
    "densenet.compile(\n",
    "    optimizer=tf.keras.optimizers.Adam(),\n",
    "    loss=tf.keras.losses.SparseCategoricalCrossentropy(),  # we have softmax\n",
    "    metrics=[tf.keras.metrics.SparseCategoricalAccuracy(name='accuracy')]\n",
    ")"
   ]
  },
  {
   "cell_type": "code",
   "execution_count": 23,
   "id": "ea47bccc-e2f6-4515-8118-a6e7944be34f",
   "metadata": {
    "collapsed": true,
    "jupyter": {
     "outputs_hidden": true
    },
    "tags": []
   },
   "outputs": [
    {
     "name": "stdout",
     "output_type": "stream",
     "text": [
      "Epoch 1/50\n",
      "1563/1563 [==============================] - 264s 114ms/step - loss: 1.6859 - accuracy: 0.4154 - val_loss: 8.5699 - val_accuracy: 0.4374\n",
      "Epoch 2/50\n",
      "1563/1563 [==============================] - 173s 111ms/step - loss: 1.4248 - accuracy: 0.5083 - val_loss: 1.4442 - val_accuracy: 0.4911\n",
      "Epoch 3/50\n",
      "1563/1563 [==============================] - 174s 111ms/step - loss: 1.2428 - accuracy: 0.5716 - val_loss: 1.1557 - val_accuracy: 0.6098\n",
      "Epoch 4/50\n",
      "1563/1563 [==============================] - 172s 110ms/step - loss: 1.0062 - accuracy: 0.6487 - val_loss: 1.5777 - val_accuracy: 0.5996\n",
      "Epoch 5/50\n",
      "1563/1563 [==============================] - 173s 111ms/step - loss: 0.8712 - accuracy: 0.6965 - val_loss: 0.8523 - val_accuracy: 0.7031\n",
      "Epoch 6/50\n",
      "1563/1563 [==============================] - 172s 110ms/step - loss: 0.7424 - accuracy: 0.7421 - val_loss: 0.7955 - val_accuracy: 0.7285\n",
      "Epoch 7/50\n",
      "1563/1563 [==============================] - 172s 110ms/step - loss: 0.6533 - accuracy: 0.7747 - val_loss: 0.7554 - val_accuracy: 0.7404\n",
      "Epoch 8/50\n",
      "1563/1563 [==============================] - 172s 110ms/step - loss: 0.5622 - accuracy: 0.8065 - val_loss: 0.7221 - val_accuracy: 0.7644\n",
      "Epoch 9/50\n",
      "1563/1563 [==============================] - 174s 111ms/step - loss: 0.4769 - accuracy: 0.8329 - val_loss: 0.6816 - val_accuracy: 0.7763\n",
      "Epoch 10/50\n",
      "1563/1563 [==============================] - 171s 109ms/step - loss: 0.3914 - accuracy: 0.8639 - val_loss: 0.7948 - val_accuracy: 0.7550\n",
      "Epoch 11/50\n",
      "1563/1563 [==============================] - 173s 111ms/step - loss: 0.3327 - accuracy: 0.8818 - val_loss: 0.7378 - val_accuracy: 0.7740\n",
      "Epoch 12/50\n",
      "1563/1563 [==============================] - 173s 111ms/step - loss: 0.2708 - accuracy: 0.9052 - val_loss: 0.7660 - val_accuracy: 0.7739\n",
      "Epoch 13/50\n",
      "1563/1563 [==============================] - 171s 109ms/step - loss: 0.2256 - accuracy: 0.9203 - val_loss: 0.8041 - val_accuracy: 0.7815\n",
      "Epoch 14/50\n",
      "1563/1563 [==============================] - 165s 106ms/step - loss: 0.1882 - accuracy: 0.9335 - val_loss: 0.9338 - val_accuracy: 0.7639\n",
      "Epoch 15/50\n",
      "1563/1563 [==============================] - 175s 112ms/step - loss: 0.1575 - accuracy: 0.9439 - val_loss: 0.8546 - val_accuracy: 0.7824\n",
      "Epoch 16/50\n",
      "1563/1563 [==============================] - 176s 113ms/step - loss: 0.1388 - accuracy: 0.9518 - val_loss: 0.9402 - val_accuracy: 0.7790\n",
      "Epoch 17/50\n",
      "1563/1563 [==============================] - 177s 113ms/step - loss: 0.1273 - accuracy: 0.9546 - val_loss: 0.9239 - val_accuracy: 0.7845\n",
      "Epoch 18/50\n",
      "1563/1563 [==============================] - 173s 111ms/step - loss: 0.1112 - accuracy: 0.9614 - val_loss: 0.9072 - val_accuracy: 0.7831\n",
      "Epoch 19/50\n",
      "1563/1563 [==============================] - 172s 110ms/step - loss: 0.1081 - accuracy: 0.9623 - val_loss: 0.9856 - val_accuracy: 0.7827\n",
      "Epoch 20/50\n",
      "1563/1563 [==============================] - 183s 117ms/step - loss: 0.0931 - accuracy: 0.9667 - val_loss: 1.0335 - val_accuracy: 0.7838\n",
      "Epoch 21/50\n",
      "1563/1563 [==============================] - 174s 111ms/step - loss: 0.0917 - accuracy: 0.9680 - val_loss: 1.0057 - val_accuracy: 0.7832\n",
      "Epoch 22/50\n",
      "1563/1563 [==============================] - 186s 119ms/step - loss: 0.0846 - accuracy: 0.9710 - val_loss: 1.0010 - val_accuracy: 0.7821\n",
      "Epoch 23/50\n",
      "1563/1563 [==============================] - 177s 113ms/step - loss: 0.0796 - accuracy: 0.9722 - val_loss: 1.0427 - val_accuracy: 0.7860\n",
      "Epoch 24/50\n",
      "1563/1563 [==============================] - 174s 111ms/step - loss: 0.0732 - accuracy: 0.9744 - val_loss: 1.1490 - val_accuracy: 0.7763\n",
      "Epoch 25/50\n",
      "1563/1563 [==============================] - 186s 119ms/step - loss: 0.0746 - accuracy: 0.9745 - val_loss: 1.0857 - val_accuracy: 0.7831\n",
      "Epoch 26/50\n",
      "1563/1563 [==============================] - 189s 121ms/step - loss: 0.0657 - accuracy: 0.9773 - val_loss: 1.1840 - val_accuracy: 0.7796\n",
      "Epoch 27/50\n",
      "1563/1563 [==============================] - 176s 113ms/step - loss: 0.0666 - accuracy: 0.9775 - val_loss: 1.0888 - val_accuracy: 0.7926\n",
      "Epoch 28/50\n",
      "1563/1563 [==============================] - 165s 105ms/step - loss: 0.0622 - accuracy: 0.9783 - val_loss: 1.1704 - val_accuracy: 0.7773\n",
      "Epoch 29/50\n",
      "1563/1563 [==============================] - 160s 102ms/step - loss: 0.0606 - accuracy: 0.9802 - val_loss: 1.1197 - val_accuracy: 0.7851\n",
      "Epoch 30/50\n",
      "1563/1563 [==============================] - 160s 103ms/step - loss: 0.0558 - accuracy: 0.9811 - val_loss: 1.1952 - val_accuracy: 0.7813\n",
      "Epoch 31/50\n",
      "1563/1563 [==============================] - 159s 102ms/step - loss: 0.0566 - accuracy: 0.9811 - val_loss: 1.1504 - val_accuracy: 0.7836\n",
      "Epoch 32/50\n",
      "1563/1563 [==============================] - 157s 101ms/step - loss: 0.0518 - accuracy: 0.9824 - val_loss: 1.1129 - val_accuracy: 0.7874\n",
      "Epoch 33/50\n",
      "1563/1563 [==============================] - 157s 100ms/step - loss: 0.0501 - accuracy: 0.9828 - val_loss: 1.1513 - val_accuracy: 0.7824\n",
      "Epoch 34/50\n",
      "1563/1563 [==============================] - 158s 101ms/step - loss: 0.0497 - accuracy: 0.9828 - val_loss: 1.1833 - val_accuracy: 0.7888\n",
      "Epoch 35/50\n",
      "1563/1563 [==============================] - 157s 100ms/step - loss: 0.0469 - accuracy: 0.9847 - val_loss: 1.1393 - val_accuracy: 0.7918\n",
      "Epoch 36/50\n",
      "1563/1563 [==============================] - 155s 99ms/step - loss: 0.0460 - accuracy: 0.9845 - val_loss: 1.1889 - val_accuracy: 0.7874\n",
      "Epoch 37/50\n",
      "1563/1563 [==============================] - 156s 100ms/step - loss: 0.0481 - accuracy: 0.9835 - val_loss: 1.1963 - val_accuracy: 0.7857\n",
      "Epoch 38/50\n",
      "1563/1563 [==============================] - 157s 100ms/step - loss: 0.0420 - accuracy: 0.9851 - val_loss: 1.1732 - val_accuracy: 0.7952\n",
      "Epoch 39/50\n",
      "1563/1563 [==============================] - 157s 100ms/step - loss: 0.0417 - accuracy: 0.9856 - val_loss: 1.2030 - val_accuracy: 0.7880\n",
      "Epoch 40/50\n",
      "1563/1563 [==============================] - 157s 100ms/step - loss: 0.0424 - accuracy: 0.9853 - val_loss: 1.1455 - val_accuracy: 0.7972\n",
      "Epoch 41/50\n",
      "1563/1563 [==============================] - 158s 101ms/step - loss: 0.0405 - accuracy: 0.9867 - val_loss: 1.1721 - val_accuracy: 0.7917\n",
      "Epoch 42/50\n",
      "1563/1563 [==============================] - 155s 99ms/step - loss: 0.0416 - accuracy: 0.9855 - val_loss: 1.1985 - val_accuracy: 0.7867\n",
      "Epoch 43/50\n",
      "1563/1563 [==============================] - 161s 103ms/step - loss: 0.0377 - accuracy: 0.9871 - val_loss: 1.1797 - val_accuracy: 0.7904\n",
      "Epoch 44/50\n",
      "1563/1563 [==============================] - 177s 113ms/step - loss: 0.0379 - accuracy: 0.9870 - val_loss: 1.2039 - val_accuracy: 0.7915\n",
      "Epoch 45/50\n",
      "1563/1563 [==============================] - 167s 107ms/step - loss: 0.0383 - accuracy: 0.9872 - val_loss: 1.1654 - val_accuracy: 0.7990\n",
      "Epoch 46/50\n",
      "1563/1563 [==============================] - 158s 101ms/step - loss: 0.0358 - accuracy: 0.9880 - val_loss: 1.1604 - val_accuracy: 0.7960\n",
      "Epoch 47/50\n",
      "1563/1563 [==============================] - 159s 102ms/step - loss: 0.0309 - accuracy: 0.9896 - val_loss: 1.2490 - val_accuracy: 0.7924\n",
      "Epoch 48/50\n",
      "1563/1563 [==============================] - 158s 101ms/step - loss: 0.0358 - accuracy: 0.9881 - val_loss: 1.2403 - val_accuracy: 0.7908\n",
      "Epoch 49/50\n",
      "1563/1563 [==============================] - 157s 100ms/step - loss: 0.0361 - accuracy: 0.9874 - val_loss: 1.1869 - val_accuracy: 0.7979\n",
      "Epoch 50/50\n",
      "1563/1563 [==============================] - 157s 100ms/step - loss: 0.0314 - accuracy: 0.9890 - val_loss: 1.2095 - val_accuracy: 0.7904\n"
     ]
    },
    {
     "data": {
      "text/plain": [
       "<keras.src.callbacks.History at 0x7f1bcd535490>"
      ]
     },
     "execution_count": 23,
     "metadata": {},
     "output_type": "execute_result"
    }
   ],
   "source": [
    "densenet.fit(X_train_dense, y_train, batch_size=32, epochs=50, validation_data=(X_test_dense, y_test))"
   ]
  },
  {
   "cell_type": "markdown",
   "id": "2e71b623-20a6-43ed-a444-7b1c26d91d75",
   "metadata": {},
   "source": [
    "## DenseNet201 - 18M params"
   ]
  },
  {
   "cell_type": "code",
   "execution_count": 9,
   "id": "c994efa5-ef17-4559-a40a-9c14898fa858",
   "metadata": {
    "tags": []
   },
   "outputs": [],
   "source": [
    "from tensorflow.keras.applications.densenet import preprocess_input"
   ]
  },
  {
   "cell_type": "code",
   "execution_count": 10,
   "id": "1e4f5c64-c0b7-400b-92fc-bda0d96bbf36",
   "metadata": {
    "tags": []
   },
   "outputs": [],
   "source": [
    "# Preprocess the input data\n",
    "X_train_dense = preprocess_input(X_train)\n",
    "X_test_dense = preprocess_input(X_test)"
   ]
  },
  {
   "cell_type": "code",
   "execution_count": 11,
   "id": "16320aa2-f574-405a-8ae1-022c600398b5",
   "metadata": {
    "tags": []
   },
   "outputs": [],
   "source": [
    "from tensorflow.keras.applications import DenseNet201\n",
    "\n",
    "# Define the model\n",
    "densenet201 = DenseNet201(include_top=True, weights=None, input_shape=(32, 32, 3), classes=10)\n",
    "\n",
    "# Compile the model\n",
    "densenet201.compile(\n",
    "    optimizer=tf.keras.optimizers.Adam(),\n",
    "    loss=tf.keras.losses.SparseCategoricalCrossentropy(),  # we have softmax\n",
    "    metrics=[tf.keras.metrics.SparseCategoricalAccuracy(name='accuracy')]\n",
    ")"
   ]
  },
  {
   "cell_type": "code",
   "execution_count": 12,
   "id": "5fb3d1f6-a015-4971-8089-26674e476fed",
   "metadata": {
    "collapsed": true,
    "jupyter": {
     "outputs_hidden": true
    },
    "tags": []
   },
   "outputs": [
    {
     "name": "stdout",
     "output_type": "stream",
     "text": [
      "Epoch 1/50\n",
      "1563/1563 [==============================] - 360s 146ms/step - loss: 1.8787 - accuracy: 0.3494 - val_loss: 2.6179 - val_accuracy: 0.3476\n",
      "Epoch 2/50\n",
      "1563/1563 [==============================] - 202s 129ms/step - loss: 1.7259 - accuracy: 0.3878 - val_loss: 1.6807 - val_accuracy: 0.4260\n",
      "Epoch 3/50\n",
      "1563/1563 [==============================] - 200s 128ms/step - loss: 1.6519 - accuracy: 0.4188 - val_loss: 1.6860 - val_accuracy: 0.4418\n",
      "Epoch 4/50\n",
      "1563/1563 [==============================] - 201s 129ms/step - loss: 1.3804 - accuracy: 0.5104 - val_loss: 1.2091 - val_accuracy: 0.5655\n",
      "Epoch 5/50\n",
      "1563/1563 [==============================] - 200s 128ms/step - loss: 1.2029 - accuracy: 0.5762 - val_loss: 1.5714 - val_accuracy: 0.5414\n",
      "Epoch 6/50\n",
      "1563/1563 [==============================] - 199s 127ms/step - loss: 1.0208 - accuracy: 0.6414 - val_loss: 1.0225 - val_accuracy: 0.6397\n",
      "Epoch 7/50\n",
      "1563/1563 [==============================] - 200s 128ms/step - loss: 0.8844 - accuracy: 0.6896 - val_loss: 0.8228 - val_accuracy: 0.7129\n",
      "Epoch 8/50\n",
      "1563/1563 [==============================] - 199s 127ms/step - loss: 0.7886 - accuracy: 0.7254 - val_loss: 0.8653 - val_accuracy: 0.7151\n",
      "Epoch 9/50\n",
      "1563/1563 [==============================] - 200s 128ms/step - loss: 0.6741 - accuracy: 0.7654 - val_loss: 0.7693 - val_accuracy: 0.7342\n",
      "Epoch 10/50\n",
      "1563/1563 [==============================] - 201s 129ms/step - loss: 0.5900 - accuracy: 0.7954 - val_loss: 0.7551 - val_accuracy: 0.7451\n",
      "Epoch 11/50\n",
      "1563/1563 [==============================] - 200s 128ms/step - loss: 0.5163 - accuracy: 0.8201 - val_loss: 0.7679 - val_accuracy: 0.7547\n",
      "Epoch 12/50\n",
      "1563/1563 [==============================] - 200s 128ms/step - loss: 0.4380 - accuracy: 0.8470 - val_loss: 0.7118 - val_accuracy: 0.7609\n",
      "Epoch 13/50\n",
      "1563/1563 [==============================] - 200s 128ms/step - loss: 0.3704 - accuracy: 0.8682 - val_loss: 0.6903 - val_accuracy: 0.7836\n",
      "Epoch 14/50\n",
      "1563/1563 [==============================] - 202s 129ms/step - loss: 0.3100 - accuracy: 0.8916 - val_loss: 0.7248 - val_accuracy: 0.7807\n",
      "Epoch 15/50\n",
      "1563/1563 [==============================] - 201s 129ms/step - loss: 0.2634 - accuracy: 0.9063 - val_loss: 2.0885 - val_accuracy: 0.7582\n",
      "Epoch 16/50\n",
      "1563/1563 [==============================] - 200s 128ms/step - loss: 0.2210 - accuracy: 0.9217 - val_loss: 0.8531 - val_accuracy: 0.7698\n",
      "Epoch 17/50\n",
      "1563/1563 [==============================] - 196s 125ms/step - loss: 0.1900 - accuracy: 0.9315 - val_loss: 0.8289 - val_accuracy: 0.7808\n",
      "Epoch 18/50\n",
      "1563/1563 [==============================] - 201s 129ms/step - loss: 0.1640 - accuracy: 0.9417 - val_loss: 0.8798 - val_accuracy: 0.7734\n",
      "Epoch 19/50\n",
      "1563/1563 [==============================] - 201s 128ms/step - loss: 0.1494 - accuracy: 0.9484 - val_loss: 0.8930 - val_accuracy: 0.7782\n",
      "Epoch 20/50\n",
      "1563/1563 [==============================] - 201s 129ms/step - loss: 0.1359 - accuracy: 0.9530 - val_loss: 0.9586 - val_accuracy: 0.7784\n",
      "Epoch 21/50\n",
      "1563/1563 [==============================] - 201s 129ms/step - loss: 0.1216 - accuracy: 0.9564 - val_loss: 1.0456 - val_accuracy: 0.7682\n",
      "Epoch 22/50\n",
      "1563/1563 [==============================] - 201s 129ms/step - loss: 0.1076 - accuracy: 0.9618 - val_loss: 1.1624 - val_accuracy: 0.7789\n",
      "Epoch 23/50\n",
      "1563/1563 [==============================] - 201s 129ms/step - loss: 0.1048 - accuracy: 0.9641 - val_loss: 1.0059 - val_accuracy: 0.7850\n",
      "Epoch 24/50\n",
      "1563/1563 [==============================] - 201s 129ms/step - loss: 0.0965 - accuracy: 0.9657 - val_loss: 0.9778 - val_accuracy: 0.7860\n",
      "Epoch 25/50\n",
      "1563/1563 [==============================] - 202s 129ms/step - loss: 0.0930 - accuracy: 0.9671 - val_loss: 0.9863 - val_accuracy: 0.7843\n",
      "Epoch 26/50\n",
      "1563/1563 [==============================] - 201s 129ms/step - loss: 0.0809 - accuracy: 0.9718 - val_loss: 1.1242 - val_accuracy: 0.7715\n",
      "Epoch 27/50\n",
      "1563/1563 [==============================] - 202s 129ms/step - loss: 0.0814 - accuracy: 0.9717 - val_loss: 1.1098 - val_accuracy: 0.7765\n",
      "Epoch 28/50\n",
      "1563/1563 [==============================] - 186s 119ms/step - loss: 0.0731 - accuracy: 0.9755 - val_loss: 1.2018 - val_accuracy: 0.7606\n",
      "Epoch 29/50\n",
      "1563/1563 [==============================] - 196s 125ms/step - loss: 0.0775 - accuracy: 0.9731 - val_loss: 1.1763 - val_accuracy: 0.7741\n",
      "Epoch 30/50\n",
      "1563/1563 [==============================] - 195s 125ms/step - loss: 0.0684 - accuracy: 0.9766 - val_loss: 1.1469 - val_accuracy: 0.7764\n",
      "Epoch 31/50\n",
      "1563/1563 [==============================] - 196s 125ms/step - loss: 0.0678 - accuracy: 0.9755 - val_loss: 1.1487 - val_accuracy: 0.7823\n",
      "Epoch 32/50\n",
      "1563/1563 [==============================] - 193s 124ms/step - loss: 0.0642 - accuracy: 0.9780 - val_loss: 1.1868 - val_accuracy: 0.7771\n",
      "Epoch 33/50\n",
      "1563/1563 [==============================] - 195s 124ms/step - loss: 0.0594 - accuracy: 0.9799 - val_loss: 1.1460 - val_accuracy: 0.7789\n",
      "Epoch 34/50\n",
      "1563/1563 [==============================] - 196s 125ms/step - loss: 0.0593 - accuracy: 0.9795 - val_loss: 1.0904 - val_accuracy: 0.7873\n",
      "Epoch 35/50\n",
      "1563/1563 [==============================] - 195s 125ms/step - loss: 0.0551 - accuracy: 0.9810 - val_loss: 1.1432 - val_accuracy: 0.7828\n",
      "Epoch 36/50\n",
      "1563/1563 [==============================] - 195s 125ms/step - loss: 0.0560 - accuracy: 0.9807 - val_loss: 1.1744 - val_accuracy: 0.7822\n",
      "Epoch 37/50\n",
      "1563/1563 [==============================] - 210s 134ms/step - loss: 0.0556 - accuracy: 0.9804 - val_loss: 1.1532 - val_accuracy: 0.7916\n",
      "Epoch 38/50\n",
      "1563/1563 [==============================] - 205s 131ms/step - loss: 0.0496 - accuracy: 0.9829 - val_loss: 1.2398 - val_accuracy: 0.7781\n",
      "Epoch 39/50\n",
      "1563/1563 [==============================] - 195s 125ms/step - loss: 0.0497 - accuracy: 0.9829 - val_loss: 1.2816 - val_accuracy: 0.7742\n",
      "Epoch 40/50\n",
      "1563/1563 [==============================] - 196s 125ms/step - loss: 0.0470 - accuracy: 0.9836 - val_loss: 1.2442 - val_accuracy: 0.7761\n",
      "Epoch 41/50\n",
      "1563/1563 [==============================] - 202s 129ms/step - loss: 0.0507 - accuracy: 0.9827 - val_loss: 1.2380 - val_accuracy: 0.7839\n",
      "Epoch 42/50\n",
      "1563/1563 [==============================] - 207s 133ms/step - loss: 0.0408 - accuracy: 0.9857 - val_loss: 1.2210 - val_accuracy: 0.7847\n",
      "Epoch 43/50\n",
      "1563/1563 [==============================] - 208s 133ms/step - loss: 0.0487 - accuracy: 0.9838 - val_loss: 1.4090 - val_accuracy: 0.7656\n",
      "Epoch 44/50\n",
      "1563/1563 [==============================] - 205s 131ms/step - loss: 0.0418 - accuracy: 0.9862 - val_loss: 1.2521 - val_accuracy: 0.7735\n",
      "Epoch 45/50\n",
      "1563/1563 [==============================] - 196s 125ms/step - loss: 0.0475 - accuracy: 0.9845 - val_loss: 1.1723 - val_accuracy: 0.7853\n",
      "Epoch 46/50\n",
      "1563/1563 [==============================] - 203s 130ms/step - loss: 0.0455 - accuracy: 0.9845 - val_loss: 1.7716 - val_accuracy: 0.7553\n",
      "Epoch 47/50\n",
      "1563/1563 [==============================] - 201s 129ms/step - loss: 0.0402 - accuracy: 0.9864 - val_loss: 1.1934 - val_accuracy: 0.7903\n",
      "Epoch 48/50\n",
      "1563/1563 [==============================] - 198s 127ms/step - loss: 0.0407 - accuracy: 0.9862 - val_loss: 1.2456 - val_accuracy: 0.7820\n",
      "Epoch 49/50\n",
      "1563/1563 [==============================] - 194s 124ms/step - loss: 0.0416 - accuracy: 0.9866 - val_loss: 1.2208 - val_accuracy: 0.7885\n",
      "Epoch 50/50\n",
      "1563/1563 [==============================] - 209s 133ms/step - loss: 0.0368 - accuracy: 0.9875 - val_loss: 1.5210 - val_accuracy: 0.7575\n"
     ]
    },
    {
     "data": {
      "text/plain": [
       "<keras.src.callbacks.History at 0x7f064a9a62d0>"
      ]
     },
     "execution_count": 12,
     "metadata": {},
     "output_type": "execute_result"
    }
   ],
   "source": [
    "densenet201.fit(X_train_dense, y_train, batch_size=32, epochs=50, validation_data=(X_test_dense, y_test))"
   ]
  },
  {
   "cell_type": "markdown",
   "id": "1e2e1efc-1fb2-482a-8471-488e7458ffb5",
   "metadata": {},
   "source": [
    "# ConvNeXt"
   ]
  },
  {
   "cell_type": "markdown",
   "id": "6009842f-dea1-42e8-b095-4f8e3b32bb61",
   "metadata": {},
   "source": [
    "## ConvNeXtTiny - 27.9M params"
   ]
  },
  {
   "cell_type": "code",
   "execution_count": 14,
   "id": "7cb1af54-b316-425d-9dd1-3f6205ac7f35",
   "metadata": {
    "tags": []
   },
   "outputs": [],
   "source": [
    "from tensorflow.keras.applications import ConvNeXtTiny\n",
    "\n",
    "# Define the model\n",
    "convnext = ConvNeXtTiny(include_top=True, weights=None, input_shape=(32, 32, 3), classes=10)\n",
    "\n",
    "# Compile the model\n",
    "convnext.compile(\n",
    "    optimizer=tf.keras.optimizers.Adam(),\n",
    "    loss=tf.keras.losses.SparseCategoricalCrossentropy(),  # we have softmax\n",
    "    metrics=[tf.keras.metrics.SparseCategoricalAccuracy(name='accuracy')]\n",
    ")"
   ]
  },
  {
   "cell_type": "code",
   "execution_count": 15,
   "id": "9fe829f1-6295-4604-9ca7-f56172ff9ea5",
   "metadata": {
    "collapsed": true,
    "jupyter": {
     "outputs_hidden": true
    },
    "tags": []
   },
   "outputs": [
    {
     "name": "stdout",
     "output_type": "stream",
     "text": [
      "Epoch 1/50\n",
      "1563/1563 [==============================] - 227s 122ms/step - loss: 1.6917 - accuracy: 0.4111 - val_loss: 1.4125 - val_accuracy: 0.4971\n",
      "Epoch 2/50\n",
      "1563/1563 [==============================] - 192s 123ms/step - loss: 1.2743 - accuracy: 0.5433 - val_loss: 1.2177 - val_accuracy: 0.5644\n",
      "Epoch 3/50\n",
      "1563/1563 [==============================] - 193s 123ms/step - loss: 1.1043 - accuracy: 0.6018 - val_loss: 1.1335 - val_accuracy: 0.6019\n",
      "Epoch 4/50\n",
      "1563/1563 [==============================] - 196s 125ms/step - loss: 0.9547 - accuracy: 0.6590 - val_loss: 1.0934 - val_accuracy: 0.6147\n",
      "Epoch 5/50\n",
      "1563/1563 [==============================] - 192s 123ms/step - loss: 0.7970 - accuracy: 0.7155 - val_loss: 1.0600 - val_accuracy: 0.6316\n",
      "Epoch 6/50\n",
      "1563/1563 [==============================] - 193s 123ms/step - loss: 0.6110 - accuracy: 0.7802 - val_loss: 1.1241 - val_accuracy: 0.6379\n",
      "Epoch 7/50\n",
      "1563/1563 [==============================] - 193s 124ms/step - loss: 0.4255 - accuracy: 0.8473 - val_loss: 1.2439 - val_accuracy: 0.6424\n",
      "Epoch 8/50\n",
      "1563/1563 [==============================] - 193s 123ms/step - loss: 0.2768 - accuracy: 0.8994 - val_loss: 1.4750 - val_accuracy: 0.6443\n",
      "Epoch 9/50\n",
      "1563/1563 [==============================] - 192s 123ms/step - loss: 0.1898 - accuracy: 0.9329 - val_loss: 1.6144 - val_accuracy: 0.6338\n",
      "Epoch 10/50\n",
      "1563/1563 [==============================] - 193s 124ms/step - loss: 0.1436 - accuracy: 0.9494 - val_loss: 1.8514 - val_accuracy: 0.6417\n",
      "Epoch 11/50\n",
      "1563/1563 [==============================] - 183s 117ms/step - loss: 0.1318 - accuracy: 0.9544 - val_loss: 1.8536 - val_accuracy: 0.6367\n",
      "Epoch 12/50\n",
      "1563/1563 [==============================] - 150s 96ms/step - loss: 0.1066 - accuracy: 0.9618 - val_loss: 1.9247 - val_accuracy: 0.6311\n",
      "Epoch 13/50\n",
      "1563/1563 [==============================] - 163s 105ms/step - loss: 0.1010 - accuracy: 0.9644 - val_loss: 1.7928 - val_accuracy: 0.6313\n",
      "Epoch 14/50\n",
      "1563/1563 [==============================] - 174s 111ms/step - loss: 0.0925 - accuracy: 0.9683 - val_loss: 1.9943 - val_accuracy: 0.6401\n",
      "Epoch 15/50\n",
      "1563/1563 [==============================] - 170s 109ms/step - loss: 0.0846 - accuracy: 0.9702 - val_loss: 1.7853 - val_accuracy: 0.6351\n",
      "Epoch 16/50\n",
      "1563/1563 [==============================] - 174s 111ms/step - loss: 0.0796 - accuracy: 0.9722 - val_loss: 2.1049 - val_accuracy: 0.6334\n",
      "Epoch 17/50\n",
      "1563/1563 [==============================] - 174s 111ms/step - loss: 0.1222 - accuracy: 0.9585 - val_loss: 2.8964 - val_accuracy: 0.4746\n",
      "Epoch 18/50\n",
      "1563/1563 [==============================] - 171s 110ms/step - loss: 0.5240 - accuracy: 0.8196 - val_loss: 2.0086 - val_accuracy: 0.6351\n",
      "Epoch 19/50\n",
      "1563/1563 [==============================] - 173s 111ms/step - loss: 0.0444 - accuracy: 0.9852 - val_loss: 2.2688 - val_accuracy: 0.6329\n",
      "Epoch 20/50\n",
      "1563/1563 [==============================] - 173s 111ms/step - loss: 0.0915 - accuracy: 0.9697 - val_loss: 1.9183 - val_accuracy: 0.6219\n",
      "Epoch 21/50\n",
      "1563/1563 [==============================] - 174s 111ms/step - loss: 0.0810 - accuracy: 0.9719 - val_loss: 2.1308 - val_accuracy: 0.6436\n",
      "Epoch 22/50\n",
      "1563/1563 [==============================] - 175s 112ms/step - loss: 0.0728 - accuracy: 0.9750 - val_loss: 1.8591 - val_accuracy: 0.6376\n",
      "Epoch 23/50\n",
      "1563/1563 [==============================] - 173s 111ms/step - loss: 0.1295 - accuracy: 0.9565 - val_loss: 1.4830 - val_accuracy: 0.6057\n",
      "Epoch 24/50\n",
      "1563/1563 [==============================] - 172s 110ms/step - loss: 0.1096 - accuracy: 0.9620 - val_loss: 1.8631 - val_accuracy: 0.6352\n",
      "Epoch 25/50\n",
      "1563/1563 [==============================] - 173s 111ms/step - loss: 0.0348 - accuracy: 0.9883 - val_loss: 2.4052 - val_accuracy: 0.6442\n",
      "Epoch 26/50\n",
      "1563/1563 [==============================] - 171s 110ms/step - loss: 0.0453 - accuracy: 0.9849 - val_loss: 2.3721 - val_accuracy: 0.6341\n",
      "Epoch 27/50\n",
      "1563/1563 [==============================] - 199s 127ms/step - loss: 0.0501 - accuracy: 0.9830 - val_loss: 2.0111 - val_accuracy: 0.6361\n",
      "Epoch 28/50\n",
      "1563/1563 [==============================] - 200s 128ms/step - loss: 0.0496 - accuracy: 0.9831 - val_loss: 2.1893 - val_accuracy: 0.6294\n",
      "Epoch 29/50\n",
      "1563/1563 [==============================] - 220s 141ms/step - loss: 0.0489 - accuracy: 0.9836 - val_loss: 2.3473 - val_accuracy: 0.6388\n",
      "Epoch 30/50\n",
      "1563/1563 [==============================] - 223s 142ms/step - loss: 0.0473 - accuracy: 0.9837 - val_loss: 2.0096 - val_accuracy: 0.6355\n",
      "Epoch 31/50\n",
      "1563/1563 [==============================] - 209s 134ms/step - loss: 0.0441 - accuracy: 0.9850 - val_loss: 2.2707 - val_accuracy: 0.6235\n",
      "Epoch 32/50\n",
      "1563/1563 [==============================] - 210s 134ms/step - loss: 0.0455 - accuracy: 0.9842 - val_loss: 2.3216 - val_accuracy: 0.6274\n",
      "Epoch 33/50\n",
      "1563/1563 [==============================] - 221s 141ms/step - loss: 0.0436 - accuracy: 0.9853 - val_loss: 2.1347 - val_accuracy: 0.6339\n",
      "Epoch 34/50\n",
      "1563/1563 [==============================] - 203s 130ms/step - loss: 0.0379 - accuracy: 0.9875 - val_loss: 2.3080 - val_accuracy: 0.6410\n",
      "Epoch 35/50\n",
      "1563/1563 [==============================] - 213s 136ms/step - loss: 0.0409 - accuracy: 0.9864 - val_loss: 1.9592 - val_accuracy: 0.6425\n",
      "Epoch 36/50\n",
      "1563/1563 [==============================] - 267s 171ms/step - loss: 0.0378 - accuracy: 0.9869 - val_loss: 2.2725 - val_accuracy: 0.6421\n",
      "Epoch 37/50\n",
      "1563/1563 [==============================] - 224s 144ms/step - loss: 0.0383 - accuracy: 0.9877 - val_loss: 2.0828 - val_accuracy: 0.6428\n",
      "Epoch 38/50\n",
      "1563/1563 [==============================] - 200s 128ms/step - loss: 0.0348 - accuracy: 0.9883 - val_loss: 2.4864 - val_accuracy: 0.6466\n",
      "Epoch 39/50\n",
      "1563/1563 [==============================] - 205s 131ms/step - loss: 0.0356 - accuracy: 0.9877 - val_loss: 2.4265 - val_accuracy: 0.6453\n",
      "Epoch 40/50\n",
      "1563/1563 [==============================] - 208s 133ms/step - loss: 0.0325 - accuracy: 0.9889 - val_loss: 2.3233 - val_accuracy: 0.6316\n",
      "Epoch 41/50\n",
      "1563/1563 [==============================] - 189s 121ms/step - loss: 0.0329 - accuracy: 0.9888 - val_loss: 2.5490 - val_accuracy: 0.6346\n",
      "Epoch 42/50\n",
      "1563/1563 [==============================] - 171s 109ms/step - loss: 0.0319 - accuracy: 0.9891 - val_loss: 2.6092 - val_accuracy: 0.6417\n",
      "Epoch 43/50\n",
      "1563/1563 [==============================] - 171s 109ms/step - loss: 0.0323 - accuracy: 0.9893 - val_loss: 2.2460 - val_accuracy: 0.6476\n",
      "Epoch 44/50\n",
      "1563/1563 [==============================] - 170s 109ms/step - loss: 0.0307 - accuracy: 0.9893 - val_loss: 2.6331 - val_accuracy: 0.6378\n",
      "Epoch 45/50\n",
      "1563/1563 [==============================] - 169s 108ms/step - loss: 0.0286 - accuracy: 0.9903 - val_loss: 2.2910 - val_accuracy: 0.6332\n",
      "Epoch 46/50\n",
      "1563/1563 [==============================] - 172s 110ms/step - loss: 0.0287 - accuracy: 0.9901 - val_loss: 2.4777 - val_accuracy: 0.6360\n",
      "Epoch 47/50\n",
      "1563/1563 [==============================] - 172s 110ms/step - loss: 0.0264 - accuracy: 0.9911 - val_loss: 2.7631 - val_accuracy: 0.6354\n",
      "Epoch 48/50\n",
      "1563/1563 [==============================] - 171s 110ms/step - loss: 0.0282 - accuracy: 0.9904 - val_loss: 2.3324 - val_accuracy: 0.6405\n",
      "Epoch 49/50\n",
      "1563/1563 [==============================] - 171s 110ms/step - loss: 0.0259 - accuracy: 0.9915 - val_loss: 2.5007 - val_accuracy: 0.6422\n",
      "Epoch 50/50\n",
      "1563/1563 [==============================] - 171s 110ms/step - loss: 0.0257 - accuracy: 0.9914 - val_loss: 2.4612 - val_accuracy: 0.6433\n"
     ]
    },
    {
     "data": {
      "text/plain": [
       "<keras.src.callbacks.History at 0x7fa152f736d0>"
      ]
     },
     "execution_count": 15,
     "metadata": {},
     "output_type": "execute_result"
    }
   ],
   "source": [
    "convnext.fit(X_train, y_train, batch_size=32, epochs=50, validation_data=(X_test, y_test))"
   ]
  }
 ],
 "metadata": {
  "kernelspec": {
   "display_name": "Python [conda env:tf-2.13-gpu]",
   "language": "python",
   "name": "conda-env-tf-2.13-gpu-py"
  },
  "language_info": {
   "codemirror_mode": {
    "name": "ipython",
    "version": 3
   },
   "file_extension": ".py",
   "mimetype": "text/x-python",
   "name": "python",
   "nbconvert_exporter": "python",
   "pygments_lexer": "ipython3",
   "version": "3.11.5"
  }
 },
 "nbformat": 4,
 "nbformat_minor": 5
}
