{
 "cells": [
  {
   "cell_type": "code",
   "execution_count": 49,
   "id": "81186eca-f765-4b7e-958d-47f97216651a",
   "metadata": {
    "tags": []
   },
   "outputs": [],
   "source": [
    "import pandas as pd"
   ]
  },
  {
   "cell_type": "code",
   "execution_count": 50,
   "id": "2b392540-4a5c-411c-8a0d-313f9ada8545",
   "metadata": {},
   "outputs": [],
   "source": [
    "import glob\n",
    "import re"
   ]
  },
  {
   "cell_type": "code",
   "execution_count": 51,
   "id": "87075cfb-2634-4483-aa41-5b6e45cf5df0",
   "metadata": {
    "tags": []
   },
   "outputs": [],
   "source": [
    "#AdvancedCNN_linear_b128_c10_t05.parquet"
   ]
  },
  {
   "cell_type": "code",
   "execution_count": 63,
   "id": "13b4ed53-2cd4-4a7a-9dfc-6704de89270e",
   "metadata": {
    "tags": []
   },
   "outputs": [],
   "source": [
    "# List all files that match the broader pattern\n",
    "files = glob.glob('../../metrics/epoch_metrics/*b256*.parquet')"
   ]
  },
  {
   "cell_type": "code",
   "execution_count": 64,
   "id": "2781ba53-6f5b-4b3f-82a9-891b56309118",
   "metadata": {
    "tags": []
   },
   "outputs": [
    {
     "data": {
      "text/plain": [
       "241"
      ]
     },
     "execution_count": 64,
     "metadata": {},
     "output_type": "execute_result"
    }
   ],
   "source": [
    "len(files)"
   ]
  },
  {
   "cell_type": "code",
   "execution_count": 65,
   "id": "58d3f984-e6be-4a9b-9a39-5656070f97f1",
   "metadata": {
    "tags": []
   },
   "outputs": [],
   "source": [
    "# Filter out the files based on the specific pattern\n",
    "filtered_files = [f for f in files if re.search(r'(naive|linear|sketch)', f)]"
   ]
  },
  {
   "cell_type": "code",
   "execution_count": 66,
   "id": "46fc00aa-7121-4555-8e4b-9002d1686a11",
   "metadata": {
    "tags": []
   },
   "outputs": [
    {
     "data": {
      "text/plain": [
       "181"
      ]
     },
     "execution_count": 66,
     "metadata": {},
     "output_type": "execute_result"
    }
   ],
   "source": [
    "len(filtered_files)"
   ]
  },
  {
   "cell_type": "code",
   "execution_count": 67,
   "id": "fdaa62b3-92a5-41f1-893e-ba723dfbca17",
   "metadata": {
    "tags": []
   },
   "outputs": [],
   "source": [
    "for f in filtered_files:\n",
    "    df = pd.read_parquet(f)\n",
    "    df2 = df[df['epoch'] <= 1000]\n",
    "    \n",
    "    df2.to_parquet(f)"
   ]
  },
  {
   "cell_type": "code",
   "execution_count": null,
   "id": "b08aa39f-eb62-4f34-bbd9-b533eb3ff214",
   "metadata": {},
   "outputs": [],
   "source": []
  }
 ],
 "metadata": {
  "kernelspec": {
   "display_name": "Python [conda env:data-analysis]",
   "language": "python",
   "name": "conda-env-data-analysis-py"
  },
  "language_info": {
   "codemirror_mode": {
    "name": "ipython",
    "version": 3
   },
   "file_extension": ".py",
   "mimetype": "text/x-python",
   "name": "python",
   "nbconvert_exporter": "python",
   "pygments_lexer": "ipython3",
   "version": "3.11.4"
  }
 },
 "nbformat": 4,
 "nbformat_minor": 5
}
