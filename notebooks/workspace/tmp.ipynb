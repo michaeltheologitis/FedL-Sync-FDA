{
 "cells": [
  {
   "cell_type": "code",
   "execution_count": 28,
   "id": "a1d34d4e-f0a4-4664-a216-2072462e5e27",
   "metadata": {
    "tags": []
   },
   "outputs": [],
   "source": [
    "import itertools\n",
    "import json\n",
    "\n",
    "x = []\n",
    "\n",
    "\n",
    "# Define the parameter values\n",
    "params = {\n",
    "    \"ds_name\": ['MNIST'],\n",
    "    \"bias\": x if x else [None],\n",
    "    \"nn_name\": ['AdvancedCNN'],\n",
    "    \"fda_name\": ['sync'],\n",
    "    \"batch_size\": [32],\n",
    "    \"theta\": [0.5],\n",
    "    \"rtc_steps\": [1],\n",
    "    \"num_clients\": [5, 10, 15]\n",
    "}\n",
    "\n",
    "combinations = [\n",
    "    dict(zip(params.keys(), values)) \n",
    "    for values in itertools.product(*params.values())\n",
    "]"
   ]
  },
  {
   "cell_type": "code",
   "execution_count": 29,
   "id": "c82ae389-7563-411d-acbc-17488f230507",
   "metadata": {
    "tags": []
   },
   "outputs": [
    {
     "data": {
      "text/plain": [
       "[{'ds_name': 'MNIST',\n",
       "  'bias': None,\n",
       "  'nn_name': 'AdvancedCNN',\n",
       "  'fda_name': 'sync',\n",
       "  'batch_size': 32,\n",
       "  'theta': 0.5,\n",
       "  'rtc_steps': 1,\n",
       "  'num_clients': 5},\n",
       " {'ds_name': 'MNIST',\n",
       "  'bias': None,\n",
       "  'nn_name': 'AdvancedCNN',\n",
       "  'fda_name': 'sync',\n",
       "  'batch_size': 32,\n",
       "  'theta': 0.5,\n",
       "  'rtc_steps': 1,\n",
       "  'num_clients': 10},\n",
       " {'ds_name': 'MNIST',\n",
       "  'bias': None,\n",
       "  'nn_name': 'AdvancedCNN',\n",
       "  'fda_name': 'sync',\n",
       "  'batch_size': 32,\n",
       "  'theta': 0.5,\n",
       "  'rtc_steps': 1,\n",
       "  'num_clients': 15}]"
      ]
     },
     "execution_count": 29,
     "metadata": {},
     "output_type": "execute_result"
    }
   ],
   "source": [
    "combinations"
   ]
  },
  {
   "cell_type": "code",
   "execution_count": 27,
   "id": "71899417-5337-4711-a679-43fee606bb7b",
   "metadata": {
    "tags": []
   },
   "outputs": [
    {
     "data": {
      "text/plain": [
       "'0.05'"
      ]
     },
     "execution_count": 27,
     "metadata": {},
     "output_type": "execute_result"
    }
   ],
   "source": [
    "str(0.05)"
   ]
  },
  {
   "cell_type": "code",
   "execution_count": 30,
   "id": "0292b28a-8803-4bad-9213-e1be79230202",
   "metadata": {
    "tags": []
   },
   "outputs": [],
   "source": [
    "with open('test.json', 'w') as f:\n",
    "    json.dump(combinations, f)"
   ]
  },
  {
   "cell_type": "code",
   "execution_count": 31,
   "id": "3546fad0-ef22-47d0-a40c-f50b076155ac",
   "metadata": {
    "tags": []
   },
   "outputs": [],
   "source": [
    "with open('test.json', 'r') as f:\n",
    "    r = json.load(f)"
   ]
  },
  {
   "cell_type": "code",
   "execution_count": 32,
   "id": "b289faa5-7d48-4ccd-8e4d-a83c73299aad",
   "metadata": {
    "tags": []
   },
   "outputs": [
    {
     "data": {
      "text/plain": [
       "[{'ds_name': 'MNIST',\n",
       "  'bias': None,\n",
       "  'nn_name': 'AdvancedCNN',\n",
       "  'fda_name': 'sync',\n",
       "  'batch_size': 32,\n",
       "  'theta': 0.5,\n",
       "  'rtc_steps': 1,\n",
       "  'num_clients': 5},\n",
       " {'ds_name': 'MNIST',\n",
       "  'bias': None,\n",
       "  'nn_name': 'AdvancedCNN',\n",
       "  'fda_name': 'sync',\n",
       "  'batch_size': 32,\n",
       "  'theta': 0.5,\n",
       "  'rtc_steps': 1,\n",
       "  'num_clients': 10},\n",
       " {'ds_name': 'MNIST',\n",
       "  'bias': None,\n",
       "  'nn_name': 'AdvancedCNN',\n",
       "  'fda_name': 'sync',\n",
       "  'batch_size': 32,\n",
       "  'theta': 0.5,\n",
       "  'rtc_steps': 1,\n",
       "  'num_clients': 15}]"
      ]
     },
     "execution_count": 32,
     "metadata": {},
     "output_type": "execute_result"
    }
   ],
   "source": [
    "r"
   ]
  },
  {
   "cell_type": "code",
   "execution_count": null,
   "id": "0a771a91-32f7-4525-bb71-dcef29543526",
   "metadata": {},
   "outputs": [],
   "source": []
  }
 ],
 "metadata": {
  "kernelspec": {
   "display_name": "Python [conda env:tf-2.13]",
   "language": "python",
   "name": "conda-env-tf-2.13-py"
  },
  "language_info": {
   "codemirror_mode": {
    "name": "ipython",
    "version": 3
   },
   "file_extension": ".py",
   "mimetype": "text/x-python",
   "name": "python",
   "nbconvert_exporter": "python",
   "pygments_lexer": "ipython3",
   "version": "3.11.5"
  }
 },
 "nbformat": 4,
 "nbformat_minor": 5
}
