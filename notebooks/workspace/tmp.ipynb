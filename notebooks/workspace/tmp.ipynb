{
 "cells": [
  {
   "cell_type": "code",
   "execution_count": 156,
   "id": "0a771a91-32f7-4525-bb71-dcef29543526",
   "metadata": {},
   "outputs": [],
   "source": [
    "import os\n",
    "os.environ['TF_CPP_MIN_LOG_LEVEL'] = '3'"
   ]
  },
  {
   "cell_type": "code",
   "execution_count": 160,
   "id": "8cfa3135-93b9-40e1-9929-a9c9dce6beb8",
   "metadata": {
    "tags": []
   },
   "outputs": [],
   "source": [
    "import tensorflow as tf\n",
    "\n",
    "class AdvancedCNN(tf.keras.Model):\n",
    "    def __init__(self, cnn_input_reshape, num_classes):\n",
    "        super(AdvancedCNN, self).__init__()\n",
    "        \n",
    "        self.reshape = tf.keras.layers.Reshape(cnn_input_reshape)\n",
    "        \n",
    "        self.conv1 = tf.keras.layers.Conv2D(64, kernel_size=3, activation='relu', padding='same')\n",
    "        self.conv2 = tf.keras.layers.Conv2D(64, kernel_size=3, activation='relu', padding='same')\n",
    "        self.max_pool1 = tf.keras.layers.MaxPooling2D(pool_size=(2, 2))\n",
    "        \n",
    "        self.conv3 = tf.keras.layers.Conv2D(128, kernel_size=3, activation='relu', padding='same')\n",
    "        self.conv4 = tf.keras.layers.Conv2D(128, kernel_size=3, activation='relu', padding='same')\n",
    "        self.max_pool2 = tf.keras.layers.MaxPooling2D(pool_size=(2, 2))\n",
    "        \n",
    "        self.conv5 = tf.keras.layers.Conv2D(256, kernel_size=3, activation='relu', padding='same')\n",
    "        self.conv6 = tf.keras.layers.Conv2D(256, kernel_size=3, activation='relu', padding='same')\n",
    "        self.max_pool3 = tf.keras.layers.MaxPooling2D(pool_size=(2, 2))\n",
    "\n",
    "        self.flatten = tf.keras.layers.Flatten()\n",
    "        self.dense1 = tf.keras.layers.Dense(512, activation='relu')\n",
    "        self.dropout1 = tf.keras.layers.Dropout(0.5)\n",
    "        self.dense2 = tf.keras.layers.Dense(512, activation='relu')\n",
    "        self.dropout2 = tf.keras.layers.Dropout(0.5)\n",
    "        self.dense3 = tf.keras.layers.Dense(num_classes, activation='softmax')\n",
    "\n",
    "    def call(self, inputs, training=None):\n",
    "        x = self.reshape(inputs)  # Add a channel dimension\n",
    "        \n",
    "        x = self.conv1(x)\n",
    "        x = self.conv2(x)\n",
    "        x = self.max_pool1(x)\n",
    "\n",
    "        x = self.conv3(x)\n",
    "        x = self.conv4(x)\n",
    "        x = self.max_pool2(x)\n",
    "\n",
    "        x = self.conv5(x)\n",
    "        x = self.conv6(x)\n",
    "        x = self.max_pool3(x)\n",
    "\n",
    "        x = self.flatten(x)\n",
    "        x = self.dense1(x)\n",
    "        x = self.dropout1(x, training=training)\n",
    "        x = self.dense2(x)\n",
    "        x = self.dropout2(x, training=training)\n",
    "        x = self.dense3(x)\n",
    "        return x\n",
    "\n",
    "    @tf.function\n",
    "    def step(self, batch):\n",
    "        x_batch, y_batch = batch\n",
    "\n",
    "        with tf.GradientTape() as tape:\n",
    "            # Forward pass: Compute predictions\n",
    "            y_batch_pred = self(x_batch, training=True)\n",
    "\n",
    "            # Compute the loss value\n",
    "            loss = self.loss(y_batch, y_batch_pred)\n",
    "\n",
    "        # Compute gradients\n",
    "        gradients = tape.gradient(loss, self.trainable_variables)\n",
    "        \n",
    "        # Apply gradients to the model's trainable variables (update weights)\n",
    "        self.optimizer.apply_gradients(zip(gradients, self.trainable_variables))\n",
    "       \n",
    "    def train(self, dataset):\n",
    "        for batch in dataset:\n",
    "            self.step(batch)\n",
    "            \n",
    "    def set_trainable_variables(self, trainable_vars):\n",
    "        for model_var, var in zip(self.trainable_variables, trainable_vars):\n",
    "            model_var.assign(var)\n",
    "\n",
    "    def trainable_vars_as_vector(self):\n",
    "        return tf.concat([tf.reshape(var, [-1]) for var in self.trainable_variables], axis=0)\n",
    "\n",
    "    @tf.function\n",
    "    def trainable_vars_as_vector1(self):\n",
    "        print(\"Retrace trainable_vars_as_vector1\")\n",
    "        return tf.concat([tf.reshape(var, [-1]) for var in self.trainable_variables], axis=0)\n",
    "    \n",
    "\n",
    "def get_compiled_and_built_advanced_cnn(cnn_batch_input, cnn_input_reshape, num_classes):\n",
    "    \"\"\"\n",
    "    Compile and build an Advanced CNN model.\n",
    "\n",
    "    Args:\n",
    "    - cnn_batch_input (tuple): The shape of the input including batch size (e.g., (None, 28, 28)).\n",
    "    - cnn_input_reshape (tuple): The shape to which the input should be reshaped (e.g., (28, 28, 1)).\n",
    "    - num_classes (int): Number of output classes.\n",
    "\n",
    "    Returns:\n",
    "    - AdvancedCNN: A compiled and built Advanced CNN model.\n",
    "    \"\"\"\n",
    "    advanced_cnn = AdvancedCNN(cnn_input_reshape, num_classes)\n",
    "    \n",
    "    advanced_cnn.compile(\n",
    "        optimizer=tf.keras.optimizers.Adam(),\n",
    "        loss=tf.keras.losses.SparseCategoricalCrossentropy(),  # we have softmax\n",
    "        metrics=[tf.keras.metrics.SparseCategoricalAccuracy(name='test_accuracy')]\n",
    "    )\n",
    "    \n",
    "    advanced_cnn.build(cnn_batch_input)\n",
    "    \n",
    "    return advanced_cnn"
   ]
  },
  {
   "cell_type": "code",
   "execution_count": 168,
   "id": "80f527d1-20c7-4883-9045-0a7d9c1e275f",
   "metadata": {
    "tags": []
   },
   "outputs": [],
   "source": [
    "adv = get_compiled_and_built_advanced_cnn((None, 28, 28), (28, 28, 1), 10)"
   ]
  },
  {
   "cell_type": "code",
   "execution_count": 172,
   "id": "72560112-28e2-440b-8a4c-a193c30dd382",
   "metadata": {
    "tags": []
   },
   "outputs": [
    {
     "data": {
      "text/plain": [
       "<tf.Variable 'conv2d_94/kernel:0' shape=(3, 3, 1, 64) dtype=float32, numpy=\n",
       "array([[[[ 6.62436336e-03, -8.48598927e-02,  9.64885205e-02,\n",
       "          -6.27466589e-02,  2.55306214e-02, -7.81978294e-02,\n",
       "          -5.68179972e-02, -4.94226888e-02,  5.32500595e-02,\n",
       "          -4.78790589e-02, -5.79350702e-02,  8.70027095e-02,\n",
       "           1.47773400e-02, -8.15537274e-02, -9.88330096e-02,\n",
       "           8.80521238e-02, -4.49408554e-02,  3.05297822e-02,\n",
       "           8.27989727e-02,  8.73940438e-02,  4.85185385e-02,\n",
       "          -7.53182992e-02, -2.51235589e-02,  3.39087397e-02,\n",
       "          -5.78612834e-03,  3.15476358e-02, -1.19907707e-02,\n",
       "          -1.21367723e-03, -6.53995574e-02,  9.87221599e-02,\n",
       "          -5.86902946e-02, -9.97259393e-02,  1.48980469e-02,\n",
       "           5.64086139e-02, -8.67383927e-02,  7.35486150e-02,\n",
       "          -7.35185593e-02,  5.53694367e-02, -1.34367794e-02,\n",
       "          -9.35118571e-02, -5.23242354e-03,  7.36542344e-02,\n",
       "          -1.00085177e-01,  5.25222570e-02,  2.76980549e-02,\n",
       "           4.69207913e-02,  4.72442061e-02, -3.14561278e-03,\n",
       "          -1.56697631e-02, -5.56992851e-02, -2.88477242e-02,\n",
       "          -2.26185247e-02, -7.75975958e-02, -3.20016965e-02,\n",
       "          -7.87883103e-02,  4.46791351e-02,  4.71909344e-02,\n",
       "           6.03135824e-02,  2.09213793e-02, -9.74090025e-02,\n",
       "           3.28415036e-02, -2.87711620e-03, -1.85777396e-02,\n",
       "          -5.13793752e-02]],\n",
       "\n",
       "        [[-8.25727433e-02,  9.38830227e-02,  5.14856875e-02,\n",
       "          -4.50226143e-02,  6.15650266e-02,  3.81679684e-02,\n",
       "           3.36986035e-02, -6.83948398e-04, -6.99765980e-02,\n",
       "           1.11425892e-02, -8.97806659e-02,  5.88062406e-02,\n",
       "           6.64660186e-02, -1.65511519e-02,  8.96631032e-02,\n",
       "          -1.81526989e-02,  6.64783567e-02,  2.57005841e-02,\n",
       "          -2.84780562e-02, -2.38457322e-03,  7.42519647e-02,\n",
       "          -7.13648945e-02, -4.07818258e-02, -5.55146448e-02,\n",
       "          -6.98249042e-03, -3.93007845e-02, -9.13852453e-03,\n",
       "          -1.00516230e-01,  3.67265195e-02,  4.27593440e-02,\n",
       "          -6.66176528e-02,  1.66885108e-02,  2.04238147e-02,\n",
       "          -6.21562749e-02, -2.24827081e-02,  5.37047833e-02,\n",
       "          -5.07951230e-02,  6.51561469e-02, -5.95549010e-02,\n",
       "           9.32309777e-03,  9.30060297e-02, -7.45042115e-02,\n",
       "          -1.27476603e-02, -8.45028758e-02, -5.83574474e-02,\n",
       "          -1.30914971e-02, -1.54550374e-02, -1.41647905e-02,\n",
       "          -3.55407819e-02,  5.31609505e-02, -3.44030708e-02,\n",
       "           7.81964511e-03, -5.50673939e-02, -9.11505148e-02,\n",
       "          -3.88838351e-04,  2.46127546e-02, -3.71728837e-03,\n",
       "           6.00811839e-02, -6.78668767e-02, -9.26440656e-02,\n",
       "           2.47742385e-02, -5.35335243e-02,  6.32207096e-02,\n",
       "          -6.91843331e-02]],\n",
       "\n",
       "        [[ 4.65264916e-02,  4.10762876e-02, -1.13428980e-02,\n",
       "           5.29810786e-02,  4.67415303e-02,  1.01172239e-01,\n",
       "          -2.91521028e-02, -7.97601938e-02,  9.31047350e-02,\n",
       "          -3.83502692e-02, -2.88346857e-02, -7.10087270e-02,\n",
       "           4.80762124e-02, -5.74788637e-02, -9.44415554e-02,\n",
       "           4.71252352e-02, -2.19977424e-02,  9.94129926e-02,\n",
       "          -9.75601375e-04,  5.32572418e-02,  7.30309635e-03,\n",
       "           8.26228410e-02,  5.14031351e-02,  4.17489558e-02,\n",
       "           3.22689563e-02, -5.37375510e-02, -9.50240493e-02,\n",
       "          -5.23659140e-02, -1.66095123e-02,  3.88628989e-02,\n",
       "           8.44296068e-03,  1.00829303e-01, -8.08322877e-02,\n",
       "          -7.67769814e-02,  1.73651725e-02, -6.87513053e-02,\n",
       "           6.40434027e-02, -6.04369380e-02,  7.69090801e-02,\n",
       "           1.04229152e-03,  2.01445445e-02,  6.36435449e-02,\n",
       "          -3.33138630e-02, -9.00860578e-02, -4.44081575e-02,\n",
       "           4.53954190e-02, -3.05204615e-02, -6.06585294e-03,\n",
       "          -5.99550642e-02,  1.29298866e-02,  4.17203456e-02,\n",
       "          -5.51106036e-03,  1.29501447e-02, -8.71832520e-02,\n",
       "          -6.48763925e-02, -2.22795457e-02,  1.62922814e-02,\n",
       "           4.89733815e-02, -5.42035140e-02, -4.27494496e-02,\n",
       "           5.63581288e-02,  1.65686011e-04,  6.63017333e-02,\n",
       "          -1.89786777e-02]]],\n",
       "\n",
       "\n",
       "       [[[ 4.04248387e-02,  8.06272179e-02,  7.76393861e-02,\n",
       "           9.46735293e-02,  4.88625765e-02,  2.77709961e-02,\n",
       "          -1.46475136e-02, -9.62580517e-02, -6.34469241e-02,\n",
       "          -2.62480900e-02,  1.73554868e-02, -1.79381892e-02,\n",
       "           9.58155394e-02, -4.38814200e-02,  4.51959670e-03,\n",
       "           8.82936269e-03,  8.63642097e-02,  1.61927342e-02,\n",
       "          -4.71463129e-02,  5.60170859e-02, -2.24002749e-02,\n",
       "          -3.57170999e-02, -3.17980722e-02, -3.21380049e-03,\n",
       "           4.61635590e-02,  8.69994611e-03, -4.51822877e-02,\n",
       "          -3.06550190e-02,  1.99408308e-02, -5.18449396e-03,\n",
       "          -3.90378386e-02, -9.66525003e-02, -2.33767182e-02,\n",
       "          -4.96769659e-02,  5.59074879e-02, -5.77975363e-02,\n",
       "           7.13128150e-02, -1.63885504e-02,  2.26763785e-02,\n",
       "           2.80153304e-02,  5.09759039e-03, -8.21322575e-02,\n",
       "          -4.03680205e-02, -2.54929066e-03,  3.33822221e-02,\n",
       "          -8.30688179e-02, -7.81754702e-02, -5.21991402e-03,\n",
       "          -4.56227288e-02, -5.97202778e-03, -3.59682813e-02,\n",
       "          -1.24703050e-02, -8.26479569e-02, -5.01511358e-02,\n",
       "           8.91250670e-02,  3.55925113e-02,  1.83676928e-02,\n",
       "          -5.34092449e-02,  7.93938637e-02, -1.44533291e-02,\n",
       "           4.53987271e-02, -2.97833681e-02, -8.53131264e-02,\n",
       "          -9.71852466e-02]],\n",
       "\n",
       "        [[ 9.87587869e-02, -8.65563601e-02, -1.00207835e-01,\n",
       "           8.27691704e-03, -2.59914473e-02, -1.56503990e-02,\n",
       "           7.83829242e-02,  2.22135782e-02, -6.11071959e-02,\n",
       "          -6.69468045e-02, -2.06802413e-02, -9.75208953e-02,\n",
       "          -4.02745269e-02,  4.75487113e-03, -1.44603103e-02,\n",
       "           3.08574885e-02,  7.82156736e-02, -3.07583660e-02,\n",
       "           9.58874375e-02, -4.59562019e-02,  5.69372624e-03,\n",
       "          -6.75250441e-02,  9.79750454e-02,  4.72033024e-02,\n",
       "           8.20440054e-02, -5.95636182e-02,  4.11290228e-02,\n",
       "           2.27572024e-03,  7.69061595e-02, -6.08336739e-02,\n",
       "           1.33516639e-02, -8.80537927e-02,  1.98469758e-02,\n",
       "          -4.80604656e-02, -2.99977586e-02, -2.73443460e-02,\n",
       "           2.88026631e-02, -4.01858911e-02,  6.09457493e-05,\n",
       "           8.55353326e-02,  7.50077665e-02,  4.15848196e-02,\n",
       "           2.40851939e-03,  8.13126564e-04, -9.85645652e-02,\n",
       "          -8.79719183e-02, -8.44668597e-03, -6.94067031e-03,\n",
       "           1.00498289e-01,  7.00728893e-02, -4.97972816e-02,\n",
       "           7.90154785e-02, -3.37959751e-02, -4.10133824e-02,\n",
       "          -7.72291869e-02,  9.30974931e-02,  3.05324644e-02,\n",
       "           4.40555513e-02, -4.21773456e-02, -8.98660421e-02,\n",
       "          -9.58428010e-02, -9.54032987e-02, -6.97751492e-02,\n",
       "          -8.22398812e-03]],\n",
       "\n",
       "        [[ 1.33043900e-02, -7.13782236e-02, -4.63920534e-02,\n",
       "          -4.62468415e-02,  7.29221106e-03,  4.99000996e-02,\n",
       "           2.24645734e-02,  1.26129091e-02,  7.09735155e-02,\n",
       "           6.85158819e-02,  1.34207979e-02,  1.71905458e-02,\n",
       "          -1.16664171e-03,  2.33305767e-02,  3.53554487e-02,\n",
       "           9.66426283e-02,  5.46790659e-02,  8.13096613e-02,\n",
       "           6.34047389e-02,  9.74498093e-02, -9.17417407e-02,\n",
       "          -8.48936439e-02, -2.61140615e-02, -2.77022347e-02,\n",
       "          -3.03122997e-02, -3.48360017e-02, -8.84865969e-03,\n",
       "          -5.18463477e-02, -8.21823105e-02, -9.72257629e-02,\n",
       "           7.76589513e-02,  1.93565339e-03, -4.08390276e-02,\n",
       "           8.95491987e-03,  1.40307844e-02,  1.07305497e-03,\n",
       "           9.36418772e-02,  2.89861560e-02, -3.97390984e-02,\n",
       "           1.63868368e-02, -5.76396734e-02, -3.57372090e-02,\n",
       "           7.11157918e-03,  7.35300034e-02,  2.63940543e-03,\n",
       "           8.40456337e-02, -2.18845457e-02,  5.70355207e-02,\n",
       "          -7.05843866e-02, -3.71364728e-02, -2.37376243e-02,\n",
       "           8.77011716e-02, -5.02564125e-02, -2.12211013e-02,\n",
       "           6.36779815e-02, -6.90881312e-02,  3.44356149e-02,\n",
       "          -5.19610159e-02, -1.81076005e-02, -1.87206790e-02,\n",
       "          -8.91168565e-02,  9.33535546e-02,  9.61230397e-02,\n",
       "          -3.26147527e-02]]],\n",
       "\n",
       "\n",
       "       [[[-3.71780470e-02, -1.34094805e-03,  1.86055303e-02,\n",
       "          -5.07279485e-02,  1.81346685e-02,  7.85820931e-03,\n",
       "          -5.78514300e-02, -3.85837778e-02, -7.63286725e-02,\n",
       "          -4.10358161e-02,  3.06499004e-03, -4.20926921e-02,\n",
       "          -5.83266877e-02,  9.63727683e-02, -9.02114213e-02,\n",
       "          -8.94950479e-02,  8.32571089e-03,  3.06217521e-02,\n",
       "          -2.94730812e-03, -6.03535399e-02,  3.02418619e-02,\n",
       "          -6.23856075e-02,  4.44616377e-02, -6.54851794e-02,\n",
       "          -4.37970571e-02,  9.97453928e-04, -7.21111894e-02,\n",
       "          -6.11063018e-02, -9.57686231e-02,  8.42063874e-02,\n",
       "           6.89708143e-02,  3.66295874e-03,  3.86991054e-02,\n",
       "          -1.31765604e-02, -6.14878535e-02, -6.88188672e-02,\n",
       "           9.59853977e-02,  1.11074522e-02,  7.29738623e-02,\n",
       "          -7.88798705e-02,  9.46613252e-02, -4.14035767e-02,\n",
       "           4.05188352e-02,  6.40963763e-02, -8.67073610e-02,\n",
       "           4.27546948e-02, -9.78611410e-03, -4.19923179e-02,\n",
       "          -6.55149743e-02,  1.26555488e-02,  6.83194101e-02,\n",
       "          -2.77019665e-02,  8.14600140e-02, -6.57607764e-02,\n",
       "          -5.42972460e-02, -5.51777408e-02, -9.62880254e-03,\n",
       "           1.58341452e-02, -3.38465348e-02, -6.73181862e-02,\n",
       "          -3.91661488e-02,  3.86204869e-02,  8.31247419e-02,\n",
       "           8.14675838e-02]],\n",
       "\n",
       "        [[-8.60196277e-02,  4.62192446e-02, -3.63586470e-02,\n",
       "           7.21574426e-02, -9.15165097e-02, -4.75509204e-02,\n",
       "           1.25704110e-02,  4.92408723e-02, -8.53418559e-02,\n",
       "          -9.35326442e-02,  9.33712870e-02,  1.16170496e-02,\n",
       "           9.29391980e-02,  2.17279121e-02, -5.96176572e-02,\n",
       "           8.55062902e-03,  7.86209852e-02, -6.90334290e-03,\n",
       "          -8.81741196e-03,  7.43805170e-02, -7.19139427e-02,\n",
       "           1.61640942e-02, -8.11533704e-02, -4.70519289e-02,\n",
       "           7.17774779e-02, -5.92550598e-02,  1.00707948e-01,\n",
       "          -5.98338544e-02, -5.41358441e-03, -7.11444467e-02,\n",
       "           8.06601048e-02,  4.24572378e-02,  8.23919624e-02,\n",
       "          -5.55427484e-02,  6.97782636e-02, -2.29854137e-03,\n",
       "          -6.75726831e-02,  5.84738106e-02, -5.67032099e-02,\n",
       "           8.21213722e-02, -1.65484473e-02, -1.82086229e-02,\n",
       "          -4.26252708e-02, -2.79903859e-02, -1.53274536e-02,\n",
       "          -5.57982922e-03,  2.48795450e-02, -6.59591109e-02,\n",
       "          -7.89224133e-02, -1.93866119e-02, -2.12528035e-02,\n",
       "           3.03656608e-02, -9.24327150e-02,  9.81979072e-02,\n",
       "           3.76468152e-02, -6.43097013e-02,  2.16730833e-02,\n",
       "           2.87751853e-02,  5.61229736e-02,  1.61593631e-02,\n",
       "          -1.75523683e-02,  8.33381116e-02, -3.42184305e-02,\n",
       "           4.27621007e-02]],\n",
       "\n",
       "        [[ 9.49682295e-03, -8.42396617e-02,  7.02526718e-02,\n",
       "          -8.64480436e-02, -8.99368823e-02,  7.29854256e-02,\n",
       "           1.51996464e-02, -8.83395597e-02,  1.88425630e-02,\n",
       "           3.15196216e-02,  3.91547829e-02,  1.96870565e-02,\n",
       "          -7.96258450e-03, -4.35344465e-02, -4.06221524e-02,\n",
       "          -2.98473313e-02, -4.25037220e-02,  7.20712245e-02,\n",
       "          -5.46146892e-02,  6.68206513e-02,  6.94705248e-02,\n",
       "           1.33341104e-02,  7.92196989e-02,  9.92416590e-02,\n",
       "          -4.07595634e-02,  6.62770122e-02, -1.01141669e-01,\n",
       "           7.86290765e-02, -1.99270174e-02,  5.16170859e-02,\n",
       "          -9.84895900e-02,  5.73530644e-02, -3.49374861e-02,\n",
       "           5.22702038e-02, -1.59244984e-03, -6.68951571e-02,\n",
       "          -5.46598919e-02,  9.75007117e-02,  8.56492072e-02,\n",
       "           4.59730625e-02,  5.19659221e-02,  5.32826781e-02,\n",
       "          -8.69861692e-02, -2.82812938e-02, -8.91813710e-02,\n",
       "           6.25432134e-02,  1.86964571e-02, -7.54427016e-02,\n",
       "          -2.44529545e-03, -7.55537003e-02, -4.78539504e-02,\n",
       "           3.82241607e-03,  9.00830626e-02,  8.08057934e-02,\n",
       "          -7.97943622e-02, -7.01187849e-02, -9.69781950e-02,\n",
       "          -1.15332380e-02, -8.67597833e-02, -5.36263399e-02,\n",
       "           1.60978362e-02, -3.13898474e-02, -4.63960133e-02,\n",
       "          -2.00938135e-02]]]], dtype=float32)>"
      ]
     },
     "execution_count": 172,
     "metadata": {},
     "output_type": "execute_result"
    }
   ],
   "source": []
  },
  {
   "cell_type": "code",
   "execution_count": null,
   "id": "3cb53af3-0f7b-4f29-834c-33c59915fbb4",
   "metadata": {},
   "outputs": [],
   "source": []
  },
  {
   "cell_type": "code",
   "execution_count": null,
   "id": "9e1db4eb-a2e5-49d3-989d-45b09b4009c6",
   "metadata": {},
   "outputs": [],
   "source": []
  },
  {
   "cell_type": "code",
   "execution_count": null,
   "id": "9076c249-1d90-4a90-bc77-5981189bc589",
   "metadata": {},
   "outputs": [],
   "source": []
  },
  {
   "cell_type": "code",
   "execution_count": null,
   "id": "c17ea216-d274-4058-b696-4f7f11185fc8",
   "metadata": {},
   "outputs": [],
   "source": []
  },
  {
   "cell_type": "code",
   "execution_count": 153,
   "id": "6cb2e77e-9125-4fcd-82f5-11c0d11bf3b5",
   "metadata": {
    "tags": []
   },
   "outputs": [],
   "source": [
    "(X_train, y_train), (X_test, y_test) = tf.keras.datasets.mnist.load_data()\n",
    "X_train, X_test = X_train / 255.0, X_test / 255.0\n",
    "train_dataset = tf.data.Dataset.from_tensor_slices((X_train, y_train)).batch(256).repeat().take(1)"
   ]
  },
  {
   "cell_type": "code",
   "execution_count": 154,
   "id": "4e9441fc-b765-4421-8438-9e5a5797ff90",
   "metadata": {
    "tags": []
   },
   "outputs": [
    {
     "data": {
      "text/plain": [
       "<_TakeDataset element_spec=(TensorSpec(shape=(None, 28, 28), dtype=tf.float64, name=None), TensorSpec(shape=(None,), dtype=tf.uint8, name=None))>"
      ]
     },
     "execution_count": 154,
     "metadata": {},
     "output_type": "execute_result"
    }
   ],
   "source": [
    "train_dataset"
   ]
  },
  {
   "cell_type": "code",
   "execution_count": 144,
   "id": "e61e877a-5e53-4b07-87d9-ef856b16a0f5",
   "metadata": {
    "tags": []
   },
   "outputs": [
    {
     "name": "stdout",
     "output_type": "stream",
     "text": [
      "1.16 s ± 22.8 ms per loop (mean ± std. dev. of 7 runs, 1 loop each)\n"
     ]
    }
   ],
   "source": [
    "%%timeit \n",
    "\n",
    "adv.train(train_dataset)"
   ]
  },
  {
   "cell_type": "code",
   "execution_count": 155,
   "id": "33475af1-fa4c-4b8e-a6f7-e60c5dfcafd7",
   "metadata": {
    "tags": []
   },
   "outputs": [
    {
     "name": "stdout",
     "output_type": "stream",
     "text": [
      "Retrace call\n",
      "1.1 s ± 19.1 ms per loop (mean ± std. dev. of 7 runs, 1 loop each)\n"
     ]
    }
   ],
   "source": [
    "%%timeit \n",
    "\n",
    "adv.train(train_dataset)"
   ]
  },
  {
   "cell_type": "code",
   "execution_count": null,
   "id": "c7c085cb-afa0-4208-93d2-a8118ee0e9b8",
   "metadata": {},
   "outputs": [],
   "source": []
  },
  {
   "cell_type": "code",
   "execution_count": 78,
   "id": "66d97e99-0ee9-4ebf-917a-103874eec323",
   "metadata": {
    "tags": []
   },
   "outputs": [],
   "source": [
    "adv.trainable_vars_as_vector1()\n",
    "adv.set_trainable_variables1(adv.trainable_variables)"
   ]
  },
  {
   "cell_type": "code",
   "execution_count": 48,
   "id": "df72311b-c768-4b9d-8dbf-589e0b51e269",
   "metadata": {
    "tags": []
   },
   "outputs": [
    {
     "name": "stdout",
     "output_type": "stream",
     "text": [
      "7.64 ms ± 261 µs per loop (mean ± std. dev. of 7 runs, 100 loops each)\n"
     ]
    }
   ],
   "source": [
    "%%timeit\n",
    "\n",
    "adv.trainable_vars_as_vector()"
   ]
  },
  {
   "cell_type": "code",
   "execution_count": 49,
   "id": "8c7dbefd-2f40-48d4-9562-995b701cd1e3",
   "metadata": {
    "tags": []
   },
   "outputs": [
    {
     "name": "stdout",
     "output_type": "stream",
     "text": [
      "2.31 ms ± 51.9 µs per loop (mean ± std. dev. of 7 runs, 100 loops each)\n"
     ]
    }
   ],
   "source": [
    "%%timeit\n",
    "\n",
    "adv.trainable_vars_as_vector1()"
   ]
  },
  {
   "cell_type": "code",
   "execution_count": 79,
   "id": "9461f9d2-3fb5-4ef8-a678-39813313e636",
   "metadata": {
    "tags": []
   },
   "outputs": [
    {
     "data": {
      "text/plain": [
       "<tf.Tensor: shape=(2592202,), dtype=float32, numpy=\n",
       "array([-0.00058674,  0.04495262, -0.04219111, ...,  0.        ,\n",
       "        0.        ,  0.        ], dtype=float32)>"
      ]
     },
     "execution_count": 79,
     "metadata": {},
     "output_type": "execute_result"
    }
   ],
   "source": [
    "adv.trainable_vars_as_vector()"
   ]
  },
  {
   "cell_type": "code",
   "execution_count": 112,
   "id": "0ab8bdb4-e9d5-43d6-826f-c1bece745e89",
   "metadata": {
    "tags": []
   },
   "outputs": [
    {
     "data": {
      "text/plain": [
       "<tf.Tensor: shape=(2592202,), dtype=float32, numpy=\n",
       "array([-0.00058674,  0.04495262, -0.04219111, ...,  0.        ,\n",
       "        0.        ,  0.        ], dtype=float32)>"
      ]
     },
     "execution_count": 112,
     "metadata": {},
     "output_type": "execute_result"
    }
   ],
   "source": [
    "adv.set_trainable_variables(adv3.trainable_variables)\n",
    "adv.trainable_vars_as_vector1()"
   ]
  },
  {
   "cell_type": "code",
   "execution_count": 113,
   "id": "ad0cf107-3405-477a-b379-53b8a92022ec",
   "metadata": {
    "tags": []
   },
   "outputs": [
    {
     "data": {
      "text/plain": [
       "<tf.Tensor: shape=(2592202,), dtype=float32, numpy=\n",
       "array([-0.00058674,  0.04495262, -0.04219111, ...,  0.        ,\n",
       "        0.        ,  0.        ], dtype=float32)>"
      ]
     },
     "execution_count": 113,
     "metadata": {},
     "output_type": "execute_result"
    }
   ],
   "source": [
    "adv.trainable_vars_as_vector()"
   ]
  },
  {
   "cell_type": "code",
   "execution_count": 117,
   "id": "a412ea0f-54d5-49f4-ad27-5ba2f0c9362e",
   "metadata": {
    "tags": []
   },
   "outputs": [
    {
     "data": {
      "text/plain": [
       "<tf.Tensor: shape=(2592202,), dtype=float32, numpy=\n",
       "array([-0.07618969, -0.02637688,  0.08039571, ...,  0.        ,\n",
       "        0.        ,  0.        ], dtype=float32)>"
      ]
     },
     "execution_count": 117,
     "metadata": {},
     "output_type": "execute_result"
    }
   ],
   "source": [
    "adv.set_trainable_variables(adv2.trainable_variables)\n",
    "adv.trainable_vars_as_vector1()"
   ]
  },
  {
   "cell_type": "code",
   "execution_count": 118,
   "id": "5931a3cf-5e24-4ad9-b82b-8fcf05744fc9",
   "metadata": {
    "tags": []
   },
   "outputs": [
    {
     "data": {
      "text/plain": [
       "<tf.Tensor: shape=(2592202,), dtype=float32, numpy=\n",
       "array([-0.07618969, -0.02637688,  0.08039571, ...,  0.        ,\n",
       "        0.        ,  0.        ], dtype=float32)>"
      ]
     },
     "execution_count": 118,
     "metadata": {},
     "output_type": "execute_result"
    }
   ],
   "source": [
    "adv.trainable_vars_as_vector()"
   ]
  },
  {
   "cell_type": "code",
   "execution_count": null,
   "id": "15ef0674-e13c-4c1a-8c81-4b4d7a88e12e",
   "metadata": {},
   "outputs": [],
   "source": []
  }
 ],
 "metadata": {
  "kernelspec": {
   "display_name": "Python [conda env:tf-2.13]",
   "language": "python",
   "name": "conda-env-tf-2.13-py"
  },
  "language_info": {
   "codemirror_mode": {
    "name": "ipython",
    "version": 3
   },
   "file_extension": ".py",
   "mimetype": "text/x-python",
   "name": "python",
   "nbconvert_exporter": "python",
   "pygments_lexer": "ipython3",
   "version": "3.11.5"
  }
 },
 "nbformat": 4,
 "nbformat_minor": 5
}
