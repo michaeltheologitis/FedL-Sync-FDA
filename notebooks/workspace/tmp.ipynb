{
 "cells": [
  {
   "cell_type": "code",
   "execution_count": 1,
   "id": "b08aa39f-eb62-4f34-bbd9-b533eb3ff214",
   "metadata": {
    "tags": []
   },
   "outputs": [
    {
     "name": "stderr",
     "output_type": "stream",
     "text": [
      "/home/miketheologitis/anaconda3/envs/tf-2.13/lib/python3.11/site-packages/tqdm/auto.py:21: TqdmWarning: IProgress not found. Please update jupyter and ipywidgets. See https://ipywidgets.readthedocs.io/en/stable/user_install.html\n",
      "  from .autonotebook import tqdm as notebook_tqdm\n"
     ]
    }
   ],
   "source": [
    "import logging\n",
    "logging.getLogger(\"tensorflow\").setLevel(logging.ERROR)\n",
    "\n",
    "import os\n",
    "os.environ['CUDA_VISIBLE_DEVICES'] = ''\n",
    "os.environ['TF_CPP_MIN_LOG_LEVEL'] = '3'\n",
    "\n",
    "import tensorflow as tf\n",
    "\n",
    "import numpy as np\n",
    "\n",
    "import tensorflow_datasets as tfds"
   ]
  },
  {
   "cell_type": "code",
   "execution_count": 2,
   "id": "5307868b-5884-4f52-812b-f87555fa36c7",
   "metadata": {
    "tags": []
   },
   "outputs": [
    {
     "name": "stdout",
     "output_type": "stream",
     "text": [
      "Num GPUs Available:  0\n"
     ]
    }
   ],
   "source": [
    "print(\"Num GPUs Available: \", len(tf.config.list_physical_devices('GPU')))"
   ]
  },
  {
   "cell_type": "code",
   "execution_count": 3,
   "id": "56cf6199-a38b-4b36-929b-0ee974aeb1ad",
   "metadata": {
    "tags": []
   },
   "outputs": [],
   "source": [
    "(X_train, y_train), (X_test, y_test) = tf.keras.datasets.mnist.load_data()\n",
    "X_train, X_test = X_train / 255.0, X_test / 255.0"
   ]
  },
  {
   "cell_type": "code",
   "execution_count": 5,
   "id": "4476c3fa-dfbe-43db-ba80-d85e0060582e",
   "metadata": {
    "tags": []
   },
   "outputs": [],
   "source": [
    "def prepare_federated_data(federated_dataset, batch_size, num_steps_until_rtc_check, seed=None):\n",
    "    def process_client_dataset(_client_dataset, _batch_size, _num_steps_until_rtc_check, _seed):\n",
    "        shuffle_size = _client_dataset.cardinality()  # Uniform shuffling\n",
    "        return _client_dataset.shuffle(shuffle_size, seed=_seed).batch(_batch_size)\n",
    "    \n",
    "        #return _client_dataset.shuffle(shuffle_size, seed=_seed).repeat().batch(_batch_size) \\\n",
    "        #    .take(_num_steps_until_rtc_check)\n",
    "\n",
    "    federated_dataset_prepared = [\n",
    "        process_client_dataset(client_dataset, batch_size, num_steps_until_rtc_check, seed)\n",
    "        for client_dataset in federated_dataset\n",
    "    ]\n",
    "    return federated_dataset_prepared\n",
    "\n",
    "\n",
    "def create_unbiased_federated_data(X_train, y_train, num_clients):\n",
    "    train_dataset = tf.data.Dataset.from_tensor_slices((X_train, y_train))\n",
    "\n",
    "    # Shard the data across clients CLIENT LEVEL\n",
    "    unbiased_federated_dataset = [\n",
    "        train_dataset.shard(num_clients, i)\n",
    "        for i in range(num_clients)\n",
    "    ]\n",
    "\n",
    "    return unbiased_federated_dataset\n",
    "\n",
    "\n",
    "def create_unbiased_federated_data2(X_train, y_train, num_clients):\n",
    "    \n",
    "    X_train_unbiased_lst = np.array_split(X_train, num_clients)\n",
    "    y_train_unbiased_lst = np.array_split(y_train, num_clients)\n",
    "    \n",
    "    unbiased_federated_dataset = [\n",
    "        tf.data.Dataset.from_tensor_slices((X_train, y_train))\n",
    "        for X_train, y_train in zip(X_train_unbiased_lst, y_train_unbiased_lst)\n",
    "    ]\n",
    "\n",
    "    return unbiased_federated_dataset"
   ]
  },
  {
   "cell_type": "code",
   "execution_count": 6,
   "id": "ba8302e7-4521-435b-801f-0228f4a94853",
   "metadata": {
    "tags": []
   },
   "outputs": [],
   "source": [
    "n = 20"
   ]
  },
  {
   "cell_type": "code",
   "execution_count": 7,
   "id": "c4804262-d184-48c2-a7a8-a48bf23d2fc8",
   "metadata": {
    "tags": []
   },
   "outputs": [],
   "source": [
    "unbiased_ds = create_unbiased_federated_data(X_train, y_train, n)"
   ]
  },
  {
   "cell_type": "code",
   "execution_count": 8,
   "id": "1046baea-2b70-45ab-9815-537cd02cd13b",
   "metadata": {
    "tags": []
   },
   "outputs": [],
   "source": [
    "unbiased_ds2 = create_unbiased_federated_data2(X_train, y_train, n)"
   ]
  },
  {
   "cell_type": "code",
   "execution_count": 9,
   "id": "aba895a4-7627-419f-a8cf-0acd1c781911",
   "metadata": {
    "tags": []
   },
   "outputs": [],
   "source": [
    "fed_unbiased = prepare_federated_data(unbiased_ds, 32, 1)"
   ]
  },
  {
   "cell_type": "code",
   "execution_count": 10,
   "id": "958ca702-60d2-4e2b-be9a-896ec9ce3831",
   "metadata": {
    "tags": []
   },
   "outputs": [],
   "source": [
    "fed_unbiased2 = prepare_federated_data(unbiased_ds2, 32, 1)"
   ]
  },
  {
   "cell_type": "code",
   "execution_count": null,
   "id": "2d105357-1fb5-426f-8ebc-5a48af03aaa6",
   "metadata": {},
   "outputs": [],
   "source": []
  },
  {
   "cell_type": "code",
   "execution_count": 11,
   "id": "98a71796-7d70-4362-8f52-a71cb4f223c0",
   "metadata": {
    "tags": []
   },
   "outputs": [
    {
     "data": {
      "text/plain": [
       "93.75"
      ]
     },
     "execution_count": 11,
     "metadata": {},
     "output_type": "execute_result"
    }
   ],
   "source": [
    "60_000 / (20 * 32)"
   ]
  },
  {
   "cell_type": "code",
   "execution_count": 12,
   "id": "7f934dd5-02fc-4209-81a7-3d09c5590dd1",
   "metadata": {
    "tags": []
   },
   "outputs": [],
   "source": [
    "worker1_ds = fed_unbiased[0]\n",
    "worker2_ds = fed_unbiased2[0]"
   ]
  },
  {
   "cell_type": "code",
   "execution_count": 15,
   "id": "e6786e96-75f3-4125-8b8f-f42aa0d8cad4",
   "metadata": {
    "tags": []
   },
   "outputs": [
    {
     "name": "stdout",
     "output_type": "stream",
     "text": [
      "\n",
      "************ Summary ************\n",
      "\n"
     ]
    },
    {
     "name": "stderr",
     "output_type": "stream",
     "text": [
      "100%|██████████████████████████████████████████████████████████████████████████████████████████████████████████████████████████████████████| 94/94 [00:00<00:00, 783.40it/s]"
     ]
    },
    {
     "name": "stdout",
     "output_type": "stream",
     "text": [
      "Examples/sec (First included) 772.89 ex/sec (total: 95 ex, 0.12 sec)\n",
      "Examples/sec (First only) 10.06 ex/sec (total: 1 ex, 0.10 sec)\n",
      "Examples/sec (First excluded) 3993.98 ex/sec (total: 94 ex, 0.02 sec)\n"
     ]
    },
    {
     "name": "stderr",
     "output_type": "stream",
     "text": [
      "\n"
     ]
    },
    {
     "data": {
      "text/html": [
       "<strong>BenchmarkResult:</strong><br/><div>\n",
       "<style scoped>\n",
       "    .dataframe tbody tr th:only-of-type {\n",
       "        vertical-align: middle;\n",
       "    }\n",
       "\n",
       "    .dataframe tbody tr th {\n",
       "        vertical-align: top;\n",
       "    }\n",
       "\n",
       "    .dataframe thead th {\n",
       "        text-align: right;\n",
       "    }\n",
       "</style>\n",
       "<table border=\"1\" class=\"dataframe\">\n",
       "  <thead>\n",
       "    <tr style=\"text-align: right;\">\n",
       "      <th></th>\n",
       "      <th>duration</th>\n",
       "      <th>num_examples</th>\n",
       "      <th>avg</th>\n",
       "    </tr>\n",
       "  </thead>\n",
       "  <tbody>\n",
       "    <tr>\n",
       "      <th>first+lasts</th>\n",
       "      <td>0.122916</td>\n",
       "      <td>95</td>\n",
       "      <td>772.886868</td>\n",
       "    </tr>\n",
       "    <tr>\n",
       "      <th>first</th>\n",
       "      <td>0.099380</td>\n",
       "      <td>1</td>\n",
       "      <td>10.062347</td>\n",
       "    </tr>\n",
       "    <tr>\n",
       "      <th>lasts</th>\n",
       "      <td>0.023535</td>\n",
       "      <td>94</td>\n",
       "      <td>3993.984889</td>\n",
       "    </tr>\n",
       "  </tbody>\n",
       "</table>\n",
       "</div>"
      ],
      "text/plain": [
       "BenchmarkResult(stats=             duration  num_examples          avg\n",
       "first+lasts  0.122916            95   772.886868\n",
       "first        0.099380             1    10.062347\n",
       "lasts        0.023535            94  3993.984889, raw_stats=                      duration\n",
       "start_time        10337.783934\n",
       "first_batch_time  10337.883315\n",
       "end_time          10337.906850\n",
       "num_iter             94.000000)"
      ]
     },
     "execution_count": 15,
     "metadata": {},
     "output_type": "execute_result"
    }
   ],
   "source": [
    "tfds.benchmark(worker1_ds)"
   ]
  },
  {
   "cell_type": "code",
   "execution_count": 16,
   "id": "0d560004-5341-4830-a172-b352e5685f25",
   "metadata": {
    "tags": []
   },
   "outputs": [
    {
     "name": "stdout",
     "output_type": "stream",
     "text": [
      "\n",
      "************ Summary ************\n",
      "\n"
     ]
    },
    {
     "name": "stderr",
     "output_type": "stream",
     "text": [
      "100%|█████████████████████████████████████████████████████████████████████████████████████████████████████████████████████████████████████| 94/94 [00:00<00:00, 3508.22it/s]"
     ]
    },
    {
     "name": "stdout",
     "output_type": "stream",
     "text": [
      "Examples/sec (First included) 3251.90 ex/sec (total: 95 ex, 0.03 sec)\n",
      "Examples/sec (First only) 104.67 ex/sec (total: 1 ex, 0.01 sec)\n",
      "Examples/sec (First excluded) 4781.23 ex/sec (total: 94 ex, 0.02 sec)\n"
     ]
    },
    {
     "name": "stderr",
     "output_type": "stream",
     "text": [
      "\n"
     ]
    },
    {
     "data": {
      "text/html": [
       "<strong>BenchmarkResult:</strong><br/><div>\n",
       "<style scoped>\n",
       "    .dataframe tbody tr th:only-of-type {\n",
       "        vertical-align: middle;\n",
       "    }\n",
       "\n",
       "    .dataframe tbody tr th {\n",
       "        vertical-align: top;\n",
       "    }\n",
       "\n",
       "    .dataframe thead th {\n",
       "        text-align: right;\n",
       "    }\n",
       "</style>\n",
       "<table border=\"1\" class=\"dataframe\">\n",
       "  <thead>\n",
       "    <tr style=\"text-align: right;\">\n",
       "      <th></th>\n",
       "      <th>duration</th>\n",
       "      <th>num_examples</th>\n",
       "      <th>avg</th>\n",
       "    </tr>\n",
       "  </thead>\n",
       "  <tbody>\n",
       "    <tr>\n",
       "      <th>first+lasts</th>\n",
       "      <td>0.029214</td>\n",
       "      <td>95</td>\n",
       "      <td>3251.903724</td>\n",
       "    </tr>\n",
       "    <tr>\n",
       "      <th>first</th>\n",
       "      <td>0.009553</td>\n",
       "      <td>1</td>\n",
       "      <td>104.674118</td>\n",
       "    </tr>\n",
       "    <tr>\n",
       "      <th>lasts</th>\n",
       "      <td>0.019660</td>\n",
       "      <td>94</td>\n",
       "      <td>4781.233881</td>\n",
       "    </tr>\n",
       "  </tbody>\n",
       "</table>\n",
       "</div>"
      ],
      "text/plain": [
       "BenchmarkResult(stats=             duration  num_examples          avg\n",
       "first+lasts  0.029214            95  3251.903724\n",
       "first        0.009553             1   104.674118\n",
       "lasts        0.019660            94  4781.233881, raw_stats=                      duration\n",
       "start_time        10337.924296\n",
       "first_batch_time  10337.933849\n",
       "end_time          10337.953510\n",
       "num_iter             94.000000)"
      ]
     },
     "execution_count": 16,
     "metadata": {},
     "output_type": "execute_result"
    }
   ],
   "source": [
    "tfds.benchmark(worker2_ds)"
   ]
  },
  {
   "cell_type": "code",
   "execution_count": null,
   "id": "ed5c470c-b01d-45bd-bea6-205dcf597cc0",
   "metadata": {},
   "outputs": [],
   "source": []
  },
  {
   "cell_type": "code",
   "execution_count": null,
   "id": "92018e5d-fb3d-4ef5-a609-d041d0483486",
   "metadata": {},
   "outputs": [],
   "source": []
  },
  {
   "cell_type": "code",
   "execution_count": null,
   "id": "d6b9f62e-75fd-4144-a8bb-24649e1759e3",
   "metadata": {},
   "outputs": [],
   "source": []
  },
  {
   "cell_type": "code",
   "execution_count": null,
   "id": "a596af64-9b4f-43ba-b74e-068de3a1f05f",
   "metadata": {},
   "outputs": [],
   "source": []
  },
  {
   "cell_type": "code",
   "execution_count": null,
   "id": "1c8c9269-443d-4627-927c-11bf5535c302",
   "metadata": {},
   "outputs": [],
   "source": []
  },
  {
   "cell_type": "code",
   "execution_count": null,
   "id": "2a0bba58-6fa4-4191-8503-d7a7a8916924",
   "metadata": {},
   "outputs": [],
   "source": []
  },
  {
   "cell_type": "code",
   "execution_count": null,
   "id": "9e15339b-8274-4079-b37b-75676c6f9b39",
   "metadata": {},
   "outputs": [],
   "source": []
  },
  {
   "cell_type": "code",
   "execution_count": null,
   "id": "111db256-9674-4086-8279-e85926574aac",
   "metadata": {},
   "outputs": [],
   "source": []
  },
  {
   "cell_type": "code",
   "execution_count": null,
   "id": "ddcfe7ad-9427-4233-a805-61f9a6330e71",
   "metadata": {},
   "outputs": [],
   "source": []
  },
  {
   "cell_type": "code",
   "execution_count": null,
   "id": "a2d8d59c-e39c-496e-ba03-718cf57c0d8a",
   "metadata": {},
   "outputs": [],
   "source": [
    "def mnist_dataset_local_file(n, i, total_num_of_samples):\n",
    "    \n",
    "    (X_train, y_train), (X_test, y_test) = tf.keras.datasets.mnist.load_data()\n",
    "\n",
    "    # This must change if you want to read file in chunks\n",
    "    data = (X_train, y_train)\n",
    "\n",
    "    x_train = data.iloc[:, 1:].values.astype(np.float32)\n",
    "    x_train = np.reshape(x_train,(total_num_of_samples, 28, 28))\n",
    "    x_train = x_train / np.float32(255)\n",
    "\n",
    "    y_train = data.iloc[:, 0].values.astype(np.int64)\n",
    "\n",
    "    shard_size = x_train.shape[0] // n    \n",
    "    print(f\"data for worker:{i}\")\n",
    "\n",
    "    x_train = x_train[shard_size * i : shard_size * (i + 1)]\n",
    "    y_train = y_train[shard_size * i : shard_size * (i + 1)]\n",
    "\n",
    "    x_train_size = len(x_train)\n",
    "    train_dataset = tf.data.Dataset.from_tensor_slices(\n",
    "    (x_train, y_train)) #.shuffle(x_train_size)\n",
    "\n",
    "    return train_dataset\n",
    "\n",
    "def dataset_fn(global_batch_size, n, i, batch_size):\n",
    "    #dataset = mnist_dataset(input_context.num_input_pipelines) \n",
    "    dataset = mnist_dataset_local_file(input_context, 60000)\n",
    "\n",
    "    dataset = dataset.batch(batch_size)\n",
    "    return dataset"
   ]
  },
  {
   "cell_type": "code",
   "execution_count": null,
   "id": "487e4b6b-1632-47a8-9483-de7f362f98f4",
   "metadata": {},
   "outputs": [],
   "source": []
  },
  {
   "cell_type": "code",
   "execution_count": null,
   "id": "7fe21404-21ed-40b4-8492-e75259a2d943",
   "metadata": {},
   "outputs": [],
   "source": []
  },
  {
   "cell_type": "code",
   "execution_count": null,
   "id": "8ede37f2-e3cf-43f3-8c13-fc3100224930",
   "metadata": {},
   "outputs": [],
   "source": []
  },
  {
   "cell_type": "code",
   "execution_count": null,
   "id": "2745e497-3258-4757-8fc7-bc07dd5d29b6",
   "metadata": {},
   "outputs": [],
   "source": []
  },
  {
   "cell_type": "code",
   "execution_count": null,
   "id": "42619ab0-15b1-47bc-b219-3d4028aa7ef2",
   "metadata": {},
   "outputs": [],
   "source": []
  },
  {
   "cell_type": "code",
   "execution_count": null,
   "id": "d483d13c-6872-4c6e-88b4-54576b666a4e",
   "metadata": {},
   "outputs": [],
   "source": []
  },
  {
   "cell_type": "code",
   "execution_count": null,
   "id": "788b04e5-20d4-421b-a33c-628d19956936",
   "metadata": {},
   "outputs": [],
   "source": []
  },
  {
   "cell_type": "code",
   "execution_count": null,
   "id": "72106e27-a69f-41a4-b89f-3be3fc6878c6",
   "metadata": {},
   "outputs": [],
   "source": []
  },
  {
   "cell_type": "code",
   "execution_count": null,
   "id": "903a35a6-5e48-4a81-ada6-858ff85589c1",
   "metadata": {},
   "outputs": [],
   "source": []
  },
  {
   "cell_type": "code",
   "execution_count": 1,
   "id": "03d0b403-ded9-40e6-bf1d-6de65e25c06a",
   "metadata": {
    "tags": []
   },
   "outputs": [],
   "source": [
    "l1 = [1, 2, 4, 5]\n",
    "l2 = [1, 2, 4, 5]"
   ]
  },
  {
   "cell_type": "code",
   "execution_count": 2,
   "id": "a3ffe530-7f54-419d-96a2-43c7b1afa5f6",
   "metadata": {
    "tags": []
   },
   "outputs": [],
   "source": [
    "x = zip(l1, l2)"
   ]
  },
  {
   "cell_type": "code",
   "execution_count": 3,
   "id": "61925499-e85f-4745-8072-0c08ff49d20b",
   "metadata": {
    "tags": []
   },
   "outputs": [
    {
     "data": {
      "text/plain": [
       "<zip at 0x7f53a3e4e940>"
      ]
     },
     "execution_count": 3,
     "metadata": {},
     "output_type": "execute_result"
    }
   ],
   "source": [
    "x"
   ]
  },
  {
   "cell_type": "code",
   "execution_count": 6,
   "id": "45e73254-dad4-45fc-b319-478944fbe1f1",
   "metadata": {
    "tags": []
   },
   "outputs": [
    {
     "data": {
      "text/plain": [
       "(4, 4)"
      ]
     },
     "execution_count": 6,
     "metadata": {},
     "output_type": "execute_result"
    }
   ],
   "source": [
    "next(x)"
   ]
  },
  {
   "cell_type": "code",
   "execution_count": null,
   "id": "790043f6-c41a-474f-8564-9206ed7873a8",
   "metadata": {},
   "outputs": [],
   "source": []
  }
 ],
 "metadata": {
  "kernelspec": {
   "display_name": "Python [conda env:tf-2.13]",
   "language": "python",
   "name": "conda-env-tf-2.13-py"
  },
  "language_info": {
   "codemirror_mode": {
    "name": "ipython",
    "version": 3
   },
   "file_extension": ".py",
   "mimetype": "text/x-python",
   "name": "python",
   "nbconvert_exporter": "python",
   "pygments_lexer": "ipython3",
   "version": "3.11.5"
  }
 },
 "nbformat": 4,
 "nbformat_minor": 5
}
