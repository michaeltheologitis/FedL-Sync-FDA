{
 "cells": [
  {
   "cell_type": "code",
   "execution_count": 6,
   "id": "81186eca-f765-4b7e-958d-47f97216651a",
   "metadata": {
    "tags": []
   },
   "outputs": [],
   "source": [
    "import os\n",
    "\n",
    "os.environ['TF_CPP_MIN_LOG_LEVEL'] = '3'\n",
    "\n",
    "import tensorflow as tf\n",
    "import numpy as np\n",
    "import random"
   ]
  },
  {
   "cell_type": "code",
   "execution_count": 29,
   "id": "56c84aab-c013-4826-ad70-e7d413ee80bf",
   "metadata": {
    "tags": []
   },
   "outputs": [],
   "source": [
    "n = 60\n",
    "l = [tf.constant(random.randint(1, 100)) for _ in range(n)]"
   ]
  },
  {
   "cell_type": "code",
   "execution_count": 30,
   "id": "9e494b4a-48d0-456d-aa50-da3f94e1cdb6",
   "metadata": {
    "tags": []
   },
   "outputs": [
    {
     "name": "stdout",
     "output_type": "stream",
     "text": [
      "2.41 ms ± 79.2 µs per loop (mean ± std. dev. of 7 runs, 100 loops each)\n"
     ]
    }
   ],
   "source": [
    "%%timeit\n",
    "max(l)"
   ]
  },
  {
   "cell_type": "code",
   "execution_count": 31,
   "id": "717728d6-3d7f-49f7-896f-48a3ee6a5d38",
   "metadata": {
    "tags": []
   },
   "outputs": [
    {
     "name": "stdout",
     "output_type": "stream",
     "text": [
      "501 µs ± 51.5 µs per loop (mean ± std. dev. of 7 runs, 1,000 loops each)\n"
     ]
    }
   ],
   "source": [
    "%%timeit\n",
    "tf.math.reduce_max(l)"
   ]
  },
  {
   "cell_type": "code",
   "execution_count": 32,
   "id": "ad47a2e7-0460-47bb-9aff-af5189d80d45",
   "metadata": {
    "tags": []
   },
   "outputs": [
    {
     "name": "stdout",
     "output_type": "stream",
     "text": [
      "505 µs ± 37 µs per loop (mean ± std. dev. of 7 runs, 1,000 loops each)\n"
     ]
    }
   ],
   "source": [
    "%%timeit\n",
    "tf.reduce_max(l)"
   ]
  },
  {
   "cell_type": "code",
   "execution_count": 25,
   "id": "d771465b-a5f5-426d-841d-181751469ccf",
   "metadata": {
    "tags": []
   },
   "outputs": [
    {
     "name": "stdout",
     "output_type": "stream",
     "text": [
      "52.1 µs ± 914 ns per loop (mean ± std. dev. of 7 runs, 10,000 loops each)\n"
     ]
    }
   ],
   "source": [
    "%%timeit\n",
    "max([x.numpy() for x in l])"
   ]
  },
  {
   "cell_type": "code",
   "execution_count": 27,
   "id": "5d4baf36-d344-406f-bc66-1ef936681a47",
   "metadata": {
    "tags": []
   },
   "outputs": [
    {
     "data": {
      "text/plain": [
       "<tf.Tensor: shape=(), dtype=int32, numpy=98>"
      ]
     },
     "execution_count": 27,
     "metadata": {},
     "output_type": "execute_result"
    }
   ],
   "source": [
    "tf.math.reduce_max(l)"
   ]
  },
  {
   "cell_type": "code",
   "execution_count": 28,
   "id": "aca5c641-524f-4f78-9e52-3d7a8b79dc42",
   "metadata": {
    "tags": []
   },
   "outputs": [
    {
     "data": {
      "text/plain": [
       "98"
      ]
     },
     "execution_count": 28,
     "metadata": {},
     "output_type": "execute_result"
    }
   ],
   "source": [
    "max([x.numpy() for x in l])"
   ]
  },
  {
   "cell_type": "code",
   "execution_count": null,
   "id": "2b392540-4a5c-411c-8a0d-313f9ada8545",
   "metadata": {},
   "outputs": [],
   "source": []
  }
 ],
 "metadata": {
  "kernelspec": {
   "display_name": "Python [conda env:tf-2.13]",
   "language": "python",
   "name": "conda-env-tf-2.13-py"
  },
  "language_info": {
   "codemirror_mode": {
    "name": "ipython",
    "version": 3
   },
   "file_extension": ".py",
   "mimetype": "text/x-python",
   "name": "python",
   "nbconvert_exporter": "python",
   "pygments_lexer": "ipython3",
   "version": "3.11.5"
  }
 },
 "nbformat": 4,
 "nbformat_minor": 5
}
