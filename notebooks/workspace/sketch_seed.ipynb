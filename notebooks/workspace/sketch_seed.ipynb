{
 "cells": [
  {
   "cell_type": "code",
   "execution_count": 2,
   "id": "1c187d90-24f4-47b1-810f-7ce5450df50b",
   "metadata": {
    "tags": []
   },
   "outputs": [],
   "source": [
    "import logging\n",
    "logging.getLogger(\"tensorflow\").setLevel(logging.ERROR)\n",
    "\n",
    "import os\n",
    "import tensorflow as tf\n",
    "import numpy as np"
   ]
  },
  {
   "cell_type": "code",
   "execution_count": 39,
   "id": "8a34a812-37a7-41e4-9a21-2ffc714a9612",
   "metadata": {
    "tags": []
   },
   "outputs": [],
   "source": [
    "class AmsSketch:\n",
    "    \"\"\"\n",
    "    AMS Sketch class for approximate second moment estimation.\n",
    "    \"\"\"\n",
    "\n",
    "    def __init__(self, depth=5, width=250, with_seed=False):\n",
    "        self.depth = tf.constant(depth)\n",
    "        self.width = tf.constant(width)\n",
    "        \n",
    "        if with_seed:\n",
    "            self.F = tf.random.stateless_uniform(shape=(6, depth), minval=0, maxval=(1 << 31) - 1, dtype=tf.int32, seed=(1, 2))\n",
    "        else:\n",
    "            self.F = tf.random.uniform(shape=(6, depth), minval=0, maxval=(1 << 31) - 1, dtype=tf.int32)\n",
    "            \n",
    "        self.zeros_sketch = tf.zeros(shape=(self.depth, self.width), dtype=tf.float32)\n",
    "\n",
    "        self.precomputed_dict = {}\n",
    "\n",
    "    def precompute(self, d):\n",
    "        pos_tensor = self.tensor_hash31(tf.range(d), self.F[0], self.F[1]) % self.width  # shape=(d, 5)\n",
    "\n",
    "        self.precomputed_dict[('four', d)] = tf.cast(self.tensor_fourwise(tf.range(d)),\n",
    "                                                     dtype=tf.float32)  # shape=(d, 5)\n",
    "\n",
    "        range_tensor = tf.range(self.depth)  # shape=(5,)\n",
    "\n",
    "        # Expand dimensions to create a 2D tensor with shape (1, `self.depth`)\n",
    "        range_tensor_expanded = tf.expand_dims(range_tensor, 0)  # shape=(1, 5)\n",
    "\n",
    "        # Use tf.tile to repeat the range `d` times\n",
    "        repeated_range_tensor = tf.tile(range_tensor_expanded, [d, 1])  # shape=(d, 5)\n",
    "\n",
    "        # shape=(`d`, `self.depth`, 2)\n",
    "        self.precomputed_dict[('indices', d)] = tf.stack([repeated_range_tensor, pos_tensor],\n",
    "                                                         axis=-1)  # shape=(d, 5, 2)\n",
    "\n",
    "    @staticmethod\n",
    "    def hash31(x, a, b):\n",
    "        r = a * x + b\n",
    "        fold = tf.bitwise.bitwise_xor(tf.bitwise.right_shift(r, 31), r)\n",
    "        return tf.bitwise.bitwise_and(fold, 2147483647)\n",
    "\n",
    "    @staticmethod\n",
    "    def tensor_hash31(x, a, b):  # GOOD\n",
    "        \"\"\" Assumed that x is tensor shaped (d,) , i.e., a vector (for example, indices, i.e., tf.range(d)) \"\"\"\n",
    "\n",
    "        # Reshape x to have an extra dimension, resulting in a shape of (k, 1)\n",
    "        x_reshaped = tf.expand_dims(x, axis=-1)\n",
    "\n",
    "        # shape=(`v_dim`, 7)\n",
    "        r = tf.multiply(a, x_reshaped) + b\n",
    "\n",
    "        fold = tf.bitwise.bitwise_xor(tf.bitwise.right_shift(r, 31), r)\n",
    "\n",
    "        return tf.bitwise.bitwise_and(fold, 2147483647)\n",
    "\n",
    "    def tensor_fourwise(self, x):\n",
    "        \"\"\" Assumed that x is tensor shaped (d,) , i.e., a vector (for example, indices, i.e., tf.range(d)) \"\"\"\n",
    "\n",
    "        # 1st use the tensor hash31\n",
    "        in1 = self.tensor_hash31(x, self.F[2], self.F[3])  # shape = (`x_dim`,  `self.depth`)\n",
    "\n",
    "        # 2st use the tensor hash31\n",
    "        in2 = self.tensor_hash31(x, in1, self.F[4])  # shape = (`x_dim`,  `self.depth`)\n",
    "\n",
    "        # 3rd use the tensor hash31\n",
    "        in3 = self.tensor_hash31(x, in2, self.F[5])  # shape = (`x_dim`,  `self.depth`)\n",
    "\n",
    "        in4 = tf.bitwise.bitwise_and(in3, 32768)  # shape = (`x_dim`,  `self.depth`)\n",
    "\n",
    "        return 2 * (tf.bitwise.right_shift(in4, 15)) - 1  # shape = (`x_dim`,  `self.depth`)\n",
    "\n",
    "    def fourwise(self, x):\n",
    "        result = 2 * (tf.bitwise.right_shift(tf.bitwise.bitwise_and(\n",
    "            self.hash31(self.hash31(self.hash31(x, self.F[2], self.F[3]), x, self.F[4]), x, self.F[5]), 32768), 15)) - 1\n",
    "        return result\n",
    "\n",
    "    def sketch_for_vector(self, v):\n",
    "        \"\"\" Extremely efficient computation of sketch with only using tensors.\n",
    "\n",
    "        Args:\n",
    "        - v (tf.Tensor): Vector to sketch. Shape=(d,).\n",
    "\n",
    "        Returns:\n",
    "        - tf.Tensor: An AMS - Sketch. Shape=(`depth`, `width`).\n",
    "        \"\"\"\n",
    "\n",
    "        d = v.shape[0]\n",
    "\n",
    "        if ('four', d) not in self.precomputed_dict:\n",
    "            self.precompute(d)\n",
    "\n",
    "        return self._sketch_for_vector(v, self.precomputed_dict[('four', d)], self.precomputed_dict[('indices', d)])\n",
    "\n",
    "    @tf.function\n",
    "    def _sketch_for_vector(self, v, four, indices):\n",
    "        v_expand = tf.expand_dims(v, axis=-1)  # shape=(d, 1)\n",
    "\n",
    "        # shape=(d, 5): +- for each value v_i , i = 1, ..., d\n",
    "        deltas_tensor = tf.multiply(four, v_expand)\n",
    "\n",
    "        sketch = tf.tensor_scatter_nd_add(self.zeros_sketch, indices, deltas_tensor)  # shape=(5, 250)\n",
    "\n",
    "        return sketch\n",
    "\n",
    "    @staticmethod\n",
    "    def estimate_euc_norm_squared(sketch):\n",
    "        \"\"\" Estimate the Euclidean norm squared of a vector using its AMS sketch.\n",
    "\n",
    "        Args:\n",
    "        - sketch (tf.Tensor): AMS sketch of a vector. Shape=(`depth`, `width`).\n",
    "\n",
    "        Returns:\n",
    "        - tf.Tensor: Estimated squared Euclidean norm.\n",
    "        \"\"\"\n",
    "\n",
    "        norm_sq_rows = tf.reduce_sum(tf.square(sketch), axis=1)\n",
    "        return np.median(norm_sq_rows)"
   ]
  },
  {
   "cell_type": "code",
   "execution_count": null,
   "id": "680a4a30-8307-49eb-8354-ac26b11d9e99",
   "metadata": {},
   "outputs": [],
   "source": []
  },
  {
   "cell_type": "code",
   "execution_count": null,
   "id": "7a3de1c1-c0ee-49d0-ae43-ec7e6114fb94",
   "metadata": {},
   "outputs": [],
   "source": []
  },
  {
   "cell_type": "code",
   "execution_count": 32,
   "id": "242eaeb7-7c7b-478a-a615-914d04811206",
   "metadata": {
    "tags": []
   },
   "outputs": [
    {
     "data": {
      "text/plain": [
       "<tf.Tensor: shape=(6, 250), dtype=int32, numpy=\n",
       "array([[1410560183, 1907384848, 1827937125, ..., 1331422091,   27810037,\n",
       "         546561963],\n",
       "       [ 613211234, 1919293827,  526580420, ..., 1906185497,  712411972,\n",
       "         438014311],\n",
       "       [1209732390,  283849182,  505917244, ...,   92051480,  902810865,\n",
       "        1141802837],\n",
       "       [ 484906441,  517211724, 1520503281, ...,  972311044, 1674748914,\n",
       "        1678547307],\n",
       "       [  14692046, 1753925916, 1789949480, ...,  260130179,  306354629,\n",
       "         133210961],\n",
       "       [ 155437793, 1199598632, 1143681153, ...,  217408221, 1899174095,\n",
       "          64727188]], dtype=int32)>"
      ]
     },
     "execution_count": 32,
     "metadata": {},
     "output_type": "execute_result"
    }
   ],
   "source": [
    "tf.random.uniform(shape=(6, 250), minval=0, maxval=(1 << 31) - 1, dtype=tf.int32)"
   ]
  },
  {
   "cell_type": "code",
   "execution_count": 37,
   "id": "cb6c7b10-e96c-4a3c-a0f4-b6897e01cfe7",
   "metadata": {
    "tags": []
   },
   "outputs": [
    {
     "data": {
      "text/plain": [
       "<tf.Tensor: shape=(6, 250), dtype=int32, numpy=\n",
       "array([[1105988140, 1738052849, 1811907647, ...,  989478327,  628720460,\n",
       "         579147759],\n",
       "       [1858208210, 1188421655,  448884013, ..., 1882590668,  987193485,\n",
       "        1639371654],\n",
       "       [2109818543, 1346033867,   47518302, ..., 2050294505,  776851798,\n",
       "         686051164],\n",
       "       [1489305460,  476799945, 1354703521, ..., 1850962211, 2076744425,\n",
       "         737011359],\n",
       "       [1820924812,  579203535, 1225972498, ..., 1336018225, 2135331679,\n",
       "         308569661],\n",
       "       [2126544770,  826392160,  365741576, ..., 1267200896,  797299305,\n",
       "        1884681349]], dtype=int32)>"
      ]
     },
     "execution_count": 37,
     "metadata": {},
     "output_type": "execute_result"
    }
   ],
   "source": [
    "tf.random.stateless_uniform(shape=(6, 250), minval=0, maxval=(1 << 31) - 1, dtype=tf.int32, seed=(1, 2))"
   ]
  },
  {
   "cell_type": "code",
   "execution_count": null,
   "id": "1ca878c7-8b1f-410a-a9e8-eab1b2ae2312",
   "metadata": {},
   "outputs": [],
   "source": []
  },
  {
   "cell_type": "code",
   "execution_count": null,
   "id": "ee62f04f-db0e-456e-aaf9-36bd18c108d0",
   "metadata": {},
   "outputs": [],
   "source": []
  },
  {
   "cell_type": "code",
   "execution_count": 29,
   "id": "27a990a4-f344-4e57-a596-15f80315022a",
   "metadata": {
    "tags": []
   },
   "outputs": [],
   "source": [
    "tf.random.set_seed(None)"
   ]
  },
  {
   "cell_type": "code",
   "execution_count": 48,
   "id": "3155e803-abf3-4131-8c84-213e66c8121c",
   "metadata": {
    "tags": []
   },
   "outputs": [],
   "source": [
    "v1 = tf.random.uniform(shape=(d,))"
   ]
  },
  {
   "cell_type": "code",
   "execution_count": 41,
   "id": "6e89337f-3577-430e-a3e7-d16a00ee725e",
   "metadata": {
    "tags": []
   },
   "outputs": [],
   "source": [
    "d = 1000"
   ]
  },
  {
   "cell_type": "code",
   "execution_count": 42,
   "id": "b795f6c0-48f0-4d88-bcfa-672675e98a74",
   "metadata": {
    "tags": []
   },
   "outputs": [],
   "source": [
    "s1 = AmsSketch(with_seed=True)"
   ]
  },
  {
   "cell_type": "code",
   "execution_count": 43,
   "id": "85adb04e-def7-45c0-b790-523e07feee00",
   "metadata": {
    "tags": []
   },
   "outputs": [],
   "source": [
    "s2 = AmsSketch(with_seed=True)"
   ]
  },
  {
   "cell_type": "code",
   "execution_count": 44,
   "id": "7c0274e2-1c89-4ab7-8890-ec1b3f18e63a",
   "metadata": {
    "tags": []
   },
   "outputs": [],
   "source": [
    "s1.precompute(d)"
   ]
  },
  {
   "cell_type": "code",
   "execution_count": 45,
   "id": "68a6b32f-bce0-441a-8d70-b4c9d3a92075",
   "metadata": {
    "tags": []
   },
   "outputs": [],
   "source": [
    "s2.precompute(d)"
   ]
  },
  {
   "cell_type": "code",
   "execution_count": 46,
   "id": "05af42d8-9411-421d-823b-50f4b18bb77f",
   "metadata": {
    "tags": []
   },
   "outputs": [
    {
     "data": {
      "text/plain": [
       "<tf.Tensor: shape=(), dtype=float32, numpy=0.0>"
      ]
     },
     "execution_count": 46,
     "metadata": {},
     "output_type": "execute_result"
    }
   ],
   "source": [
    "tf.reduce_sum(s1.precomputed_dict[('four', d)] - s2.precomputed_dict[('four', d)])"
   ]
  },
  {
   "cell_type": "code",
   "execution_count": 47,
   "id": "9add56e5-4deb-4472-89a4-dc7d72cac0be",
   "metadata": {
    "tags": []
   },
   "outputs": [
    {
     "data": {
      "text/plain": [
       "<tf.Tensor: shape=(), dtype=int32, numpy=0>"
      ]
     },
     "execution_count": 47,
     "metadata": {},
     "output_type": "execute_result"
    }
   ],
   "source": [
    "tf.reduce_sum(s1.precomputed_dict[('indices', d)] - s2.precomputed_dict[('indices', d)])"
   ]
  },
  {
   "cell_type": "code",
   "execution_count": 49,
   "id": "7b24540c-9f5c-4cc6-8f51-0ac50365d06e",
   "metadata": {
    "tags": []
   },
   "outputs": [],
   "source": [
    "sk1 = s1.sketch_for_vector(v1)"
   ]
  },
  {
   "cell_type": "code",
   "execution_count": 51,
   "id": "cc973cc6-94dc-47e4-944b-fbd13085bc82",
   "metadata": {
    "tags": []
   },
   "outputs": [],
   "source": [
    "sk2 = s2.sketch_for_vector(v1)"
   ]
  },
  {
   "cell_type": "code",
   "execution_count": 52,
   "id": "e454b314-c388-4c6d-ac3a-115ede85ee1d",
   "metadata": {
    "tags": []
   },
   "outputs": [
    {
     "data": {
      "text/plain": [
       "<tf.Tensor: shape=(), dtype=float32, numpy=0.0>"
      ]
     },
     "execution_count": 52,
     "metadata": {},
     "output_type": "execute_result"
    }
   ],
   "source": [
    "tf.reduce_sum(sk1 - sk2)"
   ]
  },
  {
   "cell_type": "code",
   "execution_count": 53,
   "id": "61f798b0-a273-4c99-8452-8e825ea40cb4",
   "metadata": {
    "tags": []
   },
   "outputs": [
    {
     "data": {
      "text/plain": [
       "338.2024"
      ]
     },
     "execution_count": 53,
     "metadata": {},
     "output_type": "execute_result"
    }
   ],
   "source": [
    "AmsSketch.estimate_euc_norm_squared(sk1)"
   ]
  },
  {
   "cell_type": "code",
   "execution_count": 54,
   "id": "a05a4460-a825-4a0d-bc07-91dcdff50afe",
   "metadata": {
    "tags": []
   },
   "outputs": [
    {
     "data": {
      "text/plain": [
       "338.2024"
      ]
     },
     "execution_count": 54,
     "metadata": {},
     "output_type": "execute_result"
    }
   ],
   "source": [
    "AmsSketch.estimate_euc_norm_squared(sk2)"
   ]
  },
  {
   "cell_type": "code",
   "execution_count": null,
   "id": "3f5a2fa5-5609-4355-bf48-bdc990aaf4ac",
   "metadata": {},
   "outputs": [],
   "source": []
  }
 ],
 "metadata": {
  "kernelspec": {
   "display_name": "Python [conda env:tf-2.13]",
   "language": "python",
   "name": "conda-env-tf-2.13-py"
  },
  "language_info": {
   "codemirror_mode": {
    "name": "ipython",
    "version": 3
   },
   "file_extension": ".py",
   "mimetype": "text/x-python",
   "name": "python",
   "nbconvert_exporter": "python",
   "pygments_lexer": "ipython3",
   "version": "3.11.5"
  }
 },
 "nbformat": 4,
 "nbformat_minor": 5
}
