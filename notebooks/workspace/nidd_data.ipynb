{
 "cells": [
  {
   "cell_type": "code",
   "execution_count": 87,
   "id": "86588bb7-ef74-49dd-aeef-f2d5be4fb5b3",
   "metadata": {
    "tags": []
   },
   "outputs": [],
   "source": [
    "import tensorflow as tf\n",
    "\n",
    "import logging\n",
    "logging.getLogger(\"tensorflow\").setLevel(logging.ERROR)"
   ]
  },
  {
   "cell_type": "code",
   "execution_count": 88,
   "id": "cab68fe8-3f1f-4259-a517-a269dc889189",
   "metadata": {
    "tags": []
   },
   "outputs": [],
   "source": [
    "import numpy as np"
   ]
  },
  {
   "cell_type": "code",
   "execution_count": 89,
   "id": "0f207094-31a6-4b16-afc9-d4159ef17bfd",
   "metadata": {
    "tags": []
   },
   "outputs": [],
   "source": [
    "(X_train, y_train), (X_test, y_test) = tf.keras.datasets.mnist.load_data()"
   ]
  },
  {
   "cell_type": "code",
   "execution_count": 90,
   "id": "c60701ea-3c59-4932-b299-aca37dbcff21",
   "metadata": {
    "tags": []
   },
   "outputs": [],
   "source": [
    "# bias\n",
    "b = 0.3"
   ]
  },
  {
   "cell_type": "code",
   "execution_count": 91,
   "id": "123d1d1a-0f5d-43d3-b663-435875da8d74",
   "metadata": {
    "tags": []
   },
   "outputs": [],
   "source": [
    "MNIST_N_TRAIN = 60_000"
   ]
  },
  {
   "cell_type": "code",
   "execution_count": 92,
   "id": "29772c41-6c6b-4d93-8a75-05f47d667e37",
   "metadata": {
    "tags": []
   },
   "outputs": [],
   "source": [
    "mnist_biased_n = int(MNIST_N_TRAIN * 0.3)"
   ]
  },
  {
   "cell_type": "code",
   "execution_count": 93,
   "id": "5b3bb817-205b-4436-9484-a915ab68e471",
   "metadata": {
    "tags": []
   },
   "outputs": [],
   "source": [
    "X_train_biased = X_train[:mnist_biased_n]\n",
    "y_train_biased = y_train[:mnist_biased_n]\n",
    "\n",
    "X_train_unbiased = X_train[mnist_biased_n:]\n",
    "y_train_unbiased = y_train[mnist_biased_n:]"
   ]
  },
  {
   "cell_type": "code",
   "execution_count": 94,
   "id": "6f08dc4c-c086-4d9b-a83e-96b64140e722",
   "metadata": {
    "tags": []
   },
   "outputs": [],
   "source": [
    "sorted_indices = y_train_biased.argsort()\n",
    "\n",
    "X_train_sorted = X_train_biased[sorted_indices]\n",
    "y_train_sorted = y_train_biased[sorted_indices]"
   ]
  },
  {
   "cell_type": "code",
   "execution_count": 95,
   "id": "274d91c8-9e6e-4512-bb09-7d27bafb9b10",
   "metadata": {
    "tags": []
   },
   "outputs": [],
   "source": [
    "num_clients = 10"
   ]
  },
  {
   "cell_type": "code",
   "execution_count": 96,
   "id": "81dd4eed-d6f8-4ff4-897c-886348c64460",
   "metadata": {
    "tags": []
   },
   "outputs": [],
   "source": [
    "X_train_biased_lst = np.array_split(X_train_sorted, num_clients)\n",
    "y_train_biased_lst = np.array_split(y_train_sorted, num_clients)"
   ]
  },
  {
   "cell_type": "code",
   "execution_count": 97,
   "id": "cd74ea33-abde-4009-adbe-1cab01901dc0",
   "metadata": {
    "tags": []
   },
   "outputs": [],
   "source": [
    "X_train_unbiased_lst = np.array_split(X_train_unbiased, num_clients)\n",
    "y_train_unbiased_lst = np.array_split(y_train_unbiased, num_clients)"
   ]
  },
  {
   "cell_type": "code",
   "execution_count": 98,
   "id": "90305e51-2b59-4e5c-a97b-b9f00fb84da3",
   "metadata": {
    "tags": []
   },
   "outputs": [],
   "source": [
    "federated_dataset = []\n",
    "\n",
    "for X_biased, y_biased, X_unbiased, y_unbiased in zip(X_train_biased_lst, y_train_biased_lst, X_train_unbiased_lst, y_train_unbiased_lst):\n",
    "    X_train = np.concatenate((X_biased, X_unbiased))\n",
    "    y_train = np.concatenate((y_biased, y_unbiased))\n",
    "    \n",
    "    federated_dataset.append(\n",
    "        tf.data.Dataset.from_tensor_slices((X_train, y_train))\n",
    "    )"
   ]
  },
  {
   "cell_type": "code",
   "execution_count": 99,
   "id": "ed4d92a6-5a96-402a-9e68-3bdc6cb0f4b3",
   "metadata": {
    "collapsed": true,
    "jupyter": {
     "outputs_hidden": true
    },
    "tags": []
   },
   "outputs": [
    {
     "data": {
      "text/plain": [
       "[<_TensorSliceDataset element_spec=(TensorSpec(shape=(28, 28), dtype=tf.uint8, name=None), TensorSpec(shape=(), dtype=tf.uint8, name=None))>,\n",
       " <_TensorSliceDataset element_spec=(TensorSpec(shape=(28, 28), dtype=tf.uint8, name=None), TensorSpec(shape=(), dtype=tf.uint8, name=None))>,\n",
       " <_TensorSliceDataset element_spec=(TensorSpec(shape=(28, 28), dtype=tf.uint8, name=None), TensorSpec(shape=(), dtype=tf.uint8, name=None))>,\n",
       " <_TensorSliceDataset element_spec=(TensorSpec(shape=(28, 28), dtype=tf.uint8, name=None), TensorSpec(shape=(), dtype=tf.uint8, name=None))>,\n",
       " <_TensorSliceDataset element_spec=(TensorSpec(shape=(28, 28), dtype=tf.uint8, name=None), TensorSpec(shape=(), dtype=tf.uint8, name=None))>,\n",
       " <_TensorSliceDataset element_spec=(TensorSpec(shape=(28, 28), dtype=tf.uint8, name=None), TensorSpec(shape=(), dtype=tf.uint8, name=None))>,\n",
       " <_TensorSliceDataset element_spec=(TensorSpec(shape=(28, 28), dtype=tf.uint8, name=None), TensorSpec(shape=(), dtype=tf.uint8, name=None))>,\n",
       " <_TensorSliceDataset element_spec=(TensorSpec(shape=(28, 28), dtype=tf.uint8, name=None), TensorSpec(shape=(), dtype=tf.uint8, name=None))>,\n",
       " <_TensorSliceDataset element_spec=(TensorSpec(shape=(28, 28), dtype=tf.uint8, name=None), TensorSpec(shape=(), dtype=tf.uint8, name=None))>,\n",
       " <_TensorSliceDataset element_spec=(TensorSpec(shape=(28, 28), dtype=tf.uint8, name=None), TensorSpec(shape=(), dtype=tf.uint8, name=None))>]"
      ]
     },
     "execution_count": 99,
     "metadata": {},
     "output_type": "execute_result"
    }
   ],
   "source": [
    "federated_dataset"
   ]
  },
  {
   "cell_type": "code",
   "execution_count": null,
   "id": "b616e3cb-deb5-4743-8152-110f24bdfe9e",
   "metadata": {},
   "outputs": [],
   "source": []
  },
  {
   "cell_type": "code",
   "execution_count": null,
   "id": "a64ac095-a02d-4132-abef-03daf65b8666",
   "metadata": {},
   "outputs": [],
   "source": []
  },
  {
   "cell_type": "code",
   "execution_count": null,
   "id": "47de8dfe-004c-4f90-845f-fdf2bf0966fd",
   "metadata": {},
   "outputs": [],
   "source": []
  },
  {
   "cell_type": "code",
   "execution_count": null,
   "id": "5ed1db2b-6b2b-46ae-93ff-67c4e344bb1c",
   "metadata": {},
   "outputs": [],
   "source": []
  },
  {
   "cell_type": "code",
   "execution_count": null,
   "id": "80094a7a-e220-4e71-b1fc-76dc66a2730c",
   "metadata": {},
   "outputs": [],
   "source": []
  },
  {
   "cell_type": "code",
   "execution_count": null,
   "id": "055ac863-0646-4911-a0b4-5f3bc5174cdd",
   "metadata": {},
   "outputs": [],
   "source": []
  },
  {
   "cell_type": "code",
   "execution_count": null,
   "id": "1a2ee987-4404-45df-bf96-b4f63783656a",
   "metadata": {},
   "outputs": [],
   "source": []
  },
  {
   "cell_type": "code",
   "execution_count": null,
   "id": "21048fa8-9170-4a78-837d-2b28f75d4e5e",
   "metadata": {},
   "outputs": [],
   "source": []
  }
 ],
 "metadata": {
  "kernelspec": {
   "display_name": "Python [conda env:tf-2.13]",
   "language": "python",
   "name": "conda-env-tf-2.13-py"
  },
  "language_info": {
   "codemirror_mode": {
    "name": "ipython",
    "version": 3
   },
   "file_extension": ".py",
   "mimetype": "text/x-python",
   "name": "python",
   "nbconvert_exporter": "python",
   "pygments_lexer": "ipython3",
   "version": "3.11.5"
  }
 },
 "nbformat": 4,
 "nbformat_minor": 5
}
