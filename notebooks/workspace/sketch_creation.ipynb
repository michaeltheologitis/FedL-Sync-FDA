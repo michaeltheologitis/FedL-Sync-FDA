{
 "cells": [
  {
   "cell_type": "code",
   "execution_count": 2,
   "id": "803ff806-2f02-4d4c-860a-72d99811ed75",
   "metadata": {
    "tags": []
   },
   "outputs": [
    {
     "name": "stderr",
     "output_type": "stream",
     "text": [
      "2023-11-28 15:33:07.521897: I tensorflow/tsl/cuda/cudart_stub.cc:28] Could not find cuda drivers on your machine, GPU will not be used.\n",
      "2023-11-28 15:33:07.576478: I tensorflow/tsl/cuda/cudart_stub.cc:28] Could not find cuda drivers on your machine, GPU will not be used.\n",
      "2023-11-28 15:33:07.577045: I tensorflow/core/platform/cpu_feature_guard.cc:182] This TensorFlow binary is optimized to use available CPU instructions in performance-critical operations.\n",
      "To enable the following instructions: AVX2 FMA, in other operations, rebuild TensorFlow with the appropriate compiler flags.\n",
      "2023-11-28 15:33:08.809892: W tensorflow/compiler/tf2tensorrt/utils/py_utils.cc:38] TF-TRT Warning: Could not find TensorRT\n"
     ]
    }
   ],
   "source": [
    "import tensorflow as tf\n",
    "import numpy as np"
   ]
  },
  {
   "cell_type": "code",
   "execution_count": 25,
   "id": "c2f062e7-219b-4fb0-9ca6-28101130cfe7",
   "metadata": {
    "tags": []
   },
   "outputs": [],
   "source": [
    "class AmsSketch:\n",
    "    \"\"\"\n",
    "    AMS Sketch class for approximate second moment estimation.\n",
    "    \"\"\"\n",
    "\n",
    "    def __init__(self, depth=5, width=250):\n",
    "        self.depth = tf.constant(depth)\n",
    "        self.width = tf.constant(width)\n",
    "        self.F = tf.random.uniform(shape=(6, depth), minval=0, maxval=(1 << 31) - 1, dtype=tf.int32)\n",
    "        self.zeros_sketch = tf.zeros(shape=(self.depth, self.width), dtype=tf.float32)\n",
    "\n",
    "        self.precomputed_dict = {}\n",
    "\n",
    "    def precompute(self, d):\n",
    "        pos_tensor = self.tensor_hash31(tf.range(d), self.F[0], self.F[1]) % self.width  # shape=(d, 5)\n",
    "\n",
    "        self.precomputed_dict[('four', d)] = tf.cast(self.tensor_fourwise(tf.range(d)),\n",
    "                                                     dtype=tf.float32)  # shape=(d, 5)\n",
    "\n",
    "        range_tensor = tf.range(self.depth)  # shape=(5,)\n",
    "\n",
    "        # Expand dimensions to create a 2D tensor with shape (1, `self.depth`)\n",
    "        range_tensor_expanded = tf.expand_dims(range_tensor, 0)  # shape=(1, 5)\n",
    "\n",
    "        # Use tf.tile to repeat the range `d` times\n",
    "        repeated_range_tensor = tf.tile(range_tensor_expanded, [d, 1])  # shape=(d, 5)\n",
    "\n",
    "        # shape=(`d`, `self.depth`, 2)\n",
    "        self.precomputed_dict[('indices', d)] = tf.stack([repeated_range_tensor, pos_tensor],\n",
    "                                                         axis=-1)  # shape=(d, 5, 2)\n",
    "\n",
    "    @staticmethod\n",
    "    def hash31(x, a, b):\n",
    "        r = a * x + b\n",
    "        fold = tf.bitwise.bitwise_xor(tf.bitwise.right_shift(r, 31), r)\n",
    "        return tf.bitwise.bitwise_and(fold, 2147483647)\n",
    "\n",
    "    @staticmethod\n",
    "    def tensor_hash31(x, a, b):  # GOOD\n",
    "        \"\"\" Assumed that x is tensor shaped (d,) , i.e., a vector (for example, indices, i.e., tf.range(d)) \"\"\"\n",
    "\n",
    "        # Reshape x to have an extra dimension, resulting in a shape of (k, 1)\n",
    "        x_reshaped = tf.expand_dims(x, axis=-1)\n",
    "\n",
    "        # shape=(`v_dim`, 7)\n",
    "        r = tf.multiply(a, x_reshaped) + b\n",
    "\n",
    "        fold = tf.bitwise.bitwise_xor(tf.bitwise.right_shift(r, 31), r)\n",
    "\n",
    "        return tf.bitwise.bitwise_and(fold, 2147483647)\n",
    "\n",
    "    def tensor_fourwise(self, x):\n",
    "        \"\"\" Assumed that x is tensor shaped (d,) , i.e., a vector (for example, indices, i.e., tf.range(d)) \"\"\"\n",
    "\n",
    "        # 1st use the tensor hash31\n",
    "        in1 = self.tensor_hash31(x, self.F[2], self.F[3])  # shape = (`x_dim`,  `self.depth`)\n",
    "\n",
    "        # 2st use the tensor hash31\n",
    "        in2 = self.tensor_hash31(x, in1, self.F[4])  # shape = (`x_dim`,  `self.depth`)\n",
    "\n",
    "        # 3rd use the tensor hash31\n",
    "        in3 = self.tensor_hash31(x, in2, self.F[5])  # shape = (`x_dim`,  `self.depth`)\n",
    "\n",
    "        in4 = tf.bitwise.bitwise_and(in3, 32768)  # shape = (`x_dim`,  `self.depth`)\n",
    "\n",
    "        return 2 * (tf.bitwise.right_shift(in4, 15)) - 1  # shape = (`x_dim`,  `self.depth`)\n",
    "\n",
    "    def fourwise(self, x):\n",
    "        result = 2 * (tf.bitwise.right_shift(tf.bitwise.bitwise_and(\n",
    "            self.hash31(self.hash31(self.hash31(x, self.F[2], self.F[3]), x, self.F[4]), x, self.F[5]), 32768), 15)) - 1\n",
    "        return result\n",
    "\n",
    "    def sketch_for_vector(self, v):\n",
    "        \"\"\" Extremely efficient computation of sketch with only using tensors.\n",
    "\n",
    "        Args:\n",
    "        - v (tf.Tensor): Vector to sketch. Shape=(d,).\n",
    "\n",
    "        Returns:\n",
    "        - tf.Tensor: An AMS - Sketch. Shape=(`depth`, `width`).\n",
    "        \"\"\"\n",
    "\n",
    "        d = v.shape[0]\n",
    "\n",
    "        if ('four', d) not in self.precomputed_dict:\n",
    "            self.precompute(d)\n",
    "\n",
    "        return self._sketch_for_vector(v, self.precomputed_dict[('four', d)], self.precomputed_dict[('indices', d)])\n",
    "\n",
    "    @tf.function\n",
    "    def _sketch_for_vector(self, v, four, indices):\n",
    "        v_expand = tf.expand_dims(v, axis=-1)  # shape=(d, 1)\n",
    "\n",
    "        # shape=(d, 5): +- for each value v_i , i = 1, ..., d\n",
    "        deltas_tensor = tf.multiply(four, v_expand)\n",
    "\n",
    "        sketch = tf.tensor_scatter_nd_add(self.zeros_sketch, indices, deltas_tensor)  # shape=(5, 250)\n",
    "\n",
    "        return sketch\n",
    "\n",
    "    @staticmethod\n",
    "    def estimate_euc_norm_squared(sketch):\n",
    "        \"\"\" Estimate the Euclidean norm squared of a vector using its AMS sketch.\n",
    "\n",
    "        Args:\n",
    "        - sketch (tf.Tensor): AMS sketch of a vector. Shape=(`depth`, `width`).\n",
    "\n",
    "        Returns:\n",
    "        - tf.Tensor: Estimated squared Euclidean norm.\n",
    "        \"\"\"\n",
    "\n",
    "        norm_sq_rows = tf.reduce_sum(tf.square(sketch), axis=1)\n",
    "        return np.median(norm_sq_rows)"
   ]
  },
  {
   "cell_type": "code",
   "execution_count": null,
   "id": "808d262e-d081-454d-ac27-2823308db8cc",
   "metadata": {},
   "outputs": [],
   "source": []
  },
  {
   "cell_type": "code",
   "execution_count": null,
   "id": "f6dc17ae-4cb6-4053-ae06-ebd4569e598d",
   "metadata": {},
   "outputs": [],
   "source": []
  },
  {
   "cell_type": "code",
   "execution_count": null,
   "id": "17e01002-851a-4478-89bd-d4fd98b4af8d",
   "metadata": {},
   "outputs": [],
   "source": []
  },
  {
   "cell_type": "code",
   "execution_count": null,
   "id": "98ffb843-8b3c-40f3-811f-4796e3f7e60e",
   "metadata": {},
   "outputs": [],
   "source": []
  },
  {
   "cell_type": "code",
   "execution_count": null,
   "id": "117b7c40-4d92-4ed7-a7ab-c1fbe1012029",
   "metadata": {},
   "outputs": [],
   "source": []
  },
  {
   "cell_type": "code",
   "execution_count": null,
   "id": "1c2e03ea-47a7-4dbe-a17e-84baff2d6be0",
   "metadata": {},
   "outputs": [],
   "source": []
  },
  {
   "cell_type": "code",
   "execution_count": null,
   "id": "a58b363a-2b06-4a77-81b2-cc4a77c4642b",
   "metadata": {},
   "outputs": [],
   "source": []
  },
  {
   "cell_type": "code",
   "execution_count": null,
   "id": "f41080be-2fac-4a69-bd8a-d890f3ae53ea",
   "metadata": {},
   "outputs": [],
   "source": []
  },
  {
   "cell_type": "code",
   "execution_count": 26,
   "id": "3097a614-91f2-4c00-9c06-badbeaa06739",
   "metadata": {
    "tags": []
   },
   "outputs": [],
   "source": [
    "adv_n = 2592202"
   ]
  },
  {
   "cell_type": "code",
   "execution_count": 27,
   "id": "31016b77-58b1-44df-8ebf-f4e81a3f6c4e",
   "metadata": {
    "tags": []
   },
   "outputs": [],
   "source": [
    "lenet_n = 61706"
   ]
  },
  {
   "cell_type": "code",
   "execution_count": 28,
   "id": "859674d8-2c9b-4532-9f29-1c7cb5606b2a",
   "metadata": {
    "tags": []
   },
   "outputs": [],
   "source": [
    "ams_sketch = AmsSketch()"
   ]
  },
  {
   "cell_type": "code",
   "execution_count": 29,
   "id": "d2a2554a-ade8-4dbb-9098-d209e4b13fc8",
   "metadata": {
    "tags": []
   },
   "outputs": [
    {
     "name": "stderr",
     "output_type": "stream",
     "text": [
      "2023-11-28 15:44:18.590965: W tensorflow/tsl/framework/cpu_allocator_impl.cc:83] Allocation of 103688080 exceeds 10% of free system memory.\n"
     ]
    }
   ],
   "source": [
    "ams_sketch.precompute(adv_n)"
   ]
  },
  {
   "cell_type": "code",
   "execution_count": 30,
   "id": "28c70022-cf2d-4298-b064-74dd662839b3",
   "metadata": {
    "tags": []
   },
   "outputs": [],
   "source": [
    "ams_sketch.precompute(lenet_n)"
   ]
  },
  {
   "cell_type": "code",
   "execution_count": 31,
   "id": "7e2e5af7-0222-480e-a59a-416f20ef672b",
   "metadata": {
    "collapsed": true,
    "jupyter": {
     "outputs_hidden": true
    },
    "tags": []
   },
   "outputs": [
    {
     "data": {
      "text/plain": [
       "{('four',\n",
       "  2592202): <tf.Tensor: shape=(2592202, 5), dtype=float32, numpy=\n",
       " array([[-1., -1., -1.,  1.,  1.],\n",
       "        [ 1., -1.,  1., -1.,  1.],\n",
       "        [-1., -1.,  1., -1.,  1.],\n",
       "        ...,\n",
       "        [ 1.,  1., -1., -1., -1.],\n",
       "        [ 1.,  1.,  1.,  1., -1.],\n",
       "        [ 1.,  1., -1.,  1., -1.]], dtype=float32)>,\n",
       " ('indices',\n",
       "  2592202): <tf.Tensor: shape=(2592202, 5, 2), dtype=int32, numpy=\n",
       " array([[[  0, 235],\n",
       "         [  1, 206],\n",
       "         [  2,  26],\n",
       "         [  3, 166],\n",
       "         [  4,  46]],\n",
       " \n",
       "        [[  0, 138],\n",
       "         [  1, 235],\n",
       "         [  2, 204],\n",
       "         [  3, 195],\n",
       "         [  4,  55]],\n",
       " \n",
       "        [[  0,  33],\n",
       "         [  1, 131],\n",
       "         [  2, 132],\n",
       "         [  3, 224],\n",
       "         [  4, 231]],\n",
       " \n",
       "        ...,\n",
       " \n",
       "        [[  0,  28],\n",
       "         [  1, 165],\n",
       "         [  2, 196],\n",
       "         [  3, 155],\n",
       "         [  4, 234]],\n",
       " \n",
       "        [[  0, 143],\n",
       "         [  1,  61],\n",
       "         [  2, 171],\n",
       "         [  3, 184],\n",
       "         [  4,  24]],\n",
       " \n",
       "        [[  0, 230],\n",
       "         [  1,  42],\n",
       "         [  2, 243],\n",
       "         [  3, 213],\n",
       "         [  4,  12]]], dtype=int32)>,\n",
       " ('four',\n",
       "  61706): <tf.Tensor: shape=(61706, 5), dtype=float32, numpy=\n",
       " array([[-1., -1., -1.,  1.,  1.],\n",
       "        [ 1., -1.,  1., -1.,  1.],\n",
       "        [-1., -1.,  1., -1.,  1.],\n",
       "        ...,\n",
       "        [ 1., -1.,  1.,  1.,  1.],\n",
       "        [-1., -1., -1., -1.,  1.],\n",
       "        [-1.,  1.,  1.,  1., -1.]], dtype=float32)>,\n",
       " ('indices',\n",
       "  61706): <tf.Tensor: shape=(61706, 5, 2), dtype=int32, numpy=\n",
       " array([[[  0, 235],\n",
       "         [  1, 206],\n",
       "         [  2,  26],\n",
       "         [  3, 166],\n",
       "         [  4,  46]],\n",
       " \n",
       "        [[  0, 138],\n",
       "         [  1, 235],\n",
       "         [  2, 204],\n",
       "         [  3, 195],\n",
       "         [  4,  55]],\n",
       " \n",
       "        [[  0,  33],\n",
       "         [  1, 131],\n",
       "         [  2, 132],\n",
       "         [  3, 224],\n",
       "         [  4, 231]],\n",
       " \n",
       "        ...,\n",
       " \n",
       "        [[  0,  36],\n",
       "         [  1, 141],\n",
       "         [  2,  26],\n",
       "         [  3, 113],\n",
       "         [  4,   9]],\n",
       " \n",
       "        [[  0, 114],\n",
       "         [  1,  37],\n",
       "         [  2,  91],\n",
       "         [  3, 142],\n",
       "         [  4,  27]],\n",
       " \n",
       "        [[  0,  57],\n",
       "         [  1,  66],\n",
       "         [  2, 163],\n",
       "         [  3, 171],\n",
       "         [  4, 231]]], dtype=int32)>}"
      ]
     },
     "execution_count": 31,
     "metadata": {},
     "output_type": "execute_result"
    }
   ],
   "source": [
    "ams_sketch.precomputed_dict"
   ]
  },
  {
   "cell_type": "code",
   "execution_count": 20,
   "id": "87d3e8ce-8ca9-4d70-8b33-595c2533851e",
   "metadata": {
    "tags": []
   },
   "outputs": [],
   "source": [
    "import pickle"
   ]
  },
  {
   "cell_type": "code",
   "execution_count": 32,
   "id": "7e9cadbb-adf4-47a2-b0ce-c8f73551da93",
   "metadata": {
    "tags": []
   },
   "outputs": [],
   "source": [
    "with open('ams_sketch_precomputed_dict.pkl', 'wb') as file:\n",
    "    pickle.dump(ams_sketch.precomputed_dict, file)"
   ]
  },
  {
   "cell_type": "code",
   "execution_count": null,
   "id": "b0772cdf-d250-43f7-be4c-60d51387a3c0",
   "metadata": {},
   "outputs": [],
   "source": []
  },
  {
   "cell_type": "code",
   "execution_count": null,
   "id": "cc05f1c4-6153-4c63-9e22-1530179883e9",
   "metadata": {},
   "outputs": [],
   "source": []
  },
  {
   "cell_type": "code",
   "execution_count": null,
   "id": "132718d4-ee5a-4e6b-8339-f1929d6c427d",
   "metadata": {},
   "outputs": [],
   "source": []
  },
  {
   "cell_type": "code",
   "execution_count": 3,
   "id": "d1f61e10-82b3-4958-9891-24cd90acc1b3",
   "metadata": {
    "tags": []
   },
   "outputs": [],
   "source": [
    "import pickle"
   ]
  },
  {
   "cell_type": "code",
   "execution_count": 22,
   "id": "e70b0499-e3c0-4c38-8a1c-c185a8e1e650",
   "metadata": {
    "tags": []
   },
   "outputs": [
    {
     "name": "stderr",
     "output_type": "stream",
     "text": [
      "2023-11-28 15:34:44.618218: W tensorflow/tsl/framework/cpu_allocator_impl.cc:83] Allocation of 103688080 exceeds 10% of free system memory.\n"
     ]
    }
   ],
   "source": [
    "with open('ams_sketch.pkl', 'rb') as file:\n",
    "    ams_sketch = pickle.load(file)"
   ]
  },
  {
   "cell_type": "code",
   "execution_count": 23,
   "id": "d75b2e9d-2885-4c3f-9c97-3e512bbc139a",
   "metadata": {
    "collapsed": true,
    "jupyter": {
     "outputs_hidden": true
    },
    "tags": []
   },
   "outputs": [
    {
     "data": {
      "text/plain": [
       "<tf.Tensor: shape=(5, 250), dtype=float32, numpy=\n",
       "array([[-120.02566 ,   17.28204 ,    0.857486, ...,   24.700958,\n",
       "         -24.750376,   -7.923587],\n",
       "       [ -41.559643,   58.537617,   -9.951746, ...,   69.4604  ,\n",
       "         106.95741 ,   -6.74096 ],\n",
       "       [-113.09492 ,  -51.7586  , -159.95277 , ...,   77.29765 ,\n",
       "          46.447197,   64.9099  ],\n",
       "       [ -43.806896,  -10.961367,  -13.029714, ...,   13.099599,\n",
       "         -33.556877,  142.75073 ],\n",
       "       [  17.091013,  -60.21259 ,   19.222637, ...,  -67.353386,\n",
       "         -26.197866,   16.172062]], dtype=float32)>"
      ]
     },
     "execution_count": 23,
     "metadata": {},
     "output_type": "execute_result"
    }
   ],
   "source": [
    "ams_sketch.sketch_for_vector(tf.random.normal([1000000,]))"
   ]
  },
  {
   "cell_type": "code",
   "execution_count": 16,
   "id": "3df8c544-5895-46a7-b442-40dc54975da4",
   "metadata": {
    "collapsed": true,
    "jupyter": {
     "outputs_hidden": true
    },
    "tags": []
   },
   "outputs": [
    {
     "data": {
      "text/plain": [
       "<tf.Tensor: shape=(1000000, 5, 2), dtype=int32, numpy=\n",
       "array([[[  0,  77],\n",
       "        [  1,  49],\n",
       "        [  2, 241],\n",
       "        [  3,  60],\n",
       "        [  4,  67]],\n",
       "\n",
       "       [[  0,  26],\n",
       "        [  1, 241],\n",
       "        [  2, 141],\n",
       "        [  3,  91],\n",
       "        [  4,  82]],\n",
       "\n",
       "       [[  0, 165],\n",
       "        [  1, 183],\n",
       "        [  2,  21],\n",
       "        [  3, 173],\n",
       "        [  4, 198]],\n",
       "\n",
       "       ...,\n",
       "\n",
       "       [[  0, 156],\n",
       "        [  1, 169],\n",
       "        [  2, 140],\n",
       "        [  3,  64],\n",
       "        [  4,  54]],\n",
       "\n",
       "       [[  0,  35],\n",
       "        [  1, 111],\n",
       "        [  2, 242],\n",
       "        [  3, 216],\n",
       "        [  4, 226]],\n",
       "\n",
       "       [[  0,  68],\n",
       "        [  1,  53],\n",
       "        [  2, 170],\n",
       "        [  3,  48],\n",
       "        [  4, 211]]], dtype=int32)>"
      ]
     },
     "execution_count": 16,
     "metadata": {},
     "output_type": "execute_result"
    }
   ],
   "source": [
    "ams_sketch.precomputed_dict['indices', 1000000]"
   ]
  },
  {
   "cell_type": "code",
   "execution_count": 15,
   "id": "8f355fca-451b-4b13-9d93-d481215aa2ef",
   "metadata": {
    "collapsed": true,
    "jupyter": {
     "outputs_hidden": true
    },
    "tags": []
   },
   "outputs": [
    {
     "data": {
      "text/plain": [
       "<tf.Tensor: shape=(1000000, 5, 2), dtype=int32, numpy=\n",
       "array([[[  0,  77],\n",
       "        [  1,  49],\n",
       "        [  2, 241],\n",
       "        [  3,  60],\n",
       "        [  4,  67]],\n",
       "\n",
       "       [[  0,  26],\n",
       "        [  1, 241],\n",
       "        [  2, 141],\n",
       "        [  3,  91],\n",
       "        [  4,  82]],\n",
       "\n",
       "       [[  0, 165],\n",
       "        [  1, 183],\n",
       "        [  2,  21],\n",
       "        [  3, 173],\n",
       "        [  4, 198]],\n",
       "\n",
       "       ...,\n",
       "\n",
       "       [[  0, 156],\n",
       "        [  1, 169],\n",
       "        [  2, 140],\n",
       "        [  3,  64],\n",
       "        [  4,  54]],\n",
       "\n",
       "       [[  0,  35],\n",
       "        [  1, 111],\n",
       "        [  2, 242],\n",
       "        [  3, 216],\n",
       "        [  4, 226]],\n",
       "\n",
       "       [[  0,  68],\n",
       "        [  1,  53],\n",
       "        [  2, 170],\n",
       "        [  3,  48],\n",
       "        [  4, 211]]], dtype=int32)>"
      ]
     },
     "execution_count": 15,
     "metadata": {},
     "output_type": "execute_result"
    }
   ],
   "source": [
    "ams_sketch.precomputed_dict['indices', 1000000]"
   ]
  },
  {
   "cell_type": "code",
   "execution_count": 24,
   "id": "5534228a-c09a-4773-90f3-904a35b8779f",
   "metadata": {
    "tags": []
   },
   "outputs": [
    {
     "ename": "ModuleNotFoundError",
     "evalue": "No module named 'dill'",
     "output_type": "error",
     "traceback": [
      "\u001b[0;31m---------------------------------------------------------------------------\u001b[0m",
      "\u001b[0;31mModuleNotFoundError\u001b[0m                       Traceback (most recent call last)",
      "Cell \u001b[0;32mIn[24], line 1\u001b[0m\n\u001b[0;32m----> 1\u001b[0m \u001b[38;5;28;01mimport\u001b[39;00m \u001b[38;5;21;01mdill\u001b[39;00m\n",
      "\u001b[0;31mModuleNotFoundError\u001b[0m: No module named 'dill'"
     ]
    }
   ],
   "source": [
    "import dill"
   ]
  },
  {
   "cell_type": "code",
   "execution_count": null,
   "id": "b2164a5f-af84-4308-89cd-76524db89b66",
   "metadata": {},
   "outputs": [],
   "source": []
  },
  {
   "cell_type": "code",
   "execution_count": null,
   "id": "e91a0fc5-b4da-495f-8a34-ecff3685bd15",
   "metadata": {},
   "outputs": [],
   "source": []
  },
  {
   "cell_type": "code",
   "execution_count": 33,
   "id": "f912c666-79b9-4fda-915c-310c01e05a2d",
   "metadata": {
    "tags": []
   },
   "outputs": [
    {
     "name": "stderr",
     "output_type": "stream",
     "text": [
      "2023-11-28 15:45:13.296495: W tensorflow/tsl/framework/cpu_allocator_impl.cc:83] Allocation of 103688080 exceeds 10% of free system memory.\n"
     ]
    }
   ],
   "source": [
    "with open('ams_sketch_precomputed_dict.pkl', 'rb') as file:\n",
    "    ams_sketch_precomputed_dict = pickle.load(file)"
   ]
  },
  {
   "cell_type": "code",
   "execution_count": 34,
   "id": "5374d823-adb5-4dc9-97af-47002d035db0",
   "metadata": {
    "collapsed": true,
    "jupyter": {
     "outputs_hidden": true
    },
    "tags": []
   },
   "outputs": [
    {
     "data": {
      "text/plain": [
       "{('four',\n",
       "  2592202): <tf.Tensor: shape=(2592202, 5), dtype=float32, numpy=\n",
       " array([[-1., -1., -1.,  1.,  1.],\n",
       "        [ 1., -1.,  1., -1.,  1.],\n",
       "        [-1., -1.,  1., -1.,  1.],\n",
       "        ...,\n",
       "        [ 1.,  1., -1., -1., -1.],\n",
       "        [ 1.,  1.,  1.,  1., -1.],\n",
       "        [ 1.,  1., -1.,  1., -1.]], dtype=float32)>,\n",
       " ('indices',\n",
       "  2592202): <tf.Tensor: shape=(2592202, 5, 2), dtype=int32, numpy=\n",
       " array([[[  0, 235],\n",
       "         [  1, 206],\n",
       "         [  2,  26],\n",
       "         [  3, 166],\n",
       "         [  4,  46]],\n",
       " \n",
       "        [[  0, 138],\n",
       "         [  1, 235],\n",
       "         [  2, 204],\n",
       "         [  3, 195],\n",
       "         [  4,  55]],\n",
       " \n",
       "        [[  0,  33],\n",
       "         [  1, 131],\n",
       "         [  2, 132],\n",
       "         [  3, 224],\n",
       "         [  4, 231]],\n",
       " \n",
       "        ...,\n",
       " \n",
       "        [[  0,  28],\n",
       "         [  1, 165],\n",
       "         [  2, 196],\n",
       "         [  3, 155],\n",
       "         [  4, 234]],\n",
       " \n",
       "        [[  0, 143],\n",
       "         [  1,  61],\n",
       "         [  2, 171],\n",
       "         [  3, 184],\n",
       "         [  4,  24]],\n",
       " \n",
       "        [[  0, 230],\n",
       "         [  1,  42],\n",
       "         [  2, 243],\n",
       "         [  3, 213],\n",
       "         [  4,  12]]], dtype=int32)>,\n",
       " ('four',\n",
       "  61706): <tf.Tensor: shape=(61706, 5), dtype=float32, numpy=\n",
       " array([[-1., -1., -1.,  1.,  1.],\n",
       "        [ 1., -1.,  1., -1.,  1.],\n",
       "        [-1., -1.,  1., -1.,  1.],\n",
       "        ...,\n",
       "        [ 1., -1.,  1.,  1.,  1.],\n",
       "        [-1., -1., -1., -1.,  1.],\n",
       "        [-1.,  1.,  1.,  1., -1.]], dtype=float32)>,\n",
       " ('indices',\n",
       "  61706): <tf.Tensor: shape=(61706, 5, 2), dtype=int32, numpy=\n",
       " array([[[  0, 235],\n",
       "         [  1, 206],\n",
       "         [  2,  26],\n",
       "         [  3, 166],\n",
       "         [  4,  46]],\n",
       " \n",
       "        [[  0, 138],\n",
       "         [  1, 235],\n",
       "         [  2, 204],\n",
       "         [  3, 195],\n",
       "         [  4,  55]],\n",
       " \n",
       "        [[  0,  33],\n",
       "         [  1, 131],\n",
       "         [  2, 132],\n",
       "         [  3, 224],\n",
       "         [  4, 231]],\n",
       " \n",
       "        ...,\n",
       " \n",
       "        [[  0,  36],\n",
       "         [  1, 141],\n",
       "         [  2,  26],\n",
       "         [  3, 113],\n",
       "         [  4,   9]],\n",
       " \n",
       "        [[  0, 114],\n",
       "         [  1,  37],\n",
       "         [  2,  91],\n",
       "         [  3, 142],\n",
       "         [  4,  27]],\n",
       " \n",
       "        [[  0,  57],\n",
       "         [  1,  66],\n",
       "         [  2, 163],\n",
       "         [  3, 171],\n",
       "         [  4, 231]]], dtype=int32)>}"
      ]
     },
     "execution_count": 34,
     "metadata": {},
     "output_type": "execute_result"
    }
   ],
   "source": [
    "ams_sketch_precomputed_dict"
   ]
  },
  {
   "cell_type": "code",
   "execution_count": null,
   "id": "26fe2a59-8a66-4e4d-9b99-489bc849c8e0",
   "metadata": {},
   "outputs": [],
   "source": []
  },
  {
   "cell_type": "code",
   "execution_count": 35,
   "id": "5cc36471-9551-481e-91ac-467011bc069f",
   "metadata": {
    "tags": []
   },
   "outputs": [],
   "source": [
    "am = AmsSketch()"
   ]
  },
  {
   "cell_type": "code",
   "execution_count": 36,
   "id": "20a6a0ee-96b4-4ff4-8be1-fb87614ac09d",
   "metadata": {
    "tags": []
   },
   "outputs": [],
   "source": [
    "am.precomputed_dict = ams_sketch_precomputed_dict"
   ]
  },
  {
   "cell_type": "code",
   "execution_count": 37,
   "id": "56016b2e-ff57-4ae1-9c62-a2f8cc8e0363",
   "metadata": {
    "collapsed": true,
    "jupyter": {
     "outputs_hidden": true
    },
    "tags": []
   },
   "outputs": [
    {
     "data": {
      "text/plain": [
       "{('four',\n",
       "  2592202): <tf.Tensor: shape=(2592202, 5), dtype=float32, numpy=\n",
       " array([[-1., -1., -1.,  1.,  1.],\n",
       "        [ 1., -1.,  1., -1.,  1.],\n",
       "        [-1., -1.,  1., -1.,  1.],\n",
       "        ...,\n",
       "        [ 1.,  1., -1., -1., -1.],\n",
       "        [ 1.,  1.,  1.,  1., -1.],\n",
       "        [ 1.,  1., -1.,  1., -1.]], dtype=float32)>,\n",
       " ('indices',\n",
       "  2592202): <tf.Tensor: shape=(2592202, 5, 2), dtype=int32, numpy=\n",
       " array([[[  0, 235],\n",
       "         [  1, 206],\n",
       "         [  2,  26],\n",
       "         [  3, 166],\n",
       "         [  4,  46]],\n",
       " \n",
       "        [[  0, 138],\n",
       "         [  1, 235],\n",
       "         [  2, 204],\n",
       "         [  3, 195],\n",
       "         [  4,  55]],\n",
       " \n",
       "        [[  0,  33],\n",
       "         [  1, 131],\n",
       "         [  2, 132],\n",
       "         [  3, 224],\n",
       "         [  4, 231]],\n",
       " \n",
       "        ...,\n",
       " \n",
       "        [[  0,  28],\n",
       "         [  1, 165],\n",
       "         [  2, 196],\n",
       "         [  3, 155],\n",
       "         [  4, 234]],\n",
       " \n",
       "        [[  0, 143],\n",
       "         [  1,  61],\n",
       "         [  2, 171],\n",
       "         [  3, 184],\n",
       "         [  4,  24]],\n",
       " \n",
       "        [[  0, 230],\n",
       "         [  1,  42],\n",
       "         [  2, 243],\n",
       "         [  3, 213],\n",
       "         [  4,  12]]], dtype=int32)>,\n",
       " ('four',\n",
       "  61706): <tf.Tensor: shape=(61706, 5), dtype=float32, numpy=\n",
       " array([[-1., -1., -1.,  1.,  1.],\n",
       "        [ 1., -1.,  1., -1.,  1.],\n",
       "        [-1., -1.,  1., -1.,  1.],\n",
       "        ...,\n",
       "        [ 1., -1.,  1.,  1.,  1.],\n",
       "        [-1., -1., -1., -1.,  1.],\n",
       "        [-1.,  1.,  1.,  1., -1.]], dtype=float32)>,\n",
       " ('indices',\n",
       "  61706): <tf.Tensor: shape=(61706, 5, 2), dtype=int32, numpy=\n",
       " array([[[  0, 235],\n",
       "         [  1, 206],\n",
       "         [  2,  26],\n",
       "         [  3, 166],\n",
       "         [  4,  46]],\n",
       " \n",
       "        [[  0, 138],\n",
       "         [  1, 235],\n",
       "         [  2, 204],\n",
       "         [  3, 195],\n",
       "         [  4,  55]],\n",
       " \n",
       "        [[  0,  33],\n",
       "         [  1, 131],\n",
       "         [  2, 132],\n",
       "         [  3, 224],\n",
       "         [  4, 231]],\n",
       " \n",
       "        ...,\n",
       " \n",
       "        [[  0,  36],\n",
       "         [  1, 141],\n",
       "         [  2,  26],\n",
       "         [  3, 113],\n",
       "         [  4,   9]],\n",
       " \n",
       "        [[  0, 114],\n",
       "         [  1,  37],\n",
       "         [  2,  91],\n",
       "         [  3, 142],\n",
       "         [  4,  27]],\n",
       " \n",
       "        [[  0,  57],\n",
       "         [  1,  66],\n",
       "         [  2, 163],\n",
       "         [  3, 171],\n",
       "         [  4, 231]]], dtype=int32)>}"
      ]
     },
     "execution_count": 37,
     "metadata": {},
     "output_type": "execute_result"
    }
   ],
   "source": [
    "am.precomputed_dict"
   ]
  },
  {
   "cell_type": "code",
   "execution_count": 38,
   "id": "5e418403-c4a4-4e94-822b-6b744f5a827f",
   "metadata": {
    "tags": []
   },
   "outputs": [
    {
     "data": {
      "text/plain": [
       "<tf.Tensor: shape=(5, 250), dtype=float32, numpy=\n",
       "array([[  2.1336153 ,  -8.10824   ,  24.406     , ...,  -1.7841159 ,\n",
       "         -6.759145  , -21.470701  ],\n",
       "       [  8.225737  , -27.808575  ,  15.916177  , ...,  -2.4987457 ,\n",
       "         11.953768  ,  -4.5171733 ],\n",
       "       [  4.877473  , -27.646666  ,   4.278938  , ...,  -7.4662967 ,\n",
       "        -17.915205  , -14.032585  ],\n",
       "       [  2.4250946 ,  -4.3206472 ,  20.050192  , ...,  23.823198  ,\n",
       "        -15.164493  , -16.39989   ],\n",
       "       [ -0.82484436,  24.153524  ,  -8.369446  , ...,  -8.719382  ,\n",
       "        -26.020844  ,   5.892068  ]], dtype=float32)>"
      ]
     },
     "execution_count": 38,
     "metadata": {},
     "output_type": "execute_result"
    }
   ],
   "source": [
    "am.sketch_for_vector(tf.random.normal([61706,]))"
   ]
  },
  {
   "cell_type": "code",
   "execution_count": 39,
   "id": "910e5f80-f9fc-4b57-9f7b-fd136c8de1fb",
   "metadata": {
    "tags": []
   },
   "outputs": [
    {
     "data": {
      "text/plain": [
       "4"
      ]
     },
     "execution_count": 39,
     "metadata": {},
     "output_type": "execute_result"
    }
   ],
   "source": [
    "len(am.precomputed_dict)"
   ]
  },
  {
   "cell_type": "code",
   "execution_count": null,
   "id": "f944b81e-6077-4f78-b534-34b8610abd54",
   "metadata": {},
   "outputs": [],
   "source": []
  }
 ],
 "metadata": {
  "kernelspec": {
   "display_name": "Python [conda env:tf-2.13]",
   "language": "python",
   "name": "conda-env-tf-2.13-py"
  },
  "language_info": {
   "codemirror_mode": {
    "name": "ipython",
    "version": 3
   },
   "file_extension": ".py",
   "mimetype": "text/x-python",
   "name": "python",
   "nbconvert_exporter": "python",
   "pygments_lexer": "ipython3",
   "version": "3.11.5"
  }
 },
 "nbformat": 4,
 "nbformat_minor": 5
}
