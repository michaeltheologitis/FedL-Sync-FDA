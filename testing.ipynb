{
 "cells": [
  {
   "cell_type": "code",
   "execution_count": 1,
   "id": "1b9272e8",
   "metadata": {},
   "outputs": [],
   "source": [
    "import os\n",
    "os.environ['TF_CPP_MIN_LOG_LEVEL'] = '3'\n",
    "\n",
    "import time\n",
    "import tensorflow as tf\n",
    "\n",
    "import numpy as np"
   ]
  },
  {
   "cell_type": "code",
   "execution_count": 2,
   "id": "aa2651a8",
   "metadata": {},
   "outputs": [],
   "source": [
    "from tensorflow.experimental import ExtensionType\n",
    "\n",
    "class AmsSketch(ExtensionType):\n",
    "    depth: int\n",
    "    width: int\n",
    "    F: tf.Tensor\n",
    "        \n",
    "        \n",
    "    def __init__(self, depth=7, width=1500):\n",
    "        self.depth = depth\n",
    "        self.width = width\n",
    "        self.F = tf.random.uniform(shape=(6, depth), minval=0, maxval=(1 << 31) - 1, dtype=tf.int32)\n",
    "\n",
    "        \n",
    "    @tf.function\n",
    "    def hash31(self, x, a, b):\n",
    "\n",
    "        r = a * x + b\n",
    "        fold = tf.bitwise.bitwise_xor(tf.bitwise.right_shift(r, 31), r)\n",
    "        return tf.bitwise.bitwise_and(fold, 2147483647)\n",
    "    \n",
    "    \n",
    "    @tf.function\n",
    "    def tensor_hash31(self, x, a, b): # GOOD\n",
    "        \"\"\" Assumed that x is tensor shaped (d,) , i.e., a vector (for example, indices, i.e., tf.range(d)) \"\"\"\n",
    "\n",
    "        # Reshape x to have an extra dimension, resulting in a shape of (k, 1)\n",
    "        x_reshaped = tf.expand_dims(x, axis=-1)\n",
    "\n",
    "        # shape=(`v_dim`, 7)\n",
    "        r = tf.multiply(a, x_reshaped) + b\n",
    "\n",
    "        fold = tf.bitwise.bitwise_xor(tf.bitwise.right_shift(r, 31), r)\n",
    "        \n",
    "        return tf.bitwise.bitwise_and(fold, 2147483647)\n",
    "    \n",
    "    \n",
    "    @tf.function\n",
    "    def tensor_fourwise(self, x):\n",
    "        \"\"\" Assumed that x is tensor shaped (d,) , i.e., a vector (for example, indices, i.e., tf.range(d)) \"\"\"\n",
    "        # 1st use the tensor hash31\n",
    "        in1 = self.tensor_hash31(x, self.F[2], self.F[3])  # (`x_dim`, 7)\n",
    "        \n",
    "        # 2nd (notice we swap the first two params, no change really)\n",
    "        in2 = self.tensor_hash31(x, in1, self.F[4])  # (`x_dim`, 7)\n",
    "        \n",
    "        in3 = self.tensor_hash31(x, in2, self.F[5])  # (`x_dim`, 7)\n",
    "        \n",
    "        in4 = tf.bitwise.bitwise_and(in3, 32768)  # (`x_dim`, 7)\n",
    "        \n",
    "        return 2 * (tf.bitwise.right_shift(in4, 15)) - 1  # (`x_dim`, 7)\n",
    "        \n",
    "        \n",
    "    @tf.function\n",
    "    def fourwise(self, x):\n",
    "\n",
    "        result = 2 * (tf.bitwise.right_shift(tf.bitwise.bitwise_and(self.hash31(self.hash31(self.hash31(x, self.F[2], self.F[3]), x, self.F[4]), x, self.F[5]), 32768), 15)) - 1\n",
    "        return result\n",
    "    \n",
    "    \n",
    "    @tf.function\n",
    "    def sketch_for_vector(self, v):\n",
    "        \"\"\" Extremely efficient computation of sketch with only using tensors. \"\"\"\n",
    "        \n",
    "        sketch = tf.zeros(shape=(self.depth, self.width), dtype=tf.float32)\n",
    "        \n",
    "        len_v = v.shape[0]\n",
    "        \n",
    "        pos_tensor = self.tensor_hash31(tf.range(len_v), self.F[0], self.F[1]) % self.width\n",
    "        \n",
    "        v_expand = tf.expand_dims(v, axis=-1)\n",
    "        \n",
    "        deltas_tensor = tf.multiply(tf.cast(self.tensor_fourwise(tf.range(len_v)), dtype=tf.float32), v_expand)\n",
    "        \n",
    "        range_tensor = tf.range(self.depth)\n",
    "        \n",
    "        # Expand dimensions to create a 2D tensor with shape (1, depth)\n",
    "        range_tensor_expanded = tf.expand_dims(range_tensor, 0)\n",
    "\n",
    "        # Use tf.tile to repeat the tensor `len_v` times\n",
    "        repeated_range_tensor = tf.tile(range_tensor_expanded, [len_v, 1])\n",
    "        \n",
    "        # shape=(`len_v`, 7, 2)\n",
    "        indices = tf.stack([repeated_range_tensor, pos_tensor], axis=-1)\n",
    "        \n",
    "        sketch = tf.tensor_scatter_nd_add(sketch, indices, deltas_tensor)\n",
    "        \n",
    "        return sketch\n",
    "    \n",
    "    \n",
    "    @tf.function\n",
    "    def sketch_for_vector2(self, v):\n",
    "        \"\"\" Bad implementation for tensorflow. \"\"\"\n",
    "\n",
    "        sketch = tf.zeros(shape=(self.depth, self.width), dtype=tf.float32)\n",
    "\n",
    "        for i in tf.range(tf.shape(v)[0], dtype=tf.int32):\n",
    "            pos = self.hash31(i, self.F[0], self.F[1]) % self.width\n",
    "            delta = tf.cast(self.fourwise(i), dtype=tf.float32) * v[i]\n",
    "            indices_to_update = tf.stack([tf.range(self.depth, dtype=tf.int32), pos], axis=1)\n",
    "            sketch = tf.tensor_scatter_nd_add(sketch, indices_to_update, delta)\n",
    "\n",
    "        return sketch\n",
    "        \n",
    "    \n",
    "    @staticmethod\n",
    "    @tf.function\n",
    "    def estimate_euc_norm_squared(sketch):\n",
    "\n",
    "        @tf.function\n",
    "        def _median(v):\n",
    "            \"\"\" Median of tensor `v` with shape=(n,). Note: Suboptimal O(nlogn) but it's ok bcz n = `depth`\"\"\"\n",
    "            length = tf.shape(v)[0]\n",
    "            sorted_v = tf.sort(v)\n",
    "            middle = length // 2\n",
    "\n",
    "            return tf.cond(\n",
    "                tf.equal(length % 2, 0),\n",
    "                lambda: (sorted_v[middle - 1] + sorted_v[middle]) / 2.0,\n",
    "                lambda: sorted_v[middle]\n",
    "            )\n",
    "\n",
    "        return _median(tf.reduce_sum(tf.square(sketch), axis=1))"
   ]
  },
  {
   "cell_type": "code",
   "execution_count": 3,
   "id": "25232fe4",
   "metadata": {},
   "outputs": [],
   "source": [
    "ams_sketch = AmsSketch(\n",
    "    depth=7,\n",
    "    width=1700\n",
    ")"
   ]
  },
  {
   "cell_type": "code",
   "execution_count": 7,
   "id": "cd93d9c8",
   "metadata": {},
   "outputs": [],
   "source": [
    "vec = tf.random.uniform(shape=(10000,), minval=0, maxval=2, dtype=tf.float32)"
   ]
  },
  {
   "cell_type": "code",
   "execution_count": null,
   "id": "b52af08e",
   "metadata": {},
   "outputs": [],
   "source": []
  },
  {
   "cell_type": "code",
   "execution_count": 11,
   "id": "88f689f6",
   "metadata": {},
   "outputs": [],
   "source": [
    "#%%timeit -r 1\n",
    "\n",
    "sketch = ams_sketch.sketch_for_vector(vec)"
   ]
  },
  {
   "cell_type": "code",
   "execution_count": 12,
   "id": "6d2ed5ea",
   "metadata": {},
   "outputs": [
    {
     "data": {
      "text/plain": [
       "<tf.Tensor: shape=(7, 1700), dtype=float32, numpy=\n",
       "array([[-0.71613455,  3.5107355 , -1.4464993 , ..., -0.14513016,\n",
       "         1.4895973 ,  1.1736515 ],\n",
       "       [ 2.2559028 , -0.30160308, -2.5438793 , ...,  4.0859685 ,\n",
       "        -1.2823029 ,  4.0744076 ],\n",
       "       [ 0.        ,  3.2889836 ,  4.068681  , ...,  0.03727531,\n",
       "        -1.8788319 ,  0.        ],\n",
       "       ...,\n",
       "       [-1.0088367 , -0.1262784 , -3.9266415 , ..., -0.5174842 ,\n",
       "        -0.2585826 , -1.3709421 ],\n",
       "       [ 2.2302265 ,  0.        ,  0.        , ...,  0.        ,\n",
       "         0.        ,  1.7632725 ],\n",
       "       [-5.12976   ,  0.23835802, -2.274409  , ..., -3.8424373 ,\n",
       "        -0.3808372 ,  0.10876369]], dtype=float32)>"
      ]
     },
     "execution_count": 12,
     "metadata": {},
     "output_type": "execute_result"
    }
   ],
   "source": [
    "sketch"
   ]
  },
  {
   "cell_type": "code",
   "execution_count": 14,
   "id": "57c6c2fc",
   "metadata": {},
   "outputs": [],
   "source": [
    "#%%timeit -r 1\n",
    "\n",
    "sketch2 = ams_sketch.sketch_for_vector2(vec)"
   ]
  },
  {
   "cell_type": "code",
   "execution_count": 15,
   "id": "e9396067",
   "metadata": {},
   "outputs": [
    {
     "data": {
      "text/plain": [
       "<tf.Tensor: shape=(7, 1700), dtype=float32, numpy=\n",
       "array([[-0.71613455,  3.5107355 , -1.4464993 , ..., -0.14513016,\n",
       "         1.4895973 ,  1.1736515 ],\n",
       "       [ 2.2559028 , -0.30160308, -2.5438793 , ...,  4.0859685 ,\n",
       "        -1.2823029 ,  4.0744076 ],\n",
       "       [ 0.        ,  3.2889836 ,  4.068681  , ...,  0.03727531,\n",
       "        -1.8788319 ,  0.        ],\n",
       "       ...,\n",
       "       [-1.0088367 , -0.1262784 , -3.9266415 , ..., -0.5174842 ,\n",
       "        -0.2585826 , -1.3709421 ],\n",
       "       [ 2.2302265 ,  0.        ,  0.        , ...,  0.        ,\n",
       "         0.        ,  1.7632725 ],\n",
       "       [-5.12976   ,  0.23835802, -2.274409  , ..., -3.8424373 ,\n",
       "        -0.3808372 ,  0.10876369]], dtype=float32)>"
      ]
     },
     "execution_count": 15,
     "metadata": {},
     "output_type": "execute_result"
    }
   ],
   "source": [
    "sketch2"
   ]
  },
  {
   "cell_type": "code",
   "execution_count": null,
   "id": "62ffb61e",
   "metadata": {},
   "outputs": [],
   "source": []
  },
  {
   "cell_type": "code",
   "execution_count": null,
   "id": "c9876552",
   "metadata": {},
   "outputs": [],
   "source": []
  },
  {
   "cell_type": "code",
   "execution_count": 16,
   "id": "4fd1e409",
   "metadata": {},
   "outputs": [
    {
     "name": "stdout",
     "output_type": "stream",
     "text": [
      "WARNING:tensorflow:From /home/miketheologitis/anaconda3/envs/tff-py39/lib/python3.9/site-packages/tensorflow/python/autograph/pyct/static_analysis/liveness.py:83: Analyzer.lamba_check (from tensorflow.python.autograph.pyct.static_analysis.liveness) is deprecated and will be removed after 2023-09-23.\n",
      "Instructions for updating:\n",
      "Lambda fuctions will be no more assumed to be used in the statement where they are used, or at least in the same block. https://github.com/tensorflow/tensorflow/issues/56089\n"
     ]
    },
    {
     "data": {
      "text/plain": [
       "<tf.Tensor: shape=(), dtype=float32, numpy=13596.997>"
      ]
     },
     "execution_count": 16,
     "metadata": {},
     "output_type": "execute_result"
    }
   ],
   "source": [
    "ams_sketch.estimate_euc_norm_squared(sketch)"
   ]
  },
  {
   "cell_type": "code",
   "execution_count": null,
   "id": "218f085c",
   "metadata": {},
   "outputs": [],
   "source": []
  },
  {
   "cell_type": "code",
   "execution_count": 17,
   "id": "c6fa5876",
   "metadata": {},
   "outputs": [
    {
     "data": {
      "text/plain": [
       "<tf.Tensor: shape=(), dtype=float32, numpy=13250.656>"
      ]
     },
     "execution_count": 17,
     "metadata": {},
     "output_type": "execute_result"
    }
   ],
   "source": [
    "tf.reduce_sum(tf.square(vec))"
   ]
  },
  {
   "cell_type": "code",
   "execution_count": null,
   "id": "bc44b443",
   "metadata": {},
   "outputs": [],
   "source": []
  },
  {
   "cell_type": "code",
   "execution_count": null,
   "id": "090b568f",
   "metadata": {},
   "outputs": [],
   "source": []
  },
  {
   "cell_type": "code",
   "execution_count": null,
   "id": "a2e71fb1",
   "metadata": {},
   "outputs": [],
   "source": []
  },
  {
   "cell_type": "code",
   "execution_count": 314,
   "id": "61f7cbfd",
   "metadata": {},
   "outputs": [],
   "source": [
    "depth = 7\n",
    "width = 1700\n",
    "F = ams_sketch.F"
   ]
  },
  {
   "cell_type": "code",
   "execution_count": 315,
   "id": "41029d1c",
   "metadata": {},
   "outputs": [],
   "source": [
    "# first deal with `pos = ` "
   ]
  },
  {
   "cell_type": "code",
   "execution_count": 412,
   "id": "89bc66de",
   "metadata": {},
   "outputs": [],
   "source": [
    "@tf.function\n",
    "def tensor_hash31(x, a, b): # GOOD\n",
    "    \"\"\" Assumed that x is tensor shaped (d,) , i.e., a vector (for example, indices, i.e., tf.range(d)) \"\"\"\n",
    "    \n",
    "    # Reshape x to have an extra dimension, resulting in a shape of (k, 1)\n",
    "    x_reshaped = tf.expand_dims(x, axis=-1)\n",
    "    \n",
    "    # shape=(`v_dim`, 7)\n",
    "    r = tf.multiply(a, x_reshaped) + b\n",
    "    \n",
    "    fold = tf.bitwise.bitwise_xor(tf.bitwise.right_shift(r, 31), r)\n",
    "    return tf.bitwise.bitwise_and(fold, 2147483647)"
   ]
  },
  {
   "cell_type": "code",
   "execution_count": 414,
   "id": "d14312d2",
   "metadata": {},
   "outputs": [],
   "source": [
    "@tf.function\n",
    "def fourwise(x):\n",
    "\n",
    "    result = 2 * (in5) - 1\n",
    "    return result"
   ]
  },
  {
   "cell_type": "code",
   "execution_count": 415,
   "id": "51f840a9",
   "metadata": {},
   "outputs": [
    {
     "data": {
      "text/plain": [
       "<tf.Tensor: shape=(3, 7), dtype=int32, numpy=\n",
       "array([[1977271226,  853021704,  389148655,   99585761, 1283153601,\n",
       "        2109570381, 1216126172],\n",
       "       [2096472306, 1031553032,  917739298,  229173230, 1373326314,\n",
       "        1450757621, 1755361742],\n",
       "       [1875248543, 1210084360, 1446329941,  358760699,  265161065,\n",
       "         716118328, 2000369983]], dtype=int32)>"
      ]
     },
     "execution_count": 415,
     "metadata": {},
     "output_type": "execute_result"
    }
   ],
   "source": [
    "tensor_hash31(tf.range(3), F[0], F[1])"
   ]
  },
  {
   "cell_type": "code",
   "execution_count": 416,
   "id": "c78086d2",
   "metadata": {},
   "outputs": [
    {
     "data": {
      "text/plain": [
       "<tf.Tensor: shape=(7,), dtype=int32, numpy=array([-1,  1, -1, -1,  1,  1, -1], dtype=int32)>"
      ]
     },
     "execution_count": 416,
     "metadata": {},
     "output_type": "execute_result"
    }
   ],
   "source": [
    "ams_sketch.fourwise(5)"
   ]
  },
  {
   "cell_type": "code",
   "execution_count": null,
   "id": "6a5e9981",
   "metadata": {},
   "outputs": [],
   "source": []
  },
  {
   "cell_type": "code",
   "execution_count": null,
   "id": "8618c62c",
   "metadata": {},
   "outputs": [],
   "source": []
  },
  {
   "cell_type": "code",
   "execution_count": null,
   "id": "9fde6420",
   "metadata": {},
   "outputs": [],
   "source": []
  },
  {
   "cell_type": "code",
   "execution_count": 432,
   "id": "90495867",
   "metadata": {},
   "outputs": [],
   "source": [
    "x = tf.range(3) # will be the "
   ]
  },
  {
   "cell_type": "code",
   "execution_count": 435,
   "id": "77ead8db",
   "metadata": {},
   "outputs": [],
   "source": [
    "# 1st use the tensor hash31\n",
    "in1 = tensor_hash31(x, F[2], F[3]) # (`x_dim`, 7)"
   ]
  },
  {
   "cell_type": "code",
   "execution_count": 436,
   "id": "24f49084",
   "metadata": {},
   "outputs": [
    {
     "data": {
      "text/plain": [
       "<tf.Tensor: shape=(3, 7), dtype=int32, numpy=\n",
       "array([[1809828449, 1344524341, 1281281549,  778659535,  831478468,\n",
       "         892795837, 2147363248],\n",
       "       [1354134907,  912368886, 1282422683, 1176130933, 1321417572,\n",
       "        2041092559,  560225867],\n",
       "       [ 223130968, 1125705181, 1283563817, 1573602331,  820653682,\n",
       "        1105578014, 1027152312]], dtype=int32)>"
      ]
     },
     "execution_count": 436,
     "metadata": {},
     "output_type": "execute_result"
    }
   ],
   "source": [
    "in1"
   ]
  },
  {
   "cell_type": "code",
   "execution_count": 447,
   "id": "0500cc62",
   "metadata": {},
   "outputs": [],
   "source": [
    "# 2nd (notice we swap the first two params, no change really)\n",
    "in2 = tensor_hash31(x, in1, F[4])"
   ]
  },
  {
   "cell_type": "code",
   "execution_count": 448,
   "id": "f844237d",
   "metadata": {},
   "outputs": [
    {
     "data": {
      "text/plain": [
       "<tf.Tensor: shape=(3, 7), dtype=int32, numpy=\n",
       "array([[1182004548,  996894528,  737908117, 1246823400, 1414580191,\n",
       "         602577027, 1942232991],\n",
       "       [1758827840, 1909263414, 2020330800, 1872012962, 1558969532,\n",
       "        1651297709, 1792508437],\n",
       "       [1628266484, 1046662405,  989931544,   99060766, 1239079740,\n",
       "        1481234240,  298429680]], dtype=int32)>"
      ]
     },
     "execution_count": 448,
     "metadata": {},
     "output_type": "execute_result"
    }
   ],
   "source": [
    "in2"
   ]
  },
  {
   "cell_type": "code",
   "execution_count": 449,
   "id": "9525a473",
   "metadata": {},
   "outputs": [],
   "source": [
    "in3 = tensor_hash31(x, in2, F[5])"
   ]
  },
  {
   "cell_type": "code",
   "execution_count": 450,
   "id": "436cd411",
   "metadata": {},
   "outputs": [
    {
     "data": {
      "text/plain": [
       "<tf.Tensor: shape=(3, 7), dtype=int32, numpy=\n",
       "array([[ 981790249, 1700078957, 2135000611, 1465974970, 2021823790,\n",
       "         878007205,  600160209],\n",
       "       [1554349206,  685624924,  139635884,  956979363,  714173973,\n",
       "        1765662381, 1902298649],\n",
       "       [  56644078,  501563528,  180103596, 1664096502,  205015974,\n",
       "         454491610, 1197019569]], dtype=int32)>"
      ]
     },
     "execution_count": 450,
     "metadata": {},
     "output_type": "execute_result"
    }
   ],
   "source": [
    "in3"
   ]
  },
  {
   "cell_type": "code",
   "execution_count": 459,
   "id": "a199531b",
   "metadata": {},
   "outputs": [],
   "source": [
    "in4 = tf.bitwise.bitwise_and(in3, 32768)"
   ]
  },
  {
   "cell_type": "code",
   "execution_count": 460,
   "id": "a6eb0a62",
   "metadata": {},
   "outputs": [
    {
     "data": {
      "text/plain": [
       "<tf.Tensor: shape=(3, 7), dtype=int32, numpy=\n",
       "array([[32768,     0, 32768,     0, 32768,     0, 32768],\n",
       "       [    0, 32768, 32768,     0,     0, 32768, 32768],\n",
       "       [    0,     0,     0,     0,     0, 32768,     0]], dtype=int32)>"
      ]
     },
     "execution_count": 460,
     "metadata": {},
     "output_type": "execute_result"
    }
   ],
   "source": [
    "in4"
   ]
  },
  {
   "cell_type": "code",
   "execution_count": 462,
   "id": "39d31833",
   "metadata": {},
   "outputs": [],
   "source": [
    "in5 = tf.bitwise.right_shift(in4, 15)"
   ]
  },
  {
   "cell_type": "code",
   "execution_count": 463,
   "id": "312bee23",
   "metadata": {},
   "outputs": [
    {
     "data": {
      "text/plain": [
       "<tf.Tensor: shape=(3, 7), dtype=int32, numpy=\n",
       "array([[1, 0, 1, 0, 1, 0, 1],\n",
       "       [0, 1, 1, 0, 0, 1, 1],\n",
       "       [0, 0, 0, 0, 0, 1, 0]], dtype=int32)>"
      ]
     },
     "execution_count": 463,
     "metadata": {},
     "output_type": "execute_result"
    }
   ],
   "source": [
    "in5"
   ]
  },
  {
   "cell_type": "code",
   "execution_count": 465,
   "id": "5bbcd553",
   "metadata": {},
   "outputs": [],
   "source": [
    "out = 2 * (in5) - 1"
   ]
  },
  {
   "cell_type": "code",
   "execution_count": 466,
   "id": "f8943354",
   "metadata": {},
   "outputs": [
    {
     "data": {
      "text/plain": [
       "<tf.Tensor: shape=(3, 7), dtype=int32, numpy=\n",
       "array([[ 1, -1,  1, -1,  1, -1,  1],\n",
       "       [-1,  1,  1, -1, -1,  1,  1],\n",
       "       [-1, -1, -1, -1, -1,  1, -1]], dtype=int32)>"
      ]
     },
     "execution_count": 466,
     "metadata": {},
     "output_type": "execute_result"
    }
   ],
   "source": [
    "out"
   ]
  },
  {
   "cell_type": "code",
   "execution_count": 476,
   "id": "98a9b677",
   "metadata": {},
   "outputs": [],
   "source": [
    "v = tf.constant([1, -1, 1], shape=(3,))"
   ]
  },
  {
   "cell_type": "code",
   "execution_count": 477,
   "id": "b86cc30b",
   "metadata": {},
   "outputs": [],
   "source": [
    "v_reshape = tf.expand_dims(v, axis=-1)"
   ]
  },
  {
   "cell_type": "code",
   "execution_count": 478,
   "id": "f7fa0798",
   "metadata": {},
   "outputs": [
    {
     "data": {
      "text/plain": [
       "<tf.Tensor: shape=(3, 7), dtype=int32, numpy=\n",
       "array([[ 1, -1,  1, -1,  1, -1,  1],\n",
       "       [ 1, -1, -1,  1,  1, -1, -1],\n",
       "       [-1, -1, -1, -1, -1,  1, -1]], dtype=int32)>"
      ]
     },
     "execution_count": 478,
     "metadata": {},
     "output_type": "execute_result"
    }
   ],
   "source": [
    "tf.multiply(out, v_reshape)"
   ]
  },
  {
   "cell_type": "code",
   "execution_count": null,
   "id": "12e76c08",
   "metadata": {},
   "outputs": [],
   "source": []
  },
  {
   "cell_type": "code",
   "execution_count": null,
   "id": "43e49bde",
   "metadata": {},
   "outputs": [],
   "source": []
  },
  {
   "cell_type": "code",
   "execution_count": null,
   "id": "af0b539c",
   "metadata": {},
   "outputs": [],
   "source": []
  },
  {
   "cell_type": "code",
   "execution_count": null,
   "id": "573ec182",
   "metadata": {},
   "outputs": [],
   "source": []
  },
  {
   "cell_type": "code",
   "execution_count": null,
   "id": "d90c7fda",
   "metadata": {},
   "outputs": [],
   "source": []
  },
  {
   "cell_type": "code",
   "execution_count": null,
   "id": "837d04b0",
   "metadata": {},
   "outputs": [],
   "source": []
  },
  {
   "cell_type": "code",
   "execution_count": null,
   "id": "d9eb91a4",
   "metadata": {},
   "outputs": [],
   "source": []
  },
  {
   "cell_type": "code",
   "execution_count": null,
   "id": "159bcd02",
   "metadata": {},
   "outputs": [],
   "source": []
  },
  {
   "cell_type": "code",
   "execution_count": 360,
   "id": "5e6513c7",
   "metadata": {
    "collapsed": true
   },
   "outputs": [
    {
     "ename": "ValueError",
     "evalue": "in user code:\n\n    File \"/tmp/ipykernel_5827/1903414477.py\", line 4, in fourwise  *\n        result = 2 * (tf.bitwise.right_shift(tf.bitwise.bitwise_and(hash31(hash31(hash31(x, F[2], F[3]), x, F[4]), x, F[5]), 32768), 15)) - 1\n    File \"/tmp/ipykernel_5827/3155749302.py\", line 7, in hash31  *\n        r = tf.multiply(a, x_reshaped) + b\n\n    ValueError: Dimensions must be equal, but are 3 and 7 for '{{node add}} = AddV2[T=DT_INT32](Mul, b)' with input shapes: [3,7,3], [7].\n",
     "output_type": "error",
     "traceback": [
      "\u001b[0;31m---------------------------------------------------------------------------\u001b[0m",
      "\u001b[0;31mValueError\u001b[0m                                Traceback (most recent call last)",
      "Cell \u001b[0;32mIn[360], line 1\u001b[0m\n\u001b[0;32m----> 1\u001b[0m \u001b[43mfourwise\u001b[49m\u001b[43m(\u001b[49m\u001b[43mtf\u001b[49m\u001b[38;5;241;43m.\u001b[39;49m\u001b[43mrange\u001b[49m\u001b[43m(\u001b[49m\u001b[38;5;241;43m3\u001b[39;49m\u001b[43m)\u001b[49m\u001b[43m)\u001b[49m\n",
      "File \u001b[0;32m~/anaconda3/envs/tff-py39/lib/python3.9/site-packages/tensorflow/python/util/traceback_utils.py:153\u001b[0m, in \u001b[0;36mfilter_traceback.<locals>.error_handler\u001b[0;34m(*args, **kwargs)\u001b[0m\n\u001b[1;32m    151\u001b[0m \u001b[38;5;28;01mexcept\u001b[39;00m \u001b[38;5;167;01mException\u001b[39;00m \u001b[38;5;28;01mas\u001b[39;00m e:\n\u001b[1;32m    152\u001b[0m   filtered_tb \u001b[38;5;241m=\u001b[39m _process_traceback_frames(e\u001b[38;5;241m.\u001b[39m__traceback__)\n\u001b[0;32m--> 153\u001b[0m   \u001b[38;5;28;01mraise\u001b[39;00m e\u001b[38;5;241m.\u001b[39mwith_traceback(filtered_tb) \u001b[38;5;28;01mfrom\u001b[39;00m \u001b[38;5;28mNone\u001b[39m\n\u001b[1;32m    154\u001b[0m \u001b[38;5;28;01mfinally\u001b[39;00m:\n\u001b[1;32m    155\u001b[0m   \u001b[38;5;28;01mdel\u001b[39;00m filtered_tb\n",
      "File \u001b[0;32m/tmp/__autograph_generated_fileok9cgapd.py:10\u001b[0m, in \u001b[0;36mouter_factory.<locals>.inner_factory.<locals>.tf__fourwise\u001b[0;34m(x)\u001b[0m\n\u001b[1;32m      8\u001b[0m do_return \u001b[38;5;241m=\u001b[39m \u001b[38;5;28;01mFalse\u001b[39;00m\n\u001b[1;32m      9\u001b[0m retval_ \u001b[38;5;241m=\u001b[39m ag__\u001b[38;5;241m.\u001b[39mUndefinedReturnValue()\n\u001b[0;32m---> 10\u001b[0m result \u001b[38;5;241m=\u001b[39m \u001b[38;5;241m2\u001b[39m \u001b[38;5;241m*\u001b[39m ag__\u001b[38;5;241m.\u001b[39mconverted_call(ag__\u001b[38;5;241m.\u001b[39mld(tf)\u001b[38;5;241m.\u001b[39mbitwise\u001b[38;5;241m.\u001b[39mright_shift, (ag__\u001b[38;5;241m.\u001b[39mconverted_call(ag__\u001b[38;5;241m.\u001b[39mld(tf)\u001b[38;5;241m.\u001b[39mbitwise\u001b[38;5;241m.\u001b[39mbitwise_and, (ag__\u001b[38;5;241m.\u001b[39mconverted_call(ag__\u001b[38;5;241m.\u001b[39mld(hash31), (ag__\u001b[38;5;241m.\u001b[39mconverted_call(ag__\u001b[38;5;241m.\u001b[39mld(hash31), (ag__\u001b[38;5;241m.\u001b[39mconverted_call(ag__\u001b[38;5;241m.\u001b[39mld(hash31), (ag__\u001b[38;5;241m.\u001b[39mld(x), ag__\u001b[38;5;241m.\u001b[39mld(F)[\u001b[38;5;241m2\u001b[39m], ag__\u001b[38;5;241m.\u001b[39mld(F)[\u001b[38;5;241m3\u001b[39m]), \u001b[38;5;28;01mNone\u001b[39;00m, fscope), ag__\u001b[38;5;241m.\u001b[39mld(x), ag__\u001b[38;5;241m.\u001b[39mld(F)[\u001b[38;5;241m4\u001b[39m]), \u001b[38;5;28;01mNone\u001b[39;00m, fscope), ag__\u001b[38;5;241m.\u001b[39mld(x), ag__\u001b[38;5;241m.\u001b[39mld(F)[\u001b[38;5;241m5\u001b[39m]), \u001b[38;5;28;01mNone\u001b[39;00m, fscope), \u001b[38;5;241m32768\u001b[39m), \u001b[38;5;28;01mNone\u001b[39;00m, fscope), \u001b[38;5;241m15\u001b[39m), \u001b[38;5;28;01mNone\u001b[39;00m, fscope) \u001b[38;5;241m-\u001b[39m \u001b[38;5;241m1\u001b[39m\n\u001b[1;32m     11\u001b[0m \u001b[38;5;28;01mtry\u001b[39;00m:\n\u001b[1;32m     12\u001b[0m     do_return \u001b[38;5;241m=\u001b[39m \u001b[38;5;28;01mTrue\u001b[39;00m\n",
      "File \u001b[0;32m/tmp/__autograph_generated_file0j_nx4nu.py:11\u001b[0m, in \u001b[0;36mouter_factory.<locals>.inner_factory.<locals>.tf__hash31\u001b[0;34m(x, a, b)\u001b[0m\n\u001b[1;32m      9\u001b[0m retval_ \u001b[38;5;241m=\u001b[39m ag__\u001b[38;5;241m.\u001b[39mUndefinedReturnValue()\n\u001b[1;32m     10\u001b[0m x_reshaped \u001b[38;5;241m=\u001b[39m ag__\u001b[38;5;241m.\u001b[39mconverted_call(ag__\u001b[38;5;241m.\u001b[39mld(tf)\u001b[38;5;241m.\u001b[39mexpand_dims, (ag__\u001b[38;5;241m.\u001b[39mld(x),), \u001b[38;5;28mdict\u001b[39m(axis\u001b[38;5;241m=\u001b[39m\u001b[38;5;241m-\u001b[39m\u001b[38;5;241m1\u001b[39m), fscope)\n\u001b[0;32m---> 11\u001b[0m r \u001b[38;5;241m=\u001b[39m ag__\u001b[38;5;241m.\u001b[39mconverted_call(ag__\u001b[38;5;241m.\u001b[39mld(tf)\u001b[38;5;241m.\u001b[39mmultiply, (ag__\u001b[38;5;241m.\u001b[39mld(a), ag__\u001b[38;5;241m.\u001b[39mld(x_reshaped)), \u001b[38;5;28;01mNone\u001b[39;00m, fscope) \u001b[38;5;241m+\u001b[39m ag__\u001b[38;5;241m.\u001b[39mld(b)\n\u001b[1;32m     12\u001b[0m fold \u001b[38;5;241m=\u001b[39m ag__\u001b[38;5;241m.\u001b[39mconverted_call(ag__\u001b[38;5;241m.\u001b[39mld(tf)\u001b[38;5;241m.\u001b[39mbitwise\u001b[38;5;241m.\u001b[39mbitwise_xor, (ag__\u001b[38;5;241m.\u001b[39mconverted_call(ag__\u001b[38;5;241m.\u001b[39mld(tf)\u001b[38;5;241m.\u001b[39mbitwise\u001b[38;5;241m.\u001b[39mright_shift, (ag__\u001b[38;5;241m.\u001b[39mld(r), \u001b[38;5;241m31\u001b[39m), \u001b[38;5;28;01mNone\u001b[39;00m, fscope), ag__\u001b[38;5;241m.\u001b[39mld(r)), \u001b[38;5;28;01mNone\u001b[39;00m, fscope)\n\u001b[1;32m     13\u001b[0m \u001b[38;5;28;01mtry\u001b[39;00m:\n",
      "\u001b[0;31mValueError\u001b[0m: in user code:\n\n    File \"/tmp/ipykernel_5827/1903414477.py\", line 4, in fourwise  *\n        result = 2 * (tf.bitwise.right_shift(tf.bitwise.bitwise_and(hash31(hash31(hash31(x, F[2], F[3]), x, F[4]), x, F[5]), 32768), 15)) - 1\n    File \"/tmp/ipykernel_5827/3155749302.py\", line 7, in hash31  *\n        r = tf.multiply(a, x_reshaped) + b\n\n    ValueError: Dimensions must be equal, but are 3 and 7 for '{{node add}} = AddV2[T=DT_INT32](Mul, b)' with input shapes: [3,7,3], [7].\n"
     ]
    }
   ],
   "source": [
    "fourwise(tf.range(3))"
   ]
  },
  {
   "cell_type": "code",
   "execution_count": 351,
   "id": "50c4fcc5",
   "metadata": {},
   "outputs": [
    {
     "data": {
      "text/plain": [
       "<tf.Tensor: shape=(3, 7), dtype=int32, numpy=\n",
       "array([[1977271226,  853021704,  389148655,   99585761, 1283153601,\n",
       "        2109570381, 1216126172],\n",
       "       [2096472306, 1031553032,  917739298,  229173230, 1373326314,\n",
       "        1450757621, 1755361742],\n",
       "       [1875248543, 1210084360, 1446329941,  358760699,  265161065,\n",
       "         716118328, 2000369983]], dtype=int32)>"
      ]
     },
     "execution_count": 351,
     "metadata": {},
     "output_type": "execute_result"
    }
   ],
   "source": [
    "hash31_test(tf.range(3), F[0], F[1])"
   ]
  },
  {
   "cell_type": "code",
   "execution_count": 324,
   "id": "547fa491",
   "metadata": {},
   "outputs": [
    {
     "data": {
      "text/plain": [
       "<tf.Tensor: shape=(7,), dtype=int32, numpy=\n",
       "array([-2096472307,  1031553032,   917739298,   229173230, -1373326315,\n",
       "       -1450757622,  1755361742], dtype=int32)>"
      ]
     },
     "execution_count": 324,
     "metadata": {},
     "output_type": "execute_result"
    }
   ],
   "source": [
    "tf.add(F[0], F[1])"
   ]
  },
  {
   "cell_type": "code",
   "execution_count": 318,
   "id": "0161988e",
   "metadata": {},
   "outputs": [
    {
     "data": {
      "text/plain": [
       "<tf.Tensor: shape=(7,), dtype=int32, numpy=\n",
       "array([1977271226,  853021704,  389148655,   99585761, 1283153601,\n",
       "       2109570381, 1216126172], dtype=int32)>"
      ]
     },
     "execution_count": 318,
     "metadata": {},
     "output_type": "execute_result"
    }
   ],
   "source": [
    "ams_sketch.hash31(0, F[0], F[1])"
   ]
  },
  {
   "cell_type": "code",
   "execution_count": 319,
   "id": "a2a9dc63",
   "metadata": {},
   "outputs": [
    {
     "data": {
      "text/plain": [
       "<tf.Tensor: shape=(7,), dtype=int32, numpy=\n",
       "array([2096472306, 1031553032,  917739298,  229173230, 1373326314,\n",
       "       1450757621, 1755361742], dtype=int32)>"
      ]
     },
     "execution_count": 319,
     "metadata": {},
     "output_type": "execute_result"
    }
   ],
   "source": [
    "ams_sketch.hash31(1, F[0], F[1])"
   ]
  },
  {
   "cell_type": "code",
   "execution_count": 320,
   "id": "d2725dcc",
   "metadata": {},
   "outputs": [
    {
     "data": {
      "text/plain": [
       "<tf.Tensor: shape=(7,), dtype=int32, numpy=\n",
       "array([1875248543, 1210084360, 1446329941,  358760699,  265161065,\n",
       "        716118328, 2000369983], dtype=int32)>"
      ]
     },
     "execution_count": 320,
     "metadata": {},
     "output_type": "execute_result"
    }
   ],
   "source": [
    "ams_sketch.hash31(2, F[0], F[1])"
   ]
  },
  {
   "cell_type": "code",
   "execution_count": null,
   "id": "2e3151f3",
   "metadata": {},
   "outputs": [],
   "source": []
  },
  {
   "cell_type": "code",
   "execution_count": null,
   "id": "29330f5d",
   "metadata": {},
   "outputs": [],
   "source": []
  },
  {
   "cell_type": "code",
   "execution_count": null,
   "id": "375348bf",
   "metadata": {},
   "outputs": [],
   "source": []
  },
  {
   "cell_type": "code",
   "execution_count": null,
   "id": "410ad917",
   "metadata": {},
   "outputs": [],
   "source": []
  },
  {
   "cell_type": "code",
   "execution_count": null,
   "id": "368e13d3",
   "metadata": {},
   "outputs": [],
   "source": []
  },
  {
   "cell_type": "code",
   "execution_count": null,
   "id": "964960fe",
   "metadata": {},
   "outputs": [],
   "source": []
  },
  {
   "cell_type": "code",
   "execution_count": null,
   "id": "e690692e",
   "metadata": {},
   "outputs": [],
   "source": []
  },
  {
   "cell_type": "code",
   "execution_count": null,
   "id": "e244d3ce",
   "metadata": {},
   "outputs": [],
   "source": []
  },
  {
   "cell_type": "code",
   "execution_count": null,
   "id": "2720ee6d",
   "metadata": {},
   "outputs": [],
   "source": []
  },
  {
   "cell_type": "code",
   "execution_count": null,
   "id": "78519e47",
   "metadata": {},
   "outputs": [],
   "source": []
  },
  {
   "cell_type": "code",
   "execution_count": null,
   "id": "11c89336",
   "metadata": {},
   "outputs": [],
   "source": []
  },
  {
   "cell_type": "code",
   "execution_count": null,
   "id": "10249cb3",
   "metadata": {},
   "outputs": [],
   "source": []
  },
  {
   "cell_type": "code",
   "execution_count": null,
   "id": "cfb8ee6b",
   "metadata": {},
   "outputs": [],
   "source": []
  },
  {
   "cell_type": "code",
   "execution_count": null,
   "id": "7a46c8c9",
   "metadata": {},
   "outputs": [],
   "source": []
  },
  {
   "cell_type": "code",
   "execution_count": null,
   "id": "cb9163ee",
   "metadata": {},
   "outputs": [],
   "source": []
  },
  {
   "cell_type": "code",
   "execution_count": null,
   "id": "25e57305",
   "metadata": {},
   "outputs": [],
   "source": []
  },
  {
   "cell_type": "code",
   "execution_count": null,
   "id": "c0209f2c",
   "metadata": {},
   "outputs": [],
   "source": []
  },
  {
   "cell_type": "code",
   "execution_count": null,
   "id": "873791b2",
   "metadata": {},
   "outputs": [],
   "source": []
  },
  {
   "cell_type": "code",
   "execution_count": null,
   "id": "2621301a",
   "metadata": {},
   "outputs": [],
   "source": []
  },
  {
   "cell_type": "code",
   "execution_count": null,
   "id": "ce2ce309",
   "metadata": {},
   "outputs": [],
   "source": []
  },
  {
   "cell_type": "code",
   "execution_count": null,
   "id": "749926a2",
   "metadata": {},
   "outputs": [],
   "source": []
  },
  {
   "cell_type": "code",
   "execution_count": null,
   "id": "0091b96f",
   "metadata": {},
   "outputs": [],
   "source": []
  },
  {
   "cell_type": "code",
   "execution_count": null,
   "id": "8855a504",
   "metadata": {},
   "outputs": [],
   "source": []
  },
  {
   "cell_type": "code",
   "execution_count": null,
   "id": "13756196",
   "metadata": {},
   "outputs": [],
   "source": []
  },
  {
   "cell_type": "code",
   "execution_count": null,
   "id": "b5206f61",
   "metadata": {},
   "outputs": [],
   "source": []
  },
  {
   "cell_type": "code",
   "execution_count": null,
   "id": "8f6a5351",
   "metadata": {},
   "outputs": [],
   "source": []
  },
  {
   "cell_type": "code",
   "execution_count": null,
   "id": "10bdc2d4",
   "metadata": {},
   "outputs": [],
   "source": [
    "@tf.function\n",
    "def sketch_for_vector2(self, v):\n",
    "    \"\"\" Quicker implementation? Not really... \"\"\"\n",
    "\n",
    "    print(\"retrace\")\n",
    "\n",
    "    sketch = tf.zeros(shape=(self.depth, self.width), dtype=tf.float32)\n",
    "\n",
    "    len_v = v.shape[0]\n",
    "\n",
    "    pos_array = tf.TensorArray(dtype=tf.int32, size=0, dynamic_size=True)\n",
    "    deltas_array = tf.TensorArray(dtype=tf.float32, size=0, dynamic_size=True)\n",
    "\n",
    "    for i in tf.range(len_v, dtype=tf.int32):\n",
    "        pos = self.hash31(i, self.F[0], self.F[1]) % self.width\n",
    "        delta = tf.cast(self.fourwise(i), dtype=tf.float32) * v[i]\n",
    "\n",
    "        pos_array = pos_array.write(i, pos)\n",
    "        deltas_array = deltas_array.write(i, delta)\n",
    "\n",
    "    pos_stacked = pos_array.stack()\n",
    "\n",
    "    # shape=(`len_v`, 7)\n",
    "    deltas_stacked = deltas_array.stack()\n",
    "\n",
    "    range_tensor = tf.range(self.depth)\n",
    "\n",
    "    # Expand dimensions to create a 2D tensor with shape (1, depth)\n",
    "    range_tensor_expanded = tf.expand_dims(range_tensor, 0)\n",
    "\n",
    "    # Use tf.tile to repeat the tensor `len_v` times\n",
    "    repeated_range_tensor = tf.tile(input_tensor_expanded, [len_v, 1])\n",
    "\n",
    "    # shape=(`len_v`, 7, 2)\n",
    "    indices = tf.stack([repeated_range_tensor, pos_stacked], axis=-1)\n",
    "\n",
    "    sketch = tf.tensor_scatter_nd_add(sketch, indices, deltas_stacked)\n",
    "\n",
    "    return sketch"
   ]
  }
 ],
 "metadata": {
  "kernelspec": {
   "display_name": "Python [conda env:tff-py39] *",
   "language": "python",
   "name": "conda-env-tff-py39-py"
  },
  "language_info": {
   "codemirror_mode": {
    "name": "ipython",
    "version": 3
   },
   "file_extension": ".py",
   "mimetype": "text/x-python",
   "name": "python",
   "nbconvert_exporter": "python",
   "pygments_lexer": "ipython3",
   "version": "3.9.16"
  }
 },
 "nbformat": 4,
 "nbformat_minor": 5
}
