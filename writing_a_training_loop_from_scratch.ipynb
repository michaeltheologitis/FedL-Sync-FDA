{
 "cells": [
  {
   "cell_type": "markdown",
   "metadata": {
    "id": "b518b04cbfe0"
   },
   "source": [
    "##### Copyright 2020 The TensorFlow Authors."
   ]
  },
  {
   "cell_type": "code",
   "execution_count": 1,
   "metadata": {
    "cellView": "form",
    "execution": {
     "iopub.execute_input": "2021-08-25T17:46:40.428325Z",
     "iopub.status.busy": "2021-08-25T17:46:40.427703Z",
     "iopub.status.idle": "2021-08-25T17:46:40.431392Z",
     "shell.execute_reply": "2021-08-25T17:46:40.430847Z"
    },
    "id": "906e07f6e562"
   },
   "outputs": [],
   "source": [
    "#@title Licensed under the Apache License, Version 2.0 (the \"License\");\n",
    "# you may not use this file except in compliance with the License.\n",
    "# You may obtain a copy of the License at\n",
    "#\n",
    "# https://www.apache.org/licenses/LICENSE-2.0\n",
    "#\n",
    "# Unless required by applicable law or agreed to in writing, software\n",
    "# distributed under the License is distributed on an \"AS IS\" BASIS,\n",
    "# WITHOUT WARRANTIES OR CONDITIONS OF ANY KIND, either express or implied.\n",
    "# See the License for the specific language governing permissions and\n",
    "# limitations under the License."
   ]
  },
  {
   "cell_type": "markdown",
   "metadata": {
    "id": "daf323e33b84"
   },
   "source": [
    "# Writing a training loop from scratch"
   ]
  },
  {
   "cell_type": "markdown",
   "metadata": {
    "id": "2440f6e0c5ef"
   },
   "source": [
    "<table class=\"tfo-notebook-buttons\" align=\"left\">\n",
    "  <td>\n",
    "    <a target=\"_blank\" href=\"https://www.tensorflow.org/guide/keras/writing_a_training_loop_from_scratch\"><img src=\"https://www.tensorflow.org/images/tf_logo_32px.png\" />View on TensorFlow.org</a>\n",
    "  </td>\n",
    "  <td>\n",
    "    <a target=\"_blank\" href=\"https://colab.research.google.com/github/tensorflow/docs/blob/snapshot-keras/site/en/guide/keras/writing_a_training_loop_from_scratch.ipynb\"><img src=\"https://www.tensorflow.org/images/colab_logo_32px.png\" />Run in Google Colab</a>\n",
    "  </td>\n",
    "  <td>\n",
    "    <a target=\"_blank\" href=\"https://github.com/keras-team/keras-io/blob/master/guides/writing_a_training_loop_from_scratch.py\"><img src=\"https://www.tensorflow.org/images/GitHub-Mark-32px.png\" />View source on GitHub</a>\n",
    "  </td>\n",
    "  <td>\n",
    "    <a href=\"https://storage.googleapis.com/tensorflow_docs/docs/site/en/guide/keras/writing_a_training_loop_from_scratch.ipynb\"><img src=\"https://www.tensorflow.org/images/download_logo_32px.png\" />Download notebook</a>\n",
    "  </td>\n",
    "</table>"
   ]
  },
  {
   "cell_type": "markdown",
   "metadata": {
    "id": "8d4ac441b1fc"
   },
   "source": [
    "## Setup"
   ]
  },
  {
   "cell_type": "code",
   "execution_count": 2,
   "metadata": {
    "execution": {
     "iopub.execute_input": "2021-08-25T17:46:40.439474Z",
     "iopub.status.busy": "2021-08-25T17:46:40.438785Z",
     "iopub.status.idle": "2021-08-25T17:46:42.173951Z",
     "shell.execute_reply": "2021-08-25T17:46:42.174381Z"
    },
    "id": "ae2407ad926f"
   },
   "outputs": [],
   "source": [
    "import tensorflow as tf\n",
    "from tensorflow import keras\n",
    "from tensorflow.keras import layers\n",
    "import numpy as np"
   ]
  },
  {
   "cell_type": "markdown",
   "metadata": {
    "id": "0f5a253901f8"
   },
   "source": [
    "## Introduction\n",
    "\n",
    "Keras provides default training and evaluation loops, `fit()` and `evaluate()`.\n",
    "Their usage is covered in the guide\n",
    "[Training & evaluation with the built-in methods](https://www.tensorflow.org/guide/keras/train_and_evaluate/).\n",
    "\n",
    "If you want to customize the learning algorithm of your model while still leveraging\n",
    "the convenience of `fit()`\n",
    "(for instance, to train a GAN using `fit()`), you can subclass the `Model` class and\n",
    "implement your own `train_step()` method, which\n",
    "is called repeatedly during `fit()`. This is covered in the guide\n",
    "[Customizing what happens in `fit()`](https://www.tensorflow.org/guide/keras/customizing_what_happens_in_fit/).\n",
    "\n",
    "Now, if you want very low-level control over training & evaluation, you should write\n",
    "your own training & evaluation loops from scratch. This is what this guide is about."
   ]
  },
  {
   "cell_type": "markdown",
   "metadata": {
    "id": "f4f47351a3ec"
   },
   "source": [
    "## Using the `GradientTape`: a first end-to-end example\n",
    "\n",
    "Calling a model inside a `GradientTape` scope enables you to retrieve the gradients of\n",
    "the trainable weights of the layer with respect to a loss value. Using an optimizer\n",
    "instance, you can use these gradients to update these variables (which you can\n",
    "retrieve using `model.trainable_weights`).\n",
    "\n",
    "Let's consider a simple MNIST model:"
   ]
  },
  {
   "cell_type": "code",
   "execution_count": 3,
   "metadata": {
    "execution": {
     "iopub.execute_input": "2021-08-25T17:46:42.179977Z",
     "iopub.status.busy": "2021-08-25T17:46:42.179322Z",
     "iopub.status.idle": "2021-08-25T17:46:43.889759Z",
     "shell.execute_reply": "2021-08-25T17:46:43.890228Z"
    },
    "id": "aaa775ce7dab"
   },
   "outputs": [],
   "source": [
    "inputs = keras.Input(shape=(784,), name=\"digits\")\n",
    "x1 = layers.Dense(64, activation=\"relu\")(inputs)\n",
    "x2 = layers.Dense(64, activation=\"relu\")(x1)\n",
    "outputs = layers.Dense(10, name=\"predictions\")(x2)\n",
    "model = keras.Model(inputs=inputs, outputs=outputs)"
   ]
  },
  {
   "cell_type": "markdown",
   "metadata": {
    "id": "d8b02a5759cf"
   },
   "source": [
    "Let's train it using mini-batch gradient with a custom training loop.\n",
    "\n",
    "First, we're going to need an optimizer, a loss function, and a dataset:"
   ]
  },
  {
   "cell_type": "code",
   "execution_count": 4,
   "metadata": {
    "execution": {
     "iopub.execute_input": "2021-08-25T17:46:43.897935Z",
     "iopub.status.busy": "2021-08-25T17:46:43.897258Z",
     "iopub.status.idle": "2021-08-25T17:46:45.129392Z",
     "shell.execute_reply": "2021-08-25T17:46:45.129878Z"
    },
    "id": "f2c6257b8d02"
   },
   "outputs": [
    {
     "name": "stdout",
     "output_type": "stream",
     "text": [
      "Downloading data from https://storage.googleapis.com/tensorflow/tf-keras-datasets/mnist.npz\n",
      "11493376/11490434 [==============================] - 1s 0us/step\n",
      "11501568/11490434 [==============================] - 1s 0us/step\n"
     ]
    }
   ],
   "source": [
    "# Instantiate an optimizer.\n",
    "optimizer = keras.optimizers.SGD(learning_rate=1e-3)\n",
    "# Instantiate a loss function.\n",
    "loss_fn = keras.losses.SparseCategoricalCrossentropy(from_logits=True)\n",
    "\n",
    "# Prepare the training dataset.\n",
    "batch_size = 64\n",
    "(x_train, y_train), (x_test, y_test) = keras.datasets.mnist.load_data()\n",
    "x_train = np.reshape(x_train, (-1, 784))\n",
    "x_test = np.reshape(x_test, (-1, 784))\n",
    "\n",
    "# Reserve 10,000 samples for validation.\n",
    "x_val = x_train[-10000:]\n",
    "y_val = y_train[-10000:]\n",
    "x_train = x_train[:-10000]\n",
    "y_train = y_train[:-10000]\n",
    "\n",
    "# Prepare the training dataset.\n",
    "train_dataset = tf.data.Dataset.from_tensor_slices((x_train, y_train))\n",
    "train_dataset = train_dataset.shuffle(buffer_size=1024).batch(batch_size)\n",
    "\n",
    "# Prepare the validation dataset.\n",
    "val_dataset = tf.data.Dataset.from_tensor_slices((x_val, y_val))\n",
    "val_dataset = val_dataset.batch(batch_size)"
   ]
  },
  {
   "cell_type": "markdown",
   "metadata": {
    "id": "5c30285b1a2e"
   },
   "source": [
    "Here's our training loop:\n",
    "\n",
    "- We open a `for` loop that iterates over epochs\n",
    "- For each epoch, we open a `for` loop that iterates over the dataset, in batches\n",
    "- For each batch, we open a `GradientTape()` scope\n",
    "- Inside this scope, we call the model (forward pass) and compute the loss\n",
    "- Outside the scope, we retrieve the gradients of the weights\n",
    "of the model with regard to the loss\n",
    "- Finally, we use the optimizer to update the weights of the model based on the\n",
    "gradients"
   ]
  },
  {
   "cell_type": "code",
   "execution_count": 5,
   "metadata": {
    "execution": {
     "iopub.execute_input": "2021-08-25T17:46:45.137586Z",
     "iopub.status.busy": "2021-08-25T17:46:45.136897Z",
     "iopub.status.idle": "2021-08-25T17:46:55.198600Z",
     "shell.execute_reply": "2021-08-25T17:46:55.199074Z"
    },
    "id": "5bf4c10ceb50"
   },
   "outputs": [
    {
     "name": "stdout",
     "output_type": "stream",
     "text": [
      "\n",
      "Start of epoch 0\n",
      "Training loss (for one batch) at step 0: 68.7478\n",
      "Seen so far: 64 samples\n",
      "Training loss (for one batch) at step 200: 1.9448\n",
      "Seen so far: 12864 samples\n",
      "Training loss (for one batch) at step 400: 1.1859\n",
      "Seen so far: 25664 samples\n",
      "Training loss (for one batch) at step 600: 0.6914\n",
      "Seen so far: 38464 samples\n",
      "\n",
      "Start of epoch 1\n",
      "Training loss (for one batch) at step 0: 0.9113\n",
      "Seen so far: 64 samples\n",
      "Training loss (for one batch) at step 200: 0.9550\n",
      "Seen so far: 12864 samples\n",
      "Training loss (for one batch) at step 400: 0.5139\n",
      "Seen so far: 25664 samples\n",
      "Training loss (for one batch) at step 600: 0.7227\n",
      "Seen so far: 38464 samples\n"
     ]
    }
   ],
   "source": [
    "epochs = 2\n",
    "for epoch in range(epochs):\n",
    "    print(\"\\nStart of epoch %d\" % (epoch,))\n",
    "\n",
    "    # Iterate over the batches of the dataset.\n",
    "    for step, (x_batch_train, y_batch_train) in enumerate(train_dataset):\n",
    "\n",
    "        # Open a GradientTape to record the operations run\n",
    "        # during the forward pass, which enables auto-differentiation.\n",
    "        with tf.GradientTape() as tape:\n",
    "\n",
    "            # Run the forward pass of the layer.\n",
    "            # The operations that the layer applies\n",
    "            # to its inputs are going to be recorded\n",
    "            # on the GradientTape.\n",
    "            logits = model(x_batch_train, training=True)  # Logits for this minibatch\n",
    "\n",
    "            # Compute the loss value for this minibatch.\n",
    "            loss_value = loss_fn(y_batch_train, logits)\n",
    "\n",
    "        # Use the gradient tape to automatically retrieve\n",
    "        # the gradients of the trainable variables with respect to the loss.\n",
    "        grads = tape.gradient(loss_value, model.trainable_weights)\n",
    "\n",
    "        # Run one step of gradient descent by updating\n",
    "        # the value of the variables to minimize the loss.\n",
    "        optimizer.apply_gradients(zip(grads, model.trainable_weights))\n",
    "\n",
    "        # Log every 200 batches.\n",
    "        if step % 200 == 0:\n",
    "            print(\n",
    "                \"Training loss (for one batch) at step %d: %.4f\"\n",
    "                % (step, float(loss_value))\n",
    "            )\n",
    "            print(\"Seen so far: %s samples\" % ((step + 1) * batch_size))"
   ]
  },
  {
   "cell_type": "markdown",
   "metadata": {
    "id": "d600076b7be0"
   },
   "source": [
    "## Low-level handling of metrics\n",
    "\n",
    "Let's add metrics monitoring to this basic loop.\n",
    "\n",
    "You can readily reuse the built-in metrics (or custom ones you wrote) in such training\n",
    "loops written from scratch. Here's the flow:\n",
    "\n",
    "- Instantiate the metric at the start of the loop\n",
    "- Call `metric.update_state()` after each batch\n",
    "- Call `metric.result()` when you need to display the current value of the metric\n",
    "- Call `metric.reset_states()` when you need to clear the state of the metric\n",
    "(typically at the end of an epoch)\n",
    "\n",
    "Let's use this knowledge to compute `SparseCategoricalAccuracy` on validation data at\n",
    "the end of each epoch:"
   ]
  },
  {
   "cell_type": "code",
   "execution_count": 6,
   "metadata": {
    "execution": {
     "iopub.execute_input": "2021-08-25T17:46:55.210546Z",
     "iopub.status.busy": "2021-08-25T17:46:55.209672Z",
     "iopub.status.idle": "2021-08-25T17:46:55.238888Z",
     "shell.execute_reply": "2021-08-25T17:46:55.238327Z"
    },
    "id": "2602509b16c7"
   },
   "outputs": [],
   "source": [
    "# Get model\n",
    "inputs = keras.Input(shape=(784,), name=\"digits\")\n",
    "x = layers.Dense(64, activation=\"relu\", name=\"dense_1\")(inputs)\n",
    "x = layers.Dense(64, activation=\"relu\", name=\"dense_2\")(x)\n",
    "outputs = layers.Dense(10, name=\"predictions\")(x)\n",
    "model = keras.Model(inputs=inputs, outputs=outputs)\n",
    "\n",
    "# Instantiate an optimizer to train the model.\n",
    "optimizer = keras.optimizers.SGD(learning_rate=1e-3)\n",
    "# Instantiate a loss function.\n",
    "loss_fn = keras.losses.SparseCategoricalCrossentropy(from_logits=True)\n",
    "\n",
    "# Prepare the metrics.\n",
    "train_acc_metric = keras.metrics.SparseCategoricalAccuracy()\n",
    "val_acc_metric = keras.metrics.SparseCategoricalAccuracy()"
   ]
  },
  {
   "cell_type": "markdown",
   "metadata": {
    "id": "9111a5cc87dc"
   },
   "source": [
    "Here's our training & evaluation loop:"
   ]
  },
  {
   "cell_type": "code",
   "execution_count": 7,
   "metadata": {
    "execution": {
     "iopub.execute_input": "2021-08-25T17:46:55.247898Z",
     "iopub.status.busy": "2021-08-25T17:46:55.247237Z",
     "iopub.status.idle": "2021-08-25T17:47:07.538355Z",
     "shell.execute_reply": "2021-08-25T17:47:07.538834Z"
    },
    "id": "654e2311dbff"
   },
   "outputs": [
    {
     "name": "stdout",
     "output_type": "stream",
     "text": [
      "\n",
      "Start of epoch 0\n",
      "Training loss (for one batch) at step 0: 88.9958\n",
      "Seen so far: 64 samples\n",
      "Training loss (for one batch) at step 200: 2.2214\n",
      "Seen so far: 12864 samples\n",
      "Training loss (for one batch) at step 400: 1.3083\n",
      "Seen so far: 25664 samples\n",
      "Training loss (for one batch) at step 600: 0.8282\n",
      "Seen so far: 38464 samples\n",
      "Training acc over epoch: 0.7406\n",
      "Validation acc: 0.8201\n",
      "Time taken: 6.31s\n",
      "\n",
      "Start of epoch 1\n",
      "Training loss (for one batch) at step 0: 0.3276\n",
      "Seen so far: 64 samples\n",
      "Training loss (for one batch) at step 200: 0.4819\n",
      "Seen so far: 12864 samples\n",
      "Training loss (for one batch) at step 400: 0.5971\n",
      "Seen so far: 25664 samples\n",
      "Training loss (for one batch) at step 600: 0.5862\n",
      "Seen so far: 38464 samples\n",
      "Training acc over epoch: 0.8474\n",
      "Validation acc: 0.8676\n",
      "Time taken: 5.98s\n"
     ]
    }
   ],
   "source": [
    "import time\n",
    "\n",
    "epochs = 2\n",
    "for epoch in range(epochs):\n",
    "    print(\"\\nStart of epoch %d\" % (epoch,))\n",
    "    start_time = time.time()\n",
    "\n",
    "    # Iterate over the batches of the dataset.\n",
    "    for step, (x_batch_train, y_batch_train) in enumerate(train_dataset):\n",
    "        with tf.GradientTape() as tape:\n",
    "            logits = model(x_batch_train, training=True)\n",
    "            loss_value = loss_fn(y_batch_train, logits)\n",
    "        grads = tape.gradient(loss_value, model.trainable_weights)\n",
    "        optimizer.apply_gradients(zip(grads, model.trainable_weights))\n",
    "\n",
    "        # Update training metric.\n",
    "        train_acc_metric.update_state(y_batch_train, logits)\n",
    "\n",
    "        # Log every 200 batches.\n",
    "        if step % 200 == 0:\n",
    "            print(\n",
    "                \"Training loss (for one batch) at step %d: %.4f\"\n",
    "                % (step, float(loss_value))\n",
    "            )\n",
    "            print(\"Seen so far: %d samples\" % ((step + 1) * batch_size))\n",
    "\n",
    "    # Display metrics at the end of each epoch.\n",
    "    train_acc = train_acc_metric.result()\n",
    "    print(\"Training acc over epoch: %.4f\" % (float(train_acc),))\n",
    "\n",
    "    # Reset training metrics at the end of each epoch\n",
    "    train_acc_metric.reset_states()\n",
    "\n",
    "    # Run a validation loop at the end of each epoch.\n",
    "    for x_batch_val, y_batch_val in val_dataset:\n",
    "        val_logits = model(x_batch_val, training=False)\n",
    "        # Update val metrics\n",
    "        val_acc_metric.update_state(y_batch_val, val_logits)\n",
    "    val_acc = val_acc_metric.result()\n",
    "    val_acc_metric.reset_states()\n",
    "    print(\"Validation acc: %.4f\" % (float(val_acc),))\n",
    "    print(\"Time taken: %.2fs\" % (time.time() - start_time))"
   ]
  },
  {
   "cell_type": "markdown",
   "metadata": {
    "id": "1c9a16c21790"
   },
   "source": [
    "## Speeding-up your training step with `tf.function`\n",
    "\n",
    "The default runtime in TensorFlow 2 is\n",
    "[eager execution](https://www.tensorflow.org/guide/eager).\n",
    "As such, our training loop above executes eagerly.\n",
    "\n",
    "This is great for debugging, but graph compilation has a definite performance\n",
    "advantage. Describing your computation as a static graph enables the framework\n",
    "to apply global performance optimizations. This is impossible when\n",
    "the framework is constrained to greedly execute one operation after another,\n",
    "with no knowledge of what comes next.\n",
    "\n",
    "You can compile into a static graph any function that takes tensors as input.\n",
    "Just add a `@tf.function` decorator on it, like this:"
   ]
  },
  {
   "cell_type": "code",
   "execution_count": 8,
   "metadata": {
    "execution": {
     "iopub.execute_input": "2021-08-25T17:47:07.544661Z",
     "iopub.status.busy": "2021-08-25T17:47:07.544004Z",
     "iopub.status.idle": "2021-08-25T17:47:07.545952Z",
     "shell.execute_reply": "2021-08-25T17:47:07.546370Z"
    },
    "id": "fdacc2d48ade"
   },
   "outputs": [],
   "source": [
    "@tf.function\n",
    "def train_step(x, y):\n",
    "    with tf.GradientTape() as tape:\n",
    "        logits = model(x, training=True)\n",
    "        loss_value = loss_fn(y, logits)\n",
    "    grads = tape.gradient(loss_value, model.trainable_weights)\n",
    "    optimizer.apply_gradients(zip(grads, model.trainable_weights))\n",
    "    train_acc_metric.update_state(y, logits)\n",
    "    return loss_value\n"
   ]
  },
  {
   "cell_type": "markdown",
   "metadata": {
    "id": "ab61b0bf3126"
   },
   "source": [
    "Let's do the same with the evaluation step:"
   ]
  },
  {
   "cell_type": "code",
   "execution_count": 9,
   "metadata": {
    "execution": {
     "iopub.execute_input": "2021-08-25T17:47:07.550691Z",
     "iopub.status.busy": "2021-08-25T17:47:07.550085Z",
     "iopub.status.idle": "2021-08-25T17:47:07.551990Z",
     "shell.execute_reply": "2021-08-25T17:47:07.552325Z"
    },
    "id": "da4828fd8ef7"
   },
   "outputs": [],
   "source": [
    "@tf.function\n",
    "def test_step(x, y):\n",
    "    val_logits = model(x, training=False)\n",
    "    val_acc_metric.update_state(y, val_logits)\n"
   ]
  },
  {
   "cell_type": "markdown",
   "metadata": {
    "id": "d552377968f1"
   },
   "source": [
    "Now, let's re-run our training loop with this compiled training step:"
   ]
  },
  {
   "cell_type": "code",
   "execution_count": 10,
   "metadata": {
    "execution": {
     "iopub.execute_input": "2021-08-25T17:47:07.559121Z",
     "iopub.status.busy": "2021-08-25T17:47:07.558493Z",
     "iopub.status.idle": "2021-08-25T17:47:10.428422Z",
     "shell.execute_reply": "2021-08-25T17:47:10.428852Z"
    },
    "id": "d69d73c94e44"
   },
   "outputs": [
    {
     "name": "stdout",
     "output_type": "stream",
     "text": [
      "\n",
      "Start of epoch 0\n",
      "Training loss (for one batch) at step 0: 0.7921\n",
      "Seen so far: 64 samples\n",
      "Training loss (for one batch) at step 200: 0.7755\n",
      "Seen so far: 12864 samples\n",
      "Training loss (for one batch) at step 400: 0.1564\n",
      "Seen so far: 25664 samples\n",
      "Training loss (for one batch) at step 600: 0.3181\n",
      "Seen so far: 38464 samples\n",
      "Training acc over epoch: 0.8788\n",
      "Validation acc: 0.8866\n",
      "Time taken: 1.59s\n",
      "\n",
      "Start of epoch 1\n",
      "Training loss (for one batch) at step 0: 0.5222\n",
      "Seen so far: 64 samples\n",
      "Training loss (for one batch) at step 200: 0.4574\n",
      "Seen so far: 12864 samples\n",
      "Training loss (for one batch) at step 400: 0.4035\n",
      "Seen so far: 25664 samples\n",
      "Training loss (for one batch) at step 600: 0.7561\n",
      "Seen so far: 38464 samples\n",
      "Training acc over epoch: 0.8959\n",
      "Validation acc: 0.9028\n",
      "Time taken: 1.27s\n"
     ]
    }
   ],
   "source": [
    "import time\n",
    "\n",
    "epochs = 2\n",
    "for epoch in range(epochs):\n",
    "    print(\"\\nStart of epoch %d\" % (epoch,))\n",
    "    start_time = time.time()\n",
    "\n",
    "    # Iterate over the batches of the dataset.\n",
    "    for step, (x_batch_train, y_batch_train) in enumerate(train_dataset):\n",
    "        loss_value = train_step(x_batch_train, y_batch_train)\n",
    "\n",
    "        # Log every 200 batches.\n",
    "        if step % 200 == 0:\n",
    "            print(\n",
    "                \"Training loss (for one batch) at step %d: %.4f\"\n",
    "                % (step, float(loss_value))\n",
    "            )\n",
    "            print(\"Seen so far: %d samples\" % ((step + 1) * batch_size))\n",
    "\n",
    "    # Display metrics at the end of each epoch.\n",
    "    train_acc = train_acc_metric.result()\n",
    "    print(\"Training acc over epoch: %.4f\" % (float(train_acc),))\n",
    "\n",
    "    # Reset training metrics at the end of each epoch\n",
    "    train_acc_metric.reset_states()\n",
    "\n",
    "    # Run a validation loop at the end of each epoch.\n",
    "    for x_batch_val, y_batch_val in val_dataset:\n",
    "        test_step(x_batch_val, y_batch_val)\n",
    "\n",
    "    val_acc = val_acc_metric.result()\n",
    "    val_acc_metric.reset_states()\n",
    "    print(\"Validation acc: %.4f\" % (float(val_acc),))\n",
    "    print(\"Time taken: %.2fs\" % (time.time() - start_time))"
   ]
  },
  {
   "cell_type": "markdown",
   "metadata": {
    "id": "8977d77a8095"
   },
   "source": [
    "Much faster, isn't it?"
   ]
  },
  {
   "cell_type": "markdown",
   "metadata": {
    "id": "b5b5a54d339a"
   },
   "source": [
    "## Low-level handling of losses tracked by the model\n",
    "\n",
    "Layers & models recursively track any losses created during the forward pass\n",
    "by layers that call `self.add_loss(value)`. The resulting list of scalar loss\n",
    "values are available via the property `model.losses`\n",
    "at the end of the forward pass.\n",
    "\n",
    "If you want to be using these loss components, you should sum them\n",
    "and add them to the main loss in your training step.\n",
    "\n",
    "Consider this layer, that creates an activity regularization loss:"
   ]
  },
  {
   "cell_type": "code",
   "execution_count": 11,
   "metadata": {
    "execution": {
     "iopub.execute_input": "2021-08-25T17:47:10.434532Z",
     "iopub.status.busy": "2021-08-25T17:47:10.433756Z",
     "iopub.status.idle": "2021-08-25T17:47:10.435816Z",
     "shell.execute_reply": "2021-08-25T17:47:10.436239Z"
    },
    "id": "4ec7c4b16596"
   },
   "outputs": [],
   "source": [
    "class ActivityRegularizationLayer(layers.Layer):\n",
    "    def call(self, inputs):\n",
    "        self.add_loss(1e-2 * tf.reduce_sum(inputs))\n",
    "        return inputs\n"
   ]
  },
  {
   "cell_type": "markdown",
   "metadata": {
    "id": "6b12260b8bf2"
   },
   "source": [
    "Let's build a really simple model that uses it:"
   ]
  },
  {
   "cell_type": "code",
   "execution_count": 12,
   "metadata": {
    "execution": {
     "iopub.execute_input": "2021-08-25T17:47:10.444585Z",
     "iopub.status.busy": "2021-08-25T17:47:10.443445Z",
     "iopub.status.idle": "2021-08-25T17:47:10.492714Z",
     "shell.execute_reply": "2021-08-25T17:47:10.493141Z"
    },
    "id": "57afe49e6b93"
   },
   "outputs": [],
   "source": [
    "inputs = keras.Input(shape=(784,), name=\"digits\")\n",
    "x = layers.Dense(64, activation=\"relu\")(inputs)\n",
    "# Insert activity regularization as a layer\n",
    "x = ActivityRegularizationLayer()(x)\n",
    "x = layers.Dense(64, activation=\"relu\")(x)\n",
    "outputs = layers.Dense(10, name=\"predictions\")(x)\n",
    "\n",
    "model = keras.Model(inputs=inputs, outputs=outputs)"
   ]
  },
  {
   "cell_type": "markdown",
   "metadata": {
    "id": "aadb58115c13"
   },
   "source": [
    "Here's what our training step should look like now:"
   ]
  },
  {
   "cell_type": "code",
   "execution_count": 13,
   "metadata": {
    "execution": {
     "iopub.execute_input": "2021-08-25T17:47:10.499226Z",
     "iopub.status.busy": "2021-08-25T17:47:10.498521Z",
     "iopub.status.idle": "2021-08-25T17:47:10.504239Z",
     "shell.execute_reply": "2021-08-25T17:47:10.503741Z"
    },
    "id": "cf674776a0d2"
   },
   "outputs": [],
   "source": [
    "@tf.function\n",
    "def train_step(x, y):\n",
    "    with tf.GradientTape() as tape:\n",
    "        logits = model(x, training=True)\n",
    "        loss_value = loss_fn(y, logits)\n",
    "        # Add any extra losses created during the forward pass.\n",
    "        loss_value += sum(model.losses)\n",
    "    grads = tape.gradient(loss_value, model.trainable_weights)\n",
    "    optimizer.apply_gradients(zip(grads, model.trainable_weights))\n",
    "    train_acc_metric.update_state(y, logits)\n",
    "    return loss_value\n"
   ]
  },
  {
   "cell_type": "markdown",
   "metadata": {
    "id": "0af04732fe78"
   },
   "source": [
    "## Summary\n",
    "\n",
    "Now you know everything there is to know about using built-in training loops and\n",
    "writing your own from scratch.\n",
    "\n",
    "To conclude, here's a simple end-to-end example that ties together everything\n",
    "you've learned in this guide: a DCGAN trained on MNIST digits."
   ]
  },
  {
   "cell_type": "markdown",
   "metadata": {
    "id": "9fb325331a1e"
   },
   "source": [
    "## End-to-end example: a GAN training loop from scratch\n",
    "\n",
    "You may be familiar with Generative Adversarial Networks (GANs). GANs can generate new\n",
    "images that look almost real, by learning the latent distribution of a training\n",
    "dataset of images (the \"latent space\" of the images).\n",
    "\n",
    "A GAN is made of two parts: a \"generator\" model that maps points in the latent\n",
    "space to points in image space, a \"discriminator\" model, a classifier\n",
    "that can tell the difference between real images (from the training dataset)\n",
    "and fake images (the output of the generator network).\n",
    "\n",
    "A GAN training loop looks like this:\n",
    "\n",
    "1) Train the discriminator.\n",
    "- Sample a batch of random points in the latent space.\n",
    "- Turn the points into fake images via the \"generator\" model.\n",
    "- Get a batch of real images and combine them with the generated images.\n",
    "- Train the \"discriminator\" model to classify generated vs. real images.\n",
    "\n",
    "2) Train the generator.\n",
    "- Sample random points in the latent space.\n",
    "- Turn the points into fake images via the \"generator\" network.\n",
    "- Get a batch of real images and combine them with the generated images.\n",
    "- Train the \"generator\" model to \"fool\" the discriminator and classify the fake images\n",
    "as real.\n",
    "\n",
    "For a much more detailed overview of how GANs works, see\n",
    "[Deep Learning with Python](https://www.manning.com/books/deep-learning-with-python).\n",
    "\n",
    "Let's implement this training loop. First, create the discriminator meant to classify\n",
    "fake vs real digits:"
   ]
  },
  {
   "cell_type": "code",
   "execution_count": 14,
   "metadata": {
    "execution": {
     "iopub.execute_input": "2021-08-25T17:47:10.512549Z",
     "iopub.status.busy": "2021-08-25T17:47:10.511869Z",
     "iopub.status.idle": "2021-08-25T17:47:10.548027Z",
     "shell.execute_reply": "2021-08-25T17:47:10.547541Z"
    },
    "id": "fabf9cef3400"
   },
   "outputs": [
    {
     "name": "stdout",
     "output_type": "stream",
     "text": [
      "Model: \"discriminator\"\n",
      "_________________________________________________________________\n",
      "Layer (type)                 Output Shape              Param #   \n",
      "=================================================================\n",
      "conv2d (Conv2D)              (None, 14, 14, 64)        640       \n",
      "_________________________________________________________________\n",
      "leaky_re_lu (LeakyReLU)      (None, 14, 14, 64)        0         \n",
      "_________________________________________________________________\n",
      "conv2d_1 (Conv2D)            (None, 7, 7, 128)         73856     \n",
      "_________________________________________________________________\n",
      "leaky_re_lu_1 (LeakyReLU)    (None, 7, 7, 128)         0         \n",
      "_________________________________________________________________\n",
      "global_max_pooling2d (Global (None, 128)               0         \n",
      "_________________________________________________________________\n",
      "dense_4 (Dense)              (None, 1)                 129       \n",
      "=================================================================\n",
      "Total params: 74,625\n",
      "Trainable params: 74,625\n",
      "Non-trainable params: 0\n",
      "_________________________________________________________________\n"
     ]
    }
   ],
   "source": [
    "discriminator = keras.Sequential(\n",
    "    [\n",
    "        keras.Input(shape=(28, 28, 1)),\n",
    "        layers.Conv2D(64, (3, 3), strides=(2, 2), padding=\"same\"),\n",
    "        layers.LeakyReLU(alpha=0.2),\n",
    "        layers.Conv2D(128, (3, 3), strides=(2, 2), padding=\"same\"),\n",
    "        layers.LeakyReLU(alpha=0.2),\n",
    "        layers.GlobalMaxPooling2D(),\n",
    "        layers.Dense(1),\n",
    "    ],\n",
    "    name=\"discriminator\",\n",
    ")\n",
    "discriminator.summary()"
   ]
  },
  {
   "cell_type": "markdown",
   "metadata": {
    "id": "73396eb6daf9"
   },
   "source": [
    "Then let's create a generator network,\n",
    "that turns latent vectors into outputs of shape `(28, 28, 1)` (representing\n",
    "MNIST digits):"
   ]
  },
  {
   "cell_type": "code",
   "execution_count": 15,
   "metadata": {
    "execution": {
     "iopub.execute_input": "2021-08-25T17:47:10.560426Z",
     "iopub.status.busy": "2021-08-25T17:47:10.559754Z",
     "iopub.status.idle": "2021-08-25T17:47:10.608540Z",
     "shell.execute_reply": "2021-08-25T17:47:10.608974Z"
    },
    "id": "821d203bfb3e"
   },
   "outputs": [],
   "source": [
    "latent_dim = 128\n",
    "\n",
    "generator = keras.Sequential(\n",
    "    [\n",
    "        keras.Input(shape=(latent_dim,)),\n",
    "        # We want to generate 128 coefficients to reshape into a 7x7x128 map\n",
    "        layers.Dense(7 * 7 * 128),\n",
    "        layers.LeakyReLU(alpha=0.2),\n",
    "        layers.Reshape((7, 7, 128)),\n",
    "        layers.Conv2DTranspose(128, (4, 4), strides=(2, 2), padding=\"same\"),\n",
    "        layers.LeakyReLU(alpha=0.2),\n",
    "        layers.Conv2DTranspose(128, (4, 4), strides=(2, 2), padding=\"same\"),\n",
    "        layers.LeakyReLU(alpha=0.2),\n",
    "        layers.Conv2D(1, (7, 7), padding=\"same\", activation=\"sigmoid\"),\n",
    "    ],\n",
    "    name=\"generator\",\n",
    ")"
   ]
  },
  {
   "cell_type": "markdown",
   "metadata": {
    "id": "f0d6d54a78a0"
   },
   "source": [
    "Here's the key bit: the training loop. As you can see it is quite straightforward. The\n",
    "training step function only takes 17 lines."
   ]
  },
  {
   "cell_type": "code",
   "execution_count": 16,
   "metadata": {
    "execution": {
     "iopub.execute_input": "2021-08-25T17:47:10.618979Z",
     "iopub.status.busy": "2021-08-25T17:47:10.618081Z",
     "iopub.status.idle": "2021-08-25T17:47:10.620821Z",
     "shell.execute_reply": "2021-08-25T17:47:10.620228Z"
    },
    "id": "3a11c875142e"
   },
   "outputs": [],
   "source": [
    "# Instantiate one optimizer for the discriminator and another for the generator.\n",
    "d_optimizer = keras.optimizers.Adam(learning_rate=0.0003)\n",
    "g_optimizer = keras.optimizers.Adam(learning_rate=0.0004)\n",
    "\n",
    "# Instantiate a loss function.\n",
    "loss_fn = keras.losses.BinaryCrossentropy(from_logits=True)\n",
    "\n",
    "\n",
    "@tf.function\n",
    "def train_step(real_images):\n",
    "    # Sample random points in the latent space\n",
    "    random_latent_vectors = tf.random.normal(shape=(batch_size, latent_dim))\n",
    "    # Decode them to fake images\n",
    "    generated_images = generator(random_latent_vectors)\n",
    "    # Combine them with real images\n",
    "    combined_images = tf.concat([generated_images, real_images], axis=0)\n",
    "\n",
    "    # Assemble labels discriminating real from fake images\n",
    "    labels = tf.concat(\n",
    "        [tf.ones((batch_size, 1)), tf.zeros((real_images.shape[0], 1))], axis=0\n",
    "    )\n",
    "    # Add random noise to the labels - important trick!\n",
    "    labels += 0.05 * tf.random.uniform(labels.shape)\n",
    "\n",
    "    # Train the discriminator\n",
    "    with tf.GradientTape() as tape:\n",
    "        predictions = discriminator(combined_images)\n",
    "        d_loss = loss_fn(labels, predictions)\n",
    "    grads = tape.gradient(d_loss, discriminator.trainable_weights)\n",
    "    d_optimizer.apply_gradients(zip(grads, discriminator.trainable_weights))\n",
    "\n",
    "    # Sample random points in the latent space\n",
    "    random_latent_vectors = tf.random.normal(shape=(batch_size, latent_dim))\n",
    "    # Assemble labels that say \"all real images\"\n",
    "    misleading_labels = tf.zeros((batch_size, 1))\n",
    "\n",
    "    # Train the generator (note that we should *not* update the weights\n",
    "    # of the discriminator)!\n",
    "    with tf.GradientTape() as tape:\n",
    "        predictions = discriminator(generator(random_latent_vectors))\n",
    "        g_loss = loss_fn(misleading_labels, predictions)\n",
    "    grads = tape.gradient(g_loss, generator.trainable_weights)\n",
    "    g_optimizer.apply_gradients(zip(grads, generator.trainable_weights))\n",
    "    return d_loss, g_loss, generated_images\n"
   ]
  },
  {
   "cell_type": "markdown",
   "metadata": {
    "id": "fa6bd6292488"
   },
   "source": [
    "Let's train our GAN, by repeatedly calling `train_step` on batches of images.\n",
    "\n",
    "Since our discriminator and generator are convnets, you're going to want to\n",
    "run this code on a GPU."
   ]
  },
  {
   "cell_type": "code",
   "execution_count": 17,
   "metadata": {
    "execution": {
     "iopub.execute_input": "2021-08-25T17:47:10.628641Z",
     "iopub.status.busy": "2021-08-25T17:47:10.627984Z",
     "iopub.status.idle": "2021-08-25T17:47:21.347540Z",
     "shell.execute_reply": "2021-08-25T17:47:21.347038Z"
    },
    "id": "b6a4e3d42262"
   },
   "outputs": [
    {
     "name": "stdout",
     "output_type": "stream",
     "text": [
      "\n",
      "Start epoch 0\n",
      "discriminator loss at step 0: 0.69\n",
      "adversarial loss at step 0: 0.69\n"
     ]
    }
   ],
   "source": [
    "import os\n",
    "\n",
    "# Prepare the dataset. We use both the training & test MNIST digits.\n",
    "batch_size = 64\n",
    "(x_train, _), (x_test, _) = keras.datasets.mnist.load_data()\n",
    "all_digits = np.concatenate([x_train, x_test])\n",
    "all_digits = all_digits.astype(\"float32\") / 255.0\n",
    "all_digits = np.reshape(all_digits, (-1, 28, 28, 1))\n",
    "dataset = tf.data.Dataset.from_tensor_slices(all_digits)\n",
    "dataset = dataset.shuffle(buffer_size=1024).batch(batch_size)\n",
    "\n",
    "epochs = 1  # In practice you need at least 20 epochs to generate nice digits.\n",
    "save_dir = \"./\"\n",
    "\n",
    "for epoch in range(epochs):\n",
    "    print(\"\\nStart epoch\", epoch)\n",
    "\n",
    "    for step, real_images in enumerate(dataset):\n",
    "        # Train the discriminator & generator on one batch of real images.\n",
    "        d_loss, g_loss, generated_images = train_step(real_images)\n",
    "\n",
    "        # Logging.\n",
    "        if step % 200 == 0:\n",
    "            # Print metrics\n",
    "            print(\"discriminator loss at step %d: %.2f\" % (step, d_loss))\n",
    "            print(\"adversarial loss at step %d: %.2f\" % (step, g_loss))\n",
    "\n",
    "            # Save one generated image\n",
    "            img = tf.keras.preprocessing.image.array_to_img(\n",
    "                generated_images[0] * 255.0, scale=False\n",
    "            )\n",
    "            img.save(os.path.join(save_dir, \"generated_img\" + str(step) + \".png\"))\n",
    "\n",
    "        # To limit execution time we stop after 10 steps.\n",
    "        # Remove the lines below to actually train the model!\n",
    "        if step > 10:\n",
    "            break"
   ]
  },
  {
   "cell_type": "markdown",
   "metadata": {
    "id": "a92959ac630b"
   },
   "source": [
    "That's it! You'll get nice-looking fake MNIST digits after just ~30s of training on the\n",
    "Colab GPU."
   ]
  }
 ],
 "metadata": {
  "colab": {
   "collapsed_sections": [],
   "name": "writing_a_training_loop_from_scratch.ipynb",
   "toc_visible": true
  },
  "kernelspec": {
   "display_name": "Python 3 (ipykernel)",
   "language": "python",
   "name": "python3"
  },
  "language_info": {
   "codemirror_mode": {
    "name": "ipython",
    "version": 3
   },
   "file_extension": ".py",
   "mimetype": "text/x-python",
   "name": "python",
   "nbconvert_exporter": "python",
   "pygments_lexer": "ipython3",
   "version": "3.9.16"
  }
 },
 "nbformat": 4,
 "nbformat_minor": 1
}
