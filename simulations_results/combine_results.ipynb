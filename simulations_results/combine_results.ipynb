{
 "cells": [
  {
   "cell_type": "code",
   "execution_count": 27,
   "id": "1e537c9b-be53-411f-b7e4-d0b642b63407",
   "metadata": {},
   "outputs": [],
   "source": [
    "import pandas as pd\n",
    "\n",
    "combined_epoch_metrics = pd.read_parquet('epoch_metrics/')\n",
    "combined_round_metrics = pd.read_parquet('round_metrics/')\n",
    "\n",
    "combined_epoch_metrics.to_parquet('epoch_metrics.parquet')\n",
    "combined_round_metrics.to_parquet('round_metrics.parquet')"
   ]
  }
 ],
 "metadata": {
  "kernelspec": {
   "display_name": "Python [conda env:dask-tf-210] *",
   "language": "python",
   "name": "conda-env-dask-tf-210-py"
  },
  "language_info": {
   "codemirror_mode": {
    "name": "ipython",
    "version": 3
   },
   "file_extension": ".py",
   "mimetype": "text/x-python",
   "name": "python",
   "nbconvert_exporter": "python",
   "pygments_lexer": "ipython3",
   "version": "3.9.16"
  }
 },
 "nbformat": 4,
 "nbformat_minor": 5
}
