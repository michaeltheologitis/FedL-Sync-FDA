{
 "cells": [
  {
   "cell_type": "code",
   "execution_count": 1,
   "id": "16945920",
   "metadata": {},
   "outputs": [],
   "source": [
    "\n",
    "import nest_asyncio\n",
    "nest_asyncio.apply()\n",
    "\n",
    "import os\n",
    "os.environ['TF_CPP_MIN_LOG_LEVEL'] = '3'\n",
    "\n",
    "import tensorflow as tf\n",
    "import tensorflow_federated as tff\n"
   ]
  },
  {
   "cell_type": "code",
   "execution_count": 2,
   "id": "b5666e2a",
   "metadata": {},
   "outputs": [
    {
     "data": {
      "text/plain": [
       "'0.50.0'"
      ]
     },
     "execution_count": 2,
     "metadata": {},
     "output_type": "execute_result"
    }
   ],
   "source": [
    "tff.__version__"
   ]
  },
  {
   "cell_type": "markdown",
   "id": "70db373c",
   "metadata": {},
   "source": [
    "## Create Binary Classification data with sklearn"
   ]
  },
  {
   "cell_type": "code",
   "execution_count": 3,
   "id": "8936c1a1",
   "metadata": {},
   "outputs": [],
   "source": [
    "\n",
    "from sklearn.datasets import make_classification\n",
    "from sklearn.model_selection import train_test_split\n",
    "\n",
    "\n",
    "n = 100_000\n",
    "d = 1_000\n",
    "\n",
    "\n",
    "noise_factor = 0.01 # % of the labels are randomly flipped, DEFAULT=0.01\n",
    "test_size = 0.1 # % of n\n",
    "# The factor multiplying the hypercube size. Larger values spread out the \n",
    "# clusters/classes and make the classification task easier. DEFAULT=1\n",
    "class_sep = -1\n",
    "seed = 7\n",
    "\n",
    "# Create (noisy) testing data for binary classification.\n",
    "X, y = make_classification(\n",
    "    n_samples=n, \n",
    "    n_features=d,\n",
    "    n_informative=d,\n",
    "    n_redundant=0, \n",
    "    n_classes=2,\n",
    "    class_sep=class_sep,\n",
    "    flip_y=noise_factor,\n",
    "    random_state=seed\n",
    ")\n",
    "\n",
    "# We will work with label values -1, +1 and not 0, +1 (convert)\n",
    "y[y == 0] = -1\n",
    "\n",
    "# Split the data into training and testing sets\n",
    "X_train, X_test, y_train, y_test = train_test_split(X, y, test_size=test_size, random_state=seed)\n"
   ]
  },
  {
   "cell_type": "code",
   "execution_count": 4,
   "id": "c5cf2729",
   "metadata": {},
   "outputs": [
    {
     "data": {
      "text/plain": [
       "0.7686"
      ]
     },
     "execution_count": 4,
     "metadata": {},
     "output_type": "execute_result"
    }
   ],
   "source": [
    "from sklearn.linear_model import PassiveAggressiveClassifier\n",
    "from sklearn.metrics import accuracy_score\n",
    "\n",
    "# PA-I regressor from sklearn\n",
    "pa1 = PassiveAggressiveClassifier(C=0.01, loss=\"hinge\", n_jobs=-1)\n",
    "pa1.fit(X_train, y_train)\n",
    "\n",
    "accuracy_score(y_test, pa1.predict(X_test))"
   ]
  },
  {
   "cell_type": "markdown",
   "id": "b180164a",
   "metadata": {},
   "source": [
    "## Convert to Tensors"
   ]
  },
  {
   "cell_type": "code",
   "execution_count": 5,
   "id": "29d1b71e",
   "metadata": {},
   "outputs": [],
   "source": [
    "\n",
    "# Convert the data to TensorFlow tensors\n",
    "X_train_tensor = tf.constant(X_train, dtype=tf.float32)\n",
    "y_train_tensor = tf.constant(y_train, dtype=tf.float32)\n",
    "X_test_tensor = tf.constant(X_test, dtype=tf.float32)\n",
    "y_test_tensor = tf.constant(y_test, dtype=tf.float32)"
   ]
  },
  {
   "cell_type": "code",
   "execution_count": null,
   "id": "2a686052",
   "metadata": {},
   "outputs": [],
   "source": [
    "del X, y, X_train, X_test, y_train, y_test"
   ]
  },
  {
   "cell_type": "markdown",
   "id": "ffc001d5",
   "metadata": {},
   "source": [
    "## Prepare data for Tensorflow Federated"
   ]
  },
  {
   "cell_type": "markdown",
   "id": "e2921d7d",
   "metadata": {},
   "source": [
    "We have the training and testing Tensors holding our data. TFF expects for each client an `OrderedDict` containing `y` and `x` data. Hence, we preprocess our Tensors to follow this convention."
   ]
  },
  {
   "cell_type": "code",
   "execution_count": 6,
   "id": "53e2091a",
   "metadata": {},
   "outputs": [],
   "source": [
    "\n",
    "NUM_CLIENTS = 10\n",
    "\n",
    "# https://www.tensorflow.org/api_docs/python/tf/data/Dataset#batch\n",
    "BATCH_SIZE = 32\n",
    "SHUFFLE_BUFFER = int(n / NUM_CLIENTS)\n",
    "BATCHES_PER_STEP = 1 # Batches per Step, i.e, How many batches until we check RTC"
   ]
  },
  {
   "cell_type": "code",
   "execution_count": 7,
   "id": "bb39a4bb",
   "metadata": {},
   "outputs": [
    {
     "name": "stdout",
     "output_type": "stream",
     "text": [
      "Total number of batches per client: 312\n"
     ]
    }
   ],
   "source": [
    "print(f\"Total number of batches per client: {int(n / (NUM_CLIENTS*BATCH_SIZE))}\")"
   ]
  },
  {
   "cell_type": "code",
   "execution_count": 8,
   "id": "6b5c09a6",
   "metadata": {},
   "outputs": [],
   "source": [
    "\n",
    "import collections\n",
    "\n",
    "# Create a dictionary with the slices for each client\n",
    "client_slices_train = {}\n",
    "slices_test = {}\n",
    "\n",
    "n_test = int(n - n*test_size)\n",
    "\n",
    "for i in range(NUM_CLIENTS):\n",
    "    # Compute the indices for this client's slice\n",
    "    start_idx = int(i * n_test / NUM_CLIENTS)\n",
    "    end_idx = int((i + 1) * n_test / NUM_CLIENTS)\n",
    "\n",
    "    # Get the slice for this client\n",
    "    X_client_train = X_train_tensor[start_idx:end_idx]\n",
    "    y_client_train = y_train_tensor[start_idx:end_idx]\n",
    "    \n",
    "    client_data_train = collections.OrderedDict([('y', y_client_train), ('x', X_client_train)])\n",
    "    \n",
    "    # Combine the slices into a single dataset\n",
    "    client_slices_train[f'client_{i}'] = client_data_train\n",
    "\n",
    "slices_test = collections.OrderedDict([('y', y_test_tensor), ('x', X_test_tensor)])"
   ]
  },
  {
   "cell_type": "markdown",
   "id": "1c178a1f",
   "metadata": {},
   "source": [
    "For a sanity check let's see inside `client_slices_train` for the first x,y tuple of the 'first' client"
   ]
  },
  {
   "cell_type": "code",
   "execution_count": 9,
   "id": "6f169ee3",
   "metadata": {},
   "outputs": [
    {
     "data": {
      "text/plain": [
       "<tf.Tensor: shape=(1000,), dtype=float32, numpy=\n",
       "array([-4.18404865e+00,  3.57751942e+00,  6.09607315e+00,  1.51684380e+01,\n",
       "       -1.17104244e+01, -4.49804230e+01, -1.25375347e+01, -7.25375938e+00,\n",
       "       -1.35897789e+01, -4.97817135e+00, -2.65324173e+01,  1.42150812e+01,\n",
       "       -9.32170963e+00, -9.93517208e+00, -1.71339493e+01,  2.43116074e+01,\n",
       "        1.06418276e+01, -3.66299152e-01,  3.01058865e+01,  5.57641220e+00,\n",
       "       -2.29702663e+00,  2.65543442e+01, -6.11720896e+00,  1.33685541e+01,\n",
       "        8.11001587e+00,  2.60099678e+01,  1.35045795e+01,  2.05377364e+00,\n",
       "       -2.98525524e+01,  4.76126528e+00, -2.91031780e+01,  6.42777920e+00,\n",
       "       -1.72167225e+01,  8.68777657e+00, -2.27951298e+01,  1.31502981e+01,\n",
       "       -5.89015198e+00, -2.07787228e+01,  4.34722290e+01, -5.58190918e+00,\n",
       "       -3.10951462e+01,  3.01579189e+01, -5.54906702e+00,  8.87768447e-01,\n",
       "       -3.43186998e+00, -7.02954888e-01,  4.74685955e+00,  2.79867029e+00,\n",
       "        6.42531443e+00,  2.11221848e+01, -5.65726280e+00,  3.05333405e+01,\n",
       "        1.20147076e+01,  1.89017944e+01, -2.11274981e+00,  1.09201498e-01,\n",
       "       -1.16216516e+01,  5.15830851e+00, -4.23005629e+00,  4.25250006e+00,\n",
       "        1.28842080e+00,  1.86280060e+01, -1.32951241e+01, -1.19086485e+01,\n",
       "       -4.33322191e+00,  4.05380917e+00,  2.37914753e+01,  9.45709705e+00,\n",
       "       -1.76698837e+01, -2.36916599e+01,  8.71220684e+00,  1.65473671e+01,\n",
       "        1.45475149e-01,  3.71682129e+01, -7.30544567e+00,  1.18849936e+01,\n",
       "       -2.97480106e+01, -3.10136986e+01,  2.00300426e+01, -3.78324223e+00,\n",
       "        9.24132347e+00,  3.56745567e+01, -5.04969263e+00, -7.09480429e+00,\n",
       "        2.93386974e+01, -2.71809506e+00, -3.71692061e+00,  6.31352043e+00,\n",
       "        1.17034855e+01,  2.49392438e+00,  2.14326644e+00,  2.08592968e+01,\n",
       "       -3.09060955e+00,  1.55921154e+01,  1.19806376e+01, -1.26341639e+01,\n",
       "        3.19151535e+01,  1.20560246e+01, -2.39881172e+01,  2.17415657e+01,\n",
       "        1.50501146e+01, -8.31177998e+00, -2.56172791e+01, -2.34824238e+01,\n",
       "       -2.77352524e+01,  1.72803135e+01,  1.19295187e+01,  2.03204584e+00,\n",
       "       -2.69070282e+01,  1.18657894e+01, -2.60010910e+01, -2.65112400e+00,\n",
       "       -9.79423332e+00,  5.60668135e+00, -1.52932091e+01,  1.81404896e+01,\n",
       "        4.69184971e+00, -5.49141312e+00,  3.32145538e+01,  5.89895058e+00,\n",
       "        8.61208248e+00, -1.85766087e+01, -1.00968609e+01,  4.24302053e+00,\n",
       "        3.91776276e+01, -1.45432568e+01,  3.31421127e+01,  4.01635513e+01,\n",
       "        1.40142164e+01, -6.83752441e+00, -2.11317139e+01, -1.06746464e+01,\n",
       "        1.65160789e+01, -1.30589714e+01,  9.24707413e+00, -2.42750511e+01,\n",
       "       -2.77289618e-02, -1.81166477e+01, -4.76407433e+00, -1.07322617e+01,\n",
       "        1.78053989e+01, -1.93887157e+01,  3.26160164e+01,  2.36369152e+01,\n",
       "       -1.45646000e+01, -9.99396706e+00,  2.14577713e+01, -2.18291512e+01,\n",
       "        3.76475406e+00, -7.41401386e+00, -1.96347637e+01, -1.71180935e+01,\n",
       "        6.99597311e+00,  2.72757959e+00, -1.83674736e+01, -4.65339432e+01,\n",
       "        2.26548119e+01,  9.80896664e+00,  2.21489582e+01, -1.97737331e+01,\n",
       "       -5.62599564e+00,  1.84488964e+01,  7.29633236e+00,  2.89830570e+01,\n",
       "        2.05927963e+01, -3.55780945e+01,  7.64174366e+00,  6.83762932e+00,\n",
       "       -4.72777367e+01,  6.98787403e+00,  1.89040012e+01, -8.73844981e-01,\n",
       "       -2.09401779e+01, -1.06374798e+01,  1.27173595e+01,  6.11733246e+00,\n",
       "        3.18234138e+01, -9.96407223e+00,  1.08704071e+01, -7.58032179e+00,\n",
       "       -1.78246365e+01, -2.43215580e+01, -7.55392122e+00, -3.00383930e+01,\n",
       "       -3.99581861e+00,  8.60097504e+00, -3.82474804e+00,  2.95862789e+01,\n",
       "        2.70994320e+01,  1.14476681e+01,  3.84151077e+01, -2.95083189e+00,\n",
       "       -3.14259224e+01, -2.89008808e+01, -6.41910076e+00,  1.51896453e+00,\n",
       "        1.72026596e+01, -2.80329208e+01, -9.29425812e+00, -1.12960947e+00,\n",
       "       -2.04162598e+01,  1.64747620e+01, -2.26170082e+01, -1.73044968e+01,\n",
       "       -4.25910473e+00, -2.01796722e+01, -3.01075096e+01,  2.68493805e+01,\n",
       "        1.33510075e+01,  6.31752920e+00, -4.14173841e+00,  5.97418118e+00,\n",
       "       -4.49244156e+01, -3.11655259e+00, -1.75550652e+01, -3.23051605e+01,\n",
       "        1.66596336e+01, -1.85193596e+01,  7.74924898e+00, -2.07116203e+01,\n",
       "        1.14549217e+01, -5.85275030e+00, -2.08421612e+01,  7.25678730e+00,\n",
       "       -2.00984478e+00,  4.30716276e+00,  2.61485362e+00, -8.16588688e+00,\n",
       "       -1.82403011e+01,  5.99173260e+00, -6.58395815e+00, -1.56534624e+01,\n",
       "       -2.18142629e+00,  2.00955048e+01, -1.22277937e+01,  1.84043350e+01,\n",
       "       -2.30578136e+01,  2.42759204e+00, -1.51242342e+01,  4.84950542e+00,\n",
       "        1.64761410e+01, -4.58110809e+00,  1.26233149e+01, -2.26975288e+01,\n",
       "        9.14984798e+00,  1.80716496e+01,  1.00522680e+01,  3.96659875e+00,\n",
       "       -1.94944515e+01, -1.54231281e+01, -4.17503700e+01, -2.79709435e+01,\n",
       "        9.76482773e+00, -1.11568975e+01, -1.63646660e+01,  5.78269386e+00,\n",
       "        2.85539799e+01,  3.94391289e+01, -1.24555092e+01, -2.10852299e+01,\n",
       "       -2.70035286e+01, -3.02054825e+01,  2.82569828e+01,  2.14597874e+01,\n",
       "       -2.61428881e+00,  6.42960596e+00, -1.01016836e+01, -8.11226273e+00,\n",
       "       -1.47511406e+01, -1.96767654e+01,  2.98358841e+01,  7.36276627e-01,\n",
       "       -1.32481384e+01,  7.60912180e+00, -4.66028929e+00,  4.38562810e-01,\n",
       "        1.13622427e+01, -2.26872978e+01,  1.43602097e+00, -1.03537550e+01,\n",
       "        1.47843218e+01, -9.33615875e+00,  1.40621300e+01,  3.26817703e+01,\n",
       "        3.94650660e-02,  4.62708378e+00,  2.23328667e+01,  2.12856712e+01,\n",
       "       -3.09905910e+00, -7.79812431e+00, -1.40302286e+01,  2.92599220e+01,\n",
       "        9.71944809e+00, -1.38969002e+01, -3.02325401e+01, -9.78042781e-01,\n",
       "        6.40405178e+00, -3.47717628e+01, -4.17631111e+01, -6.06710434e+00,\n",
       "        4.29885139e+01,  9.03215027e+00, -1.73805199e+01, -1.41363919e+00,\n",
       "        2.14113598e+01,  6.03920281e-01, -9.54443455e+00, -1.76364288e+01,\n",
       "       -3.73457947e+01,  1.98357735e+01,  4.74273491e+00, -3.00566840e+00,\n",
       "        1.24893446e+01, -1.44268064e+01,  1.48545170e+01, -1.70843334e+01,\n",
       "       -6.39429903e+00, -1.98842072e+00,  1.80784397e+01,  8.52901649e+00,\n",
       "       -3.13247252e+00, -8.22654819e+00, -1.48207693e+01, -2.12800941e+01,\n",
       "        1.95766659e+01,  1.28537922e+01, -5.78583717e+00, -1.03503857e+01,\n",
       "       -2.86351986e+01, -1.13644514e+01, -1.10947208e+01, -2.29416676e+01,\n",
       "        1.14468412e+01, -7.43468821e-01,  2.59237709e+01,  2.77331972e+00,\n",
       "       -2.44414978e+01, -1.03111124e+00,  1.31704044e+01,  3.38651776e+00,\n",
       "       -1.36858873e+01, -8.36219549e-01, -2.84464130e+01, -3.57176805e+00,\n",
       "        1.23552561e+01, -2.46079960e+01, -2.94301472e+01,  1.24642267e+01,\n",
       "        9.46153927e+00,  5.09177923e+00,  8.34863186e+00, -2.89717388e+01,\n",
       "       -2.54800625e+01,  4.97686806e+01,  1.94025784e+01,  2.25928497e+01,\n",
       "       -2.02184639e+01,  4.62717438e+00, -9.75591087e+00, -1.00612402e+01,\n",
       "        2.66694450e+01, -1.56474466e+01, -1.66985741e+01,  3.20576439e+01,\n",
       "       -9.41579056e+00, -3.69963913e+01, -2.49940910e+01, -2.70764484e+01,\n",
       "       -2.93933144e+01,  2.03884392e+01, -9.74957275e+00,  4.39318228e+00,\n",
       "       -1.19722939e+00,  1.84199619e+01,  3.59983706e+00, -7.75615978e+00,\n",
       "        1.43500233e+01,  1.67098770e+01,  1.45400798e+00,  8.12427807e+00,\n",
       "        8.64782906e+00,  3.14623108e+01, -9.65481186e+00,  1.35562382e+01,\n",
       "        2.73517208e+01, -5.18031418e-01, -1.90268230e+01, -4.04905701e+01,\n",
       "        1.75707550e+01,  2.48903618e+01, -1.38736801e+01,  1.02695494e+01,\n",
       "       -7.92792368e+00, -1.64974918e+01, -2.42287865e+01,  5.37836885e+00,\n",
       "        1.68920374e+00, -5.71201706e+00,  7.44297361e+00,  1.48567295e+01,\n",
       "        1.64083500e+01, -1.71567440e+01,  1.94424934e+01,  1.88197727e+01,\n",
       "       -2.49280891e+01,  2.62643566e+01, -1.02300272e+01, -4.76655340e+00,\n",
       "        2.77843624e-01, -1.91012173e+01,  1.34074669e+01, -2.62775040e+01,\n",
       "        4.15269756e+00,  1.08652353e+01,  2.19844265e+01,  2.48438206e+01,\n",
       "        2.11858702e+00, -1.98808460e+01,  5.86399603e+00,  1.21463757e+01,\n",
       "       -3.75050545e+00, -1.57131166e+01,  7.18341446e+00, -4.38576651e+00,\n",
       "       -3.91257057e+01, -1.01120596e+01, -2.85591316e+00, -1.41971855e+01,\n",
       "        3.45676452e-01,  2.37217388e+01,  4.40631866e+00,  7.39451027e+00,\n",
       "        2.80871582e+01,  1.67790353e+00,  2.16933174e+01,  3.55423279e+01,\n",
       "       -1.99378853e+01,  1.48395853e+01,  1.61130371e+01,  8.81171989e+00,\n",
       "        9.47887325e+00,  7.46616507e+00,  1.50855942e+01, -6.04929543e+00,\n",
       "        2.99710178e+01,  3.89730415e+01,  1.41579456e+01,  1.16790676e+01,\n",
       "        1.54587483e+00, -5.08027191e+01, -1.90412407e+01, -2.46551437e+01,\n",
       "       -1.10654199e+00, -9.69123554e+00,  1.62181225e+01, -3.21053362e+00,\n",
       "       -3.33497887e+01,  1.41230221e+01, -4.29856491e+00,  2.52067928e+01,\n",
       "       -2.28026962e+01, -3.46607018e+00, -7.47099257e+00,  3.05394888e+00,\n",
       "       -1.67961845e+01, -2.42805710e+01, -8.82764053e+00,  2.22943830e+00,\n",
       "       -3.39612885e+01,  2.12898731e+01, -2.22473145e-01,  1.00705683e+00,\n",
       "       -1.45560474e+01,  1.27165914e+00,  2.15431423e+01,  3.64430542e+01,\n",
       "       -1.32741528e+01,  2.30128860e+01, -1.98042946e+01, -2.28871498e+01,\n",
       "       -2.96293240e+01,  3.62314568e+01, -1.65894718e+01, -3.19826269e+00,\n",
       "        1.24140034e+01, -6.77225065e+00,  2.49180722e+00, -2.85932407e+01,\n",
       "       -1.84036541e+01, -1.10735102e+01,  7.95390463e+00,  9.37715054e+00,\n",
       "        2.76123123e+01, -2.01178360e+01, -5.92848015e+00,  2.43542480e+01,\n",
       "        1.74752750e+01,  2.19180145e+01,  4.14669657e+00, -1.80391240e+00,\n",
       "        1.24161654e+01, -9.20331669e+00, -1.22133350e+00, -7.96681070e+00,\n",
       "       -1.60601254e+01, -1.41439426e+00,  1.06206188e+01,  1.12174435e+01,\n",
       "        6.62482929e+00,  1.68363819e+01, -1.37470980e+01, -1.18090696e+01,\n",
       "        4.56085825e+00,  7.47930956e+00,  1.06983109e+01, -1.55209522e+01,\n",
       "       -1.72358551e+01, -3.52690840e+00,  3.35681839e+01, -7.47952509e+00,\n",
       "        2.91821980e+00,  2.18930664e+01, -1.60068245e+01,  2.15925369e+01,\n",
       "       -6.85078049e+00,  6.92027521e+00, -7.73825121e+00,  7.92165089e+00,\n",
       "        2.01511822e+01,  7.38892555e-01,  1.49495020e+01,  5.16198158e+00,\n",
       "       -2.28112717e+01,  2.71561680e+01,  1.50361900e+01,  1.81608028e+01,\n",
       "       -1.19720094e-01,  2.85421085e+01,  3.57541885e+01, -1.37209558e+01,\n",
       "        1.74999275e+01,  2.10860767e+01, -1.05359039e+01, -1.62937915e+00,\n",
       "       -2.98764420e+00,  9.01547718e+00, -2.33962250e+01, -5.96177816e+00,\n",
       "       -1.03169274e+00,  8.46150684e+00,  8.41856575e+00,  1.46461973e+01,\n",
       "        1.20819340e+01,  9.01304531e+00, -2.40247231e+01, -4.28124962e+01,\n",
       "        1.01924419e+01, -1.39290171e+01,  7.04729939e+00, -8.57491016e+00,\n",
       "        1.47822895e+01,  1.18989220e+01, -6.51644039e+00,  8.32531738e+00,\n",
       "       -3.11703320e+01,  1.01475544e+01, -9.70972955e-01,  3.16927075e+00,\n",
       "       -1.48895226e+01,  6.91338015e+00,  2.17660618e+01, -1.08427439e+01,\n",
       "        2.78327942e+01, -1.44960508e+01,  2.02446709e+01, -3.30240154e+00,\n",
       "       -7.18218613e+00,  2.39486647e+00,  9.65819836e+00,  2.25231915e+01,\n",
       "       -1.28776312e+00,  2.76810575e+00, -7.28901196e+00,  2.49930687e+01,\n",
       "        1.15449438e+01, -3.53142891e+01,  3.95443273e+00, -1.39006319e+01,\n",
       "       -1.19616127e+01,  2.08272324e+01, -9.14508724e+00,  2.68305035e+01,\n",
       "       -8.64247990e+00, -1.84393959e+01,  1.31285276e+01,  1.83717041e+01,\n",
       "        1.25694885e+01,  2.23070354e+01,  1.56373568e+01, -3.06381679e+00,\n",
       "       -2.24234295e+01,  2.04932365e+01, -1.04686556e+01,  3.46637917e+01,\n",
       "        6.44090080e+00,  6.40627527e+00,  3.14597607e+01, -3.90492129e+00,\n",
       "        9.61554423e-02,  2.16739883e+01,  2.21557007e+01, -1.75731602e+01,\n",
       "       -4.13863420e+00, -1.91657677e+01, -7.58462143e+00,  1.38681736e+01,\n",
       "        2.71807694e+00, -1.23451319e+01, -7.58494043e+00,  1.95635796e+01,\n",
       "       -2.35122757e+01, -1.41678715e+01, -2.18810673e+01, -5.72623193e-01,\n",
       "        1.29176359e+01,  2.43067970e+01, -2.02713070e+01, -5.55916214e+00,\n",
       "       -5.13154924e-01, -7.71338224e+00,  1.17019262e+01,  1.67504668e+00,\n",
       "       -1.30719023e+01,  9.26270676e+00, -9.04454994e+00,  2.16362476e+01,\n",
       "       -3.89941559e+01,  1.94853992e+01, -1.51895046e+01,  2.72293301e+01,\n",
       "        1.95666771e+01, -2.05044193e+01, -7.00596762e+00,  9.44994545e+00,\n",
       "        2.57763267e+00, -2.02752705e+01,  8.59384251e+00,  9.16907406e+00,\n",
       "        8.03630066e+00,  1.03667049e+01,  1.37048368e+01, -8.60119724e+00,\n",
       "       -1.80806804e+00,  2.83606968e+01,  6.35744095e-01, -6.59783363e+00,\n",
       "       -6.37369442e+00,  4.45707436e+01, -2.05747589e-01,  7.28822899e+00,\n",
       "       -9.77936909e-02,  3.59196434e+01,  2.64592705e+01,  1.67002678e+01,\n",
       "        1.83332882e+01, -1.05433130e+00,  1.80993187e+00, -1.20015645e+00,\n",
       "       -3.27103829e+00,  2.05880280e+01,  7.40660369e-01, -2.48542786e+01,\n",
       "       -1.24037790e+01, -2.11955452e+01, -2.02256565e+01, -1.27621698e+01,\n",
       "       -6.36889029e+00, -1.96569901e+01,  2.25278401e+00,  1.03788528e+01,\n",
       "        1.13236551e+01,  1.03970776e+01, -1.17372541e+01,  1.81101096e+00,\n",
       "        3.81140327e+01, -8.65054989e+00, -1.78311024e+01,  2.26969790e+00,\n",
       "        1.06001520e+01, -8.53271389e+00, -1.66218567e+01, -3.21303940e+01,\n",
       "       -7.00816488e+00,  3.06699562e+01, -2.71179600e+01,  1.39928875e+01,\n",
       "        1.12265501e+01, -8.00578177e-01, -3.14236584e+01,  1.66534233e+01,\n",
       "        2.76155701e+01,  2.49487257e+00, -2.01789341e+01, -5.86697006e+00,\n",
       "       -9.45909619e-01, -1.83285885e+01, -1.55740814e+01,  1.13289566e+01,\n",
       "       -1.22415638e+01, -1.54274216e+01,  1.16876163e+01,  3.72516975e+01,\n",
       "       -1.27697268e+01, -1.72325224e-01, -2.30692997e+01,  2.69643955e+01,\n",
       "        8.15633297e+00,  1.49602818e+00, -1.00767279e+01, -1.02647555e+00,\n",
       "       -8.01955223e+00, -3.02696395e+00, -2.51364732e+00, -1.79769135e+00,\n",
       "        1.82134399e+01,  2.56925983e+01,  6.94440365e+00, -2.23617411e+00,\n",
       "        3.86842608e+00, -1.60540676e+01, -1.12666502e+01,  3.49320755e+01,\n",
       "       -6.78018391e-01,  7.72757196e+00, -8.92983723e+00,  3.41128278e+00,\n",
       "        5.12404251e+00, -1.39249392e+01, -9.25105035e-01, -1.57037392e+01,\n",
       "       -1.84585419e+01,  1.90947735e+00, -1.68977184e+01, -2.65278854e+01,\n",
       "        2.25509663e+01, -1.47105896e+00,  5.63585234e+00,  9.23253059e+00,\n",
       "       -2.76171856e+01,  2.50405979e+00,  1.16978045e+01,  5.44933357e+01,\n",
       "        2.22946529e+01, -2.86804390e+01, -6.85909319e+00,  1.21444950e+01,\n",
       "       -1.34280033e+01, -2.62785411e+00,  2.72031212e+01,  9.34139538e+00,\n",
       "        3.02030029e+01,  2.60853320e-01,  1.22340603e+01,  1.38344326e+01,\n",
       "       -4.76639479e-01,  2.26818104e+01,  1.91529465e+01,  1.06807337e+01,\n",
       "        1.29506521e+01,  4.09160576e+01,  2.91858888e+00, -4.38513422e+00,\n",
       "       -1.35546780e+00,  2.73523235e+01, -1.79620380e+01,  1.01668940e+01,\n",
       "       -2.92517567e+00, -1.07820606e+01,  8.41504383e+00, -1.45564346e+01,\n",
       "       -1.45141354e+01, -1.09687557e+01, -8.89942360e+00,  3.92501473e+00,\n",
       "       -5.62104034e+00,  5.21397896e+01,  2.61187649e+01,  1.80446949e+01,\n",
       "        1.06148872e+01,  3.88484993e+01, -6.60223484e+00,  2.05485878e+01,\n",
       "        1.35726366e+01, -1.49275408e+01,  5.66305351e+00, -1.37703514e+01,\n",
       "        9.83983803e+00, -8.31670094e+00,  1.09888763e+01,  7.08328390e+00,\n",
       "        1.91580067e+01, -1.99354382e+01,  5.82546520e+00, -4.35303574e+01,\n",
       "        4.20063095e+01, -1.30216351e+01,  7.76982355e+00,  5.33060074e+00,\n",
       "        1.82454834e+01, -1.29035530e+01, -2.83576164e+01, -1.53038321e+01,\n",
       "        6.92421722e+00,  8.65347311e-02, -2.29800625e+01, -1.25672698e+00,\n",
       "       -8.70713770e-01, -6.81712103e+00,  3.28713303e+01, -3.69431725e+01,\n",
       "       -3.77682972e+00,  6.84146690e+00, -8.94349480e+00, -1.83508682e+01,\n",
       "        1.31716509e+01,  1.26410265e+01, -5.19687510e+00,  5.19606876e+00,\n",
       "        5.91732788e+00,  9.10213470e+00,  9.04469681e+00, -1.39038887e+01,\n",
       "        2.70899715e+01, -2.80484829e+01,  3.08317208e+00,  1.24602928e+01,\n",
       "        1.91793709e+01,  1.83755913e+01,  1.51216764e+01,  3.98617516e+01,\n",
       "       -1.40705431e+00, -2.52763195e+01, -1.94150124e+01,  2.63703823e-01,\n",
       "        2.04502563e+01,  2.96708241e+01, -1.80738640e+00, -5.86893749e+00,\n",
       "       -4.80354729e+01,  2.20218945e+00,  1.03780246e+00,  2.02296963e+01,\n",
       "       -3.20926428e+00, -1.24870996e+01,  3.70446358e+01, -1.76587143e+01,\n",
       "       -4.39366341e+00, -4.58190346e+01,  1.11710052e+01, -1.34004850e+01,\n",
       "       -1.71003014e-01,  3.59801650e+00,  2.35450363e+01, -4.93283129e+00,\n",
       "       -1.19279730e+00,  1.79131832e+01, -1.55460930e+01,  3.57570038e+01,\n",
       "        8.45619011e+00,  2.37935376e+00,  2.06413250e+01,  3.18828983e+01,\n",
       "       -3.78859062e+01, -8.84961510e+00,  9.49406338e+00, -2.82021561e+01,\n",
       "       -9.98628807e+00,  2.72685013e+01,  2.49619694e+01, -2.23157654e+01,\n",
       "        5.57088232e+00,  4.78781223e+00,  1.11340356e+00, -4.48898773e+01,\n",
       "        3.39671612e-01,  1.06428452e+01, -2.47864380e+01,  3.45280685e+01,\n",
       "        9.98774588e-01,  3.82617416e+01,  1.21132135e+01,  2.40939751e+01,\n",
       "       -6.39451623e-01,  2.66278706e+01,  8.37763727e-01,  1.98663063e+01,\n",
       "        8.65669441e+00,  2.60770535e+00, -2.63196545e+01, -1.24654598e+01,\n",
       "       -2.11888275e+01,  6.31072426e+00,  6.27631664e+00,  2.95217781e+01,\n",
       "       -1.92006760e+01, -1.51356812e+01,  3.16984100e+01,  1.10173635e+01,\n",
       "        2.00346031e+01,  5.19576406e+00, -6.66323662e+00,  1.41249809e+01,\n",
       "       -4.51841202e+01, -1.47978249e+01,  3.15283346e+00, -1.27187767e+01,\n",
       "       -1.06527548e+01,  6.40744641e-02,  8.44256306e+00, -1.40927658e+01,\n",
       "        2.13493233e+01, -3.26152849e+00, -2.52916489e+01,  9.57184505e+00,\n",
       "        7.21726894e+00,  2.39914913e+01, -1.59685338e+00, -7.10323620e+00,\n",
       "        1.56761229e+00, -1.54245701e+01,  2.32894936e+01,  1.00362406e+01,\n",
       "       -4.18134308e+00, -2.15444088e+01, -9.92671013e+00,  1.01419306e+01,\n",
       "        7.80084324e+00,  9.44091797e+00,  2.32578430e+01,  1.25502577e+01,\n",
       "        2.04223289e+01,  7.64075565e+00, -2.39694958e+01,  2.13687897e+01,\n",
       "       -2.92791677e+00,  4.65089828e-01,  1.79732590e+01,  2.05151844e+01,\n",
       "        1.72403927e+01, -2.81925499e-01, -5.15437603e+00,  1.17583990e+01,\n",
       "        2.19306164e+01, -1.68182068e+01,  1.86080494e+01, -3.44562793e+00,\n",
       "        1.31492519e+01, -5.13150215e+00,  2.90735102e+00,  1.33190727e+01,\n",
       "        1.43264732e+01, -3.89871883e+00, -4.50922918e+00,  7.67234373e+00,\n",
       "        7.87682438e+00,  7.29536200e+00, -1.06438913e+01, -2.37097931e+01,\n",
       "        1.03606386e+01,  1.98688068e+01, -7.41092682e+00,  3.16609135e+01,\n",
       "        2.60120201e+00, -2.27014589e+00, -2.93455143e+01, -2.91582336e+01,\n",
       "       -3.79989433e+01,  5.66065311e+00,  7.50067091e+00, -2.08223801e+01,\n",
       "        4.81428146e+01, -3.41283150e+01,  4.13277578e+00,  1.56543598e+01,\n",
       "       -2.24460716e+01, -1.52159805e+01,  1.94112930e+01,  3.81340981e+00,\n",
       "       -4.43393625e-02, -2.21515274e+01,  1.57238216e+01, -1.09369564e+01,\n",
       "        2.67868080e+01,  3.40248513e+00, -3.52920418e+01,  1.35058379e+00,\n",
       "       -1.37539625e+01, -1.89807999e+00,  2.42929993e+01,  3.05408516e+01],\n",
       "      dtype=float32)>"
      ]
     },
     "execution_count": 9,
     "metadata": {},
     "output_type": "execute_result"
    }
   ],
   "source": [
    "client_slices_train['client_0']['x'][0]"
   ]
  },
  {
   "cell_type": "code",
   "execution_count": 10,
   "id": "49e19090",
   "metadata": {},
   "outputs": [
    {
     "data": {
      "text/plain": [
       "<tf.Tensor: shape=(), dtype=float32, numpy=1.0>"
      ]
     },
     "execution_count": 10,
     "metadata": {},
     "output_type": "execute_result"
    }
   ],
   "source": [
    "client_slices_train['client_0']['y'][0]"
   ]
  },
  {
   "cell_type": "markdown",
   "id": "2192acbc",
   "metadata": {},
   "source": [
    "Now, a client with `client_id` has it's single Tensor holding instances in`client_slices_train[client_id]['x']` and labels in `client_slices_train[client_id]['y']`. Let's take a step back from TFF. Having this data scheme, we can create a client's Tensorflow dataset using `from_tensor_slices` function passing the client's id as follows"
   ]
  },
  {
   "cell_type": "code",
   "execution_count": 11,
   "id": "8c683cc5",
   "metadata": {},
   "outputs": [],
   "source": [
    "# https://www.tensorflow.org/api_docs/python/tf/data/Dataset#batch\n",
    "\n",
    "def create_tf_dataset_for_client(client_id):\n",
    "    return tf.data.Dataset.from_tensor_slices(client_slices_train[client_id]) \\\n",
    "        .shuffle(SHUFFLE_BUFFER).batch(BATCH_SIZE).prefetch(tf.data.AUTOTUNE) \\\n",
    "        .take(BATCHES_PER_STEP)\n",
    "\n",
    "def create_tf_dataset_for_test():\n",
    "    return tf.data.Dataset.from_tensor_slices(slices_test).batch(BATCH_SIZE)"
   ]
  },
  {
   "cell_type": "markdown",
   "id": "ef737537",
   "metadata": {},
   "source": [
    "For TFF we need to construct Federated data for clients, i.e., `tff.simulation.datasets.ClientData`. We can use the `from_clients_and_tf_fn` function that takes as argument the `client_ids` : a list of strings corresponding to client ids, and a `serializable_dataset_fn` : a function that takes a `client_id` from the above list, and returns a `tf.data.Dataset`. It's obvious how we proceed with the code (using the above function)"
   ]
  },
  {
   "cell_type": "code",
   "execution_count": 12,
   "id": "86b6c7d5",
   "metadata": {},
   "outputs": [],
   "source": [
    "\n",
    "preprocessed_train_federated_dataset = tff.simulation.datasets.ClientData.from_clients_and_tf_fn(\n",
    "    client_ids=list(client_slices_train.keys()),\n",
    "    serializable_dataset_fn=lambda client_id: create_tf_dataset_for_client(client_id)\n",
    ")"
   ]
  },
  {
   "cell_type": "code",
   "execution_count": 13,
   "id": "1acb22b8",
   "metadata": {},
   "outputs": [
    {
     "data": {
      "text/plain": [
       "['client_0',\n",
       " 'client_1',\n",
       " 'client_2',\n",
       " 'client_3',\n",
       " 'client_4',\n",
       " 'client_5',\n",
       " 'client_6',\n",
       " 'client_7',\n",
       " 'client_8',\n",
       " 'client_9']"
      ]
     },
     "execution_count": 13,
     "metadata": {},
     "output_type": "execute_result"
    }
   ],
   "source": [
    "preprocessed_train_federated_dataset.client_ids"
   ]
  },
  {
   "cell_type": "markdown",
   "id": "ac1a74b7",
   "metadata": {},
   "source": [
    "**Note**: Cross-device federated learning does not use client IDs or perform any tracking of clients. However in simulation experiments using centralized test data the experimenter may select specific clients to be processed per round. The concept of a client ID is only available at the preprocessing stage when preparing input data for the simulation and is not part of the TensorFlow Federated core APIs."
   ]
  },
  {
   "cell_type": "markdown",
   "id": "0bde8820",
   "metadata": {},
   "source": [
    "Now, `preprocessed_train_federated_dataset` holds logic on how each client constructs its dataset. Note that so `client_slices_train` has already been materialized and lies in this context's memory.\n",
    "\n",
    "One way (the simplest) to feed federated data to TFF in a simulation is simply as a Python list, with each element of the list holds the data of an individual client, whether as a list or preferably as a `tf.data.Dataset`. Since we already created an interface that provides the latter we will use it. Here is a helper function that will construct a list of datasets from the set of users."
   ]
  },
  {
   "cell_type": "code",
   "execution_count": 14,
   "id": "0c68b681",
   "metadata": {},
   "outputs": [],
   "source": [
    "\n",
    "def create_federated_data():    \n",
    "    return [\n",
    "        preprocessed_train_federated_dataset.create_tf_dataset_for_client(client)\n",
    "        for client in preprocessed_train_federated_dataset.client_ids\n",
    "    ]"
   ]
  },
  {
   "cell_type": "markdown",
   "id": "7e1f39ef",
   "metadata": {},
   "source": [
    "**Important Note**: Firstly, we used `sklearn` to create the binary classification data eagerly, i.e., we were forced to materialize it into memory. In simulation, in general it is more sound to push preprocessing logic into each client, i.e., each client constructs its own dataset (from the same underlying distribution) or reads from a file or something else and he, himself processes the data as needed. This is the best approach and uses the TFF distributed engine the best way. But in our case this was illogical to happen since we are forced to construct the dataset in memory anyway. For example, we could have stored each client's data inside some serialized file (`client_0.tfrecord` for the first client and so on) and push logic where each clients diserializes and processes its own data but this would be silly and slower when testing. For a small example that showcases this scenario see *TFF - Introduction - Federated Core API - Part 3(examples).ipynb*."
   ]
  },
  {
   "cell_type": "markdown",
   "id": "ed2b3cc5",
   "metadata": {},
   "source": [
    "## TFF Types"
   ]
  },
  {
   "cell_type": "markdown",
   "id": "114f51dd",
   "metadata": {},
   "source": [
    "Let's start with a simple float32 type."
   ]
  },
  {
   "cell_type": "code",
   "execution_count": 15,
   "id": "3016a9ed",
   "metadata": {},
   "outputs": [],
   "source": [
    "FLOAT32_TYPE = tff.TensorType(dtype=tf.float32, shape=())"
   ]
  },
  {
   "cell_type": "code",
   "execution_count": 16,
   "id": "86f60f0f",
   "metadata": {},
   "outputs": [
    {
     "data": {
      "text/plain": [
       "'float32'"
      ]
     },
     "execution_count": 16,
     "metadata": {},
     "output_type": "execute_result"
    }
   ],
   "source": [
    "str(FLOAT32_TYPE)"
   ]
  },
  {
   "cell_type": "code",
   "execution_count": 17,
   "id": "090749e7",
   "metadata": {},
   "outputs": [],
   "source": [
    "CLIENT_FLOAT32 = tff.FederatedType(FLOAT32_TYPE, tff.CLIENTS)"
   ]
  },
  {
   "cell_type": "code",
   "execution_count": 18,
   "id": "72cbef65",
   "metadata": {},
   "outputs": [
    {
     "data": {
      "text/plain": [
       "'{float32}@CLIENTS'"
      ]
     },
     "execution_count": 18,
     "metadata": {},
     "output_type": "execute_result"
    }
   ],
   "source": [
    "str(CLIENT_FLOAT32)"
   ]
  },
  {
   "cell_type": "markdown",
   "id": "387f7d8f",
   "metadata": {},
   "source": [
    "1-dimensional tensor (vector) of length 1 with elements of type float32"
   ]
  },
  {
   "cell_type": "code",
   "execution_count": 19,
   "id": "1b813ede",
   "metadata": {},
   "outputs": [],
   "source": [
    "STATE_TYPE = tff.TensorType(dtype=tf.float32, shape=(2,1))"
   ]
  },
  {
   "cell_type": "markdown",
   "id": "d3fdf9a8",
   "metadata": {},
   "source": [
    "The local client state $ S_i(t) $ as defined in the unpublished paper for Linear FDA (read theoretical analysis bellow)."
   ]
  },
  {
   "cell_type": "code",
   "execution_count": 20,
   "id": "168f7ec6",
   "metadata": {},
   "outputs": [],
   "source": [
    "CLIENT_STATE = tff.FederatedType(STATE_TYPE, tff.CLIENTS)"
   ]
  },
  {
   "cell_type": "code",
   "execution_count": 21,
   "id": "1e006455",
   "metadata": {},
   "outputs": [
    {
     "data": {
      "text/plain": [
       "'{float32[2,1]}@CLIENTS'"
      ]
     },
     "execution_count": 21,
     "metadata": {},
     "output_type": "execute_result"
    }
   ],
   "source": [
    "str(CLIENT_STATE)"
   ]
  },
  {
   "cell_type": "markdown",
   "id": "f1d3c683",
   "metadata": {},
   "source": [
    "First, let's define the type of input as a TFF named tuple. Since the size of data batches may vary, we set the batch dimension to None to indicate that the size of this dimension is unknown."
   ]
  },
  {
   "cell_type": "code",
   "execution_count": 22,
   "id": "47b88ed7",
   "metadata": {},
   "outputs": [],
   "source": [
    "\n",
    "BATCH_SPEC = collections.OrderedDict(\n",
    "    y=tf.TensorSpec(shape=[None], dtype=tf.float32),\n",
    "    x=tf.TensorSpec(shape=[None, d], dtype=tf.float32)\n",
    ")\n",
    "BATCH_TYPE = tff.to_type(BATCH_SPEC)"
   ]
  },
  {
   "cell_type": "code",
   "execution_count": 23,
   "id": "5d69a37d",
   "metadata": {},
   "outputs": [
    {
     "data": {
      "text/plain": [
       "'<y=float32[?],x=float32[?,1000]>'"
      ]
     },
     "execution_count": 23,
     "metadata": {},
     "output_type": "execute_result"
    }
   ],
   "source": [
    "str(BATCH_TYPE)"
   ]
  },
  {
   "cell_type": "markdown",
   "id": "8a844eba",
   "metadata": {},
   "source": [
    "Every client holds a sequence of batches so the we define the client data type as follows"
   ]
  },
  {
   "cell_type": "code",
   "execution_count": 24,
   "id": "3bd7c409",
   "metadata": {},
   "outputs": [],
   "source": [
    "\n",
    "LOCAL_DATA_TYPE = tff.SequenceType(BATCH_TYPE)"
   ]
  },
  {
   "cell_type": "code",
   "execution_count": 25,
   "id": "1f9890c9",
   "metadata": {},
   "outputs": [
    {
     "data": {
      "text/plain": [
       "'<y=float32[?],x=float32[?,1000]>*'"
      ]
     },
     "execution_count": 25,
     "metadata": {},
     "output_type": "execute_result"
    }
   ],
   "source": [
    "str(LOCAL_DATA_TYPE)"
   ]
  },
  {
   "cell_type": "markdown",
   "id": "58dedbfb",
   "metadata": {},
   "source": [
    "Let's now define the TFF type of the model which is simply a `tf.Variable` with shape (d, 1)"
   ]
  },
  {
   "cell_type": "code",
   "execution_count": 26,
   "id": "1625384b",
   "metadata": {},
   "outputs": [],
   "source": [
    "\n",
    "MODEL_TYPE = tff.TensorType(dtype=tf.float32, shape=(d, 1))"
   ]
  },
  {
   "cell_type": "code",
   "execution_count": 27,
   "id": "4db97c66",
   "metadata": {},
   "outputs": [
    {
     "data": {
      "text/plain": [
       "'float32[1000,1]'"
      ]
     },
     "execution_count": 27,
     "metadata": {},
     "output_type": "execute_result"
    }
   ],
   "source": [
    "str(MODEL_TYPE)"
   ]
  },
  {
   "cell_type": "markdown",
   "id": "52bbc608",
   "metadata": {},
   "source": [
    "Since the server holds the 'global' model we need to create the Federated Type, defined as the tuple of a member: An instance of `tff.Type`, and a placement: The specification of placement of the member comonents (where this type is hosted at, for example, at `tff.SERVER` or `tff.CLIENTS`)."
   ]
  },
  {
   "cell_type": "code",
   "execution_count": 28,
   "id": "93453747",
   "metadata": {},
   "outputs": [],
   "source": [
    "\n",
    "SERVER_MODEL_TYPE = tff.type_at_server(MODEL_TYPE)"
   ]
  },
  {
   "cell_type": "code",
   "execution_count": 29,
   "id": "424c7703",
   "metadata": {},
   "outputs": [
    {
     "data": {
      "text/plain": [
       "'float32[1000,1]@SERVER'"
      ]
     },
     "execution_count": 29,
     "metadata": {},
     "output_type": "execute_result"
    }
   ],
   "source": [
    "str(SERVER_MODEL_TYPE)"
   ]
  },
  {
   "cell_type": "markdown",
   "id": "52dd0413",
   "metadata": {},
   "source": [
    "Following, the same logic, we create the Federated Type of each client's data."
   ]
  },
  {
   "cell_type": "code",
   "execution_count": 30,
   "id": "d5a56be9",
   "metadata": {},
   "outputs": [],
   "source": [
    "\n",
    "CLIENT_DATA_TYPE = tff.type_at_clients(LOCAL_DATA_TYPE)"
   ]
  },
  {
   "cell_type": "code",
   "execution_count": 31,
   "id": "7cc37383",
   "metadata": {},
   "outputs": [
    {
     "data": {
      "text/plain": [
       "'{<y=float32[?],x=float32[?,1000]>*}@CLIENTS'"
      ]
     },
     "execution_count": 31,
     "metadata": {},
     "output_type": "execute_result"
    }
   ],
   "source": [
    "str(CLIENT_DATA_TYPE)"
   ]
  },
  {
   "cell_type": "markdown",
   "id": "76fe9341",
   "metadata": {},
   "source": [
    "We will also need to define the client models at the CLIENTS (for FDA later, to be cont...)"
   ]
  },
  {
   "cell_type": "code",
   "execution_count": 32,
   "id": "9dd51ead",
   "metadata": {},
   "outputs": [],
   "source": [
    "CLIENT_MODEL_TYPE = tff.type_at_clients(MODEL_TYPE)"
   ]
  },
  {
   "cell_type": "code",
   "execution_count": 33,
   "id": "47df0ac5",
   "metadata": {},
   "outputs": [
    {
     "data": {
      "text/plain": [
       "'{float32[1000,1]}@CLIENTS'"
      ]
     },
     "execution_count": 33,
     "metadata": {},
     "output_type": "execute_result"
    }
   ],
   "source": [
    "str(CLIENT_MODEL_TYPE)"
   ]
  },
  {
   "cell_type": "markdown",
   "id": "0af966b0",
   "metadata": {},
   "source": [
    "## Accuracy Testing"
   ]
  },
  {
   "cell_type": "code",
   "execution_count": 34,
   "id": "2427e37e",
   "metadata": {},
   "outputs": [],
   "source": [
    "\n",
    "@tf.function\n",
    "def accuracy(model, dataset):\n",
    "    \n",
    "    @tf.function\n",
    "    def _batch_accuracy(model, batch):\n",
    "        x_batch, y_batch = batch['x'], tf.expand_dims(batch['y'], axis=1)\n",
    "\n",
    "        # dot(w, x) for the batch (each instance of x in x_batch) with with shape=(batchsize, 1)\n",
    "        weights_dot_x_batch = tf.matmul(x_batch, model)\n",
    "\n",
    "        # Prediction batch with shape=(batchsize, 1)\n",
    "        y_pred_batch = tf.sign(weights_dot_x_batch)\n",
    "\n",
    "        accuracy = tf.reduce_mean(tf.cast(tf.equal(y_pred_batch, y_batch), tf.float32))\n",
    "\n",
    "        return accuracy\n",
    "    \n",
    "    # We take advantage of AutoGraph (convert Python code to TensorFlow-compatible graph code automatically)\n",
    "    acc, num_batches = 0., 0.\n",
    "    for batch in dataset:\n",
    "        acc += _batch_accuracy(model, batch)\n",
    "        num_batches += 1\n",
    "        \n",
    "    acc = acc / num_batches\n",
    "    \n",
    "    return acc"
   ]
  },
  {
   "cell_type": "code",
   "execution_count": 35,
   "id": "7db2f5a9",
   "metadata": {
    "scrolled": true
   },
   "outputs": [
    {
     "name": "stdout",
     "output_type": "stream",
     "text": [
      "WARNING:tensorflow:From /home/miketheologitis/anaconda3/envs/tff-py39/lib/python3.9/site-packages/tensorflow/python/autograph/pyct/static_analysis/liveness.py:83: Analyzer.lamba_check (from tensorflow.python.autograph.pyct.static_analysis.liveness) is deprecated and will be removed after 2023-09-23.\n",
      "Instructions for updating:\n",
      "Lambda fuctions will be no more assumed to be used in the statement where they are used, or at least in the same block. https://github.com/tensorflow/tensorflow/issues/56089\n"
     ]
    },
    {
     "name": "stderr",
     "output_type": "stream",
     "text": [
      "WARNING:tensorflow:From /home/miketheologitis/anaconda3/envs/tff-py39/lib/python3.9/site-packages/tensorflow/python/autograph/pyct/static_analysis/liveness.py:83: Analyzer.lamba_check (from tensorflow.python.autograph.pyct.static_analysis.liveness) is deprecated and will be removed after 2023-09-23.\n",
      "Instructions for updating:\n",
      "Lambda fuctions will be no more assumed to be used in the statement where they are used, or at least in the same block. https://github.com/tensorflow/tensorflow/issues/56089\n"
     ]
    }
   ],
   "source": [
    "\n",
    "@tff.tf_computation(MODEL_TYPE, LOCAL_DATA_TYPE)\n",
    "def accuracy_fn(model, dataset):\n",
    "    model = tf.Variable(initial_value=model)\n",
    "    return accuracy(model, dataset)"
   ]
  },
  {
   "cell_type": "code",
   "execution_count": 36,
   "id": "ecea1204",
   "metadata": {},
   "outputs": [
    {
     "data": {
      "text/plain": [
       "'(<model=float32[1000,1],dataset=<y=float32[?],x=float32[?,1000]>*> -> float32)'"
      ]
     },
     "execution_count": 36,
     "metadata": {},
     "output_type": "execute_result"
    }
   ],
   "source": [
    "str(accuracy_fn.type_signature)"
   ]
  },
  {
   "cell_type": "markdown",
   "id": "5791b516",
   "metadata": {},
   "source": [
    "# Federated Learning"
   ]
  },
  {
   "cell_type": "markdown",
   "id": "a379134b",
   "metadata": {},
   "source": [
    "### Server Update"
   ]
  },
  {
   "cell_type": "code",
   "execution_count": 37,
   "id": "8b4f4816",
   "metadata": {},
   "outputs": [],
   "source": [
    "\n",
    "@tff.tf_computation(MODEL_TYPE)\n",
    "def server_update_fn(clients_aggr_model):\n",
    "    model = tf.Variable(initial_value=clients_aggr_model)\n",
    "    return model"
   ]
  },
  {
   "cell_type": "markdown",
   "id": "d74689db",
   "metadata": {},
   "source": [
    "**Note**: This abstraction for this simple jupyter (where the model is a `tf.Variable`) is not necessary. We create this abstraction since it is common practice generally."
   ]
  },
  {
   "cell_type": "markdown",
   "id": "fd9e2160",
   "metadata": {},
   "source": [
    "### Client train - PA-I Classifier"
   ]
  },
  {
   "cell_type": "markdown",
   "id": "642f3b8a",
   "metadata": {},
   "source": [
    "![PA](images/PA_binary_classifiers.png)"
   ]
  },
  {
   "cell_type": "markdown",
   "id": "d1b5a9fb",
   "metadata": {},
   "source": [
    "Each client trains on its own dataset (which is a sequence of batches). Hence, we create the training process, currently a PA-1 Classifier. The input of `client_train` is the client model materialized inside its client and its dataset."
   ]
  },
  {
   "cell_type": "code",
   "execution_count": 38,
   "id": "32494451",
   "metadata": {},
   "outputs": [],
   "source": [
    "\n",
    "@tf.function\n",
    "def client_train(model, C, dataset):\n",
    "    \n",
    "    @tf.function\n",
    "    def _train_on_batch(model, C, batch):\n",
    "\n",
    "        x_batch, y_batch = batch['x'], tf.expand_dims(batch['y'], axis=1)\n",
    "\n",
    "        # dot(w, x) for the batch (each instance of x in x_batch) with with shape=(batchsize, 1)\n",
    "        weights_dot_x_batch = tf.matmul(x_batch, model)\n",
    "\n",
    "        # Prediction batch with shape=(batchsize, 1)\n",
    "        y_pred_batch = tf.sign(weights_dot_x_batch)\n",
    "\n",
    "        # Suffer loss for each prediction (of instance) in the batch with shape=(batchsize,1)\n",
    "        loss_batch = tf.maximum(0., 1. - tf.multiply(y_batch, weights_dot_x_batch))\n",
    "\n",
    "        # shape=(batchsize,1) where each instance is ||x||^2, x in x_batch\n",
    "        norm_batch = tf.expand_dims(tf.reduce_sum(tf.square(x_batch), axis=1), axis=1)\n",
    "        \n",
    "        # PA-1 : Learning rate t for each instance x, with shape=(batchsize,1)\n",
    "        t_batch = tf.maximum(C, tf.divide(loss_batch, norm_batch))\n",
    "\n",
    "        # each instance is y*t*x, where y,t scalars and x in x_batch. shape=(batchsize,d)\n",
    "        t_y_x_batch = tf.multiply(t_batch, tf.multiply(y_batch, x_batch))\n",
    "\n",
    "        # !!!! Update with mean t*y*x\n",
    "        t_y_x_update = tf.expand_dims(tf.reduce_mean(t_y_x_batch, axis=0) ,axis=1)\n",
    "\n",
    "        # Update\n",
    "        model.assign_add(t_y_x_update)\n",
    "    \n",
    "    for batch in dataset:\n",
    "        _train_on_batch(model, C, batch)\n",
    "        \n",
    "    return model"
   ]
  },
  {
   "cell_type": "markdown",
   "id": "32448c2f",
   "metadata": {},
   "source": [
    "# Functional Dynamic Averaging"
   ]
  },
  {
   "cell_type": "markdown",
   "id": "b35e6a7f",
   "metadata": {},
   "source": [
    "We follow the Functional Dynamic Averaging (FDA) scheme. Let the mean model be\n",
    "\n",
    "$$ \\overline{w_t} = \\frac{1}{k} \\sum_{i=1}^{k} w_t^{(i)} $$\n",
    "\n",
    "where $ w_t^{(i)} $ is the model at time $ t $ in some round in the $i$-th learner.\n",
    "\n",
    "Local models are trained independently and cooperatively and we want to monitor the Round Terminating Conditon (**RTC**):\n",
    "\n",
    "$$ \\frac{1}{k} \\sum_{i=1}^{k} \\lVert w_t^{(i)} - \\overline{w_t} \\rVert_2^2  \\leq \\Theta $$\n",
    "\n",
    "where the left-hand side is the **model variance**, and threshold $\\Theta$ is a hyperparameter of the FDA, defined at the beginning of the round; it may change at each round. When the monitoring logic cannot guarantee the validity of RTC, the round terminates. All local models are pulled into `tff.SERVER`, and $\\bar{w_t}$ is set to their average. Then, another round begins.\n"
   ]
  },
  {
   "cell_type": "markdown",
   "id": "6aaca834",
   "metadata": {},
   "source": [
    "### Monitoring the RTC"
   ]
  },
  {
   "cell_type": "markdown",
   "id": "6a62f59b",
   "metadata": {},
   "source": [
    "FDA monitors the RTC by applying techniques from Functionary [Functional Geometric Averaging](http://users.softnet.tuc.gr/~minos/Papers/edbt19.pdf). We first restate the problem of monitoring RTC into the standard distributed stream monitoring formulation. Let\n",
    "\n",
    "$$ S(t) =  \\frac{1}{k} \\sum_{i=1}^{k} S_i(t) $$\n",
    "\n",
    "where $ S(t) \\in \\mathbb{R}^n $ be the \"global state\", **variance approximation**, of the system and $ S_i(t) \\in \\mathbb{R}^n $ the \"local states\". The goal is to monitor the threshold condition on the global state in the form $ F(S(t)) \\leq \\Theta $ where $ F : \\mathbb{R}^n \\to \\mathbb{R} $ a non-linear function. Let\n",
    "\n",
    "$$ \\Delta_t^{(i)} = w_t^{(i)} - w_{t_0}^{(i)} $$\n",
    "\n",
    "be the update at the $ i $-th learner, that is, the change to the local model at time $t$ since the beginning of the current round at time $t_0$. Let the average update be\n",
    "\n",
    "$$ \\overline{\\Delta_t} = \\frac{1}{k} \\sum_{i=1}^{k} \\Delta_t^{(i)} $$\n",
    "\n",
    "it follows that the variance can be written as\n",
    "\n",
    "$$ \\frac{1}{k} \\sum_{i=1}^{k} \\lVert w_t^{(i)} - \\overline{w_t} \\rVert_2^2 = \\Big( \\frac{1}{k} \\sum_{i=1}^{k} \\lVert \\Delta_t^{(i)} \\rVert_2^2 \\Big) - \\lVert \\overline{\\Delta_t} \\rVert_2^2 $$\n",
    "\n",
    "So, conceptually, if we define\n",
    "$$ S_i(t) = \\begin{bmatrix}\n",
    "           \\lVert \\Delta_t^{(i)} \\rVert_2^2 \\\\\n",
    "           \\Delta_t^{(i)}\n",
    "         \\end{bmatrix} \\quad \\text{and} \\quad\n",
    "         F(\\begin{bmatrix}\n",
    "           v \\\\\n",
    "           \\bf{x}\n",
    "         \\end{bmatrix}) = v - \\lVert \\bf{x} \\rVert_2^2 $$\n",
    "\n",
    "The RTC is equivalent to condition $$ F(S(t)) \\leq \\Theta $$"
   ]
  },
  {
   "cell_type": "markdown",
   "id": "01137fad",
   "metadata": {},
   "source": [
    "## 2️⃣ Linear FDA\n",
    "\n",
    "In the linear case, we reduce the update vector to a scalar, $ \\xi \\Delta_t^{(i)} \\in \\mathbb{R}$, where $ \\xi $ is any unit vector.\n",
    "\n",
    "Define the local state to be \n",
    "\n",
    "$$ S_i(t) = \\begin{bmatrix}\n",
    "           \\lVert \\Delta_t^{(i)} \\rVert_2^2 \\\\\n",
    "           \\xi \\Delta_t^{(i)}\n",
    "         \\end{bmatrix} \\in \\mathbb{R}^2 $$\n",
    "\n",
    "Also, define \n",
    "\n",
    "$$ F(v, x) = v - x^2 $$\n",
    "\n",
    "The RTC is equivalent to condition \n",
    "\n",
    "$$ F(S(t)) \\leq \\Theta $$\n",
    "\n",
    "A random choice of $ \\xi $ is likely to perform poorly (terminate round prematurely), as it wil likely be close to orthogonal to $ \\overline{\\Delta_t} $. A good choice would be a vector $ \\xi $ correlated to $ \\overline{\\Delta_t} $. A heuristic choice is to take $ \\overline{\\Delta_{t_0}} $ (after scaling it to norm 1), i.e., the update vector right before the current round started. All nodes can estimate this without communication, as $ \\overline{w_{t_0}} - \\overline{w_{t_{-1}}} $, the difference of the last two models pushed by the Server. Hence, \n",
    "\n",
    "$$ \\xi = \\frac{\\overline{w_{t_0}} - \\overline{w_{t_{-1}}}}{\\lVert \\overline{w_{t_0}} - \\overline{w_{t_{-1}}} \\rVert_2} $$"
   ]
  },
  {
   "cell_type": "code",
   "execution_count": 39,
   "id": "7c19cb65",
   "metadata": {},
   "outputs": [],
   "source": [
    "@tff.tf_computation(MODEL_TYPE, MODEL_TYPE)\n",
    "def ksi_unit_fn(w_t0, w_tminus1):\n",
    "    \n",
    "    @tf.function\n",
    "    def _ksi_unit(w_t0, w_tminus1):\n",
    "        if tf.reduce_all(tf.equal(w_t0, w_tminus1)):\n",
    "            # if equal then ksi becomes a random vector (will only happen in round 1)\n",
    "            ksi = tf.random.normal(shape=w_t0.shape)\n",
    "        else:\n",
    "            ksi = w_t0 - w_tminus1\n",
    "\n",
    "        # Normalize and return\n",
    "        return tf.divide(ksi, tf.norm(ksi))\n",
    "    \n",
    "    return _ksi_unit(w_t0, w_tminus1)"
   ]
  },
  {
   "cell_type": "code",
   "execution_count": 40,
   "id": "0069b1ca",
   "metadata": {},
   "outputs": [
    {
     "data": {
      "text/plain": [
       "'(<w_t0=float32[1000,1],w_tminus1=float32[1000,1]> -> float32[1000,1])'"
      ]
     },
     "execution_count": 40,
     "metadata": {},
     "output_type": "execute_result"
    }
   ],
   "source": [
    "str(ksi_unit_fn.type_signature)"
   ]
  },
  {
   "cell_type": "markdown",
   "id": "3eb4743f",
   "metadata": {},
   "source": [
    "Using the functions decorated with `tf.function` (context inside Tensorflow) we create the `client_train_fn` with context inside TFF. \n",
    "\n",
    "`initial_model` is the model currently inside each `tff.CLIENT`. This model is different in each CLIENT with the exception in the first step after synchronization.\n",
    "\n",
    "`last_sync_model` is the synchronized model at the start of the current round. \n",
    "\n",
    "`last_last_sync_model` is the synchronized model at the start of the previous round (used for the heuristic for $ \\xi $)."
   ]
  },
  {
   "cell_type": "code",
   "execution_count": 41,
   "id": "888be5a8",
   "metadata": {},
   "outputs": [],
   "source": [
    "\n",
    "@tff.tf_computation(MODEL_TYPE, MODEL_TYPE, MODEL_TYPE, FLOAT32_TYPE, LOCAL_DATA_TYPE)\n",
    "def client_train_fn(last_last_sync_model, last_sync_model, initial_model, C, dataset):\n",
    "    \n",
    "    model = client_train(\n",
    "        tf.Variable(initial_value=initial_model), C, dataset\n",
    "    )\n",
    "    \n",
    "    Delta_i = model - last_sync_model # AutoGraph\n",
    "    \n",
    "    #||D(t)_i||^2 , shape = (1,) \n",
    "    Delta_i_norm_squared = tf.reduce_sum(tf.square(Delta_i), axis=0) \n",
    "    \n",
    "    # heuristic unit vector ksi\n",
    "    ksi = ksi_unit_fn(last_sync_model, last_last_sync_model)\n",
    "    \n",
    "    # ksi * Delta_i (* is dot) , shape = ()\n",
    "    ksi_Delta_i = tf.reduce_sum(tf.multiply(ksi, Delta_i))\n",
    "    # shape = (1,)\n",
    "    ksi_Delta_i = tf.expand_dims(ksi_Delta_i, axis=0)\n",
    "    \n",
    "    # shape = (2,)\n",
    "    S_i = tf.concat([Delta_i_norm_squared, ksi_Delta_i], axis=0)\n",
    "    # shape = (2,1)\n",
    "    S_i = tf.reshape(S_i, (2, 1))\n",
    "\n",
    "    return model, S_i"
   ]
  },
  {
   "cell_type": "code",
   "execution_count": 42,
   "id": "349b9ed5",
   "metadata": {},
   "outputs": [
    {
     "data": {
      "text/plain": [
       "'(<last_last_sync_model=float32[1000,1],last_sync_model=float32[1000,1],initial_model=float32[1000,1],C=float32,dataset=<y=float32[?],x=float32[?,1000]>*> -> <float32[1000,1],float32[2,1]>)'"
      ]
     },
     "execution_count": 42,
     "metadata": {},
     "output_type": "execute_result"
    }
   ],
   "source": [
    "str(client_train_fn.type_signature)"
   ]
  },
  {
   "cell_type": "markdown",
   "id": "07d317f2",
   "metadata": {},
   "source": [
    "### Server Average Client Models"
   ]
  },
  {
   "cell_type": "markdown",
   "id": "d54e18e0",
   "metadata": {},
   "source": [
    "When it is time to synchronize the Clients, the Server averages the Client weights and computes the global model. This is what this function does. Moreover, remember that the Client updates its model using `server_update_fn`."
   ]
  },
  {
   "cell_type": "code",
   "execution_count": 43,
   "id": "fc7bdbd6",
   "metadata": {},
   "outputs": [],
   "source": [
    "@tff.federated_computation(CLIENT_MODEL_TYPE)\n",
    "def server_update(client_models):\n",
    "    # 4. Compute the mean of the client weights\n",
    "    mean_client_model = tff.federated_mean(client_models)\n",
    "    \n",
    "    # 4. Update the server model\n",
    "    server_model = tff.federated_map(server_update_fn, mean_client_model)\n",
    "    \n",
    "    return server_model"
   ]
  },
  {
   "cell_type": "code",
   "execution_count": 44,
   "id": "61a2a0bb",
   "metadata": {},
   "outputs": [
    {
     "data": {
      "text/plain": [
       "'({float32[1000,1]}@CLIENTS -> float32[1000,1]@SERVER)'"
      ]
     },
     "execution_count": 44,
     "metadata": {},
     "output_type": "execute_result"
    }
   ],
   "source": [
    "str(server_update.type_signature)"
   ]
  },
  {
   "cell_type": "markdown",
   "id": "11e6455e",
   "metadata": {},
   "source": [
    "### Client Learning Step"
   ]
  },
  {
   "cell_type": "markdown",
   "id": "556998dc",
   "metadata": {},
   "source": [
    "A Client learning step is an update of the model based on one or more batches. The following `federated_computation` describes the step operation over all the clients. We pass a `federated_dataset` which could be thought as a stream of one or more batches for each client and some more parameters, namely, the last synchronized global model, the current client models, and the parameter `C` of the **PA-I** classifier.\n",
    "\n",
    "Notice that each of those parameters is placed in `tff.CLIENTS`. \n",
    "\n",
    "Moreover, we return the updated Client models `client_models` (think of this as the new state of the distributed system) placed in `tff.CLIENTS` aswell which is logical, each Client updates its own model. Lastly, we return the `client_S_i` as described in the unpublished manuscript ('local state') of each Client, again placed in `tff.CLIENTS`.\n",
    "\n",
    "Note: Do not think of the `return` as a normal programming `return` statement. Here, we describe the change in state in the distributed system, in this case, solely in `tff.CLIENTS`."
   ]
  },
  {
   "cell_type": "code",
   "execution_count": 45,
   "id": "b758bda8",
   "metadata": {},
   "outputs": [],
   "source": [
    "@tff.federated_computation(CLIENT_MODEL_TYPE, CLIENT_MODEL_TYPE, CLIENT_MODEL_TYPE, CLIENT_FLOAT32, CLIENT_DATA_TYPE)\n",
    "def step(last_last_sync_client_models, last_sync_client_models, client_models, client_C, federated_dataset):\n",
    "    # 2. 3. Train the client models on their respective datasets\n",
    "    client_models, client_S_i = tff.federated_map(\n",
    "        client_train_fn, \n",
    "        (last_last_sync_client_models, last_sync_client_models, client_models, client_C, federated_dataset)\n",
    "    )\n",
    "    \n",
    "    return client_models, client_S_i"
   ]
  },
  {
   "cell_type": "code",
   "execution_count": 46,
   "id": "08b11ecd",
   "metadata": {},
   "outputs": [
    {
     "data": {
      "text/plain": [
       "'(<last_last_sync_client_models={float32[1000,1]}@CLIENTS,last_sync_client_models={float32[1000,1]}@CLIENTS,client_models={float32[1000,1]}@CLIENTS,client_C={float32}@CLIENTS,federated_dataset={<y=float32[?],x=float32[?,1000]>*}@CLIENTS> -> <{float32[1000,1]}@CLIENTS,{float32[2,1]}@CLIENTS>)'"
      ]
     },
     "execution_count": 46,
     "metadata": {},
     "output_type": "execute_result"
    }
   ],
   "source": [
    "str(step.type_signature)"
   ]
  },
  {
   "cell_type": "markdown",
   "id": "541c0b3b",
   "metadata": {},
   "source": [
    "### Server Computation of 'Global State', i.e, Variance Approximation"
   ]
  },
  {
   "cell_type": "markdown",
   "id": "6787e99a",
   "metadata": {},
   "source": [
    "As you saw above, each Client has a property 'local state' `client_S_i`. When each round ends, the server should average those local states to compute the 'global state', i.e., the approximation of the **variance** using the *Naive FDA* scheme. The following `federated_computation` describes exactly that."
   ]
  },
  {
   "cell_type": "code",
   "execution_count": 47,
   "id": "0f818b48",
   "metadata": {},
   "outputs": [],
   "source": [
    "\n",
    "@tff.federated_computation(CLIENT_STATE)\n",
    "def server_global_state(client_S_i):\n",
    "    \n",
    "    server_S = tff.federated_mean(client_S_i)\n",
    "    \n",
    "    return server_S"
   ]
  },
  {
   "cell_type": "code",
   "execution_count": 48,
   "id": "63f3a7e3",
   "metadata": {},
   "outputs": [
    {
     "data": {
      "text/plain": [
       "'({float32[2,1]}@CLIENTS -> float32[2,1]@SERVER)'"
      ]
     },
     "execution_count": 48,
     "metadata": {},
     "output_type": "execute_result"
    }
   ],
   "source": [
    "str(server_global_state.type_signature)"
   ]
  },
  {
   "cell_type": "markdown",
   "id": "c80f9f7e",
   "metadata": {},
   "source": [
    "### Round Terminating Condition"
   ]
  },
  {
   "cell_type": "markdown",
   "id": "7d158204",
   "metadata": {},
   "source": [
    "As explained in the theoretical analysis of the *Linear FDA*, when the approximation of **RTC** does not hold, i.e., \n",
    "\n",
    "$$ F(S(t)) \\gt \\Theta \\quad \\leftrightarrow \\quad S(t)_0 - S(t)_1^2 \\gt \\Theta$$\n",
    "\n",
    "we are oblidged to synchronize the Client models since we can no longer guarantee that the variance is bellow the $\\Theta$ threshold, i.e., \n",
    "\n",
    "$$ \\frac{1}{k} \\sum_{i=1}^{k} \\lVert w_t^{(i)} - \\overline{w_t} \\rVert_2^2  \\leq \\Theta $$\n",
    "\n",
    "The following function checks whether we guarantee that the **RTC** holds (`True`) or not (`False`)."
   ]
  },
  {
   "cell_type": "code",
   "execution_count": 49,
   "id": "a06e446b",
   "metadata": {},
   "outputs": [],
   "source": [
    "# Same for all FDA. (bool)\n",
    "@tff.tf_computation(STATE_TYPE, FLOAT32_TYPE)\n",
    "def RTC_holds(S_t, THETA):\n",
    "    \"\"\" Returns True if RTC holds (has not been defied). False otherwise (sync must happen)\"\"\"\n",
    "    \n",
    "    @tf.function\n",
    "    def _F(S_t, THETA):\n",
    "        \"\"\" Linear FDA \"\"\"\n",
    "        return (S_t[0] - S_t[1]**2) <= THETA\n",
    "    \n",
    "    return _F(S_t, THETA)\n"
   ]
  },
  {
   "cell_type": "code",
   "execution_count": 50,
   "id": "cb04701e",
   "metadata": {},
   "outputs": [
    {
     "data": {
      "text/plain": [
       "'(<S_t=float32[2,1],THETA=float32> -> bool[1])'"
      ]
     },
     "execution_count": 50,
     "metadata": {},
     "output_type": "execute_result"
    }
   ],
   "source": [
    "str(RTC_holds.type_signature)"
   ]
  },
  {
   "cell_type": "markdown",
   "id": "698c5f35",
   "metadata": {},
   "source": [
    "### Help variance function"
   ]
  },
  {
   "cell_type": "markdown",
   "id": "4e382606",
   "metadata": {},
   "source": [
    "A helper function that computes the **Actual Variance** when the approximate **RTC** condition does not hold. We want to see how far off the approximation is from reality."
   ]
  },
  {
   "cell_type": "code",
   "execution_count": 51,
   "id": "eec4adef",
   "metadata": {},
   "outputs": [],
   "source": [
    "w_spec = tf.TensorSpec(shape=(NUM_CLIENTS, d, 1), dtype=tf.float32)\n",
    "\n",
    "@tf.function(input_signature=[w_spec, w_spec])\n",
    "def variance(w_t, w_sync):\n",
    "    # w_t , w_sync tensors with shape=(NUM_CLIENTS, d, 1)\n",
    "    \n",
    "    # tensor with shape=(NUM_CLIENTS, d, 1)\n",
    "    diff = w_t - w_sync\n",
    "    \n",
    "    # tensor with shape=(NUM_CLIENTS, 1) , For each client ||w_i_t - w_t||^2\n",
    "    dot = tf.reduce_sum(tf.square(diff), axis=1)\n",
    "    \n",
    "    # Variance shape=() , scalar\n",
    "    var = tf.reduce_mean(dot)\n",
    "    \n",
    "    return var"
   ]
  },
  {
   "cell_type": "markdown",
   "id": "fe51953c",
   "metadata": {},
   "source": [
    "## Metrics"
   ]
  },
  {
   "cell_type": "markdown",
   "id": "491a75dc",
   "metadata": {},
   "source": [
    "A very ugly looking `Metrics` class that helps us with printing and storing the round metrics.\n",
    "\n",
    "Skip."
   ]
  },
  {
   "cell_type": "code",
   "execution_count": 52,
   "id": "dc049cb2",
   "metadata": {},
   "outputs": [],
   "source": [
    "# Unentangle num_rounds\n",
    "\n",
    "class Metrics:\n",
    "    def __init__(self, name, num_rounds, theta, num_clients, batches_per_step, batch_size, n, d, test_size, S_i_bytes):\n",
    "        self.num_rounds = num_rounds\n",
    "        self.theta = theta\n",
    "        self.num_clients = num_clients\n",
    "        self.batches_per_step = batches_per_step\n",
    "        self.batch_size = batch_size\n",
    "        self.n = n\n",
    "        self.d = d\n",
    "        self.test_size = test_size\n",
    "        self.S_i_bytes = S_i_bytes\n",
    "        self.name = name\n",
    "        \n",
    "        self.model_bytes = self.d * 4\n",
    "        \n",
    "        self.total_batches_per_client = int(self.n / (self.num_clients*self.batch_size))\n",
    "        \n",
    "        self.one_sample_size_b = (self.d+2)*4 # bytes\n",
    "        \n",
    "        self.training_dataset_size_mb = self.one_sample_size_b * (n * (1-test_size)) / 1_000_000 # In mb\n",
    "        \n",
    "        # Total batches for all clients for a single step\n",
    "        self.total_batches_per_step = (self.batches_per_step * self.num_clients)\n",
    "        \n",
    "        self.samples = int(self.n * (1-self.test_size))\n",
    "        \n",
    "        self.all_metrics = []\n",
    "        \n",
    "    \n",
    "    def print_initial_information(self):\n",
    "        print(\"FEDERATED SETTING INFO:\")\n",
    "        print(\"------------------------------------------------------------\")\n",
    "\n",
    "        print(\"CLIENTS:\")\n",
    "        print(f'{\"Clients\":<10} {\"Batches per Client\":<20} {\"Batches per Step\":<20}')\n",
    "        print(f'{self.num_clients:<10} {self.total_batches_per_client:<20} {self.batches_per_step:<20}')\n",
    "        print()\n",
    "\n",
    "        print(\"TRAIN DATASET:\")\n",
    "        print(f'{\"x-Dim\":<6} {\"y-classes\":<10} {\"Samples\":<12} {\"Dataset size (MB)\":<20} {\"Samples per Batch\":<20}')\n",
    "        print(f'{d:<6} {2:<10} {self.samples:<12} {self.training_dataset_size_mb:<20} {self.batch_size:<20}')\n",
    "        print()\n",
    "\n",
    "        print(\"ALGORITHM:\")\n",
    "        print(f'{\"Name\":<5} {\"Model Bytes\":<10}')\n",
    "        print(f'{\"PA-I\":<5} {self.model_bytes:<10}')\n",
    "        print()\n",
    "\n",
    "        print(\"SYNCHRONIZATION:\")\n",
    "        print(f'{self.name} FDA monitoring model Variance bellow {self.theta}')\n",
    "        print(\"------------------------------------------------------------\")\n",
    "        print()\n",
    "        print()   \n",
    "    \n",
    "    def store_and_print_metrics(self, num_round, num_steps, global_state, accuracy, C, var):\n",
    "        metrics = {}\n",
    "\n",
    "        metrics['Round'] = num_round\n",
    "        metrics['Steps'] = num_steps\n",
    "        metrics['Accuracy'] = accuracy\n",
    "        metrics['Global State'] = global_state[0]\n",
    "        metrics['C'] = C\n",
    "        metrics['Actual Variance'] = var\n",
    "\n",
    "        # Total samples seen by all clients. batch_size = samples per batch\n",
    "        metrics['Samples'] = self.batch_size * (num_steps * self.total_batches_per_step)\n",
    "\n",
    "        # FDA In each step clients return their S_i (4 bytes)\n",
    "        local_states_bytes = num_steps * self.num_clients * self.S_i_bytes\n",
    "        # Synchronization: Receive models from clients AND Send model to all clients\n",
    "        sync_bytes = 2 * self.model_bytes * self.num_clients\n",
    "\n",
    "        metrics['Bytes Exchanged'] = local_states_bytes + sync_bytes\n",
    "\n",
    "        self.all_metrics.append(metrics)\n",
    "\n",
    "        # Print the metrics for the current round\n",
    "        self.print_round_metrics()\n",
    "        \n",
    "    def print_round_metrics(self):\n",
    "        metrics = self.all_metrics[-1]\n",
    "        # Print the metric values in a nicely formatted table\n",
    "        print((\n",
    "            f'{\"Round\":<6} {\"Steps\":<6} {\"C\":<5} {\"Accuracy\":<13} '\n",
    "            f'{\"Bytes Exchanged\":<20} {\"Samples\":<15} {\"Var Approx\":<15} '\n",
    "            f'{\"Var (Actual)\":<15}'\n",
    "        ))\n",
    "\n",
    "        print((\n",
    "            f\"{metrics['Round']:<6} {metrics['Steps']:<6} {metrics['C']:<5} \"\n",
    "            f\"{metrics['Accuracy']:<13.5f} {metrics['Bytes Exchanged']:<20} \"\n",
    "            f\"{metrics['Samples']:<15} {metrics['Global State']:<15.6f} \"\n",
    "            f\"{metrics['Actual Variance']:<15.6f}\"\n",
    "        ))\n",
    "\n",
    "        print()\n",
    "    \n",
    "    def print_aggregate_metrics(self):\n",
    "\n",
    "        total_bytes_exchanged = sum(metrics['Bytes Exchanged'] for metrics in self.all_metrics)\n",
    "        total_mb_exchanged = total_bytes_exchanged/1_000_000\n",
    "        \n",
    "        total_steps = sum(metrics['Steps'] for metrics in self.all_metrics)\n",
    "        total_samples = sum(metrics['Samples'] for metrics in self.all_metrics)\n",
    "        final_accuracy = self.all_metrics[-1]['Accuracy']\n",
    "\n",
    "        # Remember we pass the dataset many times at random (random batches)\n",
    "        trained_in_bytes = self.one_sample_size_b * total_samples \n",
    "        trained_in_mb = trained_in_bytes / 1_000_000 # MB\n",
    "        \n",
    "        # total communication due to model synchronization\n",
    "        model_sync_bytes_exchanged = self.num_rounds * (2 * self.model_bytes * self.num_clients)\n",
    "        model_sync_mb_exchanged = model_sync_bytes_exchanged / 1_000_000\n",
    "        \n",
    "        # total communication due to monitoring\n",
    "        monitoring_bytes_exchanged = total_bytes_exchanged - model_sync_bytes_exchanged\n",
    "        monitoring_mb_exchanged = monitoring_bytes_exchanged / 1_000_000\n",
    "        \n",
    "        print(\"------------------------------------------------------------\")\n",
    "\n",
    "        print()\n",
    "        print('FINAL METRICS:')\n",
    "        print(\"------------------------------------------------------------\")\n",
    "        print()\n",
    "\n",
    "        print('TRAINING:')\n",
    "        print((\n",
    "            f'{\"Rounds\":<7} {\"Steps\":<9} {\"Samples\":<13} {\"Trained MB\":<20}'\n",
    "            f'{\"Final Accuracy\":<25}'\n",
    "        ))\n",
    "        print((\n",
    "            f'{self.num_rounds:<7} {total_steps:<9} {total_samples:<13} {trained_in_mb:<20.5f}'\n",
    "            f'{final_accuracy:<25.6}'\n",
    "        ))\n",
    "        print()\n",
    "        \n",
    "        print('COMMUNICATION:')\n",
    "        print(f'{\"Total MB Exchanged\":<25} {\"Model Sync MB Exchanged\":<25} {\"Monitoring MB Exchanged\":<25}')\n",
    "        print(f'{total_mb_exchanged:<25} {model_sync_mb_exchanged:<25} {monitoring_mb_exchanged:<25}')\n",
    "            \n",
    "        "
   ]
  },
  {
   "cell_type": "markdown",
   "id": "3e05037e",
   "metadata": {},
   "source": [
    "## Training Initialization"
   ]
  },
  {
   "cell_type": "markdown",
   "id": "09197d61",
   "metadata": {},
   "source": [
    "Create the federated datasets."
   ]
  },
  {
   "cell_type": "code",
   "execution_count": 53,
   "id": "933033bb",
   "metadata": {},
   "outputs": [],
   "source": [
    "train_federated_data = create_federated_data()\n",
    "test_dataset = create_tf_dataset_for_test()"
   ]
  },
  {
   "cell_type": "markdown",
   "id": "e9949269",
   "metadata": {},
   "source": [
    "Initial conditions"
   ]
  },
  {
   "cell_type": "code",
   "execution_count": 54,
   "id": "5e2b3758",
   "metadata": {},
   "outputs": [],
   "source": [
    "NUM_ROUNDS = 15\n",
    "THETA = 100.\n",
    "C = 0.01"
   ]
  },
  {
   "cell_type": "markdown",
   "id": "fdec3b1e",
   "metadata": {},
   "source": [
    "We assume that all Clients start in synchronization, i.e., Server model is zeros and Client models are also zeros.\n",
    "\n",
    "Moreover, notice that `client_models`, `last_sync_client_models`, `client_C` are all defined as lists containing `NUM_CLIENTS` elements. This is the simulation approach of TFF and following the already defined functions above, each element in those lists is assumed to lie in one `tff.CLIENT`. For example, each `tff.CLIENT` has a `C` hyperparameter to be used by **PA-I** classifier on its own model etc."
   ]
  },
  {
   "cell_type": "code",
   "execution_count": 55,
   "id": "9cb526fe",
   "metadata": {},
   "outputs": [],
   "source": [
    "# Initial model of zeros\n",
    "model = tf.Variable(tf.zeros(shape=(d, 1)), trainable=True, name='weights', dtype=tf.float32)\n",
    "\n",
    "# Assume client models are synchronized at the start (Obviously S_t = 0)\n",
    "client_models = [model]*NUM_CLIENTS\n",
    "last_sync_client_models = [model]*NUM_CLIENTS\n",
    "last_last_sync_client_models = [model]*NUM_CLIENTS\n",
    "client_C = [C]*NUM_CLIENTS\n",
    "S_t = tf.constant([[0.], [0.]], dtype=tf.float32)"
   ]
  },
  {
   "cell_type": "markdown",
   "id": "01a7248d",
   "metadata": {},
   "source": [
    "## Training Loop"
   ]
  },
  {
   "cell_type": "code",
   "execution_count": 1,
   "id": "c73a9c16",
   "metadata": {},
   "outputs": [
    {
     "ename": "NameError",
     "evalue": "name 'Metrics' is not defined",
     "output_type": "error",
     "traceback": [
      "\u001b[0;31m---------------------------------------------------------------------------\u001b[0m",
      "\u001b[0;31mNameError\u001b[0m                                 Traceback (most recent call last)",
      "Cell \u001b[0;32mIn[1], line 1\u001b[0m\n\u001b[0;32m----> 1\u001b[0m metrics \u001b[38;5;241m=\u001b[39m \u001b[43mMetrics\u001b[49m(\u001b[38;5;124m'\u001b[39m\u001b[38;5;124mLinear\u001b[39m\u001b[38;5;124m'\u001b[39m, NUM_ROUNDS, THETA, NUM_CLIENTS, BATCHES_PER_STEP, BATCH_SIZE, n, d, test_size, \u001b[38;5;241m8\u001b[39m)\n\u001b[1;32m      2\u001b[0m metrics\u001b[38;5;241m.\u001b[39mprint_initial_information()\n",
      "\u001b[0;31mNameError\u001b[0m: name 'Metrics' is not defined"
     ]
    }
   ],
   "source": [
    "metrics = Metrics('Linear', NUM_ROUNDS, THETA, NUM_CLIENTS, BATCHES_PER_STEP, BATCH_SIZE, n, d, test_size, 8)\n",
    "metrics.print_initial_information()"
   ]
  },
  {
   "cell_type": "code",
   "execution_count": 56,
   "id": "d926259b",
   "metadata": {
    "collapsed": true
   },
   "outputs": [
    {
     "name": "stdout",
     "output_type": "stream",
     "text": [
      "FEDERATED SETTING INFO:\n",
      "------------------------------------------------------------\n",
      "CLIENTS:\n",
      "Clients    Batches per Client   Batches per Step    \n",
      "10         312                  1                   \n",
      "\n",
      "TRAIN DATASET:\n",
      "x-Dim  y-classes  Samples      Dataset size (MB)    Samples per Batch   \n",
      "1000   2          90000        360.72               32                  \n",
      "\n",
      "ALGORITHM:\n",
      "Name  Model Bytes\n",
      "PA-I  4000      \n",
      "\n",
      "SYNCHRONIZATION:\n",
      "Linear FDA monitoring model Variance bellow 100.0\n",
      "------------------------------------------------------------\n",
      "\n",
      "\n"
     ]
    },
    {
     "ename": "KeyboardInterrupt",
     "evalue": "",
     "output_type": "error",
     "traceback": [
      "\u001b[0;31m---------------------------------------------------------------------------\u001b[0m",
      "\u001b[0;31mKeyboardInterrupt\u001b[0m                         Traceback (most recent call last)",
      "Cell \u001b[0;32mIn[56], line 11\u001b[0m\n\u001b[1;32m      6\u001b[0m num_steps \u001b[38;5;241m=\u001b[39m \u001b[38;5;241m0\u001b[39m \u001b[38;5;66;03m# Each step() invocation is a step\u001b[39;00m\n\u001b[1;32m      8\u001b[0m \u001b[38;5;28;01mwhile\u001b[39;00m RTC_holds(S_t, THETA): \u001b[38;5;66;03m# RTC holds, no sync needed\u001b[39;00m\n\u001b[1;32m      9\u001b[0m     \n\u001b[1;32m     10\u001b[0m     \u001b[38;5;66;03m# Perform a training step with the current client_models (no sync yet)\u001b[39;00m\n\u001b[0;32m---> 11\u001b[0m     client_models, client_S_i \u001b[38;5;241m=\u001b[39m \u001b[43mstep\u001b[49m\u001b[43m(\u001b[49m\n\u001b[1;32m     12\u001b[0m \u001b[43m        \u001b[49m\u001b[43mlast_last_sync_client_models\u001b[49m\u001b[43m,\u001b[49m\u001b[43m \u001b[49m\u001b[43mlast_sync_client_models\u001b[49m\u001b[43m,\u001b[49m\u001b[43m \u001b[49m\u001b[43mclient_models\u001b[49m\u001b[43m,\u001b[49m\u001b[43m \u001b[49m\u001b[43mclient_C\u001b[49m\u001b[43m,\u001b[49m\u001b[43m \u001b[49m\u001b[43mtrain_federated_data\u001b[49m\n\u001b[1;32m     13\u001b[0m \u001b[43m    \u001b[49m\u001b[43m)\u001b[49m\n\u001b[1;32m     15\u001b[0m     \u001b[38;5;66;03m# Compute 'global state' Approx Variance as defined in the manuscript\u001b[39;00m\n\u001b[1;32m     16\u001b[0m     S_t \u001b[38;5;241m=\u001b[39m server_global_state(client_S_i)\n",
      "File \u001b[0;32m~/anaconda3/envs/tff-py39/lib/python3.9/site-packages/tensorflow_federated/python/core/impl/computation/computation_impl.py:139\u001b[0m, in \u001b[0;36mConcreteComputation.__call__\u001b[0;34m(self, *args, **kwargs)\u001b[0m\n\u001b[1;32m    137\u001b[0m \u001b[38;5;28;01mdef\u001b[39;00m \u001b[38;5;21m__call__\u001b[39m(\u001b[38;5;28mself\u001b[39m, \u001b[38;5;241m*\u001b[39margs, \u001b[38;5;241m*\u001b[39m\u001b[38;5;241m*\u001b[39mkwargs):\n\u001b[1;32m    138\u001b[0m   arg \u001b[38;5;241m=\u001b[39m function_utils\u001b[38;5;241m.\u001b[39mpack_args(\u001b[38;5;28mself\u001b[39m\u001b[38;5;241m.\u001b[39m_type_signature\u001b[38;5;241m.\u001b[39mparameter, args, kwargs)\n\u001b[0;32m--> 139\u001b[0m   \u001b[38;5;28;01mreturn\u001b[39;00m \u001b[38;5;28;43mself\u001b[39;49m\u001b[38;5;241;43m.\u001b[39;49m\u001b[43m_context_stack\u001b[49m\u001b[38;5;241;43m.\u001b[39;49m\u001b[43mcurrent\u001b[49m\u001b[38;5;241;43m.\u001b[39;49m\u001b[43minvoke\u001b[49m\u001b[43m(\u001b[49m\u001b[38;5;28;43mself\u001b[39;49m\u001b[43m,\u001b[49m\u001b[43m \u001b[49m\u001b[43marg\u001b[49m\u001b[43m)\u001b[49m\n",
      "File \u001b[0;32m~/anaconda3/envs/tff-py39/lib/python3.9/site-packages/tensorflow_federated/python/core/impl/execution_contexts/sync_execution_context.py:65\u001b[0m, in \u001b[0;36mSyncExecutionContext.invoke\u001b[0;34m(self, comp, arg)\u001b[0m\n\u001b[1;32m     64\u001b[0m \u001b[38;5;28;01mdef\u001b[39;00m \u001b[38;5;21minvoke\u001b[39m(\u001b[38;5;28mself\u001b[39m, comp, arg):\n\u001b[0;32m---> 65\u001b[0m   \u001b[38;5;28;01mreturn\u001b[39;00m \u001b[38;5;28;43mself\u001b[39;49m\u001b[38;5;241;43m.\u001b[39;49m\u001b[43m_async_runner\u001b[49m\u001b[38;5;241;43m.\u001b[39;49m\u001b[43mrun_coro_and_return_result\u001b[49m\u001b[43m(\u001b[49m\n\u001b[1;32m     66\u001b[0m \u001b[43m      \u001b[49m\u001b[38;5;28;43mself\u001b[39;49m\u001b[38;5;241;43m.\u001b[39;49m\u001b[43m_async_context\u001b[49m\u001b[38;5;241;43m.\u001b[39;49m\u001b[43minvoke\u001b[49m\u001b[43m(\u001b[49m\u001b[43mcomp\u001b[49m\u001b[43m,\u001b[49m\u001b[43m \u001b[49m\u001b[43marg\u001b[49m\u001b[43m)\u001b[49m\n\u001b[1;32m     67\u001b[0m \u001b[43m  \u001b[49m\u001b[43m)\u001b[49m\n",
      "File \u001b[0;32m~/anaconda3/envs/tff-py39/lib/python3.9/site-packages/tensorflow_federated/python/common_libs/async_utils.py:224\u001b[0m, in \u001b[0;36mAsyncThreadRunner.run_coro_and_return_result\u001b[0;34m(self, coro)\u001b[0m\n\u001b[1;32m    222\u001b[0m \u001b[38;5;124;03m\"\"\"Runs coroutine in the managed event loop, returning the result.\"\"\"\u001b[39;00m\n\u001b[1;32m    223\u001b[0m future \u001b[38;5;241m=\u001b[39m asyncio\u001b[38;5;241m.\u001b[39mrun_coroutine_threadsafe(coro, \u001b[38;5;28mself\u001b[39m\u001b[38;5;241m.\u001b[39m_event_loop)\n\u001b[0;32m--> 224\u001b[0m \u001b[38;5;28;01mreturn\u001b[39;00m \u001b[43mfuture\u001b[49m\u001b[38;5;241;43m.\u001b[39;49m\u001b[43mresult\u001b[49m\u001b[43m(\u001b[49m\u001b[43m)\u001b[49m\n",
      "File \u001b[0;32m~/anaconda3/envs/tff-py39/lib/python3.9/concurrent/futures/_base.py:441\u001b[0m, in \u001b[0;36mFuture.result\u001b[0;34m(self, timeout)\u001b[0m\n\u001b[1;32m    438\u001b[0m \u001b[38;5;28;01melif\u001b[39;00m \u001b[38;5;28mself\u001b[39m\u001b[38;5;241m.\u001b[39m_state \u001b[38;5;241m==\u001b[39m FINISHED:\n\u001b[1;32m    439\u001b[0m     \u001b[38;5;28;01mreturn\u001b[39;00m \u001b[38;5;28mself\u001b[39m\u001b[38;5;241m.\u001b[39m__get_result()\n\u001b[0;32m--> 441\u001b[0m \u001b[38;5;28;43mself\u001b[39;49m\u001b[38;5;241;43m.\u001b[39;49m\u001b[43m_condition\u001b[49m\u001b[38;5;241;43m.\u001b[39;49m\u001b[43mwait\u001b[49m\u001b[43m(\u001b[49m\u001b[43mtimeout\u001b[49m\u001b[43m)\u001b[49m\n\u001b[1;32m    443\u001b[0m \u001b[38;5;28;01mif\u001b[39;00m \u001b[38;5;28mself\u001b[39m\u001b[38;5;241m.\u001b[39m_state \u001b[38;5;129;01min\u001b[39;00m [CANCELLED, CANCELLED_AND_NOTIFIED]:\n\u001b[1;32m    444\u001b[0m     \u001b[38;5;28;01mraise\u001b[39;00m CancelledError()\n",
      "File \u001b[0;32m~/anaconda3/envs/tff-py39/lib/python3.9/threading.py:312\u001b[0m, in \u001b[0;36mCondition.wait\u001b[0;34m(self, timeout)\u001b[0m\n\u001b[1;32m    310\u001b[0m \u001b[38;5;28;01mtry\u001b[39;00m:    \u001b[38;5;66;03m# restore state no matter what (e.g., KeyboardInterrupt)\u001b[39;00m\n\u001b[1;32m    311\u001b[0m     \u001b[38;5;28;01mif\u001b[39;00m timeout \u001b[38;5;129;01mis\u001b[39;00m \u001b[38;5;28;01mNone\u001b[39;00m:\n\u001b[0;32m--> 312\u001b[0m         \u001b[43mwaiter\u001b[49m\u001b[38;5;241;43m.\u001b[39;49m\u001b[43macquire\u001b[49m\u001b[43m(\u001b[49m\u001b[43m)\u001b[49m\n\u001b[1;32m    313\u001b[0m         gotit \u001b[38;5;241m=\u001b[39m \u001b[38;5;28;01mTrue\u001b[39;00m\n\u001b[1;32m    314\u001b[0m     \u001b[38;5;28;01melse\u001b[39;00m:\n",
      "\u001b[0;31mKeyboardInterrupt\u001b[0m: "
     ]
    }
   ],
   "source": [
    "metrics.print_initial_information()\n",
    "\n",
    "for r in range(1, NUM_ROUNDS+1):\n",
    "    \n",
    "    num_steps = 0 # Each step() invocation is a step\n",
    "    \n",
    "    while RTC_holds(S_t, THETA): # RTC holds, no sync needed\n",
    "        \n",
    "        # Perform a training step with the current client_models (no sync yet)\n",
    "        client_models, client_S_i = step(\n",
    "            last_last_sync_client_models, last_sync_client_models, client_models, client_C, train_federated_data\n",
    "        )\n",
    "        \n",
    "        # Compute 'global state' Approx Variance as defined in the manuscript\n",
    "        S_t = server_global_state(client_S_i)\n",
    "        \n",
    "        num_steps += 1\n",
    "    \n",
    "    # RTC defied, sync must happen\n",
    "    \n",
    "        \n",
    "    # Update the server model from the client models.\n",
    "    model = server_update(client_models)\n",
    "    \n",
    "    metrics.store_and_print_metrics(r, num_steps, S_t[0]-S_t[1]**2, accuracy_fn(model, test_dataset), client_C[0], variance(client_models, [model]*NUM_CLIENTS))\n",
    "    \n",
    "    client_models, last_sync_client_models, last_last_sync_client_models, S_t = [model]*NUM_CLIENTS, [model]*NUM_CLIENTS, last_sync_client_models, tf.constant([[0.], [0.]], dtype=tf.float32)\n",
    "\n",
    "    \n",
    "metrics.print_aggregate_metrics()"
   ]
  },
  {
   "cell_type": "markdown",
   "id": "29b158bc",
   "metadata": {},
   "source": []
  },
  {
   "cell_type": "markdown",
   "id": "241cf782",
   "metadata": {},
   "source": [
    "\n",
    "2. Comments + Check approach (maybe pass string \"Naive FDA\", unentangle functions)\n",
    "5. Wrap in tff.tf_computation or federated. X nope\n",
    "7. shuffle not random seed so we can compare FDA"
   ]
  },
  {
   "cell_type": "code",
   "execution_count": null,
   "id": "12ad0e19",
   "metadata": {},
   "outputs": [],
   "source": [
    "from sklearn.linear_model import PassiveAggressiveClassifier\n",
    "from sklearn.metrics import accuracy_score\n",
    "\n",
    "EPOCHS = 1000\n",
    "# PA-I regressor from sklearn\n",
    "pa1 = PassiveAggressiveClassifier(C=0.01, loss=\"hinge\", n_jobs=-1, max_iter=EPOCHS)\n",
    "pa1.fit(X_train, y_train)\n",
    "\n",
    "accuracy_score(y_test, pa1.predict(X_test))"
   ]
  },
  {
   "cell_type": "code",
   "execution_count": null,
   "id": "c1c975f9",
   "metadata": {},
   "outputs": [],
   "source": []
  },
  {
   "cell_type": "code",
   "execution_count": null,
   "id": "d0450b76",
   "metadata": {},
   "outputs": [],
   "source": []
  }
 ],
 "metadata": {
  "kernelspec": {
   "display_name": "Python [conda env:tff-py39] *",
   "language": "python",
   "name": "conda-env-tff-py39-py"
  },
  "language_info": {
   "codemirror_mode": {
    "name": "ipython",
    "version": 3
   },
   "file_extension": ".py",
   "mimetype": "text/x-python",
   "name": "python",
   "nbconvert_exporter": "python",
   "pygments_lexer": "ipython3",
   "version": "3.9.16"
  }
 },
 "nbformat": 4,
 "nbformat_minor": 5
}
