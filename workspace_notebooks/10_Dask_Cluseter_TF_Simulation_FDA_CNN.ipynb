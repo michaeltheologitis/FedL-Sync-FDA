{
 "cells": [
  {
   "cell_type": "code",
   "execution_count": 1,
   "id": "5a375d01-a895-4561-b8d4-a208daad63a9",
   "metadata": {},
   "outputs": [
    {
     "name": "stdout",
     "output_type": "stream",
     "text": [
      "importing Jupyter notebook from TF_Simulation_FDA_CNN.ipynb\n"
     ]
    }
   ],
   "source": [
    "import import_ipynb\n",
    "import TF_Simulation_FDA_CNN as sim"
   ]
  },
  {
   "cell_type": "code",
   "execution_count": 2,
   "id": "86268beb-9292-462a-b30a-d2572700517b",
   "metadata": {},
   "outputs": [
    {
     "data": {
      "text/plain": [
       "<function TF_Simulation_FDA_CNN.get_compiled_and_built_advanced_cnn()>"
      ]
     },
     "execution_count": 2,
     "metadata": {},
     "output_type": "execute_result"
    }
   ],
   "source": [
    "sim.get_compiled_and_built_advanced_cnn"
   ]
  },
  {
   "cell_type": "code",
   "execution_count": null,
   "id": "22896a3b-37e0-46e2-91aa-89812b20f603",
   "metadata": {},
   "outputs": [],
   "source": []
  }
 ],
 "metadata": {
  "kernelspec": {
   "display_name": "Python [conda env:tf-212] *",
   "language": "python",
   "name": "conda-env-tf-212-py"
  },
  "language_info": {
   "codemirror_mode": {
    "name": "ipython",
    "version": 3
   },
   "file_extension": ".py",
   "mimetype": "text/x-python",
   "name": "python",
   "nbconvert_exporter": "python",
   "pygments_lexer": "ipython3",
   "version": "3.9.16"
  }
 },
 "nbformat": 4,
 "nbformat_minor": 5
}
