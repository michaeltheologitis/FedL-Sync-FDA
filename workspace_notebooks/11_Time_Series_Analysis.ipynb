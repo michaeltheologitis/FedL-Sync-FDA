{
 "cells": [
  {
   "cell_type": "code",
   "execution_count": 1,
   "id": "8a4a8c00",
   "metadata": {},
   "outputs": [],
   "source": [
    "import pandas as pd\n",
    "import matplotlib.pyplot as plt"
   ]
  },
  {
   "cell_type": "markdown",
   "id": "55e5d774",
   "metadata": {},
   "source": [
    "Basic metrics results:"
   ]
  },
  {
   "cell_type": "code",
   "execution_count": null,
   "id": "3434f910",
   "metadata": {},
   "outputs": [],
   "source": [
    "df = pd.read_csv(\"test_results/test_advanced_cnn_results.csv\") # "
   ]
  },
  {
   "cell_type": "markdown",
   "id": "b16768eb",
   "metadata": {},
   "source": [
    "Time series results:"
   ]
  },
  {
   "cell_type": "code",
   "execution_count": null,
   "id": "6fb3d2e6",
   "metadata": {},
   "outputs": [],
   "source": [
    "df_time_series = pd.read_csv(\"test_results/test_advanced_cnn_results_time_series.csv\") # "
   ]
  },
  {
   "cell_type": "code",
   "execution_count": null,
   "id": "13662870",
   "metadata": {},
   "outputs": [],
   "source": []
  },
  {
   "cell_type": "code",
   "execution_count": null,
   "id": "c5572295",
   "metadata": {},
   "outputs": [],
   "source": [
    "def query(dataset_name, fda_name, epochs, num_clients, batch_size, steps_in_one_fda_step,\n",
    "          theta, num_weights, seed=None, sketch_width=None, sketch_depth=None):\n",
    "    \n",
    "    df = df\n",
    "    \n",
    "    time_series_metrics = []\n",
    "    \n",
    "    id_tuple = (\n",
    "        dataset_name, fda_name, epochs, num_clients, batch_size,\n",
    "        steps_in_one_fda_step, theta, num_weights, seed, sketch_width, sketch_depth\n",
    "    )\n",
    "    \n",
    "    id_hash = sha256(''.join(str(e) for e in tup).encode()).hexdigest()"
   ]
  },
  {
   "cell_type": "code",
   "execution_count": null,
   "id": "5bf50b24",
   "metadata": {},
   "outputs": [],
   "source": []
  },
  {
   "cell_type": "code",
   "execution_count": null,
   "id": "697e3f7f",
   "metadata": {},
   "outputs": [],
   "source": []
  },
  {
   "cell_type": "code",
   "execution_count": 2,
   "id": "b495c4fc",
   "metadata": {},
   "outputs": [],
   "source": [
    "def foo(**kwargs):\n",
    "    print(kwargs)"
   ]
  },
  {
   "cell_type": "code",
   "execution_count": 3,
   "id": "0d9ec97a",
   "metadata": {},
   "outputs": [
    {
     "name": "stdout",
     "output_type": "stream",
     "text": [
      "{'x': 5, 'y': 10}\n"
     ]
    }
   ],
   "source": [
    "foo(x=5, y=10)"
   ]
  },
  {
   "cell_type": "code",
   "execution_count": 4,
   "id": "386399ee",
   "metadata": {},
   "outputs": [
    {
     "data": {
      "text/plain": [
       "'1'"
      ]
     },
     "execution_count": 4,
     "metadata": {},
     "output_type": "execute_result"
    }
   ],
   "source": [
    "repr(1)"
   ]
  },
  {
   "cell_type": "code",
   "execution_count": null,
   "id": "31415961",
   "metadata": {},
   "outputs": [],
   "source": []
  }
 ],
 "metadata": {
  "kernelspec": {
   "display_name": "Python [conda env:tff-py39] *",
   "language": "python",
   "name": "conda-env-tff-py39-py"
  },
  "language_info": {
   "codemirror_mode": {
    "name": "ipython",
    "version": 3
   },
   "file_extension": ".py",
   "mimetype": "text/x-python",
   "name": "python",
   "nbconvert_exporter": "python",
   "pygments_lexer": "ipython3",
   "version": "3.9.16"
  }
 },
 "nbformat": 4,
 "nbformat_minor": 5
}
