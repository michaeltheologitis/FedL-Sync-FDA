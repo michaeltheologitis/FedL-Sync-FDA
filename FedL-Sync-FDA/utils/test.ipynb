{
 "cells": [
  {
   "cell_type": "code",
   "execution_count": 10,
   "id": "c1f8a19e-16da-4db2-9466-0dba69a73dd0",
   "metadata": {},
   "outputs": [],
   "source": [
    "import json\n",
    "\n",
    "def get_test_hyper_parameters(comb_filename, proc_id):\n",
    "    with open(f'../tmp/combinations/{comb_filename}.json', 'r') as f:\n",
    "        all_combinations = json.load(f)\n",
    "    return  all_combinations[proc_id]"
   ]
  }
 ],
 "metadata": {
  "kernelspec": {
   "display_name": "Python [conda env:tf-2.12]",
   "language": "python",
   "name": "conda-env-tf-2.12-py"
  },
  "language_info": {
   "codemirror_mode": {
    "name": "ipython",
    "version": 3
   },
   "file_extension": ".py",
   "mimetype": "text/x-python",
   "name": "python",
   "nbconvert_exporter": "python",
   "pygments_lexer": "ipython3",
   "version": "3.9.16"
  }
 },
 "nbformat": 4,
 "nbformat_minor": 5
}
