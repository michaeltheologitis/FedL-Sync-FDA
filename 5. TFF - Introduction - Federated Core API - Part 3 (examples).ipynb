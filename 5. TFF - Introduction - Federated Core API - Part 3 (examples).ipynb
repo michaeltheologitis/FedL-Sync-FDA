{
 "cells": [
  {
   "cell_type": "code",
   "execution_count": 2,
   "id": "4cdd60fe",
   "metadata": {},
   "outputs": [],
   "source": [
    "import nest_asyncio\n",
    "nest_asyncio.apply()\n",
    "\n",
    "import os\n",
    "os.environ['TF_CPP_MIN_LOG_LEVEL'] = '3'\n",
    "\n",
    "import tensorflow as tf\n",
    "import tensorflow_federated as tff\n",
    "\n",
    "import numpy as np"
   ]
  },
  {
   "cell_type": "markdown",
   "id": "11b57109",
   "metadata": {},
   "source": [
    "## Showcase Client Federated Data & Processing\n",
    "\n",
    "This is aimed to provide an insight for federated data and operations of federated data, i.e., data that lie in clients and processing that happens on clients (locally)."
   ]
  },
  {
   "cell_type": "markdown",
   "id": "00d4d7ab",
   "metadata": {},
   "source": [
    "Let's start with an example of TF (non-federated, just local) code that takes a dataset and does something with it, say add numbers:"
   ]
  },
  {
   "cell_type": "code",
   "execution_count": null,
   "id": "ebc46e5e",
   "metadata": {},
   "outputs": [],
   "source": [
    "@tff.tf_computation(tff.SequenceType(tf.float32))\n",
    "def process_data(ds):\n",
    "    return ds.reduce(np.float32(0), lambda x, y: x + y)"
   ]
  },
  {
   "cell_type": "markdown",
   "id": "9012fa49",
   "metadata": {},
   "source": [
    "This code takes a dataset of integer numbers at input, and returns a single integer with the sum at output.\n",
    "\n",
    "You can confirm this by lookin at the type signature, like this:"
   ]
  },
  {
   "cell_type": "code",
   "execution_count": null,
   "id": "56aba26d",
   "metadata": {},
   "outputs": [],
   "source": [
    "str(process_data.type_signature)"
   ]
  },
  {
   "cell_type": "markdown",
   "id": "1261973e",
   "metadata": {},
   "source": [
    "So, `process_data` takes a set of integers, and returns an integer."
   ]
  },
  {
   "cell_type": "markdown",
   "id": "145db97d",
   "metadata": {},
   "source": [
    "Now, using TFF's federated operators we can create a federated computation that does this **on multiple clients**, like this:"
   ]
  },
  {
   "cell_type": "code",
   "execution_count": null,
   "id": "75e91427",
   "metadata": {},
   "outputs": [],
   "source": [
    "CLIENT_DATA_TYPE = tff.type_at_clients(tff.SequenceType(tf.float32))"
   ]
  },
  {
   "cell_type": "code",
   "execution_count": null,
   "id": "d3bc3515",
   "metadata": {},
   "outputs": [],
   "source": [
    "str(CLIENT_DATA_TYPE)"
   ]
  },
  {
   "cell_type": "code",
   "execution_count": null,
   "id": "7b5610a4",
   "metadata": {},
   "outputs": [],
   "source": [
    "@tff.federated_computation(CLIENT_DATA_TYPE)\n",
    "def process_data_on_clients(federated_ds):\n",
    "    return tff.federated_map(process_data, federated_ds)"
   ]
  },
  {
   "cell_type": "markdown",
   "id": "e8f5387f",
   "metadata": {},
   "source": [
    "Let's look at the type signature of this computation"
   ]
  },
  {
   "cell_type": "code",
   "execution_count": null,
   "id": "fc4c5d85",
   "metadata": {},
   "outputs": [],
   "source": [
    "str(process_data_on_clients.type_signature)"
   ]
  },
  {
   "cell_type": "markdown",
   "id": "ecf27ca9",
   "metadata": {},
   "source": [
    "This means `process_data_on_clients` takes a federated set of integers (one set per client), and returns a federated integer (one integer with the sum on each client)."
   ]
  },
  {
   "cell_type": "markdown",
   "id": "2f23847a",
   "metadata": {},
   "source": [
    "What happens in the above is that, the TF logic in `process_data` will be **executed once on each client**. This is how the `federated_map` operator works."
   ]
  },
  {
   "cell_type": "markdown",
   "id": "c38f4001",
   "metadata": {},
   "source": [
    "Here's some TF code that creates a single dataset with integers, say you supply an integer $n$ and want to create a dataset with numbers from 1 up to n, i..e, $\\{1, 2, ..., n\\}$:"
   ]
  },
  {
   "cell_type": "code",
   "execution_count": null,
   "id": "a7d3b62d",
   "metadata": {},
   "outputs": [],
   "source": [
    "\n",
    "@tff.tf_computation(tf.float32)\n",
    "def make_data(n):\n",
    "    return tf.data.Dataset \\\n",
    "        .range(tf.cast(n, tf.int64)) \\\n",
    "        .map(lambda x: tf.cast(x + 1, tf.float32))"
   ]
  },
  {
   "cell_type": "markdown",
   "id": "b18e7442",
   "metadata": {},
   "source": [
    "This is obviously a silly example, we could do something more along the lines of what we need (e.g., read data from a file specified by a name, etc.)."
   ]
  },
  {
   "cell_type": "markdown",
   "id": "c13a05a0",
   "metadata": {},
   "source": [
    "And here's what its type signature looks like:"
   ]
  },
  {
   "cell_type": "code",
   "execution_count": null,
   "id": "dea3cfdd",
   "metadata": {},
   "outputs": [],
   "source": [
    "str(make_data.type_signature)"
   ]
  },
  {
   "cell_type": "markdown",
   "id": "8133bf92",
   "metadata": {},
   "source": [
    "We can see the similarity to `process_data`."
   ]
  },
  {
   "cell_type": "markdown",
   "id": "15413acd",
   "metadata": {},
   "source": [
    "And, just like with processing data, here's now we can make data on all clients by using the `federated_map` operator:"
   ]
  },
  {
   "cell_type": "code",
   "execution_count": null,
   "id": "4f9cf7a3",
   "metadata": {},
   "outputs": [],
   "source": [
    "@tff.federated_computation(tff.FederatedType(tf.float32, tff.CLIENTS))\n",
    "def make_data_on_clients(federated_n):\n",
    "    return tff.federated_map(make_data, federated_n)"
   ]
  },
  {
   "cell_type": "markdown",
   "id": "dfbc1c72",
   "metadata": {},
   "source": [
    "This is the type signature:"
   ]
  },
  {
   "cell_type": "code",
   "execution_count": null,
   "id": "2e9d5b63",
   "metadata": {},
   "outputs": [],
   "source": [
    "str(make_data_on_clients.type_signature)"
   ]
  },
  {
   "cell_type": "markdown",
   "id": "2d6f7c72",
   "metadata": {},
   "source": [
    "Great, so `make_data_on_clients` takes a federated integer (that tells us how many data items to produce on each client), and returns a federated dataset, just like what `process_data_on_clients` wants."
   ]
  },
  {
   "cell_type": "markdown",
   "id": "4c3420e7",
   "metadata": {},
   "source": [
    "We can check that the two work together as intended:"
   ]
  },
  {
   "cell_type": "code",
   "execution_count": null,
   "id": "91aeca16",
   "metadata": {},
   "outputs": [],
   "source": [
    "federated_n = [2., 3., 4.]\n",
    "federated_ds = make_data_on_clients(federated_n)\n",
    "result = process_data_on_clients(federated_ds)\n",
    "result"
   ]
  },
  {
   "cell_type": "markdown",
   "id": "f109f6ff",
   "metadata": {},
   "source": [
    "We got the sums 1+2, 1+2+3, and 1+2+3+4 on the 3 clients involved in this computation (note there were 3 numbers in the federated integer above, so there are 3 clients here)"
   ]
  },
  {
   "cell_type": "markdown",
   "id": "d76c4339",
   "metadata": {},
   "source": [
    "In out silly example, dataset construction logic used range, but it can be anything. For example, you could load data on each client from the same local file `my_data`, or using a custom TF op, or by whatever other means. Just like in our example, you we pass parameters to that function to give you more centralized control (similarly to whatever did above with the federated integer)."
   ]
  },
  {
   "cell_type": "markdown",
   "id": "bc938bcb",
   "metadata": {},
   "source": [
    "## Geometric Monitoring Approach"
   ]
  },
  {
   "cell_type": "markdown",
   "id": "f8bca7d3",
   "metadata": {},
   "source": [
    "For federated aggregations like tff.federated_aggregate, TFF also has a mechanism for early stopping. Specifically, when a single client contributes a value of the aggregate that makes it impossible for any other client's contribution to affect the final result, then TFF stops waiting for other clients to contribute their values, and returns the final result early. This can happen in the case where any client returns True, and exceeded becomes True."
   ]
  },
  {
   "cell_type": "code",
   "execution_count": 5,
   "id": "f29872f3",
   "metadata": {},
   "outputs": [],
   "source": [
    "\n",
    "\n",
    "CLIENT_DATA_TYPE = tff.type_at_clients(tff.SequenceType(tf.float32))\n",
    "\n",
    "\n",
    "@tf.function\n",
    "def compute_sum(ds):\n",
    "    exceeded = False\n",
    "    s = 0.\n",
    "    for i, x in enumerate(ds):\n",
    "        if i > 50000:\n",
    "            exceeded = True\n",
    "            break\n",
    "        s += x\n",
    "    return s, exceeded\n",
    "\n",
    "\n",
    "@tff.tf_computation(tff.SequenceType(tf.float32))\n",
    "def process_data(ds):\n",
    "    return compute_sum(ds)\n",
    "    #return ds.reduce(np.float32(0), lambda x, y: x + y)\n",
    "\n",
    "\n",
    "@tff.tf_computation(tf.float32)\n",
    "def make_data(n):\n",
    "    return tf.data.Dataset \\\n",
    "        .range(tf.cast(n, tf.int64)) \\\n",
    "        .map(lambda x: tf.cast(x + 1, tf.float32))\n",
    "\n",
    "\n",
    "@tff.federated_computation(tff.FederatedType(tf.float32, tff.CLIENTS))\n",
    "def make_data_on_clients(federated_n):\n",
    "    return tff.federated_map(make_data, federated_n)\n",
    "\n",
    "\n",
    "@tff.tf_computation(tf.bool, tf.bool)\n",
    "def bool_or(x,y):\n",
    "    return tf.reduce_any([x,y])\n",
    "\n",
    "\n",
    "@tff.federated_computation(CLIENT_DATA_TYPE)\n",
    "def test_round(federated_ds):\n",
    "    # Sum for each client\n",
    "    client_sums, client_conds = tff.federated_map(process_data, federated_ds)\n",
    "    \n",
    "    # Check if any client exceeded the limit\n",
    "    exceeded = tff.federated_aggregate(\n",
    "        client_conds,\n",
    "        zero=False,\n",
    "        accumulate=bool_or,\n",
    "        merge=bool_or,\n",
    "        report=tff.tf_computation(lambda b: b),\n",
    "    )\n",
    "    \n",
    "    # Compute the mean of the client sums\n",
    "    mean_sum = tff.federated_mean(client_sums)\n",
    "    \n",
    "    return mean_sum, exceeded"
   ]
  },
  {
   "cell_type": "code",
   "execution_count": null,
   "id": "9a6888c2",
   "metadata": {},
   "outputs": [],
   "source": [
    "\n",
    "federated_n = [60000., 60000., 30000.]\n",
    "federated_ds = make_data_on_clients(federated_n)"
   ]
  },
  {
   "cell_type": "code",
   "execution_count": null,
   "id": "4e82ef64",
   "metadata": {},
   "outputs": [],
   "source": [
    "\n",
    "res, exceeded = test_round(federated_ds)"
   ]
  },
  {
   "cell_type": "code",
   "execution_count": null,
   "id": "35c2a221",
   "metadata": {},
   "outputs": [],
   "source": [
    "res"
   ]
  },
  {
   "cell_type": "code",
   "execution_count": null,
   "id": "6991f21e",
   "metadata": {},
   "outputs": [],
   "source": [
    "exceeded"
   ]
  },
  {
   "cell_type": "code",
   "execution_count": null,
   "id": "cbb78489",
   "metadata": {},
   "outputs": [],
   "source": []
  },
  {
   "cell_type": "code",
   "execution_count": null,
   "id": "48f3ec89",
   "metadata": {},
   "outputs": [],
   "source": []
  },
  {
   "cell_type": "code",
   "execution_count": null,
   "id": "cb18e33e",
   "metadata": {},
   "outputs": [],
   "source": []
  },
  {
   "cell_type": "code",
   "execution_count": null,
   "id": "c0c9ffcf",
   "metadata": {},
   "outputs": [],
   "source": []
  },
  {
   "cell_type": "code",
   "execution_count": null,
   "id": "e3b8ebab",
   "metadata": {},
   "outputs": [],
   "source": []
  },
  {
   "cell_type": "code",
   "execution_count": null,
   "id": "e24bd506",
   "metadata": {},
   "outputs": [],
   "source": []
  },
  {
   "cell_type": "code",
   "execution_count": 42,
   "id": "d27a4fa5",
   "metadata": {},
   "outputs": [],
   "source": [
    "\n",
    "\n",
    "CLIENT_DATA_TYPE = tff.type_at_clients(tff.SequenceType(tf.float32))\n",
    "\n",
    "\n",
    "@tf.function\n",
    "def compute_sum(ds):\n",
    "    s = 0.\n",
    "    for x in ds:\n",
    "        s += x\n",
    "    return s\n",
    "\n",
    "\n",
    "@tff.tf_computation(tff.SequenceType(tf.float32))\n",
    "def process_data(ds):\n",
    "    return compute_sum(ds)\n",
    "    #return ds.reduce(np.float32(0), lambda x, y: x + y)\n",
    "\n",
    "\n",
    "@tff.tf_computation(tf.float32)\n",
    "def make_data(n):\n",
    "    return tf.data.Dataset \\\n",
    "        .range(tf.cast(n, tf.int64)) \\\n",
    "        .map(lambda x: tf.cast(x + 1, tf.float32))\n",
    "\n",
    "\n",
    "@tff.federated_computation(tff.FederatedType(tf.float32, tff.CLIENTS))\n",
    "def make_data_on_clients(federated_n):\n",
    "    return tff.federated_map(make_data, federated_n)\n",
    "\n",
    "\n",
    "@tff.federated_computation(CLIENT_DATA_TYPE)\n",
    "def test_round(federated_ds):\n",
    "    \n",
    "    # Sum for each client\n",
    "    client_sums = tff.federated_map(process_data, federated_ds)\n",
    "    \n",
    "    # Compute the mean of the client sums\n",
    "    mean_sum = tff.federated_mean(client_sums)\n",
    "    \n",
    "    return mean_sum"
   ]
  },
  {
   "cell_type": "code",
   "execution_count": 43,
   "id": "a1c9b291",
   "metadata": {},
   "outputs": [],
   "source": [
    "\n",
    "federated_n = [60000., 60000., 30000.]\n",
    "federated_ds = make_data_on_clients(federated_n)"
   ]
  },
  {
   "cell_type": "code",
   "execution_count": 44,
   "id": "b022c35e",
   "metadata": {},
   "outputs": [],
   "source": [
    "res = test_round(federated_ds)"
   ]
  },
  {
   "cell_type": "code",
   "execution_count": 45,
   "id": "62b2bb51",
   "metadata": {},
   "outputs": [
    {
     "data": {
      "text/plain": [
       "60743807000.0"
      ]
     },
     "execution_count": 45,
     "metadata": {},
     "output_type": "execute_result"
    }
   ],
   "source": [
    "res"
   ]
  },
  {
   "cell_type": "code",
   "execution_count": 29,
   "id": "7b2c92d8",
   "metadata": {},
   "outputs": [
    {
     "data": {
      "text/plain": [
       "1350002700.0"
      ]
     },
     "execution_count": 29,
     "metadata": {},
     "output_type": "execute_result"
    }
   ],
   "source": [
    "res"
   ]
  },
  {
   "cell_type": "code",
   "execution_count": 40,
   "id": "6edf30f9",
   "metadata": {},
   "outputs": [
    {
     "data": {
      "text/plain": [
       "60743807000.0"
      ]
     },
     "execution_count": 40,
     "metadata": {},
     "output_type": "execute_result"
    }
   ],
   "source": [
    "res"
   ]
  },
  {
   "cell_type": "code",
   "execution_count": 16,
   "id": "4a6cf15b",
   "metadata": {},
   "outputs": [
    {
     "data": {
      "text/plain": [
       "<function tensorflow_federated.python.core.impl.federated_context.intrinsics.federated_value(value, placement)>"
      ]
     },
     "execution_count": 16,
     "metadata": {},
     "output_type": "execute_result"
    }
   ],
   "source": [
    "tff.federated_value"
   ]
  },
  {
   "cell_type": "code",
   "execution_count": 46,
   "id": "e012196f",
   "metadata": {},
   "outputs": [
    {
     "ename": "ContextError",
     "evalue": "`tff.Value`s should only be used in contexts which can bind references, generally a `FederatedComputationContext`. Attempted to bind the result of wrapping a computation as a value in a context <tensorflow_federated.python.core.impl.execution_contexts.sync_execution_context.SyncExecutionContext object at 0x7fe11ce5efd0> of type <class 'tensorflow_federated.python.core.impl.execution_contexts.sync_execution_context.SyncExecutionContext'>.",
     "output_type": "error",
     "traceback": [
      "\u001b[0;31m---------------------------------------------------------------------------\u001b[0m",
      "\u001b[0;31mContextError\u001b[0m                              Traceback (most recent call last)",
      "Cell \u001b[0;32mIn[46], line 2\u001b[0m\n\u001b[1;32m      1\u001b[0m control_var_type \u001b[38;5;241m=\u001b[39m tff\u001b[38;5;241m.\u001b[39mtype_at_server(tf\u001b[38;5;241m.\u001b[39mbool)\n\u001b[0;32m----> 2\u001b[0m control_var \u001b[38;5;241m=\u001b[39m \u001b[43mtff\u001b[49m\u001b[38;5;241;43m.\u001b[39;49m\u001b[43mfederated_value\u001b[49m\u001b[43m(\u001b[49m\u001b[38;5;28;43;01mFalse\u001b[39;49;00m\u001b[43m,\u001b[49m\u001b[43m \u001b[49m\u001b[43mcontrol_var_type\u001b[49m\u001b[43m)\u001b[49m\n",
      "File \u001b[0;32m~/anaconda3/envs/tff-py39/lib/python3.9/site-packages/tensorflow_federated/python/core/impl/federated_context/intrinsics.py:463\u001b[0m, in \u001b[0;36mfederated_value\u001b[0;34m(value, placement)\u001b[0m\n\u001b[1;32m    454\u001b[0m \u001b[38;5;28;01mif\u001b[39;00m \u001b[38;5;28misinstance\u001b[39m(value, value_impl\u001b[38;5;241m.\u001b[39mValue):\n\u001b[1;32m    455\u001b[0m   warnings\u001b[38;5;241m.\u001b[39mwarn(\n\u001b[1;32m    456\u001b[0m       (\n\u001b[1;32m    457\u001b[0m           \u001b[38;5;124m'\u001b[39m\u001b[38;5;124mDeprecation warning: Using `tff.federated_value` with arguments\u001b[39m\u001b[38;5;124m'\u001b[39m\n\u001b[0;32m   (...)\u001b[0m\n\u001b[1;32m    461\u001b[0m       \u001b[38;5;167;01mDeprecationWarning\u001b[39;00m,\n\u001b[1;32m    462\u001b[0m   )\n\u001b[0;32m--> 463\u001b[0m value \u001b[38;5;241m=\u001b[39m \u001b[43mvalue_impl\u001b[49m\u001b[38;5;241;43m.\u001b[39;49m\u001b[43mto_value\u001b[49m\u001b[43m(\u001b[49m\u001b[43mvalue\u001b[49m\u001b[43m,\u001b[49m\u001b[43m \u001b[49m\u001b[38;5;28;43;01mNone\u001b[39;49;00m\u001b[43m)\u001b[49m\n\u001b[1;32m    464\u001b[0m \u001b[38;5;28;01mif\u001b[39;00m type_analysis\u001b[38;5;241m.\u001b[39mcontains(value\u001b[38;5;241m.\u001b[39mtype_signature, \u001b[38;5;28;01mlambda\u001b[39;00m t: t\u001b[38;5;241m.\u001b[39mis_federated()):\n\u001b[1;32m    465\u001b[0m   \u001b[38;5;28;01mraise\u001b[39;00m \u001b[38;5;167;01mTypeError\u001b[39;00m(\n\u001b[1;32m    466\u001b[0m       \u001b[38;5;124m'\u001b[39m\u001b[38;5;124mCannot place value \u001b[39m\u001b[38;5;132;01m{}\u001b[39;00m\u001b[38;5;124m containing federated types at \u001b[39m\u001b[38;5;124m'\u001b[39m\n\u001b[1;32m    467\u001b[0m       \u001b[38;5;124m'\u001b[39m\u001b[38;5;124manother placement; requested to be placed at \u001b[39m\u001b[38;5;132;01m{}\u001b[39;00m\u001b[38;5;124m.\u001b[39m\u001b[38;5;124m'\u001b[39m\u001b[38;5;241m.\u001b[39mformat(\n\u001b[1;32m    468\u001b[0m           value, placement\n\u001b[1;32m    469\u001b[0m       )\n\u001b[1;32m    470\u001b[0m   )\n",
      "File \u001b[0;32m~/anaconda3/envs/tff-py39/lib/python3.9/site-packages/tensorflow_federated/python/core/impl/federated_context/value_impl.py:448\u001b[0m, in \u001b[0;36mto_value\u001b[0;34m(arg, type_spec, parameter_type_hint, zip_if_needed)\u001b[0m\n\u001b[1;32m    446\u001b[0m   result \u001b[38;5;241m=\u001b[39m _dictlike_items_to_value(items, type_spec, \u001b[38;5;28mtype\u001b[39m(arg))\n\u001b[1;32m    447\u001b[0m \u001b[38;5;28;01melif\u001b[39;00m \u001b[38;5;28misinstance\u001b[39m(arg, tensorflow_utils\u001b[38;5;241m.\u001b[39mTENSOR_REPRESENTATION_TYPES):\n\u001b[0;32m--> 448\u001b[0m   result \u001b[38;5;241m=\u001b[39m \u001b[43m_wrap_constant_as_value\u001b[49m\u001b[43m(\u001b[49m\u001b[43marg\u001b[49m\u001b[43m)\u001b[49m\n\u001b[1;32m    449\u001b[0m \u001b[38;5;28;01melif\u001b[39;00m \u001b[38;5;28misinstance\u001b[39m(arg, (tf\u001b[38;5;241m.\u001b[39mTensor, tf\u001b[38;5;241m.\u001b[39mVariable)):\n\u001b[1;32m    450\u001b[0m   \u001b[38;5;28;01mraise\u001b[39;00m \u001b[38;5;167;01mTypeError\u001b[39;00m(\n\u001b[1;32m    451\u001b[0m       \u001b[38;5;124m'\u001b[39m\u001b[38;5;124mTensorFlow construct \u001b[39m\u001b[38;5;132;01m{}\u001b[39;00m\u001b[38;5;124m has been encountered in a federated \u001b[39m\u001b[38;5;124m'\u001b[39m\n\u001b[1;32m    452\u001b[0m       \u001b[38;5;124m'\u001b[39m\u001b[38;5;124mcontext. TFF does not support mixing TF and federated orchestration \u001b[39m\u001b[38;5;124m'\u001b[39m\n\u001b[1;32m    453\u001b[0m       \u001b[38;5;124m'\u001b[39m\u001b[38;5;124mcode. Please wrap any TensorFlow constructs with \u001b[39m\u001b[38;5;124m'\u001b[39m\n\u001b[1;32m    454\u001b[0m       \u001b[38;5;124m'\u001b[39m\u001b[38;5;124m`tff.tf_computation`.\u001b[39m\u001b[38;5;124m'\u001b[39m\u001b[38;5;241m.\u001b[39mformat(arg)\n\u001b[1;32m    455\u001b[0m   )\n",
      "File \u001b[0;32m~/anaconda3/envs/tff-py39/lib/python3.9/site-packages/tensorflow_federated/python/core/impl/federated_context/value_impl.py:282\u001b[0m, in \u001b[0;36m_wrap_constant_as_value\u001b[0;34m(const)\u001b[0m\n\u001b[1;32m    271\u001b[0m \u001b[38;5;124;03m\"\"\"Wraps the given Python constant as a `tff.Value`.\u001b[39;00m\n\u001b[1;32m    272\u001b[0m \n\u001b[1;32m    273\u001b[0m \u001b[38;5;124;03mArgs:\u001b[39;00m\n\u001b[0;32m   (...)\u001b[0m\n\u001b[1;32m    277\u001b[0m \u001b[38;5;124;03m  An instance of `tff.Value`.\u001b[39;00m\n\u001b[1;32m    278\u001b[0m \u001b[38;5;124;03m\"\"\"\u001b[39;00m\n\u001b[1;32m    279\u001b[0m tf_comp, _ \u001b[38;5;241m=\u001b[39m tensorflow_computation_factory\u001b[38;5;241m.\u001b[39mcreate_computation_for_py_fn(\n\u001b[1;32m    280\u001b[0m     fn\u001b[38;5;241m=\u001b[39m\u001b[38;5;28;01mlambda\u001b[39;00m: tf\u001b[38;5;241m.\u001b[39mconstant(const), parameter_type\u001b[38;5;241m=\u001b[39m\u001b[38;5;28;01mNone\u001b[39;00m\n\u001b[1;32m    281\u001b[0m )\n\u001b[0;32m--> 282\u001b[0m \u001b[38;5;28;01mreturn\u001b[39;00m \u001b[43m_wrap_computation_as_value\u001b[49m\u001b[43m(\u001b[49m\u001b[43mtf_comp\u001b[49m\u001b[43m)\u001b[49m\n",
      "File \u001b[0;32m~/anaconda3/envs/tff-py39/lib/python3.9/site-packages/tensorflow_federated/python/core/impl/federated_context/value_impl.py:264\u001b[0m, in \u001b[0;36m_wrap_computation_as_value\u001b[0;34m(proto)\u001b[0m\n\u001b[1;32m    262\u001b[0m compiled \u001b[38;5;241m=\u001b[39m building_blocks\u001b[38;5;241m.\u001b[39mCompiledComputation(proto)\n\u001b[1;32m    263\u001b[0m call \u001b[38;5;241m=\u001b[39m building_blocks\u001b[38;5;241m.\u001b[39mCall(compiled)\n\u001b[0;32m--> 264\u001b[0m ref \u001b[38;5;241m=\u001b[39m \u001b[43m_bind_computation_to_reference\u001b[49m\u001b[43m(\u001b[49m\n\u001b[1;32m    265\u001b[0m \u001b[43m    \u001b[49m\u001b[43mcall\u001b[49m\u001b[43m,\u001b[49m\u001b[43m \u001b[49m\u001b[38;5;124;43m'\u001b[39;49m\u001b[38;5;124;43mwrapping a computation as a value\u001b[39;49m\u001b[38;5;124;43m'\u001b[39;49m\n\u001b[1;32m    266\u001b[0m \u001b[43m\u001b[49m\u001b[43m)\u001b[49m\n\u001b[1;32m    267\u001b[0m \u001b[38;5;28;01mreturn\u001b[39;00m Value(ref)\n",
      "File \u001b[0;32m~/anaconda3/envs/tff-py39/lib/python3.9/site-packages/tensorflow_federated/python/core/impl/federated_context/value_impl.py:77\u001b[0m, in \u001b[0;36m_bind_computation_to_reference\u001b[0;34m(comp, op)\u001b[0m\n\u001b[1;32m     75\u001b[0m context \u001b[38;5;241m=\u001b[39m context_stack_impl\u001b[38;5;241m.\u001b[39mcontext_stack\u001b[38;5;241m.\u001b[39mcurrent\n\u001b[1;32m     76\u001b[0m \u001b[38;5;28;01mif\u001b[39;00m \u001b[38;5;129;01mnot\u001b[39;00m \u001b[38;5;28misinstance\u001b[39m(context, symbol_binding_context\u001b[38;5;241m.\u001b[39mSymbolBindingContext):\n\u001b[0;32m---> 77\u001b[0m   \u001b[38;5;28;01mraise\u001b[39;00m context_base\u001b[38;5;241m.\u001b[39mContextError(\n\u001b[1;32m     78\u001b[0m       \u001b[38;5;124m'\u001b[39m\u001b[38;5;124m`tff.Value`s should only be used in contexts which can bind \u001b[39m\u001b[38;5;124m'\u001b[39m\n\u001b[1;32m     79\u001b[0m       \u001b[38;5;124m'\u001b[39m\u001b[38;5;124mreferences, generally a `FederatedComputationContext`. Attempted \u001b[39m\u001b[38;5;124m'\u001b[39m\n\u001b[1;32m     80\u001b[0m       \u001b[38;5;124mf\u001b[39m\u001b[38;5;124m'\u001b[39m\u001b[38;5;124mto bind the result of \u001b[39m\u001b[38;5;132;01m{\u001b[39;00mop\u001b[38;5;132;01m}\u001b[39;00m\u001b[38;5;124m in a context \u001b[39m\u001b[38;5;132;01m{\u001b[39;00mcontext\u001b[38;5;132;01m}\u001b[39;00m\u001b[38;5;124m of \u001b[39m\u001b[38;5;124m'\u001b[39m\n\u001b[1;32m     81\u001b[0m       \u001b[38;5;124mf\u001b[39m\u001b[38;5;124m'\u001b[39m\u001b[38;5;124mtype \u001b[39m\u001b[38;5;132;01m{\u001b[39;00m\u001b[38;5;28mtype\u001b[39m(context)\u001b[38;5;132;01m}\u001b[39;00m\u001b[38;5;124m.\u001b[39m\u001b[38;5;124m'\u001b[39m\n\u001b[1;32m     82\u001b[0m   )\n\u001b[1;32m     83\u001b[0m \u001b[38;5;28;01mreturn\u001b[39;00m context\u001b[38;5;241m.\u001b[39mbind_computation_to_reference(comp)\n",
      "\u001b[0;31mContextError\u001b[0m: `tff.Value`s should only be used in contexts which can bind references, generally a `FederatedComputationContext`. Attempted to bind the result of wrapping a computation as a value in a context <tensorflow_federated.python.core.impl.execution_contexts.sync_execution_context.SyncExecutionContext object at 0x7fe11ce5efd0> of type <class 'tensorflow_federated.python.core.impl.execution_contexts.sync_execution_context.SyncExecutionContext'>."
     ]
    }
   ],
   "source": [
    "control_var_type = tff.type_at_server(tf.bool)\n",
    "control_var = tff.federated_value(False, control_var_type)"
   ]
  },
  {
   "cell_type": "code",
   "execution_count": null,
   "id": "983d0302",
   "metadata": {},
   "outputs": [],
   "source": []
  },
  {
   "cell_type": "code",
   "execution_count": null,
   "id": "0417d032",
   "metadata": {},
   "outputs": [],
   "source": []
  },
  {
   "cell_type": "code",
   "execution_count": null,
   "id": "a9c457b4",
   "metadata": {},
   "outputs": [],
   "source": []
  },
  {
   "cell_type": "code",
   "execution_count": null,
   "id": "bffbfe6f",
   "metadata": {},
   "outputs": [],
   "source": []
  },
  {
   "cell_type": "code",
   "execution_count": null,
   "id": "88d4d9d9",
   "metadata": {},
   "outputs": [],
   "source": []
  },
  {
   "cell_type": "markdown",
   "id": "3e870d71",
   "metadata": {},
   "source": [
    "SAD https://stackoverflow.com/questions/66265109/federated-learning-in-tensorflow-federated-is-there-any-way-to-apply-early-stop"
   ]
  },
  {
   "cell_type": "code",
   "execution_count": null,
   "id": "0638ec58",
   "metadata": {},
   "outputs": [],
   "source": []
  }
 ],
 "metadata": {
  "kernelspec": {
   "display_name": "Python [conda env:tff-py39] *",
   "language": "python",
   "name": "conda-env-tff-py39-py"
  },
  "language_info": {
   "codemirror_mode": {
    "name": "ipython",
    "version": 3
   },
   "file_extension": ".py",
   "mimetype": "text/x-python",
   "name": "python",
   "nbconvert_exporter": "python",
   "pygments_lexer": "ipython3",
   "version": "3.9.16"
  }
 },
 "nbformat": 4,
 "nbformat_minor": 5
}
