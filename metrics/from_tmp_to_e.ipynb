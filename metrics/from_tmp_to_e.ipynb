{
 "cells": [
  {
   "cell_type": "code",
   "execution_count": 1,
   "id": "6e483a7a-f5f7-4a78-8942-bd361d31e83f",
   "metadata": {
    "tags": []
   },
   "outputs": [],
   "source": [
    "import glob\n",
    "import pandas as pd"
   ]
  },
  {
   "cell_type": "code",
   "execution_count": 2,
   "id": "7014ddd5-88d1-49cd-8821-95973e4095b7",
   "metadata": {
    "tags": []
   },
   "outputs": [],
   "source": [
    "csv_files = glob.glob('tmp/epoch_metrics/*.csv')"
   ]
  },
  {
   "cell_type": "code",
   "execution_count": 8,
   "id": "c3fbcc0a-b4bf-4591-94ca-740391e1113a",
   "metadata": {
    "tags": []
   },
   "outputs": [],
   "source": [
    "for f in csv_files:\n",
    "    df = pd.read_csv(f)\n",
    "    id_name = f.split('/')[-1].split('.')[0]\n",
    "    df.to_parquet(f'epoch_metrics/{id_name}.parquet')"
   ]
  }
 ],
 "metadata": {
  "kernelspec": {
   "display_name": "Python [conda env:data-analysis]",
   "language": "python",
   "name": "conda-env-data-analysis-py"
  },
  "language_info": {
   "codemirror_mode": {
    "name": "ipython",
    "version": 3
   },
   "file_extension": ".py",
   "mimetype": "text/x-python",
   "name": "python",
   "nbconvert_exporter": "python",
   "pygments_lexer": "ipython3",
   "version": "3.11.4"
  }
 },
 "nbformat": 4,
 "nbformat_minor": 5
}
