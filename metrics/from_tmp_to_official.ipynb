{
 "cells": [
  {
   "cell_type": "code",
   "execution_count": 47,
   "id": "199b1d2e-e4a9-4e83-aa7b-108462c8b98b",
   "metadata": {
    "tags": []
   },
   "outputs": [],
   "source": [
    "import pandas as pd\n",
    "import numpy as np\n",
    "import glob"
   ]
  },
  {
   "cell_type": "code",
   "execution_count": 48,
   "id": "73c30527-1a2a-419c-ab4c-d5ba69f93822",
   "metadata": {
    "tags": []
   },
   "outputs": [],
   "source": [
    "csv_files = glob.glob('tmp/epoch_metrics/*.csv')"
   ]
  },
  {
   "cell_type": "code",
   "execution_count": 49,
   "id": "b34b8c6a-92ae-4c5c-9dfe-1d1fc216505e",
   "metadata": {
    "tags": []
   },
   "outputs": [],
   "source": [
    "for csv in csv_files:\n",
    "    df = pd.read_csv(csv)\n",
    "\n",
    "    df['bias'] = np.nan\n",
    "    df['sketch_width'] = df['sketch_width'].replace(-1, np.nan)\n",
    "    df['sketch_depth'] = df['sketch_depth'].replace(-1, np.nan)\n",
    "    \n",
    "    fn = csv.split('/')[-1].split('.')[0]\n",
    "\n",
    "    df.to_parquet(f'epoch_metrics/{fn}.parquet')"
   ]
  },
  {
   "cell_type": "code",
   "execution_count": 53,
   "id": "0c13f23d-ce36-4a16-98f9-09d3ac25c12d",
   "metadata": {},
   "outputs": [],
   "source": [
    "parquet_files = glob.glob('tmp/epoch_metrics/*.parquet')"
   ]
  },
  {
   "cell_type": "code",
   "execution_count": 54,
   "id": "1a49df1b-3884-49ae-b5ae-95c8cbec9255",
   "metadata": {},
   "outputs": [],
   "source": [
    "for parquet in parquet_files:\n",
    "    df = pd.read_parquet(parquet)\n",
    "\n",
    "    df['bias'] = np.nan\n",
    "    df['sketch_width'] = df['sketch_width'].replace(-1, np.nan)\n",
    "    df['sketch_depth'] = df['sketch_depth'].replace(-1, np.nan)\n",
    "    \n",
    "    fn = parquet.split('/')[-1].split('.')[0]\n",
    "\n",
    "    df.to_parquet(f'epoch_metrics/{fn}.parquet')"
   ]
  },
  {
   "cell_type": "code",
   "execution_count": null,
   "id": "dc3a0f19-dc08-4053-9e23-0917480804b5",
   "metadata": {},
   "outputs": [],
   "source": []
  }
 ],
 "metadata": {
  "kernelspec": {
   "display_name": "Python [conda env:data-analysis]",
   "language": "python",
   "name": "conda-env-data-analysis-py"
  },
  "language_info": {
   "codemirror_mode": {
    "name": "ipython",
    "version": 3
   },
   "file_extension": ".py",
   "mimetype": "text/x-python",
   "name": "python",
   "nbconvert_exporter": "python",
   "pygments_lexer": "ipython3",
   "version": "3.11.4"
  }
 },
 "nbformat": 4,
 "nbformat_minor": 5
}
