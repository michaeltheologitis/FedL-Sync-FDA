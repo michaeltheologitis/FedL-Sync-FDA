{
 "cells": [
  {
   "cell_type": "code",
   "execution_count": 1,
   "id": "16945920",
   "metadata": {},
   "outputs": [],
   "source": [
    "\n",
    "import nest_asyncio\n",
    "nest_asyncio.apply()\n",
    "\n",
    "import os\n",
    "os.environ['TF_CPP_MIN_LOG_LEVEL'] = '3'\n",
    "\n",
    "import tensorflow as tf\n",
    "import tensorflow_federated as tff\n"
   ]
  },
  {
   "cell_type": "code",
   "execution_count": 2,
   "id": "b5666e2a",
   "metadata": {},
   "outputs": [
    {
     "data": {
      "text/plain": [
       "'0.50.0'"
      ]
     },
     "execution_count": 2,
     "metadata": {},
     "output_type": "execute_result"
    }
   ],
   "source": [
    "tff.__version__"
   ]
  },
  {
   "cell_type": "markdown",
   "id": "70db373c",
   "metadata": {},
   "source": [
    "## Create Binary Classification data with sklearn"
   ]
  },
  {
   "cell_type": "code",
   "execution_count": 3,
   "id": "8936c1a1",
   "metadata": {},
   "outputs": [],
   "source": [
    "\n",
    "from sklearn.datasets import make_classification\n",
    "from sklearn.model_selection import train_test_split\n",
    "\n",
    "\n",
    "n = 100_000\n",
    "d = 100\n",
    "\n",
    "\n",
    "noise_factor = 0.01 # % of the labels are randomly flipped, DEFAULT=0.01\n",
    "test_size = 0.1 # % of n\n",
    "# The factor multiplying the hypercube size. Larger values spread out the \n",
    "# clusters/classes and make the classification task easier. DEFAULT=1\n",
    "class_sep = -1\n",
    "seed = 7\n",
    "\n",
    "# Create (noisy) testing data for binary classification.\n",
    "X, y = make_classification(\n",
    "    n_samples=n, \n",
    "    n_features=d,\n",
    "    n_informative=d,\n",
    "    n_redundant=0, \n",
    "    n_classes=2,\n",
    "    class_sep=class_sep,\n",
    "    flip_y=noise_factor,\n",
    "    random_state=seed\n",
    ")\n",
    "\n",
    "# We will work with label values -1, +1 and not 0, +1 (convert)\n",
    "y[y == 0] = -1\n",
    "\n",
    "# Split the data into training and testing sets\n",
    "X_train, X_test, y_train, y_test = train_test_split(X, y, test_size=test_size, random_state=seed)\n"
   ]
  },
  {
   "cell_type": "code",
   "execution_count": 4,
   "id": "c5cf2729",
   "metadata": {},
   "outputs": [
    {
     "data": {
      "text/plain": [
       "0.7655"
      ]
     },
     "execution_count": 4,
     "metadata": {},
     "output_type": "execute_result"
    }
   ],
   "source": [
    "from sklearn.linear_model import PassiveAggressiveClassifier\n",
    "from sklearn.metrics import accuracy_score\n",
    "\n",
    "# PA-I regressor from sklearn\n",
    "pa1 = PassiveAggressiveClassifier(C=0.01, loss=\"hinge\", n_jobs=-1)\n",
    "pa1.fit(X_train, y_train)\n",
    "\n",
    "accuracy_score(y_test, pa1.predict(X_test))"
   ]
  },
  {
   "cell_type": "markdown",
   "id": "b180164a",
   "metadata": {},
   "source": [
    "## Convert to Tensors"
   ]
  },
  {
   "cell_type": "code",
   "execution_count": 5,
   "id": "29d1b71e",
   "metadata": {},
   "outputs": [],
   "source": [
    "\n",
    "# Convert the data to TensorFlow tensors\n",
    "X_train_tensor = tf.constant(X_train, dtype=tf.float32)\n",
    "y_train_tensor = tf.constant(y_train, dtype=tf.float32)\n",
    "X_test_tensor = tf.constant(X_test, dtype=tf.float32)\n",
    "y_test_tensor = tf.constant(y_test, dtype=tf.float32)"
   ]
  },
  {
   "cell_type": "markdown",
   "id": "ffc001d5",
   "metadata": {},
   "source": [
    "## Prepare data for Tensorflow Federated"
   ]
  },
  {
   "cell_type": "markdown",
   "id": "e2921d7d",
   "metadata": {},
   "source": [
    "We have the training and testing Tensors holding our data. TFF expects for each client an `OrderedDict` containing `y` and `x` data. Hence, we preprocess our Tensors to follow this convention."
   ]
  },
  {
   "cell_type": "code",
   "execution_count": 6,
   "id": "53e2091a",
   "metadata": {},
   "outputs": [],
   "source": [
    "\n",
    "NUM_CLIENTS = 20\n",
    "\n",
    "# https://www.tensorflow.org/api_docs/python/tf/data/Dataset#batch\n",
    "BATCH_SIZE = 32\n",
    "SHUFFLE_BUFFER = int(n / NUM_CLIENTS)\n",
    "BATCHES_PER_STEP = 1 # Batches per Step, i.e, How many batches until we check RTC"
   ]
  },
  {
   "cell_type": "code",
   "execution_count": 7,
   "id": "bb39a4bb",
   "metadata": {},
   "outputs": [
    {
     "name": "stdout",
     "output_type": "stream",
     "text": [
      "Total number of batches per client: 156\n"
     ]
    }
   ],
   "source": [
    "print(f\"Total number of batches per client: {int(n / (NUM_CLIENTS*BATCH_SIZE))}\")"
   ]
  },
  {
   "cell_type": "code",
   "execution_count": 8,
   "id": "6b5c09a6",
   "metadata": {},
   "outputs": [],
   "source": [
    "import collections\n",
    "\n",
    "# Create a dictionary with the slices for each client\n",
    "client_slices_train = {}\n",
    "slices_test = {}\n",
    "\n",
    "n_test = int(n - n*test_size)\n",
    "\n",
    "for i in range(NUM_CLIENTS):\n",
    "    # Compute the indices for this client's slice\n",
    "    start_idx = int(i * n_test / NUM_CLIENTS)\n",
    "    end_idx = int((i + 1) * n_test / NUM_CLIENTS)\n",
    "\n",
    "    # Get the slice for this client\n",
    "    X_client_train = X_train_tensor[start_idx:end_idx]\n",
    "    y_client_train = y_train_tensor[start_idx:end_idx]\n",
    "    \n",
    "    client_data_train = collections.OrderedDict([('y', y_client_train), ('x', X_client_train)])\n",
    "    \n",
    "    # Combine the slices into a single dataset\n",
    "    client_slices_train[f'client_{i}'] = client_data_train\n",
    "\n",
    "slices_test = collections.OrderedDict([('y', y_test_tensor), ('x', X_test_tensor)])"
   ]
  },
  {
   "cell_type": "markdown",
   "id": "1c178a1f",
   "metadata": {},
   "source": [
    "For a sanity check let's see inside `client_slices_train` for the first x,y tuple of the 'first' client"
   ]
  },
  {
   "cell_type": "code",
   "execution_count": 9,
   "id": "6f169ee3",
   "metadata": {},
   "outputs": [
    {
     "data": {
      "text/plain": [
       "<tf.Tensor: shape=(100,), dtype=float32, numpy=\n",
       "array([ -0.43840492,  -8.602735  ,  -2.5706942 ,  -4.9137297 ,\n",
       "        -6.5534873 ,  -1.493107  ,   1.5496199 ,  -3.7241213 ,\n",
       "        -1.3533349 ,   6.419472  ,   9.5305    ,  -4.3068776 ,\n",
       "         1.8209226 ,   3.843456  ,  -6.099927  ,  -2.0994277 ,\n",
       "         5.0526834 ,   5.215126  ,   0.31975892,  -3.7441716 ,\n",
       "         6.497558  ,   1.8366643 ,  -2.1913083 ,   9.370149  ,\n",
       "        -3.4765773 ,  -1.4791905 ,  -6.209484  ,  -9.619827  ,\n",
       "        12.635862  ,   2.6724894 ,   7.8316813 ,  -4.6290493 ,\n",
       "         2.1394951 ,   4.2733474 ,   2.9170232 ,   2.5974233 ,\n",
       "        -0.99408895,   3.4114075 ,   2.2466993 ,   4.0714283 ,\n",
       "        -3.4346006 , -10.980129  ,   9.790514  ,   4.8795867 ,\n",
       "        -5.8626986 ,   6.1965513 ,   3.0575798 ,   9.065236  ,\n",
       "         1.9486036 ,  -9.105302  ,  -0.06869748,  -1.3184999 ,\n",
       "         4.211022  ,  -3.5095856 ,  -1.2642521 ,  -7.6088433 ,\n",
       "         4.582711  , -11.008443  ,   0.5270276 ,   3.9419043 ,\n",
       "        -5.483259  ,   4.303941  ,  -3.7320702 ,  -7.459744  ,\n",
       "         0.9873421 ,  -3.0163593 ,   1.2761813 ,   5.7072163 ,\n",
       "        -0.60984117,  -2.8034127 ,   1.0121217 ,   7.0424304 ,\n",
       "        -4.4048014 ,   5.43      ,  -4.0908318 ,  -5.516724  ,\n",
       "         5.168792  ,  -7.5033817 ,  -1.7357826 ,  -0.3198306 ,\n",
       "         0.25918704,   1.296209  ,  -5.3040895 ,   2.4852474 ,\n",
       "        -0.88268167,  -3.717105  ,  -4.6772604 ,  -1.0271661 ,\n",
       "         0.9102276 , -12.090892  ,   5.4819736 ,  -6.496595  ,\n",
       "         3.3641524 ,  -1.2723552 ,   2.9576976 ,   7.7134476 ,\n",
       "        -8.583975  ,   7.0026207 ,   1.1277165 ,  -9.168984  ],\n",
       "      dtype=float32)>"
      ]
     },
     "execution_count": 9,
     "metadata": {},
     "output_type": "execute_result"
    }
   ],
   "source": [
    "client_slices_train['client_0']['x'][0]"
   ]
  },
  {
   "cell_type": "code",
   "execution_count": 10,
   "id": "49e19090",
   "metadata": {},
   "outputs": [
    {
     "data": {
      "text/plain": [
       "<tf.Tensor: shape=(), dtype=float32, numpy=1.0>"
      ]
     },
     "execution_count": 10,
     "metadata": {},
     "output_type": "execute_result"
    }
   ],
   "source": [
    "client_slices_train['client_0']['y'][0]"
   ]
  },
  {
   "cell_type": "markdown",
   "id": "2192acbc",
   "metadata": {},
   "source": [
    "Now, a client with `client_id` has it's single Tensor holding instances in`client_slices_train[client_id]['x']` and labels in `client_slices_train[client_id]['y']`. Let's take a step back from TFF. Having this data scheme, we can create a client's Tensorflow dataset using `from_tensor_slices` function passing the client's id as follows"
   ]
  },
  {
   "cell_type": "code",
   "execution_count": 11,
   "id": "8c683cc5",
   "metadata": {},
   "outputs": [],
   "source": [
    "# https://www.tensorflow.org/api_docs/python/tf/data/Dataset#batch\n",
    "\n",
    "def create_tf_dataset_for_client(client_id):\n",
    "    return tf.data.Dataset.from_tensor_slices(client_slices_train[client_id]) \\\n",
    "        .shuffle(SHUFFLE_BUFFER).batch(BATCH_SIZE).prefetch(tf.data.AUTOTUNE) \\\n",
    "        .take(BATCHES_PER_STEP)\n",
    "\n",
    "def create_tf_dataset_for_test():\n",
    "    return tf.data.Dataset.from_tensor_slices(slices_test).batch(BATCH_SIZE)"
   ]
  },
  {
   "cell_type": "markdown",
   "id": "ef737537",
   "metadata": {},
   "source": [
    "For TFF we need to construct Federated data for clients, i.e., `tff.simulation.datasets.ClientData`. We can use the `from_clients_and_tf_fn` function that takes as argument the `client_ids` : a list of strings corresponding to client ids, and a `serializable_dataset_fn` : a function that takes a `client_id` from the above list, and returns a `tf.data.Dataset`. It's obvious how we proceed with the code (using the above function)"
   ]
  },
  {
   "cell_type": "code",
   "execution_count": 12,
   "id": "86b6c7d5",
   "metadata": {},
   "outputs": [],
   "source": [
    "\n",
    "preprocessed_train_federated_dataset = tff.simulation.datasets.ClientData.from_clients_and_tf_fn(\n",
    "    client_ids=list(client_slices_train.keys()),\n",
    "    serializable_dataset_fn=lambda client_id: create_tf_dataset_for_client(client_id)\n",
    ")"
   ]
  },
  {
   "cell_type": "code",
   "execution_count": 13,
   "id": "1acb22b8",
   "metadata": {},
   "outputs": [
    {
     "data": {
      "text/plain": [
       "['client_0',\n",
       " 'client_1',\n",
       " 'client_2',\n",
       " 'client_3',\n",
       " 'client_4',\n",
       " 'client_5',\n",
       " 'client_6',\n",
       " 'client_7',\n",
       " 'client_8',\n",
       " 'client_9',\n",
       " 'client_10',\n",
       " 'client_11',\n",
       " 'client_12',\n",
       " 'client_13',\n",
       " 'client_14',\n",
       " 'client_15',\n",
       " 'client_16',\n",
       " 'client_17',\n",
       " 'client_18',\n",
       " 'client_19']"
      ]
     },
     "execution_count": 13,
     "metadata": {},
     "output_type": "execute_result"
    }
   ],
   "source": [
    "preprocessed_train_federated_dataset.client_ids"
   ]
  },
  {
   "cell_type": "markdown",
   "id": "ac1a74b7",
   "metadata": {},
   "source": [
    "**Note**: Cross-device federated learning does not use client IDs or perform any tracking of clients. However in simulation experiments using centralized test data the experimenter may select specific clients to be processed per round. The concept of a client ID is only available at the preprocessing stage when preparing input data for the simulation and is not part of the TensorFlow Federated core APIs."
   ]
  },
  {
   "cell_type": "markdown",
   "id": "0bde8820",
   "metadata": {},
   "source": [
    "Now, `preprocessed_train_federated_dataset` holds logic on how each client constructs its dataset. Note that so `client_slices_train` has already been materialized and lies in this context's memory.\n",
    "\n",
    "One way (the simplest) to feed federated data to TFF in a simulation is simply as a Python list, with each element of the list holds the data of an individual client, whether as a list or preferably as a `tf.data.Dataset`. Since we already created an interface that provides the latter we will use it. Here is a helper function that will construct a list of datasets from the set of users."
   ]
  },
  {
   "cell_type": "code",
   "execution_count": 14,
   "id": "0c68b681",
   "metadata": {},
   "outputs": [],
   "source": [
    "\n",
    "def create_federated_data():    \n",
    "    return [\n",
    "        preprocessed_train_federated_dataset.create_tf_dataset_for_client(client)\n",
    "        for client in preprocessed_train_federated_dataset.client_ids\n",
    "    ]"
   ]
  },
  {
   "cell_type": "markdown",
   "id": "7e1f39ef",
   "metadata": {},
   "source": [
    "**Important Note**: Firstly, we used `sklearn` to create the binary classification data eagerly, i.e., we were forced to materialize it into memory. In simulation, in general it is more sound to push preprocessing logic into each client, i.e., each client constructs its own dataset (from the same underlying distribution) or reads from a file or something else and he, himself processes the data as needed. This is the best approach and uses the TFF distributed engine the best way. But in our case this was illogical to happen since we are forced to construct the dataset in memory anyway. For example, we could have stored each client's data inside some serialized file (`client_0.tfrecord` for the first client and so on) and push logic where each clients diserializes and processes its own data but this would be silly and slower when testing. For a small example that showcases this scenario see *TFF - Introduction - Federated Core API - Part 3(examples).ipynb*."
   ]
  },
  {
   "cell_type": "markdown",
   "id": "ed2b3cc5",
   "metadata": {},
   "source": [
    "## TFF Types"
   ]
  },
  {
   "cell_type": "markdown",
   "id": "114f51dd",
   "metadata": {},
   "source": [
    "Let's start with a simple float32 type."
   ]
  },
  {
   "cell_type": "code",
   "execution_count": 15,
   "id": "3016a9ed",
   "metadata": {},
   "outputs": [],
   "source": [
    "FLOAT32_TYPE = tff.TensorType(dtype=tf.float32, shape=())"
   ]
  },
  {
   "cell_type": "code",
   "execution_count": 16,
   "id": "86f60f0f",
   "metadata": {},
   "outputs": [
    {
     "data": {
      "text/plain": [
       "'float32'"
      ]
     },
     "execution_count": 16,
     "metadata": {},
     "output_type": "execute_result"
    }
   ],
   "source": [
    "str(FLOAT32_TYPE)"
   ]
  },
  {
   "cell_type": "code",
   "execution_count": 17,
   "id": "090749e7",
   "metadata": {},
   "outputs": [],
   "source": [
    "CLIENT_FLOAT32 = tff.FederatedType(FLOAT32_TYPE, tff.CLIENTS)"
   ]
  },
  {
   "cell_type": "code",
   "execution_count": 18,
   "id": "72cbef65",
   "metadata": {},
   "outputs": [
    {
     "data": {
      "text/plain": [
       "'{float32}@CLIENTS'"
      ]
     },
     "execution_count": 18,
     "metadata": {},
     "output_type": "execute_result"
    }
   ],
   "source": [
    "str(CLIENT_FLOAT32)"
   ]
  },
  {
   "cell_type": "code",
   "execution_count": 19,
   "id": "90dd4444",
   "metadata": {},
   "outputs": [],
   "source": [
    "INT32_TYPE = tff.TensorType(dtype=tf.int32, shape=())"
   ]
  },
  {
   "cell_type": "code",
   "execution_count": 20,
   "id": "fee02562",
   "metadata": {},
   "outputs": [
    {
     "data": {
      "text/plain": [
       "'int32'"
      ]
     },
     "execution_count": 20,
     "metadata": {},
     "output_type": "execute_result"
    }
   ],
   "source": [
    "str(INT32_TYPE)"
   ]
  },
  {
   "cell_type": "markdown",
   "id": "f055a65d",
   "metadata": {},
   "source": [
    "Create a TFF type representing a float32 tensor of shape (1,)"
   ]
  },
  {
   "cell_type": "code",
   "execution_count": 21,
   "id": "fb4dc506",
   "metadata": {},
   "outputs": [],
   "source": [
    "FLOAT32_1_TYPE = tff.TensorType(dtype=tf.float32, shape=(1,))"
   ]
  },
  {
   "cell_type": "code",
   "execution_count": 22,
   "id": "99fddc24",
   "metadata": {},
   "outputs": [
    {
     "data": {
      "text/plain": [
       "'float32[1]'"
      ]
     },
     "execution_count": 22,
     "metadata": {},
     "output_type": "execute_result"
    }
   ],
   "source": [
    "str(FLOAT32_1_TYPE)"
   ]
  },
  {
   "cell_type": "code",
   "execution_count": 23,
   "id": "f2e8da62",
   "metadata": {},
   "outputs": [],
   "source": [
    "CLIENT_FLOAT32_1_TYPE = tff.type_at_clients(FLOAT32_1_TYPE)"
   ]
  },
  {
   "cell_type": "code",
   "execution_count": 24,
   "id": "34df2c51",
   "metadata": {},
   "outputs": [
    {
     "data": {
      "text/plain": [
       "'{float32[1]}@CLIENTS'"
      ]
     },
     "execution_count": 24,
     "metadata": {},
     "output_type": "execute_result"
    }
   ],
   "source": [
    "str(CLIENT_FLOAT32_1_TYPE)"
   ]
  },
  {
   "cell_type": "markdown",
   "id": "387f7d8f",
   "metadata": {},
   "source": [
    "1-dimensional tensor (vector) of length 1 with elements of type float32"
   ]
  },
  {
   "cell_type": "code",
   "execution_count": 25,
   "id": "1b813ede",
   "metadata": {},
   "outputs": [],
   "source": [
    "STATE_TYPE = tff.TensorType(dtype=tf.float32, shape=(2,1))"
   ]
  },
  {
   "cell_type": "code",
   "execution_count": 26,
   "id": "b30986e2",
   "metadata": {},
   "outputs": [
    {
     "data": {
      "text/plain": [
       "'float32[2,1]'"
      ]
     },
     "execution_count": 26,
     "metadata": {},
     "output_type": "execute_result"
    }
   ],
   "source": [
    "str(STATE_TYPE)"
   ]
  },
  {
   "cell_type": "markdown",
   "id": "d3fdf9a8",
   "metadata": {},
   "source": [
    "The local client state $ S_i(t) $ as defined in the unpublished paper for Linear FDA (read theoretical analysis bellow)."
   ]
  },
  {
   "cell_type": "code",
   "execution_count": 27,
   "id": "168f7ec6",
   "metadata": {},
   "outputs": [],
   "source": [
    "CLIENT_STATE = tff.FederatedType(STATE_TYPE, tff.CLIENTS)"
   ]
  },
  {
   "cell_type": "code",
   "execution_count": 28,
   "id": "1e006455",
   "metadata": {},
   "outputs": [
    {
     "data": {
      "text/plain": [
       "'{float32[2,1]}@CLIENTS'"
      ]
     },
     "execution_count": 28,
     "metadata": {},
     "output_type": "execute_result"
    }
   ],
   "source": [
    "str(CLIENT_STATE)"
   ]
  },
  {
   "cell_type": "markdown",
   "id": "f1d3c683",
   "metadata": {},
   "source": [
    "First, let's define the type of input as a TFF named tuple. Since the size of data batches may vary, we set the batch dimension to None to indicate that the size of this dimension is unknown."
   ]
  },
  {
   "cell_type": "code",
   "execution_count": 29,
   "id": "47b88ed7",
   "metadata": {},
   "outputs": [],
   "source": [
    "\n",
    "BATCH_SPEC = collections.OrderedDict(\n",
    "    y=tf.TensorSpec(shape=[None], dtype=tf.float32),\n",
    "    x=tf.TensorSpec(shape=[None, d], dtype=tf.float32)\n",
    ")\n",
    "BATCH_TYPE = tff.to_type(BATCH_SPEC)"
   ]
  },
  {
   "cell_type": "code",
   "execution_count": 30,
   "id": "5d69a37d",
   "metadata": {},
   "outputs": [
    {
     "data": {
      "text/plain": [
       "'<y=float32[?],x=float32[?,100]>'"
      ]
     },
     "execution_count": 30,
     "metadata": {},
     "output_type": "execute_result"
    }
   ],
   "source": [
    "str(BATCH_TYPE)"
   ]
  },
  {
   "cell_type": "markdown",
   "id": "8a844eba",
   "metadata": {},
   "source": [
    "Every client holds a sequence of batches so the we define the client data type as follows"
   ]
  },
  {
   "cell_type": "code",
   "execution_count": 31,
   "id": "3bd7c409",
   "metadata": {},
   "outputs": [],
   "source": [
    "\n",
    "LOCAL_DATA_TYPE = tff.SequenceType(BATCH_TYPE)"
   ]
  },
  {
   "cell_type": "code",
   "execution_count": 32,
   "id": "1f9890c9",
   "metadata": {},
   "outputs": [
    {
     "data": {
      "text/plain": [
       "'<y=float32[?],x=float32[?,100]>*'"
      ]
     },
     "execution_count": 32,
     "metadata": {},
     "output_type": "execute_result"
    }
   ],
   "source": [
    "str(LOCAL_DATA_TYPE)"
   ]
  },
  {
   "cell_type": "markdown",
   "id": "58dedbfb",
   "metadata": {},
   "source": [
    "Let's now define the TFF type of the model which is simply a `tf.Variable` with shape (d, 1)"
   ]
  },
  {
   "cell_type": "code",
   "execution_count": 33,
   "id": "1625384b",
   "metadata": {},
   "outputs": [],
   "source": [
    "\n",
    "MODEL_TYPE = tff.TensorType(dtype=tf.float32, shape=(d, 1))"
   ]
  },
  {
   "cell_type": "code",
   "execution_count": 34,
   "id": "4db97c66",
   "metadata": {},
   "outputs": [
    {
     "data": {
      "text/plain": [
       "'float32[100,1]'"
      ]
     },
     "execution_count": 34,
     "metadata": {},
     "output_type": "execute_result"
    }
   ],
   "source": [
    "str(MODEL_TYPE)"
   ]
  },
  {
   "cell_type": "markdown",
   "id": "52bbc608",
   "metadata": {},
   "source": [
    "Since the server holds the 'global' model we need to create the Federated Type, defined as the tuple of a member: An instance of `tff.Type`, and a placement: The specification of placement of the member comonents (where this type is hosted at, for example, at `tff.SERVER` or `tff.CLIENTS`)."
   ]
  },
  {
   "cell_type": "code",
   "execution_count": 35,
   "id": "93453747",
   "metadata": {},
   "outputs": [],
   "source": [
    "\n",
    "SERVER_MODEL_TYPE = tff.type_at_server(MODEL_TYPE)"
   ]
  },
  {
   "cell_type": "code",
   "execution_count": 36,
   "id": "424c7703",
   "metadata": {},
   "outputs": [
    {
     "data": {
      "text/plain": [
       "'float32[100,1]@SERVER'"
      ]
     },
     "execution_count": 36,
     "metadata": {},
     "output_type": "execute_result"
    }
   ],
   "source": [
    "str(SERVER_MODEL_TYPE)"
   ]
  },
  {
   "cell_type": "markdown",
   "id": "52dd0413",
   "metadata": {},
   "source": [
    "Following, the same logic, we create the Federated Type of each client's data."
   ]
  },
  {
   "cell_type": "code",
   "execution_count": 37,
   "id": "d5a56be9",
   "metadata": {},
   "outputs": [],
   "source": [
    "\n",
    "CLIENT_DATA_TYPE = tff.type_at_clients(LOCAL_DATA_TYPE)"
   ]
  },
  {
   "cell_type": "code",
   "execution_count": 38,
   "id": "7cc37383",
   "metadata": {},
   "outputs": [
    {
     "data": {
      "text/plain": [
       "'{<y=float32[?],x=float32[?,100]>*}@CLIENTS'"
      ]
     },
     "execution_count": 38,
     "metadata": {},
     "output_type": "execute_result"
    }
   ],
   "source": [
    "str(CLIENT_DATA_TYPE)"
   ]
  },
  {
   "cell_type": "markdown",
   "id": "76fe9341",
   "metadata": {},
   "source": [
    "We will also need to define the client models at the CLIENTS (for FDA later, to be cont...)"
   ]
  },
  {
   "cell_type": "code",
   "execution_count": 39,
   "id": "9dd51ead",
   "metadata": {},
   "outputs": [],
   "source": [
    "CLIENT_MODEL_TYPE = tff.type_at_clients(MODEL_TYPE)"
   ]
  },
  {
   "cell_type": "code",
   "execution_count": 40,
   "id": "47df0ac5",
   "metadata": {},
   "outputs": [
    {
     "data": {
      "text/plain": [
       "'{float32[100,1]}@CLIENTS'"
      ]
     },
     "execution_count": 40,
     "metadata": {},
     "output_type": "execute_result"
    }
   ],
   "source": [
    "str(CLIENT_MODEL_TYPE)"
   ]
  },
  {
   "cell_type": "markdown",
   "id": "0af966b0",
   "metadata": {},
   "source": [
    "## Accuracy Testing"
   ]
  },
  {
   "cell_type": "code",
   "execution_count": 41,
   "id": "2427e37e",
   "metadata": {},
   "outputs": [],
   "source": [
    "\n",
    "@tf.function\n",
    "def accuracy(model, dataset):\n",
    "    \n",
    "    @tf.function\n",
    "    def _batch_accuracy(model, batch):\n",
    "        x_batch, y_batch = batch['x'], tf.expand_dims(batch['y'], axis=1)\n",
    "\n",
    "        # dot(w, x) for the batch (each instance of x in x_batch) with with shape=(batchsize, 1)\n",
    "        weights_dot_x_batch = tf.matmul(x_batch, model)\n",
    "\n",
    "        # Prediction batch with shape=(batchsize, 1)\n",
    "        y_pred_batch = tf.sign(weights_dot_x_batch)\n",
    "\n",
    "        accuracy = tf.reduce_mean(tf.cast(tf.equal(y_pred_batch, y_batch), tf.float32))\n",
    "\n",
    "        return accuracy\n",
    "    \n",
    "    # We take advantage of AutoGraph (convert Python code to TensorFlow-compatible graph code automatically)\n",
    "    acc, num_batches = 0., 0.\n",
    "    for batch in dataset:\n",
    "        acc += _batch_accuracy(model, batch)\n",
    "        num_batches += 1\n",
    "        \n",
    "    acc = acc / num_batches\n",
    "    \n",
    "    return acc"
   ]
  },
  {
   "cell_type": "code",
   "execution_count": 42,
   "id": "7db2f5a9",
   "metadata": {
    "scrolled": true
   },
   "outputs": [
    {
     "name": "stdout",
     "output_type": "stream",
     "text": [
      "WARNING:tensorflow:From /home/miketheologitis/anaconda3/envs/tff-py39/lib/python3.9/site-packages/tensorflow/python/autograph/pyct/static_analysis/liveness.py:83: Analyzer.lamba_check (from tensorflow.python.autograph.pyct.static_analysis.liveness) is deprecated and will be removed after 2023-09-23.\n",
      "Instructions for updating:\n",
      "Lambda fuctions will be no more assumed to be used in the statement where they are used, or at least in the same block. https://github.com/tensorflow/tensorflow/issues/56089\n"
     ]
    },
    {
     "name": "stderr",
     "output_type": "stream",
     "text": [
      "WARNING:tensorflow:From /home/miketheologitis/anaconda3/envs/tff-py39/lib/python3.9/site-packages/tensorflow/python/autograph/pyct/static_analysis/liveness.py:83: Analyzer.lamba_check (from tensorflow.python.autograph.pyct.static_analysis.liveness) is deprecated and will be removed after 2023-09-23.\n",
      "Instructions for updating:\n",
      "Lambda fuctions will be no more assumed to be used in the statement where they are used, or at least in the same block. https://github.com/tensorflow/tensorflow/issues/56089\n"
     ]
    }
   ],
   "source": [
    "\n",
    "@tff.tf_computation(MODEL_TYPE, LOCAL_DATA_TYPE)\n",
    "def accuracy_fn(model, dataset):\n",
    "    model = tf.Variable(initial_value=model)\n",
    "    return accuracy(model, dataset)"
   ]
  },
  {
   "cell_type": "code",
   "execution_count": 43,
   "id": "ecea1204",
   "metadata": {},
   "outputs": [
    {
     "data": {
      "text/plain": [
       "'(<model=float32[100,1],dataset=<y=float32[?],x=float32[?,100]>*> -> float32)'"
      ]
     },
     "execution_count": 43,
     "metadata": {},
     "output_type": "execute_result"
    }
   ],
   "source": [
    "str(accuracy_fn.type_signature)"
   ]
  },
  {
   "cell_type": "markdown",
   "id": "5791b516",
   "metadata": {},
   "source": [
    "# Federated Learning"
   ]
  },
  {
   "cell_type": "markdown",
   "id": "a379134b",
   "metadata": {},
   "source": [
    "### Server Update"
   ]
  },
  {
   "cell_type": "code",
   "execution_count": 44,
   "id": "8b4f4816",
   "metadata": {},
   "outputs": [],
   "source": [
    "\n",
    "@tff.tf_computation(MODEL_TYPE)\n",
    "def server_update_fn(clients_aggr_model):\n",
    "    model = tf.Variable(initial_value=clients_aggr_model)\n",
    "    return model"
   ]
  },
  {
   "cell_type": "markdown",
   "id": "d74689db",
   "metadata": {},
   "source": [
    "**Note**: This abstraction for this simple jupyter (where the model is a `tf.Variable`) is not necessary. We create this abstraction since it is common practice generally."
   ]
  },
  {
   "cell_type": "markdown",
   "id": "fd9e2160",
   "metadata": {},
   "source": [
    "### Client train - PA-I Classifier"
   ]
  },
  {
   "cell_type": "markdown",
   "id": "642f3b8a",
   "metadata": {},
   "source": [
    "![PA](images/PA_binary_classifiers.png)"
   ]
  },
  {
   "cell_type": "markdown",
   "id": "d1b5a9fb",
   "metadata": {},
   "source": [
    "Each client trains on its own dataset (which is a sequence of batches). Hence, we create the training process, currently a PA-1 Classifier. The input of `client_train` is the client model materialized inside its client and its dataset."
   ]
  },
  {
   "cell_type": "code",
   "execution_count": 45,
   "id": "32494451",
   "metadata": {},
   "outputs": [],
   "source": [
    "\n",
    "@tf.function\n",
    "def client_train(model, C, dataset):\n",
    "    \n",
    "    @tf.function\n",
    "    def _train_on_batch(model, C, batch):\n",
    "\n",
    "        x_batch, y_batch = batch['x'], tf.expand_dims(batch['y'], axis=1)\n",
    "\n",
    "        # dot(w, x) for the batch (each instance of x in x_batch) with with shape=(batchsize, 1)\n",
    "        weights_dot_x_batch = tf.matmul(x_batch, model)\n",
    "\n",
    "        # Prediction batch with shape=(batchsize, 1)\n",
    "        y_pred_batch = tf.sign(weights_dot_x_batch)\n",
    "\n",
    "        # Suffer loss for each prediction (of instance) in the batch with shape=(batchsize,1)\n",
    "        loss_batch = tf.maximum(0., 1. - tf.multiply(y_batch, weights_dot_x_batch))\n",
    "\n",
    "        # shape=(batchsize,1) where each instance is ||x||^2, x in x_batch\n",
    "        norm_batch = tf.expand_dims(tf.reduce_sum(tf.square(x_batch), axis=1), axis=1)\n",
    "        \n",
    "        # PA-1 : Learning rate t for each instance x, with shape=(batchsize,1)\n",
    "        t_batch = tf.maximum(C, tf.divide(loss_batch, norm_batch))\n",
    "\n",
    "        # each instance is y*t*x, where y,t scalars and x in x_batch. shape=(batchsize,d)\n",
    "        t_y_x_batch = tf.multiply(t_batch, tf.multiply(y_batch, x_batch))\n",
    "\n",
    "        # !!!! Update with mean t*y*x\n",
    "        t_y_x_update = tf.expand_dims(tf.reduce_mean(t_y_x_batch, axis=0) ,axis=1)\n",
    "\n",
    "        # Update\n",
    "        model.assign_add(t_y_x_update)\n",
    "    \n",
    "    for batch in dataset:\n",
    "        _train_on_batch(model, C, batch)\n",
    "        \n",
    "    return model"
   ]
  },
  {
   "cell_type": "markdown",
   "id": "32448c2f",
   "metadata": {},
   "source": [
    "# Functional Dynamic Averaging"
   ]
  },
  {
   "cell_type": "markdown",
   "id": "b35e6a7f",
   "metadata": {},
   "source": [
    "We follow the Functional Dynamic Averaging (FDA) scheme. Let the mean model be\n",
    "\n",
    "$$ \\overline{w_t} = \\frac{1}{k} \\sum_{i=1}^{k} w_t^{(i)} $$\n",
    "\n",
    "where $ w_t^{(i)} $ is the model at time $ t $ in some round in the $i$-th learner.\n",
    "\n",
    "Local models are trained independently and cooperatively and we want to monitor the Round Terminating Conditon (**RTC**):\n",
    "\n",
    "$$ \\frac{1}{k} \\sum_{i=1}^{k} \\lVert w_t^{(i)} - \\overline{w_t} \\rVert_2^2  \\leq \\Theta $$\n",
    "\n",
    "where the left-hand side is the **model variance**, and threshold $\\Theta$ is a hyperparameter of the FDA, defined at the beginning of the round; it may change at each round. When the monitoring logic cannot guarantee the validity of RTC, the round terminates. All local models are pulled into `tff.SERVER`, and $\\bar{w_t}$ is set to their average. Then, another round begins.\n"
   ]
  },
  {
   "cell_type": "markdown",
   "id": "6aaca834",
   "metadata": {},
   "source": [
    "### Monitoring the RTC"
   ]
  },
  {
   "cell_type": "markdown",
   "id": "6a62f59b",
   "metadata": {},
   "source": [
    "FDA monitors the RTC by applying techniques from Functionary [Functional Geometric Averaging](http://users.softnet.tuc.gr/~minos/Papers/edbt19.pdf). We first restate the problem of monitoring RTC into the standard distributed stream monitoring formulation. Let\n",
    "\n",
    "$$ S(t) =  \\frac{1}{k} \\sum_{i=1}^{k} S_i(t) $$\n",
    "\n",
    "where $ S(t) \\in \\mathbb{R}^n $ be the \"global state\", **variance approximation**, of the system and $ S_i(t) \\in \\mathbb{R}^n $ the \"local states\". The goal is to monitor the threshold condition on the global state in the form $ F(S(t)) \\leq \\Theta $ where $ F : \\mathbb{R}^n \\to \\mathbb{R} $ a non-linear function. Let\n",
    "\n",
    "$$ \\Delta_t^{(i)} = w_t^{(i)} - w_{t_0}^{(i)} $$\n",
    "\n",
    "be the update at the $ i $-th learner, that is, the change to the local model at time $t$ since the beginning of the current round at time $t_0$. Let the average update be\n",
    "\n",
    "$$ \\overline{\\Delta_t} = \\frac{1}{k} \\sum_{i=1}^{k} \\Delta_t^{(i)} $$\n",
    "\n",
    "it follows that the variance can be written as\n",
    "\n",
    "$$ \\frac{1}{k} \\sum_{i=1}^{k} \\lVert w_t^{(i)} - \\overline{w_t} \\rVert_2^2 = \\Big( \\frac{1}{k} \\sum_{i=1}^{k} \\lVert \\Delta_t^{(i)} \\rVert_2^2 \\Big) - \\lVert \\overline{\\Delta_t} \\rVert_2^2 $$\n",
    "\n",
    "So, conceptually, if we define\n",
    "$$ S_i(t) = \\begin{bmatrix}\n",
    "           \\lVert \\Delta_t^{(i)} \\rVert_2^2 \\\\\n",
    "           \\Delta_t^{(i)}\n",
    "         \\end{bmatrix} \\quad \\text{and} \\quad\n",
    "         F(\\begin{bmatrix}\n",
    "           v \\\\\n",
    "           \\bf{x}\n",
    "         \\end{bmatrix}) = v - \\lVert \\bf{x} \\rVert_2^2 $$\n",
    "\n",
    "The RTC is equivalent to condition $$ F(S(t)) \\leq \\Theta $$"
   ]
  },
  {
   "cell_type": "code",
   "execution_count": 46,
   "id": "42fa3fe2",
   "metadata": {},
   "outputs": [],
   "source": [
    "depth = 7  # number of hash functions\n",
    "width = 50  # specifies hash31 : N -> {0, 1, ..., `width`} uniformly.\n",
    "\n",
    "tf_width = tf.constant(width, dtype=tf.int32)\n",
    "tf_depth = tf.constant(depth, dtype=tf.int32)\n",
    "\n",
    "# Pool of three random tuples (A, B) corresponding to a different hash function parameters\n",
    "# We provide information about pair (F[0], F[1]) , the rest follow this \n",
    "# F[0] : shape(depth,) random `a` parameters for each row of the sketch. One row <-> One hash func <-> One `a`\n",
    "# F[1] : shape(depth,) random `b` parameters for each row of the sketch. One row <-> One hash func <-> One `b`\n",
    "tf_F = tf.random.uniform(shape=(6, depth), minval=0, maxval=(1 << 31) - 1, dtype=tf.int32)"
   ]
  },
  {
   "cell_type": "code",
   "execution_count": 47,
   "id": "170bcca7",
   "metadata": {},
   "outputs": [],
   "source": [
    "SKETCH_TYPE = tff.TensorType(tf.float32, shape=[depth, width])"
   ]
  },
  {
   "cell_type": "code",
   "execution_count": 48,
   "id": "86a28177",
   "metadata": {},
   "outputs": [
    {
     "name": "stdout",
     "output_type": "stream",
     "text": [
      "float32[7,50]\n"
     ]
    }
   ],
   "source": [
    "print(SKETCH_TYPE)"
   ]
  },
  {
   "cell_type": "code",
   "execution_count": 49,
   "id": "3369fa45",
   "metadata": {},
   "outputs": [],
   "source": [
    "CLIENT_SKETCH_TYPE = tff.type_at_clients(SKETCH_TYPE)"
   ]
  },
  {
   "cell_type": "code",
   "execution_count": 50,
   "id": "8d8f9646",
   "metadata": {},
   "outputs": [
    {
     "data": {
      "text/plain": [
       "'{float32[7,50]}@CLIENTS'"
      ]
     },
     "execution_count": 50,
     "metadata": {},
     "output_type": "execute_result"
    }
   ],
   "source": [
    "str(CLIENT_SKETCH_TYPE)"
   ]
  },
  {
   "cell_type": "code",
   "execution_count": 51,
   "id": "7c19cb65",
   "metadata": {},
   "outputs": [],
   "source": [
    "@tf.function\n",
    "def sketch_for_vector(v):\n",
    "    \"\"\" Returns AGMS sketch for `v` (vector shape=(n,)). \n",
    "    Note: We serialize `F`, `width`, `depth` for efficiency \"\"\"\n",
    "    \n",
    "    F = tf.constant(tf_F)\n",
    "    width = tf.constant(tf_width)\n",
    "    depth = tf.constant(tf_depth)\n",
    "\n",
    "    @tf.function\n",
    "    def _hash31(x, a, b):\n",
    "        \"\"\" _hash31 : N -> {0, 1, ..., width} uniformly \"\"\"\n",
    "        r = a * x + b\n",
    "        fold = tf.bitwise.bitwise_xor(tf.bitwise.right_shift(r, 31), r)\n",
    "        return tf.bitwise.bitwise_and(fold, 2147483647)\n",
    "    \n",
    "    @tf.function\n",
    "    def _fourwise(x):\n",
    "        \"\"\" Fourwise independent hash of `x` (int) to {+1, -1}. \"\"\"\n",
    "        result = 2 * (tf.bitwise.right_shift(tf.bitwise.bitwise_and(_hash31(_hash31(_hash31(x, F[2], F[3]), x, F[4]), x, F[5]), 32768), 15)) - 1\n",
    "        return result\n",
    "\n",
    "    sketch = tf.zeros(shape=(depth, width), dtype=tf.float32)\n",
    "    indices = tf.range(tf.shape(v)[0], dtype=tf.int32)\n",
    "\n",
    "    for i in indices:\n",
    "        pos = _hash31(i, F[0], F[1]) % width\n",
    "        delta = tf.cast(_fourwise(i), dtype=tf.float32) * v[i]\n",
    "        indices_to_update = tf.stack([tf.range(depth, dtype=tf.int32), pos], axis=1)\n",
    "        sketch = tf.tensor_scatter_nd_add(sketch, indices_to_update, delta)\n",
    "\n",
    "    return sketch\n",
    "\n",
    "\n",
    "@tff.tf_computation(MODEL_TYPE)\n",
    "def sketch_for_vector_fn(v):\n",
    "    # we use `.squeeze` to reshape from (n,1) to (n,)\n",
    "    return sketch_for_vector(tf.squeeze(v, axis=1))"
   ]
  },
  {
   "cell_type": "code",
   "execution_count": 52,
   "id": "0069b1ca",
   "metadata": {},
   "outputs": [
    {
     "data": {
      "text/plain": [
       "'(float32[100,1] -> float32[7,50])'"
      ]
     },
     "execution_count": 52,
     "metadata": {},
     "output_type": "execute_result"
    }
   ],
   "source": [
    "str(sketch_for_vector_fn.type_signature)"
   ]
  },
  {
   "cell_type": "code",
   "execution_count": 53,
   "id": "e5d074e6",
   "metadata": {},
   "outputs": [],
   "source": [
    "@tf.function\n",
    "def estimate_euc_norm_squared(sketch):\n",
    "    \n",
    "    @tf.function\n",
    "    def _median(v):\n",
    "        \"\"\" Median of tensor `v` with shape=(n,). Note: Suboptimal O(nlogn) but it's ok bcz n = `depth`\"\"\"\n",
    "        length = tf.shape(v)[0]\n",
    "        sorted_v = tf.sort(v)\n",
    "        middle = length // 2\n",
    "\n",
    "        return tf.cond(\n",
    "            tf.equal(length % 2, 0),\n",
    "            lambda: (sorted_v[middle - 1] + sorted_v[middle]) / 2.0,\n",
    "            lambda: sorted_v[middle]\n",
    "        )\n",
    "    \n",
    "    return _median(tf.reduce_sum(tf.square(sketch), axis=1))"
   ]
  },
  {
   "cell_type": "markdown",
   "id": "3eb4743f",
   "metadata": {},
   "source": [
    "Using the functions decorated with `tf.function` (context inside Tensorflow) we create the `client_train_fn` with context inside TFF. \n",
    "\n",
    "`initial_model` is the model currently inside each `tff.CLIENT`. This model is different in each CLIENT with the exception in the first step after synchronization.\n",
    "\n",
    "`last_sync_model` is the synchronized model at the start of the current round. \n",
    "\n",
    "`last_last_sync_model` is the synchronized model at the start of the previous round (used for the heuristic for $ \\xi $)."
   ]
  },
  {
   "cell_type": "code",
   "execution_count": 54,
   "id": "888be5a8",
   "metadata": {},
   "outputs": [],
   "source": [
    "\n",
    "@tff.tf_computation(MODEL_TYPE, MODEL_TYPE, FLOAT32_TYPE, LOCAL_DATA_TYPE)\n",
    "def client_train_fn(last_sync_model, initial_model, C, dataset):\n",
    "    \n",
    "    model = client_train(\n",
    "        tf.Variable(initial_value=initial_model), C, dataset\n",
    "    )\n",
    "    \n",
    "    Delta_i = model - last_sync_model # AutoGraph\n",
    "    \n",
    "    #||D(t)_i||^2 , shape = (1,) \n",
    "    Delta_i_norm_squared = tf.reduce_sum(tf.square(Delta_i), axis=0) \n",
    "    \n",
    "    # sk(D(t)_i) \n",
    "    sketch = sketch_for_vector_fn(Delta_i)\n",
    "\n",
    "    return model, Delta_i_norm_squared, sketch, Delta_i"
   ]
  },
  {
   "cell_type": "code",
   "execution_count": 55,
   "id": "349b9ed5",
   "metadata": {},
   "outputs": [
    {
     "data": {
      "text/plain": [
       "'(<last_sync_model=float32[100,1],initial_model=float32[100,1],C=float32,dataset=<y=float32[?],x=float32[?,100]>*> -> <float32[100,1],float32[1],float32[7,50],float32[100,1]>)'"
      ]
     },
     "execution_count": 55,
     "metadata": {},
     "output_type": "execute_result"
    }
   ],
   "source": [
    "str(client_train_fn.type_signature)"
   ]
  },
  {
   "cell_type": "markdown",
   "id": "07d317f2",
   "metadata": {},
   "source": [
    "### Server Average Client Models"
   ]
  },
  {
   "cell_type": "markdown",
   "id": "d54e18e0",
   "metadata": {},
   "source": [
    "When it is time to synchronize the Clients, the Server averages the Client weights and computes the global model. This is what this function does. Moreover, remember that the Client updates its model using `server_update_fn`."
   ]
  },
  {
   "cell_type": "code",
   "execution_count": 56,
   "id": "fc7bdbd6",
   "metadata": {},
   "outputs": [],
   "source": [
    "@tff.federated_computation(CLIENT_MODEL_TYPE)\n",
    "def server_update(client_models):\n",
    "    # 4. Compute the mean of the client weights\n",
    "    mean_client_model = tff.federated_mean(client_models)\n",
    "    \n",
    "    # 4. Update the server model\n",
    "    server_model = tff.federated_map(server_update_fn, mean_client_model)\n",
    "    \n",
    "    return server_model"
   ]
  },
  {
   "cell_type": "code",
   "execution_count": 57,
   "id": "61a2a0bb",
   "metadata": {},
   "outputs": [
    {
     "data": {
      "text/plain": [
       "'({float32[100,1]}@CLIENTS -> float32[100,1]@SERVER)'"
      ]
     },
     "execution_count": 57,
     "metadata": {},
     "output_type": "execute_result"
    }
   ],
   "source": [
    "str(server_update.type_signature)"
   ]
  },
  {
   "cell_type": "markdown",
   "id": "11e6455e",
   "metadata": {},
   "source": [
    "### Client Learning Step"
   ]
  },
  {
   "cell_type": "markdown",
   "id": "556998dc",
   "metadata": {},
   "source": [
    "A Client learning step is an update of the model based on one or more batches. The following `federated_computation` describes the step operation over all the clients. We pass a `federated_dataset` which could be thought as a stream of one or more batches for each client and some more parameters, namely, the last synchronized global model, the current client models, and the parameter `C` of the **PA-I** classifier.\n",
    "\n",
    "Notice that each of those parameters is placed in `tff.CLIENTS`. \n",
    "\n",
    "Moreover, we return the updated Client models `client_models` (think of this as the new state of the distributed system) placed in `tff.CLIENTS` aswell which is logical, each Client updates its own model. Lastly, we return the `client_S_i` as described in the unpublished manuscript ('local state') of each Client, again placed in `tff.CLIENTS`.\n",
    "\n",
    "Note: Do not think of the `return` as a normal programming `return` statement. Here, we describe the change in state in the distributed system, in this case, solely in `tff.CLIENTS`."
   ]
  },
  {
   "cell_type": "code",
   "execution_count": 58,
   "id": "b758bda8",
   "metadata": {},
   "outputs": [],
   "source": [
    "@tff.federated_computation(CLIENT_MODEL_TYPE, CLIENT_MODEL_TYPE, CLIENT_FLOAT32, CLIENT_DATA_TYPE)\n",
    "def step(last_sync_client_models, client_models, client_C, federated_dataset):\n",
    "    # 2. 3. Train the client models on their respective datasets\n",
    "    client_models, client_Delta_i_norm_squared, client_sketches, client_D_i = tff.federated_map(\n",
    "        client_train_fn, \n",
    "        (last_sync_client_models, client_models, client_C, federated_dataset)\n",
    "    )\n",
    "    \n",
    "    return client_models, client_Delta_i_norm_squared, client_sketches, client_D_i "
   ]
  },
  {
   "cell_type": "code",
   "execution_count": 59,
   "id": "08b11ecd",
   "metadata": {},
   "outputs": [
    {
     "data": {
      "text/plain": [
       "'(<last_sync_client_models={float32[100,1]}@CLIENTS,client_models={float32[100,1]}@CLIENTS,client_C={float32}@CLIENTS,federated_dataset={<y=float32[?],x=float32[?,100]>*}@CLIENTS> -> <{float32[100,1]}@CLIENTS,{float32[1]}@CLIENTS,{float32[7,50]}@CLIENTS,{float32[100,1]}@CLIENTS>)'"
      ]
     },
     "execution_count": 59,
     "metadata": {},
     "output_type": "execute_result"
    }
   ],
   "source": [
    "str(step.type_signature)"
   ]
  },
  {
   "cell_type": "markdown",
   "id": "541c0b3b",
   "metadata": {},
   "source": [
    "### Server Computation of 'Global State', i.e, Variance Approximation"
   ]
  },
  {
   "cell_type": "markdown",
   "id": "6787e99a",
   "metadata": {},
   "source": [
    "As you saw above, each Client has a property 'local state' `client_S_i`. When each round ends, the server should average those local states to compute the 'global state', i.e., the approximation of the **variance** using the *Naive FDA* scheme. The following `federated_computation` describes exactly that."
   ]
  },
  {
   "cell_type": "code",
   "execution_count": 60,
   "id": "0f818b48",
   "metadata": {},
   "outputs": [],
   "source": [
    "\n",
    "@tff.federated_computation(CLIENT_FLOAT32_1_TYPE, CLIENT_SKETCH_TYPE)\n",
    "def server_global_state(client_Delta_i_norm_squared, client_sketches):\n",
    "    \n",
    "    server_S_1 = tff.federated_mean(client_Delta_i_norm_squared)\n",
    "    \n",
    "    server_S_2 = tff.federated_sum(client_sketches)\n",
    "    \n",
    "    return server_S_1, server_S_2"
   ]
  },
  {
   "cell_type": "code",
   "execution_count": 61,
   "id": "26457a22",
   "metadata": {},
   "outputs": [
    {
     "data": {
      "text/plain": [
       "'(<client_Delta_i_norm_squared={float32[1]}@CLIENTS,client_sketches={float32[7,50]}@CLIENTS> -> <float32[1]@SERVER,float32[7,50]@SERVER>)'"
      ]
     },
     "execution_count": 61,
     "metadata": {},
     "output_type": "execute_result"
    }
   ],
   "source": [
    "str(server_global_state.type_signature)"
   ]
  },
  {
   "cell_type": "markdown",
   "id": "c80f9f7e",
   "metadata": {},
   "source": [
    "### Round Terminating Condition"
   ]
  },
  {
   "cell_type": "markdown",
   "id": "7d158204",
   "metadata": {},
   "source": [
    "As explained in the theoretical analysis of the *Linear FDA*, when the approximation of **RTC** does not hold, i.e., \n",
    "\n",
    "$$ F(S(t)) \\gt \\Theta \\quad \\leftrightarrow \\quad S(t)_0 - S(t)_1^2 \\gt \\Theta$$\n",
    "\n",
    "we are oblidged to synchronize the Client models since we can no longer guarantee that the variance is bellow the $\\Theta$ threshold, i.e., \n",
    "\n",
    "$$ \\frac{1}{k} \\sum_{i=1}^{k} \\lVert w_t^{(i)} - \\overline{w_t} \\rVert_2^2  \\leq \\Theta $$\n",
    "\n",
    "The following function checks whether we guarantee that the **RTC** holds (`True`) or not (`False`)."
   ]
  },
  {
   "cell_type": "code",
   "execution_count": 62,
   "id": "a06e446b",
   "metadata": {},
   "outputs": [],
   "source": [
    "# Same for all FDA. (bool)\n",
    "@tff.tf_computation(FLOAT32_1_TYPE, SKETCH_TYPE, FLOAT32_TYPE, INT32_TYPE)\n",
    "def RTC_holds(S_1, S_2, THETA, NUM_CLIENTS):\n",
    "    \"\"\" Returns True if RTC holds (has not been defied). False otherwise (sync must happen)\"\"\"\n",
    "    \n",
    "    @tf.function\n",
    "    def _F(S_1, S_2, THETA, NUM_CLIENTS):\n",
    "        \"\"\" Linear FDA \"\"\"\n",
    "        var_est = S_1 - tf.cast((1/NUM_CLIENTS**2), dtype=tf.float32) * estimate_euc_norm_squared(S_2)\n",
    "        return var_est <= THETA\n",
    "    \n",
    "    return _F(S_1, S_2, THETA, NUM_CLIENTS)\n"
   ]
  },
  {
   "cell_type": "code",
   "execution_count": 63,
   "id": "cb04701e",
   "metadata": {},
   "outputs": [
    {
     "data": {
      "text/plain": [
       "'(<S_1=float32[1],S_2=float32[7,50],THETA=float32,NUM_CLIENTS=int32> -> bool[1])'"
      ]
     },
     "execution_count": 63,
     "metadata": {},
     "output_type": "execute_result"
    }
   ],
   "source": [
    "str(RTC_holds.type_signature)"
   ]
  },
  {
   "cell_type": "markdown",
   "id": "698c5f35",
   "metadata": {},
   "source": [
    "### Help variance function"
   ]
  },
  {
   "cell_type": "markdown",
   "id": "4e382606",
   "metadata": {},
   "source": [
    "A helper function that computes the **Actual Variance** when the approximate **RTC** condition does not hold. We want to see how far off the approximation is from reality."
   ]
  },
  {
   "cell_type": "code",
   "execution_count": 64,
   "id": "eec4adef",
   "metadata": {},
   "outputs": [],
   "source": [
    "w_spec = tf.TensorSpec(shape=(NUM_CLIENTS, d, 1), dtype=tf.float32)\n",
    "\n",
    "@tf.function(input_signature=[w_spec, w_spec])\n",
    "def variance(w_t, w_sync):\n",
    "    # w_t , w_sync tensors with shape=(NUM_CLIENTS, d, 1)\n",
    "    \n",
    "    # tensor with shape=(NUM_CLIENTS, d, 1)\n",
    "    diff = w_t - w_sync\n",
    "    \n",
    "    # tensor with shape=(NUM_CLIENTS, 1) , For each client ||w_i_t - w_t||^2\n",
    "    dot = tf.reduce_sum(tf.square(diff), axis=1)\n",
    "    \n",
    "    # Variance shape=() , scalar\n",
    "    var = tf.reduce_mean(dot)\n",
    "    \n",
    "    return var"
   ]
  },
  {
   "cell_type": "markdown",
   "id": "fe51953c",
   "metadata": {},
   "source": [
    "## Metrics"
   ]
  },
  {
   "cell_type": "markdown",
   "id": "491a75dc",
   "metadata": {},
   "source": [
    "A very ugly looking `Metrics` class that helps us with printing and storing the round metrics.\n",
    "\n",
    "Skip."
   ]
  },
  {
   "cell_type": "code",
   "execution_count": 65,
   "id": "dc049cb2",
   "metadata": {},
   "outputs": [],
   "source": [
    "# Unentangle num_rounds\n",
    "\n",
    "class Metrics:\n",
    "    def __init__(self, name, num_rounds, theta,\n",
    "                 num_clients, batches_per_step, batch_size,\n",
    "                 n, d, test_size, S_i_bytes):\n",
    "        \n",
    "        self.num_rounds = num_rounds\n",
    "        self.theta = theta\n",
    "        self.num_clients = num_clients\n",
    "        self.batches_per_step = batches_per_step\n",
    "        self.batch_size = batch_size\n",
    "        self.n = n\n",
    "        self.d = d\n",
    "        self.test_size = test_size\n",
    "        self.S_i_bytes = S_i_bytes\n",
    "        self.name = name\n",
    "        \n",
    "        self.model_bytes = self.d * 4\n",
    "        \n",
    "        self.total_batches_per_client = int(self.n / (self.num_clients*self.batch_size))\n",
    "        \n",
    "        self.one_sample_size_b = (self.d+2)*4 # bytes\n",
    "        \n",
    "        self.training_dataset_size_mb = self.one_sample_size_b * (n * (1-test_size)) / 1_000_000 # In mb\n",
    "        \n",
    "        # Total batches for all clients for a single step\n",
    "        self.total_batches_per_step = (self.batches_per_step * self.num_clients)\n",
    "        \n",
    "        self.samples = int(self.n * (1-self.test_size))\n",
    "        \n",
    "        self.all_metrics = []\n",
    "        \n",
    "    \n",
    "    def print_initial_information(self):\n",
    "        print(\"FEDERATED SETTING INFO:\")\n",
    "        print(\"------------------------------------------------------------\")\n",
    "\n",
    "        print(\"CLIENTS:\")\n",
    "        print(f'{\"Clients\":<10} {\"Batches per Client\":<20} {\"Batches per Step\":<20}')\n",
    "        print(f'{self.num_clients:<10} {self.total_batches_per_client:<20} {self.batches_per_step:<20}')\n",
    "        print()\n",
    "\n",
    "        print(\"TRAIN DATASET:\")\n",
    "        print(f'{\"x-Dim\":<6} {\"y-classes\":<10} {\"Samples\":<12} {\"Dataset size (MB)\":<20} {\"Samples per Batch\":<20}')\n",
    "        print(f'{d:<6} {2:<10} {self.samples:<12} {self.training_dataset_size_mb:<20} {self.batch_size:<20}')\n",
    "        print()\n",
    "\n",
    "        print(\"ALGORITHM:\")\n",
    "        print(f'{\"Name\":<5} {\"Model Bytes\":<10}')\n",
    "        print(f'{\"PA-I\":<5} {self.model_bytes:<10}')\n",
    "        print()\n",
    "\n",
    "        print(\"SYNCHRONIZATION:\")\n",
    "        print(f'{self.name} FDA monitoring model Variance bellow {self.theta}')\n",
    "        print(\"------------------------------------------------------------\")\n",
    "        print()\n",
    "        print()   \n",
    "    \n",
    "    def store_and_print_metrics(self, num_round, num_steps, global_state, accuracy, C, var):\n",
    "        metrics = {}\n",
    "\n",
    "        metrics['Round'] = num_round\n",
    "        metrics['Steps'] = num_steps\n",
    "        metrics['Accuracy'] = accuracy\n",
    "        metrics['Global State'] = global_state[0]\n",
    "        metrics['C'] = C\n",
    "        metrics['Actual Variance'] = var\n",
    "\n",
    "        # Total samples seen by all clients. batch_size = samples per batch\n",
    "        metrics['Samples'] = self.batch_size * (num_steps * self.total_batches_per_step)\n",
    "\n",
    "        # FDA In each step clients return their S_i \n",
    "        local_states_bytes = num_steps * self.num_clients * self.S_i_bytes\n",
    "        # Synchronization: Receive models from clients AND Send model to all clients\n",
    "        sync_bytes = 2 * self.model_bytes * self.num_clients\n",
    "\n",
    "        metrics['Bytes Exchanged'] = local_states_bytes + sync_bytes\n",
    "\n",
    "        self.all_metrics.append(metrics)\n",
    "\n",
    "        # Print the metrics for the current round\n",
    "        self.print_round_metrics()\n",
    "        \n",
    "    def print_round_metrics(self):\n",
    "        metrics = self.all_metrics[-1]\n",
    "        # Print the metric values in a nicely formatted table\n",
    "        print((\n",
    "            f'{\"Round\":<6} {\"Steps\":<6} {\"C\":<5} {\"Accuracy\":<13} '\n",
    "            f'{\"Bytes Exchanged\":<20} {\"Samples\":<15} {\"Var Approx\":<15} '\n",
    "            f'{\"Var (Actual)\":<15}'\n",
    "        ))\n",
    "\n",
    "        print((\n",
    "            f\"{metrics['Round']:<6} {metrics['Steps']:<6} {metrics['C']:<5} \"\n",
    "            f\"{metrics['Accuracy']:<13.5f} {metrics['Bytes Exchanged']:<20} \"\n",
    "            f\"{metrics['Samples']:<15} {metrics['Global State']:<15.6f} \"\n",
    "            f\"{metrics['Actual Variance']:<15.6f}\"\n",
    "        ))\n",
    "\n",
    "        print()\n",
    "    \n",
    "    def print_aggregate_metrics(self):\n",
    "\n",
    "        total_bytes_exchanged = sum(metrics['Bytes Exchanged'] for metrics in self.all_metrics)\n",
    "        total_mb_exchanged = total_bytes_exchanged/1_000_000\n",
    "        \n",
    "        total_steps = sum(metrics['Steps'] for metrics in self.all_metrics)\n",
    "        total_samples = sum(metrics['Samples'] for metrics in self.all_metrics)\n",
    "        final_accuracy = self.all_metrics[-1]['Accuracy']\n",
    "\n",
    "        # Remember we pass the dataset many times at random (random batches)\n",
    "        trained_in_bytes = self.one_sample_size_b * total_samples \n",
    "        trained_in_mb = trained_in_bytes / 1_000_000 # MB\n",
    "        \n",
    "        # total communication due to model synchronization\n",
    "        model_sync_bytes_exchanged = self.num_rounds * (2 * self.model_bytes * self.num_clients)\n",
    "        model_sync_mb_exchanged = model_sync_bytes_exchanged / 1_000_000\n",
    "        \n",
    "        # total communication due to monitoring\n",
    "        monitoring_bytes_exchanged = total_bytes_exchanged - model_sync_bytes_exchanged\n",
    "        monitoring_mb_exchanged = monitoring_bytes_exchanged / 1_000_000\n",
    "        \n",
    "        print(\"------------------------------------------------------------\")\n",
    "\n",
    "        print()\n",
    "        print('FINAL METRICS:')\n",
    "        print(\"------------------------------------------------------------\")\n",
    "        print()\n",
    "\n",
    "        print('TRAINING:')\n",
    "        print((\n",
    "            f'{\"Rounds\":<7} {\"Steps\":<9} {\"Samples\":<13} {\"Trained MB\":<20}'\n",
    "            f'{\"Final Accuracy\":<25}'\n",
    "        ))\n",
    "        print((\n",
    "            f'{self.num_rounds:<7} {total_steps:<9} {total_samples:<13} {trained_in_mb:<20.5f}'\n",
    "            f'{final_accuracy:<25.6}'\n",
    "        ))\n",
    "        print()\n",
    "        \n",
    "        print('COMMUNICATION:')\n",
    "        print(f'{\"Total MB Exchanged\":<25} {\"Model Sync MB Exchanged\":<25} {\"Monitoring MB Exchanged\":<25}')\n",
    "        print(f'{total_mb_exchanged:<25} {model_sync_mb_exchanged:<25} {monitoring_mb_exchanged:<25}')\n",
    "            \n",
    "        "
   ]
  },
  {
   "cell_type": "markdown",
   "id": "3e05037e",
   "metadata": {},
   "source": [
    "## Training Initialization"
   ]
  },
  {
   "cell_type": "markdown",
   "id": "09197d61",
   "metadata": {},
   "source": [
    "Create the federated datasets."
   ]
  },
  {
   "cell_type": "code",
   "execution_count": 66,
   "id": "933033bb",
   "metadata": {},
   "outputs": [],
   "source": [
    "\n",
    "train_federated_data = create_federated_data()\n",
    "test_dataset = create_tf_dataset_for_test()"
   ]
  },
  {
   "cell_type": "markdown",
   "id": "e9949269",
   "metadata": {},
   "source": [
    "Initial conditions"
   ]
  },
  {
   "cell_type": "code",
   "execution_count": 67,
   "id": "5e2b3758",
   "metadata": {},
   "outputs": [],
   "source": [
    "NUM_ROUNDS = 15\n",
    "THETA = 2.\n",
    "C = 0.01"
   ]
  },
  {
   "cell_type": "markdown",
   "id": "fdec3b1e",
   "metadata": {},
   "source": [
    "We assume that all Clients start in synchronization, i.e., Server model is zeros and Client models are also zeros.\n",
    "\n",
    "Moreover, notice that `client_models`, `last_sync_client_models`, `client_C` are all defined as lists containing `NUM_CLIENTS` elements. This is the simulation approach of TFF and following the already defined functions above, each element in those lists is assumed to lie in one `tff.CLIENT`. For example, each `tff.CLIENT` has a `C` hyperparameter to be used by **PA-I** classifier on its own model etc."
   ]
  },
  {
   "cell_type": "code",
   "execution_count": 68,
   "id": "9cb526fe",
   "metadata": {},
   "outputs": [],
   "source": [
    "# Initial model of zeros\n",
    "model = tf.Variable(tf.zeros(shape=(d, 1)), trainable=True, name='weights', dtype=tf.float32)\n",
    "\n",
    "# Assume client models are synchronized at the start (Obviously S_t = 0)\n",
    "client_models = [model]*NUM_CLIENTS\n",
    "last_sync_client_models = [model]*NUM_CLIENTS\n",
    "client_C = [C]*NUM_CLIENTS\n",
    "S_1 = tf.zeros(shape=(1,), dtype=tf.float32)\n",
    "S_2 = tf.zeros(shape=(depth, width), dtype=tf.float32)"
   ]
  },
  {
   "cell_type": "markdown",
   "id": "01a7248d",
   "metadata": {},
   "source": [
    "## Training Loop"
   ]
  },
  {
   "cell_type": "code",
   "execution_count": 69,
   "id": "65c9eeb9",
   "metadata": {
    "scrolled": true
   },
   "outputs": [
    {
     "name": "stdout",
     "output_type": "stream",
     "text": [
      "FEDERATED SETTING INFO:\n",
      "------------------------------------------------------------\n",
      "CLIENTS:\n",
      "Clients    Batches per Client   Batches per Step    \n",
      "20         156                  1                   \n",
      "\n",
      "TRAIN DATASET:\n",
      "x-Dim  y-classes  Samples      Dataset size (MB)    Samples per Batch   \n",
      "100    2          90000        36.72                32                  \n",
      "\n",
      "ALGORITHM:\n",
      "Name  Model Bytes\n",
      "PA-I  400       \n",
      "\n",
      "SYNCHRONIZATION:\n",
      "Sketch FDA monitoring model Variance bellow 2.0\n",
      "------------------------------------------------------------\n",
      "\n",
      "\n",
      "Actual sketch val: 0.003780023893341422 ,  Sketch est: 0.0037314812652766705\n",
      "Overestimate: False\n",
      "Left-hand-side: 0.013244099915027618\n",
      "Actual Var: 0.009464075788855553 , Sketch var: 0.00951261818408966\n",
      "\n",
      "Actual sketch val: 0.013919957913458347 ,  Sketch est: 0.01422522310167551\n",
      "Overestimate: True\n",
      "Left-hand-side: 0.03306567668914795\n",
      "Actual Var: 0.019145719707012177 , Sketch var: 0.018840454518795013\n",
      "\n",
      "Actual sketch val: 0.0284030232578516 ,  Sketch est: 0.028027154505252838\n",
      "Overestimate: False\n",
      "Left-hand-side: 0.0571879968047142\n",
      "Actual Var: 0.028784973546862602 , Sketch var: 0.029160842299461365\n",
      "\n",
      "Actual sketch val: 0.04934218153357506 ,  Sketch est: 0.04802348092198372\n",
      "Overestimate: False\n",
      "Left-hand-side: 0.08858020603656769\n",
      "Actual Var: 0.03923802450299263 , Sketch var: 0.04055672511458397\n",
      "\n",
      "Actual sketch val: 0.07468398660421371 ,  Sketch est: 0.07413795590400696\n",
      "Overestimate: False\n",
      "Left-hand-side: 0.12475444376468658\n",
      "Actual Var: 0.05007045716047287 , Sketch var: 0.050616487860679626\n",
      "\n",
      "Actual sketch val: 0.10979937762022018 ,  Sketch est: 0.10727645456790924\n",
      "Overestimate: False\n",
      "Left-hand-side: 0.1681813895702362\n",
      "Actual Var: 0.05838201195001602 , Sketch var: 0.060904935002326965\n",
      "\n",
      "Actual sketch val: 0.14983044564723969 ,  Sketch est: 0.14438916742801666\n",
      "Overestimate: False\n",
      "Left-hand-side: 0.21974055469036102\n",
      "Actual Var: 0.06991010904312134 , Sketch var: 0.07535138726234436\n",
      "\n",
      "Actual sketch val: 0.19618499279022217 ,  Sketch est: 0.1886032074689865\n",
      "Overestimate: False\n",
      "Left-hand-side: 0.2765997052192688\n",
      "Actual Var: 0.08041471242904663 , Sketch var: 0.08799649775028229\n",
      "\n",
      "Actual sketch val: 0.24820494651794434 ,  Sketch est: 0.2352047711610794\n",
      "Overestimate: False\n",
      "Left-hand-side: 0.3390966057777405\n",
      "Actual Var: 0.09089165925979614 , Sketch var: 0.10389183461666107\n",
      "\n",
      "Actual sketch val: 0.3073262572288513 ,  Sketch est: 0.28667232394218445\n",
      "Overestimate: False\n",
      "Left-hand-side: 0.40955081582069397\n",
      "Actual Var: 0.10222455859184265 , Sketch var: 0.12287849187850952\n",
      "\n",
      "Actual sketch val: 0.3785988688468933 ,  Sketch est: 0.35416746139526367\n",
      "Overestimate: False\n",
      "Left-hand-side: 0.4926421642303467\n",
      "Actual Var: 0.11404329538345337 , Sketch var: 0.138474702835083\n",
      "\n",
      "Actual sketch val: 0.45266708731651306 ,  Sketch est: 0.4269843101501465\n",
      "Overestimate: False\n",
      "Left-hand-side: 0.5812778472900391\n",
      "Actual Var: 0.128610759973526 , Sketch var: 0.15429353713989258\n",
      "\n",
      "Actual sketch val: 0.5280466079711914 ,  Sketch est: 0.495938241481781\n",
      "Overestimate: False\n",
      "Left-hand-side: 0.668915867805481\n",
      "Actual Var: 0.14086925983428955 , Sketch var: 0.17297762632369995\n",
      "\n",
      "Actual sketch val: 0.6121565103530884 ,  Sketch est: 0.5704584121704102\n",
      "Overestimate: False\n",
      "Left-hand-side: 0.7613354325294495\n",
      "Actual Var: 0.14917892217636108 , Sketch var: 0.1908770203590393\n",
      "\n",
      "Actual sketch val: 0.7035635113716125 ,  Sketch est: 0.6495951414108276\n",
      "Overestimate: False\n",
      "Left-hand-side: 0.8620074391365051\n",
      "Actual Var: 0.15844392776489258 , Sketch var: 0.2124122977256775\n",
      "\n",
      "Actual sketch val: 0.796344518661499 ,  Sketch est: 0.7384130954742432\n",
      "Overestimate: False\n",
      "Left-hand-side: 0.9686248898506165\n",
      "Actual Var: 0.17228037118911743 , Sketch var: 0.2302117943763733\n",
      "\n",
      "Actual sketch val: 0.8998327255249023 ,  Sketch est: 0.8385241627693176\n",
      "Overestimate: False\n",
      "Left-hand-side: 1.0830223560333252\n",
      "Actual Var: 0.18318963050842285 , Sketch var: 0.24449819326400757\n",
      "\n",
      "Actual sketch val: 1.012783169746399 ,  Sketch est: 0.943835437297821\n",
      "Overestimate: False\n",
      "Left-hand-side: 1.2105209827423096\n",
      "Actual Var: 0.19773781299591064 , Sketch var: 0.2666855454444885\n",
      "\n",
      "Actual sketch val: 1.1238059997558594 ,  Sketch est: 1.0525685548782349\n",
      "Overestimate: False\n",
      "Left-hand-side: 1.3345792293548584\n",
      "Actual Var: 0.21077322959899902 , Sketch var: 0.28201067447662354\n",
      "\n",
      "Actual sketch val: 1.250158667564392 ,  Sketch est: 1.1811381578445435\n",
      "Overestimate: False\n",
      "Left-hand-side: 1.471939206123352\n",
      "Actual Var: 0.22178053855895996 , Sketch var: 0.2908010482788086\n",
      "\n",
      "Actual sketch val: 1.3791695833206177 ,  Sketch est: 1.3008105754852295\n",
      "Overestimate: False\n",
      "Left-hand-side: 1.6141598224639893\n",
      "Actual Var: 0.23499023914337158 , Sketch var: 0.31334924697875977\n",
      "\n",
      "Actual sketch val: 1.5170518159866333 ,  Sketch est: 1.4459481239318848\n",
      "Overestimate: False\n",
      "Left-hand-side: 1.7621915340423584\n",
      "Actual Var: 0.2451397180557251 , Sketch var: 0.31624341011047363\n",
      "\n",
      "Actual sketch val: 1.6539576053619385 ,  Sketch est: 1.5771437883377075\n",
      "Overestimate: False\n",
      "Left-hand-side: 1.911630630493164\n",
      "Actual Var: 0.2576730251312256 , Sketch var: 0.33448684215545654\n",
      "\n",
      "Actual sketch val: 1.8003501892089844 ,  Sketch est: 1.710777759552002\n",
      "Overestimate: False\n",
      "Left-hand-side: 2.0733847618103027\n",
      "Actual Var: 0.27303457260131836 , Sketch var: 0.3626070022583008\n",
      "\n",
      "Actual sketch val: 1.9547996520996094 ,  Sketch est: 1.8695975542068481\n",
      "Overestimate: False\n",
      "Left-hand-side: 2.2406184673309326\n",
      "Actual Var: 0.28581881523132324 , Sketch var: 0.3710209131240845\n",
      "\n",
      "Actual sketch val: 2.106499195098877 ,  Sketch est: 2.01224684715271\n",
      "Overestimate: False\n",
      "Left-hand-side: 2.405806064605713\n",
      "Actual Var: 0.29930686950683594 , Sketch var: 0.39355921745300293\n",
      "\n",
      "Actual sketch val: 2.264491081237793 ,  Sketch est: 2.1777138710021973\n",
      "Overestimate: False\n",
      "Left-hand-side: 2.5749964714050293\n",
      "Actual Var: 0.31050539016723633 , Sketch var: 0.39728260040283203\n",
      "\n",
      "Actual sketch val: 2.442180871963501 ,  Sketch est: 2.337245225906372\n",
      "Overestimate: False\n",
      "Left-hand-side: 2.7644705772399902\n",
      "Actual Var: 0.32228970527648926 , Sketch var: 0.42722535133361816\n",
      "\n",
      "Actual sketch val: 2.613032817840576 ,  Sketch est: 2.5045580863952637\n",
      "Overestimate: False\n",
      "Left-hand-side: 2.9479236602783203\n",
      "Actual Var: 0.33489084243774414 , Sketch var: 0.44336557388305664\n",
      "\n",
      "Actual sketch val: 2.789902448654175 ,  Sketch est: 2.668701171875\n",
      "Overestimate: False\n",
      "Left-hand-side: 3.137695550918579\n",
      "Actual Var: 0.3477931022644043 , Sketch var: 0.4689943790435791\n",
      "\n",
      "Actual sketch val: 2.9709973335266113 ,  Sketch est: 2.8434832096099854\n",
      "Overestimate: False\n",
      "Left-hand-side: 3.3282058238983154\n",
      "Actual Var: 0.3572084903717041 , Sketch var: 0.4847226142883301\n",
      "\n",
      "Actual sketch val: 3.1781086921691895 ,  Sketch est: 3.0406618118286133\n",
      "Overestimate: False\n",
      "Left-hand-side: 3.5484421253204346\n",
      "Actual Var: 0.3703334331512451 , Sketch var: 0.5077803134918213\n",
      "\n",
      "Actual sketch val: 3.3768815994262695 ,  Sketch est: 3.224658489227295\n",
      "Overestimate: False\n",
      "Left-hand-side: 3.7610931396484375\n",
      "Actual Var: 0.38421154022216797 , Sketch var: 0.5364346504211426\n",
      "\n",
      "Actual sketch val: 3.585881233215332 ,  Sketch est: 3.4171481132507324\n",
      "Overestimate: False\n",
      "Left-hand-side: 3.9851365089416504\n",
      "Actual Var: 0.39925527572631836 , Sketch var: 0.567988395690918\n",
      "\n",
      "Actual sketch val: 3.795769453048706 ,  Sketch est: 3.623250961303711\n",
      "Overestimate: False\n",
      "Left-hand-side: 4.210440635681152\n",
      "Actual Var: 0.4146711826324463 , Sketch var: 0.5871896743774414\n",
      "\n",
      "Actual sketch val: 4.024744033813477 ,  Sketch est: 3.86208176612854\n",
      "Overestimate: False\n",
      "Left-hand-side: 4.459259033203125\n",
      "Actual Var: 0.43451499938964844 , Sketch var: 0.597177267074585\n",
      "\n",
      "Actual sketch val: 4.2591047286987305 ,  Sketch est: 4.073034286499023\n",
      "Overestimate: False\n",
      "Left-hand-side: 4.717199802398682\n",
      "Actual Var: 0.45809507369995117 , Sketch var: 0.6441655158996582\n",
      "\n",
      "Actual sketch val: 4.501192569732666 ,  Sketch est: 4.320123672485352\n",
      "Overestimate: False\n",
      "Left-hand-side: 4.980501651763916\n",
      "Actual Var: 0.47930908203125 , Sketch var: 0.6603779792785645\n",
      "\n",
      "Actual sketch val: 4.740614414215088 ,  Sketch est: 4.555051326751709\n",
      "Overestimate: False\n",
      "Left-hand-side: 5.235743522644043\n",
      "Actual Var: 0.4951291084289551 , Sketch var: 0.680692195892334\n",
      "\n",
      "Actual sketch val: 4.985959529876709 ,  Sketch est: 4.789728164672852\n",
      "Overestimate: False\n",
      "Left-hand-side: 5.5046210289001465\n",
      "Actual Var: 0.5186614990234375 , Sketch var: 0.7148928642272949\n",
      "\n"
     ]
    },
    {
     "name": "stdout",
     "output_type": "stream",
     "text": [
      "Actual sketch val: 5.209593772888184 ,  Sketch est: 5.008598327636719\n",
      "Overestimate: False\n",
      "Left-hand-side: 5.742405414581299\n",
      "Actual Var: 0.5328116416931152 , Sketch var: 0.7338070869445801\n",
      "\n",
      "Actual sketch val: 5.482017993927002 ,  Sketch est: 5.277303218841553\n",
      "Overestimate: False\n",
      "Left-hand-side: 6.026694297790527\n",
      "Actual Var: 0.5446763038635254 , Sketch var: 0.7493910789489746\n",
      "\n",
      "Actual sketch val: 5.741710662841797 ,  Sketch est: 5.5265984535217285\n",
      "Overestimate: False\n",
      "Left-hand-side: 6.298525333404541\n",
      "Actual Var: 0.5568146705627441 , Sketch var: 0.7719268798828125\n",
      "\n",
      "Actual sketch val: 6.007878303527832 ,  Sketch est: 5.793413162231445\n",
      "Overestimate: False\n",
      "Left-hand-side: 6.573581695556641\n",
      "Actual Var: 0.5657033920288086 , Sketch var: 0.7801685333251953\n",
      "\n",
      "Actual sketch val: 6.29465389251709 ,  Sketch est: 6.072287082672119\n",
      "Overestimate: False\n",
      "Left-hand-side: 6.880564212799072\n",
      "Actual Var: 0.5859103202819824 , Sketch var: 0.8082771301269531\n",
      "\n",
      "Actual sketch val: 6.5583391189575195 ,  Sketch est: 6.306375026702881\n",
      "Overestimate: False\n",
      "Left-hand-side: 7.161252021789551\n",
      "Actual Var: 0.6029129028320312 , Sketch var: 0.8548769950866699\n",
      "\n",
      "Actual sketch val: 6.838913440704346 ,  Sketch est: 6.57005500793457\n",
      "Overestimate: False\n",
      "Left-hand-side: 7.4611334800720215\n",
      "Actual Var: 0.6222200393676758 , Sketch var: 0.8910784721374512\n",
      "\n",
      "Actual sketch val: 7.1324238777160645 ,  Sketch est: 6.846052169799805\n",
      "Overestimate: False\n",
      "Left-hand-side: 7.767668724060059\n",
      "Actual Var: 0.6352448463439941 , Sketch var: 0.9216165542602539\n",
      "\n",
      "Actual sketch val: 7.436097621917725 ,  Sketch est: 7.126109600067139\n",
      "Overestimate: False\n",
      "Left-hand-side: 8.087574005126953\n",
      "Actual Var: 0.6514763832092285 , Sketch var: 0.9614644050598145\n",
      "\n",
      "Actual sketch val: 7.743109703063965 ,  Sketch est: 7.4150309562683105\n",
      "Overestimate: False\n",
      "Left-hand-side: 8.40374755859375\n",
      "Actual Var: 0.6606378555297852 , Sketch var: 0.9887166023254395\n",
      "\n",
      "Actual sketch val: 8.062612533569336 ,  Sketch est: 7.720753192901611\n",
      "Overestimate: False\n",
      "Left-hand-side: 8.740127563476562\n",
      "Actual Var: 0.6775150299072266 , Sketch var: 1.0193743705749512\n",
      "\n",
      "Actual sketch val: 8.389163970947266 ,  Sketch est: 8.046889305114746\n",
      "Overestimate: False\n",
      "Left-hand-side: 9.08804988861084\n",
      "Actual Var: 0.6988859176635742 , Sketch var: 1.0411605834960938\n",
      "\n",
      "Actual sketch val: 8.723604202270508 ,  Sketch est: 8.361845970153809\n",
      "Overestimate: False\n",
      "Left-hand-side: 9.439767837524414\n",
      "Actual Var: 0.7161636352539062 , Sketch var: 1.0779218673706055\n",
      "\n",
      "Actual sketch val: 9.065507888793945 ,  Sketch est: 8.688827514648438\n",
      "Overestimate: False\n",
      "Left-hand-side: 9.793745040893555\n",
      "Actual Var: 0.7282371520996094 , Sketch var: 1.1049175262451172\n",
      "\n",
      "Actual sketch val: 9.391657829284668 ,  Sketch est: 8.98641300201416\n",
      "Overestimate: False\n",
      "Left-hand-side: 10.138080596923828\n",
      "Actual Var: 0.7464227676391602 , Sketch var: 1.151667594909668\n",
      "\n",
      "Actual sketch val: 9.73715877532959 ,  Sketch est: 9.337404251098633\n",
      "Overestimate: False\n",
      "Left-hand-side: 10.494171142578125\n",
      "Actual Var: 0.7570123672485352 , Sketch var: 1.1567668914794922\n",
      "\n",
      "Actual sketch val: 10.101137161254883 ,  Sketch est: 9.664093017578125\n",
      "Overestimate: False\n",
      "Left-hand-side: 10.87708568572998\n",
      "Actual Var: 0.7759485244750977 , Sketch var: 1.2129926681518555\n",
      "\n",
      "Actual sketch val: 10.422537803649902 ,  Sketch est: 9.977814674377441\n",
      "Overestimate: False\n",
      "Left-hand-side: 11.211835861206055\n",
      "Actual Var: 0.7892980575561523 , Sketch var: 1.2340211868286133\n",
      "\n",
      "Actual sketch val: 10.784814834594727 ,  Sketch est: 10.357523918151855\n",
      "Overestimate: False\n",
      "Left-hand-side: 11.5952730178833\n",
      "Actual Var: 0.8104581832885742 , Sketch var: 1.2377490997314453\n",
      "\n",
      "Actual sketch val: 11.121922492980957 ,  Sketch est: 10.712303161621094\n",
      "Overestimate: False\n",
      "Left-hand-side: 11.956582069396973\n",
      "Actual Var: 0.8346595764160156 , Sketch var: 1.244278907775879\n",
      "\n",
      "Actual sketch val: 11.480607032775879 ,  Sketch est: 11.049094200134277\n",
      "Overestimate: False\n",
      "Left-hand-side: 12.344536781311035\n",
      "Actual Var: 0.8639297485351562 , Sketch var: 1.2954425811767578\n",
      "\n",
      "Actual sketch val: 11.886087417602539 ,  Sketch est: 11.41425609588623\n",
      "Overestimate: False\n",
      "Left-hand-side: 12.766586303710938\n",
      "Actual Var: 0.8804988861083984 , Sketch var: 1.352330207824707\n",
      "\n",
      "Actual sketch val: 12.259833335876465 ,  Sketch est: 11.7320556640625\n",
      "Overestimate: False\n",
      "Left-hand-side: 13.158784866333008\n",
      "Actual Var: 0.898951530456543 , Sketch var: 1.4267292022705078\n",
      "\n",
      "Actual sketch val: 12.642387390136719 ,  Sketch est: 12.079385757446289\n",
      "Overestimate: False\n",
      "Left-hand-side: 13.562555313110352\n",
      "Actual Var: 0.9201679229736328 , Sketch var: 1.4831695556640625\n",
      "\n",
      "Actual sketch val: 13.011560440063477 ,  Sketch est: 12.42381477355957\n",
      "Overestimate: False\n",
      "Left-hand-side: 13.943501472473145\n",
      "Actual Var: 0.931941032409668 , Sketch var: 1.5196866989135742\n",
      "\n",
      "Actual sketch val: 13.414446830749512 ,  Sketch est: 12.811110496520996\n",
      "Overestimate: False\n",
      "Left-hand-side: 14.372431755065918\n",
      "Actual Var: 0.9579849243164062 , Sketch var: 1.5613212585449219\n",
      "\n",
      "Actual sketch val: 13.791120529174805 ,  Sketch est: 13.154995918273926\n",
      "Overestimate: False\n",
      "Left-hand-side: 14.778276443481445\n",
      "Actual Var: 0.9871559143066406 , Sketch var: 1.6232805252075195\n",
      "\n",
      "Actual sketch val: 14.19823169708252 ,  Sketch est: 13.508150100708008\n",
      "Overestimate: False\n",
      "Left-hand-side: 15.194869995117188\n",
      "Actual Var: 0.996638298034668 , Sketch var: 1.6867198944091797\n",
      "\n",
      "Actual sketch val: 14.593557357788086 ,  Sketch est: 13.923981666564941\n",
      "Overestimate: False\n",
      "Left-hand-side: 15.610437393188477\n",
      "Actual Var: 1.0168800354003906 , Sketch var: 1.6864557266235352\n",
      "\n",
      "Actual sketch val: 14.99963092803955 ,  Sketch est: 14.301169395446777\n",
      "Overestimate: False\n",
      "Left-hand-side: 16.033998489379883\n",
      "Actual Var: 1.034367561340332 , Sketch var: 1.7328290939331055\n",
      "\n",
      "Actual sketch val: 15.450749397277832 ,  Sketch est: 14.735819816589355\n",
      "Overestimate: False\n",
      "Left-hand-side: 16.508548736572266\n",
      "Actual Var: 1.0577993392944336 , Sketch var: 1.7727289199829102\n",
      "\n",
      "Actual sketch val: 15.870917320251465 ,  Sketch est: 15.12260627746582\n",
      "Overestimate: False\n",
      "Left-hand-side: 16.95285987854004\n",
      "Actual Var: 1.0819425582885742 , Sketch var: 1.8302536010742188\n",
      "\n",
      "Actual sketch val: 16.329618453979492 ,  Sketch est: 15.538661003112793\n",
      "Overestimate: False\n",
      "Left-hand-side: 17.435161590576172\n",
      "Actual Var: 1.1055431365966797 , Sketch var: 1.896500587463379\n",
      "\n",
      "Actual sketch val: 16.795549392700195 ,  Sketch est: 15.984634399414062\n",
      "Overestimate: False\n",
      "Left-hand-side: 17.92275619506836\n",
      "Actual Var: 1.127206802368164 , Sketch var: 1.9381217956542969\n",
      "\n",
      "Actual sketch val: 17.2227840423584 ,  Sketch est: 16.38823890686035\n",
      "Overestimate: False\n",
      "Left-hand-side: 18.370182037353516\n",
      "Actual Var: 1.1473979949951172 , Sketch var: 1.981943130493164\n",
      "\n",
      "Actual sketch val: 17.707168579101562 ,  Sketch est: 16.85655403137207\n",
      "Overestimate: False\n",
      "Left-hand-side: 18.86629867553711\n",
      "Actual Var: 1.1591300964355469 , Sketch var: 2.009744644165039\n",
      "\n",
      "Round  Steps  C     Accuracy      Bytes Exchanged      Samples         Var Approx      Var (Actual)   \n",
      "1      76     0.01  0.81560       2144000              48640           2.009747        1.159131       \n",
      "\n",
      "Actual sketch val: 0.0035231069196015596 ,  Sketch est: 0.0035325258504599333\n",
      "Overestimate: True\n",
      "Left-hand-side: 0.013206595554947853\n",
      "Actual Var: 0.009683488868176937 , Sketch var: 0.009674069471657276\n",
      "\n",
      "Actual sketch val: 0.012278079055249691 ,  Sketch est: 0.011472005397081375\n",
      "Overestimate: False\n",
      "Left-hand-side: 0.032199010252952576\n",
      "Actual Var: 0.01992093026638031 , Sketch var: 0.0207270048558712\n",
      "\n",
      "Actual sketch val: 0.02749691717326641 ,  Sketch est: 0.025603637099266052\n",
      "Overestimate: False\n",
      "Left-hand-side: 0.056717194616794586\n",
      "Actual Var: 0.029220277443528175 , Sketch var: 0.031113557517528534\n",
      "\n",
      "Actual sketch val: 0.05016067624092102 ,  Sketch est: 0.04726172983646393\n",
      "Overestimate: False\n",
      "Left-hand-side: 0.08887770771980286\n",
      "Actual Var: 0.038717031478881836 , Sketch var: 0.04161597788333893\n",
      "\n",
      "Actual sketch val: 0.07705017924308777 ,  Sketch est: 0.07150616496801376\n",
      "Overestimate: False\n",
      "Left-hand-side: 0.12751612067222595\n",
      "Actual Var: 0.050465941429138184 , Sketch var: 0.05600995570421219\n",
      "\n",
      "Actual sketch val: 0.10734117776155472 ,  Sketch est: 0.10163002461194992\n",
      "Overestimate: False\n",
      "Left-hand-side: 0.168516606092453\n",
      "Actual Var: 0.061175428330898285 , Sketch var: 0.06688658148050308\n",
      "\n"
     ]
    },
    {
     "name": "stdout",
     "output_type": "stream",
     "text": [
      "Actual sketch val: 0.14452917873859406 ,  Sketch est: 0.1391042172908783\n",
      "Overestimate: False\n",
      "Left-hand-side: 0.21606341004371643\n",
      "Actual Var: 0.07153423130512238 , Sketch var: 0.07695919275283813\n",
      "\n",
      "Actual sketch val: 0.18752354383468628 ,  Sketch est: 0.17625544965267181\n",
      "Overestimate: False\n",
      "Left-hand-side: 0.2701484262943268\n",
      "Actual Var: 0.0826248824596405 , Sketch var: 0.09389297664165497\n",
      "\n",
      "Actual sketch val: 0.24197432398796082 ,  Sketch est: 0.23093858361244202\n",
      "Overestimate: False\n",
      "Left-hand-side: 0.3363134562969208\n",
      "Actual Var: 0.09433913230895996 , Sketch var: 0.10537487268447876\n",
      "\n",
      "Actual sketch val: 0.2990950644016266 ,  Sketch est: 0.2852461040019989\n",
      "Overestimate: False\n",
      "Left-hand-side: 0.40706077218055725\n",
      "Actual Var: 0.10796570777893066 , Sketch var: 0.12181466817855835\n",
      "\n",
      "Actual sketch val: 0.3608590066432953 ,  Sketch est: 0.35104402899742126\n",
      "Overestimate: False\n",
      "Left-hand-side: 0.4757092595100403\n",
      "Actual Var: 0.114850252866745 , Sketch var: 0.12466523051261902\n",
      "\n",
      "Actual sketch val: 0.4309174716472626 ,  Sketch est: 0.4167066216468811\n",
      "Overestimate: False\n",
      "Left-hand-side: 0.5560309886932373\n",
      "Actual Var: 0.12511351704597473 , Sketch var: 0.1393243670463562\n",
      "\n",
      "Actual sketch val: 0.508223831653595 ,  Sketch est: 0.49316275119781494\n",
      "Overestimate: False\n",
      "Left-hand-side: 0.6446439623832703\n",
      "Actual Var: 0.1364201307296753 , Sketch var: 0.15148121118545532\n",
      "\n",
      "Actual sketch val: 0.5928246378898621 ,  Sketch est: 0.577674388885498\n",
      "Overestimate: False\n",
      "Left-hand-side: 0.741544246673584\n",
      "Actual Var: 0.14871960878372192 , Sketch var: 0.16386985778808594\n",
      "\n",
      "Actual sketch val: 0.6764330267906189 ,  Sketch est: 0.6579223275184631\n",
      "Overestimate: False\n",
      "Left-hand-side: 0.8378961682319641\n",
      "Actual Var: 0.16146314144134521 , Sketch var: 0.17997384071350098\n",
      "\n",
      "Actual sketch val: 0.7729164361953735 ,  Sketch est: 0.7534875869750977\n",
      "Overestimate: False\n",
      "Left-hand-side: 0.9464475512504578\n",
      "Actual Var: 0.17353111505508423 , Sketch var: 0.1929599642753601\n",
      "\n",
      "Actual sketch val: 0.8737057447433472 ,  Sketch est: 0.853848934173584\n",
      "Overestimate: False\n",
      "Left-hand-side: 1.0589911937713623\n",
      "Actual Var: 0.18528544902801514 , Sketch var: 0.20514225959777832\n",
      "\n",
      "Actual sketch val: 0.9860706925392151 ,  Sketch est: 0.9702497720718384\n",
      "Overestimate: False\n",
      "Left-hand-side: 1.1817567348480225\n",
      "Actual Var: 0.19568604230880737 , Sketch var: 0.21150696277618408\n",
      "\n",
      "Actual sketch val: 1.087047815322876 ,  Sketch est: 1.0668271780014038\n",
      "Overestimate: False\n",
      "Left-hand-side: 1.2940773963928223\n",
      "Actual Var: 0.2070295810699463 , Sketch var: 0.22725021839141846\n",
      "\n",
      "Actual sketch val: 1.2024697065353394 ,  Sketch est: 1.1761789321899414\n",
      "Overestimate: False\n",
      "Left-hand-side: 1.4261785745620728\n",
      "Actual Var: 0.2237088680267334 , Sketch var: 0.24999964237213135\n",
      "\n",
      "Actual sketch val: 1.319146752357483 ,  Sketch est: 1.2956124544143677\n",
      "Overestimate: False\n",
      "Left-hand-side: 1.5574281215667725\n",
      "Actual Var: 0.23828136920928955 , Sketch var: 0.2618156671524048\n",
      "\n",
      "Actual sketch val: 1.4562021493911743 ,  Sketch est: 1.431830883026123\n",
      "Overestimate: False\n",
      "Left-hand-side: 1.7061694860458374\n",
      "Actual Var: 0.24996733665466309 , Sketch var: 0.27433860301971436\n",
      "\n",
      "Actual sketch val: 1.6015591621398926 ,  Sketch est: 1.5638841390609741\n",
      "Overestimate: False\n",
      "Left-hand-side: 1.8644859790802002\n",
      "Actual Var: 0.2629268169403076 , Sketch var: 0.3006018400192261\n",
      "\n",
      "Actual sketch val: 1.736138939857483 ,  Sketch est: 1.6956651210784912\n",
      "Overestimate: False\n",
      "Left-hand-side: 2.013672351837158\n",
      "Actual Var: 0.2775334119796753 , Sketch var: 0.318007230758667\n",
      "\n",
      "Actual sketch val: 1.8836995363235474 ,  Sketch est: 1.8517616987228394\n",
      "Overestimate: False\n",
      "Left-hand-side: 2.173574924468994\n",
      "Actual Var: 0.2898753881454468 , Sketch var: 0.3218132257461548\n",
      "\n",
      "Actual sketch val: 2.0322790145874023 ,  Sketch est: 1.997774600982666\n",
      "Overestimate: False\n",
      "Left-hand-side: 2.337949752807617\n",
      "Actual Var: 0.30567073822021484 , Sketch var: 0.34017515182495117\n",
      "\n",
      "Actual sketch val: 2.1896402835845947 ,  Sketch est: 2.149712085723877\n",
      "Overestimate: False\n",
      "Left-hand-side: 2.512458086013794\n",
      "Actual Var: 0.3228178024291992 , Sketch var: 0.362746000289917\n",
      "\n",
      "Actual sketch val: 2.3606975078582764 ,  Sketch est: 2.322479248046875\n",
      "Overestimate: False\n",
      "Left-hand-side: 2.6981594562530518\n",
      "Actual Var: 0.3374619483947754 , Sketch var: 0.37568020820617676\n",
      "\n",
      "Actual sketch val: 2.534567356109619 ,  Sketch est: 2.5082151889801025\n",
      "Overestimate: False\n",
      "Left-hand-side: 2.887434244155884\n",
      "Actual Var: 0.35286688804626465 , Sketch var: 0.37921905517578125\n",
      "\n",
      "Actual sketch val: 2.709751605987549 ,  Sketch est: 2.6530237197875977\n",
      "Overestimate: False\n",
      "Left-hand-side: 3.077152967453003\n",
      "Actual Var: 0.3674013614654541 , Sketch var: 0.4241292476654053\n",
      "\n",
      "Actual sketch val: 2.9049432277679443 ,  Sketch est: 2.856342315673828\n",
      "Overestimate: False\n",
      "Left-hand-side: 3.284533977508545\n",
      "Actual Var: 0.3795907497406006 , Sketch var: 0.4281916618347168\n",
      "\n",
      "Actual sketch val: 3.0894644260406494 ,  Sketch est: 3.0409328937530518\n",
      "Overestimate: False\n",
      "Left-hand-side: 3.481793165206909\n",
      "Actual Var: 0.39232873916625977 , Sketch var: 0.4408602714538574\n",
      "\n",
      "Actual sketch val: 3.288404703140259 ,  Sketch est: 3.246305227279663\n",
      "Overestimate: False\n",
      "Left-hand-side: 3.692410945892334\n",
      "Actual Var: 0.4040062427520752 , Sketch var: 0.4461057186126709\n",
      "\n",
      "Actual sketch val: 3.4779562950134277 ,  Sketch est: 3.42987060546875\n",
      "Overestimate: False\n",
      "Left-hand-side: 3.8922855854034424\n",
      "Actual Var: 0.41432929039001465 , Sketch var: 0.4624149799346924\n",
      "\n",
      "Actual sketch val: 3.691106081008911 ,  Sketch est: 3.645251750946045\n",
      "Overestimate: False\n",
      "Left-hand-side: 4.121421813964844\n",
      "Actual Var: 0.4303157329559326 , Sketch var: 0.47617006301879883\n",
      "\n",
      "Actual sketch val: 3.9183502197265625 ,  Sketch est: 3.8888609409332275\n",
      "Overestimate: False\n",
      "Left-hand-side: 4.360494613647461\n",
      "Actual Var: 0.44214439392089844 , Sketch var: 0.4716336727142334\n",
      "\n",
      "Actual sketch val: 4.143339157104492 ,  Sketch est: 4.105282306671143\n",
      "Overestimate: False\n",
      "Left-hand-side: 4.603038787841797\n",
      "Actual Var: 0.4596996307373047 , Sketch var: 0.4977564811706543\n",
      "\n",
      "Actual sketch val: 4.371580123901367 ,  Sketch est: 4.334470272064209\n",
      "Overestimate: False\n",
      "Left-hand-side: 4.84012508392334\n",
      "Actual Var: 0.46854496002197266 , Sketch var: 0.5056548118591309\n",
      "\n",
      "Actual sketch val: 4.610659122467041 ,  Sketch est: 4.565277099609375\n",
      "Overestimate: False\n",
      "Left-hand-side: 5.091826438903809\n",
      "Actual Var: 0.4811673164367676 , Sketch var: 0.5265493392944336\n",
      "\n",
      "Actual sketch val: 4.8407883644104 ,  Sketch est: 4.779366970062256\n",
      "Overestimate: False\n",
      "Left-hand-side: 5.340043544769287\n",
      "Actual Var: 0.4992551803588867 , Sketch var: 0.5606765747070312\n",
      "\n",
      "Actual sketch val: 5.080898284912109 ,  Sketch est: 5.022313594818115\n",
      "Overestimate: False\n",
      "Left-hand-side: 5.599460124969482\n",
      "Actual Var: 0.518561840057373 , Sketch var: 0.5771465301513672\n",
      "\n",
      "Actual sketch val: 5.329916000366211 ,  Sketch est: 5.287412166595459\n",
      "Overestimate: False\n",
      "Left-hand-side: 5.863587379455566\n",
      "Actual Var: 0.5336713790893555 , Sketch var: 0.5761752128601074\n",
      "\n",
      "Actual sketch val: 5.58560848236084 ,  Sketch est: 5.545169353485107\n",
      "Overestimate: False\n",
      "Left-hand-side: 6.130733489990234\n",
      "Actual Var: 0.5451250076293945 , Sketch var: 0.585564136505127\n",
      "\n",
      "Actual sketch val: 5.817251205444336 ,  Sketch est: 5.766844272613525\n",
      "Overestimate: False\n",
      "Left-hand-side: 6.379175662994385\n",
      "Actual Var: 0.5619244575500488 , Sketch var: 0.6123313903808594\n",
      "\n",
      "Actual sketch val: 6.069990158081055 ,  Sketch est: 6.010527610778809\n",
      "Overestimate: False\n",
      "Left-hand-side: 6.653766632080078\n",
      "Actual Var: 0.5837764739990234 , Sketch var: 0.6432390213012695\n",
      "\n",
      "Actual sketch val: 6.359666347503662 ,  Sketch est: 6.287024974822998\n",
      "Overestimate: False\n",
      "Left-hand-side: 6.9574151039123535\n",
      "Actual Var: 0.5977487564086914 , Sketch var: 0.6703901290893555\n",
      "\n",
      "Actual sketch val: 6.598799705505371 ,  Sketch est: 6.529837608337402\n",
      "Overestimate: False\n",
      "Left-hand-side: 7.213656425476074\n",
      "Actual Var: 0.6148567199707031 , Sketch var: 0.6838188171386719\n",
      "\n",
      "Actual sketch val: 6.864752769470215 ,  Sketch est: 6.765303611755371\n",
      "Overestimate: False\n",
      "Left-hand-side: 7.503831386566162\n",
      "Actual Var: 0.6390786170959473 , Sketch var: 0.738527774810791\n",
      "\n",
      "Actual sketch val: 7.133405685424805 ,  Sketch est: 7.005284309387207\n",
      "Overestimate: False\n",
      "Left-hand-side: 7.79531717300415\n",
      "Actual Var: 0.6619114875793457 , Sketch var: 0.7900328636169434\n",
      "\n"
     ]
    },
    {
     "name": "stdout",
     "output_type": "stream",
     "text": [
      "Actual sketch val: 7.415399551391602 ,  Sketch est: 7.277050018310547\n",
      "Overestimate: False\n",
      "Left-hand-side: 8.089664459228516\n",
      "Actual Var: 0.6742649078369141 , Sketch var: 0.8126144409179688\n",
      "\n",
      "Actual sketch val: 7.721380233764648 ,  Sketch est: 7.603107929229736\n",
      "Overestimate: False\n",
      "Left-hand-side: 8.415901184082031\n",
      "Actual Var: 0.6945209503173828 , Sketch var: 0.8127932548522949\n",
      "\n",
      "Actual sketch val: 8.027434349060059 ,  Sketch est: 7.8935699462890625\n",
      "Overestimate: False\n",
      "Left-hand-side: 8.737759590148926\n",
      "Actual Var: 0.7103252410888672 , Sketch var: 0.8441896438598633\n",
      "\n",
      "Actual sketch val: 8.351873397827148 ,  Sketch est: 8.22048282623291\n",
      "Overestimate: False\n",
      "Left-hand-side: 9.07886028289795\n",
      "Actual Var: 0.7269868850708008 , Sketch var: 0.8583774566650391\n",
      "\n"
     ]
    },
    {
     "ename": "KeyboardInterrupt",
     "evalue": "",
     "output_type": "error",
     "traceback": [
      "\u001b[0;31m---------------------------------------------------------------------------\u001b[0m",
      "\u001b[0;31mKeyboardInterrupt\u001b[0m                         Traceback (most recent call last)",
      "Cell \u001b[0;32mIn[69], line 11\u001b[0m\n\u001b[1;32m      6\u001b[0m num_steps \u001b[38;5;241m=\u001b[39m \u001b[38;5;241m0\u001b[39m \u001b[38;5;66;03m# Each step() invocation is a step\u001b[39;00m\n\u001b[1;32m      8\u001b[0m \u001b[38;5;28;01mwhile\u001b[39;00m RTC_holds(S_1, S_2, THETA, NUM_CLIENTS): \u001b[38;5;66;03m# RTC holds, no sync needed\u001b[39;00m\n\u001b[1;32m      9\u001b[0m     \n\u001b[1;32m     10\u001b[0m     \u001b[38;5;66;03m# Perform a training step with the current client_models (no sync yet)\u001b[39;00m\n\u001b[0;32m---> 11\u001b[0m     client_models, client_Delta_i_norm_squared, client_sketches, client_D_i \u001b[38;5;241m=\u001b[39m \u001b[43mstep\u001b[49m\u001b[43m(\u001b[49m\n\u001b[1;32m     12\u001b[0m \u001b[43m        \u001b[49m\u001b[43mlast_sync_client_models\u001b[49m\u001b[43m,\u001b[49m\u001b[43m \u001b[49m\u001b[43mclient_models\u001b[49m\u001b[43m,\u001b[49m\u001b[43m \u001b[49m\u001b[43mclient_C\u001b[49m\u001b[43m,\u001b[49m\u001b[43m \u001b[49m\u001b[43mtrain_federated_data\u001b[49m\n\u001b[1;32m     13\u001b[0m \u001b[43m    \u001b[49m\u001b[43m)\u001b[49m\n\u001b[1;32m     15\u001b[0m     \u001b[38;5;66;03m# Compute 'global state' Approx Variance as defined in the manuscript\u001b[39;00m\n\u001b[1;32m     16\u001b[0m     S_1, S_2 \u001b[38;5;241m=\u001b[39m server_global_state(client_Delta_i_norm_squared, client_sketches)\n",
      "File \u001b[0;32m~/anaconda3/envs/tff-py39/lib/python3.9/site-packages/tensorflow_federated/python/core/impl/computation/computation_impl.py:139\u001b[0m, in \u001b[0;36mConcreteComputation.__call__\u001b[0;34m(self, *args, **kwargs)\u001b[0m\n\u001b[1;32m    137\u001b[0m \u001b[38;5;28;01mdef\u001b[39;00m \u001b[38;5;21m__call__\u001b[39m(\u001b[38;5;28mself\u001b[39m, \u001b[38;5;241m*\u001b[39margs, \u001b[38;5;241m*\u001b[39m\u001b[38;5;241m*\u001b[39mkwargs):\n\u001b[1;32m    138\u001b[0m   arg \u001b[38;5;241m=\u001b[39m function_utils\u001b[38;5;241m.\u001b[39mpack_args(\u001b[38;5;28mself\u001b[39m\u001b[38;5;241m.\u001b[39m_type_signature\u001b[38;5;241m.\u001b[39mparameter, args, kwargs)\n\u001b[0;32m--> 139\u001b[0m   \u001b[38;5;28;01mreturn\u001b[39;00m \u001b[38;5;28;43mself\u001b[39;49m\u001b[38;5;241;43m.\u001b[39;49m\u001b[43m_context_stack\u001b[49m\u001b[38;5;241;43m.\u001b[39;49m\u001b[43mcurrent\u001b[49m\u001b[38;5;241;43m.\u001b[39;49m\u001b[43minvoke\u001b[49m\u001b[43m(\u001b[49m\u001b[38;5;28;43mself\u001b[39;49m\u001b[43m,\u001b[49m\u001b[43m \u001b[49m\u001b[43marg\u001b[49m\u001b[43m)\u001b[49m\n",
      "File \u001b[0;32m~/anaconda3/envs/tff-py39/lib/python3.9/site-packages/tensorflow_federated/python/core/impl/execution_contexts/sync_execution_context.py:65\u001b[0m, in \u001b[0;36mSyncExecutionContext.invoke\u001b[0;34m(self, comp, arg)\u001b[0m\n\u001b[1;32m     64\u001b[0m \u001b[38;5;28;01mdef\u001b[39;00m \u001b[38;5;21minvoke\u001b[39m(\u001b[38;5;28mself\u001b[39m, comp, arg):\n\u001b[0;32m---> 65\u001b[0m   \u001b[38;5;28;01mreturn\u001b[39;00m \u001b[38;5;28;43mself\u001b[39;49m\u001b[38;5;241;43m.\u001b[39;49m\u001b[43m_async_runner\u001b[49m\u001b[38;5;241;43m.\u001b[39;49m\u001b[43mrun_coro_and_return_result\u001b[49m\u001b[43m(\u001b[49m\n\u001b[1;32m     66\u001b[0m \u001b[43m      \u001b[49m\u001b[38;5;28;43mself\u001b[39;49m\u001b[38;5;241;43m.\u001b[39;49m\u001b[43m_async_context\u001b[49m\u001b[38;5;241;43m.\u001b[39;49m\u001b[43minvoke\u001b[49m\u001b[43m(\u001b[49m\u001b[43mcomp\u001b[49m\u001b[43m,\u001b[49m\u001b[43m \u001b[49m\u001b[43marg\u001b[49m\u001b[43m)\u001b[49m\n\u001b[1;32m     67\u001b[0m \u001b[43m  \u001b[49m\u001b[43m)\u001b[49m\n",
      "File \u001b[0;32m~/anaconda3/envs/tff-py39/lib/python3.9/site-packages/tensorflow_federated/python/common_libs/async_utils.py:224\u001b[0m, in \u001b[0;36mAsyncThreadRunner.run_coro_and_return_result\u001b[0;34m(self, coro)\u001b[0m\n\u001b[1;32m    222\u001b[0m \u001b[38;5;124;03m\"\"\"Runs coroutine in the managed event loop, returning the result.\"\"\"\u001b[39;00m\n\u001b[1;32m    223\u001b[0m future \u001b[38;5;241m=\u001b[39m asyncio\u001b[38;5;241m.\u001b[39mrun_coroutine_threadsafe(coro, \u001b[38;5;28mself\u001b[39m\u001b[38;5;241m.\u001b[39m_event_loop)\n\u001b[0;32m--> 224\u001b[0m \u001b[38;5;28;01mreturn\u001b[39;00m \u001b[43mfuture\u001b[49m\u001b[38;5;241;43m.\u001b[39;49m\u001b[43mresult\u001b[49m\u001b[43m(\u001b[49m\u001b[43m)\u001b[49m\n",
      "File \u001b[0;32m~/anaconda3/envs/tff-py39/lib/python3.9/concurrent/futures/_base.py:441\u001b[0m, in \u001b[0;36mFuture.result\u001b[0;34m(self, timeout)\u001b[0m\n\u001b[1;32m    438\u001b[0m \u001b[38;5;28;01melif\u001b[39;00m \u001b[38;5;28mself\u001b[39m\u001b[38;5;241m.\u001b[39m_state \u001b[38;5;241m==\u001b[39m FINISHED:\n\u001b[1;32m    439\u001b[0m     \u001b[38;5;28;01mreturn\u001b[39;00m \u001b[38;5;28mself\u001b[39m\u001b[38;5;241m.\u001b[39m__get_result()\n\u001b[0;32m--> 441\u001b[0m \u001b[38;5;28;43mself\u001b[39;49m\u001b[38;5;241;43m.\u001b[39;49m\u001b[43m_condition\u001b[49m\u001b[38;5;241;43m.\u001b[39;49m\u001b[43mwait\u001b[49m\u001b[43m(\u001b[49m\u001b[43mtimeout\u001b[49m\u001b[43m)\u001b[49m\n\u001b[1;32m    443\u001b[0m \u001b[38;5;28;01mif\u001b[39;00m \u001b[38;5;28mself\u001b[39m\u001b[38;5;241m.\u001b[39m_state \u001b[38;5;129;01min\u001b[39;00m [CANCELLED, CANCELLED_AND_NOTIFIED]:\n\u001b[1;32m    444\u001b[0m     \u001b[38;5;28;01mraise\u001b[39;00m CancelledError()\n",
      "File \u001b[0;32m~/anaconda3/envs/tff-py39/lib/python3.9/threading.py:312\u001b[0m, in \u001b[0;36mCondition.wait\u001b[0;34m(self, timeout)\u001b[0m\n\u001b[1;32m    310\u001b[0m \u001b[38;5;28;01mtry\u001b[39;00m:    \u001b[38;5;66;03m# restore state no matter what (e.g., KeyboardInterrupt)\u001b[39;00m\n\u001b[1;32m    311\u001b[0m     \u001b[38;5;28;01mif\u001b[39;00m timeout \u001b[38;5;129;01mis\u001b[39;00m \u001b[38;5;28;01mNone\u001b[39;00m:\n\u001b[0;32m--> 312\u001b[0m         \u001b[43mwaiter\u001b[49m\u001b[38;5;241;43m.\u001b[39;49m\u001b[43macquire\u001b[49m\u001b[43m(\u001b[49m\u001b[43m)\u001b[49m\n\u001b[1;32m    313\u001b[0m         gotit \u001b[38;5;241m=\u001b[39m \u001b[38;5;28;01mTrue\u001b[39;00m\n\u001b[1;32m    314\u001b[0m     \u001b[38;5;28;01melse\u001b[39;00m:\n",
      "\u001b[0;31mKeyboardInterrupt\u001b[0m: "
     ]
    }
   ],
   "source": [
    "metrics = Metrics('Sketch', NUM_ROUNDS, THETA, NUM_CLIENTS, BATCHES_PER_STEP, BATCH_SIZE, n, d, test_size, width*depth*4)\n",
    "metrics.print_initial_information()\n",
    "\n",
    "for r in range(1, NUM_ROUNDS+1):\n",
    "    \n",
    "    num_steps = 0 # Each step() invocation is a step\n",
    "    \n",
    "    while RTC_holds(S_1, S_2, THETA, NUM_CLIENTS): # RTC holds, no sync needed\n",
    "        \n",
    "        # Perform a training step with the current client_models (no sync yet)\n",
    "        client_models, client_Delta_i_norm_squared, client_sketches, client_D_i = step(\n",
    "            last_sync_client_models, client_models, client_C, train_federated_data\n",
    "        )\n",
    "        \n",
    "        # Compute 'global state' Approx Variance as defined in the manuscript\n",
    "        S_1, S_2 = server_global_state(client_Delta_i_norm_squared, client_sketches)\n",
    "        \n",
    "        client_D_i_tf = tf.constant(client_D_i, shape=(NUM_CLIENTS, d)) # CORR shape=(NUM_CLIENTS, d)\n",
    "        D_i_mean_tf = tf.reduce_mean(client_D_i_tf, axis=0) # CORR shape=(d,)\n",
    "        D_i_mean_euc_sq = tf.reduce_sum(tf.square(D_i_mean_tf)) # CORR (right-hand-side)\n",
    "        \n",
    "        D_i_mean_euc_sq_est = (1/NUM_CLIENTS**2)*estimate_euc_norm_squared(S_2)\n",
    "        \n",
    "        sum_D_i_k = tf.reduce_mean(tf.reduce_sum(tf.square(client_D_i_tf), axis=1)) # CORR (left-hand-side)\n",
    "        \n",
    "        print(f\"Actual sketch val: {D_i_mean_euc_sq} ,  Sketch est: {D_i_mean_euc_sq_est}\")\n",
    "        print(f\"Overestimate: {D_i_mean_euc_sq <= D_i_mean_euc_sq_est}\")\n",
    "        print(f\"Left-hand-side: {sum_D_i_k}\")\n",
    "        print(f\"Actual Var: {sum_D_i_k-D_i_mean_euc_sq} , Sketch var: {sum_D_i_k-D_i_mean_euc_sq_est}\")\n",
    "        print()\n",
    "        \n",
    "        num_steps += 1\n",
    "    \n",
    "    # RTC defied, sync must happen\n",
    "    \n",
    "        \n",
    "    # Update the server model from the client models.\n",
    "    model = server_update(client_models)\n",
    "    \n",
    "    metrics.store_and_print_metrics(r, num_steps, S_1 - (1/NUM_CLIENTS**2)*estimate_euc_norm_squared(S_2), accuracy_fn(model, test_dataset), client_C[0], variance(client_models, [model]*NUM_CLIENTS))\n",
    "    \n",
    "    client_models, last_sync_client_models, S_1, S_2 = [model]*NUM_CLIENTS, [model]*NUM_CLIENTS, tf.zeros(shape=(1,), dtype=tf.float32), tf.zeros(shape=(depth, width), dtype=tf.float32)\n",
    "\n",
    "    \n",
    "metrics.print_aggregate_metrics()"
   ]
  },
  {
   "cell_type": "code",
   "execution_count": null,
   "id": "199db9f8",
   "metadata": {},
   "outputs": [],
   "source": [
    "client_D_i"
   ]
  },
  {
   "cell_type": "code",
   "execution_count": null,
   "id": "a860f9a3",
   "metadata": {},
   "outputs": [],
   "source": [
    "client_sketches"
   ]
  },
  {
   "cell_type": "code",
   "execution_count": null,
   "id": "871d41cd",
   "metadata": {},
   "outputs": [],
   "source": [
    "sk = [sketch_for_vector_fn(v) for v in client_D_i]"
   ]
  },
  {
   "cell_type": "code",
   "execution_count": null,
   "id": "aa4efe6a",
   "metadata": {},
   "outputs": [],
   "source": [
    "(1/NUM_CLIENTS**2) * estimate_euc_norm_squared(sum(sk))"
   ]
  },
  {
   "cell_type": "code",
   "execution_count": null,
   "id": "4f669dfb",
   "metadata": {},
   "outputs": [],
   "source": []
  },
  {
   "cell_type": "code",
   "execution_count": null,
   "id": "45ec978f",
   "metadata": {},
   "outputs": [],
   "source": [
    "(1/NUM_CLIENTS**2)*estimate_euc_norm_squared(sketch_for_vector_fn(sum(client_D_i)))"
   ]
  },
  {
   "cell_type": "code",
   "execution_count": null,
   "id": "91bf7238",
   "metadata": {},
   "outputs": [],
   "source": []
  },
  {
   "cell_type": "code",
   "execution_count": null,
   "id": "0ab50e73",
   "metadata": {},
   "outputs": [],
   "source": [
    "tf_F"
   ]
  },
  {
   "cell_type": "code",
   "execution_count": null,
   "id": "ceb74ef6",
   "metadata": {},
   "outputs": [],
   "source": []
  },
  {
   "cell_type": "code",
   "execution_count": null,
   "id": "17efeb47",
   "metadata": {},
   "outputs": [],
   "source": []
  },
  {
   "cell_type": "code",
   "execution_count": 96,
   "id": "4b2bba94",
   "metadata": {},
   "outputs": [
    {
     "name": "stdout",
     "output_type": "stream",
     "text": [
      "ε = 0.17889  ,  δ = 0.0036475\n",
      "\n",
      "Promise: M(sk(v)) in [0.82111*||v||^2, 1.1789*||v||^2]  w.p. at least 0.99635\n"
     ]
    }
   ],
   "source": [
    "import numpy as np\n",
    "\n",
    "my_depth = 7\n",
    "my_width = 500\n",
    "\n",
    "my_epsilon = 4./np.sqrt(my_width)\n",
    "\n",
    "my_delta = 4./np.exp(my_depth)\n",
    "\n",
    "print(f\"ε = {my_epsilon:<.5}  ,  δ = {my_delta:<.5}\")\n",
    "print()\n",
    "print(f\"Promise: M(sk(v)) in [{1-my_epsilon:<.5}*||v||^2, {1+my_epsilon:<.5}*||v||^2]  w.p. at least {1-my_delta:<.5}\")"
   ]
  },
  {
   "cell_type": "code",
   "execution_count": 94,
   "id": "bd411c3b",
   "metadata": {},
   "outputs": [
    {
     "name": "stdout",
     "output_type": "stream",
     "text": [
      "Promise: ||v||^2 = 8 . Promise : M(sk(v)) in [6.5689, 9.4311]  w.p. at least 0.99635\n"
     ]
    }
   ],
   "source": [
    "l2_norm_example = 8\n",
    "\n",
    "print(f\"Promise: ||v||^2 = {l2_norm_example} . Promise : M(sk(v)) in [{(1-my_epsilon)*l2_norm_example:<.5}, {(1+my_epsilon)*l2_norm_example:<.5}]  w.p. at least {1-my_delta:<.5}\")"
   ]
  },
  {
   "cell_type": "code",
   "execution_count": null,
   "id": "c7a50fc6",
   "metadata": {},
   "outputs": [],
   "source": []
  },
  {
   "cell_type": "code",
   "execution_count": null,
   "id": "66befadc",
   "metadata": {},
   "outputs": [],
   "source": []
  },
  {
   "cell_type": "code",
   "execution_count": null,
   "id": "7e688fd2",
   "metadata": {},
   "outputs": [],
   "source": []
  },
  {
   "cell_type": "code",
   "execution_count": null,
   "id": "e5be0342",
   "metadata": {},
   "outputs": [],
   "source": []
  },
  {
   "cell_type": "code",
   "execution_count": null,
   "id": "be19f6a1",
   "metadata": {},
   "outputs": [],
   "source": []
  },
  {
   "cell_type": "code",
   "execution_count": null,
   "id": "4f1a90bf",
   "metadata": {},
   "outputs": [],
   "source": []
  },
  {
   "cell_type": "code",
   "execution_count": null,
   "id": "138708db",
   "metadata": {},
   "outputs": [],
   "source": []
  },
  {
   "cell_type": "markdown",
   "id": "53342428",
   "metadata": {},
   "source": []
  },
  {
   "cell_type": "code",
   "execution_count": null,
   "id": "d926259b",
   "metadata": {},
   "outputs": [],
   "source": [
    "metrics = Metrics('Sketch', NUM_ROUNDS, THETA, NUM_CLIENTS, BATCHES_PER_STEP, BATCH_SIZE, n, d, test_size, width*depth*4)\n",
    "metrics.print_initial_information()\n",
    "\n",
    "for r in range(1, NUM_ROUNDS+1):\n",
    "    \n",
    "    num_steps = 0 # Each step() invocation is a step\n",
    "    \n",
    "    while RTC_holds(S_1, S_2, THETA, NUM_CLIENTS): # RTC holds, no sync needed\n",
    "        \n",
    "        # Perform a training step with the current client_models (no sync yet)\n",
    "        client_models, client_Delta_i_norm_squared, client_sketches = step(\n",
    "            last_sync_client_models, client_models, client_C, train_federated_data\n",
    "        )\n",
    "        \n",
    "        # Compute 'global state' Approx Variance as defined in the manuscript\n",
    "        S_1, S_2 = server_global_state(client_Delta_i_norm_squared, client_sketches)\n",
    "        \n",
    "        print(f\"Est: {S_1 - (1/NUM_CLIENTS**2)*estimate_euc_norm_squared(S_2)}\")\n",
    "        \n",
    "        num_steps += 1\n",
    "    \n",
    "    # RTC defied, sync must happen\n",
    "    \n",
    "        \n",
    "    # Update the server model from the client models.\n",
    "    model = server_update(client_models)\n",
    "    \n",
    "    metrics.store_and_print_metrics(r, num_steps, S_1 - (1/NUM_CLIENTS**2)*estimate_euc_norm_squared(S_2), accuracy_fn(model, test_dataset), client_C[0], variance(client_models, [model]*NUM_CLIENTS))\n",
    "    \n",
    "    client_models, last_sync_client_models, S_1, S_2 = [model]*NUM_CLIENTS, [model]*NUM_CLIENTS, tf.zeros(shape=(1,), dtype=tf.float32), tf.zeros(shape=(depth, width), dtype=tf.float32)\n",
    "\n",
    "    \n",
    "metrics.print_aggregate_metrics()"
   ]
  },
  {
   "cell_type": "code",
   "execution_count": null,
   "id": "cef1b35e",
   "metadata": {},
   "outputs": [],
   "source": [
    "S_1 - (1/NUM_CLIENTS**2)*estimate_euc_norm_squared(S_2)"
   ]
  },
  {
   "cell_type": "code",
   "execution_count": null,
   "id": "913c7712",
   "metadata": {},
   "outputs": [],
   "source": [
    "(1/NUM_CLIENTS**2)*estimate_euc_norm_squared(S_2)"
   ]
  },
  {
   "cell_type": "code",
   "execution_count": null,
   "id": "5b08d4e3",
   "metadata": {},
   "outputs": [],
   "source": [
    "variance(client_models, [model]*NUM_CLIENTS)"
   ]
  },
  {
   "cell_type": "code",
   "execution_count": null,
   "id": "301b73bc",
   "metadata": {},
   "outputs": [],
   "source": [
    "RTC_holds(S_1, S_2, THETA, NUM_CLIENTS)"
   ]
  },
  {
   "cell_type": "code",
   "execution_count": null,
   "id": "942c5340",
   "metadata": {},
   "outputs": [],
   "source": [
    "S_1"
   ]
  },
  {
   "cell_type": "markdown",
   "id": "29b158bc",
   "metadata": {},
   "source": []
  },
  {
   "cell_type": "markdown",
   "id": "241cf782",
   "metadata": {},
   "source": [
    "\n",
    "2. Comments + Check approach (maybe pass string \"Naive FDA\", unentangle functions)\n",
    "5. Wrap in tff.tf_computation or federated. X nope\n",
    "7. shuffle not random seed so we can compare FDA"
   ]
  },
  {
   "cell_type": "code",
   "execution_count": null,
   "id": "12ad0e19",
   "metadata": {},
   "outputs": [],
   "source": [
    "from sklearn.linear_model import PassiveAggressiveClassifier\n",
    "from sklearn.metrics import accuracy_score\n",
    "\n",
    "EPOCHS = 1000\n",
    "# PA-I regressor from sklearn\n",
    "pa1 = PassiveAggressiveClassifier(C=0.01, loss=\"hinge\", n_jobs=-1, max_iter=EPOCHS)\n",
    "pa1.fit(X_train, y_train)\n",
    "\n",
    "accuracy_score(y_test, pa1.predict(X_test))"
   ]
  },
  {
   "cell_type": "code",
   "execution_count": null,
   "id": "c1c975f9",
   "metadata": {},
   "outputs": [],
   "source": []
  },
  {
   "cell_type": "code",
   "execution_count": null,
   "id": "d0450b76",
   "metadata": {},
   "outputs": [],
   "source": [
    "width*depth*4"
   ]
  },
  {
   "cell_type": "code",
   "execution_count": null,
   "id": "51f89bef",
   "metadata": {},
   "outputs": [],
   "source": []
  }
 ],
 "metadata": {
  "kernelspec": {
   "display_name": "Python [conda env:tff-py39] *",
   "language": "python",
   "name": "conda-env-tff-py39-py"
  },
  "language_info": {
   "codemirror_mode": {
    "name": "ipython",
    "version": 3
   },
   "file_extension": ".py",
   "mimetype": "text/x-python",
   "name": "python",
   "nbconvert_exporter": "python",
   "pygments_lexer": "ipython3",
   "version": "3.9.16"
  }
 },
 "nbformat": 4,
 "nbformat_minor": 5
}
