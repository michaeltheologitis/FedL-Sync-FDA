{
 "cells": [
  {
   "cell_type": "code",
   "execution_count": 2,
   "id": "4cdd60fe",
   "metadata": {},
   "outputs": [],
   "source": [
    "import nest_asyncio\n",
    "nest_asyncio.apply()\n",
    "\n",
    "import os\n",
    "os.environ['TF_CPP_MIN_LOG_LEVEL'] = '3'\n",
    "\n",
    "import tensorflow as tf\n",
    "import tensorflow_federated as tff\n",
    "\n",
    "import numpy as np"
   ]
  },
  {
   "cell_type": "markdown",
   "id": "11b57109",
   "metadata": {},
   "source": [
    "## Showcase Client Federated Data & Processing\n",
    "\n",
    "This is aimed to provide an insight for federated data and operations of federated data, i.e., data that lie in clients and processing that happens on clients (locally)."
   ]
  },
  {
   "cell_type": "markdown",
   "id": "00d4d7ab",
   "metadata": {},
   "source": [
    "Let's start with an example of TF (non-federated, just local) code that takes a dataset and does something with it, say add numbers:"
   ]
  },
  {
   "cell_type": "code",
   "execution_count": null,
   "id": "ebc46e5e",
   "metadata": {},
   "outputs": [],
   "source": [
    "@tff.tf_computation(tff.SequenceType(tf.float32))\n",
    "def process_data(ds):\n",
    "    return ds.reduce(np.float32(0), lambda x, y: x + y)"
   ]
  },
  {
   "cell_type": "markdown",
   "id": "9012fa49",
   "metadata": {},
   "source": [
    "This code takes a dataset of integer numbers at input, and returns a single integer with the sum at output.\n",
    "\n",
    "You can confirm this by lookin at the type signature, like this:"
   ]
  },
  {
   "cell_type": "code",
   "execution_count": null,
   "id": "56aba26d",
   "metadata": {},
   "outputs": [],
   "source": [
    "str(process_data.type_signature)"
   ]
  },
  {
   "cell_type": "markdown",
   "id": "1261973e",
   "metadata": {},
   "source": [
    "So, `process_data` takes a set of integers, and returns an integer."
   ]
  },
  {
   "cell_type": "markdown",
   "id": "145db97d",
   "metadata": {},
   "source": [
    "Now, using TFF's federated operators we can create a federated computation that does this **on multiple clients**, like this:"
   ]
  },
  {
   "cell_type": "code",
   "execution_count": null,
   "id": "75e91427",
   "metadata": {},
   "outputs": [],
   "source": [
    "CLIENT_DATA_TYPE = tff.type_at_clients(tff.SequenceType(tf.float32))"
   ]
  },
  {
   "cell_type": "code",
   "execution_count": null,
   "id": "d3bc3515",
   "metadata": {},
   "outputs": [],
   "source": [
    "str(CLIENT_DATA_TYPE)"
   ]
  },
  {
   "cell_type": "code",
   "execution_count": null,
   "id": "7b5610a4",
   "metadata": {},
   "outputs": [],
   "source": [
    "@tff.federated_computation(CLIENT_DATA_TYPE)\n",
    "def process_data_on_clients(federated_ds):\n",
    "    return tff.federated_map(process_data, federated_ds)"
   ]
  },
  {
   "cell_type": "markdown",
   "id": "e8f5387f",
   "metadata": {},
   "source": [
    "Let's look at the type signature of this computation"
   ]
  },
  {
   "cell_type": "code",
   "execution_count": null,
   "id": "fc4c5d85",
   "metadata": {},
   "outputs": [],
   "source": [
    "str(process_data_on_clients.type_signature)"
   ]
  },
  {
   "cell_type": "markdown",
   "id": "ecf27ca9",
   "metadata": {},
   "source": [
    "This means `process_data_on_clients` takes a federated set of integers (one set per client), and returns a federated integer (one integer with the sum on each client)."
   ]
  },
  {
   "cell_type": "markdown",
   "id": "2f23847a",
   "metadata": {},
   "source": [
    "What happens in the above is that, the TF logic in `process_data` will be **executed once on each client**. This is how the `federated_map` operator works."
   ]
  },
  {
   "cell_type": "markdown",
   "id": "c38f4001",
   "metadata": {},
   "source": [
    "Here's some TF code that creates a single dataset with integers, say you supply an integer $n$ and want to create a dataset with numbers from 1 up to n, i..e, $\\{1, 2, ..., n\\}$:"
   ]
  },
  {
   "cell_type": "code",
   "execution_count": null,
   "id": "a7d3b62d",
   "metadata": {},
   "outputs": [],
   "source": [
    "\n",
    "@tff.tf_computation(tf.float32)\n",
    "def make_data(n):\n",
    "    return tf.data.Dataset \\\n",
    "        .range(tf.cast(n, tf.int64)) \\\n",
    "        .map(lambda x: tf.cast(x + 1, tf.float32))"
   ]
  },
  {
   "cell_type": "markdown",
   "id": "b18e7442",
   "metadata": {},
   "source": [
    "This is obviously a silly example, we could do something more along the lines of what we need (e.g., read data from a file specified by a name, etc.)."
   ]
  },
  {
   "cell_type": "markdown",
   "id": "c13a05a0",
   "metadata": {},
   "source": [
    "And here's what its type signature looks like:"
   ]
  },
  {
   "cell_type": "code",
   "execution_count": null,
   "id": "dea3cfdd",
   "metadata": {},
   "outputs": [],
   "source": [
    "str(make_data.type_signature)"
   ]
  },
  {
   "cell_type": "markdown",
   "id": "8133bf92",
   "metadata": {},
   "source": [
    "We can see the similarity to `process_data`."
   ]
  },
  {
   "cell_type": "markdown",
   "id": "15413acd",
   "metadata": {},
   "source": [
    "And, just like with processing data, here's now we can make data on all clients by using the `federated_map` operator:"
   ]
  },
  {
   "cell_type": "code",
   "execution_count": null,
   "id": "4f9cf7a3",
   "metadata": {},
   "outputs": [],
   "source": [
    "@tff.federated_computation(tff.FederatedType(tf.float32, tff.CLIENTS))\n",
    "def make_data_on_clients(federated_n):\n",
    "    return tff.federated_map(make_data, federated_n)"
   ]
  },
  {
   "cell_type": "markdown",
   "id": "dfbc1c72",
   "metadata": {},
   "source": [
    "This is the type signature:"
   ]
  },
  {
   "cell_type": "code",
   "execution_count": null,
   "id": "2e9d5b63",
   "metadata": {},
   "outputs": [],
   "source": [
    "str(make_data_on_clients.type_signature)"
   ]
  },
  {
   "cell_type": "markdown",
   "id": "2d6f7c72",
   "metadata": {},
   "source": [
    "Great, so `make_data_on_clients` takes a federated integer (that tells us how many data items to produce on each client), and returns a federated dataset, just like what `process_data_on_clients` wants."
   ]
  },
  {
   "cell_type": "markdown",
   "id": "4c3420e7",
   "metadata": {},
   "source": [
    "We can check that the two work together as intended:"
   ]
  },
  {
   "cell_type": "code",
   "execution_count": null,
   "id": "91aeca16",
   "metadata": {},
   "outputs": [],
   "source": [
    "federated_n = [2., 3., 4.]\n",
    "federated_ds = make_data_on_clients(federated_n)\n",
    "result = process_data_on_clients(federated_ds)\n",
    "result"
   ]
  },
  {
   "cell_type": "markdown",
   "id": "f109f6ff",
   "metadata": {},
   "source": [
    "We got the sums 1+2, 1+2+3, and 1+2+3+4 on the 3 clients involved in this computation (note there were 3 numbers in the federated integer above, so there are 3 clients here)"
   ]
  },
  {
   "cell_type": "markdown",
   "id": "d76c4339",
   "metadata": {},
   "source": [
    "In out silly example, dataset construction logic used range, but it can be anything. For example, you could load data on each client from the same local file `my_data`, or using a custom TF op, or by whatever other means. Just like in our example, you we pass parameters to that function to give you more centralized control (similarly to whatever did above with the federated integer)."
   ]
  }
 ],
 "metadata": {
  "kernelspec": {
   "display_name": "Python [conda env:tff-py39] *",
   "language": "python",
   "name": "conda-env-tff-py39-py"
  },
  "language_info": {
   "codemirror_mode": {
    "name": "ipython",
    "version": 3
   },
   "file_extension": ".py",
   "mimetype": "text/x-python",
   "name": "python",
   "nbconvert_exporter": "python",
   "pygments_lexer": "ipython3",
   "version": "3.9.16"
  }
 },
 "nbformat": 4,
 "nbformat_minor": 5
}
