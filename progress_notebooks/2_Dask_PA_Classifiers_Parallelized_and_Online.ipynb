{
 "cells": [
  {
   "cell_type": "markdown",
   "id": "ca44f3c2",
   "metadata": {},
   "source": [
    "**(Make sure you are working in a venv)**"
   ]
  },
  {
   "cell_type": "code",
   "execution_count": 1,
   "id": "b63248c0",
   "metadata": {
    "collapsed": true,
    "jupyter": {
     "outputs_hidden": true
    },
    "tags": []
   },
   "outputs": [
    {
     "name": "stdout",
     "output_type": "stream",
     "text": [
      "Requirement already satisfied: dask[complete] in c:\\users\\miket\\anaconda3\\envs\\tf-212\\lib\\site-packages (2023.4.0)\n",
      "Requirement already satisfied: fsspec>=0.6.0 in c:\\users\\miket\\anaconda3\\envs\\tf-212\\lib\\site-packages (from dask[complete]) (2023.4.0)\n",
      "Requirement already satisfied: click>=7.0 in c:\\users\\miket\\anaconda3\\envs\\tf-212\\lib\\site-packages (from dask[complete]) (8.1.3)\n",
      "Requirement already satisfied: pyyaml>=5.3.1 in c:\\users\\miket\\anaconda3\\envs\\tf-212\\lib\\site-packages (from dask[complete]) (6.0)\n",
      "Requirement already satisfied: packaging>=20.0 in c:\\users\\miket\\anaconda3\\envs\\tf-212\\lib\\site-packages (from dask[complete]) (23.0)\n",
      "Requirement already satisfied: cloudpickle>=1.1.1 in c:\\users\\miket\\anaconda3\\envs\\tf-212\\lib\\site-packages (from dask[complete]) (2.2.1)\n",
      "Requirement already satisfied: importlib-metadata>=4.13.0 in c:\\users\\miket\\anaconda3\\envs\\tf-212\\lib\\site-packages (from dask[complete]) (6.3.0)\n",
      "Requirement already satisfied: toolz>=0.8.2 in c:\\users\\miket\\anaconda3\\envs\\tf-212\\lib\\site-packages (from dask[complete]) (0.12.0)\n",
      "Requirement already satisfied: partd>=1.2.0 in c:\\users\\miket\\anaconda3\\envs\\tf-212\\lib\\site-packages (from dask[complete]) (1.4.0)\n",
      "Requirement already satisfied: pyarrow>=7.0 in c:\\users\\miket\\anaconda3\\envs\\tf-212\\lib\\site-packages (from dask[complete]) (10.0.1)\n",
      "Requirement already satisfied: lz4>=4.3.2 in c:\\users\\miket\\anaconda3\\envs\\tf-212\\lib\\site-packages (from dask[complete]) (4.3.2)\n",
      "Requirement already satisfied: colorama in c:\\users\\miket\\appdata\\roaming\\python\\python39\\site-packages (from click>=7.0->dask[complete]) (0.4.4)\n",
      "Requirement already satisfied: zipp>=0.5 in c:\\users\\miket\\anaconda3\\envs\\tf-212\\lib\\site-packages (from importlib-metadata>=4.13.0->dask[complete]) (3.15.0)\n",
      "Requirement already satisfied: locket in c:\\users\\miket\\anaconda3\\envs\\tf-212\\lib\\site-packages (from partd>=1.2.0->dask[complete]) (1.0.0)\n",
      "Requirement already satisfied: numpy>=1.16.6 in c:\\users\\miket\\anaconda3\\envs\\tf-212\\lib\\site-packages (from pyarrow>=7.0->dask[complete]) (1.23.5)\n",
      "Requirement already satisfied: pandas>=1.3 in c:\\users\\miket\\anaconda3\\envs\\tf-212\\lib\\site-packages (from dask[complete]) (2.0.0)\n",
      "Requirement already satisfied: distributed==2023.4.0 in c:\\users\\miket\\anaconda3\\envs\\tf-212\\lib\\site-packages (from dask[complete]) (2023.4.0)\n",
      "Requirement already satisfied: bokeh>=2.4.2 in c:\\users\\miket\\anaconda3\\envs\\tf-212\\lib\\site-packages (from dask[complete]) (3.1.0)\n",
      "Requirement already satisfied: jinja2>=2.10.3 in c:\\users\\miket\\anaconda3\\envs\\tf-212\\lib\\site-packages (from dask[complete]) (3.1.2)\n",
      "Requirement already satisfied: sortedcontainers>=2.0.5 in c:\\users\\miket\\anaconda3\\envs\\tf-212\\lib\\site-packages (from distributed==2023.4.0->dask[complete]) (2.4.0)\n",
      "Requirement already satisfied: urllib3>=1.24.3 in c:\\users\\miket\\anaconda3\\envs\\tf-212\\lib\\site-packages (from distributed==2023.4.0->dask[complete]) (1.26.15)\n",
      "Requirement already satisfied: psutil>=5.7.0 in c:\\users\\miket\\anaconda3\\envs\\tf-212\\lib\\site-packages (from distributed==2023.4.0->dask[complete]) (5.9.4)\n",
      "Requirement already satisfied: tornado>=6.0.3 in c:\\users\\miket\\anaconda3\\envs\\tf-212\\lib\\site-packages (from distributed==2023.4.0->dask[complete]) (6.2)\n",
      "Requirement already satisfied: tblib>=1.6.0 in c:\\users\\miket\\anaconda3\\envs\\tf-212\\lib\\site-packages (from distributed==2023.4.0->dask[complete]) (1.7.0)\n",
      "Requirement already satisfied: msgpack>=1.0.0 in c:\\users\\miket\\anaconda3\\envs\\tf-212\\lib\\site-packages (from distributed==2023.4.0->dask[complete]) (1.0.5)\n",
      "Requirement already satisfied: zict>=2.2.0 in c:\\users\\miket\\anaconda3\\envs\\tf-212\\lib\\site-packages (from distributed==2023.4.0->dask[complete]) (2.2.0)\n",
      "Requirement already satisfied: pillow>=7.1.0 in c:\\users\\miket\\anaconda3\\envs\\tf-212\\lib\\site-packages (from bokeh>=2.4.2->dask[complete]) (9.4.0)\n",
      "Requirement already satisfied: xyzservices>=2021.09.1 in c:\\users\\miket\\anaconda3\\envs\\tf-212\\lib\\site-packages (from bokeh>=2.4.2->dask[complete]) (2023.2.0)\n",
      "Requirement already satisfied: contourpy>=1 in c:\\users\\miket\\anaconda3\\envs\\tf-212\\lib\\site-packages (from bokeh>=2.4.2->dask[complete]) (1.0.7)\n",
      "Requirement already satisfied: MarkupSafe>=2.0 in c:\\users\\miket\\anaconda3\\envs\\tf-212\\lib\\site-packages (from jinja2>=2.10.3->dask[complete]) (2.1.2)\n",
      "Requirement already satisfied: tzdata>=2022.1 in c:\\users\\miket\\anaconda3\\envs\\tf-212\\lib\\site-packages (from pandas>=1.3->dask[complete]) (2023.3)\n",
      "Requirement already satisfied: pytz>=2020.1 in c:\\users\\miket\\anaconda3\\envs\\tf-212\\lib\\site-packages (from pandas>=1.3->dask[complete]) (2023.3)\n",
      "Requirement already satisfied: python-dateutil>=2.8.2 in c:\\users\\miket\\anaconda3\\envs\\tf-212\\lib\\site-packages (from pandas>=1.3->dask[complete]) (2.8.2)\n",
      "Requirement already satisfied: six>=1.5 in c:\\users\\miket\\appdata\\roaming\\python\\python39\\site-packages (from python-dateutil>=2.8.2->pandas>=1.3->dask[complete]) (1.15.0)\n",
      "Requirement already satisfied: heapdict in c:\\users\\miket\\anaconda3\\envs\\tf-212\\lib\\site-packages (from zict>=2.2.0->distributed==2023.4.0->dask[complete]) (1.0.1)\n"
     ]
    }
   ],
   "source": [
    "# Install dask in the current Jupyter kernel\n",
    "!python -m pip install \"dask[complete]\""
   ]
  },
  {
   "cell_type": "code",
   "execution_count": 2,
   "id": "135905c7",
   "metadata": {
    "collapsed": true,
    "jupyter": {
     "outputs_hidden": true,
     "source_hidden": true
    },
    "tags": []
   },
   "outputs": [
    {
     "name": "stdout",
     "output_type": "stream",
     "text": [
      "Collecting dask-ml\n",
      "  Downloading dask_ml-2023.3.24-py3-none-any.whl (148 kB)\n",
      "     ---------------------------------------- 0.0/148.7 kB ? eta -:--:--\n",
      "     -------- ------------------------------ 30.7/148.7 kB 1.4 MB/s eta 0:00:01\n",
      "     -------------------------- ----------- 102.4/148.7 kB 1.2 MB/s eta 0:00:01\n",
      "     -------------------------------------- 148.7/148.7 kB 1.1 MB/s eta 0:00:00\n",
      "Collecting multipledispatch>=0.4.9\n",
      "  Using cached multipledispatch-0.6.0-py3-none-any.whl (11 kB)\n",
      "Collecting dask-glm>=0.2.0\n",
      "  Using cached dask_glm-0.2.0-py2.py3-none-any.whl (12 kB)\n",
      "Requirement already satisfied: distributed>=2.4.0 in c:\\users\\miket\\anaconda3\\envs\\tf-212\\lib\\site-packages (from dask-ml) (2023.4.0)\n",
      "Requirement already satisfied: numpy>=1.20.0 in c:\\users\\miket\\anaconda3\\envs\\tf-212\\lib\\site-packages (from dask-ml) (1.24.2)\n",
      "Collecting scikit-learn>=1.2.0\n",
      "  Downloading scikit_learn-1.2.2-cp39-cp39-win_amd64.whl (8.4 MB)\n",
      "     ---------------------------------------- 0.0/8.4 MB ? eta -:--:--\n",
      "      --------------------------------------- 0.1/8.4 MB 6.4 MB/s eta 0:00:02\n",
      "     - -------------------------------------- 0.2/8.4 MB 3.6 MB/s eta 0:00:03\n",
      "     - -------------------------------------- 0.3/8.4 MB 3.0 MB/s eta 0:00:03\n",
      "     -- ------------------------------------- 0.5/8.4 MB 3.0 MB/s eta 0:00:03\n",
      "     --- ------------------------------------ 0.7/8.4 MB 3.3 MB/s eta 0:00:03\n",
      "     ---- ----------------------------------- 0.8/8.4 MB 3.3 MB/s eta 0:00:03\n",
      "     ---- ----------------------------------- 0.8/8.4 MB 3.3 MB/s eta 0:00:03\n",
      "     ---- ----------------------------------- 0.9/8.4 MB 2.4 MB/s eta 0:00:04\n",
      "     ------ --------------------------------- 1.3/8.4 MB 3.1 MB/s eta 0:00:03\n",
      "     ------ --------------------------------- 1.4/8.4 MB 3.1 MB/s eta 0:00:03\n",
      "     --------- ------------------------------ 1.9/8.4 MB 3.8 MB/s eta 0:00:02\n",
      "     ---------- ----------------------------- 2.1/8.4 MB 3.8 MB/s eta 0:00:02\n",
      "     ----------- ---------------------------- 2.3/8.4 MB 3.9 MB/s eta 0:00:02\n",
      "     ----------- ---------------------------- 2.5/8.4 MB 3.9 MB/s eta 0:00:02\n",
      "     ------------ --------------------------- 2.7/8.4 MB 3.9 MB/s eta 0:00:02\n",
      "     ------------- -------------------------- 2.9/8.4 MB 3.9 MB/s eta 0:00:02\n",
      "     -------------- ------------------------- 3.1/8.4 MB 3.9 MB/s eta 0:00:02\n",
      "     --------------- ------------------------ 3.3/8.4 MB 3.9 MB/s eta 0:00:02\n",
      "     ---------------- ----------------------- 3.5/8.4 MB 3.9 MB/s eta 0:00:02\n",
      "     ----------------- ---------------------- 3.6/8.4 MB 3.9 MB/s eta 0:00:02\n",
      "     ------------------ --------------------- 3.8/8.4 MB 4.0 MB/s eta 0:00:02\n",
      "     ------------------- -------------------- 4.0/8.4 MB 4.0 MB/s eta 0:00:02\n",
      "     -------------------- ------------------- 4.2/8.4 MB 4.0 MB/s eta 0:00:02\n",
      "     --------------------- ------------------ 4.4/8.4 MB 4.0 MB/s eta 0:00:01\n",
      "     ---------------------- ----------------- 4.6/8.4 MB 4.0 MB/s eta 0:00:01\n",
      "     ---------------------- ----------------- 4.8/8.4 MB 4.0 MB/s eta 0:00:01\n",
      "     ----------------------- ---------------- 5.0/8.4 MB 4.0 MB/s eta 0:00:01\n",
      "     ------------------------ --------------- 5.2/8.4 MB 4.0 MB/s eta 0:00:01\n",
      "     ------------------------- -------------- 5.4/8.4 MB 4.0 MB/s eta 0:00:01\n",
      "     -------------------------- ------------- 5.6/8.4 MB 4.0 MB/s eta 0:00:01\n",
      "     --------------------------- ------------ 5.8/8.4 MB 4.0 MB/s eta 0:00:01\n",
      "     ---------------------------- ----------- 6.0/8.4 MB 4.0 MB/s eta 0:00:01\n",
      "     ----------------------------- ---------- 6.2/8.4 MB 4.0 MB/s eta 0:00:01\n",
      "     ------------------------------ --------- 6.4/8.4 MB 4.0 MB/s eta 0:00:01\n",
      "     ------------------------------- -------- 6.6/8.4 MB 4.0 MB/s eta 0:00:01\n",
      "     -------------------------------- ------- 6.8/8.4 MB 4.0 MB/s eta 0:00:01\n",
      "     --------------------------------- ------ 7.0/8.4 MB 4.0 MB/s eta 0:00:01\n",
      "     ---------------------------------- ----- 7.1/8.4 MB 4.0 MB/s eta 0:00:01\n",
      "     ----------------------------------- ---- 7.4/8.4 MB 4.0 MB/s eta 0:00:01\n",
      "     ------------------------------------ --- 7.6/8.4 MB 4.0 MB/s eta 0:00:01\n",
      "     ------------------------------------- -- 7.8/8.4 MB 4.0 MB/s eta 0:00:01\n",
      "     -------------------------------------- - 8.0/8.4 MB 4.1 MB/s eta 0:00:01\n",
      "     ---------------------------------------  8.2/8.4 MB 4.0 MB/s eta 0:00:01\n",
      "     ---------------------------------------  8.4/8.4 MB 4.1 MB/s eta 0:00:01\n",
      "     ---------------------------------------- 8.4/8.4 MB 3.9 MB/s eta 0:00:00\n",
      "Requirement already satisfied: scipy in c:\\users\\miket\\anaconda3\\envs\\tf-212\\lib\\site-packages (from dask-ml) (1.10.1)\n",
      "Collecting numba>=0.51.0\n",
      "  Downloading numba-0.56.4-cp39-cp39-win_amd64.whl (2.5 MB)\n",
      "     ---------------------------------------- 0.0/2.5 MB ? eta -:--:--\n",
      "     --- ------------------------------------ 0.2/2.5 MB 5.9 MB/s eta 0:00:01\n",
      "     ------ --------------------------------- 0.4/2.5 MB 4.9 MB/s eta 0:00:01\n",
      "     --------- ------------------------------ 0.6/2.5 MB 4.5 MB/s eta 0:00:01\n",
      "     ------------ --------------------------- 0.8/2.5 MB 4.5 MB/s eta 0:00:01\n",
      "     --------------- ------------------------ 1.0/2.5 MB 4.3 MB/s eta 0:00:01\n",
      "     ------------------ --------------------- 1.1/2.5 MB 4.3 MB/s eta 0:00:01\n",
      "     --------------------- ------------------ 1.3/2.5 MB 4.2 MB/s eta 0:00:01\n",
      "     ------------------------ --------------- 1.5/2.5 MB 4.2 MB/s eta 0:00:01\n",
      "     ---------------------------- ----------- 1.7/2.5 MB 4.2 MB/s eta 0:00:01\n",
      "     ------------------------------- -------- 1.9/2.5 MB 4.2 MB/s eta 0:00:01\n",
      "     ---------------------------------- ----- 2.1/2.5 MB 4.2 MB/s eta 0:00:01\n",
      "     ------------------------------------- -- 2.3/2.5 MB 4.2 MB/s eta 0:00:01\n",
      "     ---------------------------------------  2.4/2.5 MB 4.1 MB/s eta 0:00:01\n",
      "     ---------------------------------------- 2.5/2.5 MB 3.8 MB/s eta 0:00:00\n",
      "Requirement already satisfied: pandas>=0.24.2 in c:\\users\\miket\\anaconda3\\envs\\tf-212\\lib\\site-packages (from dask-ml) (2.0.0)\n",
      "Requirement already satisfied: packaging in c:\\users\\miket\\anaconda3\\envs\\tf-212\\lib\\site-packages (from dask-ml) (23.0)\n",
      "Requirement already satisfied: dask[array,dataframe]>=2.4.0 in c:\\users\\miket\\anaconda3\\envs\\tf-212\\lib\\site-packages (from dask-ml) (2023.4.0)\n",
      "Requirement already satisfied: cloudpickle>=0.2.2 in c:\\users\\miket\\anaconda3\\envs\\tf-212\\lib\\site-packages (from dask-glm>=0.2.0->dask-ml) (2.2.1)\n",
      "Requirement already satisfied: pyyaml>=5.3.1 in c:\\users\\miket\\anaconda3\\envs\\tf-212\\lib\\site-packages (from dask[array,dataframe]>=2.4.0->dask-ml) (6.0)\n",
      "Requirement already satisfied: fsspec>=0.6.0 in c:\\users\\miket\\anaconda3\\envs\\tf-212\\lib\\site-packages (from dask[array,dataframe]>=2.4.0->dask-ml) (2023.4.0)\n",
      "Requirement already satisfied: click>=7.0 in c:\\users\\miket\\anaconda3\\envs\\tf-212\\lib\\site-packages (from dask[array,dataframe]>=2.4.0->dask-ml) (8.1.3)\n",
      "Requirement already satisfied: toolz>=0.8.2 in c:\\users\\miket\\anaconda3\\envs\\tf-212\\lib\\site-packages (from dask[array,dataframe]>=2.4.0->dask-ml) (0.12.0)\n",
      "Requirement already satisfied: importlib-metadata>=4.13.0 in c:\\users\\miket\\anaconda3\\envs\\tf-212\\lib\\site-packages (from dask[array,dataframe]>=2.4.0->dask-ml) (6.3.0)\n",
      "Requirement already satisfied: partd>=1.2.0 in c:\\users\\miket\\anaconda3\\envs\\tf-212\\lib\\site-packages (from dask[array,dataframe]>=2.4.0->dask-ml) (1.4.0)\n",
      "Requirement already satisfied: locket>=1.0.0 in c:\\users\\miket\\anaconda3\\envs\\tf-212\\lib\\site-packages (from distributed>=2.4.0->dask-ml) (1.0.0)\n",
      "Requirement already satisfied: jinja2>=2.10.3 in c:\\users\\miket\\anaconda3\\envs\\tf-212\\lib\\site-packages (from distributed>=2.4.0->dask-ml) (3.1.2)\n",
      "Requirement already satisfied: msgpack>=1.0.0 in c:\\users\\miket\\anaconda3\\envs\\tf-212\\lib\\site-packages (from distributed>=2.4.0->dask-ml) (1.0.5)\n",
      "Requirement already satisfied: psutil>=5.7.0 in c:\\users\\miket\\anaconda3\\envs\\tf-212\\lib\\site-packages (from distributed>=2.4.0->dask-ml) (5.9.4)\n",
      "Requirement already satisfied: sortedcontainers>=2.0.5 in c:\\users\\miket\\anaconda3\\envs\\tf-212\\lib\\site-packages (from distributed>=2.4.0->dask-ml) (2.4.0)\n",
      "Requirement already satisfied: tblib>=1.6.0 in c:\\users\\miket\\anaconda3\\envs\\tf-212\\lib\\site-packages (from distributed>=2.4.0->dask-ml) (1.7.0)\n",
      "Requirement already satisfied: urllib3>=1.24.3 in c:\\users\\miket\\anaconda3\\envs\\tf-212\\lib\\site-packages (from distributed>=2.4.0->dask-ml) (1.26.15)\n",
      "Requirement already satisfied: zict>=2.2.0 in c:\\users\\miket\\anaconda3\\envs\\tf-212\\lib\\site-packages (from distributed>=2.4.0->dask-ml) (2.2.0)\n",
      "Requirement already satisfied: tornado>=6.0.3 in c:\\users\\miket\\anaconda3\\envs\\tf-212\\lib\\site-packages (from distributed>=2.4.0->dask-ml) (6.2)\n",
      "Requirement already satisfied: six in c:\\users\\miket\\appdata\\roaming\\python\\python39\\site-packages (from multipledispatch>=0.4.9->dask-ml) (1.15.0)\n",
      "Requirement already satisfied: setuptools in c:\\users\\miket\\anaconda3\\envs\\tf-212\\lib\\site-packages (from numba>=0.51.0->dask-ml) (67.6.1)\n",
      "Collecting numpy>=1.20.0\n",
      "  Using cached numpy-1.23.5-cp39-cp39-win_amd64.whl (14.7 MB)\n",
      "Collecting llvmlite<0.40,>=0.39.0dev0\n",
      "  Downloading llvmlite-0.39.1-cp39-cp39-win_amd64.whl (23.2 MB)\n",
      "     ---------------------------------------- 0.0/23.2 MB ? eta -:--:--\n",
      "     ---------------------------------------- 0.1/23.2 MB 4.3 MB/s eta 0:00:06\n",
      "      --------------------------------------- 0.3/23.2 MB 4.1 MB/s eta 0:00:06\n",
      "      --------------------------------------- 0.5/23.2 MB 4.1 MB/s eta 0:00:06\n",
      "     - -------------------------------------- 0.7/23.2 MB 4.1 MB/s eta 0:00:06\n",
      "     - -------------------------------------- 0.9/23.2 MB 4.2 MB/s eta 0:00:06\n",
      "     - -------------------------------------- 1.1/23.2 MB 4.1 MB/s eta 0:00:06\n",
      "     -- ------------------------------------- 1.3/23.2 MB 4.1 MB/s eta 0:00:06\n",
      "     -- ------------------------------------- 1.5/23.2 MB 4.1 MB/s eta 0:00:06\n",
      "     -- ------------------------------------- 1.7/23.2 MB 4.3 MB/s eta 0:00:06\n",
      "     --- ------------------------------------ 1.9/23.2 MB 4.3 MB/s eta 0:00:05\n",
      "     --- ------------------------------------ 2.1/23.2 MB 4.3 MB/s eta 0:00:05\n",
      "     --- ------------------------------------ 2.3/23.2 MB 4.3 MB/s eta 0:00:05\n",
      "     ---- ----------------------------------- 2.5/23.2 MB 4.2 MB/s eta 0:00:05\n",
      "     ---- ----------------------------------- 2.7/23.2 MB 4.1 MB/s eta 0:00:05\n",
      "     ---- ----------------------------------- 2.9/23.2 MB 4.1 MB/s eta 0:00:06\n",
      "     ----- ---------------------------------- 3.0/23.2 MB 4.1 MB/s eta 0:00:05\n",
      "     ----- ---------------------------------- 3.2/23.2 MB 4.1 MB/s eta 0:00:05\n",
      "     ----- ---------------------------------- 3.4/23.2 MB 4.1 MB/s eta 0:00:05\n",
      "     ------ --------------------------------- 3.6/23.2 MB 4.1 MB/s eta 0:00:05\n",
      "     ------ --------------------------------- 3.8/23.2 MB 4.1 MB/s eta 0:00:05\n",
      "     ------ --------------------------------- 4.0/23.2 MB 4.1 MB/s eta 0:00:05\n",
      "     ------- -------------------------------- 4.2/23.2 MB 4.1 MB/s eta 0:00:05\n",
      "     ------- -------------------------------- 4.4/23.2 MB 4.1 MB/s eta 0:00:05\n",
      "     ------- -------------------------------- 4.5/23.2 MB 4.1 MB/s eta 0:00:05\n",
      "     -------- ------------------------------- 4.7/23.2 MB 4.1 MB/s eta 0:00:05\n",
      "     -------- ------------------------------- 4.9/23.2 MB 4.2 MB/s eta 0:00:05\n",
      "     -------- ------------------------------- 5.0/23.2 MB 4.1 MB/s eta 0:00:05\n",
      "     -------- ------------------------------- 5.2/23.2 MB 4.1 MB/s eta 0:00:05\n",
      "     --------- ------------------------------ 5.4/23.2 MB 4.1 MB/s eta 0:00:05\n",
      "     --------- ------------------------------ 5.6/23.2 MB 4.1 MB/s eta 0:00:05\n",
      "     ---------- ----------------------------- 5.8/23.2 MB 4.1 MB/s eta 0:00:05\n",
      "     ---------- ----------------------------- 6.0/23.2 MB 4.1 MB/s eta 0:00:05\n",
      "     ---------- ----------------------------- 6.2/23.2 MB 4.1 MB/s eta 0:00:05\n",
      "     ----------- ---------------------------- 6.4/23.2 MB 4.1 MB/s eta 0:00:05\n",
      "     ----------- ---------------------------- 6.6/23.2 MB 4.1 MB/s eta 0:00:05\n",
      "     ----------- ---------------------------- 6.8/23.2 MB 4.1 MB/s eta 0:00:04\n",
      "     ------------ --------------------------- 7.0/23.2 MB 4.1 MB/s eta 0:00:04\n",
      "     ------------ --------------------------- 7.2/23.2 MB 4.1 MB/s eta 0:00:04\n",
      "     ------------ --------------------------- 7.4/23.2 MB 4.1 MB/s eta 0:00:04\n",
      "     ------------- -------------------------- 7.6/23.2 MB 4.1 MB/s eta 0:00:04\n",
      "     ------------- -------------------------- 7.8/23.2 MB 4.1 MB/s eta 0:00:04\n",
      "     ------------- -------------------------- 7.9/23.2 MB 4.1 MB/s eta 0:00:04\n",
      "     ------------- -------------------------- 8.1/23.2 MB 4.1 MB/s eta 0:00:04\n",
      "     -------------- ------------------------- 8.3/23.2 MB 4.1 MB/s eta 0:00:04\n",
      "     -------------- ------------------------- 8.5/23.2 MB 4.1 MB/s eta 0:00:04\n",
      "     -------------- ------------------------- 8.7/23.2 MB 4.1 MB/s eta 0:00:04\n",
      "     --------------- ------------------------ 8.9/23.2 MB 4.1 MB/s eta 0:00:04\n",
      "     --------------- ------------------------ 9.1/23.2 MB 4.1 MB/s eta 0:00:04\n",
      "     --------------- ------------------------ 9.3/23.2 MB 4.1 MB/s eta 0:00:04\n",
      "     ---------------- ----------------------- 9.5/23.2 MB 4.1 MB/s eta 0:00:04\n",
      "     ---------------- ----------------------- 9.7/23.2 MB 4.1 MB/s eta 0:00:04\n",
      "     ----------------- ---------------------- 9.9/23.2 MB 4.1 MB/s eta 0:00:04\n",
      "     ----------------- ---------------------- 10.1/23.2 MB 4.1 MB/s eta 0:00:04\n",
      "     ----------------- ---------------------- 10.3/23.2 MB 4.1 MB/s eta 0:00:04\n",
      "     ------------------ --------------------- 10.5/23.2 MB 4.1 MB/s eta 0:00:04\n",
      "     ------------------ --------------------- 10.7/23.2 MB 4.1 MB/s eta 0:00:04\n",
      "     ------------------ --------------------- 10.9/23.2 MB 4.1 MB/s eta 0:00:03\n",
      "     ------------------- -------------------- 11.1/23.2 MB 4.1 MB/s eta 0:00:03\n",
      "     ------------------- -------------------- 11.2/23.2 MB 4.1 MB/s eta 0:00:03\n",
      "     ------------------- -------------------- 11.4/23.2 MB 4.1 MB/s eta 0:00:03\n",
      "     -------------------- ------------------- 11.6/23.2 MB 4.1 MB/s eta 0:00:03\n",
      "     -------------------- ------------------- 11.8/23.2 MB 4.1 MB/s eta 0:00:03\n",
      "     -------------------- ------------------- 12.0/23.2 MB 4.1 MB/s eta 0:00:03\n",
      "     --------------------- ------------------ 12.2/23.2 MB 4.1 MB/s eta 0:00:03\n",
      "     --------------------- ------------------ 12.4/23.2 MB 4.1 MB/s eta 0:00:03\n",
      "     --------------------- ------------------ 12.6/23.2 MB 4.1 MB/s eta 0:00:03\n",
      "     ---------------------- ----------------- 12.8/23.2 MB 4.1 MB/s eta 0:00:03\n",
      "     ---------------------- ----------------- 13.0/23.2 MB 4.1 MB/s eta 0:00:03\n",
      "     ---------------------- ----------------- 13.2/23.2 MB 4.1 MB/s eta 0:00:03\n",
      "     ----------------------- ---------------- 13.4/23.2 MB 4.1 MB/s eta 0:00:03\n",
      "     ----------------------- ---------------- 13.6/23.2 MB 4.1 MB/s eta 0:00:03\n",
      "     ----------------------- ---------------- 13.8/23.2 MB 4.1 MB/s eta 0:00:03\n",
      "     ------------------------ --------------- 14.0/23.2 MB 4.1 MB/s eta 0:00:03\n",
      "     ------------------------ --------------- 14.2/23.2 MB 4.1 MB/s eta 0:00:03\n",
      "     ------------------------ --------------- 14.3/23.2 MB 4.1 MB/s eta 0:00:03\n",
      "     ------------------------- -------------- 14.5/23.2 MB 4.1 MB/s eta 0:00:03\n",
      "     ------------------------- -------------- 14.7/23.2 MB 4.1 MB/s eta 0:00:03\n",
      "     ------------------------- -------------- 14.9/23.2 MB 4.1 MB/s eta 0:00:03\n",
      "     -------------------------- ------------- 15.1/23.2 MB 4.1 MB/s eta 0:00:02\n",
      "     -------------------------- ------------- 15.3/23.2 MB 4.1 MB/s eta 0:00:02\n",
      "     -------------------------- ------------- 15.5/23.2 MB 4.1 MB/s eta 0:00:02\n",
      "     -------------------------- ------------- 15.6/23.2 MB 4.1 MB/s eta 0:00:02\n",
      "     --------------------------- ------------ 15.8/23.2 MB 4.1 MB/s eta 0:00:02\n",
      "     --------------------------- ------------ 16.0/23.2 MB 4.1 MB/s eta 0:00:02\n",
      "     --------------------------- ------------ 16.2/23.2 MB 4.1 MB/s eta 0:00:02\n",
      "     ---------------------------- ----------- 16.4/23.2 MB 4.1 MB/s eta 0:00:02\n",
      "     ---------------------------- ----------- 16.6/23.2 MB 4.1 MB/s eta 0:00:02\n",
      "     ---------------------------- ----------- 16.8/23.2 MB 4.1 MB/s eta 0:00:02\n",
      "     ----------------------------- ---------- 17.0/23.2 MB 4.1 MB/s eta 0:00:02\n",
      "     ----------------------------- ---------- 17.2/23.2 MB 4.1 MB/s eta 0:00:02\n",
      "     ----------------------------- ---------- 17.4/23.2 MB 4.1 MB/s eta 0:00:02\n",
      "     ------------------------------ --------- 17.6/23.2 MB 4.1 MB/s eta 0:00:02\n",
      "     ------------------------------ --------- 17.8/23.2 MB 4.1 MB/s eta 0:00:02\n",
      "     ------------------------------ --------- 18.0/23.2 MB 4.1 MB/s eta 0:00:02\n",
      "     ------------------------------- -------- 18.2/23.2 MB 4.1 MB/s eta 0:00:02\n",
      "     ------------------------------- -------- 18.4/23.2 MB 4.1 MB/s eta 0:00:02\n",
      "     -------------------------------- ------- 18.6/23.2 MB 4.1 MB/s eta 0:00:02\n",
      "     -------------------------------- ------- 18.8/23.2 MB 4.1 MB/s eta 0:00:02\n",
      "     -------------------------------- ------- 19.0/23.2 MB 4.1 MB/s eta 0:00:02\n",
      "     -------------------------------- ------- 19.1/23.2 MB 4.1 MB/s eta 0:00:02\n",
      "     --------------------------------- ------ 19.3/23.2 MB 4.1 MB/s eta 0:00:01\n",
      "     --------------------------------- ------ 19.5/23.2 MB 4.1 MB/s eta 0:00:01\n",
      "     --------------------------------- ------ 19.7/23.2 MB 4.1 MB/s eta 0:00:01\n",
      "     ---------------------------------- ----- 19.9/23.2 MB 4.1 MB/s eta 0:00:01\n",
      "     ---------------------------------- ----- 20.1/23.2 MB 4.1 MB/s eta 0:00:01\n",
      "     ---------------------------------- ----- 20.3/23.2 MB 4.1 MB/s eta 0:00:01\n",
      "     ----------------------------------- ---- 20.5/23.2 MB 4.1 MB/s eta 0:00:01\n",
      "     ----------------------------------- ---- 20.7/23.2 MB 4.1 MB/s eta 0:00:01\n",
      "     ----------------------------------- ---- 20.8/23.2 MB 4.1 MB/s eta 0:00:01\n",
      "     ------------------------------------ --- 21.0/23.2 MB 4.1 MB/s eta 0:00:01\n",
      "     ------------------------------------ --- 21.2/23.2 MB 4.1 MB/s eta 0:00:01\n",
      "     ------------------------------------ --- 21.4/23.2 MB 4.1 MB/s eta 0:00:01\n",
      "     ------------------------------------- -- 21.6/23.2 MB 4.1 MB/s eta 0:00:01\n",
      "     ------------------------------------- -- 21.8/23.2 MB 4.1 MB/s eta 0:00:01\n",
      "     ------------------------------------- -- 22.0/23.2 MB 4.1 MB/s eta 0:00:01\n",
      "     -------------------------------------- - 22.2/23.2 MB 4.1 MB/s eta 0:00:01\n",
      "     -------------------------------------- - 22.4/23.2 MB 4.1 MB/s eta 0:00:01\n",
      "     -------------------------------------- - 22.6/23.2 MB 4.1 MB/s eta 0:00:01\n",
      "     ---------------------------------------  22.8/23.2 MB 4.1 MB/s eta 0:00:01\n",
      "     ---------------------------------------  23.0/23.2 MB 4.1 MB/s eta 0:00:01\n",
      "     ---------------------------------------  23.2/23.2 MB 4.1 MB/s eta 0:00:01\n",
      "     ---------------------------------------  23.2/23.2 MB 4.1 MB/s eta 0:00:01\n",
      "     ---------------------------------------  23.2/23.2 MB 4.1 MB/s eta 0:00:01\n",
      "     ---------------------------------------- 23.2/23.2 MB 3.9 MB/s eta 0:00:00\n",
      "Requirement already satisfied: pytz>=2020.1 in c:\\users\\miket\\anaconda3\\envs\\tf-212\\lib\\site-packages (from pandas>=0.24.2->dask-ml) (2023.3)\n",
      "Requirement already satisfied: tzdata>=2022.1 in c:\\users\\miket\\anaconda3\\envs\\tf-212\\lib\\site-packages (from pandas>=0.24.2->dask-ml) (2023.3)\n",
      "Requirement already satisfied: python-dateutil>=2.8.2 in c:\\users\\miket\\anaconda3\\envs\\tf-212\\lib\\site-packages (from pandas>=0.24.2->dask-ml) (2.8.2)\n",
      "Collecting threadpoolctl>=2.0.0\n",
      "  Using cached threadpoolctl-3.1.0-py3-none-any.whl (14 kB)\n",
      "Collecting joblib>=1.1.1\n",
      "  Using cached joblib-1.2.0-py3-none-any.whl (297 kB)\n",
      "Requirement already satisfied: colorama in c:\\users\\miket\\appdata\\roaming\\python\\python39\\site-packages (from click>=7.0->dask[array,dataframe]>=2.4.0->dask-ml) (0.4.4)\n",
      "Requirement already satisfied: zipp>=0.5 in c:\\users\\miket\\anaconda3\\envs\\tf-212\\lib\\site-packages (from importlib-metadata>=4.13.0->dask[array,dataframe]>=2.4.0->dask-ml) (3.15.0)\n",
      "Requirement already satisfied: MarkupSafe>=2.0 in c:\\users\\miket\\anaconda3\\envs\\tf-212\\lib\\site-packages (from jinja2>=2.10.3->distributed>=2.4.0->dask-ml) (2.1.2)\n",
      "Requirement already satisfied: heapdict in c:\\users\\miket\\anaconda3\\envs\\tf-212\\lib\\site-packages (from zict>=2.2.0->distributed>=2.4.0->dask-ml) (1.0.1)\n",
      "Installing collected packages: threadpoolctl, numpy, multipledispatch, llvmlite, joblib, numba, scikit-learn, dask-glm, dask-ml\n",
      "  Attempting uninstall: numpy\n",
      "    Found existing installation: numpy 1.24.2\n",
      "    Uninstalling numpy-1.24.2:\n",
      "      Successfully uninstalled numpy-1.24.2\n",
      "Successfully installed dask-glm-0.2.0 dask-ml-2023.3.24 joblib-1.2.0 llvmlite-0.39.1 multipledispatch-0.6.0 numba-0.56.4 numpy-1.23.5 scikit-learn-1.2.2 threadpoolctl-3.1.0\n"
     ]
    },
    {
     "name": "stderr",
     "output_type": "stream",
     "text": [
      "ERROR: pip's dependency resolver does not currently take into account all the packages that are installed. This behaviour is the source of the following dependency conflicts.\n",
      "tensorflow 2.10.0 requires protobuf<3.20,>=3.9.2, but you have protobuf 3.20.3 which is incompatible.\n",
      "tensorflow 2.10.0 requires tensorflow-estimator<2.11,>=2.10.0, but you have tensorflow-estimator 2.12.0 which is incompatible.\n",
      "tensorboard 2.10.0 requires protobuf<3.20,>=3.9.2, but you have protobuf 3.20.3 which is incompatible.\n",
      "tensorboard 2.10.0 requires tensorboard-data-server<0.7.0,>=0.6.0, but you have tensorboard-data-server 0.7.0 which is incompatible.\n"
     ]
    }
   ],
   "source": [
    "# Install dask-ml in the current Jupyter kernel\n",
    "!python -m pip install dask-ml"
   ]
  },
  {
   "cell_type": "markdown",
   "id": "f08b740b",
   "metadata": {},
   "source": [
    "# ⏩ Set-Up Dask (LocalCluster)"
   ]
  },
  {
   "cell_type": "code",
   "execution_count": 3,
   "id": "5f091ecd",
   "metadata": {
    "collapsed": true,
    "jupyter": {
     "outputs_hidden": true
    },
    "tags": []
   },
   "outputs": [
    {
     "data": {
      "text/html": [
       "<div>\n",
       "    <div style=\"width: 24px; height: 24px; background-color: #e1e1e1; border: 3px solid #9D9D9D; border-radius: 5px; position: absolute;\"> </div>\n",
       "    <div style=\"margin-left: 48px;\">\n",
       "        <h3 style=\"margin-bottom: 0px;\">Client</h3>\n",
       "        <p style=\"color: #9D9D9D; margin-bottom: 0px;\">Client-183c2348-af7e-11ed-ae04-8c882b42d99d</p>\n",
       "        <table style=\"width: 100%; text-align: left;\">\n",
       "\n",
       "        <tr>\n",
       "        \n",
       "            <td style=\"text-align: left;\"><strong>Connection method:</strong> Cluster object</td>\n",
       "            <td style=\"text-align: left;\"><strong>Cluster type:</strong> distributed.LocalCluster</td>\n",
       "        \n",
       "        </tr>\n",
       "\n",
       "        \n",
       "            <tr>\n",
       "                <td style=\"text-align: left;\">\n",
       "                    <strong>Dashboard: </strong> <a href=\"http://127.0.0.1:8787/status\" target=\"_blank\">http://127.0.0.1:8787/status</a>\n",
       "                </td>\n",
       "                <td style=\"text-align: left;\"></td>\n",
       "            </tr>\n",
       "        \n",
       "\n",
       "        </table>\n",
       "\n",
       "        \n",
       "\n",
       "        \n",
       "            <details>\n",
       "            <summary style=\"margin-bottom: 20px;\"><h3 style=\"display: inline;\">Cluster Info</h3></summary>\n",
       "            <div class=\"jp-RenderedHTMLCommon jp-RenderedHTML jp-mod-trusted jp-OutputArea-output\">\n",
       "    <div style=\"width: 24px; height: 24px; background-color: #e1e1e1; border: 3px solid #9D9D9D; border-radius: 5px; position: absolute;\">\n",
       "    </div>\n",
       "    <div style=\"margin-left: 48px;\">\n",
       "        <h3 style=\"margin-bottom: 0px; margin-top: 0px;\">LocalCluster</h3>\n",
       "        <p style=\"color: #9D9D9D; margin-bottom: 0px;\">e8d91246</p>\n",
       "        <table style=\"width: 100%; text-align: left;\">\n",
       "            <tr>\n",
       "                <td style=\"text-align: left;\">\n",
       "                    <strong>Dashboard:</strong> <a href=\"http://127.0.0.1:8787/status\" target=\"_blank\">http://127.0.0.1:8787/status</a>\n",
       "                </td>\n",
       "                <td style=\"text-align: left;\">\n",
       "                    <strong>Workers:</strong> 4\n",
       "                </td>\n",
       "            </tr>\n",
       "            <tr>\n",
       "                <td style=\"text-align: left;\">\n",
       "                    <strong>Total threads:</strong> 8\n",
       "                </td>\n",
       "                <td style=\"text-align: left;\">\n",
       "                    <strong>Total memory:</strong> 23.88 GiB\n",
       "                </td>\n",
       "            </tr>\n",
       "            \n",
       "            <tr>\n",
       "    <td style=\"text-align: left;\"><strong>Status:</strong> running</td>\n",
       "    <td style=\"text-align: left;\"><strong>Using processes:</strong> True</td>\n",
       "</tr>\n",
       "\n",
       "            \n",
       "        </table>\n",
       "\n",
       "        <details>\n",
       "            <summary style=\"margin-bottom: 20px;\">\n",
       "                <h3 style=\"display: inline;\">Scheduler Info</h3>\n",
       "            </summary>\n",
       "\n",
       "            <div style=\"\">\n",
       "    <div>\n",
       "        <div style=\"width: 24px; height: 24px; background-color: #FFF7E5; border: 3px solid #FF6132; border-radius: 5px; position: absolute;\"> </div>\n",
       "        <div style=\"margin-left: 48px;\">\n",
       "            <h3 style=\"margin-bottom: 0px;\">Scheduler</h3>\n",
       "            <p style=\"color: #9D9D9D; margin-bottom: 0px;\">Scheduler-c7fa6da5-5d89-4cef-adca-70718e189386</p>\n",
       "            <table style=\"width: 100%; text-align: left;\">\n",
       "                <tr>\n",
       "                    <td style=\"text-align: left;\">\n",
       "                        <strong>Comm:</strong> tcp://127.0.0.1:49996\n",
       "                    </td>\n",
       "                    <td style=\"text-align: left;\">\n",
       "                        <strong>Workers:</strong> 4\n",
       "                    </td>\n",
       "                </tr>\n",
       "                <tr>\n",
       "                    <td style=\"text-align: left;\">\n",
       "                        <strong>Dashboard:</strong> <a href=\"http://127.0.0.1:8787/status\" target=\"_blank\">http://127.0.0.1:8787/status</a>\n",
       "                    </td>\n",
       "                    <td style=\"text-align: left;\">\n",
       "                        <strong>Total threads:</strong> 8\n",
       "                    </td>\n",
       "                </tr>\n",
       "                <tr>\n",
       "                    <td style=\"text-align: left;\">\n",
       "                        <strong>Started:</strong> Just now\n",
       "                    </td>\n",
       "                    <td style=\"text-align: left;\">\n",
       "                        <strong>Total memory:</strong> 23.88 GiB\n",
       "                    </td>\n",
       "                </tr>\n",
       "            </table>\n",
       "        </div>\n",
       "    </div>\n",
       "\n",
       "    <details style=\"margin-left: 48px;\">\n",
       "        <summary style=\"margin-bottom: 20px;\">\n",
       "            <h3 style=\"display: inline;\">Workers</h3>\n",
       "        </summary>\n",
       "\n",
       "        \n",
       "        <div style=\"margin-bottom: 20px;\">\n",
       "            <div style=\"width: 24px; height: 24px; background-color: #DBF5FF; border: 3px solid #4CC9FF; border-radius: 5px; position: absolute;\"> </div>\n",
       "            <div style=\"margin-left: 48px;\">\n",
       "            <details>\n",
       "                <summary>\n",
       "                    <h4 style=\"margin-bottom: 0px; display: inline;\">Worker: 0</h4>\n",
       "                </summary>\n",
       "                <table style=\"width: 100%; text-align: left;\">\n",
       "                    <tr>\n",
       "                        <td style=\"text-align: left;\">\n",
       "                            <strong>Comm: </strong> tcp://127.0.0.1:50024\n",
       "                        </td>\n",
       "                        <td style=\"text-align: left;\">\n",
       "                            <strong>Total threads: </strong> 2\n",
       "                        </td>\n",
       "                    </tr>\n",
       "                    <tr>\n",
       "                        <td style=\"text-align: left;\">\n",
       "                            <strong>Dashboard: </strong> <a href=\"http://127.0.0.1:50025/status\" target=\"_blank\">http://127.0.0.1:50025/status</a>\n",
       "                        </td>\n",
       "                        <td style=\"text-align: left;\">\n",
       "                            <strong>Memory: </strong> 5.97 GiB\n",
       "                        </td>\n",
       "                    </tr>\n",
       "                    <tr>\n",
       "                        <td style=\"text-align: left;\">\n",
       "                            <strong>Nanny: </strong> tcp://127.0.0.1:49999\n",
       "                        </td>\n",
       "                        <td style=\"text-align: left;\"></td>\n",
       "                    </tr>\n",
       "                    <tr>\n",
       "                        <td colspan=\"2\" style=\"text-align: left;\">\n",
       "                            <strong>Local directory: </strong> C:\\Users\\miket\\AppData\\Local\\Temp\\dask-worker-space\\worker-su9i8ymb\n",
       "                        </td>\n",
       "                    </tr>\n",
       "\n",
       "                    \n",
       "\n",
       "                    \n",
       "\n",
       "                </table>\n",
       "            </details>\n",
       "            </div>\n",
       "        </div>\n",
       "        \n",
       "        <div style=\"margin-bottom: 20px;\">\n",
       "            <div style=\"width: 24px; height: 24px; background-color: #DBF5FF; border: 3px solid #4CC9FF; border-radius: 5px; position: absolute;\"> </div>\n",
       "            <div style=\"margin-left: 48px;\">\n",
       "            <details>\n",
       "                <summary>\n",
       "                    <h4 style=\"margin-bottom: 0px; display: inline;\">Worker: 1</h4>\n",
       "                </summary>\n",
       "                <table style=\"width: 100%; text-align: left;\">\n",
       "                    <tr>\n",
       "                        <td style=\"text-align: left;\">\n",
       "                            <strong>Comm: </strong> tcp://127.0.0.1:50015\n",
       "                        </td>\n",
       "                        <td style=\"text-align: left;\">\n",
       "                            <strong>Total threads: </strong> 2\n",
       "                        </td>\n",
       "                    </tr>\n",
       "                    <tr>\n",
       "                        <td style=\"text-align: left;\">\n",
       "                            <strong>Dashboard: </strong> <a href=\"http://127.0.0.1:50017/status\" target=\"_blank\">http://127.0.0.1:50017/status</a>\n",
       "                        </td>\n",
       "                        <td style=\"text-align: left;\">\n",
       "                            <strong>Memory: </strong> 5.97 GiB\n",
       "                        </td>\n",
       "                    </tr>\n",
       "                    <tr>\n",
       "                        <td style=\"text-align: left;\">\n",
       "                            <strong>Nanny: </strong> tcp://127.0.0.1:50000\n",
       "                        </td>\n",
       "                        <td style=\"text-align: left;\"></td>\n",
       "                    </tr>\n",
       "                    <tr>\n",
       "                        <td colspan=\"2\" style=\"text-align: left;\">\n",
       "                            <strong>Local directory: </strong> C:\\Users\\miket\\AppData\\Local\\Temp\\dask-worker-space\\worker-mf8828cs\n",
       "                        </td>\n",
       "                    </tr>\n",
       "\n",
       "                    \n",
       "\n",
       "                    \n",
       "\n",
       "                </table>\n",
       "            </details>\n",
       "            </div>\n",
       "        </div>\n",
       "        \n",
       "        <div style=\"margin-bottom: 20px;\">\n",
       "            <div style=\"width: 24px; height: 24px; background-color: #DBF5FF; border: 3px solid #4CC9FF; border-radius: 5px; position: absolute;\"> </div>\n",
       "            <div style=\"margin-left: 48px;\">\n",
       "            <details>\n",
       "                <summary>\n",
       "                    <h4 style=\"margin-bottom: 0px; display: inline;\">Worker: 2</h4>\n",
       "                </summary>\n",
       "                <table style=\"width: 100%; text-align: left;\">\n",
       "                    <tr>\n",
       "                        <td style=\"text-align: left;\">\n",
       "                            <strong>Comm: </strong> tcp://127.0.0.1:50016\n",
       "                        </td>\n",
       "                        <td style=\"text-align: left;\">\n",
       "                            <strong>Total threads: </strong> 2\n",
       "                        </td>\n",
       "                    </tr>\n",
       "                    <tr>\n",
       "                        <td style=\"text-align: left;\">\n",
       "                            <strong>Dashboard: </strong> <a href=\"http://127.0.0.1:50018/status\" target=\"_blank\">http://127.0.0.1:50018/status</a>\n",
       "                        </td>\n",
       "                        <td style=\"text-align: left;\">\n",
       "                            <strong>Memory: </strong> 5.97 GiB\n",
       "                        </td>\n",
       "                    </tr>\n",
       "                    <tr>\n",
       "                        <td style=\"text-align: left;\">\n",
       "                            <strong>Nanny: </strong> tcp://127.0.0.1:50001\n",
       "                        </td>\n",
       "                        <td style=\"text-align: left;\"></td>\n",
       "                    </tr>\n",
       "                    <tr>\n",
       "                        <td colspan=\"2\" style=\"text-align: left;\">\n",
       "                            <strong>Local directory: </strong> C:\\Users\\miket\\AppData\\Local\\Temp\\dask-worker-space\\worker-55_ur00s\n",
       "                        </td>\n",
       "                    </tr>\n",
       "\n",
       "                    \n",
       "\n",
       "                    \n",
       "\n",
       "                </table>\n",
       "            </details>\n",
       "            </div>\n",
       "        </div>\n",
       "        \n",
       "        <div style=\"margin-bottom: 20px;\">\n",
       "            <div style=\"width: 24px; height: 24px; background-color: #DBF5FF; border: 3px solid #4CC9FF; border-radius: 5px; position: absolute;\"> </div>\n",
       "            <div style=\"margin-left: 48px;\">\n",
       "            <details>\n",
       "                <summary>\n",
       "                    <h4 style=\"margin-bottom: 0px; display: inline;\">Worker: 3</h4>\n",
       "                </summary>\n",
       "                <table style=\"width: 100%; text-align: left;\">\n",
       "                    <tr>\n",
       "                        <td style=\"text-align: left;\">\n",
       "                            <strong>Comm: </strong> tcp://127.0.0.1:50021\n",
       "                        </td>\n",
       "                        <td style=\"text-align: left;\">\n",
       "                            <strong>Total threads: </strong> 2\n",
       "                        </td>\n",
       "                    </tr>\n",
       "                    <tr>\n",
       "                        <td style=\"text-align: left;\">\n",
       "                            <strong>Dashboard: </strong> <a href=\"http://127.0.0.1:50022/status\" target=\"_blank\">http://127.0.0.1:50022/status</a>\n",
       "                        </td>\n",
       "                        <td style=\"text-align: left;\">\n",
       "                            <strong>Memory: </strong> 5.97 GiB\n",
       "                        </td>\n",
       "                    </tr>\n",
       "                    <tr>\n",
       "                        <td style=\"text-align: left;\">\n",
       "                            <strong>Nanny: </strong> tcp://127.0.0.1:50002\n",
       "                        </td>\n",
       "                        <td style=\"text-align: left;\"></td>\n",
       "                    </tr>\n",
       "                    <tr>\n",
       "                        <td colspan=\"2\" style=\"text-align: left;\">\n",
       "                            <strong>Local directory: </strong> C:\\Users\\miket\\AppData\\Local\\Temp\\dask-worker-space\\worker-e9fz3bf1\n",
       "                        </td>\n",
       "                    </tr>\n",
       "\n",
       "                    \n",
       "\n",
       "                    \n",
       "\n",
       "                </table>\n",
       "            </details>\n",
       "            </div>\n",
       "        </div>\n",
       "        \n",
       "\n",
       "    </details>\n",
       "</div>\n",
       "\n",
       "        </details>\n",
       "    </div>\n",
       "</div>\n",
       "            </details>\n",
       "        \n",
       "\n",
       "    </div>\n",
       "</div>"
      ],
      "text/plain": [
       "<Client: 'tcp://127.0.0.1:49996' processes=4 threads=8, memory=23.88 GiB>"
      ]
     },
     "execution_count": 3,
     "metadata": {},
     "output_type": "execute_result"
    }
   ],
   "source": [
    "from dask.distributed import Client\n",
    "\n",
    "client = Client()\n",
    "\n",
    "client"
   ]
  },
  {
   "cell_type": "markdown",
   "id": "b1b8dc0c",
   "metadata": {},
   "source": [
    "# ⏩Tests - Dashboard"
   ]
  },
  {
   "cell_type": "markdown",
   "id": "5a46e95f",
   "metadata": {},
   "source": [
    "Open the localhost client dashboard to see diagnostics/status etc. It would be really helpful to have the dashboard in a second screen so you can what is happening (in parallel)."
   ]
  },
  {
   "cell_type": "markdown",
   "id": "ab7969d1",
   "metadata": {},
   "source": [
    "## 1️⃣ Hyperparameter Optimization"
   ]
  },
  {
   "cell_type": "markdown",
   "id": "eaa3c515",
   "metadata": {},
   "source": [
    "As we saw in the previous Jupyter mini-project the value of the *hyperparameter* `C` and `loss` in PA-Classifiers has a huge impact on the resultant model. The problem of finding the best hyperparameters is called *hyperparameter optimization*. Let's solve this problem for binary classification for a medium sized dataset."
   ]
  },
  {
   "cell_type": "markdown",
   "id": "baea02f7",
   "metadata": {},
   "source": [
    "### Create Data"
   ]
  },
  {
   "cell_type": "code",
   "execution_count": 4,
   "id": "0f2d981f",
   "metadata": {},
   "outputs": [],
   "source": [
    "from sklearn.datasets import make_classification\n",
    "\n",
    "# Create data\n",
    "X, y = make_classification(\n",
    "    n_samples=100_000,\n",
    "    n_features=100,\n",
    "    n_informative=50,\n",
    "    n_redundant=10,\n",
    "    flip_y=0.2,\n",
    ")"
   ]
  },
  {
   "cell_type": "markdown",
   "id": "e76bb3c4",
   "metadata": {},
   "source": [
    "### Define Hyperparameters"
   ]
  },
  {
   "cell_type": "markdown",
   "id": "a54ed7a4",
   "metadata": {},
   "source": [
    "There are a few ways to learn the best *hyperparameters* while training. One is `GridSearchCV`. As the name implies, this does a brute-force search over a grid of hyperparameter combinations."
   ]
  },
  {
   "cell_type": "code",
   "execution_count": 5,
   "id": "9253e6b9",
   "metadata": {},
   "outputs": [],
   "source": [
    "from sklearn.model_selection import GridSearchCV\n",
    "from sklearn.linear_model import PassiveAggressiveClassifier\n",
    "\n",
    "# define the parameter grid\n",
    "param_grid = {\n",
    "    'C': [1e-6, 1e-5, 1e-4, 1e-3, 1e-2, 1e-1, 0.5, 1, 5, 10, 50, 100, 200],\n",
    "    'loss' : ['hinge', 'squared_hinge']\n",
    "}\n",
    "\n",
    "# create a PAClassifier\n",
    "pa_clf = PassiveAggressiveClassifier(random_state=1)"
   ]
  },
  {
   "cell_type": "markdown",
   "id": "c65473b2",
   "metadata": {},
   "source": [
    "### Solve: Classical way"
   ]
  },
  {
   "cell_type": "code",
   "execution_count": 6,
   "id": "9fb001eb",
   "metadata": {},
   "outputs": [
    {
     "name": "stdout",
     "output_type": "stream",
     "text": [
      "CPU times: total: 3.12 s\n",
      "Wall time: 21.7 s\n"
     ]
    },
    {
     "data": {
      "text/html": [
       "<style>#sk-container-id-1 {color: black;background-color: white;}#sk-container-id-1 pre{padding: 0;}#sk-container-id-1 div.sk-toggleable {background-color: white;}#sk-container-id-1 label.sk-toggleable__label {cursor: pointer;display: block;width: 100%;margin-bottom: 0;padding: 0.3em;box-sizing: border-box;text-align: center;}#sk-container-id-1 label.sk-toggleable__label-arrow:before {content: \"▸\";float: left;margin-right: 0.25em;color: #696969;}#sk-container-id-1 label.sk-toggleable__label-arrow:hover:before {color: black;}#sk-container-id-1 div.sk-estimator:hover label.sk-toggleable__label-arrow:before {color: black;}#sk-container-id-1 div.sk-toggleable__content {max-height: 0;max-width: 0;overflow: hidden;text-align: left;background-color: #f0f8ff;}#sk-container-id-1 div.sk-toggleable__content pre {margin: 0.2em;color: black;border-radius: 0.25em;background-color: #f0f8ff;}#sk-container-id-1 input.sk-toggleable__control:checked~div.sk-toggleable__content {max-height: 200px;max-width: 100%;overflow: auto;}#sk-container-id-1 input.sk-toggleable__control:checked~label.sk-toggleable__label-arrow:before {content: \"▾\";}#sk-container-id-1 div.sk-estimator input.sk-toggleable__control:checked~label.sk-toggleable__label {background-color: #d4ebff;}#sk-container-id-1 div.sk-label input.sk-toggleable__control:checked~label.sk-toggleable__label {background-color: #d4ebff;}#sk-container-id-1 input.sk-hidden--visually {border: 0;clip: rect(1px 1px 1px 1px);clip: rect(1px, 1px, 1px, 1px);height: 1px;margin: -1px;overflow: hidden;padding: 0;position: absolute;width: 1px;}#sk-container-id-1 div.sk-estimator {font-family: monospace;background-color: #f0f8ff;border: 1px dotted black;border-radius: 0.25em;box-sizing: border-box;margin-bottom: 0.5em;}#sk-container-id-1 div.sk-estimator:hover {background-color: #d4ebff;}#sk-container-id-1 div.sk-parallel-item::after {content: \"\";width: 100%;border-bottom: 1px solid gray;flex-grow: 1;}#sk-container-id-1 div.sk-label:hover label.sk-toggleable__label {background-color: #d4ebff;}#sk-container-id-1 div.sk-serial::before {content: \"\";position: absolute;border-left: 1px solid gray;box-sizing: border-box;top: 0;bottom: 0;left: 50%;z-index: 0;}#sk-container-id-1 div.sk-serial {display: flex;flex-direction: column;align-items: center;background-color: white;padding-right: 0.2em;padding-left: 0.2em;position: relative;}#sk-container-id-1 div.sk-item {position: relative;z-index: 1;}#sk-container-id-1 div.sk-parallel {display: flex;align-items: stretch;justify-content: center;background-color: white;position: relative;}#sk-container-id-1 div.sk-item::before, #sk-container-id-1 div.sk-parallel-item::before {content: \"\";position: absolute;border-left: 1px solid gray;box-sizing: border-box;top: 0;bottom: 0;left: 50%;z-index: -1;}#sk-container-id-1 div.sk-parallel-item {display: flex;flex-direction: column;z-index: 1;position: relative;background-color: white;}#sk-container-id-1 div.sk-parallel-item:first-child::after {align-self: flex-end;width: 50%;}#sk-container-id-1 div.sk-parallel-item:last-child::after {align-self: flex-start;width: 50%;}#sk-container-id-1 div.sk-parallel-item:only-child::after {width: 0;}#sk-container-id-1 div.sk-dashed-wrapped {border: 1px dashed gray;margin: 0 0.4em 0.5em 0.4em;box-sizing: border-box;padding-bottom: 0.4em;background-color: white;}#sk-container-id-1 div.sk-label label {font-family: monospace;font-weight: bold;display: inline-block;line-height: 1.2em;}#sk-container-id-1 div.sk-label-container {text-align: center;}#sk-container-id-1 div.sk-container {/* jupyter's `normalize.less` sets `[hidden] { display: none; }` but bootstrap.min.css set `[hidden] { display: none !important; }` so we also need the `!important` here to be able to override the default hidden behavior on the sphinx rendered scikit-learn.org. See: https://github.com/scikit-learn/scikit-learn/issues/21755 */display: inline-block !important;position: relative;}#sk-container-id-1 div.sk-text-repr-fallback {display: none;}</style><div id=\"sk-container-id-1\" class=\"sk-top-container\"><div class=\"sk-text-repr-fallback\"><pre>GridSearchCV(estimator=PassiveAggressiveClassifier(random_state=1), n_jobs=-1,\n",
       "             param_grid={&#x27;C&#x27;: [1e-06, 1e-05, 0.0001, 0.001, 0.01, 0.1, 0.5, 1,\n",
       "                               5, 10, 50, 100, 200],\n",
       "                         &#x27;loss&#x27;: [&#x27;hinge&#x27;, &#x27;squared_hinge&#x27;]},\n",
       "             scoring=&#x27;accuracy&#x27;)</pre><b>In a Jupyter environment, please rerun this cell to show the HTML representation or trust the notebook. <br />On GitHub, the HTML representation is unable to render, please try loading this page with nbviewer.org.</b></div><div class=\"sk-container\" hidden><div class=\"sk-item sk-dashed-wrapped\"><div class=\"sk-label-container\"><div class=\"sk-label sk-toggleable\"><input class=\"sk-toggleable__control sk-hidden--visually\" id=\"sk-estimator-id-1\" type=\"checkbox\" ><label for=\"sk-estimator-id-1\" class=\"sk-toggleable__label sk-toggleable__label-arrow\">GridSearchCV</label><div class=\"sk-toggleable__content\"><pre>GridSearchCV(estimator=PassiveAggressiveClassifier(random_state=1), n_jobs=-1,\n",
       "             param_grid={&#x27;C&#x27;: [1e-06, 1e-05, 0.0001, 0.001, 0.01, 0.1, 0.5, 1,\n",
       "                               5, 10, 50, 100, 200],\n",
       "                         &#x27;loss&#x27;: [&#x27;hinge&#x27;, &#x27;squared_hinge&#x27;]},\n",
       "             scoring=&#x27;accuracy&#x27;)</pre></div></div></div><div class=\"sk-parallel\"><div class=\"sk-parallel-item\"><div class=\"sk-item\"><div class=\"sk-label-container\"><div class=\"sk-label sk-toggleable\"><input class=\"sk-toggleable__control sk-hidden--visually\" id=\"sk-estimator-id-2\" type=\"checkbox\" ><label for=\"sk-estimator-id-2\" class=\"sk-toggleable__label sk-toggleable__label-arrow\">estimator: PassiveAggressiveClassifier</label><div class=\"sk-toggleable__content\"><pre>PassiveAggressiveClassifier(random_state=1)</pre></div></div></div><div class=\"sk-serial\"><div class=\"sk-item\"><div class=\"sk-estimator sk-toggleable\"><input class=\"sk-toggleable__control sk-hidden--visually\" id=\"sk-estimator-id-3\" type=\"checkbox\" ><label for=\"sk-estimator-id-3\" class=\"sk-toggleable__label sk-toggleable__label-arrow\">PassiveAggressiveClassifier</label><div class=\"sk-toggleable__content\"><pre>PassiveAggressiveClassifier(random_state=1)</pre></div></div></div></div></div></div></div></div></div></div>"
      ],
      "text/plain": [
       "GridSearchCV(estimator=PassiveAggressiveClassifier(random_state=1), n_jobs=-1,\n",
       "             param_grid={'C': [1e-06, 1e-05, 0.0001, 0.001, 0.01, 0.1, 0.5, 1,\n",
       "                               5, 10, 50, 100, 200],\n",
       "                         'loss': ['hinge', 'squared_hinge']},\n",
       "             scoring='accuracy')"
      ]
     },
     "execution_count": 6,
     "metadata": {},
     "output_type": "execute_result"
    }
   ],
   "source": [
    "%%time\n",
    "\n",
    "# n_jobs=-1 tells sklearn to use all processors\n",
    "grid_search = GridSearchCV(pa_clf, param_grid, scoring='accuracy', n_jobs=-1)\n",
    "grid_search.fit(X, y)"
   ]
  },
  {
   "cell_type": "code",
   "execution_count": 7,
   "id": "743fa91d",
   "metadata": {},
   "outputs": [
    {
     "data": {
      "text/plain": [
       "({'C': 1e-06, 'loss': 'hinge'}, 0.76282)"
      ]
     },
     "execution_count": 7,
     "metadata": {},
     "output_type": "execute_result"
    }
   ],
   "source": [
    "grid_search.best_params_, grid_search.best_score_"
   ]
  },
  {
   "cell_type": "markdown",
   "id": "0f2629e4",
   "metadata": {},
   "source": [
    "### Solve: Dask way"
   ]
  },
  {
   "cell_type": "markdown",
   "id": "9693cacf",
   "metadata": {},
   "source": [
    "Reminder: Open Dask cluster dashboard (*Status*)"
   ]
  },
  {
   "cell_type": "code",
   "execution_count": 8,
   "id": "ee16d5c0",
   "metadata": {},
   "outputs": [],
   "source": [
    "# Sklearn backend\n",
    "from joblib import parallel_backend"
   ]
  },
  {
   "cell_type": "code",
   "execution_count": 9,
   "id": "9fe0ad61",
   "metadata": {},
   "outputs": [
    {
     "name": "stdout",
     "output_type": "stream",
     "text": [
      "CPU times: total: 6.42 s\n",
      "Wall time: 22.3 s\n"
     ]
    }
   ],
   "source": [
    "%%time\n",
    "\n",
    "grid_search = GridSearchCV(pa_clf, param_grid, scoring='accuracy', n_jobs=-1)\n",
    "# change sklearn backend to dask (LocalCluster), scatter tells dask to send the data to workers beforehand\n",
    "with parallel_backend(\"dask\", scatter=[X,y]):\n",
    "    grid_search.fit(X, y)"
   ]
  },
  {
   "cell_type": "code",
   "execution_count": 10,
   "id": "32c9f6c8",
   "metadata": {},
   "outputs": [
    {
     "data": {
      "text/plain": [
       "({'C': 1e-06, 'loss': 'hinge'}, 0.76282)"
      ]
     },
     "execution_count": 10,
     "metadata": {},
     "output_type": "execute_result"
    }
   ],
   "source": [
    "grid_search.best_params_, grid_search.best_score_"
   ]
  },
  {
   "cell_type": "markdown",
   "id": "e01ba6b1",
   "metadata": {},
   "source": [
    "### Close Client"
   ]
  },
  {
   "cell_type": "code",
   "execution_count": 25,
   "id": "95d9c323",
   "metadata": {},
   "outputs": [],
   "source": [
    "client.close()"
   ]
  },
  {
   "cell_type": "markdown",
   "id": "c82a575e",
   "metadata": {},
   "source": [
    "## 2️⃣ Incrementally Train Large Datasets"
   ]
  },
  {
   "cell_type": "markdown",
   "id": "a56d2e94",
   "metadata": {},
   "source": [
    "### Create Data"
   ]
  },
  {
   "cell_type": "code",
   "execution_count": 12,
   "id": "bda6dcb6",
   "metadata": {},
   "outputs": [
    {
     "data": {
      "text/html": [
       "<table>\n",
       "    <tr>\n",
       "        <td>\n",
       "            <table style=\"border-collapse: collapse;\">\n",
       "                <thead>\n",
       "                    <tr>\n",
       "                        <td> </td>\n",
       "                        <th> Array </th>\n",
       "                        <th> Chunk </th>\n",
       "                    </tr>\n",
       "                </thead>\n",
       "                <tbody>\n",
       "                    \n",
       "                    <tr>\n",
       "                        <th> Bytes </th>\n",
       "                        <td> 7.45 GiB </td>\n",
       "                        <td> 762.94 MiB </td>\n",
       "                    </tr>\n",
       "                    \n",
       "                    <tr>\n",
       "                        <th> Shape </th>\n",
       "                        <td> (10000000, 100) </td>\n",
       "                        <td> (1000000, 100) </td>\n",
       "                    </tr>\n",
       "                    <tr>\n",
       "                        <th> Dask graph </th>\n",
       "                        <td colspan=\"2\"> 10 chunks in 1 graph layer </td>\n",
       "                    </tr>\n",
       "                    <tr>\n",
       "                        <th> Data type </th>\n",
       "                        <td colspan=\"2\"> float64 numpy.ndarray </td>\n",
       "                    </tr>\n",
       "                </tbody>\n",
       "            </table>\n",
       "        </td>\n",
       "        <td>\n",
       "        <svg width=\"75\" height=\"170\" style=\"stroke:rgb(0,0,0);stroke-width:1\" >\n",
       "\n",
       "  <!-- Horizontal lines -->\n",
       "  <line x1=\"0\" y1=\"0\" x2=\"25\" y2=\"0\" style=\"stroke-width:2\" />\n",
       "  <line x1=\"0\" y1=\"12\" x2=\"25\" y2=\"12\" />\n",
       "  <line x1=\"0\" y1=\"24\" x2=\"25\" y2=\"24\" />\n",
       "  <line x1=\"0\" y1=\"36\" x2=\"25\" y2=\"36\" />\n",
       "  <line x1=\"0\" y1=\"48\" x2=\"25\" y2=\"48\" />\n",
       "  <line x1=\"0\" y1=\"60\" x2=\"25\" y2=\"60\" />\n",
       "  <line x1=\"0\" y1=\"72\" x2=\"25\" y2=\"72\" />\n",
       "  <line x1=\"0\" y1=\"84\" x2=\"25\" y2=\"84\" />\n",
       "  <line x1=\"0\" y1=\"96\" x2=\"25\" y2=\"96\" />\n",
       "  <line x1=\"0\" y1=\"108\" x2=\"25\" y2=\"108\" />\n",
       "  <line x1=\"0\" y1=\"120\" x2=\"25\" y2=\"120\" style=\"stroke-width:2\" />\n",
       "\n",
       "  <!-- Vertical lines -->\n",
       "  <line x1=\"0\" y1=\"0\" x2=\"0\" y2=\"120\" style=\"stroke-width:2\" />\n",
       "  <line x1=\"25\" y1=\"0\" x2=\"25\" y2=\"120\" style=\"stroke-width:2\" />\n",
       "\n",
       "  <!-- Colored Rectangle -->\n",
       "  <polygon points=\"0.0,0.0 25.41261651458249,0.0 25.41261651458249,120.0 0.0,120.0\" style=\"fill:#ECB172A0;stroke-width:0\"/>\n",
       "\n",
       "  <!-- Text -->\n",
       "  <text x=\"12.706308\" y=\"140.000000\" font-size=\"1.0rem\" font-weight=\"100\" text-anchor=\"middle\" >100</text>\n",
       "  <text x=\"45.412617\" y=\"60.000000\" font-size=\"1.0rem\" font-weight=\"100\" text-anchor=\"middle\" transform=\"rotate(-90,45.412617,60.000000)\">10000000</text>\n",
       "</svg>\n",
       "        </td>\n",
       "    </tr>\n",
       "</table>"
      ],
      "text/plain": [
       "dask.array<normal, shape=(10000000, 100), dtype=float64, chunksize=(1000000, 100), chunktype=numpy.ndarray>"
      ]
     },
     "execution_count": 12,
     "metadata": {},
     "output_type": "execute_result"
    }
   ],
   "source": [
    "import dask.array as da\n",
    "from dask_ml.datasets import make_classification # Dask way\n",
    "from dask.distributed import Client\n",
    "\n",
    "n, d = 10_000_000, 100\n",
    "\n",
    "# Dask lazilly loaded into memory. ~8gb\n",
    "X, y = make_classification(\n",
    "    n_samples=n,\n",
    "    n_features=d,\n",
    "    n_informative=50,\n",
    "    n_redundant=10,\n",
    "    flip_y=0.2,\n",
    "    chunks=n // 10  # partitions\n",
    ")\n",
    "X"
   ]
  },
  {
   "cell_type": "markdown",
   "id": "76cf7960",
   "metadata": {},
   "source": [
    "### Split data for training and testing"
   ]
  },
  {
   "cell_type": "code",
   "execution_count": 13,
   "id": "c43b6b8c",
   "metadata": {},
   "outputs": [
    {
     "data": {
      "text/html": [
       "<table>\n",
       "    <tr>\n",
       "        <td>\n",
       "            <table style=\"border-collapse: collapse;\">\n",
       "                <thead>\n",
       "                    <tr>\n",
       "                        <td> </td>\n",
       "                        <th> Array </th>\n",
       "                        <th> Chunk </th>\n",
       "                    </tr>\n",
       "                </thead>\n",
       "                <tbody>\n",
       "                    \n",
       "                    <tr>\n",
       "                        <th> Bytes </th>\n",
       "                        <td> 6.71 GiB </td>\n",
       "                        <td> 686.65 MiB </td>\n",
       "                    </tr>\n",
       "                    \n",
       "                    <tr>\n",
       "                        <th> Shape </th>\n",
       "                        <td> (9000000, 100) </td>\n",
       "                        <td> (900000, 100) </td>\n",
       "                    </tr>\n",
       "                    <tr>\n",
       "                        <th> Dask graph </th>\n",
       "                        <td colspan=\"2\"> 10 chunks in 33 graph layers </td>\n",
       "                    </tr>\n",
       "                    <tr>\n",
       "                        <th> Data type </th>\n",
       "                        <td colspan=\"2\"> float64 numpy.ndarray </td>\n",
       "                    </tr>\n",
       "                </tbody>\n",
       "            </table>\n",
       "        </td>\n",
       "        <td>\n",
       "        <svg width=\"75\" height=\"170\" style=\"stroke:rgb(0,0,0);stroke-width:1\" >\n",
       "\n",
       "  <!-- Horizontal lines -->\n",
       "  <line x1=\"0\" y1=\"0\" x2=\"25\" y2=\"0\" style=\"stroke-width:2\" />\n",
       "  <line x1=\"0\" y1=\"12\" x2=\"25\" y2=\"12\" />\n",
       "  <line x1=\"0\" y1=\"24\" x2=\"25\" y2=\"24\" />\n",
       "  <line x1=\"0\" y1=\"36\" x2=\"25\" y2=\"36\" />\n",
       "  <line x1=\"0\" y1=\"48\" x2=\"25\" y2=\"48\" />\n",
       "  <line x1=\"0\" y1=\"60\" x2=\"25\" y2=\"60\" />\n",
       "  <line x1=\"0\" y1=\"72\" x2=\"25\" y2=\"72\" />\n",
       "  <line x1=\"0\" y1=\"84\" x2=\"25\" y2=\"84\" />\n",
       "  <line x1=\"0\" y1=\"96\" x2=\"25\" y2=\"96\" />\n",
       "  <line x1=\"0\" y1=\"108\" x2=\"25\" y2=\"108\" />\n",
       "  <line x1=\"0\" y1=\"120\" x2=\"25\" y2=\"120\" style=\"stroke-width:2\" />\n",
       "\n",
       "  <!-- Vertical lines -->\n",
       "  <line x1=\"0\" y1=\"0\" x2=\"0\" y2=\"120\" style=\"stroke-width:2\" />\n",
       "  <line x1=\"25\" y1=\"0\" x2=\"25\" y2=\"120\" style=\"stroke-width:2\" />\n",
       "\n",
       "  <!-- Colored Rectangle -->\n",
       "  <polygon points=\"0.0,0.0 25.41261651458249,0.0 25.41261651458249,120.0 0.0,120.0\" style=\"fill:#ECB172A0;stroke-width:0\"/>\n",
       "\n",
       "  <!-- Text -->\n",
       "  <text x=\"12.706308\" y=\"140.000000\" font-size=\"1.0rem\" font-weight=\"100\" text-anchor=\"middle\" >100</text>\n",
       "  <text x=\"45.412617\" y=\"60.000000\" font-size=\"1.0rem\" font-weight=\"100\" text-anchor=\"middle\" transform=\"rotate(-90,45.412617,60.000000)\">9000000</text>\n",
       "</svg>\n",
       "        </td>\n",
       "    </tr>\n",
       "</table>"
      ],
      "text/plain": [
       "dask.array<concatenate, shape=(9000000, 100), dtype=float64, chunksize=(900000, 100), chunktype=numpy.ndarray>"
      ]
     },
     "execution_count": 13,
     "metadata": {},
     "output_type": "execute_result"
    }
   ],
   "source": [
    "from dask_ml.model_selection import train_test_split\n",
    "\n",
    "X_train, X_test, y_train, y_test = train_test_split(X, y)\n",
    "X_train"
   ]
  },
  {
   "cell_type": "markdown",
   "id": "c8781b33",
   "metadata": {},
   "source": [
    "### Persist data in memory"
   ]
  },
  {
   "cell_type": "markdown",
   "id": "5601e7db",
   "metadata": {},
   "source": [
    "This dataset can fit in distributed memory (**warning**: it is ~8GB), so we call `dask.persist` to ask Dask to execute the computations above and keep the results in memory. If we are working in situations where our dataset does not fit into memory we should skip this."
   ]
  },
  {
   "cell_type": "code",
   "execution_count": 14,
   "id": "1de73ebe",
   "metadata": {},
   "outputs": [],
   "source": [
    "from dask import persist\n",
    "\n",
    "X_train, X_test, y_train, y_test = persist(X_train, X_test, y_train, y_test)"
   ]
  },
  {
   "cell_type": "markdown",
   "id": "9f43ce00",
   "metadata": {},
   "source": [
    "### Precompute classes"
   ]
  },
  {
   "cell_type": "markdown",
   "id": "dec2037a",
   "metadata": {},
   "source": [
    "Since we aim to use `partial_fit` (actually Dask will use it) we need to precompute the classes (distinct labels) beforehand and pass them."
   ]
  },
  {
   "cell_type": "code",
   "execution_count": 15,
   "id": "67d990ff",
   "metadata": {},
   "outputs": [
    {
     "data": {
      "text/plain": [
       "array([0, 1])"
      ]
     },
     "execution_count": 15,
     "metadata": {},
     "output_type": "execute_result"
    }
   ],
   "source": [
    "classes = da.unique(y_train).compute()\n",
    "classes"
   ]
  },
  {
   "cell_type": "markdown",
   "id": "d7d2fa7f",
   "metadata": {},
   "source": [
    "### Create sklearn model"
   ]
  },
  {
   "cell_type": "code",
   "execution_count": 16,
   "id": "471f3e9f",
   "metadata": {},
   "outputs": [],
   "source": [
    "from sklearn.linear_model import PassiveAggressiveClassifier\n",
    "\n",
    "# We solved hyperparameter opt. problem for this data before :)\n",
    "pa_clf = PassiveAggressiveClassifier(C=1e-06, loss='hinge')"
   ]
  },
  {
   "cell_type": "markdown",
   "id": "c144ff91",
   "metadata": {},
   "source": [
    "### Wrap with Dask-ML's Incremental meta-estimetor"
   ]
  },
  {
   "cell_type": "markdown",
   "id": "16f6fd36",
   "metadata": {},
   "source": [
    "We now wrap our `PassiveAggressiveClassifier` with the `dask_ml.wrappers.Incremental` meta-estimator. `dask_ml` provides some meta-estimators that parallelize and scaling out certain tasks that may not be parallelized within scikit-learn itself. `dask_ml.wrappers.Incremental` provides a bridge between Dask and Scikit-Learn estimators supporting the `partial_fit` API. You wrap the underlying estimator in `Incremental`. Dask-ML will sequentially pass each block of a Dask Array to the underlying estimator’s `partial_fit` method."
   ]
  },
  {
   "cell_type": "code",
   "execution_count": 17,
   "id": "76d3f74c",
   "metadata": {},
   "outputs": [],
   "source": [
    "from dask_ml.wrappers import Incremental\n",
    "\n",
    "inc = Incremental(pa_clf, scoring='accuracy')"
   ]
  },
  {
   "cell_type": "markdown",
   "id": "fee3813e",
   "metadata": {},
   "source": [
    "`Incremental` only does data management while leaving the actual algorithm to the underlying sklearn classifier."
   ]
  },
  {
   "cell_type": "markdown",
   "id": "dca3bc60",
   "metadata": {},
   "source": [
    "### Model training"
   ]
  },
  {
   "cell_type": "markdown",
   "id": "a834543c",
   "metadata": {},
   "source": [
    "`Incremental` implements `fit` method, which will perform one loop over the dataset, calling `partial_fit` over each chunk in the Dask array."
   ]
  },
  {
   "cell_type": "code",
   "execution_count": 18,
   "id": "58ec5bae",
   "metadata": {},
   "outputs": [
    {
     "data": {
      "text/html": [
       "<style>#sk-container-id-2 {color: black;background-color: white;}#sk-container-id-2 pre{padding: 0;}#sk-container-id-2 div.sk-toggleable {background-color: white;}#sk-container-id-2 label.sk-toggleable__label {cursor: pointer;display: block;width: 100%;margin-bottom: 0;padding: 0.3em;box-sizing: border-box;text-align: center;}#sk-container-id-2 label.sk-toggleable__label-arrow:before {content: \"▸\";float: left;margin-right: 0.25em;color: #696969;}#sk-container-id-2 label.sk-toggleable__label-arrow:hover:before {color: black;}#sk-container-id-2 div.sk-estimator:hover label.sk-toggleable__label-arrow:before {color: black;}#sk-container-id-2 div.sk-toggleable__content {max-height: 0;max-width: 0;overflow: hidden;text-align: left;background-color: #f0f8ff;}#sk-container-id-2 div.sk-toggleable__content pre {margin: 0.2em;color: black;border-radius: 0.25em;background-color: #f0f8ff;}#sk-container-id-2 input.sk-toggleable__control:checked~div.sk-toggleable__content {max-height: 200px;max-width: 100%;overflow: auto;}#sk-container-id-2 input.sk-toggleable__control:checked~label.sk-toggleable__label-arrow:before {content: \"▾\";}#sk-container-id-2 div.sk-estimator input.sk-toggleable__control:checked~label.sk-toggleable__label {background-color: #d4ebff;}#sk-container-id-2 div.sk-label input.sk-toggleable__control:checked~label.sk-toggleable__label {background-color: #d4ebff;}#sk-container-id-2 input.sk-hidden--visually {border: 0;clip: rect(1px 1px 1px 1px);clip: rect(1px, 1px, 1px, 1px);height: 1px;margin: -1px;overflow: hidden;padding: 0;position: absolute;width: 1px;}#sk-container-id-2 div.sk-estimator {font-family: monospace;background-color: #f0f8ff;border: 1px dotted black;border-radius: 0.25em;box-sizing: border-box;margin-bottom: 0.5em;}#sk-container-id-2 div.sk-estimator:hover {background-color: #d4ebff;}#sk-container-id-2 div.sk-parallel-item::after {content: \"\";width: 100%;border-bottom: 1px solid gray;flex-grow: 1;}#sk-container-id-2 div.sk-label:hover label.sk-toggleable__label {background-color: #d4ebff;}#sk-container-id-2 div.sk-serial::before {content: \"\";position: absolute;border-left: 1px solid gray;box-sizing: border-box;top: 0;bottom: 0;left: 50%;z-index: 0;}#sk-container-id-2 div.sk-serial {display: flex;flex-direction: column;align-items: center;background-color: white;padding-right: 0.2em;padding-left: 0.2em;position: relative;}#sk-container-id-2 div.sk-item {position: relative;z-index: 1;}#sk-container-id-2 div.sk-parallel {display: flex;align-items: stretch;justify-content: center;background-color: white;position: relative;}#sk-container-id-2 div.sk-item::before, #sk-container-id-2 div.sk-parallel-item::before {content: \"\";position: absolute;border-left: 1px solid gray;box-sizing: border-box;top: 0;bottom: 0;left: 50%;z-index: -1;}#sk-container-id-2 div.sk-parallel-item {display: flex;flex-direction: column;z-index: 1;position: relative;background-color: white;}#sk-container-id-2 div.sk-parallel-item:first-child::after {align-self: flex-end;width: 50%;}#sk-container-id-2 div.sk-parallel-item:last-child::after {align-self: flex-start;width: 50%;}#sk-container-id-2 div.sk-parallel-item:only-child::after {width: 0;}#sk-container-id-2 div.sk-dashed-wrapped {border: 1px dashed gray;margin: 0 0.4em 0.5em 0.4em;box-sizing: border-box;padding-bottom: 0.4em;background-color: white;}#sk-container-id-2 div.sk-label label {font-family: monospace;font-weight: bold;display: inline-block;line-height: 1.2em;}#sk-container-id-2 div.sk-label-container {text-align: center;}#sk-container-id-2 div.sk-container {/* jupyter's `normalize.less` sets `[hidden] { display: none; }` but bootstrap.min.css set `[hidden] { display: none !important; }` so we also need the `!important` here to be able to override the default hidden behavior on the sphinx rendered scikit-learn.org. See: https://github.com/scikit-learn/scikit-learn/issues/21755 */display: inline-block !important;position: relative;}#sk-container-id-2 div.sk-text-repr-fallback {display: none;}</style><div id=\"sk-container-id-2\" class=\"sk-top-container\"><div class=\"sk-text-repr-fallback\"><pre>Incremental(estimator=PassiveAggressiveClassifier(C=1e-06), scoring=&#x27;accuracy&#x27;)</pre><b>In a Jupyter environment, please rerun this cell to show the HTML representation or trust the notebook. <br />On GitHub, the HTML representation is unable to render, please try loading this page with nbviewer.org.</b></div><div class=\"sk-container\" hidden><div class=\"sk-item sk-dashed-wrapped\"><div class=\"sk-label-container\"><div class=\"sk-label sk-toggleable\"><input class=\"sk-toggleable__control sk-hidden--visually\" id=\"sk-estimator-id-4\" type=\"checkbox\" ><label for=\"sk-estimator-id-4\" class=\"sk-toggleable__label sk-toggleable__label-arrow\">Incremental</label><div class=\"sk-toggleable__content\"><pre>Incremental(estimator=PassiveAggressiveClassifier(C=1e-06), scoring=&#x27;accuracy&#x27;)</pre></div></div></div><div class=\"sk-parallel\"><div class=\"sk-parallel-item\"><div class=\"sk-item\"><div class=\"sk-label-container\"><div class=\"sk-label sk-toggleable\"><input class=\"sk-toggleable__control sk-hidden--visually\" id=\"sk-estimator-id-5\" type=\"checkbox\" ><label for=\"sk-estimator-id-5\" class=\"sk-toggleable__label sk-toggleable__label-arrow\">estimator: PassiveAggressiveClassifier</label><div class=\"sk-toggleable__content\"><pre>PassiveAggressiveClassifier(C=1e-06)</pre></div></div></div><div class=\"sk-serial\"><div class=\"sk-item\"><div class=\"sk-estimator sk-toggleable\"><input class=\"sk-toggleable__control sk-hidden--visually\" id=\"sk-estimator-id-6\" type=\"checkbox\" ><label for=\"sk-estimator-id-6\" class=\"sk-toggleable__label sk-toggleable__label-arrow\">PassiveAggressiveClassifier</label><div class=\"sk-toggleable__content\"><pre>PassiveAggressiveClassifier(C=1e-06)</pre></div></div></div></div></div></div></div></div></div></div>"
      ],
      "text/plain": [
       "Incremental(estimator=PassiveAggressiveClassifier(C=1e-06), scoring='accuracy')"
      ]
     },
     "execution_count": 18,
     "metadata": {},
     "output_type": "execute_result"
    }
   ],
   "source": [
    "inc.fit(X_train, y_train, classes=classes)"
   ]
  },
  {
   "cell_type": "code",
   "execution_count": 19,
   "id": "c4a9183b",
   "metadata": {},
   "outputs": [
    {
     "data": {
      "text/plain": [
       "0.893847"
      ]
     },
     "execution_count": 19,
     "metadata": {},
     "output_type": "execute_result"
    }
   ],
   "source": [
    "inc.score(X_test, y_test)"
   ]
  },
  {
   "cell_type": "markdown",
   "id": "a1599db1",
   "metadata": {},
   "source": [
    "### Pass over the training data many times"
   ]
  },
  {
   "cell_type": "markdown",
   "id": "f1375790",
   "metadata": {},
   "source": [
    "Calling `.fit` passes over all chunks of our data once. However, in many cases we may want to pass over ht etraining data many times. To do this we can use the `Incremental.partial_fit` method and a for loop."
   ]
  },
  {
   "cell_type": "code",
   "execution_count": 20,
   "id": "6a6197d0",
   "metadata": {},
   "outputs": [
    {
     "name": "stdout",
     "output_type": "stream",
     "text": [
      "Score: 0.893861\n",
      "Score: 0.893875\n",
      "Score: 0.893883\n",
      "Score: 0.893875\n",
      "Score: 0.893903\n",
      "Score: 0.893888\n",
      "Score: 0.893905\n",
      "Score: 0.893897\n",
      "Score: 0.893916\n",
      "Score: 0.893852\n"
     ]
    }
   ],
   "source": [
    "for _ in range(10):\n",
    "    inc.partial_fit(X_train, y_train, classes=classes)\n",
    "    print(f\"Score: {inc.score(X_test, y_test)}\")"
   ]
  },
  {
   "cell_type": "code",
   "execution_count": 21,
   "id": "77e0bbbf",
   "metadata": {},
   "outputs": [
    {
     "data": {
      "text/html": [
       "<table>\n",
       "    <tr>\n",
       "        <td>\n",
       "            <table style=\"border-collapse: collapse;\">\n",
       "                <thead>\n",
       "                    <tr>\n",
       "                        <td> </td>\n",
       "                        <th> Array </th>\n",
       "                        <th> Chunk </th>\n",
       "                    </tr>\n",
       "                </thead>\n",
       "                <tbody>\n",
       "                    \n",
       "                    <tr>\n",
       "                        <th> Bytes </th>\n",
       "                        <td> 3.81 MiB </td>\n",
       "                        <td> 390.62 kiB </td>\n",
       "                    </tr>\n",
       "                    \n",
       "                    <tr>\n",
       "                        <th> Shape </th>\n",
       "                        <td> (1000000,) </td>\n",
       "                        <td> (100000,) </td>\n",
       "                    </tr>\n",
       "                    <tr>\n",
       "                        <th> Dask graph </th>\n",
       "                        <td colspan=\"2\"> 10 chunks in 2 graph layers </td>\n",
       "                    </tr>\n",
       "                    <tr>\n",
       "                        <th> Data type </th>\n",
       "                        <td colspan=\"2\"> int32 numpy.ndarray </td>\n",
       "                    </tr>\n",
       "                </tbody>\n",
       "            </table>\n",
       "        </td>\n",
       "        <td>\n",
       "        <svg width=\"170\" height=\"75\" style=\"stroke:rgb(0,0,0);stroke-width:1\" >\n",
       "\n",
       "  <!-- Horizontal lines -->\n",
       "  <line x1=\"0\" y1=\"0\" x2=\"120\" y2=\"0\" style=\"stroke-width:2\" />\n",
       "  <line x1=\"0\" y1=\"25\" x2=\"120\" y2=\"25\" style=\"stroke-width:2\" />\n",
       "\n",
       "  <!-- Vertical lines -->\n",
       "  <line x1=\"0\" y1=\"0\" x2=\"0\" y2=\"25\" style=\"stroke-width:2\" />\n",
       "  <line x1=\"12\" y1=\"0\" x2=\"12\" y2=\"25\" />\n",
       "  <line x1=\"24\" y1=\"0\" x2=\"24\" y2=\"25\" />\n",
       "  <line x1=\"36\" y1=\"0\" x2=\"36\" y2=\"25\" />\n",
       "  <line x1=\"48\" y1=\"0\" x2=\"48\" y2=\"25\" />\n",
       "  <line x1=\"60\" y1=\"0\" x2=\"60\" y2=\"25\" />\n",
       "  <line x1=\"72\" y1=\"0\" x2=\"72\" y2=\"25\" />\n",
       "  <line x1=\"84\" y1=\"0\" x2=\"84\" y2=\"25\" />\n",
       "  <line x1=\"96\" y1=\"0\" x2=\"96\" y2=\"25\" />\n",
       "  <line x1=\"108\" y1=\"0\" x2=\"108\" y2=\"25\" />\n",
       "  <line x1=\"120\" y1=\"0\" x2=\"120\" y2=\"25\" style=\"stroke-width:2\" />\n",
       "\n",
       "  <!-- Colored Rectangle -->\n",
       "  <polygon points=\"0.0,0.0 120.0,0.0 120.0,25.412616514582485 0.0,25.412616514582485\" style=\"fill:#ECB172A0;stroke-width:0\"/>\n",
       "\n",
       "  <!-- Text -->\n",
       "  <text x=\"60.000000\" y=\"45.412617\" font-size=\"1.0rem\" font-weight=\"100\" text-anchor=\"middle\" >1000000</text>\n",
       "  <text x=\"140.000000\" y=\"12.706308\" font-size=\"1.0rem\" font-weight=\"100\" text-anchor=\"middle\" transform=\"rotate(0,140.000000,12.706308)\">1</text>\n",
       "</svg>\n",
       "        </td>\n",
       "    </tr>\n",
       "</table>"
      ],
      "text/plain": [
       "dask.array<_predict, shape=(1000000,), dtype=int32, chunksize=(100000,), chunktype=numpy.ndarray>"
      ]
     },
     "execution_count": 21,
     "metadata": {},
     "output_type": "execute_result"
    }
   ],
   "source": [
    "inc.predict(X_test) # Predict produces lazy arrays"
   ]
  },
  {
   "cell_type": "code",
   "execution_count": 22,
   "id": "91eeedea",
   "metadata": {},
   "outputs": [
    {
     "data": {
      "text/plain": [
       "array([1, 0, 0, 1, 1, 0, 0, 1, 1, 1])"
      ]
     },
     "execution_count": 22,
     "metadata": {},
     "output_type": "execute_result"
    }
   ],
   "source": [
    "inc.predict(X_test)[:10].compute() # call compute to get reslts"
   ]
  },
  {
   "cell_type": "code",
   "execution_count": 23,
   "id": "28089f8e",
   "metadata": {},
   "outputs": [
    {
     "data": {
      "text/plain": [
       "0.893852"
      ]
     },
     "execution_count": 23,
     "metadata": {},
     "output_type": "execute_result"
    }
   ],
   "source": [
    "inc.score(X_test, y_test)"
   ]
  },
  {
   "cell_type": "markdown",
   "id": "7e2d491a",
   "metadata": {},
   "source": [
    "# ⏩ Diving into Dask's internals"
   ]
  },
  {
   "cell_type": "markdown",
   "id": "b909204d",
   "metadata": {},
   "source": [
    "\n",
    "## Components of a cluster\n",
    "\n",
    "A Dask cluster is composed of three different types of objects:\n",
    "\n",
    "1. **Scheduler**: A single, centralized scheduler process which responds to requests for computations, maintains relavant state about tasks and worker, and sends tasks to workers to be computed.\n",
    "2. **Workers**: One or more worker processes which compute tasks and store/serve their results.\n",
    "3. **Clients**: One or more client objects which are the user-facing entry point to interact with the cluster.\n",
    "\n",
    "<img src=\"images/dask-cluster.png\"\n",
    "     width=\"90%\"\n",
    "     alt=\"Dask components\\\">\n",
    "\n",
    "A couple of notes about workers:\n",
    "\n",
    "- Each worker runs in its own Python process. Each worker Python process has its own `concurrent.futures.ThreadPoolExecutor` which is uses to compute tasks in parallel.\n",
    "- There's actually a fourth cluster object which is often not discussed: the **Nanny**. By default Dask workers are launched and managed by a separate nanny process. This separate process allows workers to restart themselves if we want to use the `Client.restart` method, or to restart workers automatically if they get above a certain memory limit threshold."
   ]
  },
  {
   "cell_type": "markdown",
   "id": "5e1f3ddd",
   "metadata": {},
   "source": [
    "### Cluster managers (recommended)\n",
    "\n",
    "Dask has the notion of cluster manager objects. Cluster managers offer a consistent interface for common activities like adding/removing workers to a cluster, retrieving logs, etc. We can deploy Dask on **YARN**, **Kubernetes**, **AWS**, **Azure**, **GCP** etc."
   ]
  },
  {
   "cell_type": "code",
   "execution_count": 9,
   "id": "f6fae191",
   "metadata": {},
   "outputs": [
    {
     "data": {
      "text/html": [
       "<div class=\"jp-RenderedHTMLCommon jp-RenderedHTML jp-mod-trusted jp-OutputArea-output\">\n",
       "    <div style=\"width: 24px; height: 24px; background-color: #e1e1e1; border: 3px solid #9D9D9D; border-radius: 5px; position: absolute;\">\n",
       "    </div>\n",
       "    <div style=\"margin-left: 48px;\">\n",
       "        <h3 style=\"margin-bottom: 0px; margin-top: 0px;\">LocalCluster</h3>\n",
       "        <p style=\"color: #9D9D9D; margin-bottom: 0px;\">0a893185</p>\n",
       "        <table style=\"width: 100%; text-align: left;\">\n",
       "            <tr>\n",
       "                <td style=\"text-align: left;\">\n",
       "                    <strong>Dashboard:</strong> <a href=\"http://127.0.0.1:8787/status\" target=\"_blank\">http://127.0.0.1:8787/status</a>\n",
       "                </td>\n",
       "                <td style=\"text-align: left;\">\n",
       "                    <strong>Workers:</strong> 4\n",
       "                </td>\n",
       "            </tr>\n",
       "            <tr>\n",
       "                <td style=\"text-align: left;\">\n",
       "                    <strong>Total threads:</strong> 8\n",
       "                </td>\n",
       "                <td style=\"text-align: left;\">\n",
       "                    <strong>Total memory:</strong> 23.88 GiB\n",
       "                </td>\n",
       "            </tr>\n",
       "            \n",
       "            <tr>\n",
       "    <td style=\"text-align: left;\"><strong>Status:</strong> running</td>\n",
       "    <td style=\"text-align: left;\"><strong>Using processes:</strong> True</td>\n",
       "</tr>\n",
       "\n",
       "            \n",
       "        </table>\n",
       "\n",
       "        <details>\n",
       "            <summary style=\"margin-bottom: 20px;\">\n",
       "                <h3 style=\"display: inline;\">Scheduler Info</h3>\n",
       "            </summary>\n",
       "\n",
       "            <div style=\"\">\n",
       "    <div>\n",
       "        <div style=\"width: 24px; height: 24px; background-color: #FFF7E5; border: 3px solid #FF6132; border-radius: 5px; position: absolute;\"> </div>\n",
       "        <div style=\"margin-left: 48px;\">\n",
       "            <h3 style=\"margin-bottom: 0px;\">Scheduler</h3>\n",
       "            <p style=\"color: #9D9D9D; margin-bottom: 0px;\">Scheduler-bdd4d2dc-8967-468b-90e9-8c92f59cec32</p>\n",
       "            <table style=\"width: 100%; text-align: left;\">\n",
       "                <tr>\n",
       "                    <td style=\"text-align: left;\">\n",
       "                        <strong>Comm:</strong> tcp://127.0.0.1:52066\n",
       "                    </td>\n",
       "                    <td style=\"text-align: left;\">\n",
       "                        <strong>Workers:</strong> 4\n",
       "                    </td>\n",
       "                </tr>\n",
       "                <tr>\n",
       "                    <td style=\"text-align: left;\">\n",
       "                        <strong>Dashboard:</strong> <a href=\"http://127.0.0.1:8787/status\" target=\"_blank\">http://127.0.0.1:8787/status</a>\n",
       "                    </td>\n",
       "                    <td style=\"text-align: left;\">\n",
       "                        <strong>Total threads:</strong> 8\n",
       "                    </td>\n",
       "                </tr>\n",
       "                <tr>\n",
       "                    <td style=\"text-align: left;\">\n",
       "                        <strong>Started:</strong> Just now\n",
       "                    </td>\n",
       "                    <td style=\"text-align: left;\">\n",
       "                        <strong>Total memory:</strong> 23.88 GiB\n",
       "                    </td>\n",
       "                </tr>\n",
       "            </table>\n",
       "        </div>\n",
       "    </div>\n",
       "\n",
       "    <details style=\"margin-left: 48px;\">\n",
       "        <summary style=\"margin-bottom: 20px;\">\n",
       "            <h3 style=\"display: inline;\">Workers</h3>\n",
       "        </summary>\n",
       "\n",
       "        \n",
       "        <div style=\"margin-bottom: 20px;\">\n",
       "            <div style=\"width: 24px; height: 24px; background-color: #DBF5FF; border: 3px solid #4CC9FF; border-radius: 5px; position: absolute;\"> </div>\n",
       "            <div style=\"margin-left: 48px;\">\n",
       "            <details>\n",
       "                <summary>\n",
       "                    <h4 style=\"margin-bottom: 0px; display: inline;\">Worker: 0</h4>\n",
       "                </summary>\n",
       "                <table style=\"width: 100%; text-align: left;\">\n",
       "                    <tr>\n",
       "                        <td style=\"text-align: left;\">\n",
       "                            <strong>Comm: </strong> tcp://127.0.0.1:52092\n",
       "                        </td>\n",
       "                        <td style=\"text-align: left;\">\n",
       "                            <strong>Total threads: </strong> 2\n",
       "                        </td>\n",
       "                    </tr>\n",
       "                    <tr>\n",
       "                        <td style=\"text-align: left;\">\n",
       "                            <strong>Dashboard: </strong> <a href=\"http://127.0.0.1:52095/status\" target=\"_blank\">http://127.0.0.1:52095/status</a>\n",
       "                        </td>\n",
       "                        <td style=\"text-align: left;\">\n",
       "                            <strong>Memory: </strong> 5.97 GiB\n",
       "                        </td>\n",
       "                    </tr>\n",
       "                    <tr>\n",
       "                        <td style=\"text-align: left;\">\n",
       "                            <strong>Nanny: </strong> tcp://127.0.0.1:52069\n",
       "                        </td>\n",
       "                        <td style=\"text-align: left;\"></td>\n",
       "                    </tr>\n",
       "                    <tr>\n",
       "                        <td colspan=\"2\" style=\"text-align: left;\">\n",
       "                            <strong>Local directory: </strong> C:\\Users\\miket\\AppData\\Local\\Temp\\dask-worker-space\\worker-nbdsj2f7\n",
       "                        </td>\n",
       "                    </tr>\n",
       "\n",
       "                    \n",
       "\n",
       "                    \n",
       "\n",
       "                </table>\n",
       "            </details>\n",
       "            </div>\n",
       "        </div>\n",
       "        \n",
       "        <div style=\"margin-bottom: 20px;\">\n",
       "            <div style=\"width: 24px; height: 24px; background-color: #DBF5FF; border: 3px solid #4CC9FF; border-radius: 5px; position: absolute;\"> </div>\n",
       "            <div style=\"margin-left: 48px;\">\n",
       "            <details>\n",
       "                <summary>\n",
       "                    <h4 style=\"margin-bottom: 0px; display: inline;\">Worker: 1</h4>\n",
       "                </summary>\n",
       "                <table style=\"width: 100%; text-align: left;\">\n",
       "                    <tr>\n",
       "                        <td style=\"text-align: left;\">\n",
       "                            <strong>Comm: </strong> tcp://127.0.0.1:52091\n",
       "                        </td>\n",
       "                        <td style=\"text-align: left;\">\n",
       "                            <strong>Total threads: </strong> 2\n",
       "                        </td>\n",
       "                    </tr>\n",
       "                    <tr>\n",
       "                        <td style=\"text-align: left;\">\n",
       "                            <strong>Dashboard: </strong> <a href=\"http://127.0.0.1:52093/status\" target=\"_blank\">http://127.0.0.1:52093/status</a>\n",
       "                        </td>\n",
       "                        <td style=\"text-align: left;\">\n",
       "                            <strong>Memory: </strong> 5.97 GiB\n",
       "                        </td>\n",
       "                    </tr>\n",
       "                    <tr>\n",
       "                        <td style=\"text-align: left;\">\n",
       "                            <strong>Nanny: </strong> tcp://127.0.0.1:52070\n",
       "                        </td>\n",
       "                        <td style=\"text-align: left;\"></td>\n",
       "                    </tr>\n",
       "                    <tr>\n",
       "                        <td colspan=\"2\" style=\"text-align: left;\">\n",
       "                            <strong>Local directory: </strong> C:\\Users\\miket\\AppData\\Local\\Temp\\dask-worker-space\\worker-r6c90pdk\n",
       "                        </td>\n",
       "                    </tr>\n",
       "\n",
       "                    \n",
       "\n",
       "                    \n",
       "\n",
       "                </table>\n",
       "            </details>\n",
       "            </div>\n",
       "        </div>\n",
       "        \n",
       "        <div style=\"margin-bottom: 20px;\">\n",
       "            <div style=\"width: 24px; height: 24px; background-color: #DBF5FF; border: 3px solid #4CC9FF; border-radius: 5px; position: absolute;\"> </div>\n",
       "            <div style=\"margin-left: 48px;\">\n",
       "            <details>\n",
       "                <summary>\n",
       "                    <h4 style=\"margin-bottom: 0px; display: inline;\">Worker: 2</h4>\n",
       "                </summary>\n",
       "                <table style=\"width: 100%; text-align: left;\">\n",
       "                    <tr>\n",
       "                        <td style=\"text-align: left;\">\n",
       "                            <strong>Comm: </strong> tcp://127.0.0.1:52085\n",
       "                        </td>\n",
       "                        <td style=\"text-align: left;\">\n",
       "                            <strong>Total threads: </strong> 2\n",
       "                        </td>\n",
       "                    </tr>\n",
       "                    <tr>\n",
       "                        <td style=\"text-align: left;\">\n",
       "                            <strong>Dashboard: </strong> <a href=\"http://127.0.0.1:52086/status\" target=\"_blank\">http://127.0.0.1:52086/status</a>\n",
       "                        </td>\n",
       "                        <td style=\"text-align: left;\">\n",
       "                            <strong>Memory: </strong> 5.97 GiB\n",
       "                        </td>\n",
       "                    </tr>\n",
       "                    <tr>\n",
       "                        <td style=\"text-align: left;\">\n",
       "                            <strong>Nanny: </strong> tcp://127.0.0.1:52071\n",
       "                        </td>\n",
       "                        <td style=\"text-align: left;\"></td>\n",
       "                    </tr>\n",
       "                    <tr>\n",
       "                        <td colspan=\"2\" style=\"text-align: left;\">\n",
       "                            <strong>Local directory: </strong> C:\\Users\\miket\\AppData\\Local\\Temp\\dask-worker-space\\worker-hs22i20f\n",
       "                        </td>\n",
       "                    </tr>\n",
       "\n",
       "                    \n",
       "\n",
       "                    \n",
       "\n",
       "                </table>\n",
       "            </details>\n",
       "            </div>\n",
       "        </div>\n",
       "        \n",
       "        <div style=\"margin-bottom: 20px;\">\n",
       "            <div style=\"width: 24px; height: 24px; background-color: #DBF5FF; border: 3px solid #4CC9FF; border-radius: 5px; position: absolute;\"> </div>\n",
       "            <div style=\"margin-left: 48px;\">\n",
       "            <details>\n",
       "                <summary>\n",
       "                    <h4 style=\"margin-bottom: 0px; display: inline;\">Worker: 3</h4>\n",
       "                </summary>\n",
       "                <table style=\"width: 100%; text-align: left;\">\n",
       "                    <tr>\n",
       "                        <td style=\"text-align: left;\">\n",
       "                            <strong>Comm: </strong> tcp://127.0.0.1:52088\n",
       "                        </td>\n",
       "                        <td style=\"text-align: left;\">\n",
       "                            <strong>Total threads: </strong> 2\n",
       "                        </td>\n",
       "                    </tr>\n",
       "                    <tr>\n",
       "                        <td style=\"text-align: left;\">\n",
       "                            <strong>Dashboard: </strong> <a href=\"http://127.0.0.1:52089/status\" target=\"_blank\">http://127.0.0.1:52089/status</a>\n",
       "                        </td>\n",
       "                        <td style=\"text-align: left;\">\n",
       "                            <strong>Memory: </strong> 5.97 GiB\n",
       "                        </td>\n",
       "                    </tr>\n",
       "                    <tr>\n",
       "                        <td style=\"text-align: left;\">\n",
       "                            <strong>Nanny: </strong> tcp://127.0.0.1:52072\n",
       "                        </td>\n",
       "                        <td style=\"text-align: left;\"></td>\n",
       "                    </tr>\n",
       "                    <tr>\n",
       "                        <td colspan=\"2\" style=\"text-align: left;\">\n",
       "                            <strong>Local directory: </strong> C:\\Users\\miket\\AppData\\Local\\Temp\\dask-worker-space\\worker-ergvcj2a\n",
       "                        </td>\n",
       "                    </tr>\n",
       "\n",
       "                    \n",
       "\n",
       "                    \n",
       "\n",
       "                </table>\n",
       "            </details>\n",
       "            </div>\n",
       "        </div>\n",
       "        \n",
       "\n",
       "    </details>\n",
       "</div>\n",
       "\n",
       "        </details>\n",
       "    </div>\n",
       "</div>"
      ],
      "text/plain": [
       "LocalCluster(0a893185, 'tcp://127.0.0.1:52066', workers=4, threads=8, memory=23.88 GiB)"
      ]
     },
     "metadata": {},
     "output_type": "display_data"
    }
   ],
   "source": [
    "from dask.distributed import LocalCluster\n",
    "\n",
    "# Launch a scheduler and 4 workers on my local machine\n",
    "cluster = LocalCluster()\n",
    "cluster"
   ]
  },
  {
   "cell_type": "code",
   "execution_count": 10,
   "id": "27472627",
   "metadata": {},
   "outputs": [
    {
     "data": {
      "text/html": [
       "\n",
       "    <details>\n",
       "    <summary style='display:list-item'>Cluster</summary>\n",
       "    \n",
       "    \n",
       "        <p style=\"font-family: monospace; margin: 0;\"></p>\n",
       "    \n",
       "\n",
       "    </details>\n",
       "\n",
       "    <details>\n",
       "    <summary style='display:list-item'>Scheduler</summary>\n",
       "    \n",
       "    \n",
       "        <p style=\"font-family: monospace; margin: 0;\">2023-02-18 20:17:01,650 - distributed.scheduler - INFO - Starting worker compute stream, tcp://127.0.0.1:52092</p>\n",
       "    \n",
       "\n",
       "    \n",
       "        <p style=\"font-family: monospace; margin: 0;\">2023-02-18 20:17:01,649 - distributed.scheduler - INFO - Register worker &lt;WorkerState &#x27;tcp://127.0.0.1:52092&#x27;, name: 0, status: running, memory: 0, processing: 0&gt;</p>\n",
       "    \n",
       "\n",
       "    \n",
       "        <p style=\"font-family: monospace; margin: 0;\">2023-02-18 20:17:01,647 - distributed.scheduler - INFO - Starting worker compute stream, tcp://127.0.0.1:52091</p>\n",
       "    \n",
       "\n",
       "    \n",
       "        <p style=\"font-family: monospace; margin: 0;\">2023-02-18 20:17:01,646 - distributed.scheduler - INFO - Register worker &lt;WorkerState &#x27;tcp://127.0.0.1:52091&#x27;, name: 1, status: running, memory: 0, processing: 0&gt;</p>\n",
       "    \n",
       "\n",
       "    \n",
       "        <p style=\"font-family: monospace; margin: 0;\">2023-02-18 20:17:01,595 - distributed.scheduler - INFO - Starting worker compute stream, tcp://127.0.0.1:52088</p>\n",
       "    \n",
       "\n",
       "    \n",
       "        <p style=\"font-family: monospace; margin: 0;\">2023-02-18 20:17:01,594 - distributed.scheduler - INFO - Register worker &lt;WorkerState &#x27;tcp://127.0.0.1:52088&#x27;, name: 3, status: running, memory: 0, processing: 0&gt;</p>\n",
       "    \n",
       "\n",
       "    \n",
       "        <p style=\"font-family: monospace; margin: 0;\">2023-02-18 20:17:01,533 - distributed.scheduler - INFO - Starting worker compute stream, tcp://127.0.0.1:52085</p>\n",
       "    \n",
       "\n",
       "    \n",
       "        <p style=\"font-family: monospace; margin: 0;\">2023-02-18 20:17:01,532 - distributed.scheduler - INFO - Register worker &lt;WorkerState &#x27;tcp://127.0.0.1:52085&#x27;, name: 2, status: running, memory: 0, processing: 0&gt;</p>\n",
       "    \n",
       "\n",
       "    \n",
       "        <p style=\"font-family: monospace; margin: 0;\">2023-02-18 20:17:00,193 - distributed.scheduler - INFO -   dashboard at:            127.0.0.1:8787</p>\n",
       "    \n",
       "\n",
       "    \n",
       "        <p style=\"font-family: monospace; margin: 0;\">2023-02-18 20:17:00,193 - distributed.scheduler - INFO -   Scheduler at:     tcp://127.0.0.1:52066</p>\n",
       "    \n",
       "\n",
       "    \n",
       "        <p style=\"font-family: monospace; margin: 0;\">2023-02-18 20:17:00,175 - distributed.scheduler - INFO - State start</p>\n",
       "    \n",
       "\n",
       "    </details>\n",
       "\n",
       "    <details>\n",
       "    <summary style='display:list-item'>tcp://127.0.0.1:52085</summary>\n",
       "    \n",
       "    \n",
       "        <p style=\"font-family: monospace; margin: 0;\">2023-02-18 20:17:01,534 - distributed.worker - INFO - -------------------------------------------------</p>\n",
       "    \n",
       "\n",
       "    \n",
       "        <p style=\"font-family: monospace; margin: 0;\">2023-02-18 20:17:01,534 - distributed.worker - INFO -         Registered to:      tcp://127.0.0.1:52066</p>\n",
       "    \n",
       "\n",
       "    \n",
       "        <p style=\"font-family: monospace; margin: 0;\">2023-02-18 20:17:01,161 - distributed.worker - INFO - -------------------------------------------------</p>\n",
       "    \n",
       "\n",
       "    \n",
       "        <p style=\"font-family: monospace; margin: 0;\">2023-02-18 20:17:01,161 - distributed.worker - INFO -       Local Directory: C:\\Users\\miket\\AppData\\Local\\Temp\\dask-worker-space\\worker-hs22i20f</p>\n",
       "    \n",
       "\n",
       "    \n",
       "        <p style=\"font-family: monospace; margin: 0;\">2023-02-18 20:17:01,161 - distributed.worker - INFO -                Memory:                   5.97 GiB</p>\n",
       "    \n",
       "\n",
       "    \n",
       "        <p style=\"font-family: monospace; margin: 0;\">2023-02-18 20:17:01,161 - distributed.worker - INFO -               Threads:                          2</p>\n",
       "    \n",
       "\n",
       "    \n",
       "        <p style=\"font-family: monospace; margin: 0;\">2023-02-18 20:17:01,161 - distributed.worker - INFO - -------------------------------------------------</p>\n",
       "    \n",
       "\n",
       "    \n",
       "        <p style=\"font-family: monospace; margin: 0;\">2023-02-18 20:17:01,161 - distributed.worker - INFO - Waiting to connect to:      tcp://127.0.0.1:52066</p>\n",
       "    \n",
       "\n",
       "    \n",
       "        <p style=\"font-family: monospace; margin: 0;\">2023-02-18 20:17:01,161 - distributed.worker - INFO -          dashboard at:            127.0.0.1:52086</p>\n",
       "    \n",
       "\n",
       "    \n",
       "        <p style=\"font-family: monospace; margin: 0;\">2023-02-18 20:17:01,161 - distributed.worker - INFO -           Worker name:                          2</p>\n",
       "    \n",
       "\n",
       "    \n",
       "        <p style=\"font-family: monospace; margin: 0;\">2023-02-18 20:17:01,161 - distributed.worker - INFO -          Listening to:      tcp://127.0.0.1:52085</p>\n",
       "    \n",
       "\n",
       "    \n",
       "        <p style=\"font-family: monospace; margin: 0;\">2023-02-18 20:17:01,161 - distributed.worker - INFO -       Start worker at:      tcp://127.0.0.1:52085</p>\n",
       "    \n",
       "\n",
       "    </details>\n",
       "\n",
       "    <details>\n",
       "    <summary style='display:list-item'>tcp://127.0.0.1:52088</summary>\n",
       "    \n",
       "    \n",
       "        <p style=\"font-family: monospace; margin: 0;\">2023-02-18 20:17:01,595 - distributed.worker - INFO - -------------------------------------------------</p>\n",
       "    \n",
       "\n",
       "    \n",
       "        <p style=\"font-family: monospace; margin: 0;\">2023-02-18 20:17:01,595 - distributed.worker - INFO -         Registered to:      tcp://127.0.0.1:52066</p>\n",
       "    \n",
       "\n",
       "    \n",
       "        <p style=\"font-family: monospace; margin: 0;\">2023-02-18 20:17:01,227 - distributed.worker - INFO - -------------------------------------------------</p>\n",
       "    \n",
       "\n",
       "    \n",
       "        <p style=\"font-family: monospace; margin: 0;\">2023-02-18 20:17:01,227 - distributed.worker - INFO -       Local Directory: C:\\Users\\miket\\AppData\\Local\\Temp\\dask-worker-space\\worker-ergvcj2a</p>\n",
       "    \n",
       "\n",
       "    \n",
       "        <p style=\"font-family: monospace; margin: 0;\">2023-02-18 20:17:01,227 - distributed.worker - INFO -                Memory:                   5.97 GiB</p>\n",
       "    \n",
       "\n",
       "    \n",
       "        <p style=\"font-family: monospace; margin: 0;\">2023-02-18 20:17:01,227 - distributed.worker - INFO -               Threads:                          2</p>\n",
       "    \n",
       "\n",
       "    \n",
       "        <p style=\"font-family: monospace; margin: 0;\">2023-02-18 20:17:01,227 - distributed.worker - INFO - -------------------------------------------------</p>\n",
       "    \n",
       "\n",
       "    \n",
       "        <p style=\"font-family: monospace; margin: 0;\">2023-02-18 20:17:01,227 - distributed.worker - INFO - Waiting to connect to:      tcp://127.0.0.1:52066</p>\n",
       "    \n",
       "\n",
       "    \n",
       "        <p style=\"font-family: monospace; margin: 0;\">2023-02-18 20:17:01,227 - distributed.worker - INFO -          dashboard at:            127.0.0.1:52089</p>\n",
       "    \n",
       "\n",
       "    \n",
       "        <p style=\"font-family: monospace; margin: 0;\">2023-02-18 20:17:01,227 - distributed.worker - INFO -           Worker name:                          3</p>\n",
       "    \n",
       "\n",
       "    \n",
       "        <p style=\"font-family: monospace; margin: 0;\">2023-02-18 20:17:01,227 - distributed.worker - INFO -          Listening to:      tcp://127.0.0.1:52088</p>\n",
       "    \n",
       "\n",
       "    \n",
       "        <p style=\"font-family: monospace; margin: 0;\">2023-02-18 20:17:01,227 - distributed.worker - INFO -       Start worker at:      tcp://127.0.0.1:52088</p>\n",
       "    \n",
       "\n",
       "    </details>\n",
       "\n",
       "    <details>\n",
       "    <summary style='display:list-item'>tcp://127.0.0.1:52091</summary>\n",
       "    \n",
       "    \n",
       "        <p style=\"font-family: monospace; margin: 0;\">2023-02-18 20:17:01,648 - distributed.worker - INFO - -------------------------------------------------</p>\n",
       "    \n",
       "\n",
       "    \n",
       "        <p style=\"font-family: monospace; margin: 0;\">2023-02-18 20:17:01,647 - distributed.worker - INFO -         Registered to:      tcp://127.0.0.1:52066</p>\n",
       "    \n",
       "\n",
       "    \n",
       "        <p style=\"font-family: monospace; margin: 0;\">2023-02-18 20:17:01,292 - distributed.worker - INFO - -------------------------------------------------</p>\n",
       "    \n",
       "\n",
       "    \n",
       "        <p style=\"font-family: monospace; margin: 0;\">2023-02-18 20:17:01,292 - distributed.worker - INFO -       Local Directory: C:\\Users\\miket\\AppData\\Local\\Temp\\dask-worker-space\\worker-r6c90pdk</p>\n",
       "    \n",
       "\n",
       "    \n",
       "        <p style=\"font-family: monospace; margin: 0;\">2023-02-18 20:17:01,292 - distributed.worker - INFO -                Memory:                   5.97 GiB</p>\n",
       "    \n",
       "\n",
       "    \n",
       "        <p style=\"font-family: monospace; margin: 0;\">2023-02-18 20:17:01,292 - distributed.worker - INFO -               Threads:                          2</p>\n",
       "    \n",
       "\n",
       "    \n",
       "        <p style=\"font-family: monospace; margin: 0;\">2023-02-18 20:17:01,292 - distributed.worker - INFO - -------------------------------------------------</p>\n",
       "    \n",
       "\n",
       "    \n",
       "        <p style=\"font-family: monospace; margin: 0;\">2023-02-18 20:17:01,292 - distributed.worker - INFO - Waiting to connect to:      tcp://127.0.0.1:52066</p>\n",
       "    \n",
       "\n",
       "    \n",
       "        <p style=\"font-family: monospace; margin: 0;\">2023-02-18 20:17:01,292 - distributed.worker - INFO -          dashboard at:            127.0.0.1:52093</p>\n",
       "    \n",
       "\n",
       "    \n",
       "        <p style=\"font-family: monospace; margin: 0;\">2023-02-18 20:17:01,292 - distributed.worker - INFO -           Worker name:                          1</p>\n",
       "    \n",
       "\n",
       "    \n",
       "        <p style=\"font-family: monospace; margin: 0;\">2023-02-18 20:17:01,292 - distributed.worker - INFO -          Listening to:      tcp://127.0.0.1:52091</p>\n",
       "    \n",
       "\n",
       "    \n",
       "        <p style=\"font-family: monospace; margin: 0;\">2023-02-18 20:17:01,292 - distributed.worker - INFO -       Start worker at:      tcp://127.0.0.1:52091</p>\n",
       "    \n",
       "\n",
       "    </details>\n",
       "\n",
       "    <details>\n",
       "    <summary style='display:list-item'>tcp://127.0.0.1:52092</summary>\n",
       "    \n",
       "    \n",
       "        <p style=\"font-family: monospace; margin: 0;\">2023-02-18 20:17:01,650 - distributed.worker - INFO - -------------------------------------------------</p>\n",
       "    \n",
       "\n",
       "    \n",
       "        <p style=\"font-family: monospace; margin: 0;\">2023-02-18 20:17:01,650 - distributed.worker - INFO -         Registered to:      tcp://127.0.0.1:52066</p>\n",
       "    \n",
       "\n",
       "    \n",
       "        <p style=\"font-family: monospace; margin: 0;\">2023-02-18 20:17:01,296 - distributed.worker - INFO - -------------------------------------------------</p>\n",
       "    \n",
       "\n",
       "    \n",
       "        <p style=\"font-family: monospace; margin: 0;\">2023-02-18 20:17:01,296 - distributed.worker - INFO -       Local Directory: C:\\Users\\miket\\AppData\\Local\\Temp\\dask-worker-space\\worker-nbdsj2f7</p>\n",
       "    \n",
       "\n",
       "    \n",
       "        <p style=\"font-family: monospace; margin: 0;\">2023-02-18 20:17:01,296 - distributed.worker - INFO -                Memory:                   5.97 GiB</p>\n",
       "    \n",
       "\n",
       "    \n",
       "        <p style=\"font-family: monospace; margin: 0;\">2023-02-18 20:17:01,296 - distributed.worker - INFO -               Threads:                          2</p>\n",
       "    \n",
       "\n",
       "    \n",
       "        <p style=\"font-family: monospace; margin: 0;\">2023-02-18 20:17:01,296 - distributed.worker - INFO - -------------------------------------------------</p>\n",
       "    \n",
       "\n",
       "    \n",
       "        <p style=\"font-family: monospace; margin: 0;\">2023-02-18 20:17:01,296 - distributed.worker - INFO - Waiting to connect to:      tcp://127.0.0.1:52066</p>\n",
       "    \n",
       "\n",
       "    \n",
       "        <p style=\"font-family: monospace; margin: 0;\">2023-02-18 20:17:01,296 - distributed.worker - INFO -          dashboard at:            127.0.0.1:52095</p>\n",
       "    \n",
       "\n",
       "    \n",
       "        <p style=\"font-family: monospace; margin: 0;\">2023-02-18 20:17:01,296 - distributed.worker - INFO -           Worker name:                          0</p>\n",
       "    \n",
       "\n",
       "    \n",
       "        <p style=\"font-family: monospace; margin: 0;\">2023-02-18 20:17:01,296 - distributed.worker - INFO -          Listening to:      tcp://127.0.0.1:52092</p>\n",
       "    \n",
       "\n",
       "    \n",
       "        <p style=\"font-family: monospace; margin: 0;\">2023-02-18 20:17:01,296 - distributed.worker - INFO -       Start worker at:      tcp://127.0.0.1:52092</p>\n",
       "    \n",
       "\n",
       "    </details>\n"
      ],
      "text/plain": [
       "{'Cluster': '',\n",
       " 'Scheduler': \"2023-02-18 20:17:01,650 - distributed.scheduler - INFO - Starting worker compute stream, tcp://127.0.0.1:52092\\n2023-02-18 20:17:01,649 - distributed.scheduler - INFO - Register worker <WorkerState 'tcp://127.0.0.1:52092', name: 0, status: running, memory: 0, processing: 0>\\n2023-02-18 20:17:01,647 - distributed.scheduler - INFO - Starting worker compute stream, tcp://127.0.0.1:52091\\n2023-02-18 20:17:01,646 - distributed.scheduler - INFO - Register worker <WorkerState 'tcp://127.0.0.1:52091', name: 1, status: running, memory: 0, processing: 0>\\n2023-02-18 20:17:01,595 - distributed.scheduler - INFO - Starting worker compute stream, tcp://127.0.0.1:52088\\n2023-02-18 20:17:01,594 - distributed.scheduler - INFO - Register worker <WorkerState 'tcp://127.0.0.1:52088', name: 3, status: running, memory: 0, processing: 0>\\n2023-02-18 20:17:01,533 - distributed.scheduler - INFO - Starting worker compute stream, tcp://127.0.0.1:52085\\n2023-02-18 20:17:01,532 - distributed.scheduler - INFO - Register worker <WorkerState 'tcp://127.0.0.1:52085', name: 2, status: running, memory: 0, processing: 0>\\n2023-02-18 20:17:00,193 - distributed.scheduler - INFO -   dashboard at:            127.0.0.1:8787\\n2023-02-18 20:17:00,193 - distributed.scheduler - INFO -   Scheduler at:     tcp://127.0.0.1:52066\\n2023-02-18 20:17:00,175 - distributed.scheduler - INFO - State start\",\n",
       " 'tcp://127.0.0.1:52085': '2023-02-18 20:17:01,534 - distributed.worker - INFO - -------------------------------------------------\\n2023-02-18 20:17:01,534 - distributed.worker - INFO -         Registered to:      tcp://127.0.0.1:52066\\n2023-02-18 20:17:01,161 - distributed.worker - INFO - -------------------------------------------------\\n2023-02-18 20:17:01,161 - distributed.worker - INFO -       Local Directory: C:\\\\Users\\\\miket\\\\AppData\\\\Local\\\\Temp\\\\dask-worker-space\\\\worker-hs22i20f\\n2023-02-18 20:17:01,161 - distributed.worker - INFO -                Memory:                   5.97 GiB\\n2023-02-18 20:17:01,161 - distributed.worker - INFO -               Threads:                          2\\n2023-02-18 20:17:01,161 - distributed.worker - INFO - -------------------------------------------------\\n2023-02-18 20:17:01,161 - distributed.worker - INFO - Waiting to connect to:      tcp://127.0.0.1:52066\\n2023-02-18 20:17:01,161 - distributed.worker - INFO -          dashboard at:            127.0.0.1:52086\\n2023-02-18 20:17:01,161 - distributed.worker - INFO -           Worker name:                          2\\n2023-02-18 20:17:01,161 - distributed.worker - INFO -          Listening to:      tcp://127.0.0.1:52085\\n2023-02-18 20:17:01,161 - distributed.worker - INFO -       Start worker at:      tcp://127.0.0.1:52085',\n",
       " 'tcp://127.0.0.1:52088': '2023-02-18 20:17:01,595 - distributed.worker - INFO - -------------------------------------------------\\n2023-02-18 20:17:01,595 - distributed.worker - INFO -         Registered to:      tcp://127.0.0.1:52066\\n2023-02-18 20:17:01,227 - distributed.worker - INFO - -------------------------------------------------\\n2023-02-18 20:17:01,227 - distributed.worker - INFO -       Local Directory: C:\\\\Users\\\\miket\\\\AppData\\\\Local\\\\Temp\\\\dask-worker-space\\\\worker-ergvcj2a\\n2023-02-18 20:17:01,227 - distributed.worker - INFO -                Memory:                   5.97 GiB\\n2023-02-18 20:17:01,227 - distributed.worker - INFO -               Threads:                          2\\n2023-02-18 20:17:01,227 - distributed.worker - INFO - -------------------------------------------------\\n2023-02-18 20:17:01,227 - distributed.worker - INFO - Waiting to connect to:      tcp://127.0.0.1:52066\\n2023-02-18 20:17:01,227 - distributed.worker - INFO -          dashboard at:            127.0.0.1:52089\\n2023-02-18 20:17:01,227 - distributed.worker - INFO -           Worker name:                          3\\n2023-02-18 20:17:01,227 - distributed.worker - INFO -          Listening to:      tcp://127.0.0.1:52088\\n2023-02-18 20:17:01,227 - distributed.worker - INFO -       Start worker at:      tcp://127.0.0.1:52088',\n",
       " 'tcp://127.0.0.1:52091': '2023-02-18 20:17:01,648 - distributed.worker - INFO - -------------------------------------------------\\n2023-02-18 20:17:01,647 - distributed.worker - INFO -         Registered to:      tcp://127.0.0.1:52066\\n2023-02-18 20:17:01,292 - distributed.worker - INFO - -------------------------------------------------\\n2023-02-18 20:17:01,292 - distributed.worker - INFO -       Local Directory: C:\\\\Users\\\\miket\\\\AppData\\\\Local\\\\Temp\\\\dask-worker-space\\\\worker-r6c90pdk\\n2023-02-18 20:17:01,292 - distributed.worker - INFO -                Memory:                   5.97 GiB\\n2023-02-18 20:17:01,292 - distributed.worker - INFO -               Threads:                          2\\n2023-02-18 20:17:01,292 - distributed.worker - INFO - -------------------------------------------------\\n2023-02-18 20:17:01,292 - distributed.worker - INFO - Waiting to connect to:      tcp://127.0.0.1:52066\\n2023-02-18 20:17:01,292 - distributed.worker - INFO -          dashboard at:            127.0.0.1:52093\\n2023-02-18 20:17:01,292 - distributed.worker - INFO -           Worker name:                          1\\n2023-02-18 20:17:01,292 - distributed.worker - INFO -          Listening to:      tcp://127.0.0.1:52091\\n2023-02-18 20:17:01,292 - distributed.worker - INFO -       Start worker at:      tcp://127.0.0.1:52091',\n",
       " 'tcp://127.0.0.1:52092': '2023-02-18 20:17:01,650 - distributed.worker - INFO - -------------------------------------------------\\n2023-02-18 20:17:01,650 - distributed.worker - INFO -         Registered to:      tcp://127.0.0.1:52066\\n2023-02-18 20:17:01,296 - distributed.worker - INFO - -------------------------------------------------\\n2023-02-18 20:17:01,296 - distributed.worker - INFO -       Local Directory: C:\\\\Users\\\\miket\\\\AppData\\\\Local\\\\Temp\\\\dask-worker-space\\\\worker-nbdsj2f7\\n2023-02-18 20:17:01,296 - distributed.worker - INFO -                Memory:                   5.97 GiB\\n2023-02-18 20:17:01,296 - distributed.worker - INFO -               Threads:                          2\\n2023-02-18 20:17:01,296 - distributed.worker - INFO - -------------------------------------------------\\n2023-02-18 20:17:01,296 - distributed.worker - INFO - Waiting to connect to:      tcp://127.0.0.1:52066\\n2023-02-18 20:17:01,296 - distributed.worker - INFO -          dashboard at:            127.0.0.1:52095\\n2023-02-18 20:17:01,296 - distributed.worker - INFO -           Worker name:                          0\\n2023-02-18 20:17:01,296 - distributed.worker - INFO -          Listening to:      tcp://127.0.0.1:52092\\n2023-02-18 20:17:01,296 - distributed.worker - INFO -       Start worker at:      tcp://127.0.0.1:52092'}"
      ]
     },
     "execution_count": 10,
     "metadata": {},
     "output_type": "execute_result"
    }
   ],
   "source": [
    "# Retrieve cluster logs\n",
    "cluster.get_logs()"
   ]
  },
  {
   "cell_type": "markdown",
   "id": "0a03c844",
   "metadata": {},
   "source": [
    "One of the nice things about `LocalCluster` is it gives us direct access the `Scheduler` Python object. This allows us to easily inspect the scheduler directly."
   ]
  },
  {
   "cell_type": "code",
   "execution_count": 11,
   "id": "a157520b",
   "metadata": {},
   "outputs": [
    {
     "data": {
      "text/html": [
       "<strong>Scheduler: </strong>tcp://127.0.0.1:52066\n",
       "<span style=\"color: var(--jp-ui-font-color2, gray)\"> workers: </span>4\n",
       "<span style=\"color: var(--jp-ui-font-color2, gray)\"> cores: </span>8\n",
       "<span style=\"color: var(--jp-ui-font-color2, gray)\"> tasks: </span>0"
      ],
      "text/plain": [
       "<Scheduler 'tcp://127.0.0.1:52066', workers: 4, cores: 8, tasks: 0>"
      ]
     },
     "execution_count": 11,
     "metadata": {},
     "output_type": "execute_result"
    }
   ],
   "source": [
    "scheduler = cluster.scheduler\n",
    "scheduler"
   ]
  },
  {
   "cell_type": "code",
   "execution_count": 12,
   "id": "f919b7ba",
   "metadata": {},
   "outputs": [
    {
     "data": {
      "text/plain": [
       "{'tcp://127.0.0.1:52085': <WorkerState 'tcp://127.0.0.1:52085', name: 2, status: running, memory: 0, processing: 0>,\n",
       " 'tcp://127.0.0.1:52088': <WorkerState 'tcp://127.0.0.1:52088', name: 3, status: running, memory: 0, processing: 0>,\n",
       " 'tcp://127.0.0.1:52091': <WorkerState 'tcp://127.0.0.1:52091', name: 1, status: running, memory: 0, processing: 0>,\n",
       " 'tcp://127.0.0.1:52092': <WorkerState 'tcp://127.0.0.1:52092', name: 0, status: running, memory: 0, processing: 0>}"
      ]
     },
     "execution_count": 12,
     "metadata": {},
     "output_type": "execute_result"
    }
   ],
   "source": [
    "dict(scheduler.workers) # The state of all the workers"
   ]
  },
  {
   "cell_type": "markdown",
   "id": "11bfe424",
   "metadata": {},
   "source": [
    "Let's take a look at the `WorkerState` attributes"
   ]
  },
  {
   "cell_type": "code",
   "execution_count": 14,
   "id": "92e48403",
   "metadata": {},
   "outputs": [
    {
     "data": {
      "text/html": [
       "<strong>WorkerState: </strong> tcp://127.0.0.1:52085\n",
       "<span style=\"color: var(--jp-ui-font-color2, gray)\"> name: </span>2\n",
       "<span style=\"color: var(--jp-ui-font-color2, gray)\"> status: </span>running\n",
       "<span style=\"color: var(--jp-ui-font-color2, gray)\"> memory: </span>0\n",
       "<span style=\"color: var(--jp-ui-font-color2, gray)\"> processing: </span>0"
      ],
      "text/plain": [
       "<WorkerState 'tcp://127.0.0.1:52085', name: 2, status: running, memory: 0, processing: 0>"
      ]
     },
     "execution_count": 14,
     "metadata": {},
     "output_type": "execute_result"
    }
   ],
   "source": [
    "worker_state = next(iter(scheduler.workers.values()))\n",
    "worker_state"
   ]
  },
  {
   "cell_type": "code",
   "execution_count": 15,
   "id": "d164a20b",
   "metadata": {},
   "outputs": [
    {
     "data": {
      "text/plain": [
       "'tcp://127.0.0.1:52085'"
      ]
     },
     "execution_count": 15,
     "metadata": {},
     "output_type": "execute_result"
    }
   ],
   "source": [
    "worker_state.address   # Worker's address"
   ]
  },
  {
   "cell_type": "code",
   "execution_count": 16,
   "id": "bc061cfe",
   "metadata": {},
   "outputs": [
    {
     "data": {
      "text/plain": [
       "2"
      ]
     },
     "execution_count": 16,
     "metadata": {},
     "output_type": "execute_result"
    }
   ],
   "source": [
    "worker_state.nthreads   # Number of threads in the worker's `ThreadPoolExecutor`"
   ]
  },
  {
   "cell_type": "code",
   "execution_count": 17,
   "id": "e67595d3",
   "metadata": {},
   "outputs": [
    {
     "data": {
      "text/plain": [
       "{}"
      ]
     },
     "execution_count": 17,
     "metadata": {},
     "output_type": "execute_result"
    }
   ],
   "source": [
    "# Dictionary of all tasks which are currently being processed, along with the current duration of the task\n",
    "worker_state.executing"
   ]
  },
  {
   "cell_type": "code",
   "execution_count": 18,
   "id": "ae4d78b9",
   "metadata": {
    "collapsed": true,
    "jupyter": {
     "outputs_hidden": true
    }
   },
   "outputs": [
    {
     "data": {
      "text/plain": [
       "{'task_counts': {'executing': 0,\n",
       "  'long-running': 0,\n",
       "  'memory': 0,\n",
       "  'ready': 0,\n",
       "  'constrained': 0,\n",
       "  'waiting': 0,\n",
       "  'fetch': 0,\n",
       "  'missing': 0,\n",
       "  'flight': 0,\n",
       "  'other': 0},\n",
       " 'bandwidth': {'total': 100000000, 'workers': {}, 'types': {}},\n",
       " 'managed_bytes': 0,\n",
       " 'spilled_bytes': {'memory': 0, 'disk': 0},\n",
       " 'transfer': {'incoming_bytes': 0,\n",
       "  'incoming_count': 0,\n",
       "  'incoming_count_total': 0,\n",
       "  'outgoing_bytes': 0,\n",
       "  'outgoing_count': 0,\n",
       "  'outgoing_count_total': 0},\n",
       " 'event_loop_interval': 0.020009611167159734,\n",
       " 'cpu': 3.1,\n",
       " 'memory': 81469440,\n",
       " 'time': 1676744487.020529,\n",
       " 'host_net_io': {'read_bps': 119.59302493498478,\n",
       "  'write_bps': 328.8808185712081},\n",
       " 'host_disk_io': {'read_bps': 0.0, 'write_bps': 0.0}}"
      ]
     },
     "execution_count": 18,
     "metadata": {},
     "output_type": "execute_result"
    }
   ],
   "source": [
    "worker_state.metrics   # Various metrics describing the current state of the worker"
   ]
  },
  {
   "cell_type": "code",
   "execution_count": 20,
   "id": "836164ab",
   "metadata": {},
   "outputs": [
    {
     "data": {
      "text/plain": [
       "{0: <Nanny: tcp://127.0.0.1:52092, threads: 2>,\n",
       " 1: <Nanny: tcp://127.0.0.1:52091, threads: 2>,\n",
       " 2: <Nanny: tcp://127.0.0.1:52085, threads: 2>,\n",
       " 3: <Nanny: tcp://127.0.0.1:52088, threads: 2>}"
      ]
     },
     "execution_count": 20,
     "metadata": {},
     "output_type": "execute_result"
    }
   ],
   "source": [
    "cluster.workers # Notice the nanny object"
   ]
  },
  {
   "cell_type": "code",
   "execution_count": 21,
   "id": "391e0db2",
   "metadata": {},
   "outputs": [
    {
     "data": {
      "text/plain": [
       "<Nanny: tcp://127.0.0.1:52092, threads: 2>"
      ]
     },
     "execution_count": 21,
     "metadata": {},
     "output_type": "execute_result"
    }
   ],
   "source": [
    "worker = next(iter(cluster.workers.values()))\n",
    "worker"
   ]
  },
  {
   "cell_type": "code",
   "execution_count": 8,
   "id": "127b7480",
   "metadata": {},
   "outputs": [],
   "source": [
    "# Shut down cluster\n",
    "cluster.close()"
   ]
  },
  {
   "cell_type": "markdown",
   "id": "8ffd933e",
   "metadata": {},
   "source": [
    "# ⏩ Online Distributed ML using Dask"
   ]
  },
  {
   "cell_type": "markdown",
   "id": "8e76d8d2",
   "metadata": {},
   "source": [
    "## 1️⃣ Customizing Worker class - Hacky"
   ]
  },
  {
   "cell_type": "markdown",
   "id": "868f720d",
   "metadata": {},
   "source": [
    "When we train a model , Dask's idea is that we wrap the `estimator` in some Dask wrapper from `dask_ml.wrappers` and Dask will handle the rest. It will handle how the training data is distributed (we have control), what each worker does, etc. Internally, Dask would distribute the data to the workers in `chunks` and fit the model in these `chunks` (it would call `partial_fit`), but we do not have a huge say in this process. It would indeed train the model in a distributed fashion and we would get the result. But, in our use-case we want each worker to have its own model. The model should be anything we would like it to, for example, `SGDClassifier`, `PassiveAggressiveClassifier` or anything (that supports `partial_fit`) in the sklearn library. We also want each `Worker` to label Online instances that we sent it. There was a lot of thought of how we can achieve this and this is the easiest approach:\n",
    "\n",
    "We extend the `Worker` class from Dask and let it instanciate sklearn `estimators` of our liking. In the following implementation we only support `PassiveAggressiveClassifier` but it will be very obvious how easily this can be extended for other models (literally 5 lines of code). Now, the idea is simple: The client instructs each worker to `initialize_model`, given the `model_name`, `classes`, `n_features`, `kwargs` all necessary for the training to work since we intend to only use use `partial_fit` (never `fit`). More specifically, we have to do some extra work so everything runs smoothly (manually set `.coef_`, `intercept_`, etc.). Then, the client will send `chunks` (or batches) of data to our workers who will train their models: `model_partial_fit`. After some time (currently after every round) the workers send their models (to be precise, their `coef_`s and `intercept_`) to the client who will combine them (currently with `numpy.mean`) and send them back to the workers who will synchronize (to be precise, set their `coef_` to the `global_coef` and `intercept_` to `global_intercept`)."
   ]
  },
  {
   "cell_type": "code",
   "execution_count": 18,
   "id": "7f9d3738",
   "metadata": {},
   "outputs": [],
   "source": [
    "from distributed import Worker\n",
    "from sklearn.linear_model import PassiveAggressiveClassifier\n",
    "import numpy as np\n",
    "\n",
    "\n",
    "class FedLWorker(Worker):\n",
    "    \n",
    "    def __init__(self, *args, **kwargs):\n",
    "        super().__init__(*args, **kwargs)\n",
    "    \n",
    "    def initialize_model(self, model_name, classes, n_features, **kwargs):\n",
    "        \"\"\" Initializes the model in worker's memory.\n",
    "        \n",
    "        :param: model_name: The model's name (Useful for us only to know which model to create)\n",
    "        :parm classes: The distinct y-labels of the whole dataset.\n",
    "        :param n_features: Number of features in the instances. Used to init coef_ \n",
    "        :param kwargs: The initialization keyword-args of the model. ex. C=0.01, loss='hinge'\n",
    "        \"\"\"\n",
    "        if model_name == \"PassiveAggressiveClassifier\":\n",
    "            self.model = PassiveAggressiveClassifier(**kwargs)\n",
    "            \n",
    "            self.model.classes_ = classes\n",
    "            \n",
    "            n_classes = classes.size\n",
    "            \n",
    "            # See docs coef_ : ndarray of shape (1, n_features) if n_classes == 2 else (n_classes, n_features)\n",
    "            if n_classes == 2:\n",
    "                self.model.coef_ = np.zeros((1, n_features))\n",
    "            else:\n",
    "                self.model.coef_ = np.zeros((n_classes, n_features))\n",
    "            \n",
    "            # See docs intercept_ : ndarray of shape (1,) if n_classes == 2 else (n_classes,)\n",
    "            if n_classes == 2:\n",
    "                self.model.intercept_ = np.zeros(1)\n",
    "            else:\n",
    "                self.model.intercept_ = np.zeros(n_classes)\n",
    "              \n",
    "    def model_partial_fit(self, X_train, y_train):\n",
    "        self.model.partial_fit(X_train, y_train)\n",
    "        \n",
    "    def get_model_coef(self):\n",
    "        return self.model.coef_\n",
    "    \n",
    "    def get_model_intercept(self):\n",
    "        return self.model.intercept_\n",
    "    \n",
    "    def set_model_coef(self, coef):\n",
    "        self.model.coef_ = coef\n",
    "    \n",
    "    def set_model_intercept(self, intercept):\n",
    "        self.model.intercept_ = intercept\n",
    "    \n",
    "    def predict(self, x):\n",
    "        return self.model.predict(x)\n",
    "\n"
   ]
  },
  {
   "cell_type": "markdown",
   "id": "75da8545",
   "metadata": {},
   "source": [
    "## 2️⃣ Initialize Cluster - Client\n",
    "\n",
    "The `worker_class` is the class used to instantiate workers. Usually we have **nanny** class but in our case we have defined our own worker class `CustomWorker` which supports the extra functionalities we need. Hence, `worker_class=FedLWorker`.\n",
    "\n",
    "Adjust `n_workers`, `threads_per_worker` for your enviroment.\n",
    "\n",
    "Note: By using `worker_class=FedLWorker` we overwrite the *nanny* process completely (no *nanny*)"
   ]
  },
  {
   "cell_type": "code",
   "execution_count": 19,
   "id": "6bcf286e",
   "metadata": {},
   "outputs": [],
   "source": [
    "from dask.distributed import Client, LocalCluster, get_worker\n",
    "\n",
    "cluster = LocalCluster(n_workers=8, threads_per_worker=1, worker_class=FedLWorker)\n",
    "client = Client(cluster)"
   ]
  },
  {
   "cell_type": "markdown",
   "id": "d460e2bd",
   "metadata": {},
   "source": [
    "## 3️⃣ Create Data"
   ]
  },
  {
   "cell_type": "markdown",
   "id": "0304a14b",
   "metadata": {},
   "source": [
    "We create some data in the Dask way. Data are lazily stored and distributed in memory. Only when `.compute()` happens do the data get materialized in memory.\n",
    "\n",
    "We follow the convention and split data to training data and testing data. Then, we create batches of data (or else `chunks`). Each `chunk` of data holds `batch_size` number of X-instances and `batch_size` number of y-labels. The `X_batches` and `y_batches` are then ready to be distributed to the workers.\n",
    "\n",
    "Change `n`, `d`, `batch_size` to your liking, but note that with small `batch_size` we have heavy communication cost overhead and the learning might take considerably longer. You will see it in Dashboard.\n",
    "\n",
    "Note: Ignore `UserWarning`, it has to do with the scheduler (no problem)."
   ]
  },
  {
   "cell_type": "code",
   "execution_count": 20,
   "id": "156c2fca",
   "metadata": {},
   "outputs": [
    {
     "name": "stderr",
     "output_type": "stream",
     "text": [
      "C:\\Users\\miket\\Dropbox\\THESIS\\Projects\\venv\\lib\\site-packages\\dask\\base.py:1374: UserWarning: Running on a single-machine scheduler when a distributed client is active might lead to unexpected results.\n",
      "  warnings.warn(\n"
     ]
    }
   ],
   "source": [
    "from dask_ml.model_selection import train_test_split\n",
    "from dask_ml.datasets import make_classification # Dask way\n",
    "import dask.array as da\n",
    "\n",
    "# ~ 1GB Dataset (with the current numbers)\n",
    "n, d = 1_000_000, 100\n",
    "#batch_size = 16_384\n",
    "batch_size = 4_096\n",
    "\n",
    "# Distinct y-labels in the entire Dataset. We know that for binary classification:\n",
    "classes = np.array([0,1])\n",
    "\n",
    "# Dask lazilly loaded into memory.\n",
    "X, y = make_classification(\n",
    "    n_samples=n,\n",
    "    n_features=d,\n",
    "    n_informative=50,\n",
    "    n_redundant=10,\n",
    "    n_classes=2,\n",
    "    flip_y=0.05,\n",
    "    chunks=batch_size  # partitions -> n // batch_size\n",
    ")\n",
    "\n",
    "# Compute classes using Dask (the proper way)\n",
    "#classes = da.unique(y).compute() \n",
    "\n",
    "# Split into random train and test subsets\n",
    "X_train, X_test, y_train, y_test =  train_test_split(X, y, test_size=0.1)\n",
    "\n",
    "# Each batch is one block (not yet materialized in memory, no .compute() yet)\n",
    "X_batches = X_train.blocks\n",
    "y_batches = y_train.blocks"
   ]
  },
  {
   "cell_type": "code",
   "execution_count": 21,
   "id": "ec542748",
   "metadata": {},
   "outputs": [
    {
     "data": {
      "text/html": [
       "<table>\n",
       "    <tr>\n",
       "        <td>\n",
       "            <table style=\"border-collapse: collapse;\">\n",
       "                <thead>\n",
       "                    <tr>\n",
       "                        <td> </td>\n",
       "                        <th> Array </th>\n",
       "                        <th> Chunk </th>\n",
       "                    </tr>\n",
       "                </thead>\n",
       "                <tbody>\n",
       "                    \n",
       "                    <tr>\n",
       "                        <th> Bytes </th>\n",
       "                        <td> 686.57 MiB </td>\n",
       "                        <td> 2.81 MiB </td>\n",
       "                    </tr>\n",
       "                    \n",
       "                    <tr>\n",
       "                        <th> Shape </th>\n",
       "                        <td> (899902, 100) </td>\n",
       "                        <td> (3686, 100) </td>\n",
       "                    </tr>\n",
       "                    <tr>\n",
       "                        <th> Dask graph </th>\n",
       "                        <td colspan=\"2\"> 245 chunks in 738 graph layers </td>\n",
       "                    </tr>\n",
       "                    <tr>\n",
       "                        <th> Data type </th>\n",
       "                        <td colspan=\"2\"> float64 numpy.ndarray </td>\n",
       "                    </tr>\n",
       "                </tbody>\n",
       "            </table>\n",
       "        </td>\n",
       "        <td>\n",
       "        <svg width=\"75\" height=\"170\" style=\"stroke:rgb(0,0,0);stroke-width:1\" >\n",
       "\n",
       "  <!-- Horizontal lines -->\n",
       "  <line x1=\"0\" y1=\"0\" x2=\"25\" y2=\"0\" style=\"stroke-width:2\" />\n",
       "  <line x1=\"0\" y1=\"5\" x2=\"25\" y2=\"5\" />\n",
       "  <line x1=\"0\" y1=\"12\" x2=\"25\" y2=\"12\" />\n",
       "  <line x1=\"0\" y1=\"18\" x2=\"25\" y2=\"18\" />\n",
       "  <line x1=\"0\" y1=\"25\" x2=\"25\" y2=\"25\" />\n",
       "  <line x1=\"0\" y1=\"31\" x2=\"25\" y2=\"31\" />\n",
       "  <line x1=\"0\" y1=\"37\" x2=\"25\" y2=\"37\" />\n",
       "  <line x1=\"0\" y1=\"44\" x2=\"25\" y2=\"44\" />\n",
       "  <line x1=\"0\" y1=\"50\" x2=\"25\" y2=\"50\" />\n",
       "  <line x1=\"0\" y1=\"57\" x2=\"25\" y2=\"57\" />\n",
       "  <line x1=\"0\" y1=\"62\" x2=\"25\" y2=\"62\" />\n",
       "  <line x1=\"0\" y1=\"69\" x2=\"25\" y2=\"69\" />\n",
       "  <line x1=\"0\" y1=\"75\" x2=\"25\" y2=\"75\" />\n",
       "  <line x1=\"0\" y1=\"82\" x2=\"25\" y2=\"82\" />\n",
       "  <line x1=\"0\" y1=\"88\" x2=\"25\" y2=\"88\" />\n",
       "  <line x1=\"0\" y1=\"94\" x2=\"25\" y2=\"94\" />\n",
       "  <line x1=\"0\" y1=\"101\" x2=\"25\" y2=\"101\" />\n",
       "  <line x1=\"0\" y1=\"107\" x2=\"25\" y2=\"107\" />\n",
       "  <line x1=\"0\" y1=\"114\" x2=\"25\" y2=\"114\" />\n",
       "  <line x1=\"0\" y1=\"120\" x2=\"25\" y2=\"120\" style=\"stroke-width:2\" />\n",
       "\n",
       "  <!-- Vertical lines -->\n",
       "  <line x1=\"0\" y1=\"0\" x2=\"0\" y2=\"120\" style=\"stroke-width:2\" />\n",
       "  <line x1=\"25\" y1=\"0\" x2=\"25\" y2=\"120\" style=\"stroke-width:2\" />\n",
       "\n",
       "  <!-- Colored Rectangle -->\n",
       "  <polygon points=\"0.0,0.0 25.41261651458249,0.0 25.41261651458249,120.0 0.0,120.0\" style=\"fill:#8B4903A0;stroke-width:0\"/>\n",
       "\n",
       "  <!-- Text -->\n",
       "  <text x=\"12.706308\" y=\"140.000000\" font-size=\"1.0rem\" font-weight=\"100\" text-anchor=\"middle\" >100</text>\n",
       "  <text x=\"45.412617\" y=\"60.000000\" font-size=\"1.0rem\" font-weight=\"100\" text-anchor=\"middle\" transform=\"rotate(-90,45.412617,60.000000)\">899902</text>\n",
       "</svg>\n",
       "        </td>\n",
       "    </tr>\n",
       "</table>"
      ],
      "text/plain": [
       "dask.array<concatenate, shape=(899902, 100), dtype=float64, chunksize=(3686, 100), chunktype=numpy.ndarray>"
      ]
     },
     "execution_count": 21,
     "metadata": {},
     "output_type": "execute_result"
    }
   ],
   "source": [
    "X_train"
   ]
  },
  {
   "cell_type": "markdown",
   "id": "6208b0fe",
   "metadata": {},
   "source": [
    "## 4️⃣ Train in Federated Learning setting (with *stream* of batches)\n",
    "\n",
    "In Federated Learning, the goal is to train a global model using data that is distributed across multiple devices, without centralizing the data. In this application, there is a central coordinator (`client`), and multiple workers (`FedLWorker`) that each hold a portion of the data. Workers train their local models on their own data (batches), and periodically send the updated model parameters to the coordinator, which aggregates them to update the `global_model`. It's worth noting that in this application our coordinator `client` only tells workers how to find data (with *futures* using `.scatter`). No data (batch) is materialized outside of some worker's memory at all. All data is materialized when workers use `.compute()`. This way the basic premise of `decentrilized` data (in FL) holds in our application.\n",
    "\n",
    "More specifically, the idea is the following:\n",
    "- Initialize a global model on client: `global_model`\n",
    "- Initialize each worker's local model: `.run` the `worker_initialize_model` function on each worker.\n",
    "- Start iterating over tuples of batches and workers (one-to-one), in a cyclic manner considering the workers. Again, we have to note that the batches are not materialized yet (Dask chunks)\n",
    "    - Distribute the batch to the worker with `.scatter` (only the information is passed, not the data).\n",
    "    - Instruct the worker to train on this batch with `.submit`. The task goes to the scheduler. Since we only care about the side-effects of the task (i.e., the worker trains its model) and we do not expect the worker to send anything back we use `fire_and_forget`. Workers materialize the batch with `.compute` directly (noone except them has seen the data until now) and train their model with one `.partial_fit`\n",
    "    - Check the round terminating codition, `round_terminates()`.\n",
    "        - If **true** it's time for synchronization: Get the each worker's model `coef_` and `intercept_` and use some scheme to combine the models (currently just mean) to find the `global_coef` and `global_intercept`. This happens with `gather_and_combine_worker_models`. Update the `global_model` to these values and distribute them to all the workers (synchronize all worker models).\n",
    "        - If **false** continue.\n",
    "- Synchronize one last time. Note: we only update `global_model` using `gather_and_combine_worker_models` as explained before, we don't synchronize the workers one last time, on purpose.\n",
    "\n",
    "**TODO**: \n",
    "   - IMPORTANT: When round terminating condition is true it means that we must now synchronize. But, tasks still exist in the scheduler that instruct workers to train on (previous) batches. We obviously block inside synchronization (i.e. `.run`) so no more learning tasks will be sent, but the already sent tasks must first run. This means, even though we know that we must synchronize exactly at this moment, workers will continue training (until tasks are complete) before we synchronize. Think about this... might cause problems. (One potential approach: don't use `fire_and_forget`, collect futures in a list and `.cancel` when sync must happen).\n",
    "   - Use better round terminating condition.\n",
    "   - When thinking about synchronization approach, research of ways for workers to inform client that synchronization must happen (their model drifted) without blocking `.gather` or `.result`. (Sol: `pub()` - `sub()`)\n",
    "   - *Mean* of the weights (`coef_`) of each model is not suitable in all scenarios. Create a `combine` function to be able to abstract this.\n",
    "   - Same goes for `intercept_`.\n",
    "\n",
    "Note1: This cell is re-runnable.\n",
    "\n",
    "Note2: Open the *Dashboard* in *Status* and run the cell to see that the approach is indeed distributed."
   ]
  },
  {
   "cell_type": "code",
   "execution_count": 22,
   "id": "2feef9d7",
   "metadata": {},
   "outputs": [
    {
     "name": "stdout",
     "output_type": "stream",
     "text": [
      "CPU times: total: 32.7 s\n",
      "Wall time: 27.6 s\n"
     ]
    }
   ],
   "source": [
    "%%time\n",
    "from dask.distributed import fire_and_forget\n",
    "\n",
    "# kwargs for our models\n",
    "kwargs = {'C':1e-06, 'loss':'squared_hinge'}\n",
    "\n",
    "# Our global model\n",
    "global_model = PassiveAggressiveClassifier(**kwargs)\n",
    "global_model.classes_ = classes\n",
    "\n",
    "        \n",
    "def worker_initialize_model(dask_worker, model_name, classes, n_features, **kwargs):\n",
    "    \"\"\" Used by Client.run to initialize models inside each worker\n",
    "    \n",
    "    :param dask_worker: This variable will be populated with the worker itself.\n",
    "    :params: See CustomWorker.initialize_model\n",
    "    \"\"\"\n",
    "    dask_worker.initialize_model(model_name, classes, n_features, **kwargs)\n",
    "    \n",
    "    \n",
    "def worker_synchronize_with_global_model(dask_worker, global_model_coef, global_model_intercept):\n",
    "    \"\"\" Synchronize worker with the global model. (coef_ , intercept_) \"\"\"\n",
    "    dask_worker.set_model_coef(global_model_coef)\n",
    "    dask_worker.set_model_intercept(global_model_intercept)\n",
    "\n",
    "    \n",
    "def worker_batch_train(X_batch, y_batch):\n",
    "    \"\"\" Train worker's model with this batch -> (X_batch, y_batch) \n",
    "    Warning: X_batch, y_batch are futures, not realized in memory yet.\n",
    "    \"\"\"\n",
    "    # The worker on which this task is running\n",
    "    worker = get_worker()\n",
    "    \n",
    "    # Trigger the computation of the future objects: worker (us) gets the results in-memory\n",
    "    X_train = X_batch.compute()\n",
    "    y_train = y_batch.compute()\n",
    "    \n",
    "    # Train my model\n",
    "    worker.model_partial_fit(X_train, y_train)\n",
    "    \n",
    "    # IMPORTANT: Free .compute data from worker's memory\n",
    "    del X_train, y_train\n",
    "\n",
    "\n",
    "def worker_get_current_model(dask_worker):\n",
    "    \"\"\" returns (coef_ , intercept_) from worker \n",
    "    \n",
    "    :param dask_worker: This variable will be populated with the worker itself. (.run)\n",
    "    \"\"\"\n",
    "    return dask_worker.get_model_coef(), dask_worker.get_model_intercept()\n",
    "\n",
    "\n",
    "def worker_addr_generator():\n",
    "    \"\"\" Simple generator to yield the address of each worker in a cyclic fashion (forever) \"\"\"\n",
    "    while True:\n",
    "        for worker_addr in client.scheduler_info()['workers']:\n",
    "            yield worker_addr\n",
    "\n",
    "\n",
    "def round_terminates(batch_count):\n",
    "    \"\"\" Dummy logic for round termination. To-be extended \"\"\"\n",
    "    if batch_count % 50 == 0:\n",
    "        return True\n",
    "    return False\n",
    "\n",
    "\n",
    "def gather_and_combine_worker_models():\n",
    "    \"\"\" Gathers all coef_ and intercept_ from workers, \n",
    "    combines them and returns their mean in global_coef, global_intercept\n",
    "    \"\"\"\n",
    "    \n",
    "    # Gather all the worker's coef_ , intercept_\n",
    "    result = client.run(worker_get_current_model)\n",
    "\n",
    "    workers_coefs = []\n",
    "    workers_intercepts = []\n",
    "\n",
    "    for _, (worker_coef, worker_intercept) in result.items():\n",
    "        workers_coefs.append(worker_coef)\n",
    "        workers_intercepts.append(worker_intercept)\n",
    "\n",
    "    # Combine all the worker's coefficients\n",
    "    global_coef = np.mean(workers_coefs, axis=0)\n",
    "\n",
    "    # Combine all the worker's intercepts\n",
    "    global_intercept = np.mean(workers_intercepts, axis=0)\n",
    "    \n",
    "    del result, workers_coefs, workers_intercepts\n",
    "    \n",
    "    return global_coef, global_intercept\n",
    "    \n",
    "\n",
    "# Initialize models of Workers\n",
    "\n",
    "# This calls worker_initialize_model on all currently known workers immediately, blocks until results come back\n",
    "_ = client.run(\n",
    "    worker_initialize_model,\n",
    "    model_name=\"PassiveAggressiveClassifier\",\n",
    "    classes=classes,\n",
    "    n_features=d,\n",
    "    **kwargs\n",
    ")\n",
    "\n",
    "\n",
    "# Start rounds\n",
    "\n",
    "batch_count, round_count = 0, 0\n",
    "\n",
    "for X_batch, y_batch, worker_addr in zip(X_batches, y_batches, worker_addr_generator()):\n",
    "    \n",
    "    # See after the code for specific comment about this\n",
    "    # 'Send' data (!not data itself!, but a future) to the worker with address 'worker_addr'\n",
    "    X_batch_scattered = client.scatter(X_batch, workers=worker_addr)\n",
    "    y_batch_scattered = client.scatter(y_batch, workers=worker_addr)\n",
    "\n",
    "    future = client.submit(\n",
    "        worker_batch_train,\n",
    "        X_batch=X_batch_scattered,\n",
    "        y_batch=y_batch_scattered,\n",
    "        workers=worker_addr\n",
    "    )\n",
    "    \n",
    "    fire_and_forget(future)\n",
    "    \n",
    "    batch_count += 1\n",
    "    \n",
    "    # already sent to scheduler, free up memory\n",
    "    del future, X_batch_scattered, y_batch_scattered\n",
    "    \n",
    "    if round_terminates(batch_count):\n",
    "        \n",
    "        # Combine all worker's models and synchronize the global model\n",
    "        global_model.coef_, global_model.intercept_ = gather_and_combine_worker_models()\n",
    "\n",
    "        # Synchronize the workers with the global model, blocks until finished\n",
    "        future = client.run(\n",
    "            worker_synchronize_with_global_model,\n",
    "            global_model_coef=global_model.coef_,\n",
    "            global_model_intercept=global_model.intercept_,\n",
    "        )\n",
    "\n",
    "        round_count += 1\n",
    "        \n",
    "        del future\n",
    "\n",
    "\n",
    "# Synchronize the global model one last time (we don't synchronize the workers again just for simplicity)\n",
    "global_model.coef_, global_model.intercept_ = gather_and_combine_worker_models()"
   ]
  },
  {
   "cell_type": "code",
   "execution_count": 23,
   "id": "e4f8d14b",
   "metadata": {},
   "outputs": [
    {
     "data": {
      "text/plain": [
       "245"
      ]
     },
     "execution_count": 23,
     "metadata": {},
     "output_type": "execute_result"
    }
   ],
   "source": [
    "batch_count"
   ]
  },
  {
   "cell_type": "code",
   "execution_count": 24,
   "id": "8f167ad4",
   "metadata": {},
   "outputs": [
    {
     "data": {
      "text/plain": [
       "4"
      ]
     },
     "execution_count": 24,
     "metadata": {},
     "output_type": "execute_result"
    }
   ],
   "source": [
    "round_count"
   ]
  },
  {
   "cell_type": "markdown",
   "id": "50b31c83",
   "metadata": {},
   "source": [
    "Usually:\n",
    "\n",
    "`future = client.submit(func, big_data)  # bad`\n",
    "\n",
    "`big_future = client.scatter(big_data)  # good`\n",
    "\n",
    "`future = client.submit(func, big_future)  # good`\n",
    "\n",
    "Also (see https://docs.dask.org/en/stable/futures.html):\n",
    "\n",
    "'Dask will only compute and hold onto results for which there are active futures. In this way, your local variables define what is active in Dask. When a future is garbage collected by your local Python session, Dask will feel free to delete that data or stop ongoing computations that were trying to produce it.' "
   ]
  },
  {
   "cell_type": "markdown",
   "id": "26edda0c",
   "metadata": {},
   "source": [
    "### Accuracy test"
   ]
  },
  {
   "cell_type": "code",
   "execution_count": 25,
   "id": "b32831e4",
   "metadata": {},
   "outputs": [
    {
     "data": {
      "text/plain": [
       "0.8995983935742972"
      ]
     },
     "execution_count": 25,
     "metadata": {},
     "output_type": "execute_result"
    }
   ],
   "source": [
    "from sklearn.metrics import accuracy_score\n",
    "\n",
    "X_test_computed = X_test.compute()\n",
    "y_test_computed = y_test.compute()\n",
    "\n",
    "y_pred = global_model.predict(X_test_computed)\n",
    "accuracy_score(y_test_computed, y_pred)"
   ]
  },
  {
   "cell_type": "code",
   "execution_count": 26,
   "id": "caebb167",
   "metadata": {},
   "outputs": [],
   "source": [
    "del y_test_computed\n",
    "del X_test_computed"
   ]
  },
  {
   "cell_type": "markdown",
   "id": "e65a24b2",
   "metadata": {},
   "source": [
    "## 5️⃣ Online cont..."
   ]
  },
  {
   "cell_type": "markdown",
   "id": "038a52f0",
   "metadata": {},
   "source": [
    "### Stop Cluster/Client"
   ]
  },
  {
   "cell_type": "code",
   "execution_count": 27,
   "id": "54f5bb7a",
   "metadata": {},
   "outputs": [],
   "source": [
    "# Close Cluster/Client\n",
    "client.close()\n",
    "cluster.close()"
   ]
  },
  {
   "cell_type": "code",
   "execution_count": null,
   "id": "5f47e5f8",
   "metadata": {},
   "outputs": [],
   "source": []
  }
 ],
 "metadata": {
  "kernelspec": {
   "display_name": "Python [conda env:dask-tf-210] *",
   "language": "python",
   "name": "conda-env-dask-tf-210-py"
  },
  "language_info": {
   "codemirror_mode": {
    "name": "ipython",
    "version": 3
   },
   "file_extension": ".py",
   "mimetype": "text/x-python",
   "name": "python",
   "nbconvert_exporter": "python",
   "pygments_lexer": "ipython3",
   "version": "3.9.16"
  }
 },
 "nbformat": 4,
 "nbformat_minor": 5
}
