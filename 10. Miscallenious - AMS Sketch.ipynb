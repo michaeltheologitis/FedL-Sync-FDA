{
 "cells": [
  {
   "cell_type": "code",
   "execution_count": 1,
   "id": "32f7323a",
   "metadata": {},
   "outputs": [],
   "source": [
    "import math\n",
    "import struct\n",
    "import random\n"
   ]
  },
  {
   "cell_type": "code",
   "execution_count": 2,
   "id": "9c4e06ca",
   "metadata": {},
   "outputs": [],
   "source": [
    "def float_to_int_bits(f):\n",
    "    \"\"\"Convert a floating-point number to its bit representation as an integer.\"\"\"\n",
    "    return int.from_bytes(bytearray(struct.pack('>f', f)), byteorder='big')"
   ]
  },
  {
   "cell_type": "markdown",
   "id": "f74bfce3",
   "metadata": {},
   "source": [
    "# h"
   ]
  },
  {
   "cell_type": "code",
   "execution_count": 3,
   "id": "87bebf57",
   "metadata": {},
   "outputs": [],
   "source": [
    "def h(value, t, a, b):\n",
    "    \"\"\"Hash function for float numbers that maps uniformly to the range {1, 2, ..., t}.\"\"\"\n",
    "    \n",
    "    int_value = float_to_int_bits(value)\n",
    "    \n",
    "    hashed_value = (a * int_value + b) % t \n",
    "\n",
    "    return hashed_value"
   ]
  },
  {
   "cell_type": "markdown",
   "id": "a8bf7ec5",
   "metadata": {},
   "source": [
    "# g"
   ]
  },
  {
   "cell_type": "code",
   "execution_count": 4,
   "id": "7c5bdcc5",
   "metadata": {},
   "outputs": [],
   "source": [
    "def g(value, p, a, b, c, d):\n",
    "    \"\"\"Polynomial hash function for float numbers that maps uniformly to {-1, +1}.\"\"\"\n",
    "\n",
    "    int_value = float_to_int_bits(value)\n",
    "\n",
    "    result = (\n",
    "        a * pow(int_value, 3, p) + b * pow(int_value, 2, p) + c * int_value + d\n",
    "    ) % p\n",
    "    return 2 * (result % 2) - 1"
   ]
  },
  {
   "cell_type": "code",
   "execution_count": 12,
   "id": "dc4562ba",
   "metadata": {},
   "outputs": [],
   "source": [
    "\n",
    "def ams_sketch(vector, t, d):\n",
    "    # d rows of length t\n",
    "    sketch = [[0 for _ in range(t)] for _ in range(d)]\n",
    "    \n",
    "    hash_funcs = []\n",
    "    p = 70379 # one p for all g hash funcs\n",
    "    \n",
    "    # create d (h, g) hash function pairs.\n",
    "    for _ in range(d):\n",
    "        a_h = random.randint(1, 2 ** 32 - 1)\n",
    "        b_h = random.randint(0, 2 ** 32 - 1)\n",
    "        \n",
    "        a_g = random.randint(1, p - 1)\n",
    "        b_g = random.randint(1, p - 1)\n",
    "        c_g = random.randint(1, p - 1)\n",
    "        d_g = random.randint(1, p - 1)\n",
    "               \n",
    "        hash_funcs.append((\n",
    "            lambda value: h(value, t, a_h, b_h), \n",
    "            lambda value: g(value, p, a_g, b_g, c_g, d_g)\n",
    "        ))\n",
    "    \n",
    "    \n",
    "    for v_i in vector:\n",
    "        for i, (h_hash, g_hash) in enumerate(hash_funcs): # for each hash row\n",
    "            sketch[i][h_hash(v_i)] += g_hash(v_i) * v_i\n",
    "    \n",
    "    return sketch, hash_funcs"
   ]
  },
  {
   "cell_type": "code",
   "execution_count": 13,
   "id": "083f2966",
   "metadata": {},
   "outputs": [
    {
     "name": "stdout",
     "output_type": "stream",
     "text": [
      "20829\n",
      "11845\n",
      "2609\n",
      "13724\n"
     ]
    }
   ],
   "source": [
    "sketch, hash_funcs = ams_sketch([0.3, 0.4, 0.5, 1.11], 10, 4)"
   ]
  },
  {
   "cell_type": "code",
   "execution_count": 14,
   "id": "825e8a49",
   "metadata": {},
   "outputs": [
    {
     "ename": "TypeError",
     "evalue": "'function' object is not subscriptable",
     "output_type": "error",
     "traceback": [
      "\u001b[0;31m---------------------------------------------------------------------------\u001b[0m",
      "\u001b[0;31mTypeError\u001b[0m                                 Traceback (most recent call last)",
      "Cell \u001b[0;32mIn[14], line 2\u001b[0m\n\u001b[1;32m      1\u001b[0m \u001b[38;5;28;01mfor\u001b[39;00m i, (h_hash, g_hash) \u001b[38;5;129;01min\u001b[39;00m \u001b[38;5;28menumerate\u001b[39m(hash_funcs): \u001b[38;5;66;03m# for each hash row\u001b[39;00m\n\u001b[0;32m----> 2\u001b[0m     \u001b[38;5;28mprint\u001b[39m(\u001b[43mh_hash\u001b[49m\u001b[43m[\u001b[49m\u001b[43mi\u001b[49m\u001b[38;5;241;43m*\u001b[39;49m\u001b[38;5;241;43m0.3\u001b[39;49m\u001b[43m]\u001b[49m)\n",
      "\u001b[0;31mTypeError\u001b[0m: 'function' object is not subscriptable"
     ]
    }
   ],
   "source": [
    "for i, (h_hash, g_hash) in enumerate(hash_funcs): # for each hash row\n",
    "    print(h_hash[i*0.3])"
   ]
  },
  {
   "cell_type": "markdown",
   "id": "0bd42806",
   "metadata": {},
   "source": [
    "# VSAM"
   ]
  },
  {
   "cell_type": "code",
   "execution_count": null,
   "id": "bfa151d3",
   "metadata": {},
   "outputs": [],
   "source": []
  },
  {
   "cell_type": "code",
   "execution_count": 180,
   "id": "25f4b194",
   "metadata": {},
   "outputs": [
    {
     "name": "stdout",
     "output_type": "stream",
     "text": [
      "Accuracy: 0.10327955589886445\n",
      "Error: 0.0086104513064133, True Inner Product: 10104, Estimated Inner Product: 10017.0\n"
     ]
    }
   ],
   "source": [
    "# refactor\n",
    "\n",
    "from math import sqrt\n",
    "import numpy as np\n",
    "from collections import Counter as sparse\n",
    "\n",
    "\n",
    "class hash_family:\n",
    "    def __init__(self, depth):\n",
    "        # number of hash functions\n",
    "        self.depth = depth\n",
    "        \n",
    "        # F[0] : a1 , F[1] : b1 , F[2] : a1 , F[3] : b1 , F[4] : a3 , F[5] : b3 \n",
    "        self.F = np.random.randint(0, 1 << 63 - 1, size=(6, depth), dtype=np.int64)\n",
    "\n",
    "    @staticmethod\n",
    "    def hash31(a, b, x):\n",
    "        r = a * x + b\n",
    "        \n",
    "        # int divide by 2^31 (Shift 31) + combine higher order bits with lower\n",
    "        fold = ((r >> 31) ^ r)\n",
    "        \n",
    "        # 2147483647 = 0111...1\n",
    "        return fold & 2147483647\n",
    "\n",
    "    def hash(self, x):\n",
    "        F = self.F\n",
    "        return self.hash31(F[0], F[1], x)\n",
    "\n",
    "    def fourwise(self, x):\n",
    "        F = self.F\n",
    "        return 2*(((self.hash31(self.hash31(self.hash31(x,F[2],F[3]),x,F[4]),x,F[5])) & 32768)>>15)-1\n",
    "\n",
    "class sketch:\n",
    "    def __init__(self, width, depth, hf):\n",
    "        self.width = width\n",
    "        self.depth = depth\n",
    "        self.hf = hf\n",
    "        self.vec = np.zeros((depth, width))\n",
    "\n",
    "    def update(self, key, freq=1):\n",
    "        pos = self.hf.hash(key) % self.width\n",
    "        delta = self.hf.fourwise(key) * freq\n",
    "        self.vec[range(self.depth), pos] += delta\n",
    "\n",
    "    def inner(self, other):\n",
    "        return np.median(np.einsum('ij,ij->i', self.vec, other.vec))\n",
    "\n",
    "\n",
    "def make_stream(nkeys, length):\n",
    "    return np.random.randint(nkeys, size=length)\n",
    "\n",
    "\n",
    "def make_sparse(S):\n",
    "    return sparse(S)\n",
    "\n",
    "\n",
    "def sparse_inner(s1, s2):\n",
    "    return sum(s1[k] * s2[k] for k in s1 if k in s2)\n",
    "\n",
    "\n",
    "def create_sketch(width, depth, hf, sp):\n",
    "    sk = sketch(width, depth, hf)\n",
    "    for x in sp:\n",
    "        sk.update(x, sp[x])\n",
    "    return sk\n",
    "\n",
    "\n",
    "def test_sketch_accuracy():\n",
    "    width = 1500\n",
    "    depth = 7\n",
    "\n",
    "    S1 = make_stream(10000, 10000)\n",
    "    S2 = make_stream(10000, 10000)\n",
    "\n",
    "    sp1 = make_sparse(S1)\n",
    "    sp2 = make_sparse(S2)\n",
    "\n",
    "    hf = hash_family(depth)\n",
    "    sk1 = create_sketch(width, depth, hf, sp1)\n",
    "    sk2 = create_sketch(width, depth, hf, sp2)\n",
    "\n",
    "    inner_product_true = sparse_inner(sp1, sp2)\n",
    "    inner_product_estimated = sk1.inner(sk2)\n",
    "\n",
    "    error = abs((inner_product_true - inner_product_estimated) / inner_product_true)\n",
    "    accuracy = 4 / np.sqrt(width)\n",
    "    \n",
    "    print(f\"Accuracy: {accuracy}\")\n",
    "    print(f\"Error: {error}, True Inner Product: {inner_product_true}, Estimated Inner Product: {inner_product_estimated}\")\n",
    "    assert error < accuracy, \"Accuracy not sufficient\"\n",
    "    \n",
    "\n",
    "\n",
    "test_sketch_accuracy()"
   ]
  },
  {
   "cell_type": "code",
   "execution_count": null,
   "id": "df77600b",
   "metadata": {},
   "outputs": [],
   "source": []
  },
  {
   "cell_type": "code",
   "execution_count": null,
   "id": "02035690",
   "metadata": {},
   "outputs": [],
   "source": []
  },
  {
   "cell_type": "code",
   "execution_count": null,
   "id": "b7414bc4",
   "metadata": {},
   "outputs": [],
   "source": []
  },
  {
   "cell_type": "code",
   "execution_count": null,
   "id": "2f9dfb3c",
   "metadata": {},
   "outputs": [],
   "source": []
  },
  {
   "cell_type": "code",
   "execution_count": null,
   "id": "4176c788",
   "metadata": {},
   "outputs": [],
   "source": []
  },
  {
   "cell_type": "code",
   "execution_count": null,
   "id": "333f444f",
   "metadata": {},
   "outputs": [],
   "source": []
  },
  {
   "cell_type": "code",
   "execution_count": null,
   "id": "9461d975",
   "metadata": {},
   "outputs": [],
   "source": []
  },
  {
   "cell_type": "code",
   "execution_count": 198,
   "id": "7b7ed0a7",
   "metadata": {},
   "outputs": [
    {
     "name": "stdout",
     "output_type": "stream",
     "text": [
      "Accuracy: 0.10327955589886445\n",
      "Error: 0.006632860733486576, True Inner Product: 319.988024655266, Estimated Inner Product: 317.8655886513441\n"
     ]
    }
   ],
   "source": [
    "def create_sketch_for_vector(width, depth, hf, v):\n",
    "    sk = sketch(width, depth, hf)\n",
    "    for i, x in enumerate(v):\n",
    "        sk.update(i, x)\n",
    "    return sk\n",
    "\n",
    "\n",
    "width = 1500\n",
    "depth = 7\n",
    "\n",
    "#v = make_stream(10000, 5000)\n",
    "v = np.random.rand(1000) # rand vector 0..1 \n",
    "\n",
    "hf = hash_family(depth)\n",
    "sk = create_sketch_for_vector(width, depth, hf, v)\n",
    "\n",
    "inner_product_true = np.inner(v, v)\n",
    "inner_product_estimated = sk.inner(sk)\n",
    "\n",
    "error = abs((inner_product_true - inner_product_estimated) / inner_product_true)\n",
    "accuracy = 4 / np.sqrt(width)\n",
    "\n",
    "print(f\"Accuracy: {accuracy}\")\n",
    "print(f\"Error: {error}, True Inner Product: {inner_product_true}, Estimated Inner Product: {inner_product_estimated}\")\n",
    "assert error < accuracy, \"Accuracy not sufficient\""
   ]
  },
  {
   "cell_type": "code",
   "execution_count": 187,
   "id": "cf0df6cd",
   "metadata": {},
   "outputs": [
    {
     "data": {
      "text/plain": [
       "array([8])"
      ]
     },
     "execution_count": 187,
     "metadata": {},
     "output_type": "execute_result"
    }
   ],
   "source": [
    "v"
   ]
  },
  {
   "cell_type": "code",
   "execution_count": 186,
   "id": "aaf9993e",
   "metadata": {},
   "outputs": [
    {
     "data": {
      "text/plain": [
       "array([[ 0.,  0.,  0.,  0.,  0.,  1.,  0.,  0.,  0.,  0.,  0.,  0.,  0.,\n",
       "         0.,  0.],\n",
       "       [ 0.,  0.,  0.,  0.,  1.,  0.,  0.,  0.,  0.,  0.,  0.,  0.,  0.,\n",
       "         0.,  0.],\n",
       "       [ 0.,  0.,  0.,  0., -1.,  0.,  0.,  0.,  0.,  0.,  0.,  0.,  0.,\n",
       "         0.,  0.],\n",
       "       [ 0.,  0.,  0.,  0.,  0.,  0.,  0.,  0.,  0.,  0.,  0.,  0.,  0.,\n",
       "         0., -1.],\n",
       "       [ 0.,  0.,  0.,  0.,  0.,  0.,  0.,  0.,  0.,  0.,  0.,  0.,  0.,\n",
       "         1.,  0.],\n",
       "       [ 0.,  0.,  0.,  0.,  0.,  0.,  0.,  1.,  0.,  0.,  0.,  0.,  0.,\n",
       "         0.,  0.],\n",
       "       [ 0.,  0.,  0.,  0.,  0.,  0.,  0.,  0.,  0.,  0., -1.,  0.,  0.,\n",
       "         0.,  0.]])"
      ]
     },
     "execution_count": 186,
     "metadata": {},
     "output_type": "execute_result"
    }
   ],
   "source": [
    "sk.vec"
   ]
  },
  {
   "cell_type": "code",
   "execution_count": 176,
   "id": "e36cabbb",
   "metadata": {},
   "outputs": [
    {
     "data": {
      "text/plain": [
       "54213769"
      ]
     },
     "execution_count": 176,
     "metadata": {},
     "output_type": "execute_result"
    }
   ],
   "source": [
    "v = make_stream(10000, 1)\n",
    "np.inner(v, v)"
   ]
  },
  {
   "cell_type": "code",
   "execution_count": 179,
   "id": "ee0c9ffa",
   "metadata": {},
   "outputs": [
    {
     "data": {
      "text/plain": [
       "54213769"
      ]
     },
     "execution_count": 179,
     "metadata": {},
     "output_type": "execute_result"
    }
   ],
   "source": [
    "np.inner(v, v)"
   ]
  },
  {
   "cell_type": "code",
   "execution_count": 193,
   "id": "12242696",
   "metadata": {},
   "outputs": [],
   "source": [
    "random_vector = np.random.rand(10)"
   ]
  },
  {
   "cell_type": "code",
   "execution_count": 194,
   "id": "f3a8d806",
   "metadata": {},
   "outputs": [
    {
     "data": {
      "text/plain": [
       "array([0.44613459, 0.85034146, 0.13618654, 0.11335239, 0.50935281,\n",
       "       0.66621787, 0.377427  , 0.85301939, 0.66664649, 0.76869197])"
      ]
     },
     "execution_count": 194,
     "metadata": {},
     "output_type": "execute_result"
    }
   ],
   "source": [
    "random_vector"
   ]
  },
  {
   "cell_type": "code",
   "execution_count": null,
   "id": "5cb9b3d1",
   "metadata": {},
   "outputs": [],
   "source": []
  }
 ],
 "metadata": {
  "kernelspec": {
   "display_name": "Python [conda env:tff-py39] *",
   "language": "python",
   "name": "conda-env-tff-py39-py"
  },
  "language_info": {
   "codemirror_mode": {
    "name": "ipython",
    "version": 3
   },
   "file_extension": ".py",
   "mimetype": "text/x-python",
   "name": "python",
   "nbconvert_exporter": "python",
   "pygments_lexer": "ipython3",
   "version": "3.9.16"
  }
 },
 "nbformat": 4,
 "nbformat_minor": 5
}
