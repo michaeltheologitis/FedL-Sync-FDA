{
 "cells": [
  {
   "cell_type": "code",
   "execution_count": 27,
   "id": "3435dbe5-a9eb-4573-98a2-2194e15e82bb",
   "metadata": {
    "tags": []
   },
   "outputs": [],
   "source": [
    "import itertools\n",
    "\n",
    "start_test_id = 10\n",
    "\n",
    "\n",
    "epochs = 25\n",
    "bench_test = False\n",
    "# Define the parameter values\n",
    "params = {\n",
    "    \"num_clients\": [5, 10],\n",
    "    \"batch_size\": [32, 64],\n",
    "    \"theta\": [3., 4.],\n",
    "    \"rtc_steps\": [1]\n",
    "}\n",
    "\n",
    "combinations = [\n",
    "    dict(zip(params.keys(), values)) \n",
    "    for values in itertools.product(*params.values())\n",
    "]"
   ]
  },
  {
   "cell_type": "code",
   "execution_count": 28,
   "id": "82dc07b2-735e-4bcf-91dc-9dde8dec8281",
   "metadata": {
    "tags": []
   },
   "outputs": [],
   "source": [
    "import json\n",
    "\n",
    "for i, combination in enumerate(combinations):\n",
    "    combination[\"test_id\"] = i + start_test_id\n",
    "    combination[\"bench_test\"] = bench_test\n",
    "    combination[\"epochs\"] = epochs\n",
    "    \n",
    "with open(f'combinations.json', 'w') as f:\n",
    "    json.dump(combinations, f)"
   ]
  },
  {
   "cell_type": "code",
   "execution_count": 29,
   "id": "56a7f017-ad5c-4511-b6f4-91a8dcf340f9",
   "metadata": {
    "tags": []
   },
   "outputs": [],
   "source": [
    "import json\n",
    "\n",
    "with open('combinations.json', 'r') as f:\n",
    "    X = json.load(f)"
   ]
  },
  {
   "cell_type": "code",
   "execution_count": 33,
   "id": "c1a6f087-65c8-4e79-8c9b-236f35c793ac",
   "metadata": {},
   "outputs": [
    {
     "data": {
      "text/plain": [
       "0"
      ]
     },
     "execution_count": 33,
     "metadata": {},
     "output_type": "execute_result"
    }
   ],
   "source": [
    "6 % 2"
   ]
  },
  {
   "cell_type": "code",
   "execution_count": null,
   "id": "39a7d633-5680-4a95-9a73-53c0083c4b48",
   "metadata": {},
   "outputs": [],
   "source": []
  }
 ],
 "metadata": {
  "kernelspec": {
   "display_name": "Python [conda env:tf-2.12]",
   "language": "python",
   "name": "conda-env-tf-2.12-py"
  },
  "language_info": {
   "codemirror_mode": {
    "name": "ipython",
    "version": 3
   },
   "file_extension": ".py",
   "mimetype": "text/x-python",
   "name": "python",
   "nbconvert_exporter": "python",
   "pygments_lexer": "ipython3",
   "version": "3.9.16"
  }
 },
 "nbformat": 4,
 "nbformat_minor": 5
}
